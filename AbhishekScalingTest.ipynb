{
 "cells": [
  {
   "cell_type": "code",
   "execution_count": 1,
   "id": "bc1bf2c3",
   "metadata": {},
   "outputs": [
    {
     "name": "stderr",
     "output_type": "stream",
     "text": [
      "<frozen importlib._bootstrap>:219: RuntimeWarning: scipy._lib.messagestream.MessageStream size changed, may indicate binary incompatibility. Expected 56 from C header, got 64 from PyObject\n"
     ]
    }
   ],
   "source": [
    "import h5py\n",
    "import numpy as np\n",
    "import random\n",
    "from sklearn.preprocessing import StandardScaler\n",
    "import matplotlib.pyplot as plt\n",
    "import torch"
   ]
  },
  {
   "cell_type": "code",
   "execution_count": 2,
   "id": "4332ee27",
   "metadata": {},
   "outputs": [],
   "source": [
    "pions1 = h5py.File('/fast_scratch/QVAE/data/atlas/pions1.hdf5','r')\n",
    "photons1 = h5py.File('/fast_scratch/QVAE/data/atlas/photons1.hdf5','r')\n",
    "photons2 = h5py.File('/fast_scratch/QVAE/data/atlas/photons2.hdf5','r')"
   ]
  },
  {
   "cell_type": "code",
   "execution_count": 3,
   "id": "ff92f22e",
   "metadata": {},
   "outputs": [],
   "source": [
    "pions1_voxels = torch.tensor(pions1[\"voxels\"][:])\n",
    "pi_true_energy = torch.tensor(pions1[\"energy\"][:])\n",
    "energy_list = torch.unique(pi_true_energy)"
   ]
  },
  {
   "cell_type": "code",
   "execution_count": 57,
   "id": "881bdbf6",
   "metadata": {},
   "outputs": [],
   "source": [
    "pion_layers = np.array([0, 8, 108, 208, 213, 363, 523, 533])\n",
    "photon_layers = torch.tensor([0, 8, 168, 358, 363, 368])\n",
    "pion_lower_lim = pion_layers[0:-1]\n",
    "pion_upper_lim = pion_layers[1:]\n",
    "photon_upper_lim = photon_layers[1:]\n",
    "photon_lower_lim = photon_layers[0:-1]\n",
    "\n",
    "def Get_Sparsity(dataset, lower_lim, upper_lim, layers):\n",
    "\n",
    "    #layers_sparsities = np.zeros((pions1_voxels.shape[0], len(pion_layers)-1), dtype=np.float32)\n",
    "    layer_datasets = [dataset[0][start_idx:end_idx] for start_idx, end_idx in zip(lower_lim, upper_lim)]\n",
    "    layer_sp = [abs(np.count_nonzero(layer_dataset)/layer_dataset.shape[0]-1) for layer_dataset in layer_datasets]\n",
    "    data_sparsities = torch.tensor(layer_sp)\n",
    "\n",
    "    for i in range(1, dataset.shape[0]): #looping over all events\n",
    "        layer_datasets = [dataset[i][start_idx:end_idx] for start_idx, end_idx in zip(pion_lower_lim, pion_upper_lim)]\n",
    "        layer_sp = [abs(np.count_nonzero(layer_dataset)/layer_dataset.shape[0]-1) for layer_dataset in layer_datasets]\n",
    "        data_sparsities = torch.cat((data_sparsities, torch.tensor(layer_sp)), dim=0)\n",
    "\n",
    "    data_sparsities = data_sparsities.reshape(pions1_voxels.shape[0], len(layers)-1)\n",
    "    return data_sparsities"
   ]
  },
  {
   "cell_type": "code",
   "execution_count": 5,
   "id": "1e3d003c",
   "metadata": {},
   "outputs": [],
   "source": [
    "unique_energies = np.array([2.5600e+02, 5.1200e+02, 1.0240e+03, 2.0480e+03, 4.0960e+03, 8.1920e+03,\n",
    "        1.6384e+04, 3.2768e+04, 6.5536e+04, 1.3107e+05, 2.6214e+05, 5.2429e+05,\n",
    "        1.0486e+06, 2.0972e+06, 4.1943e+06])\n",
    "def Get_Unique_Energy_Events(pions1_voxels, unique_energy):\n",
    "    unique_energy_tensor = torch.tensor([])\n",
    "    dataset = pions1_voxels\n",
    "    for i in range(pi_true_energy.shape[0]):\n",
    "        if pi_true_energy[i] == unique_energy:\n",
    "            unique_energy_tensor = torch.cat((unique_energy_tensor, dataset[i,:].unsqueeze(0)), dim=0)\n",
    "    print(unique_energy_tensor.shape, unique_energy)\n",
    "    return unique_energy_tensor"
   ]
  },
  {
   "cell_type": "code",
   "execution_count": 6,
   "id": "cfe873be",
   "metadata": {},
   "outputs": [
    {
     "name": "stdout",
     "output_type": "stream",
     "text": [
      "torch.Size([10000, 533]) tensor(256., dtype=torch.float64)\n",
      "torch.Size([10000, 533]) tensor(512., dtype=torch.float64)\n",
      "torch.Size([10000, 533]) tensor(1024., dtype=torch.float64)\n",
      "torch.Size([10000, 533]) tensor(2048., dtype=torch.float64)\n",
      "torch.Size([10000, 533]) tensor(4096., dtype=torch.float64)\n",
      "torch.Size([10000, 533]) tensor(8192., dtype=torch.float64)\n",
      "torch.Size([10000, 533]) tensor(16384., dtype=torch.float64)\n",
      "torch.Size([10000, 533]) tensor(32768., dtype=torch.float64)\n",
      "torch.Size([10000, 533]) tensor(65536., dtype=torch.float64)\n",
      "torch.Size([10000, 533]) tensor(131072., dtype=torch.float64)\n",
      "torch.Size([10000, 533]) tensor(262144., dtype=torch.float64)\n",
      "torch.Size([5000, 533]) tensor(524288., dtype=torch.float64)\n",
      "torch.Size([3000, 533]) tensor(1048576., dtype=torch.float64)\n",
      "torch.Size([2000, 533]) tensor(2097152., dtype=torch.float64)\n",
      "torch.Size([230, 533]) tensor(4194304., dtype=torch.float64)\n"
     ]
    }
   ],
   "source": [
    "Unique_Energies_data = [Get_Unique_Energy_Events(pions1_voxels, x) for x in energy_list]"
   ]
  },
  {
   "cell_type": "code",
   "execution_count": 58,
   "id": "af61da2f",
   "metadata": {},
   "outputs": [
    {
     "name": "stdout",
     "output_type": "stream",
     "text": [
      "torch.Size([120230, 7])\n"
     ]
    }
   ],
   "source": [
    "#Unique_sparsities = [Get_Sparsity(x, pion_lower_lim, pion_upper_lim, pion_layers) for x in Unique_Energies_data]\n",
    "All_Sparsities = Get_Sparsity(pions1_voxels, pion_lower_lim, pion_upper_lim, pion_layers)\n",
    "print(All_Sparsities.shape)"
   ]
  },
  {
   "cell_type": "code",
   "execution_count": 59,
   "id": "5c1fbf0c",
   "metadata": {},
   "outputs": [
    {
     "data": {
      "image/png": "[encoded data removed]",
      "text/plain": [
       "<Figure size 640x480 with 1 Axes>"
      ]
     },
     "metadata": {},
     "output_type": "display_data"
    }
   ],
   "source": [
    "for layer_n in [3, 5, 6]:\n",
    "    weights = np.ones_like(All_Sparsities[:,layer_n-1])/(float(All_Sparsities.shape[0]*7))\n",
    "    plt.hist(torch.log(All_Sparsities[:,layer_n-1]+1e-8), density=True, bins=100, alpha=0.8, label = f'Layer {layer_n}')\n",
    "plt.title('Histogram of all sparsities per layer in raw data')\n",
    "plt.legend()\n",
    "plt.show()"
   ]
  },
  {
   "cell_type": "markdown",
   "id": "4832d699",
   "metadata": {},
   "source": [
    "Now for sparsities of the scaled data"
   ]
  },
  {
   "cell_type": "code",
   "execution_count": 63,
   "id": "1a676bc4",
   "metadata": {},
   "outputs": [
    {
     "name": "stdout",
     "output_type": "stream",
     "text": [
      "[0, 1, 2, 3, 4, 5, 6, 7, 8, 9, 10, 11, 12, 13, 14, 15, 16, 17, 18, 19, 20, 21, 22, 23, 24, 25, 26, 27, 28, 29, 30, 31, 32, 33, 34, 35, 36, 37, 38, 39, 40, 41, 42, 43, 44, 45, 46, 47, 48, 49, 50, 51, 52, 53, 54, 55, 56, 57, 58, 59, 60, 61, 62, 63, 64, 65, 66, 67, 68, 69, 70, 71, 72, 73, 74, 75, 76, 77, 78, 79, 80, 81, 82, 83, 84, 85, 86, 87, 88, 89, 90, 91, 92, 93, 94, 95, 96, 97, 98, 99, 100, 101, 102, 103, 104, 105, 106, 107, 108, 109, 110, 111, 112, 113, 114, 115, 116, 117, 118, 119, 120, 121, 122, 123, 124, 125, 126, 127, 128, 129, 130, 131, 132, 133, 134, 135, 136, 137, 138, 139, 140, 141, 142, 143, 144, 145, 146, 147, 148, 149, 150, 151, 152, 153, 154, 155, 156, 157, 158, 159, 160, 161, 162, 163, 164, 165, 166, 167, 168, 169, 170, 171, 172, 173, 174, 175, 176, 177, 178, 179, 180, 181, 182, 183, 184, 185, 186, 187, 188, 189, 190, 191, 192, 193, 194, 195, 196, 197, 198, 199, 200, 201, 202, 203, 204, 205, 206, 207, 208, 209, 210, 211, 212, 213, 214, 215, 216, 217, 218, 219, 220, 221, 222, 223, 224, 225, 226, 227, 228, 229, 230, 231, 232, 233, 234, 235, 236, 237, 238, 239, 240, 241, 242, 243, 244, 245, 246, 247, 248, 249, 250, 251, 252, 253, 254, 255, 256, 257, 258, 259, 260, 261, 262, 263, 264, 265, 266, 267, 268, 269, 270, 271, 272, 273, 274, 275, 276, 277, 278, 279, 280, 281, 282, 283, 284, 285, 286, 287, 288, 289, 290, 291, 292, 293, 294, 295, 296, 297, 298, 299, 300, 301, 302, 303, 304, 305, 306, 307, 308, 309, 310, 311, 312, 313, 314, 315, 316, 317, 318, 319, 320, 321, 322, 323, 324, 325, 326, 327, 328, 329, 330, 331, 332, 333, 334, 335, 336, 337, 338, 339, 340, 341, 342, 343, 344, 345, 346, 347, 348, 349, 350, 351, 352, 353, 354, 355, 356, 357, 358, 359, 360, 361, 362, 363, 364, 365, 366, 367, 368, 369, 370, 371, 372, 373, 374, 375, 376, 377, 378, 379, 380, 381, 382, 383, 384, 385, 386, 387, 388, 389, 390, 391, 392, 393, 394, 395, 396, 397, 398, 399, 400, 401, 402, 403, 404, 405, 406, 407, 408, 409, 410, 411, 412, 413, 414, 415, 416, 417, 418, 419, 420, 421, 422, 423, 424, 425, 426, 427, 428, 429, 430, 431, 432, 433, 434, 435, 436, 437, 438, 439, 440, 441, 442, 443, 444, 445, 446, 447, 448, 449, 450, 451, 452, 453, 454, 455, 456, 457, 458, 459, 460, 461, 462, 463, 464, 465, 466, 467, 468, 469, 470, 471, 472, 473, 474, 475, 476, 477, 478, 479, 480, 481, 482, 483, 484, 485, 486, 487, 488, 489, 490, 491, 492, 493, 494, 495, 496, 497, 498, 499, 500, 501, 502, 503, 504, 505, 506, 507, 508, 509, 510, 511, 512, 513, 514, 515, 516, 517, 518, 519, 520, 521, 522, 523, 524, 525, 526, 527, 528, 529, 530, 531, 532, 0, 1, 2, 3, 4, 5, 6, 7, 8, 9, 10, 11, 12, 13, 14, 15, 16, 17, 18, 19, 20, 21, 22, 23, 24, 25, 26, 27, 28, 29, 30, 31, 32, 33, 34, 35, 36, 37, 38, 39, 40, 41, 42, 43, 44, 45, 46, 47, 48, 49, 50, 51, 52, 53, 54, 55, 56, 57, 58, 59, 60, 61, 62, 63, 64, 65, 66, 67, 68, 69, 70, 71, 72, 73, 74, 75, 76, 77, 78, 79, 80, 81, 82, 83, 84, 85, 86, 87, 88, 89, 90, 91, 92, 93, 94, 95, 96, 97, 98, 99, 100, 101, 102, 103, 104, 105, 106, 107, 108, 109, 110, 111, 112, 113, 114, 115, 116, 117, 118, 119, 120, 121, 122, 123, 124, 125, 126, 127, 128, 129, 130, 131, 132, 133, 134, 135, 136, 137, 138, 139, 140, 141, 142, 143, 144, 145, 146, 147, 148, 149, 150, 151, 152, 153, 154, 155, 156, 157, 158, 159, 160, 161, 162, 163, 164, 165, 166, 167, 168, 169, 170, 171, 172, 173, 174, 175, 176, 177, 178, 179, 180, 181, 182, 183, 184, 185, 186, 187, 188, 189, 190, 191, 192, 193, 194, 195, 196, 197, 198, 199, 200, 201, 202, 203, 204, 205, 206, 207, 208, 209, 210, 211, 212, 213, 214, 215, 216, 217, 218, 219, 220, 221, 222, 223, 224, 225, 226, 227, 228, 229, 230, 231, 232, 233, 234, 235, 236, 237, 238, 239, 240, 241, 242, 243, 244, 245, 246, 247, 248, 249, 250, 251, 252, 253, 254, 255, 256, 257, 258, 259, 260, 261, 262, 263, 264, 265, 266, 267, 268, 269, 270, 271, 272, 273, 274, 275, 276, 277, 278, 279, 280, 281, 282, 283, 284, 285, 286, 287, 288, 289, 290, 291, 292, 293, 294, 295, 296, 297, 298, 299, 300, 301, 302, 303, 304, 305, 306, 307, 308, 309, 310, 311, 312, 313, 314, 315, 316, 317, 318, 319, 320, 321, 322, 323, 324, 325, 326, 327, 328, 329, 330, 331, 332, 333, 334, 335, 336, 337, 338, 339, 340, 341, 342, 343, 344, 345, 346, 347, 348, 349, 350, 351, 352, 353, 354, 355, 356, 357, 358, 359, 360, 361, 362, 363, 364, 365, 366, 367] 901\n"
     ]
    }
   ],
   "source": [
    "hdfs = [pions1, photons1]\n",
    "nplcats = []\n",
    "nplcats_energies = []\n",
    "\n",
    "for hdf in hdfs:\n",
    "    npl0 = np.array(hdf['voxels'])\n",
    "    npl1 = np.array(hdf['energy'])\n",
    "    \n",
    "    npl0 = npl0.reshape(npl0.shape[0], -1)\n",
    "    npl1 = npl1.reshape(npl1.shape[0], -1)\n",
    "    \n",
    "    nplcats.append(np.concatenate([npl0], axis=1))\n",
    "    nplcats_energies.append(np.concatenate([npl1], axis=1))\n",
    "    \n",
    "nplcatscaled = []\n",
    "transformers = []\n",
    "arrmins = [[], [], []]\n",
    "epsilon = 1e-2\n",
    "count = 0\n",
    "j_list = []\n",
    "for i in range(len(nplcats)):\n",
    "    nparr = nplcats[i]\n",
    "    nparr = np.where(nparr > 0., nparr, np.nan)  #turn numbers =< 0 into NaN\n",
    "    transformer = StandardScaler().fit(nparr)\n",
    "    nparr = transformer.transform(nparr)\n",
    "    transformers.append(transformer)\n",
    "    \n",
    "    nparr = np.where(np.isnan(nparr), np.inf, nparr)  #turn NaN values into +inf\n",
    "    \n",
    "    for j in range(nparr.shape[1]):\n",
    "        arrmin = np.amin(nparr[:, j])   #find minimum per voxel\n",
    "        \n",
    "        if arrmin < 0 and not np.isnan(arrmin):\n",
    "            nparr[:, j] -= arrmin        # removing negative values by shifting all values up\n",
    "            nparr[:, j] += epsilon       # adding epsilon\n",
    "            arrmins[i].append(arrmin)\n",
    "            count += 1\n",
    "            j_list.append(j)\n",
    "        else:\n",
    "            arrmins[i].append(0.)\n",
    "            \n",
    "    nparr = np.where(np.isinf(nparr), 0., nparr)   #changing +inf values back to 0\n",
    "    \n",
    "    for j in range(nparr.shape[1]):\n",
    "        arrmin = np.amin(nparr[:, j])\n",
    "        if arrmin < 0:\n",
    "            print(j, arrmin)\n",
    "            \n",
    "    nplcatscaled.append(nparr)\n",
    "#print(j_list, len(j_list))"
   ]
  },
  {
   "cell_type": "code",
   "execution_count": 61,
   "id": "1d8e2a86",
   "metadata": {},
   "outputs": [
    {
     "name": "stdout",
     "output_type": "stream",
     "text": [
      "torch.Size([120230, 7])\n"
     ]
    }
   ],
   "source": [
    "All_scaled_Sparsities = Get_Sparsity(nplcatscaled[0], pion_lower_lim, pion_upper_lim, pion_layers)\n",
    "print(All_scaled_Sparsities.shape)"
   ]
  },
  {
   "cell_type": "code",
   "execution_count": 62,
   "id": "e2269658",
   "metadata": {},
   "outputs": [
    {
     "data": {
      "image/png": "[encoded data removed]",
      "text/plain": [
       "<Figure size 640x480 with 1 Axes>"
      ]
     },
     "metadata": {},
     "output_type": "display_data"
    }
   ],
   "source": [
    "#for layer_n in range(1, All_scaled_Sparsities.shape[1]):\n",
    "for layer_n in [3, 5, 6]:\n",
    "    weights = np.ones_like(All_scaled_Sparsities[:,layer_n-1])/(float(All_scaled_Sparsities.shape[0]*7))\n",
    "    plt.hist(torch.log(All_scaled_Sparsities[:,layer_n-1]+1e-8), density=True, bins=100, alpha=0.8, label = f'Layer {layer_n}')\n",
    "plt.title('Histogram of all sparsities per layer in scaled data')\n",
    "plt.legend()\n",
    "plt.show()"
   ]
  },
  {
   "cell_type": "code",
   "execution_count": 71,
   "id": "6385b92c",
   "metadata": {},
   "outputs": [],
   "source": [
    "for i in range(All_scaled_Sparsities.shape[0]):\n",
    "    check = All_scaled_Sparsities[i]-All_Sparsities[i]\n",
    "    if torch.sum(check, dim=0)>1e-6:\n",
    "        print(i)\n",
    "\n",
    "#print(All_Sparsities[2])\n",
    "#print(pions1_voxels[0])\n",
    "#print(nplcatscaled[0][0])"
   ]
  },
  {
   "cell_type": "code",
   "execution_count": 77,
   "id": "31915b71",
   "metadata": {},
   "outputs": [],
   "source": [
    "for i in range(pions1_voxels.shape[0]):\n",
    "    if np.count_nonzero(nplcatscaled[0][i]) - np.count_nonzero(pions1_voxels[i]) != 0:\n",
    "        print(\"Case\")"
   ]
  },
  {
   "cell_type": "code",
   "execution_count": null,
   "id": "640a7489",
   "metadata": {},
   "outputs": [],
   "source": []
  }
 ],
 "metadata": {
  "kernelspec": {
   "display_name": "Python 3 (ipykernel)",
   "language": "python",
   "name": "python3"
  },
  "language_info": {
   "codemirror_mode": {
    "name": "ipython",
    "version": 3
   },
   "file_extension": ".py",
   "mimetype": "text/x-python",
   "name": "python",
   "nbconvert_exporter": "python",
   "pygments_lexer": "ipython3",
   "version": "3.8.10"
  }
 },
 "nbformat": 4,
 "nbformat_minor": 5
}
