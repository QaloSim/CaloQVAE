{
 "cells": [
  {
   "cell_type": "code",
   "execution_count": 3,
   "id": "b60948cb",
   "metadata": {
    "tags": []
   },
   "outputs": [
    {
     "name": "stderr",
     "output_type": "stream",
     "text": [
      "<frozen importlib._bootstrap>:219: RuntimeWarning: scipy._lib.messagestream.MessageStream size changed, may indicate binary incompatibility. Expected 56 from C header, got 64 from PyObject\n"
     ]
    }
   ],
   "source": [
    "import h5py\n",
    "import numpy as np\n",
    "from sklearn.preprocessing import StandardScaler"
   ]
  },
  {
   "cell_type": "code",
   "execution_count": 4,
   "id": "62603a73",
   "metadata": {
    "tags": []
   },
   "outputs": [
    {
     "name": "stdout",
     "output_type": "stream",
     "text": [
      "0.24.2\n"
     ]
    }
   ],
   "source": [
    "import sklearn\n",
    "print(sklearn.__version__)"
   ]
  },
  {
   "cell_type": "code",
   "execution_count": 5,
   "id": "c1b65e7b",
   "metadata": {},
   "outputs": [],
   "source": [
    "# ef[\"layer_0\"].astype('float32')\n",
    "# type(ef[\"layer_0\"].astype('float32')[1,1,1])"
   ]
  },
  {
   "cell_type": "code",
   "execution_count": 13,
   "id": "5b5df5ae",
   "metadata": {},
   "outputs": [
    {
     "ename": "IsADirectoryError",
     "evalue": "[Errno 21] Unable to open file (file read failed: time = Mon May 27 13:50:31 2024\n, filename = '/fast_scratch/QVAE/data/atlas_dataset2and3', file descriptor = 58, errno = 21, error message = 'Is a directory', buf = 0x7ffd86bb4db8, total read size = 8, bytes this sub-read = 8, bytes actually read = 18446744073709551615, offset = 0)",
     "output_type": "error",
     "traceback": [
      "\u001b[0;31m---------------------------------------------------------------------------\u001b[0m",
      "\u001b[0;31mIsADirectoryError\u001b[0m                         Traceback (most recent call last)",
      "Cell \u001b[0;32mIn[13], line 1\u001b[0m\n\u001b[0;32m----> 1\u001b[0m ef \u001b[38;5;241m=\u001b[39m \u001b[43mh5py\u001b[49m\u001b[38;5;241;43m.\u001b[39;49m\u001b[43mFile\u001b[49m\u001b[43m(\u001b[49m\u001b[38;5;124;43m'\u001b[39;49m\u001b[38;5;124;43m/fast_scratch/QVAE/data/atlas_dataset2and3\u001b[39;49m\u001b[38;5;124;43m'\u001b[39;49m\u001b[43m,\u001b[49m\u001b[38;5;124;43m'\u001b[39;49m\u001b[38;5;124;43mr\u001b[39;49m\u001b[38;5;124;43m'\u001b[39;49m\u001b[43m)\u001b[49m\n\u001b[1;32m      2\u001b[0m gf \u001b[38;5;241m=\u001b[39m h5py\u001b[38;5;241m.\u001b[39mFile(\u001b[38;5;124m'\u001b[39m\u001b[38;5;124m/raid/javier/Datasets/CaloVAE/data/calo/gamma.hdf5\u001b[39m\u001b[38;5;124m'\u001b[39m,\u001b[38;5;124m'\u001b[39m\u001b[38;5;124mr\u001b[39m\u001b[38;5;124m'\u001b[39m)\n\u001b[1;32m      3\u001b[0m pf \u001b[38;5;241m=\u001b[39m h5py\u001b[38;5;241m.\u001b[39mFile(\u001b[38;5;124m'\u001b[39m\u001b[38;5;124m/raid/javier/Datasets/CaloVAE/data/calo/piplus.hdf5\u001b[39m\u001b[38;5;124m'\u001b[39m,\u001b[38;5;124m'\u001b[39m\u001b[38;5;124mr\u001b[39m\u001b[38;5;124m'\u001b[39m)\n",
      "File \u001b[0;32m/usr/local/lib/python3.8/dist-packages/h5py/_hl/files.py:567\u001b[0m, in \u001b[0;36mFile.__init__\u001b[0;34m(self, name, mode, driver, libver, userblock_size, swmr, rdcc_nslots, rdcc_nbytes, rdcc_w0, track_order, fs_strategy, fs_persist, fs_threshold, fs_page_size, page_buf_size, min_meta_keep, min_raw_keep, locking, alignment_threshold, alignment_interval, meta_block_size, **kwds)\u001b[0m\n\u001b[1;32m    558\u001b[0m     fapl \u001b[38;5;241m=\u001b[39m make_fapl(driver, libver, rdcc_nslots, rdcc_nbytes, rdcc_w0,\n\u001b[1;32m    559\u001b[0m                      locking, page_buf_size, min_meta_keep, min_raw_keep,\n\u001b[1;32m    560\u001b[0m                      alignment_threshold\u001b[38;5;241m=\u001b[39malignment_threshold,\n\u001b[1;32m    561\u001b[0m                      alignment_interval\u001b[38;5;241m=\u001b[39malignment_interval,\n\u001b[1;32m    562\u001b[0m                      meta_block_size\u001b[38;5;241m=\u001b[39mmeta_block_size,\n\u001b[1;32m    563\u001b[0m                      \u001b[38;5;241m*\u001b[39m\u001b[38;5;241m*\u001b[39mkwds)\n\u001b[1;32m    564\u001b[0m     fcpl \u001b[38;5;241m=\u001b[39m make_fcpl(track_order\u001b[38;5;241m=\u001b[39mtrack_order, fs_strategy\u001b[38;5;241m=\u001b[39mfs_strategy,\n\u001b[1;32m    565\u001b[0m                      fs_persist\u001b[38;5;241m=\u001b[39mfs_persist, fs_threshold\u001b[38;5;241m=\u001b[39mfs_threshold,\n\u001b[1;32m    566\u001b[0m                      fs_page_size\u001b[38;5;241m=\u001b[39mfs_page_size)\n\u001b[0;32m--> 567\u001b[0m     fid \u001b[38;5;241m=\u001b[39m \u001b[43mmake_fid\u001b[49m\u001b[43m(\u001b[49m\u001b[43mname\u001b[49m\u001b[43m,\u001b[49m\u001b[43m \u001b[49m\u001b[43mmode\u001b[49m\u001b[43m,\u001b[49m\u001b[43m \u001b[49m\u001b[43muserblock_size\u001b[49m\u001b[43m,\u001b[49m\u001b[43m \u001b[49m\u001b[43mfapl\u001b[49m\u001b[43m,\u001b[49m\u001b[43m \u001b[49m\u001b[43mfcpl\u001b[49m\u001b[43m,\u001b[49m\u001b[43m \u001b[49m\u001b[43mswmr\u001b[49m\u001b[38;5;241;43m=\u001b[39;49m\u001b[43mswmr\u001b[49m\u001b[43m)\u001b[49m\n\u001b[1;32m    569\u001b[0m \u001b[38;5;28;01mif\u001b[39;00m \u001b[38;5;28misinstance\u001b[39m(libver, \u001b[38;5;28mtuple\u001b[39m):\n\u001b[1;32m    570\u001b[0m     \u001b[38;5;28mself\u001b[39m\u001b[38;5;241m.\u001b[39m_libver \u001b[38;5;241m=\u001b[39m libver\n",
      "File \u001b[0;32m/usr/local/lib/python3.8/dist-packages/h5py/_hl/files.py:231\u001b[0m, in \u001b[0;36mmake_fid\u001b[0;34m(name, mode, userblock_size, fapl, fcpl, swmr)\u001b[0m\n\u001b[1;32m    229\u001b[0m     \u001b[38;5;28;01mif\u001b[39;00m swmr \u001b[38;5;129;01mand\u001b[39;00m swmr_support:\n\u001b[1;32m    230\u001b[0m         flags \u001b[38;5;241m|\u001b[39m\u001b[38;5;241m=\u001b[39m h5f\u001b[38;5;241m.\u001b[39mACC_SWMR_READ\n\u001b[0;32m--> 231\u001b[0m     fid \u001b[38;5;241m=\u001b[39m \u001b[43mh5f\u001b[49m\u001b[38;5;241;43m.\u001b[39;49m\u001b[43mopen\u001b[49m\u001b[43m(\u001b[49m\u001b[43mname\u001b[49m\u001b[43m,\u001b[49m\u001b[43m \u001b[49m\u001b[43mflags\u001b[49m\u001b[43m,\u001b[49m\u001b[43m \u001b[49m\u001b[43mfapl\u001b[49m\u001b[38;5;241;43m=\u001b[39;49m\u001b[43mfapl\u001b[49m\u001b[43m)\u001b[49m\n\u001b[1;32m    232\u001b[0m \u001b[38;5;28;01melif\u001b[39;00m mode \u001b[38;5;241m==\u001b[39m \u001b[38;5;124m'\u001b[39m\u001b[38;5;124mr+\u001b[39m\u001b[38;5;124m'\u001b[39m:\n\u001b[1;32m    233\u001b[0m     fid \u001b[38;5;241m=\u001b[39m h5f\u001b[38;5;241m.\u001b[39mopen(name, h5f\u001b[38;5;241m.\u001b[39mACC_RDWR, fapl\u001b[38;5;241m=\u001b[39mfapl)\n",
      "File \u001b[0;32mh5py/_objects.pyx:54\u001b[0m, in \u001b[0;36mh5py._objects.with_phil.wrapper\u001b[0;34m()\u001b[0m\n",
      "File \u001b[0;32mh5py/_objects.pyx:55\u001b[0m, in \u001b[0;36mh5py._objects.with_phil.wrapper\u001b[0;34m()\u001b[0m\n",
      "File \u001b[0;32mh5py/h5f.pyx:106\u001b[0m, in \u001b[0;36mh5py.h5f.open\u001b[0;34m()\u001b[0m\n",
      "\u001b[0;31mIsADirectoryError\u001b[0m: [Errno 21] Unable to open file (file read failed: time = Mon May 27 13:50:31 2024\n, filename = '/fast_scratch/QVAE/data/atlas_dataset2and3', file descriptor = 58, errno = 21, error message = 'Is a directory', buf = 0x7ffd86bb4db8, total read size = 8, bytes this sub-read = 8, bytes actually read = 18446744073709551615, offset = 0)"
     ]
    }
   ],
   "source": [
    "ef = h5py.File('/raid/javier/Datasets/CaloVAE/data/calo/eplus.hdf5','r')\n",
    "gf = h5py.File('/raid/javier/Datasets/CaloVAE/data/calo/gamma.hdf5','r')\n",
    "pf = h5py.File('/raid/javier/Datasets/CaloVAE/data/calo/piplus.hdf5','r')"
   ]
  },
  {
   "cell_type": "code",
   "execution_count": null,
   "id": "4cbcac34",
   "metadata": {},
   "outputs": [],
   "source": [
    "hdfs = [ef, gf, pf]\n",
    "nplcats = []\n",
    "\n",
    "for hdf in hdfs:\n",
    "    npl0 = np.array(hdf['layer_0']).astype('float32')\n",
    "    npl1 = np.array(hdf['layer_1']).astype('float32')\n",
    "    npl2 = np.array(hdf['layer_2']).astype('float32')\n",
    "    \n",
    "    npl0 = npl0.reshape(npl0.shape[0], -1)\n",
    "    npl1 = npl1.reshape(npl1.shape[0], -1)\n",
    "    npl2 = npl2.reshape(npl2.shape[0], -1)\n",
    "    \n",
    "    nplcats.append(np.concatenate([npl0, npl1, npl2], axis=1))"
   ]
  },
  {
   "cell_type": "raw",
   "id": "f05c2ff1",
   "metadata": {},
   "source": [
    "# Fit and transform"
   ]
  },
  {
   "cell_type": "code",
   "execution_count": null,
   "id": "fd1535c1",
   "metadata": {},
   "outputs": [],
   "source": [
    "nplcatscaled = []\n",
    "transformers = []\n",
    "arrmins = [[], [], []]\n",
    "epsilon = 1e-2\n",
    "\n",
    "for i in range(len(nplcats)):\n",
    "    nparr = nplcats[i]\n",
    "    nparr = np.where(nparr > 0., nparr, np.nan)\n",
    "    transformer = StandardScaler().fit(nparr)\n",
    "    nparr = transformer.transform(nparr)\n",
    "    transformers.append(transformer)\n",
    "    \n",
    "    nparr = np.where(np.isnan(nparr), np.inf, nparr)\n",
    "    \n",
    "    for j in range(nparr.shape[1]):\n",
    "        arrmin = np.amin(nparr[:, j])\n",
    "        \n",
    "        if arrmin < 0 and not np.isnan(arrmin):\n",
    "            nparr[:, j] -= arrmin\n",
    "            nparr[:, j] += epsilon\n",
    "            arrmins[i].append(arrmin)\n",
    "        else:\n",
    "            arrmins[i].append(0.)\n",
    "            \n",
    "    nparr = np.where(np.isinf(nparr), 0, nparr)\n",
    "    \n",
    "    for j in range(nparr.shape[1]):\n",
    "        arrmin = np.amin(nparr[:, j])\n",
    "        if arrmin < 0:\n",
    "            print(j, arrmin)\n",
    "            \n",
    "    nplcatscaled.append(nparr)"
   ]
  },
  {
   "cell_type": "code",
   "execution_count": null,
   "id": "b88477fc",
   "metadata": {},
   "outputs": [],
   "source": [
    "nplcats[2].shape\n",
    "nplcatscaled[2].shape"
   ]
  },
  {
   "cell_type": "code",
   "execution_count": null,
   "id": "6227ce1b",
   "metadata": {},
   "outputs": [],
   "source": [
    "ef_scaled = h5py.File('/raid/javier/Datasets/CaloVAE/data/calo_scaled/eplus.hdf5','w')\n",
    "gf_scaled = h5py.File('/raid/javier/Datasets/CaloVAE/data/calo_scaled/gamma.hdf5','w')\n",
    "pf_scaled = h5py.File('/raid/javier/Datasets/CaloVAE/data/calo_scaled/piplus.hdf5','w')"
   ]
  },
  {
   "cell_type": "code",
   "execution_count": null,
   "id": "3705545a",
   "metadata": {},
   "outputs": [],
   "source": [
    "hdfs_scaled = [ef_scaled, gf_scaled, pf_scaled]\n",
    "layer_shapes = {}\n",
    "for key in hdf.keys():\n",
    "    if key == \"energy\" or key == \"overflow\":\n",
    "        pass\n",
    "    else:\n",
    "        layer_shapes[key] = hdf[key].shape"
   ]
  },
  {
   "cell_type": "code",
   "execution_count": null,
   "id": "6a25d8f7",
   "metadata": {},
   "outputs": [],
   "source": [
    "layer_shapes"
   ]
  },
  {
   "cell_type": "code",
   "execution_count": null,
   "id": "9873cfff",
   "metadata": {},
   "outputs": [],
   "source": []
  },
  {
   "cell_type": "code",
   "execution_count": null,
   "id": "f1241daf",
   "metadata": {},
   "outputs": [],
   "source": [
    "for hdf, hdf_scaled, scaled_data in zip(hdfs, hdfs_scaled, nplcatscaled):\n",
    "    offset = 0\n",
    "    for key in hdf.keys():\n",
    "        if key == \"energy\" or key == \"overflow\":\n",
    "            hdf_scaled.create_dataset(key, data=hdf[key])\n",
    "        else:\n",
    "            layer_shape = layer_shapes[key]\n",
    "            print(scaled_data.shape)\n",
    "            layer_data = scaled_data[:, offset:offset+(layer_shape[1]*layer_shape[2])]\n",
    "            print(layer_data.shape)\n",
    "            layer_data = layer_data.reshape(layer_shape)\n",
    "            hdf_scaled.create_dataset(key, data=layer_data)\n",
    "            offset += layer_shape[1]*layer_shape[2]"
   ]
  },
  {
   "cell_type": "code",
   "execution_count": null,
   "id": "057de95a",
   "metadata": {},
   "outputs": [],
   "source": [
    "for hdf_scaled in hdfs_scaled:\n",
    "    for key in hdf_scaled.keys():\n",
    "        print(key, hdf_scaled[key].shape, hdf_scaled[key].dtype)"
   ]
  },
  {
   "cell_type": "code",
   "execution_count": null,
   "id": "1b9291df",
   "metadata": {},
   "outputs": [],
   "source": [
    "for hdf_scaled in hdfs_scaled:\n",
    "    hdf_scaled.close()"
   ]
  },
  {
   "cell_type": "code",
   "execution_count": null,
   "id": "b97728ac",
   "metadata": {},
   "outputs": [],
   "source": [
    "for nplcat in nplcatscaled:\n",
    "    print(nplcat.shape)"
   ]
  },
  {
   "cell_type": "code",
   "execution_count": null,
   "id": "d0b79111",
   "metadata": {},
   "outputs": [],
   "source": [
    "print(len(arrmins[0]))"
   ]
  },
  {
   "cell_type": "raw",
   "id": "da9a98c6",
   "metadata": {},
   "source": [
    "Inverse transform"
   ]
  },
  {
   "cell_type": "code",
   "execution_count": null,
   "id": "dab0fdbf",
   "metadata": {},
   "outputs": [],
   "source": [
    "np.sum(nplcatscaled[2] == np.nan)"
   ]
  },
  {
   "cell_type": "code",
   "execution_count": null,
   "id": "3da8bc6d",
   "metadata": {},
   "outputs": [],
   "source": [
    "nplcatinv = []\n",
    "\n",
    "for i in range(len(nplcatscaled)):\n",
    "    nparr = nplcatscaled[i]\n",
    "    nparr = np.where(nparr > 0., nparr, np.nan)\n",
    "    \n",
    "    for j in range(nparr.shape[1]):\n",
    "        arrmin = arrmins[i][j]\n",
    "        if arrmin < 0. and not np.isnan(arrmin):\n",
    "            nparr[:, j] -= epsilon\n",
    "            nparr[:, j] += arrmin\n",
    "            \n",
    "    transformer = transformers[i]\n",
    "    nparr = transformer.inverse_transform(nparr)\n",
    "    \n",
    "    nparr = np.where(np.isinf(nparr), 0, nparr)\n",
    "    nplcatinv.append(nparr)"
   ]
  },
  {
   "cell_type": "code",
   "execution_count": null,
   "id": "9135d0a7",
   "metadata": {},
   "outputs": [],
   "source": [
    "for i in range(len(nplcatinv)):\n",
    "    nparrorig = nplcats[i]\n",
    "    nparrinv = nplcatinv[i]\n",
    "    \n",
    "    for j in range(nparrorig.shape[1]):\n",
    "        diff = np.sum(nparrorig[:, j] - nparrinv[:, j])\n",
    "        if np.abs(diff) > 0:\n",
    "            print(i, j, diff)"
   ]
  },
  {
   "cell_type": "code",
   "execution_count": null,
   "id": "bc813012",
   "metadata": {},
   "outputs": [],
   "source": [
    "params = transformers[0].get_params()"
   ]
  },
  {
   "cell_type": "code",
   "execution_count": null,
   "id": "52952154",
   "metadata": {},
   "outputs": [],
   "source": [
    "params"
   ]
  },
  {
   "cell_type": "code",
   "execution_count": null,
   "id": "44ca545a",
   "metadata": {},
   "outputs": [],
   "source": [
    "import joblib"
   ]
  },
  {
   "cell_type": "code",
   "execution_count": null,
   "id": "2eed994b",
   "metadata": {},
   "outputs": [],
   "source": [
    "joblib.dump(transformers[0], 'scaler.gz')\n",
    "transformer = joblib.load('scaler.gz')"
   ]
  },
  {
   "cell_type": "code",
   "execution_count": null,
   "id": "1be321f0",
   "metadata": {},
   "outputs": [],
   "source": [
    "print(len(transformers))"
   ]
  },
  {
   "cell_type": "code",
   "execution_count": null,
   "id": "db16d788",
   "metadata": {},
   "outputs": [],
   "source": [
    "joblib.dump(transformers[0], '/raid/javier/Datasets/CaloVAE/data/calo_scaled/eplus_scaler.gz')\n",
    "joblib.dump(transformers[1], '/raid/javier/Datasets/CaloVAE/data/calo_scaled/gamma_scaler.gz')\n",
    "joblib.dump(transformers[2], '/raid/javier/Datasets/CaloVAE/data/calo_scaled/piplus_scaler.gz')"
   ]
  },
  {
   "cell_type": "code",
   "execution_count": null,
   "id": "b05b17df",
   "metadata": {},
   "outputs": [],
   "source": [
    "ld_transformers = []\n",
    "ld_transformers.append(joblib.load('/raid/javier/Datasets/CaloVAE/data/calo_scaled/eplus_scaler.gz'))\n",
    "ld_transformers.append(joblib.load('/raid/javier/Datasets/CaloVAE/data/calo_scaled/gamma_scaler.gz'))\n",
    "ld_transformers.append(joblib.load('/raid/javier/Datasets/CaloVAE/data/calo_scaled/piplus_scaler.gz'))"
   ]
  },
  {
   "cell_type": "code",
   "execution_count": null,
   "id": "c8daef23",
   "metadata": {},
   "outputs": [],
   "source": [
    "np.sum(nparr == np.inf)\n",
    "# nplcatscaled[i]"
   ]
  },
  {
   "cell_type": "code",
   "execution_count": null,
   "id": "a040dc85",
   "metadata": {},
   "outputs": [],
   "source": [
    "nplcatinv = []\n",
    "\n",
    "for i in range(len(nplcatscaled)):\n",
    "    nparr = nplcatscaled[i]\n",
    "    nparr = np.where(nparr > 0., nparr, np.inf)\n",
    "    \n",
    "    for j in range(nparr.shape[1]):\n",
    "        arrmin = arrmins[i][j]\n",
    "        if arrmin < 0. and not np.isnan(arrmin):\n",
    "            nparr[:, j] -= epsilon\n",
    "            nparr[:, j] += arrmin\n",
    "            \n",
    "    transformer = ld_transformers[i]\n",
    "    # try:\n",
    "    nparr = transformer.inverse_transform(nparr)\n",
    "    # except:\n",
    "        # print(nparr)\n",
    "    \n",
    "    nparr = np.where(np.isnan(nparr), 0, nparr)\n",
    "    nplcatinv.append(nparr)"
   ]
  },
  {
   "cell_type": "code",
   "execution_count": null,
   "id": "2154f0ea",
   "metadata": {},
   "outputs": [],
   "source": [
    "import sklearn\n",
    "print(sklearn.__version__)"
   ]
  },
  {
   "cell_type": "code",
   "execution_count": null,
   "id": "61026bc4",
   "metadata": {},
   "outputs": [],
   "source": [
    "for i in range(len(nplcatinv)):\n",
    "    nparrorig = nplcats[i]\n",
    "    nparrinv = nplcatinv[i]\n",
    "    \n",
    "    for j in range(nparrorig.shape[1]):\n",
    "        diff = np.sum(nparrorig[:, j] - nparrinv[:, j])\n",
    "        if diff > 1e-4:\n",
    "            print(i, j, diff)"
   ]
  },
  {
   "cell_type": "code",
   "execution_count": null,
   "id": "b179324f",
   "metadata": {},
   "outputs": [],
   "source": [
    "print(len(arrmins))"
   ]
  },
  {
   "cell_type": "code",
   "execution_count": null,
   "id": "5141de68",
   "metadata": {},
   "outputs": [],
   "source": [
    "# print(arrmins[2])"
   ]
  },
  {
   "cell_type": "code",
   "execution_count": null,
   "id": "769dd0ad",
   "metadata": {},
   "outputs": [],
   "source": [
    "for i, ptype in enumerate([\"eplus\", \"gamma\", \"piplus\"]):\n",
    "    filepath = \"/raid/javier/Datasets/CaloVAE/data/calo_scaled/\" + ptype + \"_amin.npy\"\n",
    "    with open(filepath, 'wb') as f:\n",
    "        np.save(f, arrmins[i])"
   ]
  },
  {
   "cell_type": "code",
   "execution_count": null,
   "id": "47c9ecfb",
   "metadata": {},
   "outputs": [],
   "source": []
  },
  {
   "cell_type": "code",
   "execution_count": null,
   "id": "498fd6c4",
   "metadata": {},
   "outputs": [],
   "source": [
    "# type(nplcatinv[0][1,1])"
   ]
  },
  {
   "cell_type": "code",
   "execution_count": null,
   "id": "79c1fe0b",
   "metadata": {},
   "outputs": [],
   "source": [
    "# ATLAS"
   ]
  },
  {
   "cell_type": "code",
   "execution_count": 52,
   "id": "d6d5518d",
   "metadata": {},
   "outputs": [],
   "source": [
    "gf = h5py.File('/fast_scratch/QVAE/data/atlas/photons_samples_highStat_En_5.hdf5', 'r')\n",
    "pf = h5py.File('/fast_scratch/QVAE/data/atlas/pions_samples_highStat_En_5.hdf5', 'r')"
   ]
  },
  {
   "cell_type": "code",
   "execution_count": 53,
   "id": "93d5e562",
   "metadata": {},
   "outputs": [
    {
     "name": "stdout",
     "output_type": "stream",
     "text": [
      "3\n",
      "<KeysViewHDF5 ['energy', 'energy_from_voxels', 'voxels']>\n",
      "(99933, 1)\n",
      "(99933, 1)\n",
      "(99933, 368)\n"
     ]
    }
   ],
   "source": [
    "print(len(pf))\n",
    "print(gf.keys())\n",
    "print((gf['energy']).shape)\n",
    "print((gf['energy_from_voxels']).shape)\n",
    "print((gf['voxels']).shape)"
   ]
  },
  {
   "cell_type": "code",
   "execution_count": 58,
   "id": "37e42a8e",
   "metadata": {},
   "outputs": [
    {
     "name": "stdout",
     "output_type": "stream",
     "text": [
      "[[ 80.3099    0.        0.      ...   0.        0.        0.     ]\n",
      " [  0.        0.        0.      ...   0.        4.76924   0.     ]\n",
      " [110.619     0.        3.5489  ...   0.        0.        0.     ]\n",
      " ...\n",
      " [  0.        0.        0.      ...   0.        0.        0.     ]\n",
      " [529.086   298.511   268.111   ...   0.        0.        0.     ]\n",
      " [  0.        0.        0.      ...   0.        0.        0.     ]] (99933, 368)\n",
      "[[ 80.3099    0.        0.      ...   0.        0.        0.     ]\n",
      " [  0.        0.        0.      ...   0.        4.76924   0.     ]\n",
      " [110.619     0.        3.5489  ...   0.        0.        0.     ]\n",
      " ...\n",
      " [  0.        0.        0.      ...   0.        0.        0.     ]\n",
      " [529.086   298.511   268.111   ...   0.        0.        0.     ]\n",
      " [  0.        0.        0.      ...   0.        0.        0.     ]] (99933, 368)\n",
      "npcat:  [[ 80.3099    0.        0.      ...   0.        0.        0.     ]\n",
      " [  0.        0.        0.      ...   0.        4.76924   0.     ]\n",
      " [110.619     0.        3.5489  ...   0.        0.        0.     ]\n",
      " ...\n",
      " [  0.        0.        0.      ...   0.        0.        0.     ]\n",
      " [529.086   298.511   268.111   ...   0.        0.        0.     ]\n",
      " [  0.        0.        0.      ...   0.        0.        0.     ]] (99933, 368)\n",
      "[[ 0.      0.     43.6268 ...  0.      0.      0.    ]\n",
      " [37.4615  0.      0.     ...  0.      0.      0.    ]\n",
      " [36.148   0.      0.     ... 11.3977 34.0867  0.    ]\n",
      " ...\n",
      " [34.3629  0.      0.     ...  0.      0.      0.    ]\n",
      " [33.8369  0.      0.     ...  0.      0.      0.    ]\n",
      " [36.1434  0.      0.     ...  0.      0.      0.    ]] (99999, 533)\n",
      "[[ 0.      0.     43.6268 ...  0.      0.      0.    ]\n",
      " [37.4615  0.      0.     ...  0.      0.      0.    ]\n",
      " [36.148   0.      0.     ... 11.3977 34.0867  0.    ]\n",
      " ...\n",
      " [34.3629  0.      0.     ...  0.      0.      0.    ]\n",
      " [33.8369  0.      0.     ...  0.      0.      0.    ]\n",
      " [36.1434  0.      0.     ...  0.      0.      0.    ]] (99999, 533)\n",
      "npcat:  [[ 0.      0.     43.6268 ...  0.      0.      0.    ]\n",
      " [37.4615  0.      0.     ...  0.      0.      0.    ]\n",
      " [36.148   0.      0.     ... 11.3977 34.0867  0.    ]\n",
      " ...\n",
      " [34.3629  0.      0.     ...  0.      0.      0.    ]\n",
      " [33.8369  0.      0.     ...  0.      0.      0.    ]\n",
      " [36.1434  0.      0.     ...  0.      0.      0.    ]] (99999, 533)\n"
     ]
    }
   ],
   "source": [
    "hdfs = [gf,pf]\n",
    "nplcats = []\n",
    "\n",
    "#Reshape and concat voxel data\n",
    "for hdf in hdfs:\n",
    "    # Takes data from 'voxels' key in the hdf data file\n",
    "    npl0 = np.array(hdf['voxels'])\n",
    "    print(npl0, npl0.shape)\n",
    "    # Converts n > 2 dim to 2 dim, with -1 as a product of all dim > 1\n",
    "    npl0 = npl0.reshape(npl0.shape[0], -1)\n",
    "    print(npl0, npl0.shape)\n",
    "    npcat = np.concatenate([npl0], axis=1)\n",
    "    print(\"npcat: \", npcat, npcat.shape)\n",
    "    nplcats.append(np.concatenate([npl0], axis=1))\n",
    "    \n",
    "nplcatscaled = []\n",
    "transformers = []\n",
    "arrmins = [[], [], []]\n",
    "epsilon = 1e-2\n",
    "\n",
    "for i in range(len(nplcats)):\n",
    "    nparr = nplcats[i]\n",
    "#     print(\"nplcats size: \", nparr.shape)\n",
    "    nparr = np.where(nparr > 0., nparr, np.nan)\n",
    "    # gets mean and std of nparr\n",
    "    transformer = StandardScaler().fit(nparr)\n",
    "    # transforms nparr to 0 mean and unit variance\n",
    "    nparr = transformer.transform(nparr)\n",
    "    transformers.append(transformer)\n",
    "    \n",
    "    nparr = np.where(np.isnan(nparr), np.inf, nparr)\n",
    "    \n",
    "    for j in range(nparr.shape[1]):\n",
    "        arrmin = np.amin(nparr[:, j])\n",
    "        \n",
    "        # check for negative values in each column (1st voxel of all events in the dataset)\n",
    "        if arrmin < 0 and not np.isnan(arrmin):\n",
    "            nparr[:, j] -= arrmin\n",
    "            nparr[:, j] += epsilon\n",
    "            arrmins[i].append(arrmin)\n",
    "        else:\n",
    "            arrmins[i].append(0.)\n",
    "            \n",
    "    nparr = np.where(np.isinf(nparr), 0, nparr)\n",
    "    \n",
    "    for j in range(nparr.shape[1]):\n",
    "        arrmin = np.amin(nparr[:, j])\n",
    "        if arrmin < 0:\n",
    "            print(j, arrmin)\n",
    "            \n",
    "    nplcatscaled.append(nparr)\n",
    "    \n"
   ]
  },
  {
   "cell_type": "code",
   "execution_count": 5,
   "id": "26821848",
   "metadata": {},
   "outputs": [],
   "source": [
    "d2 = h5py.File('/fast_scratch/QVAE/data/atlas_dataset2and3/dataset_2_1.hdf5', 'r')"
   ]
  },
  {
   "cell_type": "code",
   "execution_count": 9,
   "id": "1d700f84",
   "metadata": {},
   "outputs": [
    {
     "name": "stdout",
     "output_type": "stream",
     "text": [
      "2\n",
      "<KeysViewHDF5 ['incident_energies', 'showers']>\n",
      "[[118329.577806  ]\n",
      " [693566.80619808]\n",
      " [  3762.96998125]\n",
      " ...\n",
      " [688751.94579898]\n",
      " [145378.18565199]\n",
      " [  6909.74436627]]\n",
      "[[118329.577806  ]\n",
      " [693566.80619808]\n",
      " [  3762.96998125]\n",
      " ...\n",
      " [688751.94579898]\n",
      " [145378.18565199]\n",
      " [  6909.74436627]] (100000, 1)\n",
      "[[ 6.4505664   0.          0.         ...  0.          0.\n",
      "   0.        ]\n",
      " [ 0.          0.          0.         ...  0.          0.\n",
      "   0.        ]\n",
      " [ 0.          0.          0.         ...  0.          0.\n",
      "   0.        ]\n",
      " ...\n",
      " [ 2.62551305 33.7256905  21.95377292 ...  0.          0.\n",
      "   0.        ]\n",
      " [ 0.          0.          2.89411494 ...  0.          0.\n",
      "   0.        ]\n",
      " [ 0.          0.          1.42026974 ...  0.          0.\n",
      "   0.        ]] (100000, 6480)\n"
     ]
    }
   ],
   "source": [
    "print(len(d2))\n",
    "print(d2.keys())\n",
    "inc_energies, showers = np.array(d2['incident_energies']), np.array(d2['showers'])\n",
    "print(np.array(d2['incident_energies']))\n",
    "print(inc_energies, inc_energies.shape)\n",
    "print(showers, showers.shape)"
   ]
  },
  {
   "cell_type": "code",
   "execution_count": 7,
   "id": "a75793e8",
   "metadata": {},
   "outputs": [
    {
     "name": "stdout",
     "output_type": "stream",
     "text": [
      "2\n",
      "<KeysViewHDF5 ['incident_energies', 'showers']>\n",
      "[[118329.577806  ]\n",
      " [693566.80619808]\n",
      " [  3762.96998125]\n",
      " ...\n",
      " [688751.94579898]\n",
      " [145378.18565199]\n",
      " [  6909.74436627]]\n"
     ]
    }
   ],
   "source": [
    "print(len(d2))\n",
    "print(d2.keys())\n",
    "print(np.array(d2['incident_energies']))"
   ]
  },
  {
   "cell_type": "code",
   "execution_count": null,
   "id": "71c87f5b",
   "metadata": {},
   "outputs": [],
   "source": [
    "print(\"test\")"
   ]
  },
  {
   "cell_type": "code",
   "execution_count": 11,
   "id": "132f0e49",
   "metadata": {},
   "outputs": [
    {
     "name": "stdout",
     "output_type": "stream",
     "text": [
      "[[7.95942139e-01 4.66163507e+00 1.50447389e-02 ... 4.59221882e+00\n",
      "  9.88577998e-01 4.32455107e-02]\n",
      " [1.35795855e-01 7.95322534e-01 2.56678605e-03 ... 7.83479413e-01\n",
      "  1.68661499e-01 7.37812562e-03]\n",
      " [2.50290323e+01 1.46588815e+02 4.73093756e-01 ... 1.44405966e+02\n",
      "  3.10866198e+01 1.35988941e+00]\n",
      " ...\n",
      " [1.36745163e-01 8.00882398e-01 2.58472969e-03 ... 7.88956485e-01\n",
      "  1.69840561e-01 7.42970391e-03]\n",
      " [6.47851648e-01 3.79430592e+00 1.22455621e-02 ... 3.73780503e+00\n",
      "  8.04646286e-01 3.51993870e-02]\n",
      " [1.36305328e+01 7.98306393e+01 2.57641601e-01 ... 7.86418839e+01\n",
      "  1.69294276e+01 7.40580657e-01]]\n"
     ]
    }
   ],
   "source": [
    "norm_shower = np.divide(np.sum(showers, axis=1), inc_energies)\n",
    "print(norm_shower)"
   ]
  },
  {
   "cell_type": "code",
   "execution_count": 15,
   "id": "91de7bbf",
   "metadata": {},
   "outputs": [
    {
     "name": "stdout",
     "output_type": "stream",
     "text": [
      "[[1.22830577e-04 7.19388128e-04 2.32171897e-06 ... 7.08675744e-04\n",
      "  1.52558333e-04 6.67368992e-06]\n",
      " [2.09561504e-05 1.22734959e-04 3.96108958e-07 ... 1.20907317e-04\n",
      "  2.60280091e-05 1.13859963e-06]\n",
      " [3.86250498e-03 2.26217307e-02 7.30082957e-05 ... 2.22848713e-02\n",
      "  4.79731787e-03 2.09859477e-04]\n",
      " ...\n",
      " [2.11026486e-05 1.23592963e-04 3.98878039e-07 ... 1.21752544e-04\n",
      "  2.62099632e-05 1.14655925e-06]\n",
      " [9.99771062e-05 5.85541036e-04 1.88974724e-06 ... 5.76821764e-04\n",
      "  1.24173810e-04 5.43200417e-06]\n",
      " [2.10347728e-03 1.23195431e-02 3.97595064e-05 ... 1.21360932e-02\n",
      "  2.61256599e-03 1.14287138e-04]]\n"
     ]
    }
   ],
   "source": [
    "normean_shower = np.divide(np.mean(showers, axis=1), inc_energies)\n",
    "print(normean_shower)"
   ]
  },
  {
   "cell_type": "code",
   "execution_count": 22,
   "id": "746504b0",
   "metadata": {},
   "outputs": [
    {
     "data": {
      "text/plain": [
       "(array([1.8084e+04, 1.0098e+04, 5.8700e+03, 4.2040e+03, 3.1750e+03,\n",
       "        2.5410e+03, 2.2030e+03, 1.9320e+03, 1.6810e+03, 1.4970e+03,\n",
       "        1.3640e+03, 1.2370e+03, 1.1970e+03, 1.0700e+03, 1.0590e+03,\n",
       "        9.5600e+02, 8.5000e+02, 8.3800e+02, 8.0700e+02, 7.5600e+02,\n",
       "        6.8100e+02, 6.6000e+02, 6.3700e+02, 5.9200e+02, 5.9500e+02,\n",
       "        5.3300e+02, 5.0700e+02, 5.3500e+02, 5.0500e+02, 5.1600e+02,\n",
       "        4.4700e+02, 4.7900e+02, 4.3800e+02, 4.1300e+02, 3.9900e+02,\n",
       "        4.5500e+02, 3.9900e+02, 4.0100e+02, 3.7000e+02, 3.4800e+02,\n",
       "        3.3800e+02, 3.7200e+02, 3.5900e+02, 3.1700e+02, 3.4200e+02,\n",
       "        3.2700e+02, 2.8100e+02, 3.3500e+02, 2.7000e+02, 2.8200e+02,\n",
       "        3.0300e+02, 2.5700e+02, 2.4000e+02, 2.6800e+02, 2.6100e+02,\n",
       "        2.7500e+02, 2.3300e+02, 2.8100e+02, 2.5400e+02, 2.4700e+02,\n",
       "        2.3300e+02, 2.3000e+02, 2.0700e+02, 2.2600e+02, 2.1800e+02,\n",
       "        2.1700e+02, 2.1400e+02, 2.2200e+02, 2.2400e+02, 2.2600e+02,\n",
       "        2.1100e+02, 2.1900e+02, 2.0700e+02, 2.2500e+02, 1.7900e+02,\n",
       "        1.9500e+02, 1.7100e+02, 1.8000e+02, 1.7100e+02, 1.7500e+02,\n",
       "        2.0300e+02, 1.8300e+02, 1.5800e+02, 1.9300e+02, 1.8700e+02,\n",
       "        1.7400e+02, 1.5700e+02, 1.6900e+02, 1.4200e+02, 1.5700e+02,\n",
       "        1.7100e+02, 1.7500e+02, 1.5100e+02, 1.4700e+02, 1.4700e+02,\n",
       "        1.5600e+02, 1.4700e+02, 1.6500e+02, 1.4900e+02, 1.6400e+02,\n",
       "        1.4100e+02, 1.6800e+02, 1.4900e+02, 1.3600e+02, 1.3200e+02,\n",
       "        1.3800e+02, 1.1700e+02, 1.2000e+02, 1.4500e+02, 1.1500e+02,\n",
       "        1.2600e+02, 1.1200e+02, 1.2000e+02, 1.1900e+02, 1.3100e+02,\n",
       "        1.3500e+02, 1.2300e+02, 1.4100e+02, 1.2900e+02, 1.4100e+02,\n",
       "        1.0400e+02, 1.2300e+02, 1.0200e+02, 1.1500e+02, 1.2100e+02,\n",
       "        1.1900e+02, 1.1200e+02, 1.2000e+02, 1.2400e+02, 1.1200e+02,\n",
       "        1.0200e+02, 1.0800e+02, 1.2700e+02, 1.1300e+02, 1.0800e+02,\n",
       "        1.0700e+02, 1.0800e+02, 9.8000e+01, 1.2300e+02, 1.0300e+02,\n",
       "        1.0800e+02, 8.7000e+01, 9.7000e+01, 9.9000e+01, 9.8000e+01,\n",
       "        9.6000e+01, 1.1000e+02, 8.1000e+01, 1.1000e+02, 1.0200e+02,\n",
       "        1.1200e+02, 1.0400e+02, 1.0600e+02, 8.7000e+01, 8.4000e+01,\n",
       "        1.1000e+02, 8.6000e+01, 9.6000e+01, 8.6000e+01, 7.1000e+01,\n",
       "        7.7000e+01, 7.2000e+01, 9.3000e+01, 8.8000e+01, 8.7000e+01,\n",
       "        7.5000e+01, 9.1000e+01, 8.9000e+01, 9.1000e+01, 8.0000e+01,\n",
       "        1.0200e+02, 8.1000e+01, 9.2000e+01, 7.6000e+01, 6.7000e+01,\n",
       "        8.6000e+01, 1.0200e+02, 9.1000e+01, 7.5000e+01, 8.3000e+01,\n",
       "        7.8000e+01, 7.5000e+01, 6.9000e+01, 7.7000e+01, 7.2000e+01,\n",
       "        8.1000e+01, 5.7000e+01, 8.4000e+01, 7.1000e+01, 6.8000e+01,\n",
       "        7.4000e+01, 6.9000e+01, 6.6000e+01, 6.7000e+01, 7.5000e+01,\n",
       "        7.9000e+01, 7.6000e+01, 8.7000e+01, 6.9000e+01, 7.1000e+01,\n",
       "        8.8000e+01, 8.4000e+01, 8.7000e+01, 7.2000e+01, 7.2000e+01,\n",
       "        8.1000e+01, 6.3000e+01, 5.3000e+01, 6.1000e+01, 8.2000e+01,\n",
       "        8.4000e+01, 5.8000e+01, 6.4000e+01, 6.3000e+01, 7.2000e+01,\n",
       "        6.3000e+01, 5.7000e+01, 6.8000e+01, 7.0000e+01, 5.8000e+01,\n",
       "        6.3000e+01, 7.4000e+01, 6.7000e+01, 7.8000e+01, 6.5000e+01,\n",
       "        7.5000e+01, 5.7000e+01, 6.8000e+01, 5.3000e+01, 5.7000e+01,\n",
       "        6.6000e+01, 6.1000e+01, 5.9000e+01, 6.5000e+01, 5.5000e+01,\n",
       "        5.5000e+01, 5.9000e+01, 5.6000e+01, 7.0000e+01, 6.9000e+01,\n",
       "        5.6000e+01, 7.1000e+01, 5.9000e+01, 6.2000e+01, 5.2000e+01,\n",
       "        4.6000e+01, 5.9000e+01, 4.2000e+01, 6.4000e+01, 5.2000e+01,\n",
       "        5.0000e+01, 6.0000e+01, 5.7000e+01, 4.8000e+01, 5.8000e+01,\n",
       "        5.7000e+01, 5.4000e+01, 5.3000e+01, 4.4000e+01, 4.0000e+01,\n",
       "        5.4000e+01, 5.0000e+01, 6.5000e+01, 4.3000e+01, 5.0000e+01,\n",
       "        5.2000e+01, 4.8000e+01, 6.0000e+01, 5.0000e+01, 4.4000e+01,\n",
       "        6.3000e+01, 4.4000e+01, 5.2000e+01, 7.0000e+01, 4.4000e+01,\n",
       "        5.5000e+01, 5.1000e+01, 5.3000e+01, 5.2000e+01, 5.2000e+01,\n",
       "        5.5000e+01, 4.7000e+01, 4.3000e+01, 5.5000e+01, 7.1000e+01,\n",
       "        4.7000e+01, 3.5000e+01, 4.4000e+01, 3.5000e+01, 3.1000e+01,\n",
       "        3.0000e+01, 3.0000e+01, 2.2000e+01, 1.0000e+01, 1.4000e+01,\n",
       "        1.1000e+01, 6.0000e+00, 5.0000e+00, 2.0000e+00, 3.0000e+00]),\n",
       " array([1.09241050e-04, 2.26960149e-02, 4.52827887e-02, 6.78695626e-02,\n",
       "        9.04563364e-02, 1.13043110e-01, 1.35629884e-01, 1.58216658e-01,\n",
       "        1.80803432e-01, 2.03390206e-01, 2.25976979e-01, 2.48563753e-01,\n",
       "        2.71150527e-01, 2.93737301e-01, 3.16324075e-01, 3.38910849e-01,\n",
       "        3.61497623e-01, 3.84084396e-01, 4.06671170e-01, 4.29257944e-01,\n",
       "        4.51844718e-01, 4.74431492e-01, 4.97018266e-01, 5.19605039e-01,\n",
       "        5.42191813e-01, 5.64778587e-01, 5.87365361e-01, 6.09952135e-01,\n",
       "        6.32538909e-01, 6.55125683e-01, 6.77712456e-01, 7.00299230e-01,\n",
       "        7.22886004e-01, 7.45472778e-01, 7.68059552e-01, 7.90646326e-01,\n",
       "        8.13233099e-01, 8.35819873e-01, 8.58406647e-01, 8.80993421e-01,\n",
       "        9.03580195e-01, 9.26166969e-01, 9.48753742e-01, 9.71340516e-01,\n",
       "        9.93927290e-01, 1.01651406e+00, 1.03910084e+00, 1.06168761e+00,\n",
       "        1.08427439e+00, 1.10686116e+00, 1.12944793e+00, 1.15203471e+00,\n",
       "        1.17462148e+00, 1.19720825e+00, 1.21979503e+00, 1.24238180e+00,\n",
       "        1.26496858e+00, 1.28755535e+00, 1.31014212e+00, 1.33272890e+00,\n",
       "        1.35531567e+00, 1.37790245e+00, 1.40048922e+00, 1.42307599e+00,\n",
       "        1.44566277e+00, 1.46824954e+00, 1.49083631e+00, 1.51342309e+00,\n",
       "        1.53600986e+00, 1.55859664e+00, 1.58118341e+00, 1.60377018e+00,\n",
       "        1.62635696e+00, 1.64894373e+00, 1.67153051e+00, 1.69411728e+00,\n",
       "        1.71670405e+00, 1.73929083e+00, 1.76187760e+00, 1.78446437e+00,\n",
       "        1.80705115e+00, 1.82963792e+00, 1.85222470e+00, 1.87481147e+00,\n",
       "        1.89739824e+00, 1.91998502e+00, 1.94257179e+00, 1.96515857e+00,\n",
       "        1.98774534e+00, 2.01033211e+00, 2.03291889e+00, 2.05550566e+00,\n",
       "        2.07809243e+00, 2.10067921e+00, 2.12326598e+00, 2.14585276e+00,\n",
       "        2.16843953e+00, 2.19102630e+00, 2.21361308e+00, 2.23619985e+00,\n",
       "        2.25878663e+00, 2.28137340e+00, 2.30396017e+00, 2.32654695e+00,\n",
       "        2.34913372e+00, 2.37172049e+00, 2.39430727e+00, 2.41689404e+00,\n",
       "        2.43948082e+00, 2.46206759e+00, 2.48465436e+00, 2.50724114e+00,\n",
       "        2.52982791e+00, 2.55241469e+00, 2.57500146e+00, 2.59758823e+00,\n",
       "        2.62017501e+00, 2.64276178e+00, 2.66534855e+00, 2.68793533e+00,\n",
       "        2.71052210e+00, 2.73310888e+00, 2.75569565e+00, 2.77828242e+00,\n",
       "        2.80086920e+00, 2.82345597e+00, 2.84604275e+00, 2.86862952e+00,\n",
       "        2.89121629e+00, 2.91380307e+00, 2.93638984e+00, 2.95897661e+00,\n",
       "        2.98156339e+00, 3.00415016e+00, 3.02673694e+00, 3.04932371e+00,\n",
       "        3.07191048e+00, 3.09449726e+00, 3.11708403e+00, 3.13967081e+00,\n",
       "        3.16225758e+00, 3.18484435e+00, 3.20743113e+00, 3.23001790e+00,\n",
       "        3.25260467e+00, 3.27519145e+00, 3.29777822e+00, 3.32036500e+00,\n",
       "        3.34295177e+00, 3.36553854e+00, 3.38812532e+00, 3.41071209e+00,\n",
       "        3.43329887e+00, 3.45588564e+00, 3.47847241e+00, 3.50105919e+00,\n",
       "        3.52364596e+00, 3.54623273e+00, 3.56881951e+00, 3.59140628e+00,\n",
       "        3.61399306e+00, 3.63657983e+00, 3.65916660e+00, 3.68175338e+00,\n",
       "        3.70434015e+00, 3.72692693e+00, 3.74951370e+00, 3.77210047e+00,\n",
       "        3.79468725e+00, 3.81727402e+00, 3.83986079e+00, 3.86244757e+00,\n",
       "        3.88503434e+00, 3.90762112e+00, 3.93020789e+00, 3.95279466e+00,\n",
       "        3.97538144e+00, 3.99796821e+00, 4.02055499e+00, 4.04314176e+00,\n",
       "        4.06572853e+00, 4.08831531e+00, 4.11090208e+00, 4.13348885e+00,\n",
       "        4.15607563e+00, 4.17866240e+00, 4.20124918e+00, 4.22383595e+00,\n",
       "        4.24642272e+00, 4.26900950e+00, 4.29159627e+00, 4.31418305e+00,\n",
       "        4.33676982e+00, 4.35935659e+00, 4.38194337e+00, 4.40453014e+00,\n",
       "        4.42711691e+00, 4.44970369e+00, 4.47229046e+00, 4.49487724e+00,\n",
       "        4.51746401e+00, 4.54005078e+00, 4.56263756e+00, 4.58522433e+00,\n",
       "        4.60781111e+00, 4.63039788e+00, 4.65298465e+00, 4.67557143e+00,\n",
       "        4.69815820e+00, 4.72074497e+00, 4.74333175e+00, 4.76591852e+00,\n",
       "        4.78850530e+00, 4.81109207e+00, 4.83367884e+00, 4.85626562e+00,\n",
       "        4.87885239e+00, 4.90143917e+00, 4.92402594e+00, 4.94661271e+00,\n",
       "        4.96919949e+00, 4.99178626e+00, 5.01437303e+00, 5.03695981e+00,\n",
       "        5.05954658e+00, 5.08213336e+00, 5.10472013e+00, 5.12730690e+00,\n",
       "        5.14989368e+00, 5.17248045e+00, 5.19506723e+00, 5.21765400e+00,\n",
       "        5.24024077e+00, 5.26282755e+00, 5.28541432e+00, 5.30800109e+00,\n",
       "        5.33058787e+00, 5.35317464e+00, 5.37576142e+00, 5.39834819e+00,\n",
       "        5.42093496e+00, 5.44352174e+00, 5.46610851e+00, 5.48869529e+00,\n",
       "        5.51128206e+00, 5.53386883e+00, 5.55645561e+00, 5.57904238e+00,\n",
       "        5.60162915e+00, 5.62421593e+00, 5.64680270e+00, 5.66938948e+00,\n",
       "        5.69197625e+00, 5.71456302e+00, 5.73714980e+00, 5.75973657e+00,\n",
       "        5.78232335e+00, 5.80491012e+00, 5.82749689e+00, 5.85008367e+00,\n",
       "        5.87267044e+00, 5.89525721e+00, 5.91784399e+00, 5.94043076e+00,\n",
       "        5.96301754e+00, 5.98560431e+00, 6.00819108e+00, 6.03077786e+00,\n",
       "        6.05336463e+00, 6.07595141e+00, 6.09853818e+00, 6.12112495e+00,\n",
       "        6.14371173e+00, 6.16629850e+00, 6.18888527e+00, 6.21147205e+00,\n",
       "        6.23405882e+00, 6.25664560e+00, 6.27923237e+00, 6.30181914e+00,\n",
       "        6.32440592e+00, 6.34699269e+00, 6.36957947e+00, 6.39216624e+00,\n",
       "        6.41475301e+00, 6.43733979e+00, 6.45992656e+00, 6.48251333e+00,\n",
       "        6.50510011e+00, 6.52768688e+00, 6.55027366e+00, 6.57286043e+00,\n",
       "        6.59544720e+00, 6.61803398e+00, 6.64062075e+00, 6.66320753e+00,\n",
       "        6.68579430e+00, 6.70838107e+00, 6.73096785e+00, 6.75355462e+00,\n",
       "        6.77614139e+00]),\n",
       " [<matplotlib.patches.Polygon at 0x7fab828cfc70>])"
      ]
     },
     "execution_count": 22,
     "metadata": {},
     "output_type": "execute_result"
    },
    {
     "data": {
      "image/png": "[encoded data removed]",
      "text/plain": [
       "<Figure size 640x480 with 1 Axes>"
      ]
     },
     "metadata": {},
     "output_type": "display_data"
    }
   ],
   "source": [
    "import matplotlib.pyplot as plt\n",
    "plt.hist(np.array(d2['incident_energies']), bins=100, log=True, histtype='step', linewidth=2.5, color=\"b\")\n",
    "plt.hist(norm_shower[0], bins=300, log=True, histtype='step', linewidth=2.5, color=\"b\")"
   ]
  },
  {
   "cell_type": "code",
   "execution_count": 17,
   "id": "d42f95ab",
   "metadata": {},
   "outputs": [
    {
     "data": {
      "text/plain": [
       "(array([34841.,  9273.,  5652.,  3975.,  3257.,  2610.,  2246.,  1855.,\n",
       "         1632.,  1513.,  1381.,  1221.,  1178.,  1047.,  1020.,   957.,\n",
       "          828.,   773.,   787.,   740.,   705.,   688.,   637.,   625.,\n",
       "          638.,   560.,   524.,   526.,   504.,   472.,   482.,   468.,\n",
       "          445.,   432.,   468.,   413.,   345.,   394.,   335.,   385.,\n",
       "          375.,   356.,   345.,   327.,   322.,   348.,   318.,   305.,\n",
       "          283.,   300.,   285.,   284.,   290.,   269.,   260.,   236.,\n",
       "          260.,   244.,   257.,   249.,   215.,   230.,   235.,   224.,\n",
       "          223.,   211.,   194.,   219.,   233.,   232.,   194.,   197.,\n",
       "          192.,   196.,   189.,   204.,   209.,   173.,   178.,   198.,\n",
       "          170.,   159.,   185.,   163.,   184.,   155.,   142.,   151.,\n",
       "          159.,   164.,   124.,   145.,   154.,   170.,   169.,   152.,\n",
       "          138.,   135.,   147.,   143.]),\n",
       " array([-0.63285149, -0.58857211, -0.54429274, -0.50001337, -0.45573399,\n",
       "        -0.41145462, -0.36717525, -0.32289587, -0.2786165 , -0.23433712,\n",
       "        -0.19005775, -0.14577838, -0.101499  , -0.05721963, -0.01294025,\n",
       "         0.03133912,  0.07561849,  0.11989787,  0.16417724,  0.20845662,\n",
       "         0.25273599,  0.29701536,  0.34129474,  0.38557411,  0.42985349,\n",
       "         0.47413286,  0.51841223,  0.56269161,  0.60697098,  0.65125035,\n",
       "         0.69552973,  0.7398091 ,  0.78408848,  0.82836785,  0.87264722,\n",
       "         0.9169266 ,  0.96120597,  1.00548535,  1.04976472,  1.09404409,\n",
       "         1.13832347,  1.18260284,  1.22688222,  1.27116159,  1.31544096,\n",
       "         1.35972034,  1.40399971,  1.44827909,  1.49255846,  1.53683783,\n",
       "         1.58111721,  1.62539658,  1.66967595,  1.71395533,  1.7582347 ,\n",
       "         1.80251408,  1.84679345,  1.89107282,  1.9353522 ,  1.97963157,\n",
       "         2.02391095,  2.06819032,  2.11246969,  2.15674907,  2.20102844,\n",
       "         2.24530782,  2.28958719,  2.33386656,  2.37814594,  2.42242531,\n",
       "         2.46670469,  2.51098406,  2.55526343,  2.59954281,  2.64382218,\n",
       "         2.68810155,  2.73238093,  2.7766603 ,  2.82093968,  2.86521905,\n",
       "         2.90949842,  2.9537778 ,  2.99805717,  3.04233655,  3.08661592,\n",
       "         3.13089529,  3.17517467,  3.21945404,  3.26373342,  3.30801279,\n",
       "         3.35229216,  3.39657154,  3.44085091,  3.48513029,  3.52940966,\n",
       "         3.57368903,  3.61796841,  3.66224778,  3.70652716,  3.75080653,\n",
       "         3.7950859 ]),\n",
       " [<matplotlib.patches.Polygon at 0x7fab832831f0>])"
      ]
     },
     "execution_count": 17,
     "metadata": {},
     "output_type": "execute_result"
    },
    {
     "data": {
      "image/png": "[encoded data removed]",
      "text/plain": [
       "<Figure size 640x480 with 1 Axes>"
      ]
     },
     "metadata": {},
     "output_type": "display_data"
    }
   ],
   "source": [
    "transformer = StandardScaler().fit(inc_energies)\n",
    "nparr = transformer.transform(inc_energies)\n",
    "\n",
    "plt.hist(nparr, bins=100, log=False, histtype='step', linewidth=2.5, color=\"b\")"
   ]
  },
  {
   "cell_type": "code",
   "execution_count": 1,
   "id": "f7ab52ae",
   "metadata": {},
   "outputs": [
    {
     "ename": "NameError",
     "evalue": "name 'gf' is not defined",
     "output_type": "error",
     "traceback": [
      "\u001b[0;31m---------------------------------------------------------------------------\u001b[0m",
      "\u001b[0;31mNameError\u001b[0m                                 Traceback (most recent call last)",
      "Cell \u001b[0;32mIn[1], line 1\u001b[0m\n\u001b[0;32m----> 1\u001b[0m hdfs \u001b[38;5;241m=\u001b[39m [\u001b[43mgf\u001b[49m,pf]\n\u001b[1;32m      2\u001b[0m nplcats \u001b[38;5;241m=\u001b[39m []\n\u001b[1;32m      4\u001b[0m \u001b[38;5;66;03m#Reshape and concat voxel data\u001b[39;00m\n",
      "\u001b[0;31mNameError\u001b[0m: name 'gf' is not defined"
     ]
    }
   ],
   "source": [
    "hdfs = [gf,pf]\n",
    "nplcats = []\n",
    "\n",
    "#Reshape and concat voxel data\n",
    "for hdf in hdfs:\n",
    "    # Takes data from 'voxels' key in the hdf data file\n",
    "    npl0 = np.array(hdf['voxels'])\n",
    "    print(npl0, npl0.shape)\n",
    "    # Converts n > 2 dim to 2 dim, with -1 as a product of all dim > 1\n",
    "    npl0 = npl0.reshape(npl0.shape[0], -1)\n",
    "    print(npl0, npl0.shape)\n",
    "    npcat = np.concatenate([npl0], axis=1)\n",
    "    print(\"npcat: \", npcat, npcat.shape)\n",
    "    nplcats.append(np.concatenate([npl0], axis=1))\n",
    "    \n",
    "nplcatscaled = []\n",
    "transformers = []\n",
    "arrmins = [[], [], []]\n",
    "epsilon = 1e-2\n",
    "\n",
    "for i in range(len(nplcats)):\n",
    "    nparr = nplcats[i]\n",
    "#     print(\"nplcats size: \", nparr.shape)\n",
    "    \n",
    "    # replaces non positive values with NaN to use StandardScalar\n",
    "    nparr = np.where(nparr > 0., nparr, np.nan)\n",
    "    # gets mean and std of nparr for each column\n",
    "    transformer = StandardScaler().fit(nparr)\n",
    "    # transforms nparr to 0 mean and unit variance\n",
    "    nparr = transformer.transform(nparr)\n",
    "    transformers.append(transformer)\n",
    "    \n",
    "    nparr = np.where(np.isnan(nparr), np.inf, nparr)\n",
    "    \n",
    "    for j in range(nparr.shape[1]):\n",
    "        arrmin = np.amin(nparr[:, j])\n",
    "        \n",
    "        # check for negative values in each column (1st voxel of all events in the dataset)\n",
    "        # different scaling (arrmin) for each voxel in the same shower -> lead to different energy differences between voxels in the same shower?\n",
    "        # Performing a scaling to epsilon then standardizing the distribution should be better while maintaining correct energy differences and voxel sparsity\n",
    "        # Note: Maintains energy differences but not same energy ratios before standardization\n",
    "        # Can Try: Maintaining a normal distribution with same energy ratios and sparsity index by -> finding the min of distribution (standardized epsilon)\n",
    "        # with consistent energy ratios that satisfy an averaged mean distribution\n",
    "        if arrmin < 0 and not np.isnan(arrmin):\n",
    "            nparr[:, j] -= arrmin\n",
    "            nparr[:, j] += epsilon\n",
    "            arrmins[i].append(arrmin)\n",
    "        else:\n",
    "            arrmins[i].append(0.)\n",
    "            \n",
    "    nparr = np.where(np.isinf(nparr), 0, nparr)\n",
    "    \n",
    "    # Double checks?\n",
    "    for j in range(nparr.shape[1]):\n",
    "        arrmin = np.amin(nparr[:, j])\n",
    "        if arrmin < 0:\n",
    "            print(j, arrmin)\n",
    "            \n",
    "    nplcatscaled.append(nparr)\n",
    "    \n",
    "# Testing Implementation of Preprocessing with Incident Energy Encoding\n",
    "\n",
    "# transformers = []\n",
    "\n",
    "\n",
    "# showers_norm = []\n",
    "# delta = 1e-6\n",
    "\n",
    "# for i in range(showers.shape[0]):\n",
    "#     energy_norm.append(showers[i] / energy_inc[i])\n",
    "#     x = delta + (1 - 2 * delta) * energy_norm\n",
    "#     logit = np.log(x / (1 - x))\n",
    "\n",
    "# transformer = StandardScaler().fit(energy_norm)\n",
    "# nparr = transformer.transform(nparr)\n",
    "# transformers.append(transformer)    \n",
    "\n",
    "# log_energy_inc = np.log(energy_inc)\n",
    "# energy_norm = (log_energy_inc - min(log_energy_inc)) / (max(log_energy_inc) - min(log_energy_inc))"
   ]
  },
  {
   "cell_type": "code",
   "execution_count": 55,
   "id": "fc3cf8fe",
   "metadata": {},
   "outputs": [
    {
     "name": "stdout",
     "output_type": "stream",
     "text": [
      "[array([[ 80.3099 ,   0.     ,   0.     , ...,   0.     ,   0.     ,\n",
      "          0.     ],\n",
      "       [  0.     ,   0.     ,   0.     , ...,   0.     ,   4.76924,\n",
      "          0.     ],\n",
      "       [110.619  ,   0.     ,   3.5489 , ...,   0.     ,   0.     ,\n",
      "          0.     ],\n",
      "       ...,\n",
      "       [  0.     ,   0.     ,   0.     , ...,   0.     ,   0.     ,\n",
      "          0.     ],\n",
      "       [529.086  , 298.511  , 268.111  , ...,   0.     ,   0.     ,\n",
      "          0.     ],\n",
      "       [  0.     ,   0.     ,   0.     , ...,   0.     ,   0.     ,\n",
      "          0.     ]]), array([[ 0.    ,  0.    , 43.6268, ...,  0.    ,  0.    ,  0.    ],\n",
      "       [37.4615,  0.    ,  0.    , ...,  0.    ,  0.    ,  0.    ],\n",
      "       [36.148 ,  0.    ,  0.    , ..., 11.3977, 34.0867,  0.    ],\n",
      "       ...,\n",
      "       [34.3629,  0.    ,  0.    , ...,  0.    ,  0.    ,  0.    ],\n",
      "       [33.8369,  0.    ,  0.    , ...,  0.    ,  0.    ,  0.    ],\n",
      "       [36.1434,  0.    ,  0.    , ...,  0.    ,  0.    ,  0.    ]])] 2 99933 99999\n",
      "[array([[0.53474456, 0.        , 0.        , ..., 0.        , 0.        ,\n",
      "        0.        ],\n",
      "       [0.        , 0.        , 0.        , ..., 0.        , 0.07841054,\n",
      "        0.        ],\n",
      "       [0.732786  , 0.        , 0.05480311, ..., 0.        , 0.        ,\n",
      "        0.        ],\n",
      "       ...,\n",
      "       [0.        , 0.        , 0.        , ..., 0.        , 0.        ,\n",
      "        0.        ],\n",
      "       [3.46707395, 4.12895231, 3.3947705 , ..., 0.        , 0.        ,\n",
      "        0.        ],\n",
      "       [0.        , 0.        , 0.        , ..., 0.        , 0.        ,\n",
      "        0.        ]]), array([[0.        , 0.        , 0.25911717, ..., 0.        , 0.        ,\n",
      "        0.        ],\n",
      "       [0.28235313, 0.        , 0.        , ..., 0.        , 0.        ,\n",
      "        0.        ],\n",
      "       [0.2728037 , 0.        , 0.        , ..., 0.07756514, 0.27633856,\n",
      "        0.        ],\n",
      "       ...,\n",
      "       [0.25982563, 0.        , 0.        , ..., 0.        , 0.        ,\n",
      "        0.        ],\n",
      "       [0.2560015 , 0.        , 0.        , ..., 0.        , 0.        ,\n",
      "        0.        ],\n",
      "       [0.27277026, 0.        , 0.        , ..., 0.        , 0.        ,\n",
      "        0.        ]])]\n",
      "[StandardScaler(), StandardScaler()]\n",
      "arrmins:  [[-1.5269567349653146, -0.9377088653264322, -0.7700451822936486, -0.4427258488153113, -0.4531039678848118, -0.5425960464628715, -0.46395587808535066, -0.2844345796858482, -1.208406781907026, -1.4132403695355733, -1.392125173159719, -1.3400214715216783, -1.2809249285011706, -1.2060180284287496, -1.1664917987989618, -1.0784603348656727, -0.9424253043975136, -0.7385314579452983, -0.6043492950212184, -0.5770346202877302, -0.5718851587425992, -0.574355353391491, -0.5075125392876088, -0.5559150029797436, -1.1992731454657088, -1.33850890805946, -1.3048062033357628, -1.281640695743436, -1.2023600898240374, -1.1273227123177976, -1.0912475807258293, -1.0173226005051679, -0.8856978010880263, -0.6694947016281895, -0.5607161418972985, -0.5740556548974889, -0.5164625939566563, -0.548045452071036, -0.5346131459173469, -0.5720847944415751, -1.183888470148147, -0.9721684464401695, -1.0025643694465782, -1.0317449259710045, -1.0143112280170372, -0.9794567708651487, -0.9463707843437047, -0.8677482223630177, -0.7680717665330972, -0.638285530717055, -0.5937934191450446, -0.6121989434188861, -0.5641820890302053, -0.49735890870191934, -0.6103335592015946, -0.5127757935697755, -1.202794890876576, -1.341200131877692, -1.3303782035247504, -1.2890744925546274, -1.2367982961005555, -1.171091188940953, -1.136436995654402, -1.0724707183200404, -0.9311924259061745, -0.7188029357561426, -0.641630073676646, -0.6768618991739117, -0.5472695669104561, -0.5521719416618103, -0.6095554034631631, -0.6379829158456952, -1.195754603747105, -1.4217535499721712, -1.4144002621437497, -1.3668380651881835, -1.319072423595291, -1.2579402079421191, -1.2293938205436052, -1.1719909182217596, -1.0511159403498682, -0.8335104712642364, -0.7125271238680839, -0.6788180911292676, -0.5641898140308712, -0.5348711195363861, -0.4009746177707758, -0.5946270228110461, -1.2047403596454358, -1.413483670874321, -1.4111779108302671, -1.3823629866624294, -1.327912907653552, -1.2614994688930286, -1.21868721735993, -1.1621904856642418, -1.053773884505669, -0.8481662702156291, -0.730408516730378, -0.757163759717907, -0.6484941439014631, -0.6562232471931148, -0.6361548057725402, -0.5830910647425487, -1.2043335541790645, -1.3416782216447205, -1.3209428464867685, -1.295200192243637, -1.2329110081162866, -1.1755437728521485, -1.13271392667412, -1.064426657110028, -0.9467242113238901, -0.758819230608894, -0.6737837783838313, -0.6959724251992516, -0.5697735931148705, -0.5875588026217572, -0.5099328178382251, -0.5404389491573046, -1.1888501436958387, -0.9765074609154829, -0.9852918325135256, -1.0229222015958315, -1.0102510805350722, -0.9836986880611683, -0.959689845697037, -0.8855939310812302, -0.768527294417171, -0.5783501442790983, -0.5540922570675533, -0.5606139120318906, -0.5457313260596625, -0.594159621889734, -0.5824083095733342, -0.5548197103677456, -1.2069351303296627, -1.3256521972341355, -1.301464520626864, -1.2677013921277647, -1.2175999573994283, -1.1580383437779007, -1.1005755104863417, -1.0266340272352, -0.8936009626300873, -0.6620972580542174, -0.6532127729693517, -0.5102501898671399, -0.6352526182679423, -0.5775724299793277, -0.6696018528525658, -0.6023364484327145, -1.204238449992948, -1.4096117783621207, -1.3797340311738011, -1.3435235130681449, -1.2814093708593188, -1.2122315989906582, -1.1724107993801278, -1.0803328856812813, -0.8886243975608835, -0.7564241076550711, -0.6048045357272412, -0.5268966832750002, -0.5502471323704959, -0.5077624984940864, -0.4283762915904161, -0.47851231086297347, -0.8385106263440371, -0.9144637414912875, -1.5798032353182618, -1.7222639253579648, -1.6651951471772952, -1.5224941652360409, -1.3839223502722875, -1.536827082099931, -1.3292499758822578, -1.166865296054957, -1.1839269734271742, -1.0167703269909905, -1.0105174806051331, -0.8591480003605775, -0.8080040212209497, -0.7285564359516168, -0.652920778347257, -0.5506659158577129, -0.5875595033780384, -0.8427853697647602, -0.9517026359917281, -1.5680924365993687, -1.7199951229018395, -1.6533089476465905, -1.515640927936678, -1.3797135974742292, -1.5243343232424955, -1.3141765937567504, -1.138455118722378, -1.1410460537135267, -1.0657036491133092, -1.0080230780978503, -0.8473795504433028, -0.811350394984218, -0.7236337173456404, -0.6102681423799412, -0.688501902944077, -0.45082353213113735, -0.8376779003747664, -0.9392850320923932, -1.4710239207442892, -1.6734824379698996, -1.6133102154855048, -1.4827811885901887, -1.3543591149983643, -1.4877770048778476, -1.2949349554404406, -1.150552024583887, -1.2535253649026168, -1.0413783089023654, -0.9791396874738426, -0.8525499545516672, -0.745752463906781, -0.6592230854740209, -0.5652165945611551, -0.4469215212285812, -0.3849147038130768, -0.8402728624713259, -0.9461136845471552, -1.5520600223397136, -1.6998725785602875, -1.6322383951461283, -1.4953213637103633, -1.3535946310949218, -1.500899123400345, -1.287698566710183, -1.080756458950594, -1.2349283992212692, -1.0387937475438176, -0.896542919934603, -0.832342815781244, -0.7873661470337946, -0.5442287879863563, -0.4990477087677712, -0.5664858448753536, -0.548227866585276, -0.8370834382132912, -0.9028351400325789, -1.5491557786513177, -1.677384961287664, -1.625225596627444, -1.5018313101443008, -1.3709982155194727, -1.518481623140562, -1.299291746666003, -1.1529018156584958, -1.2361626128306018, -1.0146025576515556, -0.9569267502641869, -0.8174627937229593, -0.7134912980572752, -0.7073686699935222, -0.6372599175012654, -0.6342467033687441, -0.5104009907824321, -0.827549934269638, -0.9126465149408576, -1.5589459038003572, -1.6842274338303684, -1.6194957315333034, -1.5019432563709962, -1.374728407584291, -1.5175615646610523, -1.3027582027841524, -1.1471008266293008, -1.2288519402307858, -1.0408129505721229, -0.9665560622065963, -0.8435009398619573, -0.7798521610151472, -0.6592524392516147, -0.5403556431911302, -0.4893825299061905, -0.3880320941790582, -0.8356076100951028, -0.95965121552819, -1.5512437645920776, -1.6925384423547754, -1.620517283489505, -1.4949233089206517, -1.3612726055821907, -1.5033534518092342, -1.2817307822129993, -1.149534703894546, -1.2641906882165557, -1.0431449875046617, -0.9483604621615869, -0.7888522767293655, -0.7875905245734554, -0.5951948307956135, -0.4506196701864922, -0.44460567309182436, -0.5090627295854486, -0.8427268287169456, -0.9397898995677606, -1.4714319472561634, -1.6771339406461205, -1.6135739482480047, -1.4921330516333142, -1.3610559593164604, -1.5124263733229948, -1.2815035279907914, -1.1480679597960315, -1.2653488444970895, -1.0076411041555933, -0.8887444152116525, -0.8132774267988302, -0.7881138760282409, -0.7490344495701583, -0.6161915582651675, -0.4818103980333601, -0.3828345258278192, -0.8404182087380809, -0.9552918938541651, -1.571386717283195, -1.7142554562423515, -1.661451471196903, -1.51476609757561, -1.380289930156387, -1.5384449626143344, -1.3177165937759485, -1.1623524406143488, -1.264720102574839, -1.0623316932200615, -0.9978474489343004, -0.7844547904351503, -0.7808577130852957, -0.7664658642518883, -0.5964886144577253, -0.482608968342337, -0.3708844574607067, -0.8351544507785988, -0.9112767741727092, -1.5791636310829007, -1.7279164839244134, -1.6643258582212612, -1.5365602715468767, -1.3872227090253375, -1.5347829009521405, -1.3224826435255217, -1.1776913529667976, -1.3090073526281072, -1.0707570285604269, -0.9863178092778915, -0.5637975258142456, -0.7846633881031682, -0.7294622522112425, -0.6434415139142784, -0.49420840420433, -0.44461942310578945, -0.5324901919542125, -0.8085335739047079, -0.7585477106307562, -0.6617987381924642, -0.3022436588107466, -0.32332284416572693, -0.3141111370632183, -0.3599635385058958, -0.27251963273072216, -0.3475633944323131], [-0.44447503014911427, -0.5431664213658296, -0.5842497360712771, -0.545394932657273, -0.502096011009059, -0.4412111659550156, -0.3918074531150712, -0.2890567088270345, -0.6285615072939257, -0.4875808980738616, -0.4261277965963748, -0.4300300332455157, -0.4178189208543152, -0.4078049913280896, -0.36037376022127393, -0.3165228760837884, -0.2944610236288498, -0.24512839817753398, -0.6118932193623036, -0.5246554521554048, -0.4751843355104382, -0.48133351583308803, -0.4490898979106483, -0.42370313317499886, -0.3624904766633713, -0.31913019529290143, -0.2913882483587247, -0.2501995266722981, -0.595165184385981, -0.535847871193572, -0.5064453263911635, -0.4831852434924644, -0.46938760446723443, -0.42815253854760027, -0.3690117994196311, -0.32857082762448725, -0.28313784505259426, -0.24600220276882973, -0.6149995842502298, -0.5211399253844905, -0.4908796482342904, -0.4820199526484285, -0.43645152583972985, -0.41811264043614477, -0.3447341858488132, -0.3106018950788088, -0.28677768244210977, -0.23791137378401192, -0.6458979082314936, -0.48679453433059977, -0.4323232826512362, -0.4536050521818481, -0.44653227102747955, -0.4280824671138897, -0.37299508495174144, -0.31931537975005947, -0.2695842389992154, -0.22986547242723884, -0.6361367932904677, -0.47271644963815307, -0.4180968200050489, -0.4631735053047186, -0.43157790182966077, -0.4095892951121487, -0.3681207322283554, -0.31623820783983897, -0.2778815202885737, -0.2417481325426052, -0.6050825275677353, -0.5100161015120976, -0.48444338441187057, -0.4717384582185418, -0.47225596775348033, -0.4133556002427883, -0.35592470290085426, -0.311685723347716, -0.2735152207603101, -0.23739130410989523, -0.6074008425899264, -0.5200610990142835, -0.5005347515016415, -0.4867217514507941, -0.45233580320150435, -0.4207958187383597, -0.35607584191934977, -0.3277600263158356, -0.2674301492583227, -0.25291147939519737, -0.6211114502244934, -0.5078175365765168, -0.4935481329081588, -0.471175932014624, -0.44769070743459893, -0.42686523651214064, -0.36446350201658306, -0.31580492785763076, -0.27681087488825257, -0.2388635995669516, -0.6328156369768279, -0.47165684144227343, -0.4176541686954528, -0.4160174945507548, -0.42232868359086456, -0.4088002611364211, -0.35726302490809864, -0.3262205197618702, -0.2819487843561663, -0.2572400862210383, -0.6148097388061217, -0.5156480509386906, -0.501016293472992, -0.49310714247418636, -0.4876397561383737, -0.48256887384867597, -0.45954754966145644, -0.4108526760508109, -0.34857300810470987, -0.27300854866828855, -0.5963865694917087, -0.5235467440893071, -0.49080697272029356, -0.4887249681538197, -0.4803645365985234, -0.46461846809270085, -0.45167113057707853, -0.4108860224754344, -0.3404092972874748, -0.2719330787083823, -0.5907051376153241, -0.5221982928223223, -0.49859838487206426, -0.482255029161959, -0.47949756055001713, -0.4762497760641508, -0.4645223855308903, -0.40790727594835596, -0.34756461299053926, -0.27424376532133077, -0.5920598239132451, -0.5173309081733922, -0.48643148825869664, -0.5024283403613227, -0.4851610150863244, -0.4736291582793939, -0.467244410335332, -0.4138416052403098, -0.33821463973153476, -0.2710406806226001, -0.6102718299907128, -0.5138906305429594, -0.49209429349715383, -0.49472495472876765, -0.4795044279200069, -0.48439153232149346, -0.45635147898365425, -0.41704963592628863, -0.34247629815871056, -0.2726812740135988, -0.6222259344393354, -0.5078819420923547, -0.4958738775149859, -0.4900341690649415, -0.4876853133257897, -0.4870731948053092, -0.467308822937586, -0.4116808702055284, -0.3349510012264533, -0.2753479016986219, -0.6348076634633483, -0.5122440998299941, -0.5057921152608852, -0.4922426380599864, -0.48648886164447347, -0.4734298141996407, -0.4602458958756672, -0.41162956201988904, -0.3435382558452711, -0.2651555948765971, -0.6431544613070159, -0.5043872224335098, -0.4952745824937043, -0.49002498796433674, -0.47534868564370686, -0.47158647858343516, -0.46765453044021915, -0.40874831275260387, -0.3466522007378996, -0.2684828196716418, -0.6365074775726639, -0.510064905969466, -0.49560029494545127, -0.491216360050258, -0.4780702106990953, -0.47462151526269536, -0.4524218521040514, -0.39978177024651423, -0.3507955900690254, -0.2717129514060886, -0.6219533524343507, -0.5190222405258003, -0.48972496754327616, -0.47576382886414853, -0.47810404861766936, -0.4719858565591518, -0.4502297349016659, -0.40392303984576755, -0.3434740660830849, -0.27736037714282047, -0.48077795186163463, -0.5916282987982899, -0.5897071668598466, -0.48699154213412726, -0.31287133362892344, -0.6076027272809623, -0.5038378066101052, -0.4434372051505363, -0.376025385836183, -0.3706243193323152, -0.3386591854806217, -0.32322871345924625, -0.29064580591787514, -0.3015300821555805, -0.28199777428509026, -0.2913164436128027, -0.2676844245459403, -0.2804047728519794, -0.3626429159165769, -0.3827542286840619, -0.586699102650365, -0.49786327662811347, -0.4613920701147284, -0.4021834696375441, -0.366878409287115, -0.3291296586045831, -0.31882239091697934, -0.31564094829913086, -0.30205073595136955, -0.2894860173665042, -0.27891737591511395, -0.2672640126052154, -0.2531245511520915, -0.34372331669666006, -0.3739287589397678, -0.5916418088837625, -0.5104790143285047, -0.44920890777616895, -0.3965426878655206, -0.3647980212058905, -0.339353626887868, -0.33066345520045615, -0.3095237057955826, -0.3020167036189278, -0.3054930486977996, -0.29516951047722645, -0.2810081188671267, -0.26975687394943765, -0.33928297385016465, -0.35913114436517257, -0.5874078561024899, -0.5039780420097524, -0.42850318450396363, -0.39990905932688764, -0.3711951589320628, -0.3463083624836142, -0.33469993001201587, -0.33377716684977604, -0.3174784073761605, -0.31610606601385194, -0.3148424762365845, -0.2901544704987702, -0.2913499841645187, -0.34989666666834257, -0.365102357478922, -0.5999481788215204, -0.5058032168403481, -0.4543011071143964, -0.39610632706973514, -0.3802745590717626, -0.3368454842084697, -0.33260549388956107, -0.3242149316494957, -0.3263115882521968, -0.3063963790927465, -0.29639652860688337, -0.2949081873868769, -0.28963783814181504, -0.35623214205579934, -0.375768413910214, -0.5818312756796874, -0.5111533842261368, -0.45596640692751245, -0.4053961301190564, -0.384507554705981, -0.36529111957964633, -0.3473082430166417, -0.31165811431487916, -0.31130856774520616, -0.30402971272808305, -0.28441938316312515, -0.2926352680054935, -0.2897468359938436, -0.34246190274805793, -0.37031426064884715, -0.5886594249813283, -0.49888497912813784, -0.42513849137255155, -0.4105741655451076, -0.3825572785017405, -0.361996833222776, -0.3462718864610768, -0.3297277394744141, -0.3243571237200581, -0.3048701703894017, -0.29637277274114426, -0.30021343800171774, -0.2776679603853874, -0.34701593603955105, -0.348174491075861, -0.6174277168508465, -0.5012903984917486, -0.45813570747614224, -0.39754045469643073, -0.37025421544728615, -0.3491299897264512, -0.33789779642508533, -0.3128331822115829, -0.30966395083491155, -0.3023235833849841, -0.2881706584055483, -0.2781865643213663, -0.2686868756737913, -0.3301161285263748, -0.3377113398053338, -0.593176501679748, -0.4919773293703972, -0.4510596690623056, -0.40460058208609656, -0.37123017164628014, -0.3352619284506126, -0.3224819443698061, -0.30898515451944075, -0.2970093787557957, -0.28563474788246335, -0.27349551360195723, -0.275251260166438, -0.272173164168102, -0.3472196776605248, -0.3399186702595909, -0.5855845443862898, -0.5201057793758315, -0.42735615849508346, -0.3967314155556618, -0.3694876479436075, -0.3275732131467861, -0.3162074828599871, -0.3140817480855387, -0.2913877458228663, -0.2915467267127596, -0.28886665984948484, -0.29745041521748783, -0.2682853391304375, -0.3696099821539069, -0.37588212505411306, -0.4678321287892604, -0.4596915993373283, -0.4020268890324233, -0.3732291434105115, -0.3839065506821171, -0.3487776033777968, -0.34077561266118384, -0.31920693344661094, -0.3129498220517002, -0.2786228632364965, -0.28920553828693923, -0.2591552971563692, -0.2438571057546552, -0.2788554477074618, -0.3442601376913183, -0.40122560193300383, -0.47436900018619116, -0.43608116410529496, -0.4233526613789705, -0.3835828887973269, -0.38711359831469394, -0.35600623200468345, -0.33903020200306744, -0.3070400790643448, -0.3032547943358708, -0.28243922550119765, -0.2736163702663525, -0.26171107202694693, -0.2566858707617782, -0.28486261456677275, -0.31302446268405126, -0.3747663778502663, -0.49875379474903686, -0.4275079221461796, -0.41319625053118675, -0.3751291548024395, -0.38788005493988187, -0.37131397226058477, -0.35585883058770695, -0.3219213742786499, -0.31133965763935617, -0.29614747007789627, -0.28458763126418046, -0.27218393180255906, -0.24085979932881982, -0.29229530847200674, -0.31071492820794083, -0.38619311575962617, -0.49746491063242015, -0.4519508054796404, -0.42597253619433356, -0.3979300127900791, -0.38247298199640445, -0.37156418717124257, -0.35272941456376516, -0.32945795886242746, -0.31930324836249363, -0.28431766252741547, -0.2809908217866247, -0.28366710710864457, -0.2648333623761866, -0.29572268313207245, -0.3228405678832029, -0.3902265779349312, -0.4757919935526413, -0.47061790180054097, -0.42020789453300456, -0.40824223922141056, -0.379145870711411, -0.3462925146279889, -0.358105185484415, -0.3458160928614016, -0.3157496338425395, -0.3158681445215518, -0.2834338156192793, -0.28232030375574807, -0.2638774434749245, -0.3004942847272994, -0.3375428606463279, -0.35994673277737893, -0.4961754738088896, -0.4606036963899096, -0.429352053491489, -0.40186745658625783, -0.39268666478549147, -0.3725189482111498, -0.3466956175556374, -0.3457725050861004, -0.3275884123308589, -0.3068599999003847, -0.29651180521654497, -0.27176745734342794, -0.25979175842100466, -0.3064411694210008, -0.3294206123722184, -0.3766474308730756, -0.49309121194189676, -0.46156563753409646, -0.42200021069163085, -0.4038212078382311, -0.39075358755990186, -0.35687184744498907, -0.34076607566706424, -0.32454087805194337, -0.3172331284631655, -0.2842515211809796, -0.2856978798137168, -0.2676466510174618, -0.2547525928370774, -0.28960437077372475, -0.30624126925019757, -0.3872869114707879, -0.49878372314129016, -0.43995911739224053, -0.41368753467581704, -0.3968049312308353, -0.37874829514397534, -0.3496101322080375, -0.340901080936402, -0.3249591372268154, -0.32099691101306416, -0.3073200275926578, -0.2778622507817346, -0.2671250225186917, -0.26892909968029804, -0.27993697991526545, -0.30554273370286955, -0.39196040932153986, -0.518089336633777, -0.45236665822301303, -0.4058076652653573, -0.3788712669799694, -0.3722480500105696, -0.3339653219234835, -0.3360303068741758, -0.30990933093308315, -0.31719113082713163, -0.29268531288071076, -0.26775509078266685, -0.2598940869995518, -0.24751466301776345, -0.3017421334633399, -0.3092368567518102, -0.39812696591117386, -0.5013030826145295, -0.4417945195808794, -0.4167866748337037, -0.3805788095680783, -0.3542562652631123, -0.3315444053414966, -0.3132555126332472, -0.3123054542061924, -0.2886332324028475, -0.2805683947407635, -0.27752309701635897, -0.2728483116742941, -0.254044749491303, -0.29880468119279474, -0.3316658828409362, -0.3801256337060637, -0.37682996977254546, -0.40360416725791154, -0.39940994106626876, -0.3905267105272526, -0.35612649432278654, -0.33413094006632815, -0.367103333498031, -0.34713188974726916, -0.3783940073618605, -0.43687581366528877], []]\n",
      "[[8192.]\n",
      " [8192.]\n",
      " [8192.]\n",
      " ...\n",
      " [8192.]\n",
      " [8192.]\n",
      " [8192.]]\n",
      "[[8356.3439183 ]\n",
      " [8269.03740429]\n",
      " [8348.57122201]\n",
      " ...\n",
      " [8087.42425755]\n",
      " [8005.70623421]\n",
      " [8187.25121353]] [3199.25725237] [9770.86046904]\n"
     ]
    }
   ],
   "source": [
    "# of datasets (hdf files), # of showers in the first dataset gf, # of showers in the second dataset pf\n",
    "print(nplcats, len(nplcats), len(nplcats[0]), len(nplcats[1]))\n",
    "print(nplcatscaled)\n",
    "print(transformers)\n",
    "print(\"arrmins: \", arrmins)\n",
    "\n",
    "print(np.array(gf['energy']))\n",
    "print(np.array(gf['energy_from_voxels']), min(np.array(gf['energy_from_voxels'])), max(np.array(gf['energy_from_voxels'])))\n",
    "\n",
    "# nplcatscaled_t = np.array(nplcatscaled, dtype=np.int16)\n",
    "# transformers = np.array(transformers, dtype=np.int16)\n",
    "# arrmins = np.array(arrmins, dtype=np.int16)"
   ]
  },
  {
   "cell_type": "code",
   "execution_count": 35,
   "id": "4d310d9b",
   "metadata": {},
   "outputs": [],
   "source": [
    "gf_scaled = h5py.File('/raid/javier/Datasets/CaloVAE/data/atlas_scaled/photons_samples_highStat_En_5.hdf5', 'w')\n",
    "pf_scaled = h5py.File('/raid/javier/Datasets/CaloVAE/data/atlas_scaled/pions_samples_highStat_En_5.hdf5', 'w')\n"
   ]
  },
  {
   "cell_type": "code",
   "execution_count": 36,
   "id": "64af89f8",
   "metadata": {},
   "outputs": [
    {
     "name": "stdout",
     "output_type": "stream",
     "text": [
      "###########\n",
      "(99933, 368)\n",
      "(99933, 368)\n",
      "(99933, 368)\n",
      "###########\n",
      "(99999, 533)\n",
      "(99999, 533)\n",
      "(99999, 533)\n"
     ]
    }
   ],
   "source": [
    "\n",
    "hdfs_scaled = [gf_scaled, pf_scaled]\n",
    "# hdfs_scaled = [ef_scaled, gf_scaled, pf_scaled]\n",
    "layer_shapes = {}\n",
    "for hdf in hdfs:\n",
    "    for key in hdf.keys():\n",
    "        if key == \"energy\" or key == \"overflow\" or key == \"energy_from_voxels\":\n",
    "            pass\n",
    "        else:\n",
    "#             layer_shapes[key] = hdf[key].shape\n",
    "            layer_shapes[hdf] = {key : hdf[key].shape}\n",
    "        \n",
    "        \n",
    "\n",
    "for hdf, hdf_scaled, scaled_data in zip(hdfs, hdfs_scaled, nplcatscaled):\n",
    "    offset = 0\n",
    "    for key in hdf.keys():\n",
    "        if key == \"energy\" or key == \"overflow\" or key == \"energy_from_voxels\":\n",
    "            hdf_scaled.create_dataset(key, data=hdf[key])\n",
    "        else:\n",
    "            layer_shape = layer_shapes[hdf][key]\n",
    "            print(\"###########\")\n",
    "            print(layer_shape)\n",
    "            print(scaled_data.shape)\n",
    "#             layer_data = scaled_data[:, offset:offset+(layer_shape[1]*layer_shape[2])]\n",
    "            layer_data = scaled_data[:, offset:offset+layer_shape[1]]\n",
    "            print(layer_data.shape)\n",
    "            layer_data = layer_data.reshape(layer_shape)\n",
    "            hdf_scaled.create_dataset(key, data=layer_data)\n",
    "#             offset += layer_shape[1]*layer_shape[2]\n",
    "            offset += layer_shape[1]\n",
    "\n"
   ]
  },
  {
   "cell_type": "code",
   "execution_count": 37,
   "id": "d1fda7a0",
   "metadata": {},
   "outputs": [
    {
     "name": "stdout",
     "output_type": "stream",
     "text": [
      "energy (99933, 1) float64\n",
      "energy_from_voxels (99933, 1) float64\n",
      "voxels (99933, 368) float64\n",
      "energy (99999, 1) float64\n",
      "energy_from_voxels (99999, 1) float64\n",
      "voxels (99999, 533) float64\n"
     ]
    }
   ],
   "source": [
    "for hdf_scaled in hdfs_scaled:\n",
    "    for key in hdf_scaled.keys():\n",
    "        print(key, hdf_scaled[key].shape, hdf_scaled[key].dtype)\n",
    "        \n",
    "for hdf_scaled in hdfs_scaled:\n",
    "    hdf_scaled.close()\n",
    "    \n",
    "    \n"
   ]
  },
  {
   "cell_type": "code",
   "execution_count": 38,
   "id": "39dd3ab7",
   "metadata": {},
   "outputs": [],
   "source": [
    "# Inverse transform\n",
    "\n",
    "\n",
    "nplcatinv = []\n",
    "\n",
    "for i in range(len(nplcatscaled)):\n",
    "    nparr = nplcatscaled[i]\n",
    "    nparr = np.where(nparr > 0., nparr, np.nan)\n",
    "    \n",
    "    for j in range(nparr.shape[1]):\n",
    "        arrmin = arrmins[i][j]\n",
    "        if arrmin < 0. and not np.isnan(arrmin):\n",
    "            nparr[:, j] -= epsilon\n",
    "            nparr[:, j] += arrmin\n",
    "            \n",
    "    transformer = transformers[i]\n",
    "    nparr = transformer.inverse_transform(nparr)\n",
    "    \n",
    "    nparr = np.where(np.isinf(nparr), 0, nparr)\n",
    "    nplcatinv.append(nparr)\n",
    "\n",
    "\n",
    "for i in range(len(nplcatinv)):\n",
    "    nparrorig = nplcats[i]\n",
    "    nparrinv = nplcatinv[i]\n",
    "    \n",
    "    for j in range(nparrorig.shape[1]):\n",
    "        diff = np.sum(nparrorig[:, j] - nparrinv[:, j])\n",
    "        if diff > 0:\n",
    "            print(i, j, diff)\n",
    "            \n",
    "params = transformers[0].get_params()\n",
    "\n"
   ]
  },
  {
   "cell_type": "code",
   "execution_count": null,
   "id": "db0d3207",
   "metadata": {},
   "outputs": [],
   "source": [
    "gf_scaled = h5py.File('/raid/javier/Datasets/CaloVAE/data/atlas_scaled/photons_samples_highStat_En_5.hdf5', 'w')\n",
    "pf_scaled = h5py.File('/raid/javier/Datasets/CaloVAE/data/atlas_scaled/pions_samples_highStat_En_5.hdf5', 'w')"
   ]
  },
  {
   "cell_type": "code",
   "execution_count": 39,
   "id": "3afdae72",
   "metadata": {},
   "outputs": [
    {
     "data": {
      "text/plain": [
       "['/raid/javier/Datasets/CaloVAE/data/atlas_scaled/pions_samples_highStat_En_5_scaler.gz']"
      ]
     },
     "execution_count": 39,
     "metadata": {},
     "output_type": "execute_result"
    }
   ],
   "source": [
    "import joblib\n",
    "\n",
    "# joblib.dump(transformers[0], 'scaler.gz')\n",
    "# transformer = joblib.load('scaler.gz')\n",
    "\n",
    "joblib.dump(transformers[0], '/raid/javier/Datasets/CaloVAE/data/atlas_scaled/photons_samples_highStat_En_5_scaler.gz')\n",
    "joblib.dump(transformers[1], '/raid/javier/Datasets/CaloVAE/data/atlas_scaled/pions_samples_highStat_En_5_scaler.gz')\n",
    "\n"
   ]
  },
  {
   "cell_type": "code",
   "execution_count": 40,
   "id": "ce2c8dcc",
   "metadata": {},
   "outputs": [],
   "source": [
    "ld_transformers = []\n",
    "ld_transformers.append(joblib.load('/raid/javier/Datasets/CaloVAE/data/atlas_scaled/photons_samples_highStat_En_5_scaler.gz'))\n",
    "ld_transformers.append(joblib.load('/raid/javier/Datasets/CaloVAE/data/atlas_scaled/pions_samples_highStat_En_5_scaler.gz'))\n",
    "\n",
    "nplcatinv = []\n",
    "\n",
    "for i in range(len(nplcatscaled)):\n",
    "    nparr = nplcatscaled[i]\n",
    "    nparr = np.where(nparr > 0., nparr, np.inf)\n",
    "    \n",
    "    for j in range(nparr.shape[1]):\n",
    "        arrmin = arrmins[i][j]\n",
    "        if arrmin < 0. and not np.isnan(arrmin):\n",
    "            nparr[:, j] -= epsilon\n",
    "            nparr[:, j] += arrmin\n",
    "            \n",
    "    transformer = ld_transformers[i]\n",
    "    nparr = transformer.inverse_transform(nparr)\n",
    "    \n",
    "    nparr = np.where(np.isnan(nparr), 0, nparr)\n",
    "    nplcatinv.append(nparr)\n",
    "    \n"
   ]
  },
  {
   "cell_type": "code",
   "execution_count": 41,
   "id": "5d9cb4da",
   "metadata": {},
   "outputs": [],
   "source": [
    "for i in range(len(nplcatinv)):\n",
    "    nparrorig = nplcats[i]\n",
    "    nparrinv = nplcatinv[i]\n",
    "    \n",
    "    for j in range(nparrorig.shape[1]):\n",
    "        diff = np.sum(nparrorig[:, j] - nparrinv[:, j])\n",
    "        if diff > 1e-4:\n",
    "            print(i, j, diff)\n",
    "            \n"
   ]
  },
  {
   "cell_type": "code",
   "execution_count": 42,
   "id": "034ea478",
   "metadata": {},
   "outputs": [],
   "source": [
    "for i, ptype in enumerate([\"photons_samples_highStat_En_5\", \"pions_samples_highStat_En_5\"]):\n",
    "    filepath = \"/raid/javier/Datasets/CaloVAE/data/atlas_scaled/\" + ptype + \"_amin.npy\"\n",
    "    with open(filepath, 'wb') as f:\n",
    "        np.save(f, arrmins[i])"
   ]
  },
  {
   "cell_type": "code",
   "execution_count": null,
   "id": "ef68858a",
   "metadata": {},
   "outputs": [],
   "source": [
    "# ATLAS ds 2"
   ]
  },
  {
   "cell_type": "code",
   "execution_count": null,
   "id": "571dba4d",
   "metadata": {},
   "outputs": [],
   "source": []
  },
  {
   "cell_type": "code",
   "execution_count": 4,
   "id": "5f75103b",
   "metadata": {
    "tags": []
   },
   "outputs": [],
   "source": [
    "gf = h5py.File(\"/fast_scratch/QVAE/data/atlas_dataset2and3_uniform/dataset_2_1.hdf5\", 'r')"
   ]
  },
  {
   "cell_type": "code",
   "execution_count": 5,
   "id": "ee439f60",
   "metadata": {
    "tags": []
   },
   "outputs": [],
   "source": [
    "hdfs = [gf]\n",
    "nplcats = []\n",
    "\n",
    "for hdf in hdfs:\n",
    "    npl0 = np.array(hdf['showers'])\n",
    "    \n",
    "    npl0 = npl0.reshape(npl0.shape[0], -1)\n",
    "    \n",
    "    nplcats.append(np.concatenate([npl0], axis=1))\n",
    "    \n",
    "nplcatscaled = []\n",
    "transformers = []\n",
    "arrmins = [[], [], []]\n",
    "epsilon = 1e-2\n",
    "\n",
    "for i in range(len(nplcats)):\n",
    "    nparr = nplcats[i]\n",
    "    nparr = np.where(nparr > 0., nparr, np.nan)\n",
    "    transformer = StandardScaler().fit(nparr)\n",
    "    nparr = transformer.transform(nparr)\n",
    "    transformers.append(transformer)\n",
    "    \n",
    "    nparr = np.where(np.isnan(nparr), np.inf, nparr)\n",
    "    \n",
    "    for j in range(nparr.shape[1]):\n",
    "        arrmin = np.amin(nparr[:, j])\n",
    "        \n",
    "        if arrmin < 0 and not np.isnan(arrmin):\n",
    "            nparr[:, j] -= arrmin\n",
    "            nparr[:, j] += epsilon\n",
    "            arrmins[i].append(arrmin)\n",
    "        else:\n",
    "            arrmins[i].append(0.)\n",
    "            \n",
    "    nparr = np.where(np.isinf(nparr), 0, nparr)\n",
    "    \n",
    "    for j in range(nparr.shape[1]):\n",
    "        arrmin = np.amin(nparr[:, j])\n",
    "        if arrmin < 0:\n",
    "            print(j, arrmin)\n",
    "            \n",
    "    nplcatscaled.append(nparr)\n",
    "    \n"
   ]
  },
  {
   "cell_type": "code",
   "execution_count": 6,
   "id": "c59eda52",
   "metadata": {
    "tags": []
   },
   "outputs": [],
   "source": [
    "gf_scaled = h5py.File(\"/fast_scratch/QVAE/data/atlas_dataset2and3_scaled/uniform_dataset_2_1.hdf5\", 'w')\n",
    "# pf_scaled = h5py.File('/raid/javier/Datasets/CaloVAE/data/atlas_scaled/pions_samples_highStat_En_5.hdf5', 'w')\n"
   ]
  },
  {
   "cell_type": "code",
   "execution_count": 7,
   "id": "c3ce9ef6",
   "metadata": {
    "tags": []
   },
   "outputs": [
    {
     "name": "stdout",
     "output_type": "stream",
     "text": [
      "###########\n",
      "(15924, 6480)\n",
      "(15924, 6480)\n",
      "(15924, 6480)\n"
     ]
    }
   ],
   "source": [
    "\n",
    "hdfs_scaled = [gf_scaled]\n",
    "# hdfs_scaled = [ef_scaled, gf_scaled, pf_scaled]\n",
    "layer_shapes = {}\n",
    "for hdf in hdfs:\n",
    "    for key in hdf.keys():\n",
    "        if key == \"energy\" or key == \"overflow\" or key == \"energy_from_voxels\":\n",
    "            pass\n",
    "        else:\n",
    "#             layer_shapes[key] = hdf[key].shape\n",
    "            layer_shapes[hdf] = {key : hdf[key].shape}\n",
    "        \n",
    "        \n",
    "\n",
    "for hdf, hdf_scaled, scaled_data in zip(hdfs, hdfs_scaled, nplcatscaled):\n",
    "    offset = 0\n",
    "    for key in hdf.keys():\n",
    "        if key == \"energy\" or key == \"overflow\" or key == \"energy_from_voxels\" or key == \"incident_energies\":\n",
    "            hdf_scaled.create_dataset(key, data=hdf[key])\n",
    "        else:\n",
    "            layer_shape = layer_shapes[hdf][key]\n",
    "            print(\"###########\")\n",
    "            print(layer_shape)\n",
    "            print(scaled_data.shape)\n",
    "#             layer_data = scaled_data[:, offset:offset+(layer_shape[1]*layer_shape[2])]\n",
    "            layer_data = scaled_data[:, offset:offset+layer_shape[1]]\n",
    "            print(layer_data.shape)\n",
    "            layer_data = layer_data.reshape(layer_shape)\n",
    "            hdf_scaled.create_dataset(key, data=layer_data)\n",
    "#             offset += layer_shape[1]*layer_shape[2]\n",
    "            offset += layer_shape[1]\n",
    "\n"
   ]
  },
  {
   "cell_type": "code",
   "execution_count": 8,
   "id": "cff4765c",
   "metadata": {
    "tags": []
   },
   "outputs": [
    {
     "name": "stdout",
     "output_type": "stream",
     "text": [
      "incident_energies (15924, 1) float64\n",
      "showers (15924, 6480) float64\n"
     ]
    }
   ],
   "source": [
    "for hdf_scaled in hdfs_scaled:\n",
    "    for key in hdf_scaled.keys():\n",
    "        print(key, hdf_scaled[key].shape, hdf_scaled[key].dtype)\n",
    "        \n",
    "for hdf_scaled in hdfs_scaled:\n",
    "    hdf_scaled.close()\n",
    "    \n",
    "    \n"
   ]
  },
  {
   "cell_type": "code",
   "execution_count": 9,
   "id": "65a42579",
   "metadata": {
    "tags": []
   },
   "outputs": [],
   "source": [
    "# Inverse transform\n",
    "\n",
    "\n",
    "nplcatinv = []\n",
    "\n",
    "for i in range(len(nplcatscaled)):\n",
    "    nparr = nplcatscaled[i]\n",
    "    nparr = np.where(nparr > 0., nparr, np.nan)\n",
    "    \n",
    "    for j in range(nparr.shape[1]):\n",
    "        arrmin = arrmins[i][j]\n",
    "        if arrmin < 0. and not np.isnan(arrmin):\n",
    "            nparr[:, j] -= epsilon\n",
    "            nparr[:, j] += arrmin\n",
    "            \n",
    "    transformer = transformers[i]\n",
    "    nparr = transformer.inverse_transform(nparr)\n",
    "    \n",
    "    nparr = np.where(np.isinf(nparr), 0, nparr)\n",
    "    nplcatinv.append(nparr)\n",
    "\n",
    "\n",
    "for i in range(len(nplcatinv)):\n",
    "    nparrorig = nplcats[i]\n",
    "    nparrinv = nplcatinv[i]\n",
    "    \n",
    "    for j in range(nparrorig.shape[1]):\n",
    "        diff = np.sum(nparrorig[:, j] - nparrinv[:, j])\n",
    "        if diff > 0:\n",
    "            print(i, j, diff)\n",
    "            \n",
    "params = transformers[0].get_params()\n",
    "\n"
   ]
  },
  {
   "cell_type": "code",
   "execution_count": 10,
   "id": "93004bbe",
   "metadata": {
    "tags": []
   },
   "outputs": [],
   "source": [
    "# gf_scaled = h5py.File('/raid/javier/Datasets/CaloVAE/data/atlas_dataset2and3_scaled/dataset_2_1.hdf5', 'w')\n",
    "# pf_scaled = h5py.File('/raid/javier/Datasets/CaloVAE/data/atlas_scaled/pions_samples_highStat_En_5.hdf5', 'w')"
   ]
  },
  {
   "cell_type": "code",
   "execution_count": 11,
   "id": "707e59df",
   "metadata": {
    "tags": []
   },
   "outputs": [
    {
     "data": {
      "text/plain": [
       "['/fast_scratch/QVAE/data/atlas_dataset2and3_scaled/uniform_dataset_2_1_scaler.gz']"
      ]
     },
     "execution_count": 11,
     "metadata": {},
     "output_type": "execute_result"
    }
   ],
   "source": [
    "import joblib\n",
    "\n",
    "# joblib.dump(transformers[0], 'scaler.gz')\n",
    "# transformer = joblib.load('scaler.gz')\n",
    "\n",
    "joblib.dump(transformers[0], '/fast_scratch/QVAE/data/atlas_dataset2and3_scaled/uniform_dataset_2_1_scaler.gz')\n",
    "# joblib.dump(transformers[1], '/raid/javier/Datasets/CaloVAE/data/atlas_scaled/pions_samples_highStat_En_5_scaler.gz')\n",
    "\n"
   ]
  },
  {
   "cell_type": "code",
   "execution_count": 12,
   "id": "2738e1b9",
   "metadata": {
    "tags": []
   },
   "outputs": [],
   "source": [
    "ld_transformers = []\n",
    "ld_transformers.append(joblib.load('/fast_scratch/QVAE/data/atlas_dataset2and3_scaled/uniform_dataset_2_1_scaler.gz'))\n",
    "# ld_transformers.append(joblib.load('/raid/javier/Datasets/CaloVAE/data/atlas_scaled/pions_samples_highStat_En_5_scaler.gz'))\n",
    "\n",
    "nplcatinv = []\n",
    "\n",
    "for i in range(len(nplcatscaled)):\n",
    "    nparr = nplcatscaled[i]\n",
    "    # nparr = np.where(nparr > 0., nparr, np.inf)\n",
    "    nparr = np.where(nparr > 0., nparr, np.nan)\n",
    "    \n",
    "    for j in range(nparr.shape[1]):\n",
    "        arrmin = arrmins[i][j]\n",
    "        if arrmin < 0. and not np.isnan(arrmin):\n",
    "            nparr[:, j] -= epsilon\n",
    "            nparr[:, j] += arrmin\n",
    "            \n",
    "    transformer = ld_transformers[i]\n",
    "    nparr = transformer.inverse_transform(nparr)\n",
    "    \n",
    "    # nparr = np.where(np.isnan(nparr), 0, nparr)\n",
    "    nparr = np.where(np.isnan(nparr), 0, nparr)\n",
    "    nplcatinv.append(nparr)\n",
    "    \n"
   ]
  },
  {
   "cell_type": "code",
   "execution_count": 13,
   "id": "c8bf2f53",
   "metadata": {
    "tags": []
   },
   "outputs": [],
   "source": [
    "for i in range(len(nplcatinv)):\n",
    "    nparrorig = nplcats[i]\n",
    "    nparrinv = nplcatinv[i]\n",
    "    \n",
    "    for j in range(nparrorig.shape[1]):\n",
    "        diff = np.sum(nparrorig[:, j] - nparrinv[:, j])\n",
    "        if diff > 1e-4:\n",
    "            print(i, j, diff)\n",
    "            \n"
   ]
  },
  {
   "cell_type": "code",
   "execution_count": 14,
   "id": "ed287459",
   "metadata": {
    "tags": []
   },
   "outputs": [],
   "source": [
    "for i, ptype in enumerate([\"dataset_2_1\"]):\n",
    "    filepath = \"/fast_scratch/QVAE/data/atlas_dataset2and3_scaled/uniform_\" + ptype + \"_amin.npy\"\n",
    "    with open(filepath, 'wb') as f:\n",
    "        np.save(f, arrmins[i])"
   ]
  },
  {
   "cell_type": "code",
   "execution_count": null,
   "id": "559cdd09",
   "metadata": {},
   "outputs": [],
   "source": []
  }
 ],
 "metadata": {
  "kernelspec": {
   "display_name": "Python 3 (ipykernel)",
   "language": "python",
   "name": "python3"
  },
  "language_info": {
   "codemirror_mode": {
    "name": "ipython",
    "version": 3
   },
   "file_extension": ".py",
   "mimetype": "text/x-python",
   "name": "python",
   "nbconvert_exporter": "python",
   "pygments_lexer": "ipython3",
   "version": "3.8.10"
  }
 },
 "nbformat": 4,
 "nbformat_minor": 5
}
