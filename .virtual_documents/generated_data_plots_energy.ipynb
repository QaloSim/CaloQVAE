import h5py
import numpy as np
import matplotlib.pyplot as plt
from matplotlib import gridspec

from matplotlib.ticker import AutoMinorLocator
import matplotlib.patches as patches


# fpath = "/fast_scratch/QVAE/syn_data/dataset2_synthetic_macabre-candle-1372v2.hdf5"

# fpath = "/fast_scratch/QVAE/data/atlas_dataset2and3/dataset_2_synthetic_uncond_enc.hdf5" #/fast_scratch/QVAE/data/atlas_dataset2and3_uniform/dataset_2_synthetic.hdf5" #"/fast_scratch/QVAE/syn_data/dataset2_synthetic_nohits.hdf5" #"/fast_scratch/QVAE/syn_data/dataset2_synthetic.hdf5"

# fpath = "/fast_scratch/QVAE/syn_data/wise-tree-1429.hdf5"

# fpath = "/fast_scratch_1/caloqvae/syn_data/dataset2_synthetic_robust-serenity-216en150.hdf5"

fpath = "/fast_scratch_1/caloqvae/syn_data/dataset2_synthetic_firm-field-235en130.hdf5"
in_data=h5py.File(fpath,'r')

atlas_fpath = "/fast_scratch_1/caloqvae/test_data/dataset_2_2.hdf5"  #"/fast_scratch/QVAE/data/atlas_dataset2and3_uniform/dataset_2_1.hdf5"  
atlas_data=h5py.File(atlas_fpath,'r')

test_fpath = "/fast_scratch_1/caloqvae/test_data/dataset_2_2.hdf5"
test_data=h5py.File(atlas_fpath,'r')


print(in_data.keys())


low_cutoff = 0
high_cutoff = 2000





# atlas_energies = np.array(atlas_data["incident_energies"])/1000
# data_energies = np.array(in_data['incident_energies'])/1000 #loaded['energy']/1000 

atlas_energies = np.array(atlas_data["incident_energies"])/1000
data_energies = np.array(in_data['incidence energy'])/1000 #loaded['energy']/1000 






atlas_data = np.array(atlas_data["showers"]) #[((low_cutoff < atlas_energies) & (atlas_energies < high_cutoff)).squeeze()]
data = np.array(in_data['showers']) #[((low_cutoff < data_energies) & (data_energies < high_cutoff)).squeeze()] 


plt.hist(atlas_data.sum(axis=1) / 1000 , log=False, bins=1000);
plt.xlabel("Total Energy (GeV)");
plt.ylabel("Counts");


counts = plt.hist(data.sum(axis=1) / 1000 , log=False, bins=400);
plt.xlabel("Total Energy (GeV)");
plt.ylabel("Counts");


plt.scatter(data_energies, data.sum(axis=1) / 1000, label="Robust Tree Synthetic Data")
plt.scatter(atlas_energies, atlas_data.sum(axis=1) / 1000, label="Atlas Data")
plt.ylabel("Total Energy (GeV)");
plt.xlabel("Incidence Energy (GeV)");
plt.legend();



print(atlas_data.shape)
print(data.shape)


data = (data).mean(axis=0)
atlas_data = (atlas_data).mean(axis=0)


data = np.reshape(data, (45,16,9))
atlas_data = np.reshape(atlas_data, (45,16,9))


data.shape
atlas_data.shape


r_avg_data = data.sum(axis=0).sum(axis=0) /1000
r_avg_atlas_data = atlas_data.sum(axis=0).sum(axis=0) /1000

theta_avg_data = data.sum(axis=0).sum(axis=1) /1000
theta_avg_atlas_data = atlas_data.sum(axis=0).sum(axis=1) /1000

layer_avg_data = data.sum(axis=1).sum(axis=1) /1000
layer_avg_atlas_data = atlas_data.sum(axis=1).sum(axis=1) /1000


print("r-bin average arrays")
print(r_avg_data.shape)
print(r_avg_atlas_data.shape)

print("theta-bin average arrays")
print(theta_avg_data.shape)
print(theta_avg_atlas_data.shape)

print("layer-bin average arrays")
print(layer_avg_data.shape)
print(layer_avg_atlas_data.shape)


fig = plt.figure(figsize=(9, 9))
gs = gridspec.GridSpec(3, 1, height_ratios=[3,1,1]) 
gs.update(wspace=0.025, hspace=0.1)

ax0 = plt.subplot(gs[0])
plt.xticks(fontsize=0)
ax1 = plt.subplot(gs[1],sharex=ax0)
plt.xticks(fontsize=0)
ax2 = plt.subplot(gs[2],sharex=ax0)

plot_label = 'CaloQVAE'
atlas_label = 'Geant4'

ax0.plot(r_avg_data,label=plot_label,linestyle='-',color='#7570b3')
ax0.plot(r_avg_atlas_data,label=atlas_label,linestyle='dotted',color='black')

ratio = 100*np.divide(r_avg_data-r_avg_atlas_data,r_avg_atlas_data)
ax1.plot(ratio,color='#7570b3',linewidth=2,linestyle='-')
ax2.plot(r_avg_data-r_avg_atlas_data,color='#7570b3',linewidth=2,linestyle='-')

ax0.set_xlabel("",fontsize=20)
ax0.set_ylabel("Mean Energy (GeV)", fontsize=14, loc="top")

ax0.xaxis.set_minor_locator(AutoMinorLocator())
ax0.yaxis.set_minor_locator(AutoMinorLocator())

ax0.tick_params(which='both', direction="in")
ax0.tick_params(which='major', length=7, direction="in")
ax0.tick_params(which='minor', length=4, direction="in")

ax0.xaxis.set_ticks_position('both')
ax0.yaxis.set_ticks_position('both')
ax0.tick_params(axis="x",direction="in")
ax0.tick_params(axis="y",direction="in")

# Get the axis limits
x_min, x_max = ax0.get_xlim()
y_min, y_max = ax0.get_ylim()

# Create a rectangle patch for the outer line
outer_rectangle = patches.Rectangle((x_min, y_min), x_max - x_min, y_max - y_min, linewidth=2, edgecolor='black', facecolor='none')
ax0.add_patch(outer_rectangle)

ax0.legend(loc='best',fontsize=13,ncol=1)

ax1.set_ylabel('Difference \n (%)', fontsize=14, labelpad=1)
plt.xlabel("r-bin", fontsize=14, loc='right')
ax1.axhline(y=0.0, color='r', linestyle='--',linewidth=1)
ax1.axhline(y=10, color='r', linestyle='--',linewidth=1)
ax1.axhline(y=-10, color='r', linestyle='--',linewidth=1)
ax1.set_ylim([-50,50])
plt.rc("font", size=13)

ax1.xaxis.set_minor_locator(AutoMinorLocator())
ax1.yaxis.set_minor_locator(AutoMinorLocator())

ax1.tick_params(which='both', direction="in")
ax1.tick_params(which='major', length=7, direction="in")
ax1.tick_params(which='minor', length=4, direction="in")

ax1.xaxis.set_ticks_position('both')
ax1.yaxis.set_ticks_position('both')
ax1.tick_params(axis="x",direction="in")
ax1.tick_params(axis="y",direction="in")

# Get the axis limits
x_min, x_max = ax1.get_xlim()
y_min, y_max = ax1.get_ylim()

# Create a rectangle patch for the outer line
outer_rectangle = patches.Rectangle((x_min, y_min), x_max - x_min, y_max - y_min, linewidth=2, edgecolor='black', facecolor='none')
ax1.add_patch(outer_rectangle)

# Axis 2

ax2.set_ylabel('Abs. Error \n (GeV)', fontsize=14, labelpad=10)
ax2.axhline(y=0.0, color='r', linestyle='--',linewidth=1)
ax2.set_ylim([-4,1])

ax2.xaxis.set_minor_locator(AutoMinorLocator())
ax2.yaxis.set_minor_locator(AutoMinorLocator())

ax2.tick_params(which='both', direction="in")
ax2.tick_params(which='major', length=7, direction="in")
ax2.tick_params(which='minor', length=4, direction="in")

ax2.xaxis.set_ticks_position('both')
ax2.yaxis.set_ticks_position('both')
ax2.tick_params(axis="x",direction="in")
ax2.tick_params(axis="y",direction="in")

# Get the axis limits
x_min, x_max = ax2.get_xlim()
y_min, y_max = ax2.get_ylim()

# Create a rectangle patch for the outer line
outer_rectangle = patches.Rectangle((x_min, y_min), x_max - x_min, y_max - y_min, linewidth=2, edgecolor='black', facecolor='none')
ax2.add_patch(outer_rectangle)


fig = plt.figure(figsize=(9, 9))
gs = gridspec.GridSpec(3, 1, height_ratios=[3,1,1]) 
gs.update(wspace=0.025, hspace=0.1)

ax0 = plt.subplot(gs[0])
plt.xticks(fontsize=0)
ax1 = plt.subplot(gs[1],sharex=ax0)
plt.xticks(fontsize=0)
ax2 = plt.subplot(gs[2],sharex=ax0)

plot_label = 'CaloQVAE'
atlas_label = 'Geant4'

ax0.plot(theta_avg_data,label=plot_label,linestyle='-',color='#7570b3')
ax0.plot(theta_avg_atlas_data,label=atlas_label,linestyle='dotted',color='black')

ratio = 100*np.divide(theta_avg_data-theta_avg_atlas_data,theta_avg_atlas_data)
ax1.plot(ratio,color='#7570b3',linewidth=2,linestyle='-')
ax2.plot(theta_avg_data-theta_avg_atlas_data,color='#7570b3',linewidth=2,linestyle='-')

ax0.set_xlabel("",fontsize=20)
ax0.set_ylabel("Mean Energy (GeV)", fontsize=14, loc="top")

ax0.xaxis.set_minor_locator(AutoMinorLocator())
ax0.yaxis.set_minor_locator(AutoMinorLocator())

ax0.tick_params(which='both', direction="in")
ax0.tick_params(which='major', length=7, direction="in")
ax0.tick_params(which='minor', length=4, direction="in")

ax0.xaxis.set_ticks_position('both')
ax0.yaxis.set_ticks_position('both')
ax0.tick_params(axis="x",direction="in")
ax0.tick_params(axis="y",direction="in")

# Get the axis limits
x_min, x_max = ax0.get_xlim()
y_min, y_max = ax0.get_ylim()

# Create a rectangle patch for the outer line
outer_rectangle = patches.Rectangle((x_min, y_min), x_max - x_min, y_max - y_min, linewidth=2, edgecolor='black', facecolor='none')
ax0.add_patch(outer_rectangle)

ax0.legend(loc='best',fontsize=13,ncol=1)

ax1.set_ylabel('Difference \n (%)', fontsize=14, labelpad=1)
plt.xlabel(r'$\theta$-bin', fontsize=14, loc='right')
ax1.axhline(y=0.0, color='r', linestyle='--',linewidth=1)
ax1.axhline(y=10, color='r', linestyle='--',linewidth=1)
ax1.axhline(y=-10, color='r', linestyle='--',linewidth=1)
ax1.set_ylim([-50,50])
plt.rc("font", size=13)

ax1.xaxis.set_minor_locator(AutoMinorLocator())
ax1.yaxis.set_minor_locator(AutoMinorLocator())

ax1.tick_params(which='both', direction="in")
ax1.tick_params(which='major', length=7, direction="in")
ax1.tick_params(which='minor', length=4, direction="in")

ax1.xaxis.set_ticks_position('both')
ax1.yaxis.set_ticks_position('both')
ax1.tick_params(axis="x",direction="in")
ax1.tick_params(axis="y",direction="in")

# Get the axis limits
x_min, x_max = ax1.get_xlim()
y_min, y_max = ax1.get_ylim()

# Create a rectangle patch for the outer line
outer_rectangle = patches.Rectangle((x_min, y_min), x_max - x_min, y_max - y_min, linewidth=2, edgecolor='black', facecolor='none')
ax1.add_patch(outer_rectangle)

# Axis 2

ax2.set_ylabel('Abs. Error \n (GeV)', fontsize=14, labelpad=10)
ax2.axhline(y=0.0, color='r', linestyle='--',linewidth=1)
ax2.set_ylim([-4,1])

ax2.xaxis.set_minor_locator(AutoMinorLocator())
ax2.yaxis.set_minor_locator(AutoMinorLocator())

ax2.tick_params(which='both', direction="in")
ax2.tick_params(which='major', length=7, direction="in")
ax2.tick_params(which='minor', length=4, direction="in")

ax2.xaxis.set_ticks_position('both')
ax2.yaxis.set_ticks_position('both')
ax2.tick_params(axis="x",direction="in")
ax2.tick_params(axis="y",direction="in")

# Get the axis limits
x_min, x_max = ax2.get_xlim()
y_min, y_max = ax2.get_ylim()

# Create a rectangle patch for the outer line
outer_rectangle = patches.Rectangle((x_min, y_min), x_max - x_min, y_max - y_min, linewidth=2, edgecolor='black', facecolor='none')
ax2.add_patch(outer_rectangle)


fig = plt.figure(figsize=(9, 9))
gs = gridspec.GridSpec(3, 1, height_ratios=[3,1,1]) 
gs.update(wspace=0.025, hspace=0.1)

ax0 = plt.subplot(gs[0])
plt.xticks(fontsize=0)
ax1 = plt.subplot(gs[1],sharex=ax0)
plt.xticks(fontsize=0)
ax2 = plt.subplot(gs[2],sharex=ax0)

plot_label = 'CaloQVAE'
atlas_label = 'Geant4'

ax0.plot(layer_avg_data,label=plot_label,linestyle='-',color='#7570b3')
ax0.plot(layer_avg_atlas_data,label=atlas_label,linestyle='dotted',color='black')

ratio = 100*np.divide(layer_avg_data-layer_avg_atlas_data,layer_avg_atlas_data)
ax1.plot(ratio,color='#7570b3',linewidth=2,linestyle='-')
ax2.plot(layer_avg_data-layer_avg_atlas_data,color='#7570b3',linewidth=2,linestyle='-')

ax0.set_xlabel("",fontsize=20)
ax0.set_ylabel("Mean Energy (GeV)", fontsize=14, loc="top")

ax0.xaxis.set_minor_locator(AutoMinorLocator())
ax0.yaxis.set_minor_locator(AutoMinorLocator())

ax0.tick_params(which='both', direction="in")
ax0.tick_params(which='major', length=7, direction="in")
ax0.tick_params(which='minor', length=4, direction="in")

ax0.xaxis.set_ticks_position('both')
ax0.yaxis.set_ticks_position('both')
ax0.tick_params(axis="x",direction="in")
ax0.tick_params(axis="y",direction="in")

# Get the axis limits
x_min, x_max = ax0.get_xlim()
y_min, y_max = ax0.get_ylim()

# Create a rectangle patch for the outer line
outer_rectangle = patches.Rectangle((x_min, y_min), x_max - x_min, y_max - y_min, linewidth=2, edgecolor='black', facecolor='none')
ax0.add_patch(outer_rectangle)

ax0.legend(loc='best',fontsize=13,ncol=1)

ax1.set_ylabel('Difference \n (%)', fontsize=14, labelpad=1)
plt.xlabel("Layer number", fontsize=14, loc='right')
ax1.axhline(y=0.0, color='r', linestyle='--',linewidth=1)
ax1.axhline(y=10, color='r', linestyle='--',linewidth=1)
ax1.axhline(y=-10, color='r', linestyle='--',linewidth=1)
ax1.set_ylim([-50,50])
plt.rc("font", size=13)

ax1.xaxis.set_minor_locator(AutoMinorLocator())
ax1.yaxis.set_minor_locator(AutoMinorLocator())

ax1.tick_params(which='both', direction="in")
ax1.tick_params(which='major', length=7, direction="in")
ax1.tick_params(which='minor', length=4, direction="in")

ax1.xaxis.set_ticks_position('both')
ax1.yaxis.set_ticks_position('both')
ax1.tick_params(axis="x",direction="in")
ax1.tick_params(axis="y",direction="in")

# Get the axis limits
x_min, x_max = ax1.get_xlim()
y_min, y_max = ax1.get_ylim()

# Create a rectangle patch for the outer line
outer_rectangle = patches.Rectangle((x_min, y_min), x_max - x_min, y_max - y_min, linewidth=2, edgecolor='black', facecolor='none')
ax1.add_patch(outer_rectangle)

# Axis 2

ax2.set_ylabel('Abs. Error \n (GeV)', fontsize=14, labelpad=10)
ax2.axhline(y=0.0, color='r', linestyle='--',linewidth=1)
ax2.set_ylim([-4,1])

ax2.xaxis.set_minor_locator(AutoMinorLocator())
ax2.yaxis.set_minor_locator(AutoMinorLocator())

ax2.tick_params(which='both', direction="in")
ax2.tick_params(which='major', length=7, direction="in")
ax2.tick_params(which='minor', length=4, direction="in")

ax2.xaxis.set_ticks_position('both')
ax2.yaxis.set_ticks_position('both')
ax2.tick_params(axis="x",direction="in")
ax2.tick_params(axis="y",direction="in")

# Get the axis limits
x_min, x_max = ax2.get_xlim()
y_min, y_max = ax2.get_ylim()

# Create a rectangle patch for the outer line
outer_rectangle = patches.Rectangle((x_min, y_min), x_max - x_min, y_max - y_min, linewidth=2, edgecolor='black', facecolor='none')
ax2.add_patch(outer_rectangle)


fig = plt.figure(figsize=(27, 9))
gs = gridspec.GridSpec(1, 3, width_ratios=[1, 1, 1]) 
gs.update(wspace=0.05, hspace=0.1)

# First graph
ax0 = plt.subplot(gs[0])
plt.xticks(fontsize=0)
ax1 = plt.subplot(gs[3], sharex=ax0)
plt.xticks(fontsize=0)
ax2 = plt.subplot(gs[6], sharex=ax0)

plot_label = 'CaloQVAE'
atlas_label = 'Geant4'

ax0.plot(r_avg_data, label=plot_label, linestyle='-', color='#7570b3')
ax0.plot(r_avg_atlas_data, label=atlas_label, linestyle='dotted', color='black')

ratio = 100 * np.divide(r_avg_data - r_avg_atlas_data, r_avg_atlas_data)
ax1.plot(ratio, color='#7570b3', linewidth=2, linestyle='-')
ax2.plot(r_avg_data - r_avg_atlas_data, color='#7570b3', linewidth=2, linestyle='-')

ax0.set_xlabel("", fontsize=20)
ax0.set_ylabel("Mean Energy (GeV)", fontsize=14, loc="top")

ax0.xaxis.set_minor_locator(AutoMinorLocator())
ax0.yaxis.set_minor_locator(AutoMinorLocator())

ax0.tick_params(which='both', direction="in")
ax0.tick_params(which='major', length=7, direction="in")
ax0.tick_params(which='minor', length=4, direction="in")

ax0.xaxis.set_ticks_position('both')
ax0.yaxis.set_ticks_position('both')
ax0.tick_params(axis="x", direction="in")
ax0.tick_params(axis="y", direction="in")

# Get the axis limits
x_min, x_max = ax0.get_xlim()
y_min, y_max = ax0.get_ylim()

# Create a rectangle patch for the outer line
outer_rectangle = patches.Rectangle((x_min, y_min), x_max - x_min, y_max - y_min, linewidth=2, edgecolor='black', facecolor='none')
ax0.add_patch(outer_rectangle)

ax0.legend(loc='best', fontsize=13, ncol=1)

ax1.set_ylabel('Difference \n (%)', fontsize=14, labelpad=1)
plt.xlabel("r-bin", fontsize=14, loc='right')
ax1.axhline(y=0.0, color='r', linestyle='--', linewidth=1)
ax1.axhline(y=10, color='r', linestyle='--', linewidth=1)
ax1.axhline(y=-10, color='r', linestyle='--', linewidth=1)
ax1.set_ylim([-50, 50])
plt.rc("font", size=13)

ax1.xaxis.set_minor_locator(AutoMinorLocator())
ax1.yaxis.set_minor_locator(AutoMinorLocator())

ax1.tick_params(which='both', direction="in")
ax1.tick_params(which='major', length=7, direction="in")
ax1.tick_params(which='minor', length=4, direction="in")

ax1.xaxis.set_ticks_position('both')
ax1.yaxis.set_ticks_position('both')
ax1.tick_params(axis="x", direction="in")
ax1.tick_params(axis="y", direction="in")

# Get the axis limits
x_min, x_max = ax1.get_xlim()
y_min, y_max = ax1.get_ylim()

# Create a rectangle patch for the outer line
outer_rectangle = patches.Rectangle((x_min, y_min), x_max - x_min, y_max - y_min, linewidth=2, edgecolor='black', facecolor='none')
ax1.add_patch(outer_rectangle)

# Axis 2
ax2.set_ylabel('Abs. Error \n (GeV)', fontsize=14, labelpad=10)
ax2.axhline(y=0.0, color='r', linestyle='--', linewidth=1)
ax2.set_ylim([-4, 1])

ax2.xaxis.set_minor_locator(AutoMinorLocator())
ax2.yaxis.set_minor_locator(AutoMinorLocator())

ax2.tick_params(which='both', direction="in")
ax2.tick_params(which='major', length=7, direction="in")
ax2.tick_params(which='minor', length=4, direction="in")

ax2.xaxis.set_ticks_position('both')
ax2.yaxis.set_ticks_position('both')
ax2.tick_params(axis="x", direction="in")
ax2.tick_params(axis="y", direction="in")

# Get the axis limits
x_min, x_max = ax2.get_xlim()
y_min, y_max = ax2.get_ylim()

# Create a rectangle patch for the outer line
outer_rectangle = patches.Rectangle((x_min, y_min), x_max - x_min, y_max - y_min, linewidth=2, edgecolor='black', facecolor='none')
ax2.add_patch(outer_rectangle)

# Second graph
ax0 = plt.subplot(gs[1])
plt.xticks(fontsize=0)
ax1 = plt.subplot(gs[4], sharex=ax0)
plt.xticks(fontsize=0)
ax2 = plt.subplot(gs[7], sharex=ax0)

plot_label = 'CaloQVAE'
atlas_label = 'Geant4'

ax0.plot(theta_avg_data, label=plot_label, linestyle='-', color='#7570b3')
ax0.plot(theta_avg_atlas_data, label=atlas_label, linestyle='dotted', color='black')

ratio = 100 * np.divide(theta_avg_data - theta_avg_atlas_data, theta_avg_atlas_data)
ax1.plot(ratio, color='#7570b3', linewidth=2, linestyle='-')
ax2.plot(theta_avg_data - theta_avg_atlas_data, color='#7570b3', linewidth=2, linestyle='-')

ax0.set_xlabel("", fontsize=20)
ax0.set_ylabel("Mean Energy (GeV)", fontsize=14, loc="top")

ax0.xaxis.set_minor_locator(AutoMinorLocator())
ax0.yaxis.set_minor_locator(AutoMinorLocator())

ax0.tick_params(which='both', direction="in")
ax0.tick_params(which='major', length=7, direction="in")
ax0.tick_params(which='minor', length=4, direction="in")

ax0.xaxis.set_ticks_position('both')
ax0.yaxis.set_ticks_position('both')
ax0.tick_params(axis="x", direction="in")
ax0.tick_params(axis="y", direction="in")

# Get the axis limits
x_min, x_max = ax0.get_xlim()
y_min, y_max = ax0.get_ylim()

# Create a rectangle patch for the outer line
outer_rectangle = patches.Rectangle((x_min, y_min), x_max - x_min, y_max - y_min, linewidth=2, edgecolor='black', facecolor='none')
ax0.add_patch(outer_rectangle)

ax0.legend(loc='best', fontsize=13, ncol=1)

ax1.set_ylabel('Difference \n (%)', fontsize=14, labelpad=1)
plt.xlabel(r'$\theta$-bin', fontsize=14, loc='right')
ax1.axhline(y=0.0, color='r', linestyle='--', linewidth=1)
ax1.axhline(y=10, color='r', linestyle='--', linewidth=1)
ax1.axhline(y=-10, color='r', linestyle='--', linewidth=1)
ax1.set_ylim([-50, 50])
plt.rc("font", size=13)

ax1.xaxis.set_minor_locator(AutoMinorLocator())
ax1.yaxis.set_minor_locator(AutoMinorLocator())

ax1.tick_params(which='both', direction="in")
ax1.tick_params(which='major', length=7, direction="in")
ax1.tick_params(which='minor', length=4, direction="in")

ax1.xaxis.set_ticks_position('both')
ax1.yaxis.set_ticks_position('both')
ax1.tick_params(axis="x", direction="in")
ax1.tick_params(axis="y", direction="in")

# Get the axis limits
x_min, x_max = ax1.get_xlim()
y_min, y_max = ax1.get_ylim()

# Create a rectangle patch for the outer line
outer_rectangle = patches.Rectangle((x_min, y_min), x_max - x_min, y_max - y_min, linewidth=2, edgecolor='black', facecolor='none')
ax1.add_patch(outer_rectangle)

# Axis 2
ax2.set_ylabel('Abs. Error \n (GeV)', fontsize=14, labelpad=10)
ax2.axhline(y=0.0, color='r', linestyle='--', linewidth=1)
ax2.set_ylim([-4, 1])

ax2.xaxis.set_minor_locator(AutoMinorLocator())
ax2.yaxis.set_minor_locator(AutoMinorLocator())

ax2.tick_params(which='both', direction="in")
ax2.tick_params(which='major', length=7, direction="in")
ax2.tick_params(which='minor', length=4, direction="in")

ax2.xaxis.set_ticks_position('both')
ax2.yaxis.set_ticks_position('both')
ax2.tick_params(axis="x", direction="in")
ax2.tick_params(axis="y", direction="in")

# Get the axis limits
x_min, x_max = ax2.get_xlim()
y_min, y_max = ax2.get_ylim()

# Create a rectangle patch for the outer line
outer_rectangle = patches.Rectangle((x_min, y_min), x_max - x_min, y_max - y_min, linewidth=2, edgecolor='black', facecolor='none')
ax2.add_patch(outer_rectangle)

# Third graph
ax0 = plt.subplot(gs[2])
plt.xticks(fontsize=0)
ax1 = plt.subplot(gs[5], sharex=ax0)
plt.xticks(fontsize=0)
ax2 = plt.subplot(gs[8], sharex=ax0)

plot_label = 'CaloQVAE'
atlas_label = 'Geant4'

ax0.plot(layer_avg_data, label=plot_label, linestyle='-', color='#7570b3')
ax0.plot(layer_avg_atlas_data, label=atlas_label, linestyle='dotted', color='black')

ratio = 100 * np.divide(layer_avg_data - layer_avg_atlas_data, layer_avg_atlas_data)
ax1.plot(ratio, color='#7570b3', linewidth=2, linestyle='-')
ax2.plot(layer_avg_data - layer_avg_atlas_data, color='#7570b3', linewidth=2, linestyle='-')

ax0.set_xlabel("", fontsize=20)
ax0.set_ylabel("Mean Energy (GeV)", fontsize=14, loc="top")

ax0.xaxis.set_minor_locator(AutoMinorLocator())
ax0.yaxis.set_minor_locator(AutoMinorLocator())

ax0.tick_params(which='both', direction="in")
ax0.tick_params(which='major', length=7, direction="in")
ax0.tick_params(which='minor', length=4, direction="in")

ax0.xaxis.set_ticks_position('both')
ax0.yaxis.set_ticks_position('both')
ax0.tick_params(axis="x", direction="in")
ax0.tick_params(axis="y", direction="in")

# Get the axis limits
x_min, x_max = ax0.get_xlim()
y_min, y_max = ax0.get_ylim()

# Create a rectangle patch for the outer line
outer_rectangle = patches.Rectangle((x_min, y_min), x_max - x_min, y_max - y_min, linewidth=2, edgecolor='black', facecolor='none')
ax0.add_patch(outer_rectangle)

ax0.legend(loc='best', fontsize=13, ncol=1)

ax1.set_ylabel('Difference \n (%)', fontsize=14, labelpad=1)
plt.xlabel("Layer number", fontsize=14, loc='right')
ax1.axhline(y=0.0, color='r', linestyle='--', linewidth=1)
ax1.axhline(y=10, color='r', linestyle='--', linewidth=1)
ax1.axhline(y=-10, color='r', linestyle='--', linewidth=1)
ax1.set_ylim([-50, 50])
plt.rc("font", size=13)

ax1.xaxis.set_minor_locator(AutoMinorLocator())
ax1.yaxis.set_minor_locator(AutoMinorLocator())

ax1.tick_params(which='both', direction="in")
ax1.tick_params(which='major', length=7, direction="in")
ax1.tick_params(which='minor', length=4, direction="in")

ax1.xaxis.set_ticks_position('both')
ax1.yaxis.set_ticks_position('both')
ax1.tick_params(axis="x", direction="in")
ax1.tick_params(axis="y", direction="in")

# Get the axis limits
x_min, x_max = ax1.get_xlim()
y_min, y_max = ax1.get_ylim()

# Create a rectangle patch for the outer line
outer_rectangle = patches.Rectangle((x_min, y_min), x_max - x_min, y_max - y_min, linewidth=2, edgecolor='black', facecolor='none')
ax1.add_patch(outer_rectangle)

# Axis 2
ax2.set_ylabel('Abs. Error \n (GeV)', fontsize=14, labelpad=10)
ax2.axhline(y=0.0, color='r', linestyle='--', linewidth=1)
ax2.set_ylim([-4, 1])

ax2.xaxis.set_minor_locator(AutoMinorLocator())
ax2.yaxis.set_minor_locator(AutoMinorLocator())

ax2.tick_params(which='both', direction="in")
ax2.tick_params(which='major', length=7, direction="in")
ax2.tick_params(which='minor', length=4, direction="in")

ax2.xaxis.set_ticks_position('both')
ax2.yaxis.set_ticks_position('both')
ax2.tick_params(axis="x", direction="in")
ax2.tick_params(axis="y", direction="in")

# Get the axis limits
x_min, x_max = ax2.get_xlim()
y_min, y_max = ax2.get_ylim()

# Create a rectangle patch for the outer line
outer_rectangle = patches.Rectangle((x_min, y_min), x_max - x_min, y_max - y_min, linewidth=2, edgecolor='black', facecolor='none')
ax2.add_patch(outer_rectangle)

plt.show()

