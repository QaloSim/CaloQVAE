


%cd ..


# Python imports
import os
import sys

# Add the path to the parent directory to augment search for module
sys.path.append(os.getcwd())
# Add the path to the parent directory to augment search for module
par_dir = os.path.abspath(os.path.join(os.getcwd(), os.pardir))
if par_dir not in sys.path:
    sys.path.append(par_dir)
    
# ML imports
import torch
import matplotlib.pyplot as plt
import numpy as np

# DiVAE imports
from models.rbm.chimeraRBM import ChimeraRBM
from models.rbm.rbm import RBM
from models.samplers.pcd import PCD

from utils import *

# DWave imports
from dwave.system import DWaveSampler, LeapHybridSampler
import neal


_NUM_NODES = 4
crbm = ChimeraRBM(n_visible=_NUM_NODES, n_hidden=_NUM_NODES)
crbm_sampler = PCD(batch_size=1024, RBM=crbm, n_gibbs_sampling_steps=100)


qpu_sampler = DWaveSampler(solver={"topology__type":"chimera"})


qubit_idxs = crbm.visible_qubit_idxs+crbm.hidden_qubit_idxs


len(qubit_idxs)


h = {qubit_idx:1. for qubit_idx in qubit_idxs}
J = {}


response = qpu_sampler.sample_ising(h, J, num_reads=100, auto_scale=False)


samples, energies = batch_dwave_samples(response)
print(samples[:10])
print(energies)


h = {qubit_idx:-1. for qubit_idx in qubit_idxs}
J = {}

response = qpu_sampler.sample_ising(h, J, num_reads=100, auto_scale=False)
samples, energies = batch_dwave_samples(response)
print(samples)
print(energies)
