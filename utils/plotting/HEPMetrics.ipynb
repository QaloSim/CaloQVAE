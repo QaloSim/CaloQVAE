{
 "cells": [
  {
   "cell_type": "code",
   "execution_count": 2,
   "id": "6828b4b3-8f2f-4736-bca2-bd501ccc6dd5",
   "metadata": {},
   "outputs": [],
   "source": [
    "import numpy as np\n",
    "import matplotlib.pyplot as plt\n",
    "import h5py\n",
    "import torch\n",
    "import jetnet"
   ]
  },
  {
   "cell_type": "code",
   "execution_count": 3,
   "id": "b99fcc84-3964-49bf-8b53-3d62e4a92fab",
   "metadata": {},
   "outputs": [],
   "source": [
    "from utils.plotting import HighLevelFeatures as HLF\n",
    "\n",
    "def extract_shower_and_energy(given_file, which):\n",
    "    \"\"\" reads .hdf5 file and returns samples and their energy \"\"\"\n",
    "    print(\"Extracting showers from {} file ...\".format(which))\n",
    "    if which == 0.:\n",
    "        shower = given_file['showers'][:]\n",
    "        energy = given_file['incident_energies'][:]\n",
    "    else:\n",
    "        shower = given_file['showers'][:]\n",
    "        energy = given_file['incidence energy'][:]\n",
    "    print(\"Extracting showers from {} file: DONE.\\n\".format(which))\n",
    "    return shower, energy\n",
    "\n",
    "def prepare_high_data_for_classifier(test, e_inc, hlf_class, label):\n",
    "    \"\"\" takes hdf5_file, extracts high-level features, appends label, returns array \"\"\"\n",
    "    # voxel, E_inc = extract_shower_and_energy(hdf5_file, label)\n",
    "    voxel, E_inc = test, e_inc\n",
    "    E_tot = hlf_class.GetEtot()\n",
    "    E_layer = []\n",
    "    for layer_id in hlf_class.GetElayers():\n",
    "        E_layer.append(hlf_class.GetElayers()[layer_id].reshape(-1, 1))\n",
    "    EC_etas = []\n",
    "    EC_phis = []\n",
    "    Width_etas = []\n",
    "    Width_phis = []\n",
    "    for layer_id in hlf_class.layersBinnedInAlpha:\n",
    "        EC_etas.append(hlf_class.GetECEtas()[layer_id].reshape(-1, 1))\n",
    "        EC_phis.append(hlf_class.GetECPhis()[layer_id].reshape(-1, 1))\n",
    "        Width_etas.append(hlf_class.GetWidthEtas()[layer_id].reshape(-1, 1))\n",
    "        Width_phis.append(hlf_class.GetWidthPhis()[layer_id].reshape(-1, 1))\n",
    "    E_layer = np.concatenate(E_layer, axis=1)\n",
    "    EC_etas = np.concatenate(EC_etas, axis=1)\n",
    "    EC_phis = np.concatenate(EC_phis, axis=1)\n",
    "    Width_etas = np.concatenate(Width_etas, axis=1)\n",
    "    Width_phis = np.concatenate(Width_phis, axis=1)\n",
    "    ret = np.concatenate([np.log10(E_inc), np.log10(E_layer+1e-8), EC_etas/1e2, EC_phis/1e2,\n",
    "                          Width_etas/1e2, Width_phis/1e2, label*np.ones_like(E_inc)], axis=1)\n",
    "    return ret"
   ]
  },
  {
   "cell_type": "code",
   "execution_count": 4,
   "id": "19345478-a8a0-44d8-8ebd-c25811660b27",
   "metadata": {},
   "outputs": [],
   "source": [
    "def check_and_replace_nans_infs(data):\n",
    "    if np.isnan(data).any() or np.isinf(data).any():\n",
    "        print(\"Data contains NaNs or Infs. Handling them...\")\n",
    "        # Replace NaNs and Infs with zeros (or you can choose a different strategy)\n",
    "        data = np.nan_to_num(data, nan=0.0, posinf=0.0, neginf=0.0)\n",
    "    return data\n",
    "\n",
    "def get_fpd_kpd_metrics(test_data, gen_data, syn_bool, hlf, ref_hlf):\n",
    "    print(\"TESTING HELLO\")\n",
    "    if syn_bool == True:\n",
    "        data_showers = (np.array(test_data['showers']))\n",
    "        energy = (np.array(test_data['incident_energies']))\n",
    "        gen_showers = (np.array(gen_data['showers'], dtype=float))\n",
    "        hlf.Einc = energy\n",
    "    else:\n",
    "        data_showers = test_data\n",
    "        gen_showers = gen_data\n",
    "    hlf.CalculateFeatures(data_showers)\n",
    "    ref_hlf.CalculateFeatures(gen_showers)\n",
    "    hlf_test_data = prepare_high_data_for_classifier(test_data, hlf.Einc, hlf, 0.)[:, :-1]\n",
    "    hlf_gen_data = prepare_high_data_for_classifier(gen_data, hlf.Einc, ref_hlf, 1.)[:, :-1]\n",
    "    hlf_test_data = check_and_replace_nans_infs(hlf_test_data)\n",
    "    hlf_gen_data = check_and_replace_nans_infs(hlf_gen_data)\n",
    "    fpd_val, fpd_err = jetnet.evaluation.fpd(hlf_test_data, hlf_gen_data)\n",
    "    kpd_val, kpd_err = jetnet.evaluation.kpd(hlf_test_data, hlf_gen_data)\n",
    "    \n",
    "    result_str = (\n",
    "        f\"FPD (x10^3): {fpd_val*1e3:.4f} ± {fpd_err*1e3:.4f}\\n\" \n",
    "        f\"KPD (x10^3): {kpd_val*1e3:.4f} ± {kpd_err*1e3:.4f}\"\n",
    "    )\n",
    "    \n",
    "    print(result_str)\n",
    "    return fpd_val, fpd_err, kpd_val, kpd_err"
   ]
  },
  {
   "cell_type": "code",
   "execution_count": 5,
   "id": "a69021a1-4453-4d91-b726-e0456088d48e",
   "metadata": {},
   "outputs": [],
   "source": [
    "def get_fpd_kpd_metrics_(test_data, gen_data):\n",
    "    data_showers = (np.array(test_data['showers']))\n",
    "    energy = (np.array(test_data['incident_energies']))\n",
    "    gen_showers = (np.array(gen_data['showers'], dtype=float))\n",
    "    hlf.CalculateFeatures(data_showers)\n",
    "    ref_hlf.CalculateFeatures(gen_showers)\n",
    "    hlf.Einc = energy\n",
    "    hlf_test_data = prepare_high_data_for_classifier(test_data, hlf.Einc, hlf, 0.)[:, :-1]\n",
    "    hlf_gen_data = prepare_high_data_for_classifier(gen_data, hlf.Einc, ref_hlf, 1.)[:, :-1]\n",
    "    hlf_test_data = check_and_replace_nans_infs(hlf_test_data)\n",
    "    hlf_gen_data = check_and_replace_nans_infs(hlf_gen_data)\n",
    "    fpd_val, fpd_err = jetnet.evaluation.fpd(hlf_test_data, hlf_gen_data)\n",
    "    kpd_val, kpd_err = jetnet.evaluation.kpd(hlf_test_data, hlf_gen_data)\n",
    "    \n",
    "    result_str = (\n",
    "        f\"FPD (x10^3): {fpd_val*1e3:.4f} ± {fpd_err*1e3:.4f}\\n\" \n",
    "        f\"KPD (x10^3): {kpd_val*1e3:.4f} ± {kpd_err*1e3:.4f}\"\n",
    "    )\n",
    "    \n",
    "    print(result_str)\n",
    "    return fpd_val, fpd_err, kpd_val, kpd_err"
   ]
  },
  {
   "cell_type": "code",
   "execution_count": 6,
   "id": "e44b6318-65e1-43dc-9d5d-11dbd2881151",
   "metadata": {},
   "outputs": [],
   "source": [
    "if __name__ == \"__main__\":\n",
    "    test_data = h5py.File('/fast_scratch_1/caloqvae/test_data/dataset_2_2.hdf5', 'r')\n",
    "    gen_data = h5py.File(\"/fast_scratch_1/caloqvae/syn_data/dataset2_synthetic_denim-smoke-166en130.hdf5\", 'r')"
   ]
  },
  {
   "cell_type": "code",
   "execution_count": 7,
   "id": "7b226905-dfdc-4637-8b27-1c0e6ba277e5",
   "metadata": {},
   "outputs": [],
   "source": [
    "    data_showers = (np.array(test_data['showers']))\n",
    "    energy = (np.array(test_data['incident_energies']))"
   ]
  },
  {
   "cell_type": "code",
   "execution_count": 8,
   "id": "3f91ecb8-a72a-4699-bc83-eb39d5ff403a",
   "metadata": {},
   "outputs": [],
   "source": [
    "    gen_showers = (np.array(gen_data['showers']))"
   ]
  },
  {
   "cell_type": "code",
   "execution_count": 11,
   "id": "6f9b63a9-d034-484a-8775-6b72419c75a7",
   "metadata": {},
   "outputs": [],
   "source": [
    "    hlf = HLF.HighLevelFeatures('electron', filename='/fast_scratch_1/caloqvae/data/atlas_dataset2and3/binning_dataset_2.xml', wandb=False)\n",
    "    ref_hlf = HLF.HighLevelFeatures('electron', filename='/fast_scratch_1/caloqvae/data/atlas_dataset2and3/binning_dataset_2.xml', wandb=False)"
   ]
  },
  {
   "cell_type": "code",
   "execution_count": 10,
   "id": "65a7bdbf-69b6-4316-952f-c1bef7f4bf04",
   "metadata": {},
   "outputs": [],
   "source": [
    "    hlf.CalculateFeatures(data_showers)\n",
    "    ref_hlf.CalculateFeatures(gen_showers)\n",
    "    hlf.Einc = energy"
   ]
  },
  {
   "cell_type": "code",
   "execution_count": 11,
   "id": "5294a777-0dc0-412c-9b23-10b323066078",
   "metadata": {},
   "outputs": [
    {
     "name": "stdout",
     "output_type": "stream",
     "text": [
      "Extracting showers from 0.0 file ...\n",
      "Extracting showers from 0.0 file: DONE.\n",
      "\n",
      "Extracting showers from 1.0 file ...\n",
      "Extracting showers from 1.0 file: DONE.\n",
      "\n"
     ]
    }
   ],
   "source": [
    "    hlf_test_data = prepare_high_data_for_classifier(test_data, hlf, 0.)[:, :-1]\n",
    "    hlf_gen_data = prepare_high_data_for_classifier(gen_data, ref_hlf, 1.)[:, :-1]"
   ]
  },
  {
   "cell_type": "code",
   "execution_count": 12,
   "id": "b64bfee2-7192-4e21-9bc5-3d0901c6c58a",
   "metadata": {},
   "outputs": [
    {
     "name": "stdout",
     "output_type": "stream",
     "text": [
      "[[5.87222238e+00 2.14741203e+00 2.60703610e+00 ... 1.46077735e-01\n",
      "  1.54922758e-01 1.87796553e-01]\n",
      " [5.64951388e+00 2.64935583e+00 3.12108231e+00 ... 1.75352528e-01\n",
      "  1.18627905e-01 1.85484302e-01]\n",
      " [4.71030195e+00 1.90820993e+00 2.26416288e+00 ... 5.69447023e-02\n",
      "  0.00000000e+00 0.00000000e+00]\n",
      " ...\n",
      " [4.48007254e+00 1.77803682e+00 2.27939870e+00 ... 2.38418579e-09\n",
      "  2.38418579e-09 1.03238273e-09]\n",
      " [5.80095663e+00 2.84187862e+00 3.25197880e+00 ... 1.64515871e-01\n",
      "  1.31542148e-01 9.96026703e-02]\n",
      " [4.36830676e+00 1.41235059e+00 1.85547142e+00 ... 0.00000000e+00\n",
      "  0.00000000e+00 2.38418579e-09]] (100000, 226)\n",
      "[[3.24379802 1.68895793 1.94245017 ... 0.         0.         0.        ]\n",
      " [5.69856596 3.34499073 3.45755553 ... 0.17346888 0.19187891 0.19636657]\n",
      " [5.18363762 2.7730341  2.93820977 ... 0.         0.         0.        ]\n",
      " ...\n",
      " [5.60514641 3.0929606  3.08861208 ... 0.15330487 0.17804461 0.15050746]\n",
      " [3.17415452 1.3306849  1.90820003 ... 0.         0.         0.        ]\n",
      " [3.06647444 1.59004879 1.81990612 ... 0.         0.         0.        ]] (100000, 226)\n"
     ]
    }
   ],
   "source": [
    "    print(hlf_test_data, hlf_test_data.shape)\n",
    "    print(hlf_gen_data, hlf_gen_data.shape)"
   ]
  },
  {
   "cell_type": "code",
   "execution_count": 13,
   "id": "26c94c7b-5d2a-4a4b-bfc2-749e74e0e5b7",
   "metadata": {},
   "outputs": [
    {
     "name": "stdout",
     "output_type": "stream",
     "text": [
      "FPD (x10^3): 1469.7943 ± 8.3248\n",
      "KPD (x10^3): 15.6822 ± 1.2243\n"
     ]
    }
   ],
   "source": [
    "    fpd_val, fpd_err = jetnet.evaluation.fpd(hlf_test_data, hlf_gen_data)\n",
    "    kpd_val, kpd_err = jetnet.evaluation.kpd(hlf_test_data, hlf_gen_data)\n",
    "    \n",
    "    result_str = (\n",
    "        f\"FPD (x10^3): {fpd_val*1e3:.4f} ± {fpd_err*1e3:.4f}\\n\" \n",
    "        f\"KPD (x10^3): {kpd_val*1e3:.4f} ± {kpd_err*1e3:.4f}\"\n",
    "    )\n",
    "    \n",
    "    print(result_str)\n",
    "    \n",
    "    # norm -0.008"
   ]
  },
  {
   "cell_type": "code",
   "execution_count": 15,
   "id": "fd2a572a-ec79-4ea1-af92-33423fd97102",
   "metadata": {},
   "outputs": [
    {
     "name": "stdout",
     "output_type": "stream",
     "text": [
      "1.461794261314703\n",
      "0.01568219628651657\n"
     ]
    }
   ],
   "source": [
    "    norm = 0.008\n",
    "    print(fpd_val - norm)\n",
    "    print(kpd_val)"
   ]
  },
  {
   "cell_type": "code",
   "execution_count": 49,
   "id": "be86aefe-1b7a-423a-a3a2-55d3f961c28c",
   "metadata": {},
   "outputs": [
    {
     "name": "stdout",
     "output_type": "stream",
     "text": [
      "FPD (x10^3): 1399.4815 ± 9.6972\n",
      "KPD (x10^3): 15.9395 ± 1.0231\n"
     ]
    },
    {
     "data": {
      "text/plain": [
       "(1.399481498435865,\n",
       " 0.009697195332888896,\n",
       " 0.01593953503644774,\n",
       " 0.001023061597969813)"
      ]
     },
     "execution_count": 49,
     "metadata": {},
     "output_type": "execute_result"
    }
   ],
   "source": [
    "    test_data = h5py.File('/fast_scratch_1/caloqvae/test_data/dataset_2_2.hdf5', 'r')\n",
    "    gen_data = h5py.File(\"/fast_scratch_1/caloqvae/syn_data/dataset2_synthetic_royal-thunder-232en130.hdf5\", 'r')\n",
    "    get_fpd_kpd_metrics_(test_data, gen_data)"
   ]
  },
  {
   "cell_type": "code",
   "execution_count": 56,
   "id": "f0da8b96-74b8-469b-8054-fa0274ef86e4",
   "metadata": {},
   "outputs": [
    {
     "name": "stdout",
     "output_type": "stream",
     "text": [
      "FPD (x10^3): 749.2964 ± 4.3350\n",
      "KPD (x10^3): 3.9189 ± 0.5211\n"
     ]
    },
    {
     "data": {
      "text/plain": [
       "(0.7492964162034789,\n",
       " 0.004334957804674008,\n",
       " 0.003918852074302759,\n",
       " 0.0005211248310461902)"
      ]
     },
     "execution_count": 56,
     "metadata": {},
     "output_type": "execute_result"
    }
   ],
   "source": [
    "    test_data = h5py.File('/fast_scratch_1/caloqvae/test_data/dataset_2_2.hdf5', 'r')\n",
    "    gen_data = h5py.File(\"/fast_scratch_1/caloqvae/syn_data/dataset2_synthetic_visionary-thunder-323en150.hdf5\", 'r')\n",
    "    get_fpd_kpd_metrics_(test_data, gen_data)"
   ]
  },
  {
   "cell_type": "code",
   "execution_count": 14,
   "id": "40809e95-9a55-4523-95a0-e38688fde4fc",
   "metadata": {},
   "outputs": [],
   "source": [
    "    test_data = h5py.File('/fast_scratch_1/caloqvae/test_data/dataset_2_2.hdf5', 'r')\n",
    "    gen_data = h5py.File(\"/fast_scratch_1/caloqvae/syn_data/dataset2_synthetic_morning-bush-469.hdf5\", 'r')\n",
    "    # get_fpd_kpd_metrics(test_data, gen_data)"
   ]
  },
  {
   "cell_type": "code",
   "execution_count": 15,
   "id": "625cd246-c9aa-4bc3-8b12-47c9612639d9",
   "metadata": {
    "scrolled": true
   },
   "outputs": [
    {
     "name": "stdout",
     "output_type": "stream",
     "text": [
      "Extracting showers from 0.0 file ...\n",
      "Extracting showers from 0.0 file: DONE.\n",
      "\n",
      "Extracting showers from 1.0 file ...\n",
      "Extracting showers from 1.0 file: DONE.\n",
      "\n",
      "FPD (x10^3): 516.8754 ± 3.8135\n",
      "KPD (x10^3): 1.2929 ± 0.3453\n"
     ]
    },
    {
     "data": {
      "text/plain": [
       "(0.5168753961659928,\n",
       " 0.0038134747333408003,\n",
       " 0.0012929342676524236,\n",
       " 0.00034528730183029253)"
      ]
     },
     "execution_count": 15,
     "metadata": {},
     "output_type": "execute_result"
    }
   ],
   "source": [
    "    get_fpd_kpd_metrics(test_data, gen_data)"
   ]
  },
  {
   "cell_type": "code",
   "execution_count": 45,
   "id": "9bbc39dd-2662-4fc1-949c-b9724bd27a1c",
   "metadata": {},
   "outputs": [
    {
     "name": "stdout",
     "output_type": "stream",
     "text": [
      "FPD (x10^3): 550.4210 ± 3.8090\n",
      "KPD (x10^3): 1.3047 ± 0.3388\n"
     ]
    },
    {
     "data": {
      "text/plain": [
       "(0.5504209545410247,\n",
       " 0.0038089757782902847,\n",
       " 0.0013046916797361252,\n",
       " 0.0003387840490681075)"
      ]
     },
     "execution_count": 45,
     "metadata": {},
     "output_type": "execute_result"
    }
   ],
   "source": [
    "    test_data = h5py.File('/fast_scratch_1/caloqvae/test_data/dataset_2_2.hdf5', 'r')\n",
    "    gen_data = h5py.File(\"/fast_scratch_1/caloqvae/syn_data/dataset2_synthetic_morning-bush-469.hdf5\", 'r')\n",
    "    get_fpd_kpd_metrics_(test_data, gen_data)"
   ]
  },
  {
   "cell_type": "code",
   "execution_count": 52,
   "id": "988065d6-0614-4d4f-b915-5efc70203ee9",
   "metadata": {},
   "outputs": [],
   "source": [
    "    test_data = h5py.File('/fast_scratch_1/caloqvae/test_data/dataset_2_2.hdf5', 'r')\n",
    "    gen_data = h5py.File(\"/fast_scratch_1/caloqvae/syn_data/dataset2_synthetic_smooth-water-178en150.hdf5\", 'r')\n",
    "    # get_fpd_kpd_metrics(test_data, gen_data)"
   ]
  },
  {
   "cell_type": "code",
   "execution_count": 53,
   "id": "5a2bc8d3-116a-4a4b-9126-951eb322c2bd",
   "metadata": {},
   "outputs": [
    {
     "name": "stdout",
     "output_type": "stream",
     "text": [
      "Extracting showers from 0.0 file ...\n",
      "Extracting showers from 0.0 file: DONE.\n",
      "\n",
      "Extracting showers from 1.0 file ...\n",
      "Extracting showers from 1.0 file: DONE.\n",
      "\n",
      "FPD (x10^3): 1160.0415 ± 10.5504\n",
      "KPD (x10^3): 12.2001 ± 0.7550\n"
     ]
    },
    {
     "data": {
      "text/plain": [
       "(1.160041546401728,\n",
       " 0.010550406078852359,\n",
       " 0.012200061984032118,\n",
       " 0.0007549936452494934)"
      ]
     },
     "execution_count": 53,
     "metadata": {},
     "output_type": "execute_result"
    }
   ],
   "source": [
    "    get_fpd_kpd_metrics(test_data, gen_data)"
   ]
  },
  {
   "cell_type": "code",
   "execution_count": 45,
   "id": "31eec76b-b83f-4545-a527-7a1350c0cc93",
   "metadata": {},
   "outputs": [
    {
     "name": "stdout",
     "output_type": "stream",
     "text": [
      "False\n",
      "False\n"
     ]
    }
   ],
   "source": [
    "    print(np.isnan(gen_data_test).any())\n",
    "    print(np.isinf(gen_data_test).any())"
   ]
  },
  {
   "cell_type": "code",
   "execution_count": 54,
   "id": "54c9e147-22ae-4e8e-b667-0201c9f43b68",
   "metadata": {},
   "outputs": [],
   "source": [
    "    test_data = h5py.File('/fast_scratch_1/caloqvae/test_data/dataset_2_2.hdf5', 'r')\n",
    "    gen_data = h5py.File(\"/fast_scratch_1/caloqvae/syn_data/dataset2_synthetic_robust-serenity-216.hdf5\", 'r')"
   ]
  },
  {
   "cell_type": "code",
   "execution_count": 55,
   "id": "22e82cac-a131-4c45-b188-1c257dab773f",
   "metadata": {},
   "outputs": [
    {
     "name": "stdout",
     "output_type": "stream",
     "text": [
      "Extracting showers from 0.0 file ...\n",
      "Extracting showers from 0.0 file: DONE.\n",
      "\n",
      "Extracting showers from 1.0 file ...\n",
      "Extracting showers from 1.0 file: DONE.\n",
      "\n",
      "FPD (x10^3): 495.3016 ± 2.6442\n",
      "KPD (x10^3): 2.1664 ± 0.2131\n"
     ]
    },
    {
     "data": {
      "text/plain": [
       "(0.49530160588522193,\n",
       " 0.0026442130954386074,\n",
       " 0.0021663970608869487,\n",
       " 0.0002131013243215601)"
      ]
     },
     "execution_count": 55,
     "metadata": {},
     "output_type": "execute_result"
    }
   ],
   "source": [
    "    get_fpd_kpd_metrics(test_data, gen_data)"
   ]
  },
  {
   "cell_type": "code",
   "execution_count": 56,
   "id": "27ab0c16-2cc2-432d-b2f4-0169b7b4f7f7",
   "metadata": {},
   "outputs": [],
   "source": [
    "    test_data = h5py.File('/fast_scratch_1/caloqvae/test_data/dataset_2_2.hdf5', 'r')\n",
    "    gen_data = h5py.File(\"/fast_scratch_1/caloqvae/syn_data/dataset2_synthetic_jumping-wave-204v1.hdf5\", 'r')"
   ]
  },
  {
   "cell_type": "code",
   "execution_count": 57,
   "id": "762f1a98-9c95-43df-bb82-57eef12ccf81",
   "metadata": {},
   "outputs": [
    {
     "name": "stdout",
     "output_type": "stream",
     "text": [
      "Extracting showers from 0.0 file ...\n",
      "Extracting showers from 0.0 file: DONE.\n",
      "\n",
      "Extracting showers from 1.0 file ...\n",
      "Extracting showers from 1.0 file: DONE.\n",
      "\n",
      "FPD (x10^3): 423.2450 ± 2.2355\n",
      "KPD (x10^3): 1.2366 ± 0.1640\n"
     ]
    },
    {
     "data": {
      "text/plain": [
       "(0.4232450244317539,\n",
       " 0.002235472084097597,\n",
       " 0.001236647229865051,\n",
       " 0.0001639741985381061)"
      ]
     },
     "execution_count": 57,
     "metadata": {},
     "output_type": "execute_result"
    }
   ],
   "source": [
    "    get_fpd_kpd_metrics(test_data, gen_data)"
   ]
  },
  {
   "cell_type": "code",
   "execution_count": 58,
   "id": "75716e1e-a7de-4485-898a-a701c614dd0b",
   "metadata": {},
   "outputs": [],
   "source": [
    "    test_data = h5py.File('/fast_scratch_1/caloqvae/test_data/dataset_2_2.hdf5', 'r')\n",
    "    gen_data = h5py.File(\"/fast_scratch_1/caloqvae/syn_data/dataset2_synthetic_robust-serenity-216en150.hdf5\", 'r')"
   ]
  },
  {
   "cell_type": "code",
   "execution_count": 59,
   "id": "0b4981cb-0f28-4315-afe8-ff5139e5cbac",
   "metadata": {},
   "outputs": [
    {
     "name": "stdout",
     "output_type": "stream",
     "text": [
      "Extracting showers from 0.0 file ...\n",
      "Extracting showers from 0.0 file: DONE.\n",
      "\n",
      "Extracting showers from 1.0 file ...\n",
      "Extracting showers from 1.0 file: DONE.\n",
      "\n",
      "FPD (x10^3): 417.9045 ± 2.3700\n",
      "KPD (x10^3): 0.6620 ± 0.0556\n"
     ]
    },
    {
     "data": {
      "text/plain": [
       "(0.41790446816360716,\n",
       " 0.002370004932141616,\n",
       " 0.000662001356226849,\n",
       " 5.5551320587035255e-05)"
      ]
     },
     "execution_count": 59,
     "metadata": {},
     "output_type": "execute_result"
    }
   ],
   "source": [
    "    get_fpd_kpd_metrics(test_data, gen_data)"
   ]
  },
  {
   "cell_type": "code",
   "execution_count": 62,
   "id": "cc02b731-76b0-4792-8860-8a7568fb493d",
   "metadata": {},
   "outputs": [],
   "source": [
    "    test_data = h5py.File('/fast_scratch_1/caloqvae/test_data/dataset_2_2.hdf5', 'r')\n",
    "    gen_data = h5py.File(\"/fast_scratch_1/caloqvae/syn_data/dataset2_synthetic_royal-thunder-232en100.hdf5\", 'r')"
   ]
  },
  {
   "cell_type": "code",
   "execution_count": 63,
   "id": "10cb7bff-81cd-4e98-961c-0729b26185a3",
   "metadata": {},
   "outputs": [
    {
     "name": "stdout",
     "output_type": "stream",
     "text": [
      "Extracting showers from 0.0 file ...\n",
      "Extracting showers from 0.0 file: DONE.\n",
      "\n",
      "Extracting showers from 1.0 file ...\n",
      "Extracting showers from 1.0 file: DONE.\n",
      "\n",
      "FPD (x10^3): 1305.6708 ± 7.0062\n",
      "KPD (x10^3): 14.8746 ± 1.6250\n"
     ]
    },
    {
     "data": {
      "text/plain": [
       "(1.3056708195568834,\n",
       " 0.007006245701643109,\n",
       " 0.01487455265348725,\n",
       " 0.001625043265626909)"
      ]
     },
     "execution_count": 63,
     "metadata": {},
     "output_type": "execute_result"
    }
   ],
   "source": [
    "    get_fpd_kpd_metrics(test_data, gen_data)"
   ]
  },
  {
   "cell_type": "code",
   "execution_count": 41,
   "id": "bb6ac08d-b255-4c19-bd4b-7bff7f695a3a",
   "metadata": {},
   "outputs": [],
   "source": [
    "    test_data = h5py.File('/fast_scratch_1/caloqvae/test_data/dataset_2_2.hdf5', 'r')\n",
    "    gen_data = h5py.File(\"/fast_scratch_1/caloqvae/syn_data/dataset2_synthetic_firm-field-235en130.hdf5\", 'r')"
   ]
  },
  {
   "cell_type": "code",
   "execution_count": 44,
   "id": "5aa0905d-697f-48d3-aa1f-07f3d232a674",
   "metadata": {},
   "outputs": [
    {
     "name": "stdout",
     "output_type": "stream",
     "text": [
      "FPD (x10^3): 1422.2029 ± 9.9654\n",
      "KPD (x10^3): 16.5731 ± 0.9255\n"
     ]
    },
    {
     "data": {
      "text/plain": [
       "(1.422202910753426,\n",
       " 0.00996535490277247,\n",
       " 0.016573118778183682,\n",
       " 0.0009254740294018212)"
      ]
     },
     "execution_count": 44,
     "metadata": {},
     "output_type": "execute_result"
    }
   ],
   "source": [
    "    get_fpd_kpd_metrics_(test_data, gen_data)"
   ]
  },
  {
   "cell_type": "code",
   "execution_count": 13,
   "id": "7ff5481e-24ca-4dbd-98e3-8c32aee80271",
   "metadata": {},
   "outputs": [],
   "source": [
    "    test_data = h5py.File('/fast_scratch_1/caloqvae/test_data/dataset_2_2.hdf5', 'r')\n",
    "    gen_data = h5py.File(\"/fast_scratch_1/caloqvae/syn_data/dataset2_synthetic_recongentle-glade-538enbestv2.hdf5\", 'r')"
   ]
  },
  {
   "cell_type": "code",
   "execution_count": 14,
   "id": "20dbde0c-49a0-44e7-bb46-91a243ce53f2",
   "metadata": {},
   "outputs": [
    {
     "name": "stdout",
     "output_type": "stream",
     "text": [
      "Data contains NaNs or Infs. Handling them...\n",
      "FPD (x10^3): 41.2225 ± 0.2523\n",
      "KPD (x10^3): 0.0153 ± 0.0357\n"
     ]
    },
    {
     "data": {
      "text/plain": [
       "(0.04122254864663156,\n",
       " 0.0002522872798576297,\n",
       " 1.5330149332637433e-05,\n",
       " 3.569706687413532e-05)"
      ]
     },
     "execution_count": 14,
     "metadata": {},
     "output_type": "execute_result"
    }
   ],
   "source": [
    "    get_fpd_kpd_metrics_(test_data, gen_data)"
   ]
  }
 ],
 "metadata": {
  "kernelspec": {
   "display_name": "Python 3 (ipykernel)",
   "language": "python",
   "name": "python3"
  },
  "language_info": {
   "codemirror_mode": {
    "name": "ipython",
    "version": 3
   },
   "file_extension": ".py",
   "mimetype": "text/x-python",
   "name": "python",
   "nbconvert_exporter": "python",
   "pygments_lexer": "ipython3",
   "version": "3.10.12"
  }
 },
 "nbformat": 4,
 "nbformat_minor": 5
}
