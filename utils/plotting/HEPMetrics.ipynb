{
 "cells": [
  {
   "cell_type": "code",
   "execution_count": 1,
   "id": "6828b4b3-8f2f-4736-bca2-bd501ccc6dd5",
   "metadata": {
    "tags": []
   },
   "outputs": [],
   "source": [
    "import numpy as np\n",
    "import matplotlib.pyplot as plt\n",
    "import h5py\n",
    "import torch\n",
    "import jetnet"
   ]
  },
  {
   "cell_type": "code",
   "execution_count": 2,
   "id": "b99fcc84-3964-49bf-8b53-3d62e4a92fab",
   "metadata": {
    "tags": []
   },
   "outputs": [],
   "source": [
    "from utils.plotting import HighLevelFeatures as HLF\n",
    "\n",
    "def extract_shower_and_energy(given_file, which):\n",
    "    \"\"\" reads .hdf5 file and returns samples and their energy \"\"\"\n",
    "    print(\"Extracting showers from {} file ...\".format(which))\n",
    "    if which == 0.:\n",
    "        shower = given_file['showers'][:]\n",
    "        energy = given_file['incident_energies'][:]\n",
    "    else:\n",
    "        shower = given_file['showers'][:]\n",
    "        energy = given_file['incidence energy'][:]\n",
    "    print(\"Extracting showers from {} file: DONE.\\n\".format(which))\n",
    "    return shower, energy\n",
    "\n",
    "def prepare_high_data_for_classifier(test, e_inc, hlf_class, label):\n",
    "    \"\"\" takes hdf5_file, extracts high-level features, appends label, returns array \"\"\"\n",
    "    # voxel, E_inc = extract_shower_and_energy(hdf5_file, label)\n",
    "    voxel, E_inc = test, e_inc\n",
    "    E_tot = hlf_class.GetEtot()\n",
    "    E_layer = []\n",
    "    for layer_id in hlf_class.GetElayers():\n",
    "        E_layer.append(hlf_class.GetElayers()[layer_id].reshape(-1, 1))\n",
    "    EC_etas = []\n",
    "    EC_phis = []\n",
    "    Width_etas = []\n",
    "    Width_phis = []\n",
    "    for layer_id in hlf_class.layersBinnedInAlpha:\n",
    "        EC_etas.append(hlf_class.GetECEtas()[layer_id].reshape(-1, 1))\n",
    "        EC_phis.append(hlf_class.GetECPhis()[layer_id].reshape(-1, 1))\n",
    "        Width_etas.append(hlf_class.GetWidthEtas()[layer_id].reshape(-1, 1))\n",
    "        Width_phis.append(hlf_class.GetWidthPhis()[layer_id].reshape(-1, 1))\n",
    "    E_layer = np.concatenate(E_layer, axis=1)\n",
    "    EC_etas = np.concatenate(EC_etas, axis=1)\n",
    "    EC_phis = np.concatenate(EC_phis, axis=1)\n",
    "    Width_etas = np.concatenate(Width_etas, axis=1)\n",
    "    Width_phis = np.concatenate(Width_phis, axis=1)\n",
    "    ret = np.concatenate([np.log10(E_inc), np.log10(E_layer+1e-8), EC_etas/1e2, EC_phis/1e2,\n",
    "                          Width_etas/1e2, Width_phis/1e2, label*np.ones_like(E_inc)], axis=1)\n",
    "    return ret"
   ]
  },
  {
   "cell_type": "code",
   "execution_count": 3,
   "id": "19345478-a8a0-44d8-8ebd-c25811660b27",
   "metadata": {
    "tags": []
   },
   "outputs": [],
   "source": [
    "def check_and_replace_nans_infs(data):\n",
    "    if np.isnan(data).any() or np.isinf(data).any():\n",
    "        print(\"Data contains NaNs or Infs. Handling them...\")\n",
    "        # Replace NaNs and Infs with zeros (or you can choose a different strategy)\n",
    "        data = np.nan_to_num(data, nan=0.0, posinf=0.0, neginf=0.0)\n",
    "    return data\n",
    "\n",
    "def get_fpd_kpd_metrics(test_data, gen_data, syn_bool, hlf, ref_hlf):\n",
    "    print(\"TESTING HELLO\")\n",
    "    if syn_bool == True:\n",
    "        data_showers = (np.array(test_data['showers']))\n",
    "        energy = (np.array(test_data['incident_energies']))\n",
    "        gen_showers = (np.array(gen_data['showers'], dtype=float))\n",
    "        hlf.Einc = energy\n",
    "    else:\n",
    "        data_showers = test_data\n",
    "        gen_showers = gen_data\n",
    "    hlf.CalculateFeatures(data_showers)\n",
    "    ref_hlf.CalculateFeatures(gen_showers)\n",
    "    hlf_test_data = prepare_high_data_for_classifier(test_data, hlf.Einc, hlf, 0.)[:, :-1]\n",
    "    hlf_gen_data = prepare_high_data_for_classifier(gen_data, hlf.Einc, ref_hlf, 1.)[:, :-1]\n",
    "    hlf_test_data = check_and_replace_nans_infs(hlf_test_data)\n",
    "    hlf_gen_data = check_and_replace_nans_infs(hlf_gen_data)\n",
    "    fpd_val, fpd_err = jetnet.evaluation.fpd(hlf_test_data, hlf_gen_data)\n",
    "    kpd_val, kpd_err = jetnet.evaluation.kpd(hlf_test_data, hlf_gen_data)\n",
    "    \n",
    "    result_str = (\n",
    "        f\"FPD (x10^3): {fpd_val*1e3:.4f} ± {fpd_err*1e3:.4f}\\n\" \n",
    "        f\"KPD (x10^3): {kpd_val*1e3:.4f} ± {kpd_err*1e3:.4f}\"\n",
    "    )\n",
    "    \n",
    "    print(result_str)\n",
    "    return fpd_val, fpd_err, kpd_val, kpd_err"
   ]
  },
  {
   "cell_type": "code",
   "execution_count": 4,
   "id": "1bbb6f84-9229-444c-b775-25495b761021",
   "metadata": {
    "tags": []
   },
   "outputs": [],
   "source": [
    "def get_fpd_kpd_metrics_(test_data, gen_data):\n",
    "    data_showers = (np.array(test_data['showers']))\n",
    "    energy = (np.array(test_data['incident_energies']))\n",
    "    gen_showers = (np.array(gen_data['showers'], dtype=float))\n",
    "    hlf.CalculateFeatures(data_showers)\n",
    "    ref_hlf.CalculateFeatures(gen_showers)\n",
    "    hlf.Einc = energy\n",
    "    hlf_test_data = prepare_high_data_for_classifier(test_data, hlf.Einc, hlf, 0.)[:, :-1]\n",
    "    hlf_gen_data = prepare_high_data_for_classifier(gen_data, hlf.Einc, ref_hlf, 1.)[:, :-1]\n",
    "    # hlf_test_data = check_and_replace_nans_infs(hlf_test_data)\n",
    "    # hlf_gen_data = check_and_replace_nans_infs(hlf_gen_data)\n",
    "    fpd_val, fpd_err = jetnet.evaluation.fpd(hlf_test_data, hlf_gen_data)\n",
    "    kpd_val, kpd_err = jetnet.evaluation.kpd(hlf_test_data, hlf_gen_data)\n",
    "    result_str = (\n",
    "        f\"FPD (x10^3): {fpd_val*1e3:.4f} ± {fpd_err*1e3:.4f}\\n\"\n",
    "        f\"KPD (x10^3): {kpd_val*1e3:.4f} ± {kpd_err*1e3:.4f}\"\n",
    "    )\n",
    "    print(result_str)\n",
    "    return fpd_val, fpd_err, kpd_val, kpd_err\n",
    "\n"
   ]
  },
  {
   "cell_type": "code",
   "execution_count": 8,
   "id": "e44b6318-65e1-43dc-9d5d-11dbd2881151",
   "metadata": {},
   "outputs": [],
   "source": [
    "if __name__ == \"__main__\":\n",
    "    # test_data = h5py.File('/fast_scratch_1/caloqvae/test_data/dataset_2_2.hdf5', 'r')\n",
    "    # gen_data = h5py.File(\"/fast_scratch_1/caloqvae/syn_data/dataset2_synthetic_denim-smoke-166en130.hdf5\", 'r')\n",
    "    hlf = HLF.HighLevelFeatures('electron', filename='/raid/javier/Datasets/CaloVAE/data/atlas_dataset2and3/binning_dataset_2.xml', wandb=False)\n",
    "    ref_hlf = HLF.HighLevelFeatures('electron', filename='/raid/javier/Datasets/CaloVAE/data/atlas_dataset2and3/binning_dataset_2.xml', wandb=False)"
   ]
  },
  {
   "cell_type": "code",
   "execution_count": 6,
   "id": "fd2a572a-ec79-4ea1-af92-33423fd97102",
   "metadata": {},
   "outputs": [
    {
     "ename": "NameError",
     "evalue": "name 'fpd_val' is not defined",
     "output_type": "error",
     "traceback": [
      "\u001b[0;31m---------------------------------------------------------------------------\u001b[0m",
      "\u001b[0;31mNameError\u001b[0m                                 Traceback (most recent call last)",
      "Cell \u001b[0;32mIn[6], line 2\u001b[0m\n\u001b[1;32m      1\u001b[0m norm \u001b[38;5;241m=\u001b[39m \u001b[38;5;241m0.008\u001b[39m\n\u001b[0;32m----> 2\u001b[0m \u001b[38;5;28mprint\u001b[39m(fpd_val \u001b[38;5;241m-\u001b[39m norm)\n\u001b[1;32m      3\u001b[0m \u001b[38;5;28mprint\u001b[39m(kpd_val)\n",
      "\u001b[0;31mNameError\u001b[0m: name 'fpd_val' is not defined"
     ]
    }
   ],
   "source": [
    "    norm = 0.008\n",
    "    print(fpd_val - norm)\n",
    "    print(kpd_val)"
   ]
  },
  {
   "cell_type": "code",
   "execution_count": 6,
   "id": "40809e95-9a55-4523-95a0-e38688fde4fc",
   "metadata": {
    "tags": []
   },
   "outputs": [],
   "source": [
    "    modelname = 'mild-salad-468'\n",
    "    modelname = 'morning-bush-469'\n",
    "    # modelname = 'dutiful-gorge-467'\n",
    "    modelname = 'robust-tree-339'\n",
    "    modelname='fluent-dawn-488'\n",
    "    # modelname='dry-galaxy-489'\n",
    "    modelname='skilled-night-490'\n",
    "    modelname='giddy-violet-575'\n",
    "    modelname= 'generous-water-216'\n",
    "    fpath = f'/raid/javier/Datasets/CaloVAE/data/synData/dataset2_synthetic_{modelname}.hdf5'\n",
    "    test_data = h5py.File('/raid/javier/Datasets/CaloVAE/data/atlas_dataset2and3/dataset_2_2.hdf5', 'r')\n",
    "    gen_data = h5py.File(fpath, 'r')\n",
    "    # get_fpd_kpd_metrics(test_data, gen_data)"
   ]
  },
  {
   "cell_type": "code",
   "execution_count": 9,
   "id": "625cd246-c9aa-4bc3-8b12-47c9612639d9",
   "metadata": {
    "tags": []
   },
   "outputs": [
    {
     "name": "stdout",
     "output_type": "stream",
     "text": [
      "FPD (x10^3): 445.4664 ± 2.4697\n",
      "KPD (x10^3): 0.7796 ± 0.0527\n"
     ]
    },
    {
     "data": {
      "text/plain": [
       "(0.4454663827130533,\n",
       " 0.002469694347808809,\n",
       " 0.0007795959320133772,\n",
       " 5.272728554136906e-05)"
      ]
     },
     "execution_count": 9,
     "metadata": {},
     "output_type": "execute_result"
    }
   ],
   "source": [
    "    get_fpd_kpd_metrics_(test_data, gen_data)"
   ]
  },
  {
   "cell_type": "code",
   "execution_count": 30,
   "id": "2195c592-520b-45fe-9281-46515a0136f3",
   "metadata": {
    "tags": []
   },
   "outputs": [
    {
     "name": "stdout",
     "output_type": "stream",
     "text": [
      "FPD (x10^3): 494.3088 ± 2.5972\n",
      "KPD (x10^3): 0.8791 ± 0.0732\n"
     ]
    },
    {
     "data": {
      "text/plain": [
       "(0.4943088182279927,\n",
       " 0.0025972268461431913,\n",
       " 0.0008791455794538994,\n",
       " 7.324259237435177e-05)"
      ]
     },
     "execution_count": 30,
     "metadata": {},
     "output_type": "execute_result"
    }
   ],
   "source": [
    "    get_fpd_kpd_metrics_(test_data, gen_data)"
   ]
  },
  {
   "cell_type": "code",
   "execution_count": 28,
   "id": "06c88fcc-fd8d-4381-bb08-110034e37eb4",
   "metadata": {
    "tags": []
   },
   "outputs": [
    {
     "name": "stdout",
     "output_type": "stream",
     "text": [
      "FPD (x10^3): 479.7403 ± 2.5953\n",
      "KPD (x10^3): 0.7910 ± 0.0470\n"
     ]
    },
    {
     "data": {
      "text/plain": [
       "(0.47974033657200993,\n",
       " 0.002595293143427049,\n",
       " 0.0007910003374627106,\n",
       " 4.70376286785968e-05)"
      ]
     },
     "execution_count": 28,
     "metadata": {},
     "output_type": "execute_result"
    }
   ],
   "source": [
    "    #zephyr\n",
    "    get_fpd_kpd_metrics_(test_data, gen_data)"
   ]
  },
  {
   "cell_type": "code",
   "execution_count": 32,
   "id": "d3e5b4e5-db4c-4df7-a8f1-66b910fe12f3",
   "metadata": {
    "tags": []
   },
   "outputs": [
    {
     "name": "stdout",
     "output_type": "stream",
     "text": [
      "FPD (x10^3): 489.5326 ± 3.9541\n",
      "KPD (x10^3): 1.0659 ± 0.0854\n"
     ]
    },
    {
     "data": {
      "text/plain": [
       "(0.4895325545689304,\n",
       " 0.003954118311942111,\n",
       " 0.001065932720673679,\n",
       " 8.5405953064085e-05)"
      ]
     },
     "execution_count": 32,
     "metadata": {},
     "output_type": "execute_result"
    }
   ],
   "source": [
    "    get_fpd_kpd_metrics_(test_data, gen_data)"
   ]
  },
  {
   "cell_type": "code",
   "execution_count": 36,
   "id": "27551797-6473-46de-89ee-a43396122787",
   "metadata": {},
   "outputs": [
    {
     "name": "stdout",
     "output_type": "stream",
     "text": [
      "FPD (x10^3): 489.2272 ± 2.1890\n",
      "KPD (x10^3): 1.0346 ± 0.1822\n"
     ]
    },
    {
     "data": {
      "text/plain": [
       "(0.48922716378384185,\n",
       " 0.002188991523305713,\n",
       " 0.0010346138544368166,\n",
       " 0.00018216326708355655)"
      ]
     },
     "execution_count": 36,
     "metadata": {},
     "output_type": "execute_result"
    }
   ],
   "source": [
    "    get_fpd_kpd_metrics_(test_data, gen_data)"
   ]
  },
  {
   "cell_type": "code",
   "execution_count": 38,
   "id": "4ce23981-0b54-4413-abfd-7d11ca38b54d",
   "metadata": {},
   "outputs": [
    {
     "name": "stdout",
     "output_type": "stream",
     "text": [
      "FPD (x10^3): 480.9062 ± 2.2294\n",
      "KPD (x10^3): 0.9094 ± 0.0582\n"
     ]
    },
    {
     "data": {
      "text/plain": [
       "(0.48090616330299885,\n",
       " 0.0022293699485623733,\n",
       " 0.0009094030224379157,\n",
       " 5.818459916231782e-05)"
      ]
     },
     "execution_count": 38,
     "metadata": {},
     "output_type": "execute_result"
    }
   ],
   "source": [
    "    get_fpd_kpd_metrics_(test_data, gen_data)"
   ]
  },
  {
   "cell_type": "code",
   "execution_count": 6,
   "id": "eab80ed6-d0c2-457e-b7ef-1aea165bf8ef",
   "metadata": {},
   "outputs": [],
   "source": [
    "##################"
   ]
  },
  {
   "cell_type": "code",
   "execution_count": 7,
   "id": "22937bf8-eddd-4e70-8c15-61a3bbf41d97",
   "metadata": {
    "tags": []
   },
   "outputs": [],
   "source": [
    "import pickle"
   ]
  },
  {
   "cell_type": "code",
   "execution_count": 18,
   "id": "1aa87485-cd85-4afd-a883-35935c1cde6a",
   "metadata": {
    "tags": []
   },
   "outputs": [
    {
     "name": "stderr",
     "output_type": "stream",
     "text": [
      "/raid/javier/anaconda3/lib/python3.11/site-packages/torch/storage.py:414: FutureWarning: You are using `torch.load` with `weights_only=False` (the current default value), which uses the default pickle module implicitly. It is possible to construct malicious pickle data which will execute arbitrary code during unpickling (See https://github.com/pytorch/pytorch/blob/main/SECURITY.md#untrusted-models for more details). In a future release, the default value for `weights_only` will be flipped to `True`. This limits the functions that could be executed during unpickling. Arbitrary objects will no longer be allowed to be loaded via this mode unless they are explicitly allowlisted by the user via `torch.serialization.add_safe_globals`. We recommend you start setting `weights_only=True` for any use case where you don't have full control of the loaded file. Please open an issue on GitHub for any issues related to this experimental feature.\n",
      "  return torch.load(io.BytesIO(b))\n"
     ]
    }
   ],
   "source": [
    "with open('/home/javier/Projects/CaloQVAE/figs/skilled-night-490/xtarget_samples.pickle', 'rb') as handle:\n",
    "    test_data_arr = pickle.load(handle)\n",
    "    \n",
    "with open('/home/javier/Projects/CaloQVAE/figs/skilled-night-490/xrecon_samples.pickle', 'rb') as handle:\n",
    "    gen_data_recon_arr = pickle.load(handle)\n",
    "    \n",
    "with open('/home/javier/Projects/CaloQVAE/figs/skilled-night-490/xgen_samples.pickle', 'rb') as handle:\n",
    "    gen_data_arr = pickle.load(handle)\n",
    "    \n",
    "with open('/home/javier/Projects/CaloQVAE/figs/skilled-night-490/xgen_samples_qpu.pickle', 'rb') as handle:\n",
    "    gen_data_qpu_arr = pickle.load(handle)\n",
    "    \n",
    "with open('/home/javier/Projects/CaloQVAE/figs/skilled-night-490/entarget_samples.pickle', 'rb') as handle:\n",
    "    entarget_samples = pickle.load(handle)    \n",
    "    "
   ]
  },
  {
   "cell_type": "code",
   "execution_count": 19,
   "id": "c73ec63f-d0d8-4d1c-bfc5-489e72193323",
   "metadata": {
    "tags": []
   },
   "outputs": [],
   "source": [
    "\n",
    "test_data = {'showers':test_data_arr, 'incident_energies':entarget_samples}\n",
    "gen_data_recon = {'showers':gen_data_recon_arr, 'incident_energies':entarget_samples}\n",
    "gen_data = {'showers':gen_data_arr, 'incident_energies':entarget_samples}\n",
    "gen_data_qpu = {'showers':gen_data_qpu_arr, 'incident_energies':entarget_samples}"
   ]
  },
  {
   "cell_type": "code",
   "execution_count": 16,
   "id": "990da7e2-440c-4e88-adfe-e752fbcde807",
   "metadata": {
    "tags": []
   },
   "outputs": [
    {
     "name": "stderr",
     "output_type": "stream",
     "text": [
      "/tmp/ipykernel_3730714/1965091568.py:12: RuntimeWarning: Recommended number of samples for FPD estimation is 50,000\n",
      "  fpd_val, fpd_err = jetnet.evaluation.fpd(hlf_test_data, hlf_gen_data)\n"
     ]
    },
    {
     "name": "stdout",
     "output_type": "stream",
     "text": [
      "FPD (x10^3): 0.3475 ± 0.2304\n",
      "KPD (x10^3): -0.0308 ± 0.0493\n"
     ]
    },
    {
     "data": {
      "text/plain": [
       "(0.00034754066487014713,\n",
       " 0.0002304036701224789,\n",
       " -3.08029726767689e-05,\n",
       " 4.932830488774131e-05)"
      ]
     },
     "execution_count": 16,
     "metadata": {},
     "output_type": "execute_result"
    }
   ],
   "source": [
    "get_fpd_kpd_metrics_(test_data, test_data)"
   ]
  },
  {
   "cell_type": "code",
   "execution_count": 20,
   "id": "5f3f54ee-f461-4035-9019-e8e42e0c3809",
   "metadata": {
    "tags": []
   },
   "outputs": [
    {
     "name": "stderr",
     "output_type": "stream",
     "text": [
      "/tmp/ipykernel_3730714/1965091568.py:12: RuntimeWarning: Recommended number of samples for FPD estimation is 50,000\n",
      "  fpd_val, fpd_err = jetnet.evaluation.fpd(hlf_test_data, hlf_gen_data)\n"
     ]
    },
    {
     "name": "stdout",
     "output_type": "stream",
     "text": [
      "FPD (x10^3): 364.8854 ± 2.5351\n",
      "KPD (x10^3): 1.2111 ± 0.3002\n",
      "FPD (x10^3): 538.2631 ± 2.4200\n",
      "KPD (x10^3): 1.1997 ± 0.1776\n",
      "FPD (x10^3): 523.6575 ± 1.7569\n",
      "KPD (x10^3): 1.7247 ± 0.2225\n"
     ]
    },
    {
     "data": {
      "text/plain": [
       "(0.5236574615628374,\n",
       " 0.0017568697326292401,\n",
       " 0.0017246968855182399,\n",
       " 0.00022247322298027405)"
      ]
     },
     "execution_count": 20,
     "metadata": {},
     "output_type": "execute_result"
    }
   ],
   "source": [
    "get_fpd_kpd_metrics_(test_data, gen_data_recon)\n",
    "get_fpd_kpd_metrics_(test_data, gen_data)\n",
    "get_fpd_kpd_metrics_(test_data, gen_data_qpu)"
   ]
  },
  {
   "cell_type": "code",
   "execution_count": null,
   "id": "6c6f6cc4-0df2-439f-b495-d011f5f74cb0",
   "metadata": {},
   "outputs": [],
   "source": []
  }
 ],
 "metadata": {
  "kernelspec": {
   "display_name": "Python 3 (ipykernel)",
   "language": "python",
   "name": "python3"
  },
  "language_info": {
   "codemirror_mode": {
    "name": "ipython",
    "version": 3
   },
   "file_extension": ".py",
   "mimetype": "text/x-python",
   "name": "python",
   "nbconvert_exporter": "python",
   "pygments_lexer": "ipython3",
   "version": "3.11.4"
  }
 },
 "nbformat": 4,
 "nbformat_minor": 5
}
