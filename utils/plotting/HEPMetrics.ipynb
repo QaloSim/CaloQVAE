{
 "cells": [
  {
   "cell_type": "code",
   "execution_count": 1,
   "id": "6828b4b3-8f2f-4736-bca2-bd501ccc6dd5",
   "metadata": {},
   "outputs": [],
   "source": [
    "import numpy as np\n",
    "import matplotlib.pyplot as plt\n",
    "import h5py\n",
    "import torch"
   ]
  },
  {
   "cell_type": "code",
   "execution_count": 2,
   "id": "b99fcc84-3964-49bf-8b53-3d62e4a92fab",
   "metadata": {},
   "outputs": [],
   "source": [
    "import HighLevelFeatures as HLF\n",
    "\n",
    "def extract_shower_and_energy(given_file, which):\n",
    "    \"\"\" reads .hdf5 file and returns samples and their energy \"\"\"\n",
    "    print(\"Extracting showers from {} file ...\".format(which))\n",
    "    if which == 0.:\n",
    "        shower = given_file['showers'][:]\n",
    "        energy = given_file['incident_energies'][:]\n",
    "    else:\n",
    "        shower = given_file['showers'][:]\n",
    "        energy = given_file['incidence energy'][:]\n",
    "    print(\"Extracting showers from {} file: DONE.\\n\".format(which))\n",
    "    return shower, energy\n",
    "\n",
    "def prepare_high_data_for_classifier(hdf5_file, hlf_class, label):\n",
    "    \"\"\" takes hdf5_file, extracts high-level features, appends label, returns array \"\"\"\n",
    "    voxel, E_inc = extract_shower_and_energy(hdf5_file, label)\n",
    "    E_tot = hlf_class.GetEtot()\n",
    "    E_layer = []\n",
    "    for layer_id in hlf_class.GetElayers():\n",
    "        E_layer.append(hlf_class.GetElayers()[layer_id].reshape(-1, 1))\n",
    "    EC_etas = []\n",
    "    EC_phis = []\n",
    "    Width_etas = []\n",
    "    Width_phis = []\n",
    "    for layer_id in hlf_class.layersBinnedInAlpha:\n",
    "        EC_etas.append(hlf_class.GetECEtas()[layer_id].reshape(-1, 1))\n",
    "        EC_phis.append(hlf_class.GetECPhis()[layer_id].reshape(-1, 1))\n",
    "        Width_etas.append(hlf_class.GetWidthEtas()[layer_id].reshape(-1, 1))\n",
    "        Width_phis.append(hlf_class.GetWidthPhis()[layer_id].reshape(-1, 1))\n",
    "    E_layer = np.concatenate(E_layer, axis=1)\n",
    "    EC_etas = np.concatenate(EC_etas, axis=1)\n",
    "    EC_phis = np.concatenate(EC_phis, axis=1)\n",
    "    Width_etas = np.concatenate(Width_etas, axis=1)\n",
    "    Width_phis = np.concatenate(Width_phis, axis=1)\n",
    "    ret = np.concatenate([np.log10(E_inc), np.log10(E_layer+1e-8), EC_etas/1e2, EC_phis/1e2,\n",
    "                          Width_etas/1e2, Width_phis/1e2, label*np.ones_like(E_inc)], axis=1)\n",
    "    return ret"
   ]
  },
  {
   "cell_type": "code",
   "execution_count": 3,
   "id": "e44b6318-65e1-43dc-9d5d-11dbd2881151",
   "metadata": {},
   "outputs": [],
   "source": [
    "test_data = h5py.File('/fast_scratch_1/caloqvae/test_data/dataset_2_2.hdf5', 'r')\n",
    "gen_data = h5py.File(\"/fast_scratch_1/caloqvae/syn_data/dataset2_synthetic_denim-smoke-166en130.hdf5\", 'r')"
   ]
  },
  {
   "cell_type": "code",
   "execution_count": null,
   "id": "575035ce-f544-4515-8ab1-548c6634bf80",
   "metadata": {},
   "outputs": [],
   "source": []
  },
  {
   "cell_type": "code",
   "execution_count": 4,
   "id": "7b226905-dfdc-4637-8b27-1c0e6ba277e5",
   "metadata": {},
   "outputs": [],
   "source": [
    "data_showers = (np.array(test_data['showers']))\n",
    "energy = (np.array(test_data['incident_energies']))"
   ]
  },
  {
   "cell_type": "code",
   "execution_count": 5,
   "id": "3f91ecb8-a72a-4699-bc83-eb39d5ff403a",
   "metadata": {},
   "outputs": [],
   "source": [
    "gen_showers = (np.array(gen_data['showers']))"
   ]
  },
  {
   "cell_type": "code",
   "execution_count": 6,
   "id": "6f9b63a9-d034-484a-8775-6b72419c75a7",
   "metadata": {},
   "outputs": [],
   "source": [
    "hlf = HLF.HighLevelFeatures('electron', filename='/fast_scratch_1/caloqvae/data/atlas_dataset2and3/binning_dataset_2.xml', wandb=False)\n",
    "ref_hlf = HLF.HighLevelFeatures('electron', filename='/fast_scratch_1/caloqvae/data/atlas_dataset2and3/binning_dataset_2.xml', wandb=False)"
   ]
  },
  {
   "cell_type": "code",
   "execution_count": 7,
   "id": "65a7bdbf-69b6-4316-952f-c1bef7f4bf04",
   "metadata": {},
   "outputs": [],
   "source": [
    "hlf.CalculateFeatures(data_showers)\n",
    "ref_hlf.CalculateFeatures(gen_showers)\n",
    "hlf.Einc = energy"
   ]
  },
  {
   "cell_type": "code",
   "execution_count": 8,
   "id": "5294a777-0dc0-412c-9b23-10b323066078",
   "metadata": {},
   "outputs": [
    {
     "name": "stdout",
     "output_type": "stream",
     "text": [
      "Extracting showers from 0.0 file ...\n",
      "Extracting showers from 0.0 file: DONE.\n",
      "\n",
      "Extracting showers from 1.0 file ...\n",
      "Extracting showers from 1.0 file: DONE.\n",
      "\n"
     ]
    }
   ],
   "source": [
    "hlf_test_data = prepare_high_data_for_classifier(test_data, hlf, 0.)[:, :-1]\n",
    "hlf_gen_data = prepare_high_data_for_classifier(gen_data, ref_hlf, 1.)[:, :-1]"
   ]
  },
  {
   "cell_type": "code",
   "execution_count": 17,
   "id": "b64bfee2-7192-4e21-9bc5-3d0901c6c58a",
   "metadata": {},
   "outputs": [
    {
     "name": "stdout",
     "output_type": "stream",
     "text": [
      "[[5.87222238e+00 2.14741203e+00 2.60703610e+00 ... 1.46077735e-01\n",
      "  1.54922758e-01 1.87796553e-01]\n",
      " [5.64951388e+00 2.64935583e+00 3.12108231e+00 ... 1.75352528e-01\n",
      "  1.18627905e-01 1.85484302e-01]\n",
      " [4.71030195e+00 1.90820993e+00 2.26416288e+00 ... 5.69447023e-02\n",
      "  0.00000000e+00 0.00000000e+00]\n",
      " ...\n",
      " [4.48007254e+00 1.77803682e+00 2.27939870e+00 ... 2.38418579e-09\n",
      "  2.38418579e-09 1.03238273e-09]\n",
      " [5.80095663e+00 2.84187862e+00 3.25197880e+00 ... 1.64515871e-01\n",
      "  1.31542148e-01 9.96026703e-02]\n",
      " [4.36830676e+00 1.41235059e+00 1.85547142e+00 ... 0.00000000e+00\n",
      "  0.00000000e+00 2.38418579e-09]] (100000, 226)\n",
      "[[3.24379802 1.68895793 1.94245017 ... 0.         0.         0.        ]\n",
      " [5.69856596 3.34499073 3.45755553 ... 0.17346888 0.19187891 0.19636657]\n",
      " [5.18363762 2.7730341  2.93820977 ... 0.         0.         0.        ]\n",
      " ...\n",
      " [5.60514641 3.0929606  3.08861208 ... 0.15330487 0.17804461 0.15050746]\n",
      " [3.17415452 1.3306849  1.90820003 ... 0.         0.         0.        ]\n",
      " [3.06647444 1.59004879 1.81990612 ... 0.         0.         0.        ]] (100000, 226)\n"
     ]
    }
   ],
   "source": [
    "print(hlf_test_data, hlf_test_data.shape)\n",
    "print(hlf_gen_data, hlf_gen_data.shape)"
   ]
  },
  {
   "cell_type": "code",
   "execution_count": 10,
   "id": "c4fc1438-80ce-4b49-af57-75d65914b140",
   "metadata": {},
   "outputs": [],
   "source": [
    "import jetnet"
   ]
  },
  {
   "cell_type": "code",
   "execution_count": 12,
   "id": "26c94c7b-5d2a-4a4b-bfc2-749e74e0e5b7",
   "metadata": {},
   "outputs": [
    {
     "name": "stdout",
     "output_type": "stream",
     "text": [
      "FPD (x10^3): 1469.7943 ± 8.3248\n",
      "KPD (x10^3): 15.6822 ± 1.2243\n"
     ]
    }
   ],
   "source": [
    "fpd_val, fpd_err = jetnet.evaluation.fpd(hlf_test_data, hlf_gen_data)\n",
    "kpd_val, kpd_err = jetnet.evaluation.kpd(hlf_test_data, hlf_gen_data)\n",
    "\n",
    "result_str = (\n",
    "    f\"FPD (x10^3): {fpd_val*1e3:.4f} ± {fpd_err*1e3:.4f}\\n\" \n",
    "    f\"KPD (x10^3): {kpd_val*1e3:.4f} ± {kpd_err*1e3:.4f}\"\n",
    ")\n",
    "\n",
    "print(result_str)\n",
    "\n",
    "# norm -0.008"
   ]
  },
  {
   "cell_type": "code",
   "execution_count": 15,
   "id": "fd2a572a-ec79-4ea1-af92-33423fd97102",
   "metadata": {},
   "outputs": [
    {
     "name": "stdout",
     "output_type": "stream",
     "text": [
      "1.461794261314703\n",
      "0.01568219628651657\n"
     ]
    }
   ],
   "source": [
    "norm = 0.008\n",
    "print(fpd_val - norm)\n",
    "print(kpd_val)"
   ]
  }
 ],
 "metadata": {
  "kernelspec": {
   "display_name": "Python 3 (ipykernel)",
   "language": "python",
   "name": "python3"
  },
  "language_info": {
   "codemirror_mode": {
    "name": "ipython",
    "version": 3
   },
   "file_extension": ".py",
   "mimetype": "text/x-python",
   "name": "python",
   "nbconvert_exporter": "python",
   "pygments_lexer": "ipython3",
   "version": "3.10.12"
  }
 },
 "nbformat": 4,
 "nbformat_minor": 5
}
