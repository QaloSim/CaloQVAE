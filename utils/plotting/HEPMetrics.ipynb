{
 "cells": [
  {
   "cell_type": "code",
   "execution_count": 1,
   "id": "4ae89cb8",
   "metadata": {
    "tags": []
   },
   "outputs": [],
   "source": [
    "import numpy as np\n",
    "import matplotlib.pyplot as plt\n",
    "import h5py\n",
    "import torch\n",
    "import jetnet"
   ]
  },
  {
   "cell_type": "code",
   "execution_count": 2,
   "id": "058eab13",
   "metadata": {
    "tags": []
   },
   "outputs": [],
   "source": [
    "from utils.plotting import HighLevelFeatures as HLF\n",
    "\n",
    "def extract_shower_and_energy(given_file, which):\n",
    "    \"\"\" reads .hdf5 file and returns samples and their energy \"\"\"\n",
    "    print(\"Extracting showers from {} file ...\".format(which))\n",
    "    if which == 0.:\n",
    "        shower = given_file['showers'][:]\n",
    "        energy = given_file['incident_energies'][:]\n",
    "    else:\n",
    "        shower = given_file['showers'][:]\n",
    "        energy = given_file['incidence energy'][:]\n",
    "    print(\"Extracting showers from {} file: DONE.\\n\".format(which))\n",
    "    return shower, energy\n",
    "\n",
    "def prepare_high_data_for_classifier(test, e_inc, hlf_class, label):\n",
    "    \"\"\" takes hdf5_file, extracts high-level features, appends label, returns array \"\"\"\n",
    "    # voxel, E_inc = extract_shower_and_energy(hdf5_file, label)\n",
    "    voxel, E_inc = test, e_inc\n",
    "    E_tot = hlf_class.GetEtot()\n",
    "    E_layer = []\n",
    "    for layer_id in hlf_class.GetElayers():\n",
    "        E_layer.append(hlf_class.GetElayers()[layer_id].reshape(-1, 1))\n",
    "    EC_etas = []\n",
    "    EC_phis = []\n",
    "    Width_etas = []\n",
    "    Width_phis = []\n",
    "    for layer_id in hlf_class.layersBinnedInAlpha:\n",
    "        EC_etas.append(hlf_class.GetECEtas()[layer_id].reshape(-1, 1))\n",
    "        EC_phis.append(hlf_class.GetECPhis()[layer_id].reshape(-1, 1))\n",
    "        Width_etas.append(hlf_class.GetWidthEtas()[layer_id].reshape(-1, 1))\n",
    "        Width_phis.append(hlf_class.GetWidthPhis()[layer_id].reshape(-1, 1))\n",
    "    E_layer = np.concatenate(E_layer, axis=1)\n",
    "    EC_etas = np.concatenate(EC_etas, axis=1)\n",
    "    EC_phis = np.concatenate(EC_phis, axis=1)\n",
    "    Width_etas = np.concatenate(Width_etas, axis=1)\n",
    "    Width_phis = np.concatenate(Width_phis, axis=1)\n",
    "    ret = np.concatenate([np.log10(E_inc), np.log10(E_layer+1e-8), EC_etas/1e2, EC_phis/1e2,\n",
    "                          Width_etas/1e2, Width_phis/1e2, label*np.ones_like(E_inc)], axis=1)\n",
    "    return ret"
   ]
  },
  {
   "cell_type": "code",
   "execution_count": 3,
   "id": "f01aab8b",
   "metadata": {
    "tags": []
   },
   "outputs": [],
   "source": [
    "def check_and_replace_nans_infs(data):\n",
    "    if np.isnan(data).any() or np.isinf(data).any():\n",
    "        print(\"Data contains NaNs or Infs. Handling them...\")\n",
    "        # Replace NaNs and Infs with zeros (or you can choose a different strategy)\n",
    "        data = np.nan_to_num(data, nan=0.0, posinf=0.0, neginf=0.0)\n",
    "    return data\n",
    "\n",
    "def get_fpd_kpd_metrics(test_data, gen_data, syn_bool, hlf, ref_hlf):\n",
    "    print(\"TESTING HELLO\")\n",
    "    if syn_bool == True:\n",
    "        data_showers = (np.array(test_data['showers']))\n",
    "        energy = (np.array(test_data['incident_energies']))\n",
    "        gen_showers = (np.array(gen_data['showers'], dtype=float))\n",
    "        hlf.Einc = energy\n",
    "    else:\n",
    "        data_showers = test_data\n",
    "        gen_showers = gen_data\n",
    "    hlf.CalculateFeatures(data_showers)\n",
    "    ref_hlf.CalculateFeatures(gen_showers)\n",
    "    hlf_test_data = prepare_high_data_for_classifier(test_data, hlf.Einc, hlf, 0.)[:, :-1]\n",
    "    hlf_gen_data = prepare_high_data_for_classifier(gen_data, hlf.Einc, ref_hlf, 1.)[:, :-1]\n",
    "    hlf_test_data = check_and_replace_nans_infs(hlf_test_data)\n",
    "    hlf_gen_data = check_and_replace_nans_infs(hlf_gen_data)\n",
    "    fpd_val, fpd_err = jetnet.evaluation.fpd(hlf_test_data, hlf_gen_data)\n",
    "    kpd_val, kpd_err = jetnet.evaluation.kpd(hlf_test_data, hlf_gen_data)\n",
    "    \n",
    "    result_str = (\n",
    "        f\"FPD (x10^3): {fpd_val*1e3:.4f} ± {fpd_err*1e3:.4f}\\n\" \n",
    "        f\"KPD (x10^3): {kpd_val*1e3:.4f} ± {kpd_err*1e3:.4f}\"\n",
    "    )\n",
    "    \n",
    "    print(result_str)\n",
    "    return fpd_val, fpd_err, kpd_val, kpd_err"
   ]
  },
  {
   "cell_type": "code",
   "execution_count": 4,
   "id": "0c277853",
   "metadata": {
    "tags": []
   },
   "outputs": [],
   "source": [
    "def get_fpd_kpd_metrics_(test_data, gen_data):\n",
    "    data_showers = (np.array(test_data['showers']))\n",
    "    energy = (np.array(test_data['incident_energies']))\n",
    "    gen_showers = (np.array(gen_data['showers'], dtype=float))\n",
    "    hlf.CalculateFeatures(data_showers)\n",
    "    ref_hlf.CalculateFeatures(gen_showers)\n",
    "    hlf.Einc = energy\n",
    "    hlf_test_data = prepare_high_data_for_classifier(test_data, hlf.Einc, hlf, 0.)[:, :-1]\n",
    "    hlf_gen_data = prepare_high_data_for_classifier(gen_data, hlf.Einc, ref_hlf, 1.)[:, :-1]\n",
    "    # hlf_test_data = check_and_replace_nans_infs(hlf_test_data)\n",
    "    # hlf_gen_data = check_and_replace_nans_infs(hlf_gen_data)\n",
    "    fpd_val, fpd_err = jetnet.evaluation.fpd(hlf_test_data, hlf_gen_data)\n",
    "    kpd_val, kpd_err = jetnet.evaluation.kpd(hlf_test_data, hlf_gen_data)\n",
    "    result_str = (\n",
    "        f\"FPD (x10^3): {fpd_val*1e3:.4f} ± {fpd_err*1e3:.4f}\\n\"\n",
    "        f\"KPD (x10^3): {kpd_val*1e3:.4f} ± {kpd_err*1e3:.4f}\"\n",
    "    )\n",
    "    print(result_str)\n",
    "    return fpd_val, fpd_err, kpd_val, kpd_err\n",
    "\n"
   ]
  },
  {
   "cell_type": "code",
   "execution_count": 5,
   "id": "710736fd",
   "metadata": {},
   "outputs": [],
   "source": [
    "if __name__ == \"__main__\":\n",
    "    # test_data = h5py.File('/fast_scratch_1/caloqvae/test_data/dataset_2_2.hdf5', 'r')\n",
    "    # gen_data = h5py.File(\"/fast_scratch_1/caloqvae/syn_data/dataset2_synthetic_denim-smoke-166en130.hdf5\", 'r')\n",
    "    hlf = HLF.HighLevelFeatures('electron', filename='/raid/javier/Datasets/CaloVAE/data/atlas_dataset2and3/binning_dataset_2.xml', wandb=False)\n",
    "    ref_hlf = HLF.HighLevelFeatures('electron', filename='/raid/javier/Datasets/CaloVAE/data/atlas_dataset2and3/binning_dataset_2.xml', wandb=False)"
   ]
  },
  {
   "cell_type": "code",
   "execution_count": 15,
   "id": "8bc341f7",
   "metadata": {},
   "outputs": [
    {
     "name": "stdout",
     "output_type": "stream",
     "text": [
      "1.461794261314703\n",
      "0.01568219628651657\n"
     ]
    }
   ],
   "source": [
    "    norm = 0.008\n",
    "    print(fpd_val - norm)\n",
    "    print(kpd_val)"
   ]
  },
  {
   "cell_type": "code",
   "execution_count": 11,
   "id": "f7df0824",
   "metadata": {
    "tags": []
   },
   "outputs": [],
   "source": [
    "    modelname = 'mild-salad-468'\n",
    "    modelname = 'morning-bush-469'\n",
    "    # modelname = 'dutiful-gorge-467'\n",
    "    modelname = 'robust-tree-339'\n",
    "    modelname='fluent-dawn-488'\n",
    "    # modelname='dry-galaxy-489'\n",
    "    modelname='skilled-night-490'\n",
    "    fpath = f'/raid/javier/Datasets/CaloVAE/data/synData/dataset2_synthetic_{modelname}.hdf5'\n",
    "    test_data = h5py.File('/raid/javier/Datasets/CaloVAE/data/atlas_dataset2and3/dataset_2_2.hdf5', 'r')\n",
    "    gen_data = h5py.File(fpath, 'r')\n",
    "    # get_fpd_kpd_metrics(test_data, gen_data)"
   ]
  },
  {
   "cell_type": "code",
   "execution_count": 16,
   "id": "c414588a",
   "metadata": {
    "tags": []
   },
   "outputs": [
    {
     "name": "stdout",
     "output_type": "stream",
     "text": [
      "FPD (x10^3): 528.0989 ± 2.1916\n",
      "KPD (x10^3): 1.2372 ± 0.2304\n"
     ]
    },
    {
     "data": {
      "text/plain": [
       "(0.5280988582108053,\n",
       " 0.00219158490088157,\n",
       " 0.0012371639936450407,\n",
       " 0.00023044037984043303)"
      ]
     },
     "execution_count": 16,
     "metadata": {},
     "output_type": "execute_result"
    }
   ],
   "source": [
    "    get_fpd_kpd_metrics_(test_data, gen_data)"
   ]
  },
  {
   "cell_type": "code",
   "execution_count": 30,
   "id": "abb3aea5",
   "metadata": {
    "tags": []
   },
   "outputs": [
    {
     "name": "stdout",
     "output_type": "stream",
     "text": [
      "FPD (x10^3): 494.3088 ± 2.5972\n",
      "KPD (x10^3): 0.8791 ± 0.0732\n"
     ]
    },
    {
     "data": {
      "text/plain": [
       "(0.4943088182279927,\n",
       " 0.0025972268461431913,\n",
       " 0.0008791455794538994,\n",
       " 7.324259237435177e-05)"
      ]
     },
     "execution_count": 30,
     "metadata": {},
     "output_type": "execute_result"
    }
   ],
   "source": [
    "    get_fpd_kpd_metrics_(test_data, gen_data)"
   ]
  },
  {
   "cell_type": "code",
   "execution_count": 28,
   "id": "c289056b",
   "metadata": {
    "tags": []
   },
   "outputs": [
    {
     "name": "stdout",
     "output_type": "stream",
     "text": [
      "FPD (x10^3): 479.7403 ± 2.5953\n",
      "KPD (x10^3): 0.7910 ± 0.0470\n"
     ]
    },
    {
     "data": {
      "text/plain": [
       "(0.47974033657200993,\n",
       " 0.002595293143427049,\n",
       " 0.0007910003374627106,\n",
       " 4.70376286785968e-05)"
      ]
     },
     "execution_count": 28,
     "metadata": {},
     "output_type": "execute_result"
    }
   ],
   "source": [
    "    #zephyr\n",
    "    get_fpd_kpd_metrics_(test_data, gen_data)"
   ]
  },
  {
   "cell_type": "code",
   "execution_count": 32,
   "id": "6667d36b",
   "metadata": {
    "tags": []
   },
   "outputs": [
    {
     "name": "stdout",
     "output_type": "stream",
     "text": [
      "FPD (x10^3): 489.5326 ± 3.9541\n",
      "KPD (x10^3): 1.0659 ± 0.0854\n"
     ]
    },
    {
     "data": {
      "text/plain": [
       "(0.4895325545689304,\n",
       " 0.003954118311942111,\n",
       " 0.001065932720673679,\n",
       " 8.5405953064085e-05)"
      ]
     },
     "execution_count": 32,
     "metadata": {},
     "output_type": "execute_result"
    }
   ],
   "source": [
    "    get_fpd_kpd_metrics_(test_data, gen_data)"
   ]
  },
  {
   "cell_type": "code",
   "execution_count": 36,
   "id": "0fd32f0b",
   "metadata": {},
   "outputs": [
    {
     "name": "stdout",
     "output_type": "stream",
     "text": [
      "FPD (x10^3): 489.2272 ± 2.1890\n",
      "KPD (x10^3): 1.0346 ± 0.1822\n"
     ]
    },
    {
     "data": {
      "text/plain": [
       "(0.48922716378384185,\n",
       " 0.002188991523305713,\n",
       " 0.0010346138544368166,\n",
       " 0.00018216326708355655)"
      ]
     },
     "execution_count": 36,
     "metadata": {},
     "output_type": "execute_result"
    }
   ],
   "source": [
    "    get_fpd_kpd_metrics_(test_data, gen_data)"
   ]
  },
  {
   "cell_type": "code",
   "execution_count": 38,
   "id": "84721e27",
   "metadata": {},
   "outputs": [
    {
     "name": "stdout",
     "output_type": "stream",
     "text": [
      "FPD (x10^3): 480.9062 ± 2.2294\n",
      "KPD (x10^3): 0.9094 ± 0.0582\n"
     ]
    },
    {
     "data": {
      "text/plain": [
       "(0.48090616330299885,\n",
       " 0.0022293699485623733,\n",
       " 0.0009094030224379157,\n",
       " 5.818459916231782e-05)"
      ]
     },
     "execution_count": 38,
     "metadata": {},
     "output_type": "execute_result"
    }
   ],
   "source": [
    "    get_fpd_kpd_metrics_(test_data, gen_data)"
   ]
  },
  {
   "cell_type": "code",
   "execution_count": 6,
   "id": "3db4ec30",
   "metadata": {},
   "outputs": [],
   "source": [
    "##################"
   ]
  },
  {
   "cell_type": "code",
   "execution_count": 7,
   "id": "5c8cb852",
   "metadata": {
    "tags": []
   },
   "outputs": [],
   "source": [
    "import pickle"
   ]
  },
  {
   "cell_type": "code",
   "execution_count": 18,
   "id": "f5da4b1a",
   "metadata": {
    "tags": []
   },
   "outputs": [
    {
     "name": "stderr",
     "output_type": "stream",
     "text": [
      "/raid/javier/anaconda3/lib/python3.11/site-packages/torch/storage.py:414: FutureWarning: You are using `torch.load` with `weights_only=False` (the current default value), which uses the default pickle module implicitly. It is possible to construct malicious pickle data which will execute arbitrary code during unpickling (See https://github.com/pytorch/pytorch/blob/main/SECURITY.md#untrusted-models for more details). In a future release, the default value for `weights_only` will be flipped to `True`. This limits the functions that could be executed during unpickling. Arbitrary objects will no longer be allowed to be loaded via this mode unless they are explicitly allowlisted by the user via `torch.serialization.add_safe_globals`. We recommend you start setting `weights_only=True` for any use case where you don't have full control of the loaded file. Please open an issue on GitHub for any issues related to this experimental feature.\n",
      "  return torch.load(io.BytesIO(b))\n"
     ]
    }
   ],
   "source": [
    "with open('/home/javier/Projects/CaloQVAE/figs/skilled-night-490/xtarget_samples.pickle', 'rb') as handle:\n",
    "    test_data_arr = pickle.load(handle)\n",
    "    \n",
    "with open('/home/javier/Projects/CaloQVAE/figs/skilled-night-490/xrecon_samples.pickle', 'rb') as handle:\n",
    "    gen_data_recon_arr = pickle.load(handle)\n",
    "    \n",
    "with open('/home/javier/Projects/CaloQVAE/figs/skilled-night-490/xgen_samples.pickle', 'rb') as handle:\n",
    "    gen_data_arr = pickle.load(handle)\n",
    "    \n",
    "with open('/home/javier/Projects/CaloQVAE/figs/skilled-night-490/xgen_samples_qpu.pickle', 'rb') as handle:\n",
    "    gen_data_qpu_arr = pickle.load(handle)\n",
    "    \n",
    "with open('/home/javier/Projects/CaloQVAE/figs/skilled-night-490/entarget_samples.pickle', 'rb') as handle:\n",
    "    entarget_samples = pickle.load(handle)    \n",
    "    "
   ]
  },
  {
   "cell_type": "code",
   "execution_count": 19,
   "id": "fbb1d361",
   "metadata": {
    "tags": []
   },
   "outputs": [],
   "source": [
    "\n",
    "test_data = {'showers':test_data_arr, 'incident_energies':entarget_samples}\n",
    "gen_data_recon = {'showers':gen_data_recon_arr, 'incident_energies':entarget_samples}\n",
    "gen_data = {'showers':gen_data_arr, 'incident_energies':entarget_samples}\n",
    "gen_data_qpu = {'showers':gen_data_qpu_arr, 'incident_energies':entarget_samples}"
   ]
  },
  {
   "cell_type": "code",
   "execution_count": 16,
   "id": "4a505f7a",
   "metadata": {
    "tags": []
   },
   "outputs": [
    {
     "name": "stderr",
     "output_type": "stream",
     "text": [
      "/tmp/ipykernel_3730714/1965091568.py:12: RuntimeWarning: Recommended number of samples for FPD estimation is 50,000\n",
      "  fpd_val, fpd_err = jetnet.evaluation.fpd(hlf_test_data, hlf_gen_data)\n"
     ]
    },
    {
     "name": "stdout",
     "output_type": "stream",
     "text": [
      "FPD (x10^3): 0.3475 ± 0.2304\n",
      "KPD (x10^3): -0.0308 ± 0.0493\n"
     ]
    },
    {
     "data": {
      "text/plain": [
       "(0.00034754066487014713,\n",
       " 0.0002304036701224789,\n",
       " -3.08029726767689e-05,\n",
       " 4.932830488774131e-05)"
      ]
     },
     "execution_count": 16,
     "metadata": {},
     "output_type": "execute_result"
    }
   ],
   "source": [
    "get_fpd_kpd_metrics_(test_data, test_data)"
   ]
  },
  {
   "cell_type": "code",
   "execution_count": 20,
   "id": "4d73a701",
   "metadata": {
    "tags": []
   },
   "outputs": [
    {
     "name": "stderr",
     "output_type": "stream",
     "text": [
      "/tmp/ipykernel_3730714/1965091568.py:12: RuntimeWarning: Recommended number of samples for FPD estimation is 50,000\n",
      "  fpd_val, fpd_err = jetnet.evaluation.fpd(hlf_test_data, hlf_gen_data)\n"
     ]
    },
    {
     "name": "stdout",
     "output_type": "stream",
     "text": [
      "FPD (x10^3): 364.8854 ± 2.5351\n",
      "KPD (x10^3): 1.2111 ± 0.3002\n",
      "FPD (x10^3): 538.2631 ± 2.4200\n",
      "KPD (x10^3): 1.1997 ± 0.1776\n",
      "FPD (x10^3): 523.6575 ± 1.7569\n",
      "KPD (x10^3): 1.7247 ± 0.2225\n"
     ]
    },
    {
     "data": {
      "text/plain": [
       "(0.5236574615628374,\n",
       " 0.0017568697326292401,\n",
       " 0.0017246968855182399,\n",
       " 0.00022247322298027405)"
      ]
     },
     "execution_count": 20,
     "metadata": {},
     "output_type": "execute_result"
    }
   ],
   "source": [
    "get_fpd_kpd_metrics_(test_data, gen_data_recon)\n",
    "get_fpd_kpd_metrics_(test_data, gen_data)\n",
    "get_fpd_kpd_metrics_(test_data, gen_data_qpu)"
   ]
  },
  {
   "cell_type": "code",
   "execution_count": null,
   "id": "a278bb83",
   "metadata": {},
   "outputs": [],
   "source": []
  }
 ],
 "metadata": {
  "kernelspec": {
   "display_name": "Python 3 (ipykernel)",
   "language": "python",
   "name": "python3"
  },
  "language_info": {
   "codemirror_mode": {
    "name": "ipython",
    "version": 3
   },
   "file_extension": ".py",
   "mimetype": "text/x-python",
   "name": "python",
   "nbconvert_exporter": "python",
   "pygments_lexer": "ipython3",
   "version": "3.10.12"
  }
 },
 "nbformat": 4,
 "nbformat_minor": 5
}
