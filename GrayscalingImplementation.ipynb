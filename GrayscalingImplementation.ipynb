{
 "cells": [
  {
   "cell_type": "code",
   "execution_count": null,
   "id": "68714de0",
   "metadata": {},
   "outputs": [],
   "source": [
    "import h5py\n",
    "import numpy as np\n",
    "import random\n",
    "from sklearn.preprocessing import StandardScaler\n",
    "import matplotlib.pyplot as plt\n",
    "import torch"
   ]
  },
  {
   "cell_type": "code",
   "execution_count": null,
   "id": "78a680ce",
   "metadata": {},
   "outputs": [],
   "source": [
    "pions1 = h5py.File('/fast_scratch/QVAE/data/atlas/pions1.hdf5','r')"
   ]
  },
  {
   "cell_type": "code",
   "execution_count": null,
   "id": "386d495b",
   "metadata": {},
   "outputs": [],
   "source": [
    "pions1_voxels = torch.tensor(pions1[\"voxels\"][:])\n",
    "pi_true_energy = torch.tensor(pions1[\"energy\"][:])\n",
    "energy_list = torch.unique(pi_true_energy)"
   ]
  },
  {
   "cell_type": "code",
   "execution_count": null,
   "id": "9238a262",
   "metadata": {},
   "outputs": [],
   "source": [
    "print(pions1_voxels.shape)\n",
    "print(pions1_voxels[1,:10])"
   ]
  },
  {
   "cell_type": "code",
   "execution_count": 65,
   "id": "d2a54a87",
   "metadata": {},
   "outputs": [],
   "source": [
    "means = torch.mean(pions1_voxels, dim=0)\n",
    "std = torch.std(pions1_voxels, dim=0)\n",
    "reduced = torch.log1p((pions1_voxels/pi_true_energy)/0.04)\n",
    "grayscaled = (pions1_voxels-means)/(std+1e-10)"
   ]
  },
  {
   "cell_type": "code",
   "execution_count": 66,
   "id": "3d35cd28",
   "metadata": {},
   "outputs": [
    {
     "name": "stdout",
     "output_type": "stream",
     "text": [
      "tensor(5.4360, dtype=torch.float64) tensor(0.7107, dtype=torch.float64) tensor(10856.7000, dtype=torch.float64)\n",
      "tensor(86.2548, dtype=torch.float64)\n"
     ]
    }
   ],
   "source": [
    "print(torch.max(grayscaled[1]),torch.max(reduced[1]), torch.max(pions1_voxels[1]))\n",
    "print(means[0])"
   ]
  },
  {
   "cell_type": "code",
   "execution_count": 67,
   "id": "6a14b205",
   "metadata": {},
   "outputs": [],
   "source": [
    "Normalised = (pions1_voxels - torch.min(pions1_voxels, dim=0)[0])/(torch.max(pions1_voxels, dim=0)[0] - torch.min(pions1_voxels, dim=0)[0])"
   ]
  },
  {
   "cell_type": "code",
   "execution_count": 68,
   "id": "9b6dd8b6",
   "metadata": {},
   "outputs": [
    {
     "name": "stdout",
     "output_type": "stream",
     "text": [
      "tensor(0.1570, dtype=torch.float64)\n"
     ]
    }
   ],
   "source": [
    "print(torch.max(Normalised[1]))"
   ]
  },
  {
   "cell_type": "code",
   "execution_count": 69,
   "id": "b4a12c8d",
   "metadata": {},
   "outputs": [
    {
     "name": "stdout",
     "output_type": "stream",
     "text": [
      "tensor([[-0.3066,  0.1453, -0.2545,  ..., -0.2903, -0.2944, -0.2445],\n",
      "        [-0.1573, -0.2198, -0.2545,  ..., -0.1768,  0.3613,  0.0101],\n",
      "        [-0.1856, -0.2198, -0.2545,  ..., -0.2903, -0.2944, -0.2445],\n",
      "        ...,\n",
      "        [ 0.1472, -0.2198, -0.2545,  ...,  0.0917,  0.5122, -0.2445],\n",
      "        [-0.1643, -0.2198, -0.2545,  ..., -0.2587, -0.2306, -0.2445],\n",
      "        [-0.3066, -0.2198,  0.2902,  ..., -0.2903, -0.2944, -0.2445]],\n",
      "       dtype=torch.float64)\n"
     ]
    }
   ],
   "source": [
    "print(grayscaled)"
   ]
  },
  {
   "cell_type": "code",
   "execution_count": null,
   "id": "d9d14586",
   "metadata": {},
   "outputs": [],
   "source": [
    "x = torch.tensor([[3, 6, 5],\n",
    "                  [3, 8, 1],\n",
    "                  [9, 4, 0]], dtype=torch.float64)\n",
    "print(torch.min(x, dim=1)[0])\n",
    "print(torch.max(x, dim=1)[0])"
   ]
  },
  {
   "cell_type": "code",
   "execution_count": 48,
   "id": "2eb1da5d",
   "metadata": {},
   "outputs": [
    {
     "name": "stdout",
     "output_type": "stream",
     "text": [
      "tensor([[-2.,  0.,  3.],\n",
      "        [-2.,  2., -1.],\n",
      "        [ 4., -2., -2.]], dtype=torch.float64)\n"
     ]
    }
   ],
   "source": [
    "print(x-torch.mean(x, dim=0))"
   ]
  },
  {
   "cell_type": "code",
   "execution_count": null,
   "id": "7e9287cc",
   "metadata": {},
   "outputs": [],
   "source": []
  }
 ],
 "metadata": {
  "kernelspec": {
   "display_name": "Python 3 (ipykernel)",
   "language": "python",
   "name": "python3"
  },
  "language_info": {
   "codemirror_mode": {
    "name": "ipython",
    "version": 3
   },
   "file_extension": ".py",
   "mimetype": "text/x-python",
   "name": "python",
   "nbconvert_exporter": "python",
   "pygments_lexer": "ipython3",
   "version": "3.8.10"
  }
 },
 "nbformat": 4,
 "nbformat_minor": 5
}
