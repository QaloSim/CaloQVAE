{
 "cells": [
  {
   "cell_type": "code",
   "execution_count": 1,
   "id": "c6b4bf84",
   "metadata": {},
   "outputs": [],
   "source": [
    "# source source.me before launching jupyter\n",
    "# export DWAVE_API_TOKEN=DEV-7dfad1c79ca4cac893a1541f6d04fbb3c2dced5c"
   ]
  },
  {
   "cell_type": "code",
   "execution_count": 1,
   "id": "bcc755bc",
   "metadata": {},
   "outputs": [
    {
     "name": "stdout",
     "output_type": "stream",
     "text": [
      "|   1  NVIDIA A100-SXM...  On   | 00000000:47:00.0 Off |                    0 |\n",
      "| N/A   45C    P0    68W / 275W |      3MiB / 81251MiB |      0%      Default |\n",
      "|                               |                      |             Disabled |\n",
      "+-------------------------------+----------------------+----------------------+\n",
      "|   2  NVIDIA A100-SXM...  On   | 00000000:81:00.0 Off |                    0 |\n",
      "| N/A   46C    P0    67W / 275W |   1919MiB / 81251MiB |     23%      Default |\n",
      "|                               |                      |             Disabled |\n",
      "+-------------------------------+----------------------+----------------------+\n",
      "|   3  NVIDIA DGX Display  On   | 00000000:C1:00.0 Off |                  N/A |\n",
      "| 34%   43C    P8    N/A /  50W |    487MiB /  3909MiB |     27%      Default |\n",
      "|                               |                      |                  N/A |\n",
      "+-------------------------------+----------------------+----------------------+\n",
      "|   4  NVIDIA A100-SXM...  On   | 00000000:C2:00.0 Off |                    0 |\n",
      "| N/A   47C    P0    92W / 275W |      3MiB / 81251MiB |     35%      Default |\n",
      "|                               |                      |             Disabled |\n",
      "+-------------------------------+----------------------+----------------------+\n",
      "                                                                               \n",
      "+-----------------------------------------------------------------------------+\n",
      "| Processes:                                                                  |\n",
      "|  GPU   GI   CI        PID   Type   Process name                  GPU Memory |\n",
      "|        ID   ID                                                   Usage      |\n",
      "|=============================================================================|\n",
      "|    2   N/A  N/A   1619147      C   julia                            1916MiB |\n",
      "|    3   N/A  N/A      5782      G   /usr/lib/xorg/Xorg                109MiB |\n",
      "|    3   N/A  N/A      8706      G   /usr/lib/xorg/Xorg                192MiB |\n",
      "|    3   N/A  N/A      8845      G   /usr/bin/gnome-shell              122MiB |\n",
      "|    3   N/A  N/A      9597      G   ...996295077387053509,262144       49MiB |\n",
      "+-----------------------------------------------------------------------------+\n"
     ]
    }
   ],
   "source": [
    "%env CUDA_DEVICE_ORDER=PCI_BUS_ID\n",
    "%env CUDA_VISIBLE_DEVICES=4\n",
    "!nvidia-smi"
   ]
  },
  {
   "cell_type": "code",
   "execution_count": 2,
   "id": "ca9bb0e3",
   "metadata": {},
   "outputs": [],
   "source": [
    "import hydra\n",
    "from hydra.utils import instantiate\n",
    "from hydra import initialize, compose"
   ]
  },
  {
   "cell_type": "code",
   "execution_count": 3,
   "id": "06eecf26",
   "metadata": {},
   "outputs": [],
   "source": [
    "import sys\n",
    "import os\n",
    "import getpass\n",
    "\n",
    "os.chdir('/home/' + getpass.getuser() + '/Projects/CaloQVAE/')\n",
    "sys.path.insert(1, '/home/' + getpass.getuser() + '/Projects/CaloQVAE/')"
   ]
  },
  {
   "cell_type": "code",
   "execution_count": 4,
   "id": "713dff99",
   "metadata": {},
   "outputs": [
    {
     "name": "stderr",
     "output_type": "stream",
     "text": [
      "\u001b[1m[22:27:31.198]\u001b[0m \u001b[1;95mINFO \u001b[1;0m  \u001b[1mCaloQVAE                                          \u001b[0mWillkommen!\n",
      "\u001b[1m[22:27:31.199]\u001b[0m \u001b[1;95mINFO \u001b[1;0m  \u001b[1mCaloQVAE                                          \u001b[0mLoading configuration.\n"
     ]
    }
   ],
   "source": [
    "#external libraries\n",
    "import os\n",
    "import pickle\n",
    "import datetime\n",
    "import sys\n",
    "\n",
    "import torch.optim as optim\n",
    "import torch\n",
    "from torch import nn\n",
    "from torch.nn.functional import binary_cross_entropy_with_logits\n",
    "torch.manual_seed(32)\n",
    "import numpy as np\n",
    "np.random.seed(32)\n",
    "import matplotlib.pyplot as plt\n",
    "import hydra\n",
    "from hydra.utils import instantiate\n",
    "\n",
    "from omegaconf import OmegaConf\n",
    "\n",
    "# PyTorch imports\n",
    "from torch import device, load, save\n",
    "from torch.nn import DataParallel\n",
    "from torch.cuda import is_available\n",
    "\n",
    "# Add the path to the parent directory to augment search for module\n",
    "sys.path.append(os.getcwd())\n",
    "    \n",
    "# Weights and Biases\n",
    "import wandb\n",
    "\n",
    "#self defined imports\n",
    "from CaloQVAE import logging"
   ]
  },
  {
   "cell_type": "code",
   "execution_count": 5,
   "id": "b2c4521a",
   "metadata": {},
   "outputs": [
    {
     "name": "stderr",
     "output_type": "stream",
     "text": [
      "2023-07-13 22:27:36,027 dwave.cloud \u001b[1;95mINFO \u001b[1;0m MainThread Log level for 'dwave.cloud' namespace set to 0\n",
      "\u001b[1m[22:27:36.027]\u001b[0m \u001b[1;95mINFO \u001b[1;0m  \u001b[1mdwave.cloud                                       \u001b[0mLog level for 'dwave.cloud' namespace set to 0\n"
     ]
    }
   ],
   "source": [
    "logger = logging.getLogger(__name__)\n",
    "\n",
    "from data.dataManager import DataManager\n",
    "from utils.plotting.plotProvider import PlotProvider\n",
    "from engine.engine import Engine\n",
    "from models.modelCreator import ModelCreator"
   ]
  },
  {
   "cell_type": "code",
   "execution_count": 6,
   "id": "5b23d35a",
   "metadata": {},
   "outputs": [
    {
     "data": {
      "text/plain": [
       "hydra.initialize()"
      ]
     },
     "execution_count": 6,
     "metadata": {},
     "output_type": "execute_result"
    }
   ],
   "source": [
    "hydra.core.global_hydra.GlobalHydra.instance().clear()\n",
    "initialize(version_base=None, config_path=\"configs\")"
   ]
  },
  {
   "cell_type": "code",
   "execution_count": 7,
   "id": "1a474a49",
   "metadata": {},
   "outputs": [
    {
     "name": "stderr",
     "output_type": "stream",
     "text": [
      "/home/javier/miniconda3/lib/python3.9/site-packages/hydra/_internal/defaults_list.py:251: UserWarning: In 'config.yaml': Defaults list is missing `_self_`. See https://hydra.cc/docs/1.2/upgrades/1.0_to_1.1/default_composition_order for more information\n",
      "  warnings.warn(msg, UserWarning)\n",
      "\u001b[1m[22:27:40.593]\u001b[0m \u001b[1;95mINFO \u001b[1;0m  \u001b[1mdata.dataManager                                  \u001b[0mLoading Data\n",
      "\u001b[1m[22:27:44.403]\u001b[0m \u001b[1;95mINFO \u001b[1;0m  \u001b[1mdata.dataManager                                  \u001b[0m<torch.utils.data.dataloader.DataLoader object at 0x7fdb0b8b71f0>: 96184 events, 752 batches\n",
      "\u001b[1m[22:27:44.404]\u001b[0m \u001b[1;95mINFO \u001b[1;0m  \u001b[1mdata.dataManager                                  \u001b[0m<torch.utils.data.dataloader.DataLoader object at 0x7fdb0b82d400>: 12023 events, 12 batches\n",
      "\u001b[1m[22:27:44.404]\u001b[0m \u001b[1;95mINFO \u001b[1;0m  \u001b[1mdata.dataManager                                  \u001b[0m<torch.utils.data.dataloader.DataLoader object at 0x7fdb0afc4e80>: 12023 events, 12 batches\n",
      "\u001b[1m[22:27:46.200]\u001b[0m \u001b[1;95mINFO \u001b[1;0m  \u001b[1mmodels.modelCreator                               \u001b[0mInitialising Model Type GumBoltAtlasCRBMCNN\n",
      "2023-07-13 22:27:46,203 dwave.cloud.client.base \u001b[1;95mINFO \u001b[1;0m MainThread Using region metadata: [Region(code='na-west-1', name='North America', endpoint='https://na-west-1.cloud.dwavesys.com/sapi/v2/'), Region(code='eu-central-1', name='Europe', endpoint='https://eu-central-1.cloud.dwavesys.com/sapi/v2/')]\n",
      "\u001b[1m[22:27:46.203]\u001b[0m \u001b[1;95mINFO \u001b[1;0m  \u001b[1mdwave.cloud.client.base                           \u001b[0mUsing region metadata: [Region(code='na-west-1', name='North America', endpoint='https://na-west-1.cloud.dwavesys.com/sapi/v2/'), Region(code='eu-central-1', name='Europe', endpoint='https://eu-central-1.cloud.dwavesys.com/sapi/v2/')]\n",
      "2023-07-13 22:27:46,269 dwave.cloud.client.base \u001b[1;95mINFO \u001b[1;0m MainThread Fetching definitions of all available solvers\n",
      "\u001b[1m[22:27:46.269]\u001b[0m \u001b[1;95mINFO \u001b[1;0m  \u001b[1mdwave.cloud.client.base                           \u001b[0mFetching definitions of all available solvers\n",
      "2023-07-13 22:27:47,389 dwave.cloud.client.base \u001b[1;95mINFO \u001b[1;0m MainThread Received solver data for 6 solver(s).\n",
      "\u001b[1m[22:27:47.389]\u001b[0m \u001b[1;95mINFO \u001b[1;0m  \u001b[1mdwave.cloud.client.base                           \u001b[0mReceived solver data for 6 solver(s).\n",
      "2023-07-13 22:27:47,422 dwave.cloud.client.base \u001b[1;95mINFO \u001b[1;0m MainThread Adding solver StructuredSolver(id='Advantage_system4.1')\n",
      "\u001b[1m[22:27:47.422]\u001b[0m \u001b[1;95mINFO \u001b[1;0m  \u001b[1mdwave.cloud.client.base                           \u001b[0mAdding solver StructuredSolver(id='Advantage_system4.1')\n",
      "2023-07-13 22:27:47,433 dwave.cloud.client.base \u001b[1;95mINFO \u001b[1;0m MainThread Adding solver StructuredSolver(id='Advantage2_prototype1.1')\n",
      "\u001b[1m[22:27:47.433]\u001b[0m \u001b[1;95mINFO \u001b[1;0m  \u001b[1mdwave.cloud.client.base                           \u001b[0mAdding solver StructuredSolver(id='Advantage2_prototype1.1')\n",
      "2023-07-13 22:27:47,465 dwave.cloud.client.base \u001b[1;95mINFO \u001b[1;0m MainThread Adding solver StructuredSolver(id='Advantage_system6.2')\n",
      "\u001b[1m[22:27:47.465]\u001b[0m \u001b[1;95mINFO \u001b[1;0m  \u001b[1mdwave.cloud.client.base                           \u001b[0mAdding solver StructuredSolver(id='Advantage_system6.2')\n",
      "2023-07-13 22:27:47,512 dwave.cloud.client.base \u001b[1;95mINFO \u001b[1;0m MainThread Using region metadata: [Region(code='na-west-1', name='North America', endpoint='https://na-west-1.cloud.dwavesys.com/sapi/v2/'), Region(code='eu-central-1', name='Europe', endpoint='https://eu-central-1.cloud.dwavesys.com/sapi/v2/')]\n",
      "\u001b[1m[22:27:47.512]\u001b[0m \u001b[1;95mINFO \u001b[1;0m  \u001b[1mdwave.cloud.client.base                           \u001b[0mUsing region metadata: [Region(code='na-west-1', name='North America', endpoint='https://na-west-1.cloud.dwavesys.com/sapi/v2/'), Region(code='eu-central-1', name='Europe', endpoint='https://eu-central-1.cloud.dwavesys.com/sapi/v2/')]\n",
      "2023-07-13 22:27:47,571 dwave.cloud.client.base \u001b[1;95mINFO \u001b[1;0m MainThread Fetching definitions of all available solvers\n",
      "\u001b[1m[22:27:47.571]\u001b[0m \u001b[1;95mINFO \u001b[1;0m  \u001b[1mdwave.cloud.client.base                           \u001b[0mFetching definitions of all available solvers\n",
      "2023-07-13 22:27:48,844 dwave.cloud.client.base \u001b[1;95mINFO \u001b[1;0m MainThread Received solver data for 6 solver(s).\n",
      "\u001b[1m[22:27:48.844]\u001b[0m \u001b[1;95mINFO \u001b[1;0m  \u001b[1mdwave.cloud.client.base                           \u001b[0mReceived solver data for 6 solver(s).\n",
      "2023-07-13 22:27:48,877 dwave.cloud.client.base \u001b[1;95mINFO \u001b[1;0m MainThread Adding solver StructuredSolver(id='Advantage_system4.1')\n",
      "\u001b[1m[22:27:48.877]\u001b[0m \u001b[1;95mINFO \u001b[1;0m  \u001b[1mdwave.cloud.client.base                           \u001b[0mAdding solver StructuredSolver(id='Advantage_system4.1')\n",
      "2023-07-13 22:27:48,889 dwave.cloud.client.base \u001b[1;95mINFO \u001b[1;0m MainThread Adding solver StructuredSolver(id='Advantage2_prototype1.1')\n",
      "\u001b[1m[22:27:48.889]\u001b[0m \u001b[1;95mINFO \u001b[1;0m  \u001b[1mdwave.cloud.client.base                           \u001b[0mAdding solver StructuredSolver(id='Advantage2_prototype1.1')\n",
      "2023-07-13 22:27:48,922 dwave.cloud.client.base \u001b[1;95mINFO \u001b[1;0m MainThread Adding solver StructuredSolver(id='Advantage_system6.2')\n",
      "\u001b[1m[22:27:48.922]\u001b[0m \u001b[1;95mINFO \u001b[1;0m  \u001b[1mdwave.cloud.client.base                           \u001b[0mAdding solver StructuredSolver(id='Advantage_system6.2')\n"
     ]
    },
    {
     "name": "stdout",
     "output_type": "stream",
     "text": [
      "Initializing NetworkV3\n",
      "Initializing NetworkV3\n"
     ]
    }
   ],
   "source": [
    "\n",
    "\n",
    "# config=compose(config_name=\"config.yaml\")\n",
    "config=compose(config_name=\"config.yaml\")\n",
    "wandb.init(project=\"caloqvae\", entity=\"qvae\", config=config, mode='disabled')\n",
    "modelCreator = ModelCreator(cfg=config)\n",
    "dataMgr = DataManager(cfg=config)\n",
    "#initialise data loaders\n",
    "dataMgr.init_dataLoaders()\n",
    "#run pre processing: get/set input dimensions and mean of train dataset\n",
    "dataMgr.pre_processing()\n",
    "\n",
    "if config.model.activation_fct.lower()==\"relu\":\n",
    "    modelCreator.default_activation_fct=torch.nn.ReLU()\n",
    "elif config.model.activation_fct.lower()==\"tanh\":\n",
    "    modelCreator.default_activation_fct=torch.nn.Tanh()\n",
    "else:\n",
    "    logger.warning(\"Setting identity as default activation fct\")\n",
    "    modelCreator.default_activation_fct=torch.nn.Identity()\n",
    "\n",
    "#instantiate the chosen model\n",
    "#loads from file \n",
    "model=modelCreator.init_model(dataMgr=dataMgr)\n",
    "\n",
    "#create the NN infrastructure\n",
    "model.create_networks()"
   ]
  },
  {
   "cell_type": "code",
   "execution_count": 8,
   "id": "d5238a51",
   "metadata": {},
   "outputs": [
    {
     "name": "stderr",
     "output_type": "stream",
     "text": [
      "\u001b[1m[22:27:49.510]\u001b[0m \u001b[1;95mINFO \u001b[1;0m  \u001b[1mmodels.autoencoders.autoencoderbase               \u001b[0m_dataset_mean: torch.Size([1, 533])\n",
      "\u001b[1m[22:27:49.511]\u001b[0m \u001b[1;95mINFO \u001b[1;0m  \u001b[1mwandb                                             \u001b[0mWatching\n",
      "/home/javier/miniconda3/lib/python3.9/site-packages/coffea/util.py:154: FutureWarning: In coffea version v2023.3.0 (target date: 31 Mar 2023), this will be an error.\n",
      "(Set coffea.deprecations_as_errors = True to get a stack trace now.)\n",
      "ImportError: coffea.hist is deprecated\n",
      "  warnings.warn(message, FutureWarning)\n",
      "\u001b[1m[22:27:49.905]\u001b[0m \u001b[1;95mINFO \u001b[1;0m  \u001b[1mengine.engineAtlas                                \u001b[0mSetting up engine Atlas.\n",
      "\u001b[1m[22:27:49.905]\u001b[0m \u001b[1;95mINFO \u001b[1;0m  \u001b[1mengine.engineCaloV3                               \u001b[0mSetting up engine Calo.\n",
      "\u001b[1m[22:27:49.906]\u001b[0m \u001b[1;95mINFO \u001b[1;0m  \u001b[1mengine.engine                                     \u001b[0mSetting up default engine.\n"
     ]
    }
   ],
   "source": [
    "#Not printing much useful info at the moment to avoid clutter. TODO optimise\n",
    "model.print_model_info()\n",
    "# for name, param in model.named_parameters():\n",
    "#         print(name, param.requires_grad)\n",
    "\n",
    "# Load the model on the GPU if applicable\n",
    "# dev = None\n",
    "# if (config.device == 'gpu') and config.gpu_list:\n",
    "#     logger.info('Requesting GPUs. GPU list :' + str(config.gpu_list))\n",
    "#     devids = [\"cuda:{0}\".format(x) for x in list(config.gpu_list)]\n",
    "#     logger.info(\"Main GPU : \" + devids[0])\n",
    "\n",
    "#     if is_available():\n",
    "#         print(devids[0])\n",
    "#         dev = device(devids[0])\n",
    "#         if len(devids) > 1:\n",
    "#             logger.info(f\"Using DataParallel on {devids}\")\n",
    "#             model = DataParallel(model, device_ids=list(config.gpu_list))\n",
    "#         logger.info(\"CUDA available\")\n",
    "#     else:\n",
    "#         dev = device('cpu')\n",
    "#         logger.info(\"CUDA unavailable\")\n",
    "# else:\n",
    "#     logger.info('Requested CPU or unable to use GPU. Setting CPU as device.')\n",
    "#     dev = device('cpu')\n",
    "dev = torch.device(\"cuda:0\")\n",
    "\n",
    "# Send the model to the selected device\n",
    "# model.to(dev)\n",
    "# Log metrics with wandb\n",
    "wandb.watch(model)\n",
    "\n",
    "# For some reason, need to use postional parameter cfg instead of named parameter\n",
    "# with updated Hydra - used to work with named param but now is cfg=None \n",
    "engine=instantiate(config.engine, config)\n",
    "\n",
    "#TODO for some reason hydra double instantiates the engine in a\n",
    "#newer version if cfg=config is passed as an argument. This is a workaround.\n",
    "#Find out why that is...\n",
    "engine._config=config\n",
    "#add dataMgr instance to engine namespace\n",
    "engine.data_mgr=dataMgr\n",
    "#add device instance to engine namespace\n",
    "engine.device=dev    \n",
    "#instantiate and register optimisation algorithm\n",
    "engine.optimiser = torch.optim.Adam(model.parameters(),\n",
    "                                    lr=config.engine.learning_rate)\n",
    "#add the model instance to the engine namespace\n",
    "engine.model = model\n",
    "# add the modelCreator instance to engine namespace\n",
    "engine.model_creator = modelCreator\n",
    "engine.model = engine.model.to(dev)"
   ]
  },
  {
   "cell_type": "code",
   "execution_count": 9,
   "id": "158ecfae",
   "metadata": {},
   "outputs": [
    {
     "name": "stderr",
     "output_type": "stream",
     "text": [
      "\u001b[1m[22:27:56.441]\u001b[0m \u001b[1;95mINFO \u001b[1;0m  \u001b[1mdata.dataManager                                  \u001b[0m<torch.utils.data.dataloader.DataLoader object at 0x7fdaad7dffa0>: 96184 events, 752 batches\n",
      "\u001b[1m[22:27:56.442]\u001b[0m \u001b[1;95mINFO \u001b[1;0m  \u001b[1mdata.dataManager                                  \u001b[0m<torch.utils.data.dataloader.DataLoader object at 0x7fdaad7dffd0>: 12023 events, 12 batches\n",
      "\u001b[1m[22:27:56.443]\u001b[0m \u001b[1;95mINFO \u001b[1;0m  \u001b[1mdata.dataManager                                  \u001b[0m<torch.utils.data.dataloader.DataLoader object at 0x7fdaad7dff10>: 12023 events, 12 batches\n"
     ]
    }
   ],
   "source": [
    "train_loader,test_loader,val_loader = engine.data_mgr.create_dataLoader()"
   ]
  },
  {
   "cell_type": "code",
   "execution_count": 10,
   "id": "5c30117a",
   "metadata": {},
   "outputs": [],
   "source": [
    "###LOAD MODEL"
   ]
  },
  {
   "cell_type": "code",
   "execution_count": 11,
   "id": "b8ada978",
   "metadata": {},
   "outputs": [],
   "source": [
    "def load_state(model, run_path, device):\n",
    "        model_loc = run_path\n",
    "        \n",
    "        # Open a file in read-binary mode\n",
    "        with open(model_loc, 'rb') as f:\n",
    "            # Interpret the file using torch.load()\n",
    "            checkpoint=torch.load(f, map_location=device)\n",
    "            \n",
    "            local_module_keys=list(model._modules.keys())\n",
    "            for module in checkpoint.keys():\n",
    "                if module in local_module_keys:\n",
    "                    print(\"Loading weights for module = \", module)\n",
    "                    getattr(model, module).load_state_dict(checkpoint[module])"
   ]
  },
  {
   "cell_type": "code",
   "execution_count": 12,
   "id": "18861900",
   "metadata": {},
   "outputs": [
    {
     "name": "stdout",
     "output_type": "stream",
     "text": [
      "Loading weights for module =  _activation_fct\n",
      "Loading weights for module =  _bce_loss\n",
      "Loading weights for module =  _energy_activation_fct\n",
      "Loading weights for module =  _hit_activation_fct\n",
      "Loading weights for module =  _output_loss\n",
      "Loading weights for module =  _hit_loss\n",
      "Loading weights for module =  _hit_smoothing_dist_mod\n",
      "Loading weights for module =  encoder\n"
     ]
    },
    {
     "ename": "RuntimeError",
     "evalue": "Error(s) in loading state_dict for EncoderCNN:\n\tMissing key(s) in state_dict: \"_networks.0.1.1.bias\", \"_networks.0.1.1.running_mean\", \"_networks.0.1.1.running_var\", \"_networks.0.1.3.weight\", \"_networks.0.1.3.bias\", \"_networks.0.1.5.weight\", \"_networks.0.1.6.weight\", \"_networks.0.1.6.bias\", \"_networks.0.1.6.running_mean\", \"_networks.0.1.6.running_var\", \"_networks.0.1.7.weight\", \"_networks.0.1.7.bias\", \"_networks.0.1.8.weight\", \"_networks.0.1.8.bias\", \"_networks.0.1.8.running_mean\", \"_networks.0.1.8.running_var\", \"_networks.0.1.9.weight\", \"_networks.0.1.10.weight\", \"_networks.0.1.10.bias\", \"_networks.0.1.11.weight\", \"_networks.0.1.11.bias\", \"_networks.0.1.11.running_mean\", \"_networks.0.1.11.running_var\", \"_networks.0.1.12.weight\", \"_networks.0.1.13.weight\", \"_networks.0.1.13.bias\", \"_networks.0.1.15.weight\", \"_networks.0.1.15.bias\", \"_networks.0.1.15.running_mean\", \"_networks.0.1.15.running_var\", \"_networks.0.1.16.weight\", \"_networks.0.1.17.weight\", \"_networks.0.1.17.bias\", \"sequential.0.weight\", \"sequential.0.bias\", \"sequential2.0.weight\", \"sequential2.0.bias\", \"sequential2.1.weight\", \"sequential2.1.bias\", \"sequential2.1.running_mean\", \"sequential2.1.running_var\", \"sequential2.2.weight\", \"sequential2.3.weight\", \"sequential2.3.bias\", \"sequential2.5.weight\", \"sequential2.6.weight\", \"sequential2.6.bias\", \"sequential2.6.running_mean\", \"sequential2.6.running_var\", \"sequential2.7.weight\", \"sequential2.7.bias\", \"sequential2.8.weight\", \"sequential2.8.bias\", \"sequential2.8.running_mean\", \"sequential2.8.running_var\", \"sequential2.9.weight\", \"sequential2.10.weight\", \"sequential2.10.bias\", \"sequential2.11.weight\", \"sequential2.11.bias\", \"sequential2.11.running_mean\", \"sequential2.11.running_var\", \"sequential2.12.weight\", \"sequential2.13.weight\", \"sequential2.13.bias\", \"sequential2.15.weight\", \"sequential2.15.bias\", \"sequential2.15.running_mean\", \"sequential2.15.running_var\", \"sequential2.16.weight\", \"sequential2.17.weight\", \"sequential2.17.bias\". \n\tUnexpected key(s) in state_dict: \"seq1.0.weight\", \"seq1.0.bias\", \"seq1.2.weight\", \"seq1.2.bias\", \"seq1.3.weight\", \"seq1.3.bias\", \"seq1.3.running_mean\", \"seq1.3.running_var\", \"seq1.3.num_batches_tracked\", \"seq1.4.weight\", \"seq2.0.weight\", \"seq2.0.bias\", \"seq2.1.weight\", \"seq2.2.weight\", \"seq2.2.bias\", \"seq2.2.running_mean\", \"seq2.2.running_var\", \"seq2.2.num_batches_tracked\", \"seq3.0.weight\", \"seq3.0.bias\", \"seq3.1.weight\", \"seq3.1.bias\", \"seq3.1.running_mean\", \"seq3.1.running_var\", \"seq3.1.num_batches_tracked\", \"seq3.2.weight\", \"seq4.0.weight\", \"seq4.0.bias\", \"seq4.2.weight\", \"seq4.3.weight\", \"seq4.3.bias\", \"seq4.3.running_mean\", \"seq4.3.running_var\", \"seq4.3.num_batches_tracked\", \"seq4.4.weight\", \"seq4.4.bias\", \"seq4.5.weight\", \"seq4.5.bias\", \"seq4.5.running_mean\", \"seq4.5.running_var\", \"seq4.5.num_batches_tracked\", \"seq4.6.weight\", \"seq4.7.weight\", \"seq4.7.bias\", \"seq4.8.weight\", \"seq4.8.bias\", \"seq4.8.running_mean\", \"seq4.8.running_var\", \"seq4.8.num_batches_tracked\", \"seq4.9.weight\", \"seq4.10.weight\", \"seq4.10.bias\", \"seq4.12.weight\", \"seq4.12.bias\", \"seq4.12.running_mean\", \"seq4.12.running_var\", \"seq4.12.num_batches_tracked\", \"seq4.13.weight\", \"seq4.14.weight\", \"seq4.14.bias\", \"_networks.0.0.2.weight\", \"_networks.0.0.2.bias\", \"_networks.0.0.3.weight\", \"_networks.0.0.3.bias\", \"_networks.0.0.3.running_mean\", \"_networks.0.0.3.running_var\", \"_networks.0.0.3.num_batches_tracked\", \"_networks.0.0.4.weight\", \"_networks.0.1.2.bias\", \"_networks.0.1.2.running_mean\", \"_networks.0.1.2.running_var\", \"_networks.0.1.2.num_batches_tracked\". \n\tsize mismatch for _networks.0.1.0.weight: copying a param with shape torch.Size([32, 17, 3, 3]) from checkpoint, the shape in current model is torch.Size([64, 2, 3, 3]).\n\tsize mismatch for _networks.0.1.0.bias: copying a param with shape torch.Size([32]) from checkpoint, the shape in current model is torch.Size([64]).\n\tsize mismatch for _networks.0.1.1.weight: copying a param with shape torch.Size([32]) from checkpoint, the shape in current model is torch.Size([64]).\n\tsize mismatch for _networks.0.1.2.weight: copying a param with shape torch.Size([32]) from checkpoint, the shape in current model is torch.Size([64]).",
     "output_type": "error",
     "traceback": [
      "\u001b[0;31m---------------------------------------------------------------------------\u001b[0m",
      "\u001b[0;31mRuntimeError\u001b[0m                              Traceback (most recent call last)",
      "\u001b[0;32m<ipython-input-12-831f9d7f37bf>\u001b[0m in \u001b[0;36m<module>\u001b[0;34m\u001b[0m\n\u001b[1;32m     34\u001b[0m \u001b[0;34m\u001b[0m\u001b[0m\n\u001b[1;32m     35\u001b[0m \u001b[0;31m# load_state(model, run_path, 'cuda:{0}'.format(cfg.gpu_list[0]))\u001b[0m\u001b[0;34m\u001b[0m\u001b[0;34m\u001b[0m\u001b[0;34m\u001b[0m\u001b[0m\n\u001b[0;32m---> 36\u001b[0;31m \u001b[0mload_state\u001b[0m\u001b[0;34m(\u001b[0m\u001b[0mmodel\u001b[0m\u001b[0;34m,\u001b[0m \u001b[0mrun_path\u001b[0m\u001b[0;34m,\u001b[0m \u001b[0mdev\u001b[0m\u001b[0;34m)\u001b[0m\u001b[0;34m\u001b[0m\u001b[0;34m\u001b[0m\u001b[0m\n\u001b[0m\u001b[1;32m     37\u001b[0m \u001b[0mmodel\u001b[0m\u001b[0;34m.\u001b[0m\u001b[0meval\u001b[0m\u001b[0;34m(\u001b[0m\u001b[0;34m)\u001b[0m\u001b[0;34m;\u001b[0m\u001b[0;34m\u001b[0m\u001b[0;34m\u001b[0m\u001b[0m\n",
      "\u001b[0;32m<ipython-input-11-a177a19cb5c7>\u001b[0m in \u001b[0;36mload_state\u001b[0;34m(model, run_path, device)\u001b[0m\n\u001b[1;32m     11\u001b[0m                 \u001b[0;32mif\u001b[0m \u001b[0mmodule\u001b[0m \u001b[0;32min\u001b[0m \u001b[0mlocal_module_keys\u001b[0m\u001b[0;34m:\u001b[0m\u001b[0;34m\u001b[0m\u001b[0;34m\u001b[0m\u001b[0m\n\u001b[1;32m     12\u001b[0m                     \u001b[0mprint\u001b[0m\u001b[0;34m(\u001b[0m\u001b[0;34m\"Loading weights for module = \"\u001b[0m\u001b[0;34m,\u001b[0m \u001b[0mmodule\u001b[0m\u001b[0;34m)\u001b[0m\u001b[0;34m\u001b[0m\u001b[0;34m\u001b[0m\u001b[0m\n\u001b[0;32m---> 13\u001b[0;31m                     \u001b[0mgetattr\u001b[0m\u001b[0;34m(\u001b[0m\u001b[0mmodel\u001b[0m\u001b[0;34m,\u001b[0m \u001b[0mmodule\u001b[0m\u001b[0;34m)\u001b[0m\u001b[0;34m.\u001b[0m\u001b[0mload_state_dict\u001b[0m\u001b[0;34m(\u001b[0m\u001b[0mcheckpoint\u001b[0m\u001b[0;34m[\u001b[0m\u001b[0mmodule\u001b[0m\u001b[0;34m]\u001b[0m\u001b[0;34m)\u001b[0m\u001b[0;34m\u001b[0m\u001b[0;34m\u001b[0m\u001b[0m\n\u001b[0m",
      "\u001b[0;32m~/miniconda3/lib/python3.9/site-packages/torch/nn/modules/module.py\u001b[0m in \u001b[0;36mload_state_dict\u001b[0;34m(self, state_dict, strict)\u001b[0m\n\u001b[1;32m   1480\u001b[0m \u001b[0;34m\u001b[0m\u001b[0m\n\u001b[1;32m   1481\u001b[0m         \u001b[0;32mif\u001b[0m \u001b[0mlen\u001b[0m\u001b[0;34m(\u001b[0m\u001b[0merror_msgs\u001b[0m\u001b[0;34m)\u001b[0m \u001b[0;34m>\u001b[0m \u001b[0;36m0\u001b[0m\u001b[0;34m:\u001b[0m\u001b[0;34m\u001b[0m\u001b[0;34m\u001b[0m\u001b[0m\n\u001b[0;32m-> 1482\u001b[0;31m             raise RuntimeError('Error(s) in loading state_dict for {}:\\n\\t{}'.format(\n\u001b[0m\u001b[1;32m   1483\u001b[0m                                self.__class__.__name__, \"\\n\\t\".join(error_msgs)))\n\u001b[1;32m   1484\u001b[0m         \u001b[0;32mreturn\u001b[0m \u001b[0m_IncompatibleKeys\u001b[0m\u001b[0;34m(\u001b[0m\u001b[0mmissing_keys\u001b[0m\u001b[0;34m,\u001b[0m \u001b[0munexpected_keys\u001b[0m\u001b[0;34m)\u001b[0m\u001b[0;34m\u001b[0m\u001b[0;34m\u001b[0m\u001b[0m\n",
      "\u001b[0;31mRuntimeError\u001b[0m: Error(s) in loading state_dict for EncoderCNN:\n\tMissing key(s) in state_dict: \"_networks.0.1.1.bias\", \"_networks.0.1.1.running_mean\", \"_networks.0.1.1.running_var\", \"_networks.0.1.3.weight\", \"_networks.0.1.3.bias\", \"_networks.0.1.5.weight\", \"_networks.0.1.6.weight\", \"_networks.0.1.6.bias\", \"_networks.0.1.6.running_mean\", \"_networks.0.1.6.running_var\", \"_networks.0.1.7.weight\", \"_networks.0.1.7.bias\", \"_networks.0.1.8.weight\", \"_networks.0.1.8.bias\", \"_networks.0.1.8.running_mean\", \"_networks.0.1.8.running_var\", \"_networks.0.1.9.weight\", \"_networks.0.1.10.weight\", \"_networks.0.1.10.bias\", \"_networks.0.1.11.weight\", \"_networks.0.1.11.bias\", \"_networks.0.1.11.running_mean\", \"_networks.0.1.11.running_var\", \"_networks.0.1.12.weight\", \"_networks.0.1.13.weight\", \"_networks.0.1.13.bias\", \"_networks.0.1.15.weight\", \"_networks.0.1.15.bias\", \"_networks.0.1.15.running_mean\", \"_networks.0.1.15.running_var\", \"_networks.0.1.16.weight\", \"_networks.0.1.17.weight\", \"_networks.0.1.17.bias\", \"sequential.0.weight\", \"sequential.0.bias\", \"sequential2.0.weight\", \"sequential2.0.bias\", \"sequential2.1.weight\", \"sequential2.1.bias\", \"sequential2.1.running_mean\", \"sequential2.1.running_var\", \"sequential2.2.weight\", \"sequential2.3.weight\", \"sequential2.3.bias\", \"sequential2.5.weight\", \"sequential2.6.weight\", \"sequential2.6.bias\", \"sequential2.6.running_mean\", \"sequential2.6.running_var\", \"sequential2.7.weight\", \"sequential2.7.bias\", \"sequential2.8.weight\", \"sequential2.8.bias\", \"sequential2.8.running_mean\", \"sequential2.8.running_var\", \"sequential2.9.weight\", \"sequential2.10.weight\", \"sequential2.10.bias\", \"sequential2.11.weight\", \"sequential2.11.bias\", \"sequential2.11.running_mean\", \"sequential2.11.running_var\", \"sequential2.12.weight\", \"sequential2.13.weight\", \"sequential2.13.bias\", \"sequential2.15.weight\", \"sequential2.15.bias\", \"sequential2.15.running_mean\", \"sequential2.15.running_var\", \"sequential2.16.weight\", \"sequential2.17.weight\", \"sequential2.17.bias\". \n\tUnexpected key(s) in state_dict: \"seq1.0.weight\", \"seq1.0.bias\", \"seq1.2.weight\", \"seq1.2.bias\", \"seq1.3.weight\", \"seq1.3.bias\", \"seq1.3.running_mean\", \"seq1.3.running_var\", \"seq1.3.num_batches_tracked\", \"seq1.4.weight\", \"seq2.0.weight\", \"seq2.0.bias\", \"seq2.1.weight\", \"seq2.2.weight\", \"seq2.2.bias\", \"seq2.2.running_mean\", \"seq2.2.running_var\", \"seq2.2.num_batches_tracked\", \"seq3.0.weight\", \"seq3.0.bias\", \"seq3.1.weight\", \"seq3.1.bias\", \"seq3.1.running_mean\", \"seq3.1.running_var\", \"seq3.1.num_batches_tracked\", \"seq3.2.weight\", \"seq4.0.weight\", \"seq4.0.bias\", \"seq4.2.weight\", \"seq4.3.weight\", \"seq4.3.bias\", \"seq4.3.running_mean\", \"seq4.3.running_var\", \"seq4.3.num_batches_tracked\", \"seq4.4.weight\", \"seq4.4.bias\", \"seq4.5.weight\", \"seq4.5.bias\", \"seq4.5.running_mean\", \"seq4.5.running_var\", \"seq4.5.num_batches_tracked\", \"seq4.6.weight\", \"seq4.7.weight\", \"seq4.7.bias\", \"seq4.8.weight\", \"seq4.8.bias\", \"seq4.8.running_mean\", \"seq4.8.running_var\", \"seq4.8.num_batches_tracked\", \"seq4.9.weight\", \"seq4.10.weight\", \"seq4.10.bias\", \"seq4.12.weight\", \"seq4.12.bias\", \"seq4.12.running_mean\", \"seq4.12.running_var\", \"seq4.12.num_batches_tracked\", \"seq4.13.weight\", \"seq4.14.weight\", \"seq4.14.bias\", \"_networks.0.0.2.weight\", \"_networks.0.0.2.bias\", \"_networks.0.0.3.weight\", \"_networks.0.0.3.bias\", \"_networks.0.0.3.running_mean\", \"_networks.0.0.3.running_var\", \"_networks.0.0.3.num_batches_tracked\", \"_networks.0.0.4.weight\", \"_networks.0.1.2.bias\", \"_networks.0.1.2.running_mean\", \"_networks.0.1.2.running_var\", \"_networks.0.1.2.num_batches_tracked\". \n\tsize mismatch for _networks.0.1.0.weight: copying a param with shape torch.Size([32, 17, 3, 3]) from checkpoint, the shape in current model is torch.Size([64, 2, 3, 3]).\n\tsize mismatch for _networks.0.1.0.bias: copying a param with shape torch.Size([32]) from checkpoint, the shape in current model is torch.Size([64]).\n\tsize mismatch for _networks.0.1.1.weight: copying a param with shape torch.Size([32]) from checkpoint, the shape in current model is torch.Size([64]).\n\tsize mismatch for _networks.0.1.2.weight: copying a param with shape torch.Size([32]) from checkpoint, the shape in current model is torch.Size([64])."
     ]
    }
   ],
   "source": [
    "#Pions cond on Decoder\n",
    "# run_path = '/home/jtoledo/CaloQVAE/outputs/2023-07-05/12-27-11/wandb/run-20230705_122715-uxyvraes/files/GumBoltAtlasCRBMCNN_atlas_default_latest.pth'\n",
    "#Pions Noncond on Decoder\n",
    "# run_path = '/home/jtoledo/CaloQVAE/outputs/2023-06-30/06-51-53/wandb/run-20230630_065158-qx3cmkt0/files/GumBoltAtlasCRBMCNN_atlas_default_best.pth'\n",
    "# run_path = \"/home/javier/Projects/CaloQVAE/outputs/2023-07-07/17-09-08/wandb/run-20230707_170909-vsslbz0h/files/GumBoltAtlasCRBMCNN_atlas_default_best.pth\"\n",
    "\n",
    "\n",
    "#Photons Noncond on Decoder\n",
    "# run_path = '/home/jtoledo/CaloQVAE/outputs/2023-07-01/16-26-45/wandb/run-20230701_162650-eap4avzf/files/GumBoltAtlasCRBMCNN_atlas_default_best.pth'\n",
    "#Photons cond dec\n",
    "# run_path = '/home/jtoledo/CaloQVAE/outputs/2023-07-07/08-39-58/wandb/run-20230707_084003-a3wr6q10/files/GumBoltAtlasCRBMCNN_atlas_default_best.pth'\n",
    "#Photons w/ classifier\n",
    "# run_path = '/home/javier/Projects/CaloQVAE/outputs/2023-07-08/23-57-14/wandb/run-20230708_235715-u7yk2qyo/files/GumBoltAtlasCRBMCNN_atlas_default_best.pth'\n",
    "# run_path = '/home/javier/Projects/CaloQVAE/outputs/2023-07-09/13-28-53/wandb/run-20230709_132854-ndjguffk/files/GumBoltAtlasCRBMCNN_atlas_default_best.pth'\n",
    "\n",
    "\n",
    "# photonEn0\n",
    "# run_path = \"/home/javier/Projects/CaloQVAE/outputs/2023-07-11/19-17-34/wandb/run-20230711_191735-ps7le1q8/files/GumBoltAtlasCRBMCNN_atlas_default_best.pth\"\n",
    "\n",
    "# photonEn7\n",
    "# run_path = \"/home/javier/Projects/CaloQVAE/outputs/2023-07-11/19-08-43/wandb/run-20230711_190844-hyruxtix/files/GumBoltAtlasCRBMCNN_atlas_default_best.pth\"\n",
    "\n",
    "# pionEn0\n",
    "# run_path = \"/home/javier/Projects/CaloQVAE/outputs/2023-07-11/18-35-00/wandb/run-20230711_183501-jeg84356/files/GumBoltAtlasCRBMCNN_atlas_default_best.pth\"\n",
    "\n",
    "# pionEn7\n",
    "# run_path = \"/home/javier/Projects/CaloQVAE/outputs/2023-07-11/18-34-47/wandb/run-20230711_183448-s2yyt3me/files/GumBoltAtlasCRBMCNN_atlas_default_best.pth\"\n",
    "\n",
    "#pion1 EncUCNN summer-energy\n",
    "run_path = \"/home/javier/Projects/CaloQVAE/outputs/2023-07-10/16-43-00/wandb/run-20230710_164301-wsjt5x1k/files/GumBoltAtlasCRBMCNN_atlas_default_best.pth\"\n",
    "\n",
    "#pion1 avid-dream\n",
    "run_path = \"/home/javier/Projects/CaloQVAE/outputs/2023-07-10/16-43-00/wandb/run-20230710_164301-wsjt5x1k/files/GumBoltAtlasCRBMCNN_atlas_default_best.pth\"\n",
    "\n",
    "# load_state(model, run_path, 'cuda:{0}'.format(cfg.gpu_list[0]))\n",
    "load_state(model, run_path, dev)\n",
    "model.eval();"
   ]
  },
  {
   "cell_type": "code",
   "execution_count": 136,
   "id": "ae83e12c",
   "metadata": {},
   "outputs": [],
   "source": [
    "# model.decoder"
   ]
  },
  {
   "cell_type": "code",
   "execution_count": 174,
   "id": "22eb920b",
   "metadata": {},
   "outputs": [],
   "source": [
    "xx = next(iter(val_loader))\n",
    "in_data, true_energy, in_data_flat = engine._preprocess(xx[0],xx[1]) # input , label"
   ]
  },
  {
   "cell_type": "code",
   "execution_count": 175,
   "id": "60d91777-0749-403b-8553-433d88359b2b",
   "metadata": {},
   "outputs": [],
   "source": [
    "# in_data.shape\n",
    "# xx[0][0].shape"
   ]
  },
  {
   "cell_type": "code",
   "execution_count": 176,
   "id": "20931d8f",
   "metadata": {},
   "outputs": [
    {
     "name": "stdout",
     "output_type": "stream",
     "text": [
      "torch.Size([1024, 368])\n"
     ]
    },
    {
     "data": {
      "text/plain": [
       "[<matplotlib.lines.Line2D at 0x7f2f88590160>]"
      ]
     },
     "execution_count": 176,
     "metadata": {},
     "output_type": "execute_result"
    },
    {
     "data": {
      "image/png": "[encoded data removed]",
      "text/plain": [
       "<Figure size 432x288 with 1 Axes>"
      ]
     },
     "metadata": {
      "needs_background": "light"
     },
     "output_type": "display_data"
    }
   ],
   "source": [
    "print(in_data.shape)\n",
    "plt.plot(in_data.cpu().numpy()[2,:])"
   ]
  },
  {
   "cell_type": "code",
   "execution_count": 177,
   "id": "e5c32576",
   "metadata": {},
   "outputs": [
    {
     "data": {
      "text/plain": [
       "[<matplotlib.lines.Line2D at 0x7f2fc86b9460>]"
      ]
     },
     "execution_count": 177,
     "metadata": {},
     "output_type": "execute_result"
    },
    {
     "data": {
      "image/png": "[encoded data removed]",
      "text/plain": [
       "<Figure size 432x288 with 1 Axes>"
      ]
     },
     "metadata": {
      "needs_background": "light"
     },
     "output_type": "display_data"
    }
   ],
   "source": [
    "with torch.no_grad():\n",
    "    fwd_output = engine.model((in_data, true_energy), True)\n",
    "idx = 20\n",
    "plt.plot(in_data.cpu().numpy()[idx,:])\n",
    "plt.plot(fwd_output.output_activations.detach().cpu().numpy()[idx,:])"
   ]
  },
  {
   "cell_type": "code",
   "execution_count": 141,
   "id": "519f0d14",
   "metadata": {},
   "outputs": [
    {
     "data": {
      "image/png": "[encoded data removed]",
      "text/plain": [
       "<Figure size 432x288 with 1 Axes>"
      ]
     },
     "metadata": {
      "needs_background": "light"
     },
     "output_type": "display_data"
    }
   ],
   "source": [
    "# enIn = torch.cat((in_data, true_energy), dim=1)\n",
    "# beta, post_logits, post_samples = engine.model.encoder(enIn)\n",
    "with torch.no_grad():\n",
    "    beta, post_logits, post_samples = engine.model.encoder(in_data, true_energy)\n",
    "plt.plot(post_samples[0][0,:].detach().cpu().numpy())\n",
    "post_samples = torch.cat(post_samples, 1)"
   ]
  },
  {
   "cell_type": "code",
   "execution_count": 142,
   "id": "53db7e50",
   "metadata": {},
   "outputs": [
    {
     "data": {
      "text/plain": [
       "[<matplotlib.lines.Line2D at 0x7f2fd00732e0>]"
      ]
     },
     "execution_count": 142,
     "metadata": {},
     "output_type": "execute_result"
    },
    {
     "data": {
      "image/png": "[encoded data removed]",
      "text/plain": [
       "<Figure size 432x288 with 1 Axes>"
      ]
     },
     "metadata": {
      "needs_background": "light"
     },
     "output_type": "display_data"
    }
   ],
   "source": [
    "output_hits, output_activations = engine.model.decoder(post_samples, true_energy)\n",
    "plt.plot(output_activations[idx,:].detach().cpu().numpy())"
   ]
  },
  {
   "cell_type": "code",
   "execution_count": 143,
   "id": "bb2d95cb",
   "metadata": {},
   "outputs": [
    {
     "data": {
      "image/png": "[encoded data removed]",
      "text/plain": [
       "<Figure size 432x288 with 1 Axes>"
      ]
     },
     "metadata": {
      "needs_background": "light"
     },
     "output_type": "display_data"
    }
   ],
   "source": [
    "plt.hist(fwd_output.output_hits.sum(dim=1).detach().cpu().numpy(), bins=100, density=True)\n",
    "# plt.hist(output_activations.sum(dim=1).detach().cpu().numpy(), bins=100, density=True)\n",
    "# plt.plot(fwd_output.output_hits[idx,:].detach().cpu().numpy())\n",
    "plt.show()"
   ]
  },
  {
   "cell_type": "code",
   "execution_count": 144,
   "id": "d358cc5a",
   "metadata": {},
   "outputs": [
    {
     "data": {
      "image/png": "[encoded data removed]",
      "text/plain": [
       "<Figure size 432x288 with 1 Axes>"
      ]
     },
     "metadata": {
      "needs_background": "light"
     },
     "output_type": "display_data"
    }
   ],
   "source": [
    "xhat = (output_activations.detach().exp() - 1)*0.04*true_energy\n",
    "plt.hist(np.log(xx[0][0].sum(dim=1).cpu().numpy() + 1e-10), bins=100, density=True)\n",
    "plt.hist(np.log(xhat.sum(dim=1).cpu().numpy() + 1e-10), bins=100, density=True)\n",
    "plt.xlim(left=-1)\n",
    "plt.show()"
   ]
  },
  {
   "cell_type": "code",
   "execution_count": 145,
   "id": "17216765-0780-4c8d-8db9-fe424b3ad619",
   "metadata": {},
   "outputs": [
    {
     "data": {
      "text/plain": [
       "9"
      ]
     },
     "execution_count": 145,
     "metadata": {},
     "output_type": "execute_result"
    }
   ],
   "source": [
    "# model.loss(in_data, fwd_output ,true_energy)\n",
    "val_loader.__len__()"
   ]
  },
  {
   "cell_type": "code",
   "execution_count": 178,
   "id": "126f45d1",
   "metadata": {},
   "outputs": [],
   "source": [
    "en_labels = []\n",
    "xtarget_samples = []\n",
    "xrecon_samples = []\n",
    "xitarget_samples = []\n",
    "xirecon_samples = []\n",
    "labelstarget_samples = []\n",
    "labelsrecon_samples = []\n",
    "for xx in val_loader:\n",
    "    in_data, true_energy, in_data_flat = engine._preprocess(xx[0],xx[1])\n",
    "    fwd_output = engine.model((in_data, true_energy), True)\n",
    "    xVec = (fwd_output.output_activations.detach().exp() - 1)*0.04*true_energy\n",
    "    \n",
    "    xirecon_samples.append(fwd_output.output_activations.detach().cpu())\n",
    "    xrecon_samples.append( xVec.detach().cpu() )\n",
    "    labelsrecon_samples.append(fwd_output.labels.detach().cpu())\n",
    "    \n",
    "    xitarget_samples.append(in_data.detach().cpu())\n",
    "    xtarget_samples.append( xx[0][0].detach().cpu() )\n",
    "    labelstarget_samples.append( nn.functional.one_hot(true_energy.divide(256).log2().to(torch.int64), num_classes=15).squeeze(1).to(torch.float).detach().cpu() )\n",
    "    \n",
    "    en_labels.append(true_energy.detach().cpu())\n",
    "    \n",
    "xtarget_samples = torch.cat(xtarget_samples, dim=0)\n",
    "labelstarget_samples = torch.cat(labelstarget_samples, dim=0)\n",
    "xitarget_samples = torch.cat(xitarget_samples, dim=0)  \n",
    "xrecon_samples = torch.cat(xrecon_samples, dim=0)\n",
    "xirecon_samples = torch.cat(xirecon_samples, dim=0) \n",
    "labelsrecon_samples = torch.cat(labelsrecon_samples, dim=0)\n",
    "en_labels = torch.cat(en_labels, dim=0)\n",
    "\n",
    "lhat = torch.argmax(nn.Sigmoid()(labelsrecon_samples), dim=1).numpy()\n",
    "l = torch.argmax(labelstarget_samples, dim=1).numpy()"
   ]
  },
  {
   "cell_type": "code",
   "execution_count": 179,
   "id": "bbc3eab7",
   "metadata": {},
   "outputs": [
    {
     "data": {
      "image/png": "[encoded data removed]",
      "text/plain": [
       "<Figure size 432x288 with 1 Axes>"
      ]
     },
     "metadata": {
      "needs_background": "light"
     },
     "output_type": "display_data"
    }
   ],
   "source": [
    "plt.hist(np.log(xtarget_samples.sum(dim=1).numpy() + 1e-10), bins=100, density=True)\n",
    "plt.hist(np.log(xrecon_samples.sum(dim=1).numpy() + 1e-10), bins=100, density=True, alpha=0.5)\n",
    "plt.xlim(left=-5)\n",
    "plt.show()"
   ]
  },
  {
   "cell_type": "code",
   "execution_count": 180,
   "id": "e3be0621",
   "metadata": {},
   "outputs": [
    {
     "data": {
      "image/png": "[encoded data removed]",
      "text/plain": [
       "<Figure size 432x288 with 1 Axes>"
      ]
     },
     "metadata": {
      "needs_background": "light"
     },
     "output_type": "display_data"
    }
   ],
   "source": [
    "plt.hist(xitarget_samples.sum(dim=1).numpy(), bins=100, density=True)\n",
    "plt.hist(xirecon_samples.sum(dim=1).numpy(), bins=100, density=True, alpha=0.5)\n",
    "plt.show()"
   ]
  },
  {
   "cell_type": "code",
   "execution_count": 181,
   "id": "175461b5",
   "metadata": {},
   "outputs": [
    {
     "data": {
      "image/png": "[encoded data removed]",
      "text/plain": [
       "<Figure size 432x288 with 1 Axes>"
      ]
     },
     "metadata": {
      "needs_background": "light"
     },
     "output_type": "display_data"
    }
   ],
   "source": [
    "#Sparsity\n",
    "for enIdx in en_labels.unique().numpy():\n",
    "    idxBool = (en_labels == enIdx).nonzero(as_tuple=True)[0]\n",
    "    xtargetTmp = xtarget_samples[idxBool,:]\n",
    "    xreconTmp = xrecon_samples[idxBool, :]\n",
    "    plt.hist(((xtargetTmp == 0).sum(dim=1)/533).numpy(), bins=50, density=True)\n",
    "#     plt.hist(((xreconTmp == 0).sum(dim=1)/368).numpy(), bins=50, density=True, alpha=0.9)\n",
    "plt.legend(list(en_labels.unique().numpy()))\n",
    "plt.xlabel(\"Sparsity Index\")\n",
    "plt.ylabel(\"PDF\")\n",
    "plt.title(\"Photons GT\")\n",
    "plt.show()"
   ]
  },
  {
   "cell_type": "code",
   "execution_count": 182,
   "id": "d8af0741",
   "metadata": {},
   "outputs": [
    {
     "data": {
      "image/png": "[encoded data removed]",
      "text/plain": [
       "<Figure size 432x288 with 1 Axes>"
      ]
     },
     "metadata": {
      "needs_background": "light"
     },
     "output_type": "display_data"
    }
   ],
   "source": [
    "#Sparsity\n",
    "for enIdx in en_labels.unique().numpy():\n",
    "    idxBool = (en_labels == enIdx).nonzero(as_tuple=True)[0]\n",
    "    xtargetTmp = xtarget_samples[idxBool,:]\n",
    "    xreconTmp = xrecon_samples[idxBool, :]\n",
    "    # plt.hist(((xtargetTmp == 0).sum(dim=1)/368).numpy(), bins=50, density=True)\n",
    "    plt.hist(((xreconTmp == 0).sum(dim=1)/368).numpy(), bins=30, density=True, alpha=0.9)\n",
    "plt.legend(list(en_labels.unique().numpy()), bbox_to_anchor=(1.1, 1.05))\n",
    "plt.xlabel(\"Sparsity Index\")\n",
    "plt.ylabel(\"PDF\")\n",
    "plt.title(\"Photons Recon\")\n",
    "plt.show()"
   ]
  },
  {
   "cell_type": "code",
   "execution_count": 183,
   "id": "dbafa10c",
   "metadata": {},
   "outputs": [
    {
     "data": {
      "image/png": "[encoded data removed]",
      "text/plain": [
       "<Figure size 432x288 with 1 Axes>"
      ]
     },
     "metadata": {
      "needs_background": "light"
     },
     "output_type": "display_data"
    }
   ],
   "source": [
    "plt.hist(((xtarget_samples == 0).sum(dim=1)/368).numpy(), bins=50, density=True)\n",
    "plt.hist(((xrecon_samples == 0).sum(dim=1)/368).numpy(), bins=50, density=True, alpha=0.5)\n",
    "plt.xlabel(\"Sparsity Index\")\n",
    "plt.ylabel(\"PDF\")\n",
    "plt.legend([\"GT\", \"Recon\"])\n",
    "plt.title(\"Photons\")\n",
    "plt.show()"
   ]
  },
  {
   "cell_type": "code",
   "execution_count": 30,
   "id": "991a6715",
   "metadata": {},
   "outputs": [
    {
     "data": {
      "text/plain": [
       "0.0009090909090909091"
      ]
     },
     "execution_count": 30,
     "metadata": {},
     "output_type": "execute_result"
    }
   ],
   "source": [
    "# plt.plot(l[:10])\n",
    "# plt.plot(lhat[:10])\n",
    "np.sum(np.sign(np.abs(l - lhat)))/len(l)"
   ]
  },
  {
   "cell_type": "code",
   "execution_count": 33,
   "id": "ccfa882c",
   "metadata": {},
   "outputs": [
    {
     "data": {
      "text/plain": [
       "torch.Size([71680, 533])"
      ]
     },
     "execution_count": 33,
     "metadata": {},
     "output_type": "execute_result"
    }
   ],
   "source": [
    "xihat_samples.shape"
   ]
  },
  {
   "cell_type": "code",
   "execution_count": 61,
   "id": "43ce7b57",
   "metadata": {},
   "outputs": [
    {
     "data": {
      "text/plain": [
       "torch.Size([76800, 368])"
      ]
     },
     "execution_count": 61,
     "metadata": {},
     "output_type": "execute_result"
    }
   ],
   "source": [
    "\n",
    "lhatSamp.shape\n",
    "labelshat_samples.shape\n",
    "5*15*1024\n",
    "xhat_samples.shape"
   ]
  },
  {
   "cell_type": "code",
   "execution_count": 41,
   "id": "b154e96f",
   "metadata": {},
   "outputs": [],
   "source": [
    "# model.generate_samples(num_samples=1024, true_energy=0)"
   ]
  },
  {
   "cell_type": "code",
   "execution_count": 42,
   "id": "16108a5a",
   "metadata": {},
   "outputs": [],
   "source": [
    "# sample_data"
   ]
  },
  {
   "cell_type": "code",
   "execution_count": 184,
   "id": "cc0af90f",
   "metadata": {},
   "outputs": [],
   "source": [
    "xhat_samples = []\n",
    "xihat_samples = []\n",
    "# labelshat_samples = []\n",
    "with torch.no_grad():\n",
    "    for en in range(0,1):\n",
    "        data_sampled = []\n",
    "        for i in range(5):\n",
    "            sample_energies, sample_data = model.generate_samples(num_samples=1024, true_energy=en)\n",
    "            data_sampled.append(sample_data.detach().cpu())\n",
    "        data_sampled = torch.cat(data_sampled, dim=0)\n",
    "        xhat_samples.append((data_sampled.exp() - 1)*0.04*256*torch.pow(torch.tensor([2]),en))\n",
    "        xihat_samples.append(data_sampled)\n",
    "        # labelshat_samples.append(fwd_output.labels.detach().cpu())\n",
    "xhat_samples = torch.cat(xhat_samples, dim=0)\n",
    "xihat_samples = torch.cat(xihat_samples, dim=0)\n",
    "# labelshat_samples = torch.cat(labelshat_samples, dim=0)\n",
    "\n",
    "# lhatSamp = torch.argmax(nn.Sigmoid()(labelshat_samples), dim=1).numpy()"
   ]
  },
  {
   "cell_type": "code",
   "execution_count": 28,
   "id": "82519c69",
   "metadata": {},
   "outputs": [],
   "source": [
    "sam = []\n",
    "for i in range(1):\n",
    "    sample_energies, sample_data = model.generate_samples(num_samples=1000, true_energy=14)\n",
    "    sam.append(sample_data.detach().cpu())\n",
    "sam = torch.cat(sam, dim=0)"
   ]
  },
  {
   "cell_type": "code",
   "execution_count": 58,
   "id": "7b90c1d9",
   "metadata": {
    "collapsed": true,
    "jupyter": {
     "outputs_hidden": true
    }
   },
   "outputs": [
    {
     "ename": "NameError",
     "evalue": "name 'sample_data_test' is not defined",
     "output_type": "error",
     "traceback": [
      "\u001b[0;31m---------------------------------------------------------------------------\u001b[0m",
      "\u001b[0;31mNameError\u001b[0m                                 Traceback (most recent call last)",
      "\u001b[0;32m<ipython-input-58-8b332eb4b03e>\u001b[0m in \u001b[0;36m<module>\u001b[0;34m\u001b[0m\n\u001b[1;32m      4\u001b[0m \u001b[0;34m\u001b[0m\u001b[0m\n\u001b[1;32m      5\u001b[0m \u001b[0;31m# sample_data_test = (sam.exp() - 1)*0.04*256*torch.pow(torch.tensor([2]),7)\u001b[0m\u001b[0;34m\u001b[0m\u001b[0;34m\u001b[0m\u001b[0;34m\u001b[0m\u001b[0m\n\u001b[0;32m----> 6\u001b[0;31m \u001b[0mplt\u001b[0m\u001b[0;34m.\u001b[0m\u001b[0mhist\u001b[0m\u001b[0;34m(\u001b[0m\u001b[0mnp\u001b[0m\u001b[0;34m.\u001b[0m\u001b[0mlog\u001b[0m\u001b[0;34m(\u001b[0m\u001b[0msample_data_test\u001b[0m\u001b[0;34m.\u001b[0m\u001b[0msum\u001b[0m\u001b[0;34m(\u001b[0m\u001b[0mdim\u001b[0m\u001b[0;34m=\u001b[0m\u001b[0;36m1\u001b[0m\u001b[0;34m)\u001b[0m\u001b[0;34m.\u001b[0m\u001b[0mnumpy\u001b[0m\u001b[0;34m(\u001b[0m\u001b[0;34m)\u001b[0m \u001b[0;34m+\u001b[0m \u001b[0;36m1e-10\u001b[0m\u001b[0;34m)\u001b[0m\u001b[0;34m,\u001b[0m \u001b[0mbins\u001b[0m\u001b[0;34m=\u001b[0m\u001b[0;36m10\u001b[0m\u001b[0;34m,\u001b[0m \u001b[0mdensity\u001b[0m\u001b[0;34m=\u001b[0m\u001b[0;32mFalse\u001b[0m\u001b[0;34m,\u001b[0m \u001b[0malpha\u001b[0m\u001b[0;34m=\u001b[0m\u001b[0;36m0.7\u001b[0m\u001b[0;34m)\u001b[0m\u001b[0;34m\u001b[0m\u001b[0;34m\u001b[0m\u001b[0m\n\u001b[0m\u001b[1;32m      7\u001b[0m \u001b[0mplt\u001b[0m\u001b[0;34m.\u001b[0m\u001b[0mxlabel\u001b[0m\u001b[0;34m(\u001b[0m\u001b[0;34m\"Log of energy per event\"\u001b[0m\u001b[0;34m)\u001b[0m\u001b[0;34m\u001b[0m\u001b[0;34m\u001b[0m\u001b[0m\n\u001b[1;32m      8\u001b[0m \u001b[0mplt\u001b[0m\u001b[0;34m.\u001b[0m\u001b[0mylabel\u001b[0m\u001b[0;34m(\u001b[0m\u001b[0;34m\"PDF\"\u001b[0m\u001b[0;34m)\u001b[0m\u001b[0;34m\u001b[0m\u001b[0;34m\u001b[0m\u001b[0m\n",
      "\u001b[0;31mNameError\u001b[0m: name 'sample_data_test' is not defined"
     ]
    },
    {
     "data": {
      "image/png": "[encoded data removed]",
      "text/plain": [
       "<Figure size 432x288 with 1 Axes>"
      ]
     },
     "metadata": {
      "needs_background": "light"
     },
     "output_type": "display_data"
    }
   ],
   "source": [
    "plt.hist(np.log(xtarget_samples.sum(dim=1).numpy() + 1e-10), bins=100, density=False)\n",
    "# plt.hist(np.log(xrecon_samples.sum(dim=1).numpy() + 1e-10), bins=100, density=True, alpha=0.5)\n",
    "# plt.hist(np.log(xhat_samples.sum(dim=1).numpy() + 1e-10), bins=100, density=True, alpha=0.7)\n",
    "\n",
    "sample_data_test = (sam.exp() - 1)*0.04*256*torch.pow(torch.tensor([2]),7)\n",
    "plt.hist(np.log(sample_data_test.sum(dim=1).numpy() + 1e-10), bins=10, density=False, alpha=0.7)\n",
    "plt.xlabel(\"Log of energy per event\")\n",
    "plt.ylabel(\"PDF\")\n",
    "plt.legend([\"GT\", \"Sample\"])\n",
    "plt.title(\"Photons\")\n",
    "plt.show()"
   ]
  },
  {
   "cell_type": "code",
   "execution_count": 25,
   "id": "5a311e12",
   "metadata": {},
   "outputs": [],
   "source": [
    "# xhat = (sample_data.detach().exp() - 1)*0.04*256*np.power(2,1)\n",
    "# # plt.hist(xhat.sum(dim=1).cpu().numpy(), bins=100, density=True)\n",
    "# plt.hist(np.log(xhat.sum(dim=1).cpu().numpy() + 1e-10), bins=100, density=True)\n",
    "# plt.show()"
   ]
  },
  {
   "cell_type": "code",
   "execution_count": 185,
   "id": "1a20645a",
   "metadata": {},
   "outputs": [
    {
     "data": {
      "image/png": "[encoded data removed]",
      "text/plain": [
       "<Figure size 432x288 with 1 Axes>"
      ]
     },
     "metadata": {
      "needs_background": "light"
     },
     "output_type": "display_data"
    }
   ],
   "source": [
    "plt.hist(np.log2(xtarget_samples.sum(dim=1).numpy() + 1e-10), bins=100, density=True)\n",
    "plt.hist(np.log2(xrecon_samples.sum(dim=1).numpy() + 1e-10), bins=100, density=True, alpha=0.5)\n",
    "plt.hist(np.log2(xhat_samples.sum(dim=1).numpy() + 1e-10), bins=100, density=True, alpha=0.7)\n",
    "\n",
    "# sample_data_test = (sam.exp() - 1)*0.04*256*torch.pow(torch.tensor([2]),0)\n",
    "# plt.hist(np.log(sample_data_test.sum(dim=1).numpy() + 1e-10), bins=10, density=False, alpha=0.7)\n",
    "plt.xlabel(\"Log2 of energy per event\")\n",
    "plt.ylabel(\"PDF\")\n",
    "plt.legend([\"GT\", \"Recon\", \"Sample\"])\n",
    "plt.title(\"Photons\")\n",
    "plt.show()"
   ]
  },
  {
   "cell_type": "code",
   "execution_count": 186,
   "id": "44433851",
   "metadata": {},
   "outputs": [
    {
     "data": {
      "image/png": "[encoded data removed]",
      "text/plain": [
       "<Figure size 432x288 with 1 Axes>"
      ]
     },
     "metadata": {
      "needs_background": "light"
     },
     "output_type": "display_data"
    }
   ],
   "source": [
    "plt.hist(xitarget_samples.sum(dim=1).numpy(), bins=100, density=True)\n",
    "plt.hist(xirecon_samples.sum(dim=1).numpy(), bins=100, density=True, alpha=0.5)\n",
    "plt.hist(xihat_samples.sum(dim=1).numpy(), bins=100, density=True, alpha=0.5)\n",
    "plt.xlabel(\"ξ per event\")\n",
    "plt.ylabel(\"PDF\")\n",
    "plt.legend([\"GT\", \"Recon\", \"Sample\"])\n",
    "plt.title(\"Photons\")\n",
    "plt.show()"
   ]
  },
  {
   "cell_type": "code",
   "execution_count": 128,
   "id": "90ac697a",
   "metadata": {},
   "outputs": [
    {
     "data": {
      "text/plain": [
       "32768"
      ]
     },
     "execution_count": 128,
     "metadata": {},
     "output_type": "execute_result"
    }
   ],
   "source": [
    "np.power(2,7)*256"
   ]
  },
  {
   "cell_type": "code",
   "execution_count": null,
   "id": "6a0a9c5a",
   "metadata": {},
   "outputs": [],
   "source": []
  },
  {
   "cell_type": "code",
   "execution_count": null,
   "id": "55585029",
   "metadata": {},
   "outputs": [],
   "source": []
  },
  {
   "cell_type": "code",
   "execution_count": null,
   "id": "8176830c",
   "metadata": {},
   "outputs": [],
   "source": [
    "# GT and Recon Comparison"
   ]
  },
  {
   "cell_type": "code",
   "execution_count": 55,
   "id": "04cc97cf",
   "metadata": {},
   "outputs": [],
   "source": [
    "sampDataAll, sampDataOutAll = np.array([]), np.array([])\n",
    "for xx in val_loader:\n",
    "    in_data, true_energy, in_data_flat = engine._preprocess(xx[0],xx[1])\n",
    "    fwd_output = engine.model((in_data, true_energy), True)\n",
    "    \n",
    "    sampDataAll = np.append(sampDataAll, np.sum(in_data.detach().cpu().numpy(), axis=1))\n",
    "    sampDataOutAll = np.append(sampDataOutAll, np.sum(fwd_output.output_activations.detach().cpu().numpy(), axis=1))"
   ]
  },
  {
   "cell_type": "code",
   "execution_count": 61,
   "id": "013c1c82",
   "metadata": {
    "collapsed": true,
    "jupyter": {
     "outputs_hidden": true
    }
   },
   "outputs": [
    {
     "ename": "NameError",
     "evalue": "name 'sampDataAll' is not defined",
     "output_type": "error",
     "traceback": [
      "\u001b[0;31m---------------------------------------------------------------------------\u001b[0m",
      "\u001b[0;31mNameError\u001b[0m                                 Traceback (most recent call last)",
      "\u001b[0;32m<ipython-input-61-47b39ad31adf>\u001b[0m in \u001b[0;36m<module>\u001b[0;34m\u001b[0m\n\u001b[1;32m      1\u001b[0m \u001b[0mbinwidth\u001b[0m \u001b[0;34m=\u001b[0m \u001b[0;36m1\u001b[0m\u001b[0;34m\u001b[0m\u001b[0;34m\u001b[0m\u001b[0m\n\u001b[1;32m      2\u001b[0m \u001b[0;34m\u001b[0m\u001b[0m\n\u001b[0;32m----> 3\u001b[0;31m \u001b[0mplt\u001b[0m\u001b[0;34m.\u001b[0m\u001b[0mhist\u001b[0m\u001b[0;34m(\u001b[0m\u001b[0msampDataAll\u001b[0m\u001b[0;34m,\u001b[0m \u001b[0mbins\u001b[0m\u001b[0;34m=\u001b[0m\u001b[0mrange\u001b[0m\u001b[0;34m(\u001b[0m\u001b[0mint\u001b[0m\u001b[0;34m(\u001b[0m\u001b[0mnp\u001b[0m\u001b[0;34m.\u001b[0m\u001b[0mfloor\u001b[0m\u001b[0;34m(\u001b[0m\u001b[0mmin\u001b[0m\u001b[0;34m(\u001b[0m\u001b[0msampDataAll\u001b[0m\u001b[0;34m)\u001b[0m\u001b[0;34m)\u001b[0m\u001b[0;34m)\u001b[0m\u001b[0;34m,\u001b[0m \u001b[0mint\u001b[0m\u001b[0;34m(\u001b[0m\u001b[0mnp\u001b[0m\u001b[0;34m.\u001b[0m\u001b[0mceil\u001b[0m\u001b[0;34m(\u001b[0m\u001b[0mmax\u001b[0m\u001b[0;34m(\u001b[0m\u001b[0msampDataAll\u001b[0m\u001b[0;34m)\u001b[0m\u001b[0;34m)\u001b[0m\u001b[0;34m)\u001b[0m \u001b[0;34m+\u001b[0m \u001b[0mbinwidth\u001b[0m\u001b[0;34m,\u001b[0m \u001b[0mbinwidth\u001b[0m\u001b[0;34m)\u001b[0m\u001b[0;34m,\u001b[0m \u001b[0mlog\u001b[0m\u001b[0;34m=\u001b[0m\u001b[0;32mTrue\u001b[0m\u001b[0;34m,\u001b[0m \u001b[0mdensity\u001b[0m\u001b[0;34m=\u001b[0m\u001b[0;32mTrue\u001b[0m\u001b[0;34m)\u001b[0m\u001b[0;34m\u001b[0m\u001b[0;34m\u001b[0m\u001b[0m\n\u001b[0m\u001b[1;32m      4\u001b[0m \u001b[0mplt\u001b[0m\u001b[0;34m.\u001b[0m\u001b[0mhist\u001b[0m\u001b[0;34m(\u001b[0m\u001b[0msampDataOutAll\u001b[0m\u001b[0;34m,\u001b[0m \u001b[0mbins\u001b[0m\u001b[0;34m=\u001b[0m\u001b[0mrange\u001b[0m\u001b[0;34m(\u001b[0m\u001b[0mint\u001b[0m\u001b[0;34m(\u001b[0m\u001b[0mnp\u001b[0m\u001b[0;34m.\u001b[0m\u001b[0mfloor\u001b[0m\u001b[0;34m(\u001b[0m\u001b[0mmin\u001b[0m\u001b[0;34m(\u001b[0m\u001b[0msampDataOutAll\u001b[0m\u001b[0;34m)\u001b[0m\u001b[0;34m)\u001b[0m\u001b[0;34m)\u001b[0m\u001b[0;34m,\u001b[0m \u001b[0mint\u001b[0m\u001b[0;34m(\u001b[0m\u001b[0mnp\u001b[0m\u001b[0;34m.\u001b[0m\u001b[0mceil\u001b[0m\u001b[0;34m(\u001b[0m\u001b[0mmax\u001b[0m\u001b[0;34m(\u001b[0m\u001b[0msampDataOutAll\u001b[0m\u001b[0;34m)\u001b[0m\u001b[0;34m)\u001b[0m\u001b[0;34m)\u001b[0m \u001b[0;34m+\u001b[0m \u001b[0mbinwidth\u001b[0m\u001b[0;34m,\u001b[0m \u001b[0mbinwidth\u001b[0m\u001b[0;34m)\u001b[0m\u001b[0;34m,\u001b[0m \u001b[0mlog\u001b[0m\u001b[0;34m=\u001b[0m\u001b[0;32mTrue\u001b[0m\u001b[0;34m,\u001b[0m \u001b[0mdensity\u001b[0m\u001b[0;34m=\u001b[0m\u001b[0;32mTrue\u001b[0m\u001b[0;34m,\u001b[0m \u001b[0malpha\u001b[0m \u001b[0;34m=\u001b[0m \u001b[0;36m0.5\u001b[0m\u001b[0;34m)\u001b[0m\u001b[0;34m\u001b[0m\u001b[0;34m\u001b[0m\u001b[0m\n\u001b[1;32m      5\u001b[0m \u001b[0mplt\u001b[0m\u001b[0;34m.\u001b[0m\u001b[0mshow\u001b[0m\u001b[0;34m(\u001b[0m\u001b[0;34m)\u001b[0m\u001b[0;34m\u001b[0m\u001b[0;34m\u001b[0m\u001b[0m\n",
      "\u001b[0;31mNameError\u001b[0m: name 'sampDataAll' is not defined"
     ]
    }
   ],
   "source": [
    "binwidth = 1\n",
    "\n",
    "plt.hist(sampDataAll, bins=range(int(np.floor(min(sampDataAll))), int(np.ceil(max(sampDataAll))) + binwidth, binwidth), log=True, density=True)\n",
    "plt.hist(sampDataOutAll, bins=range(int(np.floor(min(sampDataOutAll))), int(np.ceil(max(sampDataOutAll))) + binwidth, binwidth), log=True, density=True, alpha = 0.5)\n",
    "plt.show()"
   ]
  },
  {
   "cell_type": "code",
   "execution_count": 57,
   "id": "88721aaa",
   "metadata": {},
   "outputs": [
    {
     "data": {
      "image/png": "[encoded data removed]",
      "text/plain": [
       "<Figure size 640x480 with 1 Axes>"
      ]
     },
     "metadata": {},
     "output_type": "display_data"
    }
   ],
   "source": [
    "binwidth = 1\n",
    "plt.hist(np.log(sampDataAll + 1e-10), bins=100, density=True)\n",
    "plt.hist(np.log(sampDataOutAll + 1e-10), bins=100, density=True, alpha = 0.5)\n",
    "plt.show()"
   ]
  },
  {
   "cell_type": "code",
   "execution_count": 33,
   "id": "31a7df2e",
   "metadata": {},
   "outputs": [],
   "source": [
    "# model"
   ]
  },
  {
   "cell_type": "code",
   "execution_count": 31,
   "id": "322f24cf",
   "metadata": {},
   "outputs": [],
   "source": [
    "# model._hit_smoothing_dist_mod #(output_hits, beta, is_training)"
   ]
  },
  {
   "cell_type": "code",
   "execution_count": 89,
   "id": "dee78f7a-389a-40d0-acdb-c541b3fcd9cf",
   "metadata": {},
   "outputs": [],
   "source": [
    "seq1 = nn.Sequential(\n",
    "                   # nn.Linear(self.num_input_nodes, 24*24),\n",
    "                   # nn.Unflatten(1, (1,24, 24)),\n",
    "    \n",
    "                   nn.Conv2d(1, 16, 3, 1, 0),\n",
    "                   nn.BatchNorm2d(16),\n",
    "                   nn.PReLU(16, 0.02),\n",
    "                )\n",
    "sequential2 = nn.Sequential(\n",
    "                   nn.Conv2d(17, 32, 3, 1, 0),\n",
    "                   # nn.MaxPool2d(2,stride=2),\n",
    "                   \n",
    "                   nn.PReLU(32, 0.02),\n",
    "                   nn.BatchNorm2d(32),\n",
    "                )\n",
    "\n",
    "sequential3 = nn.Sequential(\n",
    "                   nn.Conv2d(33, 64, 3, 1, 0),\n",
    "                   nn.BatchNorm2d(64),\n",
    "                   nn.PReLU(64, 0.02),\n",
    "                )\n",
    "\n",
    "sequential4 = nn.Sequential(\n",
    "                   nn.Conv2d(65, 128, 3, 1, 0),\n",
    "                   nn.MaxPool2d(2,stride=2),\n",
    "                   \n",
    "                   nn.PReLU(128, 0.02),\n",
    "                   nn.BatchNorm2d(128),\n",
    "                   \n",
    "\n",
    "                   nn.Conv2d(128, 256, 3, 1, 0),\n",
    "                   nn.BatchNorm2d(256),\n",
    "                   nn.PReLU(256, 0.02),\n",
    "                   \n",
    "\n",
    "                   nn.Conv2d(256, 512, 2, 1, 0),\n",
    "                   nn.BatchNorm2d(512),\n",
    "                   nn.PReLU(512, 0.02),\n",
    "                   \n",
    "    \n",
    "                   nn.Conv2d(512, 1024, 2, 1, 0),\n",
    "                   nn.MaxPool2d(2,stride=2),\n",
    "                   nn.BatchNorm2d(1024),\n",
    "                   nn.PReLU(1024, 0.02),\n",
    "\n",
    "                    nn.Conv2d(1024, 1000, 2, 1, 0),\n",
    "                   # nn.MaxPool2d(2,stride=2),\n",
    "                   # nn.PReLU(self.n_latent_nodes, 0.02),\n",
    "                   nn.Sigmoid(),\n",
    "                   # nn.BatchNorm2d(self.n_latent_nodes),\n",
    "    \n",
    "                   nn.Flatten(),\n",
    "                )\n"
   ]
  },
  {
   "cell_type": "code",
   "execution_count": 90,
   "id": "5ceb0bef-9804-46ed-9a78-0d75c0903f5c",
   "metadata": {},
   "outputs": [
    {
     "data": {
      "text/plain": [
       "torch.Size([2, 1000])"
      ]
     },
     "execution_count": 90,
     "metadata": {},
     "output_type": "execute_result"
    }
   ],
   "source": [
    "x = torch.rand(2,1,24,24)\n",
    "x0 = torch.ones(2,1)*3\n",
    "minEnergy = 3\n",
    "x = seq1(x)\n",
    "x = torch.cat((x, x0.unsqueeze(2).unsqueeze(3).repeat(1,1,torch.tensor(x.shape[-2:-1]).item(), torch.tensor(x.shape[-1:]).item()).divide(minEnergy).log2()), 1)\n",
    "x = sequential2(x)\n",
    "x = torch.cat((x, x0.unsqueeze(2).unsqueeze(3).repeat(1,1,torch.tensor(x.shape[-2:-1]).item(), torch.tensor(x.shape[-1:]).item()).divide(minEnergy).log2()), 1)\n",
    "x = sequential3(x)\n",
    "x = torch.cat((x, x0.unsqueeze(2).unsqueeze(3).repeat(1,1,torch.tensor(x.shape[-2:-1]).item(), torch.tensor(x.shape[-1:]).item()).divide(minEnergy).log2()), 1)\n",
    "x = sequential4(x)\n",
    "\n",
    "x.shape\n",
    "\n",
    "\n",
    "\n",
    "# tuple(torch.tensor(x.shape[-2:]).tolist())\n",
    "# tuple([1,2])\n",
    "# torch.tensor(x.shape[-2:-1]).item()"
   ]
  },
  {
   "cell_type": "code",
   "execution_count": null,
   "id": "10411a95-967d-43ea-bd7e-41012597a4bf",
   "metadata": {},
   "outputs": [],
   "source": [
    "nn.Sequential(\n",
    "                   nn.Linear(self.num_input_nodes, 24*24),\n",
    "                   nn.Unflatten(1, (1,24, 24)),\n",
    "    \n",
    "                   nn.Conv2d(1, 16, 3, 1, 0),\n",
    "                   nn.BatchNorm2d(64),\n",
    "                   nn.PReLU(16, 0.02),\n",
    "                )\n",
    "        self.sequential2 = nn.Sequential(\n",
    "                   nn.Conv2d(65, 128, 3, 1, 0),\n",
    "                   nn.MaxPool2d(2,stride=2),\n",
    "                   \n",
    "                   nn.PReLU(128, 0.02),\n",
    "                   nn.BatchNorm2d(128),\n",
    "                   \n",
    "\n",
    "                   nn.Conv2d(128, 256, 3, 1, 0),\n",
    "                   nn.BatchNorm2d(256),\n",
    "                   nn.PReLU(256, 0.02),\n",
    "                   \n",
    "\n",
    "                   nn.Conv2d(256, 512, 2, 1, 0),\n",
    "                   nn.BatchNorm2d(512),\n",
    "                   nn.PReLU(512, 0.02),\n",
    "                   \n",
    "    \n",
    "                   nn.Conv2d(512, 1024, 2, 1, 0),\n",
    "                   nn.MaxPool2d(2,stride=2),\n",
    "                   nn.BatchNorm2d(1024),\n",
    "                   nn.PReLU(1024, 0.02),"
   ]
  }
 ],
 "metadata": {
  "kernelspec": {
   "display_name": "Python 3",
   "language": "python",
   "name": "python3"
  },
  "language_info": {
   "codemirror_mode": {
    "name": "ipython",
    "version": 3
   },
   "file_extension": ".py",
   "mimetype": "text/x-python",
   "name": "python",
   "nbconvert_exporter": "python",
   "pygments_lexer": "ipython3",
   "version": "3.9.5"
  }
 },
 "nbformat": 4,
 "nbformat_minor": 5
}
