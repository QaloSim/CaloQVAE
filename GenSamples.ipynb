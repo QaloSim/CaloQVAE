{
 "cells": [
  {
   "cell_type": "code",
   "execution_count": null,
   "id": "8de28498",
   "metadata": {
    "tags": []
   },
   "outputs": [],
   "source": []
  },
  {
   "cell_type": "code",
   "execution_count": 1,
   "id": "214549cd",
   "metadata": {
    "tags": []
   },
   "outputs": [
    {
     "name": "stdout",
     "output_type": "stream",
     "text": [
      "env: DWAVE_API_TOKEN=DEV-1ba72787de429d2af12464f7753c10b9ff6945ad\n",
      "env: CUDA_DEVICE_ORDER=PCI_BUS_ID\n",
      "Wed Apr  3 18:37:32 2024       \n",
      "+---------------------------------------------------------------------------------------+\n",
      "| NVIDIA-SMI 545.23.08              Driver Version: 545.23.08    CUDA Version: 12.3     |\n",
      "|-----------------------------------------+----------------------+----------------------+\n",
      "| GPU  Name                 Persistence-M | Bus-Id        Disp.A | Volatile Uncorr. ECC |\n",
      "| Fan  Temp   Perf          Pwr:Usage/Cap |         Memory-Usage | GPU-Util  Compute M. |\n",
      "|                                         |                      |               MIG M. |\n",
      "|=========================================+======================+======================|\n",
      "|   0  NVIDIA GeForce RTX 2080 Ti     On  | 00000000:1A:00.0 Off |                  N/A |\n",
      "| 31%   35C    P8               6W / 250W |   9377MiB / 11264MiB |      0%      Default |\n",
      "|                                         |                      |                  N/A |\n",
      "+-----------------------------------------+----------------------+----------------------+\n",
      "|   1  NVIDIA GeForce RTX 2080 Ti     On  | 00000000:1B:00.0 Off |                  N/A |\n",
      "| 31%   34C    P8              17W / 250W |   9377MiB / 11264MiB |      0%      Default |\n",
      "|                                         |                      |                  N/A |\n",
      "+-----------------------------------------+----------------------+----------------------+\n",
      "|   2  NVIDIA GeForce RTX 2080 Ti     On  | 00000000:3D:00.0 Off |                  N/A |\n",
      "| 31%   35C    P8              21W / 250W |      5MiB / 11264MiB |      0%      Default |\n",
      "|                                         |                      |                  N/A |\n",
      "+-----------------------------------------+----------------------+----------------------+\n",
      "|   3  NVIDIA GeForce RTX 2080 Ti     On  | 00000000:3E:00.0 Off |                  N/A |\n",
      "| 31%   37C    P8               1W / 250W |      5MiB / 11264MiB |      0%      Default |\n",
      "|                                         |                      |                  N/A |\n",
      "+-----------------------------------------+----------------------+----------------------+\n",
      "|   4  NVIDIA GeForce RTX 2080 Ti     On  | 00000000:88:00.0 Off |                  N/A |\n",
      "| 49%   77C    P2             235W / 250W |  10449MiB / 11264MiB |    100%      Default |\n",
      "|                                         |                      |                  N/A |\n",
      "+-----------------------------------------+----------------------+----------------------+\n",
      "|   5  NVIDIA GeForce RTX 2080 Ti     On  | 00000000:89:00.0 Off |                  N/A |\n",
      "| 38%   79C    P2             237W / 250W |  10449MiB / 11264MiB |    100%      Default |\n",
      "|                                         |                      |                  N/A |\n",
      "+-----------------------------------------+----------------------+----------------------+\n",
      "|   6  NVIDIA GeForce RTX 2080 Ti     On  | 00000000:B1:00.0 Off |                  N/A |\n",
      "| 31%   39C    P8               3W / 250W |    701MiB / 11264MiB |      0%      Default |\n",
      "|                                         |                      |                  N/A |\n",
      "+-----------------------------------------+----------------------+----------------------+\n",
      "|   7  NVIDIA GeForce RTX 2080 Ti     On  | 00000000:B2:00.0 Off |                  N/A |\n",
      "| 22%   34C    P8              23W / 250W |      5MiB / 11264MiB |      0%      Default |\n",
      "|                                         |                      |                  N/A |\n",
      "+-----------------------------------------+----------------------+----------------------+\n",
      "                                                                                         \n",
      "+---------------------------------------------------------------------------------------+\n",
      "| Processes:                                                                            |\n",
      "|  GPU   GI   CI        PID   Type   Process name                            GPU Memory |\n",
      "|        ID   ID                                                             Usage      |\n",
      "|=======================================================================================|\n",
      "|    0   N/A  N/A   1477443      C   /usr/bin/python                            9372MiB |\n",
      "|    1   N/A  N/A     67386      C   /usr/bin/python                            9372MiB |\n",
      "|    4   N/A  N/A   4037582      C   ...conda3/envs/t2k_ml_train/bin/python    10444MiB |\n",
      "|    5   N/A  N/A   4037583      C   ...conda3/envs/t2k_ml_train/bin/python    10444MiB |\n",
      "|    6   N/A  N/A   1802491      C   /usr/bin/python                             696MiB |\n",
      "+---------------------------------------------------------------------------------------+\n"
     ]
    }
   ],
   "source": [
    "%env DWAVE_API_TOKEN=DEV-1ba72787de429d2af12464f7753c10b9ff6945ad\n",
    "%env CUDA_DEVICE_ORDER=PCI_BUS_ID\n",
    "# %env CUDA_VISIBLE_DEVICES=4\n",
    "!nvidia-smi"
   ]
  },
  {
   "cell_type": "code",
   "execution_count": 2,
   "id": "2abaf8fd",
   "metadata": {
    "tags": []
   },
   "outputs": [],
   "source": [
    "import hydra\n",
    "from hydra.utils import instantiate\n",
    "from hydra import initialize, compose"
   ]
  },
  {
   "cell_type": "code",
   "execution_count": 3,
   "id": "5c448964",
   "metadata": {
    "tags": []
   },
   "outputs": [],
   "source": [
    "import sys\n",
    "import os\n",
    "import getpass\n",
    "\n",
    "os.chdir('/home/' + getpass.getuser() + '/temp/CaloQVAE/')\n",
    "sys.path.insert(1, '/home/' + getpass.getuser() + '/temp/CaloQVAE/')"
   ]
  },
  {
   "cell_type": "code",
   "execution_count": 4,
   "id": "8e7bfef6",
   "metadata": {
    "tags": []
   },
   "outputs": [
    {
     "name": "stderr",
     "output_type": "stream",
     "text": [
      "\u001b[1m[18:37:39.892]\u001b[0m \u001b[1;95mINFO \u001b[1;0m  \u001b[1mCaloQVAE                                          \u001b[0mWillkommen!\n",
      "\u001b[1m[18:37:39.894]\u001b[0m \u001b[1;95mINFO \u001b[1;0m  \u001b[1mCaloQVAE                                          \u001b[0mLoading configuration.\n"
     ]
    }
   ],
   "source": [
    "#external libraries\n",
    "import os\n",
    "import pickle\n",
    "import datetime\n",
    "import sys\n",
    "import yaml\n",
    "import json\n",
    "\n",
    "import torch.optim as optim\n",
    "import torch\n",
    "from torch import nn\n",
    "from torch.nn.functional import binary_cross_entropy_with_logits\n",
    "torch.manual_seed(32)\n",
    "import numpy as np\n",
    "np.random.seed(32)\n",
    "import matplotlib.pyplot as plt\n",
    "import hydra\n",
    "from hydra.utils import instantiate\n",
    "\n",
    "from omegaconf import OmegaConf\n",
    "\n",
    "import time\n",
    "\n",
    "# PyTorch imports\n",
    "from torch import device, load, save\n",
    "from torch.nn import DataParallel\n",
    "from torch.cuda import is_available\n",
    "\n",
    "# Add the path to the parent directory to augment search for module\n",
    "sys.path.append(os.getcwd())\n",
    "    \n",
    "# Weights and Biases\n",
    "import wandb\n",
    "\n",
    "#self defined imports\n",
    "from CaloQVAE import logging"
   ]
  },
  {
   "cell_type": "code",
   "execution_count": 5,
   "id": "3b2f9aef",
   "metadata": {
    "tags": []
   },
   "outputs": [
    {
     "name": "stderr",
     "output_type": "stream",
     "text": [
      "2024-04-03 18:37:42,372 dwave.cloud \u001b[1;95mINFO \u001b[1;0m MainThread Log level for 'dwave.cloud' namespace set to 0\n",
      "\u001b[1m[18:37:42.372]\u001b[0m \u001b[1;95mINFO \u001b[1;0m  \u001b[1mdwave.cloud                                       \u001b[0mLog level for 'dwave.cloud' namespace set to 0\n",
      "<frozen importlib._bootstrap>:219: RuntimeWarning: scipy._lib.messagestream.MessageStream size changed, may indicate binary incompatibility. Expected 56 from C header, got 64 from PyObject\n"
     ]
    }
   ],
   "source": [
    "logger = logging.getLogger(__name__)\n",
    "\n",
    "from data.dataManager import DataManager\n",
    "from utils.plotting.plotProvider import PlotProvider\n",
    "from engine.engine import Engine\n",
    "from models.modelCreator import ModelCreator\n",
    "\n",
    "from utils.plotting.HighLevelFeatures import HighLevelFeatures as HLF\n",
    "HLF_1_photons = HLF('photon', filename='/fast_scratch/QVAE/data/atlas/binning_dataset_1_photons.xml', wandb=False)\n",
    "HLF_1_pions = HLF('pion', filename='/fast_scratch/QVAE/data/atlas/binning_dataset_1_pions.xml', wandb=False)\n",
    "HLF_1_electron = HLF('electron', filename='/fast_scratch/QVAE/data/atlas_dataset2and3/binning_dataset_2.xml', wandb=False)"
   ]
  },
  {
   "cell_type": "code",
   "execution_count": 6,
   "id": "4c730ffd",
   "metadata": {
    "tags": []
   },
   "outputs": [
    {
     "data": {
      "text/plain": [
       "hydra.initialize()"
      ]
     },
     "execution_count": 6,
     "metadata": {},
     "output_type": "execute_result"
    }
   ],
   "source": [
    "hydra.core.global_hydra.GlobalHydra.instance().clear()\n",
    "initialize(version_base=None, config_path=\"configs\")"
   ]
  },
  {
   "cell_type": "code",
   "execution_count": 7,
   "id": "be4f813b",
   "metadata": {
    "tags": []
   },
   "outputs": [
    {
     "name": "stderr",
     "output_type": "stream",
     "text": [
      "/home/dsogutlu/.local/lib/python3.8/site-packages/hydra/_internal/defaults_list.py:251: UserWarning: In 'config.yaml': Defaults list is missing `_self_`. See https://hydra.cc/docs/1.2/upgrades/1.0_to_1.1/default_composition_order for more information\n",
      "  warnings.warn(msg, UserWarning)\n",
      "\u001b[1m[18:37:47.495]\u001b[0m \u001b[1;95mINFO \u001b[1;0m  \u001b[1mdata.dataManager                                  \u001b[0mLoading Data\n",
      "\u001b[1m[18:37:56.627]\u001b[0m \u001b[1;95mINFO \u001b[1;0m  \u001b[1mdata.dataManager                                  \u001b[0m<torch.utils.data.dataloader.DataLoader object at 0x7f91a213d1c0>: 80000 events, 1250 batches\n",
      "\u001b[1m[18:37:56.631]\u001b[0m \u001b[1;95mINFO \u001b[1;0m  \u001b[1mdata.dataManager                                  \u001b[0m<torch.utils.data.dataloader.DataLoader object at 0x7f9074ac7460>: 10000 events, 79 batches\n",
      "\u001b[1m[18:37:56.632]\u001b[0m \u001b[1;95mINFO \u001b[1;0m  \u001b[1mdata.dataManager                                  \u001b[0m<torch.utils.data.dataloader.DataLoader object at 0x7f9074ac7f40>: 10000 events, 79 batches\n",
      "\u001b[1m[18:38:00.352]\u001b[0m \u001b[1;95mINFO \u001b[1;0m  \u001b[1mmodels.modelCreator                               \u001b[0mInitialising Model Type GumBoltAtlasPRBMCNN\n",
      "2024-04-03 18:38:00,356 dwave.cloud.client.base \u001b[1;95mINFO \u001b[1;0m MainThread Using region metadata: [Region(code='na-west-1', name='North America', endpoint='https://na-west-1.cloud.dwavesys.com/sapi/v2/'), Region(code='eu-central-1', name='Europe', endpoint='https://eu-central-1.cloud.dwavesys.com/sapi/v2/')]\n",
      "\u001b[1m[18:38:00.356]\u001b[0m \u001b[1;95mINFO \u001b[1;0m  \u001b[1mdwave.cloud.client.base                           \u001b[0mUsing region metadata: [Region(code='na-west-1', name='North America', endpoint='https://na-west-1.cloud.dwavesys.com/sapi/v2/'), Region(code='eu-central-1', name='Europe', endpoint='https://eu-central-1.cloud.dwavesys.com/sapi/v2/')]\n",
      "2024-04-03 18:38:00,697 dwave.cloud.client.base \u001b[1;95mINFO \u001b[1;0m MainThread Fetching definitions of all available solvers\n",
      "\u001b[1m[18:38:00.697]\u001b[0m \u001b[1;95mINFO \u001b[1;0m  \u001b[1mdwave.cloud.client.base                           \u001b[0mFetching definitions of all available solvers\n",
      "2024-04-03 18:38:02,492 dwave.cloud.client.base \u001b[1;95mINFO \u001b[1;0m MainThread Received solver data for 6 solver(s).\n",
      "\u001b[1m[18:38:02.492]\u001b[0m \u001b[1;95mINFO \u001b[1;0m  \u001b[1mdwave.cloud.client.base                           \u001b[0mReceived solver data for 6 solver(s).\n",
      "2024-04-03 18:38:02,540 dwave.cloud.client.base \u001b[1;95mINFO \u001b[1;0m MainThread Adding solver StructuredSolver(id='Advantage_system4.1')\n",
      "\u001b[1m[18:38:02.540]\u001b[0m \u001b[1;95mINFO \u001b[1;0m  \u001b[1mdwave.cloud.client.base                           \u001b[0mAdding solver StructuredSolver(id='Advantage_system4.1')\n",
      "2024-04-03 18:38:02,595 dwave.cloud.client.base \u001b[1;95mINFO \u001b[1;0m MainThread Adding solver StructuredSolver(id='Advantage_system6.4')\n",
      "\u001b[1m[18:38:02.595]\u001b[0m \u001b[1;95mINFO \u001b[1;0m  \u001b[1mdwave.cloud.client.base                           \u001b[0mAdding solver StructuredSolver(id='Advantage_system6.4')\n",
      "2024-04-03 18:38:02,624 dwave.cloud.client.base \u001b[1;95mINFO \u001b[1;0m MainThread Adding solver StructuredSolver(id='Advantage2_prototype2.3')\n",
      "\u001b[1m[18:38:02.624]\u001b[0m \u001b[1;95mINFO \u001b[1;0m  \u001b[1mdwave.cloud.client.base                           \u001b[0mAdding solver StructuredSolver(id='Advantage2_prototype2.3')\n",
      "2024-04-03 18:38:02,885 dwave.cloud.client.base \u001b[1;95mINFO \u001b[1;0m MainThread Using region metadata: [Region(code='na-west-1', name='North America', endpoint='https://na-west-1.cloud.dwavesys.com/sapi/v2/'), Region(code='eu-central-1', name='Europe', endpoint='https://eu-central-1.cloud.dwavesys.com/sapi/v2/')]\n",
      "\u001b[1m[18:38:02.885]\u001b[0m \u001b[1;95mINFO \u001b[1;0m  \u001b[1mdwave.cloud.client.base                           \u001b[0mUsing region metadata: [Region(code='na-west-1', name='North America', endpoint='https://na-west-1.cloud.dwavesys.com/sapi/v2/'), Region(code='eu-central-1', name='Europe', endpoint='https://eu-central-1.cloud.dwavesys.com/sapi/v2/')]\n",
      "2024-04-03 18:38:03,174 dwave.cloud.client.base \u001b[1;95mINFO \u001b[1;0m MainThread Fetching definitions of all available solvers\n",
      "\u001b[1m[18:38:03.174]\u001b[0m \u001b[1;95mINFO \u001b[1;0m  \u001b[1mdwave.cloud.client.base                           \u001b[0mFetching definitions of all available solvers\n",
      "2024-04-03 18:38:05,026 dwave.cloud.client.base \u001b[1;95mINFO \u001b[1;0m MainThread Received solver data for 6 solver(s).\n",
      "\u001b[1m[18:38:05.026]\u001b[0m \u001b[1;95mINFO \u001b[1;0m  \u001b[1mdwave.cloud.client.base                           \u001b[0mReceived solver data for 6 solver(s).\n",
      "2024-04-03 18:38:05,073 dwave.cloud.client.base \u001b[1;95mINFO \u001b[1;0m MainThread Adding solver StructuredSolver(id='Advantage_system4.1')\n",
      "\u001b[1m[18:38:05.073]\u001b[0m \u001b[1;95mINFO \u001b[1;0m  \u001b[1mdwave.cloud.client.base                           \u001b[0mAdding solver StructuredSolver(id='Advantage_system4.1')\n",
      "2024-04-03 18:38:05,127 dwave.cloud.client.base \u001b[1;95mINFO \u001b[1;0m MainThread Adding solver StructuredSolver(id='Advantage_system6.4')\n",
      "\u001b[1m[18:38:05.127]\u001b[0m \u001b[1;95mINFO \u001b[1;0m  \u001b[1mdwave.cloud.client.base                           \u001b[0mAdding solver StructuredSolver(id='Advantage_system6.4')\n",
      "2024-04-03 18:38:05,153 dwave.cloud.client.base \u001b[1;95mINFO \u001b[1;0m MainThread Adding solver StructuredSolver(id='Advantage2_prototype2.3')\n",
      "\u001b[1m[18:38:05.153]\u001b[0m \u001b[1;95mINFO \u001b[1;0m  \u001b[1mdwave.cloud.client.base                           \u001b[0mAdding solver StructuredSolver(id='Advantage2_prototype2.3')\n"
     ]
    },
    {
     "name": "stdout",
     "output_type": "stream",
     "text": [
      "Initializing NetworkV3\n"
     ]
    }
   ],
   "source": [
    "\n",
    "\n",
    "# config=compose(config_name=\"config.yaml\")\n",
    "config=compose(config_name=\"config.yaml\")\n",
    "wandb.init(project=\"caloqvae\", entity=\"qvae\", config=config, mode='disabled')\n",
    "modelCreator = ModelCreator(cfg=config)\n",
    "dataMgr = DataManager(cfg=config)\n",
    "#initialise data loaders\n",
    "dataMgr.init_dataLoaders()\n",
    "#run pre processing: get/set input dimensions and mean of train dataset\n",
    "dataMgr.pre_processing()\n",
    "\n",
    "if config.model.activation_fct.lower()==\"relu\":\n",
    "    modelCreator.default_activation_fct=torch.nn.ReLU()\n",
    "elif config.model.activation_fct.lower()==\"tanh\":\n",
    "    modelCreator.default_activation_fct=torch.nn.Tanh()\n",
    "else:\n",
    "    logger.warning(\"Setting identity as default activation fct\")\n",
    "    modelCreator.default_activation_fct=torch.nn.Identity()\n",
    "\n",
    "#instantiate the chosen model\n",
    "#loads from file \n",
    "model=modelCreator.init_model(dataMgr=dataMgr)\n",
    "\n",
    "#create the NN infrastructure\n",
    "model.create_networks()"
   ]
  },
  {
   "cell_type": "code",
   "execution_count": 8,
   "id": "78f59cb7",
   "metadata": {
    "tags": []
   },
   "outputs": [
    {
     "name": "stderr",
     "output_type": "stream",
     "text": [
      "\u001b[1m[18:38:06.776]\u001b[0m \u001b[1;95mINFO \u001b[1;0m  \u001b[1mmodels.autoencoders.autoencoderbase               \u001b[0m_dataset_mean: torch.Size([1, 6480])\n",
      "\u001b[1m[18:38:06.779]\u001b[0m \u001b[1;95mINFO \u001b[1;0m  \u001b[1mwandb                                             \u001b[0mWatching\n",
      "/usr/local/lib/python3.8/dist-packages/coffea/util.py:154: FutureWarning: In coffea version v0.8.0 (target date: 31 Dec 2022), this will be an error.\n",
      "(Set coffea.deprecations_as_errors = True to get a stack trace now.)\n",
      "ImportError: coffea.hist is deprecated\n",
      "  warnings.warn(message, FutureWarning)\n",
      "\u001b[1m[18:38:08.809]\u001b[0m \u001b[1;95mINFO \u001b[1;0m  \u001b[1mengine.engineAtlas                                \u001b[0mSetting up engine Atlas.\n",
      "\u001b[1m[18:38:08.810]\u001b[0m \u001b[1;95mINFO \u001b[1;0m  \u001b[1mengine.engineCaloV3                               \u001b[0mSetting up engine Calo.\n",
      "\u001b[1m[18:38:08.811]\u001b[0m \u001b[1;95mINFO \u001b[1;0m  \u001b[1mengine.engine                                     \u001b[0mSetting up default engine.\n"
     ]
    }
   ],
   "source": [
    "#Not printing much useful info at the moment to avoid clutter. TODO optimise\n",
    "model.print_model_info()\n",
    "# for name, param in model.named_parameters():\n",
    "#         print(name, param.requires_grad)\n",
    "\n",
    "# Load the model on the GPU if applicable\n",
    "# dev = None\n",
    "# if (config.device == 'gpu') and config.gpu_list:\n",
    "#     logger.info('Requesting GPUs. GPU list :' + str(config.gpu_list))\n",
    "#     devids = [\"cuda:{0}\".format(x) for x in list(config.gpu_list)]\n",
    "#     logger.info(\"Main GPU : \" + devids[0])\n",
    "\n",
    "#     if is_available():\n",
    "#         print(devids[0])\n",
    "#         dev = device(devids[0])\n",
    "#         if len(devids) > 1:\n",
    "#             logger.info(f\"Using DataParallel on {devids}\")\n",
    "#             model = DataParallel(model, device_ids=list(config.gpu_list))\n",
    "#         logger.info(\"CUDA available\")\n",
    "#     else:\n",
    "#         dev = device('cpu')\n",
    "#         logger.info(\"CUDA unavailable\")\n",
    "# else:\n",
    "#     logger.info('Requested CPU or unable to use GPU. Setting CPU as device.')\n",
    "#     dev = device('cpu')\n",
    "dev = torch.device(\"cuda:2\")\n",
    "#dev = \"cuda:{0}\".format(config.gpu_list[0])\n",
    "\n",
    "# Send the model to the selected device\n",
    "# model.to(dev)\n",
    "# Log metrics with wandb\n",
    "wandb.watch(model)\n",
    "\n",
    "# For some reason, need to use postional parameter cfg instead of named parameter\n",
    "# with updated Hydra - used to work with named param but now is cfg=None \n",
    "engine=instantiate(config.engine, config)\n",
    "\n",
    "#TODO for some reason hydra double instantiates the engine in a\n",
    "#newer version if cfg=config is passed as an argument. This is a workaround.\n",
    "#Find out why that is...\n",
    "engine._config=config\n",
    "#add dataMgr instance to engine namespace\n",
    "engine.data_mgr=dataMgr\n",
    "#add device instance to engine namespace\n",
    "engine.device=dev    \n",
    "#instantiate and register optimisation algorithm\n",
    "engine.optimiser = torch.optim.Adam(model.parameters(),\n",
    "                                    lr=config.engine.learning_rate)\n",
    "#add the model instance to the engine namespace\n",
    "engine.model = model\n",
    "# add the modelCreator instance to engine namespace\n",
    "engine.model_creator = modelCreator\n",
    "engine.model = engine.model.to(dev)"
   ]
  },
  {
   "cell_type": "code",
   "execution_count": 9,
   "id": "a64f3d05",
   "metadata": {
    "tags": []
   },
   "outputs": [
    {
     "name": "stderr",
     "output_type": "stream",
     "text": [
      "/home/dsogutlu/.local/lib/python3.8/site-packages/hydra/_internal/defaults_list.py:251: UserWarning: In 'config.yaml': Defaults list is missing `_self_`. See https://hydra.cc/docs/1.2/upgrades/1.0_to_1.1/default_composition_order for more information\n",
      "  warnings.warn(msg, UserWarning)\n",
      "\u001b[1m[18:38:09.663]\u001b[0m \u001b[1;95mINFO \u001b[1;0m  \u001b[1mdata.dataManager                                  \u001b[0mLoading Data\n",
      "\u001b[1m[18:38:18.333]\u001b[0m \u001b[1;95mINFO \u001b[1;0m  \u001b[1mdata.dataManager                                  \u001b[0m<torch.utils.data.dataloader.DataLoader object at 0x7f90f4ecdf10>: 80000 events, 1250 batches\n",
      "\u001b[1m[18:38:18.335]\u001b[0m \u001b[1;95mINFO \u001b[1;0m  \u001b[1mdata.dataManager                                  \u001b[0m<torch.utils.data.dataloader.DataLoader object at 0x7f901a868880>: 10000 events, 79 batches\n",
      "\u001b[1m[18:38:18.335]\u001b[0m \u001b[1;95mINFO \u001b[1;0m  \u001b[1mdata.dataManager                                  \u001b[0m<torch.utils.data.dataloader.DataLoader object at 0x7f901a94e970>: 10000 events, 79 batches\n",
      "\u001b[1m[18:38:21.220]\u001b[0m \u001b[1;95mINFO \u001b[1;0m  \u001b[1mmodels.modelCreator                               \u001b[0mInitialising Model Type GumBoltAtlasPRBMCNN\n",
      "2024-04-03 18:38:21,223 dwave.cloud.client.base \u001b[1;95mINFO \u001b[1;0m MainThread Using region metadata: [Region(code='na-west-1', name='North America', endpoint='https://na-west-1.cloud.dwavesys.com/sapi/v2/'), Region(code='eu-central-1', name='Europe', endpoint='https://eu-central-1.cloud.dwavesys.com/sapi/v2/')]\n",
      "\u001b[1m[18:38:21.223]\u001b[0m \u001b[1;95mINFO \u001b[1;0m  \u001b[1mdwave.cloud.client.base                           \u001b[0mUsing region metadata: [Region(code='na-west-1', name='North America', endpoint='https://na-west-1.cloud.dwavesys.com/sapi/v2/'), Region(code='eu-central-1', name='Europe', endpoint='https://eu-central-1.cloud.dwavesys.com/sapi/v2/')]\n",
      "2024-04-03 18:38:21,779 dwave.cloud.client.base \u001b[1;95mINFO \u001b[1;0m MainThread Fetching definitions of all available solvers\n",
      "\u001b[1m[18:38:21.779]\u001b[0m \u001b[1;95mINFO \u001b[1;0m  \u001b[1mdwave.cloud.client.base                           \u001b[0mFetching definitions of all available solvers\n",
      "2024-04-03 18:38:24,044 dwave.cloud.client.base \u001b[1;95mINFO \u001b[1;0m MainThread Received solver data for 6 solver(s).\n",
      "\u001b[1m[18:38:24.044]\u001b[0m \u001b[1;95mINFO \u001b[1;0m  \u001b[1mdwave.cloud.client.base                           \u001b[0mReceived solver data for 6 solver(s).\n",
      "2024-04-03 18:38:24,096 dwave.cloud.client.base \u001b[1;95mINFO \u001b[1;0m MainThread Adding solver StructuredSolver(id='Advantage_system4.1')\n",
      "\u001b[1m[18:38:24.096]\u001b[0m \u001b[1;95mINFO \u001b[1;0m  \u001b[1mdwave.cloud.client.base                           \u001b[0mAdding solver StructuredSolver(id='Advantage_system4.1')\n",
      "2024-04-03 18:38:24,151 dwave.cloud.client.base \u001b[1;95mINFO \u001b[1;0m MainThread Adding solver StructuredSolver(id='Advantage_system6.4')\n",
      "\u001b[1m[18:38:24.151]\u001b[0m \u001b[1;95mINFO \u001b[1;0m  \u001b[1mdwave.cloud.client.base                           \u001b[0mAdding solver StructuredSolver(id='Advantage_system6.4')\n",
      "2024-04-03 18:38:24,172 dwave.cloud.client.base \u001b[1;95mINFO \u001b[1;0m MainThread Adding solver StructuredSolver(id='Advantage2_prototype2.3')\n",
      "\u001b[1m[18:38:24.172]\u001b[0m \u001b[1;95mINFO \u001b[1;0m  \u001b[1mdwave.cloud.client.base                           \u001b[0mAdding solver StructuredSolver(id='Advantage2_prototype2.3')\n",
      "2024-04-03 18:38:24,424 dwave.cloud.client.base \u001b[1;95mINFO \u001b[1;0m MainThread Using region metadata: [Region(code='na-west-1', name='North America', endpoint='https://na-west-1.cloud.dwavesys.com/sapi/v2/'), Region(code='eu-central-1', name='Europe', endpoint='https://eu-central-1.cloud.dwavesys.com/sapi/v2/')]\n",
      "\u001b[1m[18:38:24.424]\u001b[0m \u001b[1;95mINFO \u001b[1;0m  \u001b[1mdwave.cloud.client.base                           \u001b[0mUsing region metadata: [Region(code='na-west-1', name='North America', endpoint='https://na-west-1.cloud.dwavesys.com/sapi/v2/'), Region(code='eu-central-1', name='Europe', endpoint='https://eu-central-1.cloud.dwavesys.com/sapi/v2/')]\n",
      "2024-04-03 18:38:25,011 dwave.cloud.client.base \u001b[1;95mINFO \u001b[1;0m MainThread Fetching definitions of all available solvers\n",
      "\u001b[1m[18:38:25.011]\u001b[0m \u001b[1;95mINFO \u001b[1;0m  \u001b[1mdwave.cloud.client.base                           \u001b[0mFetching definitions of all available solvers\n",
      "2024-04-03 18:38:26,614 dwave.cloud.client.base \u001b[1;95mINFO \u001b[1;0m MainThread Received solver data for 6 solver(s).\n",
      "\u001b[1m[18:38:26.614]\u001b[0m \u001b[1;95mINFO \u001b[1;0m  \u001b[1mdwave.cloud.client.base                           \u001b[0mReceived solver data for 6 solver(s).\n",
      "2024-04-03 18:38:26,659 dwave.cloud.client.base \u001b[1;95mINFO \u001b[1;0m MainThread Adding solver StructuredSolver(id='Advantage_system4.1')\n",
      "\u001b[1m[18:38:26.659]\u001b[0m \u001b[1;95mINFO \u001b[1;0m  \u001b[1mdwave.cloud.client.base                           \u001b[0mAdding solver StructuredSolver(id='Advantage_system4.1')\n",
      "2024-04-03 18:38:26,711 dwave.cloud.client.base \u001b[1;95mINFO \u001b[1;0m MainThread Adding solver StructuredSolver(id='Advantage_system6.4')\n",
      "\u001b[1m[18:38:26.711]\u001b[0m \u001b[1;95mINFO \u001b[1;0m  \u001b[1mdwave.cloud.client.base                           \u001b[0mAdding solver StructuredSolver(id='Advantage_system6.4')\n",
      "2024-04-03 18:38:26,732 dwave.cloud.client.base \u001b[1;95mINFO \u001b[1;0m MainThread Adding solver StructuredSolver(id='Advantage2_prototype2.3')\n",
      "\u001b[1m[18:38:26.732]\u001b[0m \u001b[1;95mINFO \u001b[1;0m  \u001b[1mdwave.cloud.client.base                           \u001b[0mAdding solver StructuredSolver(id='Advantage2_prototype2.3')\n"
     ]
    },
    {
     "name": "stdout",
     "output_type": "stream",
     "text": [
      "Initializing NetworkV3\n"
     ]
    },
    {
     "name": "stderr",
     "output_type": "stream",
     "text": [
      "\u001b[1m[18:38:28.377]\u001b[0m \u001b[1;95mINFO \u001b[1;0m  \u001b[1mengine.engineAtlas                                \u001b[0mSetting up engine Atlas.\n",
      "\u001b[1m[18:38:28.378]\u001b[0m \u001b[1;95mINFO \u001b[1;0m  \u001b[1mengine.engineCaloV3                               \u001b[0mSetting up engine Calo.\n",
      "\u001b[1m[18:38:28.379]\u001b[0m \u001b[1;95mINFO \u001b[1;0m  \u001b[1mengine.engine                                     \u001b[0mSetting up default engine.\n"
     ]
    }
   ],
   "source": [
    "# config=compose(config_name=\"config.yaml\")\n",
    "config_2=compose(config_name=\"config.yaml\")\n",
    "wandb.init(project=\"caloqvae\", entity=\"qvae\", config=config_2, mode='disabled')\n",
    "modelCreator_2 = ModelCreator(cfg=config_2)\n",
    "dataMgr_2 = DataManager(cfg=config_2)\n",
    "#initialise data loaders\n",
    "dataMgr_2.init_dataLoaders()\n",
    "#run pre processing: get/set input dimensions and mean of train dataset\n",
    "dataMgr_2.pre_processing()\n",
    "\n",
    "if config_2.model.activation_fct.lower()==\"relu\":\n",
    "    modelCreator_2.default_activation_fct=torch.nn.ReLU()\n",
    "elif config_2.model.activation_fct.lower()==\"tanh\":\n",
    "    modelCreator_2.default_activation_fct=torch.nn.Tanh()\n",
    "else:\n",
    "    logger.warning(\"Setting identity as default activation fct\")\n",
    "    modelCreator_2.default_activation_fct=torch.nn.Identity()\n",
    "\n",
    "#instantiate the chosen model\n",
    "#loads from file \n",
    "model_2=modelCreator_2.init_model(dataMgr=dataMgr_2)\n",
    "\n",
    "#create the NN infrastructure\n",
    "model_2.create_networks()\n",
    "\n",
    "engine_2=instantiate(config_2.engine, config_2)\n",
    "\n",
    "#TODO for some reason hydra double instantiates the engine in a\n",
    "#newer version if cfg=config is passed as an argument. This is a workaround.\n",
    "#Find out why that is...\n",
    "engine_2._config=config_2\n",
    "#add dataMgr instance to engine namespace\n",
    "engine_2.data_mgr=dataMgr_2\n",
    "#add device instance to engine namespace\n",
    "engine_2.device=dev    \n",
    "#instantiate and register optimisation algorithm\n",
    "engine_2.optimiser = torch.optim.Adam(model_2.parameters(),\n",
    "                                    lr=config_2.engine.learning_rate)\n",
    "#add the model instance to the engine namespace\n",
    "engine_2.model = model_2\n",
    "# add the modelCreator instance to engine namespace\n",
    "engine_2.model_creator = modelCreator_2\n",
    "engine_2.model = engine_2.model.to(dev)"
   ]
  },
  {
   "cell_type": "code",
   "execution_count": 10,
   "id": "1b18233a",
   "metadata": {
    "tags": []
   },
   "outputs": [
    {
     "name": "stderr",
     "output_type": "stream",
     "text": [
      "\u001b[1m[18:38:37.493]\u001b[0m \u001b[1;95mINFO \u001b[1;0m  \u001b[1mdata.dataManager                                  \u001b[0m<torch.utils.data.dataloader.DataLoader object at 0x7f901a9317f0>: 80000 events, 1250 batches\n",
      "\u001b[1m[18:38:37.494]\u001b[0m \u001b[1;95mINFO \u001b[1;0m  \u001b[1mdata.dataManager                                  \u001b[0m<torch.utils.data.dataloader.DataLoader object at 0x7f901a9315b0>: 10000 events, 79 batches\n",
      "\u001b[1m[18:38:37.495]\u001b[0m \u001b[1;95mINFO \u001b[1;0m  \u001b[1mdata.dataManager                                  \u001b[0m<torch.utils.data.dataloader.DataLoader object at 0x7f901a931940>: 10000 events, 79 batches\n"
     ]
    }
   ],
   "source": [
    "train_loader,test_loader,val_loader = engine.data_mgr.create_dataLoader()"
   ]
  },
  {
   "cell_type": "code",
   "execution_count": 11,
   "id": "58f2f145",
   "metadata": {
    "tags": []
   },
   "outputs": [
    {
     "name": "stderr",
     "output_type": "stream",
     "text": [
      "\u001b[1m[18:38:37.510]\u001b[0m \u001b[1;95mINFO \u001b[1;0m  \u001b[1mmodels.modelCreator                               \u001b[0mLoading state\n",
      "\u001b[1m[18:38:37.684]\u001b[0m \u001b[1;95mINFO \u001b[1;0m  \u001b[1mmodels.modelCreator                               \u001b[0mLoading weights from file : /home/dsogutlu/temp/CaloQVAE/outputs/2024-03-06/11-37-17/wandb/run-20240306_113720-wqrq80zr/files/GumBoltAtlasPRBMCNN_atlas_default_best.pth\n"
     ]
    },
    {
     "name": "stdout",
     "output_type": "stream",
     "text": [
      "GumBoltAtlasPRBMCNN\n",
      "electron-ds2\n",
      "True False\n",
      "Loading weights for module =  _activation_fct\n",
      "Loading weights for module =  _bce_loss\n",
      "Loading weights for module =  _energy_activation_fct\n",
      "Loading weights for module =  _hit_activation_fct\n",
      "Loading weights for module =  _output_loss\n",
      "Loading weights for module =  _hit_loss\n",
      "Loading weights for module =  _hit_smoothing_dist_mod\n",
      "Loading weights for module =  _inference_energy_activation_fct\n",
      "Loading weights for module =  encoder\n",
      "Loading weights for module =  prior\n",
      "Loading weights for module =  decoder\n"
     ]
    }
   ],
   "source": [
    "# robust-dawn-236\n",
    "run_path = \"/home/dsogutlu/temp/CaloQVAE/outputs/2024-03-06/11-37-17/wandb/run-20240306_113720-wqrq80zr/files/GumBoltAtlasPRBMCNN_atlas_default_best.pth\"\n",
    "modelname = 'lucky-voice-33'\n",
    "datascaled = 'reduced'\n",
    "with open(\"/home/dsogutlu/temp/CaloQVAE/outputs/2024-03-06/11-37-17/wandb/run-20240306_113720-wqrq80zr/files/config.yaml\", 'r') as file:\n",
    "    model_config = yaml.safe_load(file)\n",
    "    R = 0.001\n",
    "    reducedata = True if model_config[\"_content\"][\"value\"][\"reducedata\"] == 'True' else False\n",
    "    scaled=True\n",
    "\n",
    "\n",
    "arch = config['model']['model_type']\n",
    "part = config['data']['particle_type']\n",
    "print(arch)\n",
    "print(part)\n",
    "print(scaled, reducedata)\n",
    "\n",
    "\n",
    "# load_state(model, run_path, 'cuda:{0}'.format(cfg.gpu_list[0]))\n",
    "# load_state(model, run_path, dev)\n",
    "modelCreator.load_state(run_path, dev)\n",
    "engine.model.eval();"
   ]
  },
  {
   "cell_type": "code",
   "execution_count": 12,
   "id": "628f56f9",
   "metadata": {
    "tags": []
   },
   "outputs": [],
   "source": [
    "lnZais = engine.model.stater.AIS(30).detach().cpu().item()"
   ]
  },
  {
   "cell_type": "code",
   "execution_count": 13,
   "id": "f745c7f4",
   "metadata": {
    "tags": []
   },
   "outputs": [
    {
     "name": "stdout",
     "output_type": "stream",
     "text": [
      "4050.31787109375 4052.0576171875\n"
     ]
    }
   ],
   "source": [
    "lnZrais = engine.model.stater.RAIS(20).detach().cpu().item()\n",
    "print(lnZais, lnZrais)"
   ]
  },
  {
   "cell_type": "code",
   "execution_count": 14,
   "id": "b1bda226",
   "metadata": {
    "tags": []
   },
   "outputs": [
    {
     "name": "stdout",
     "output_type": "stream",
     "text": [
      "2720.5166015625 2722.32470703125\n"
     ]
    }
   ],
   "source": [
    "lnZais_rdm = engine_2.model.stater.AIS(30).detach().cpu().item()\n",
    "lnZrais_rdm = engine_2.model.stater.RAIS(20).detach().cpu().item()\n",
    "print(lnZais_rdm, lnZrais_rdm)"
   ]
  },
  {
   "cell_type": "code",
   "execution_count": 15,
   "id": "2689772b",
   "metadata": {
    "tags": []
   },
   "outputs": [],
   "source": [
    "# lnZais"
   ]
  },
  {
   "cell_type": "code",
   "execution_count": 16,
   "id": "af107b0c",
   "metadata": {
    "tags": []
   },
   "outputs": [],
   "source": [
    "hfont = {'fontname':'Helvetica'}\n",
    "ds = {'electron-ds2':'Dataset 2', 'pion1':'Dataset 1: π'}"
   ]
  },
  {
   "cell_type": "code",
   "execution_count": 17,
   "id": "19c69012",
   "metadata": {
    "tags": []
   },
   "outputs": [],
   "source": [
    "xx = next(iter(test_loader))\n",
    "in_data, true_energy, in_data_flat = engine._preprocess(xx[0],xx[1]) # input , label"
   ]
  },
  {
   "cell_type": "code",
   "execution_count": 18,
   "id": "dc8835fb",
   "metadata": {
    "tags": []
   },
   "outputs": [
    {
     "name": "stdout",
     "output_type": "stream",
     "text": [
      "torch.Size([128, 6480])\n"
     ]
    },
    {
     "data": {
      "text/plain": [
       "[<matplotlib.lines.Line2D at 0x7f8ff8299e20>]"
      ]
     },
     "execution_count": 18,
     "metadata": {},
     "output_type": "execute_result"
    },
    {
     "data": {
      "image/png": "[encoded data removed]",
      "text/plain": [
       "<Figure size 640x480 with 1 Axes>"
      ]
     },
     "metadata": {},
     "output_type": "display_data"
    }
   ],
   "source": [
    "print(in_data.shape)\n",
    "plt.plot(in_data.cpu().numpy()[3,:])"
   ]
  },
  {
   "cell_type": "code",
   "execution_count": 19,
   "id": "ec075fe8",
   "metadata": {
    "tags": []
   },
   "outputs": [
    {
     "data": {
      "text/plain": [
       "[<matplotlib.lines.Line2D at 0x7f8ff80dde80>]"
      ]
     },
     "execution_count": 19,
     "metadata": {},
     "output_type": "execute_result"
    },
    {
     "data": {
      "image/png": "[encoded data removed]",
      "text/plain": [
       "<Figure size 640x480 with 1 Axes>"
      ]
     },
     "metadata": {},
     "output_type": "display_data"
    }
   ],
   "source": [
    "with torch.no_grad():\n",
    "    in_data, true_energy, in_data_flat = engine._preprocess(xx[0],xx[1])\n",
    "    # if reducedata:\n",
    "        # in_data = engine._reduce(in_data, true_energy, R=R)\n",
    "    fwd_output = engine.model((in_data, true_energy), True)\n",
    "    engine._model.sampler._batch_size = true_energy.shape[0]\n",
    "    sample_energies, sample_data = engine._model.generate_samples(num_samples=true_energy.shape[0], true_energy=true_energy)\n",
    "    engine._model.sampler._batch_size = engine._config.engine.rbm_batch_size\n",
    "idx = 12\n",
    "plt.plot(in_data.cpu().numpy()[idx,:])\n",
    "plt.plot(fwd_output.output_activations.detach().cpu().numpy()[idx,:], alpha=0.5)\n",
    "plt.plot(sample_data.detach().cpu().numpy()[idx,:], alpha=0.5)"
   ]
  },
  {
   "cell_type": "code",
   "execution_count": 20,
   "id": "f3338c8c",
   "metadata": {
    "tags": []
   },
   "outputs": [],
   "source": [
    "# enIn = torch.cat((in_data, true_energy), dim=1)\n",
    "# beta, post_logits, post_samples = engine.model.encoder(enIn)\n",
    "with torch.no_grad():\n",
    "    # enIn = torch.cat((in_data, true_energy), dim=1)\n",
    "    # beta, post_logits, post_samples = engine.model.encoder(enIn)\n",
    "    beta, post_logits, post_samples = engine.model.encoder(in_data, true_energy)\n",
    "# plt.plot(post_samples[0][0,:].detach().cpu().numpy())\n",
    "post_samples = torch.cat(post_samples, 1)"
   ]
  },
  {
   "cell_type": "code",
   "execution_count": 21,
   "id": "a66c9e5a",
   "metadata": {
    "tags": []
   },
   "outputs": [],
   "source": [
    "# t0 = time.time() outputs = net(x) torch.cuda.current_stream().synchronize() t1 = time.time()\n",
    "\n",
    "decoder_time = []\n",
    "for i in range(500):\n",
    "    # start = time.process_time()\n",
    "    start = time.time()\n",
    "    output_hits, output_activations = engine.model.decoder(post_samples, true_energy)\n",
    "    torch.cuda.current_stream().synchronize()\n",
    "    t1 = time.time()\n",
    "    decoder_time.append(t1 - start)\n",
    "    # decoder_time.append(time.process_time() - start)"
   ]
  },
  {
   "cell_type": "code",
   "execution_count": 22,
   "id": "f7638332",
   "metadata": {
    "tags": []
   },
   "outputs": [
    {
     "name": "stdout",
     "output_type": "stream",
     "text": [
      "0.05027037525177002 0.01383943288678234\n"
     ]
    }
   ],
   "source": [
    "print(np.mean(decoder_time), np.std(decoder_time))"
   ]
  },
  {
   "cell_type": "code",
   "execution_count": 23,
   "id": "e416c5ab",
   "metadata": {
    "tags": []
   },
   "outputs": [
    {
     "data": {
      "text/plain": [
       "Text(0, 0.5, 'decoder time (s)')"
      ]
     },
     "execution_count": 23,
     "metadata": {},
     "output_type": "execute_result"
    },
    {
     "data": {
      "image/png": "[encoded data removed]",
      "text/plain": [
       "<Figure size 640x480 with 1 Axes>"
      ]
     },
     "metadata": {},
     "output_type": "display_data"
    }
   ],
   "source": [
    "plt.plot(decoder_time)\n",
    "plt.xlabel(\"trials\")\n",
    "plt.ylabel(\"decoder time (s)\")"
   ]
  },
  {
   "cell_type": "code",
   "execution_count": 24,
   "id": "5be1f74b",
   "metadata": {
    "tags": []
   },
   "outputs": [
    {
     "data": {
      "text/plain": [
       "[<matplotlib.lines.Line2D at 0x7f8ff0568070>]"
      ]
     },
     "execution_count": 24,
     "metadata": {},
     "output_type": "execute_result"
    },
    {
     "data": {
      "image/png": "[encoded data removed]",
      "text/plain": [
       "<Figure size 640x480 with 1 Axes>"
      ]
     },
     "metadata": {},
     "output_type": "display_data"
    }
   ],
   "source": [
    "# post_samples = torch.cat([post_samples, true_energy], dim=1)\n",
    "# post_samples = torch.cat(post_samples,1)\n",
    "# output_hits, output_activations = engine.model.decoder(post_samples)\n",
    "output_hits, output_activations = engine.model.decoder(post_samples, true_energy)\n",
    "plt.plot(output_activations[idx,:].detach().cpu().numpy())\n"
   ]
  },
  {
   "cell_type": "code",
   "execution_count": 25,
   "id": "1219b37d",
   "metadata": {
    "tags": []
   },
   "outputs": [
    {
     "data": {
      "image/png": "[encoded data removed]",
      "text/plain": [
       "<Figure size 640x480 with 1 Axes>"
      ]
     },
     "metadata": {},
     "output_type": "display_data"
    }
   ],
   "source": [
    "# self._hit_smoothing_dist_mod(output_hits, beta, is_training)\n",
    "plt.plot(output_hits[1,:].detach().cpu().numpy())\n",
    "beta = torch.tensor(5, dtype=torch.float, device=output_hits.device, requires_grad=False)"
   ]
  },
  {
   "cell_type": "code",
   "execution_count": 26,
   "id": "81019b69",
   "metadata": {
    "tags": []
   },
   "outputs": [],
   "source": [
    "beta = torch.tensor(1, dtype=torch.float, device=output_hits.device, requires_grad=False)"
   ]
  },
  {
   "cell_type": "code",
   "execution_count": 27,
   "id": "569400ed",
   "metadata": {
    "tags": []
   },
   "outputs": [
    {
     "data": {
      "text/plain": [
       "[<matplotlib.lines.Line2D at 0x7f8ff801eb80>]"
      ]
     },
     "execution_count": 27,
     "metadata": {},
     "output_type": "execute_result"
    },
    {
     "data": {
      "image/png": "[encoded data removed]",
      "text/plain": [
       "<Figure size 640x480 with 1 Axes>"
      ]
     },
     "metadata": {},
     "output_type": "display_data"
    }
   ],
   "source": [
    "plt.plot(engine.model._hit_smoothing_dist_mod(output_hits, beta, True)[2,:].detach().cpu().numpy())"
   ]
  },
  {
   "cell_type": "code",
   "execution_count": 28,
   "id": "860c4809",
   "metadata": {
    "tags": []
   },
   "outputs": [],
   "source": [
    "weight_dict = engine.model.prior.weight_dict"
   ]
  },
  {
   "cell_type": "code",
   "execution_count": 29,
   "id": "b4296675",
   "metadata": {
    "tags": []
   },
   "outputs": [
    {
     "data": {
      "text/plain": [
       "tensor(259269, device='cuda:2')"
      ]
     },
     "execution_count": 29,
     "metadata": {},
     "output_type": "execute_result"
    }
   ],
   "source": [
    "(weight_dict['01']==0).sum()"
   ]
  },
  {
   "cell_type": "code",
   "execution_count": 30,
   "id": "199a7c03",
   "metadata": {},
   "outputs": [
    {
     "ename": "ValueError",
     "evalue": "cannot reshape array of size 6480 into shape (41,13)",
     "output_type": "error",
     "traceback": [
      "\u001b[0;31m---------------------------------------------------------------------------\u001b[0m",
      "\u001b[0;31mValueError\u001b[0m                                Traceback (most recent call last)",
      "Cell \u001b[0;32mIn[30], line 4\u001b[0m\n\u001b[1;32m      2\u001b[0m idx\u001b[38;5;241m=\u001b[39m\u001b[38;5;241m5\u001b[39m\n\u001b[1;32m      3\u001b[0m \u001b[38;5;66;03m# plt.imshow(torch.where(in_data > 0, 1., 0.)[idx,:].detach().cpu().numpy().reshape(23,16))\u001b[39;00m\n\u001b[0;32m----> 4\u001b[0m plt\u001b[38;5;241m.\u001b[39mimshow(\u001b[43mtorch\u001b[49m\u001b[38;5;241;43m.\u001b[39;49m\u001b[43mwhere\u001b[49m\u001b[43m(\u001b[49m\u001b[43min_data\u001b[49m\u001b[43m \u001b[49m\u001b[38;5;241;43m>\u001b[39;49m\u001b[43m \u001b[49m\u001b[38;5;241;43m0\u001b[39;49m\u001b[43m,\u001b[49m\u001b[43m \u001b[49m\u001b[38;5;241;43m1.\u001b[39;49m\u001b[43m,\u001b[49m\u001b[43m \u001b[49m\u001b[38;5;241;43m0.\u001b[39;49m\u001b[43m)\u001b[49m\u001b[43m[\u001b[49m\u001b[43midx\u001b[49m\u001b[43m,\u001b[49m\u001b[43m:\u001b[49m\u001b[43m]\u001b[49m\u001b[38;5;241;43m.\u001b[39;49m\u001b[43mdetach\u001b[49m\u001b[43m(\u001b[49m\u001b[43m)\u001b[49m\u001b[38;5;241;43m.\u001b[39;49m\u001b[43mcpu\u001b[49m\u001b[43m(\u001b[49m\u001b[43m)\u001b[49m\u001b[38;5;241;43m.\u001b[39;49m\u001b[43mnumpy\u001b[49m\u001b[43m(\u001b[49m\u001b[43m)\u001b[49m\u001b[38;5;241;43m.\u001b[39;49m\u001b[43mreshape\u001b[49m\u001b[43m(\u001b[49m\u001b[38;5;241;43m41\u001b[39;49m\u001b[43m,\u001b[49m\u001b[38;5;241;43m13\u001b[39;49m\u001b[43m)\u001b[49m)\n",
      "\u001b[0;31mValueError\u001b[0m: cannot reshape array of size 6480 into shape (41,13)"
     ]
    }
   ],
   "source": [
    "# engine.model._hit_smoothing_dist_mod(output_hits, torch.Tensor([5]), is_training=False)[idx,:].detach().cpu()\n",
    "idx=5\n",
    "# plt.imshow(torch.where(in_data > 0, 1., 0.)[idx,:].detach().cpu().numpy().reshape(23,16))\n",
    "plt.imshow(torch.where(in_data > 0, 1., 0.)[idx,:].detach().cpu().numpy().reshape(41,13))"
   ]
  },
  {
   "cell_type": "code",
   "execution_count": null,
   "id": "a8c46770",
   "metadata": {
    "tags": []
   },
   "outputs": [],
   "source": [
    "# fwd_output.output_activations.shape"
   ]
  },
  {
   "cell_type": "code",
   "execution_count": 31,
   "id": "ef44718d",
   "metadata": {
    "tags": []
   },
   "outputs": [],
   "source": [
    "(output_hits.sum(dim=0) == 0).sum()\n",
    "engine._config.model.output_smoothing_fct\n",
    "\n",
    "# engine.model._energy_activation_fct\n",
    "beta = torch.tensor(engine._config.model.output_smoothing_fct, dtype=torch.float, device=output_hits.device, requires_grad=False)\n",
    "output = engine.model._energy_activation_fct(output_activations) * engine.model._hit_smoothing_dist_mod(output_hits, beta, False)\n",
    "o1 = engine.model._energy_activation_fct(output_activations)\n",
    "o2 = engine.model._hit_smoothing_dist_mod(output_hits, beta, False)"
   ]
  },
  {
   "cell_type": "code",
   "execution_count": 32,
   "id": "ef167e32",
   "metadata": {
    "tags": []
   },
   "outputs": [
    {
     "data": {
      "text/plain": [
       "tensor(0, device='cuda:2')"
      ]
     },
     "execution_count": 32,
     "metadata": {},
     "output_type": "execute_result"
    }
   ],
   "source": [
    "(output.sum(dim=0) == 0).sum()\n",
    "(o1.sum(dim=0) == 0).sum()\n",
    "# (o2.sum(dim=0) == 0).sum()\n",
    "# (in_data.sum(dim=0) == 0).sum()\n",
    "# in_data.shape\n",
    "# engine.model._energy_activation_fct"
   ]
  },
  {
   "cell_type": "code",
   "execution_count": 33,
   "id": "781fe697",
   "metadata": {
    "tags": []
   },
   "outputs": [],
   "source": [
    "directory_path = f'/home/dsogutlu/temp/CaloQVAE/figs/{modelname}'\n",
    "if not os.path.isdir(directory_path):\n",
    "    os.mkdir(directory_path) \n",
    "    print(modelname)\n",
    "else:\n",
    "    pass"
   ]
  },
  {
   "cell_type": "code",
   "execution_count": null,
   "id": "1342e576",
   "metadata": {
    "tags": []
   },
   "outputs": [],
   "source": []
  },
  {
   "cell_type": "code",
   "execution_count": 34,
   "id": "9c5324f1",
   "metadata": {
    "tags": []
   },
   "outputs": [
    {
     "ename": "TypeError",
     "evalue": "find_beta() got an unexpected keyword argument 'num_reads'",
     "output_type": "error",
     "traceback": [
      "\u001b[0;31m---------------------------------------------------------------------------\u001b[0m",
      "\u001b[0;31mTypeError\u001b[0m                                 Traceback (most recent call last)",
      "Cell \u001b[0;32mIn[34], line 1\u001b[0m\n\u001b[0;32m----> 1\u001b[0m beta, beta_list, rbm_energy_list, dwave_energy_list, thrsh_met \u001b[38;5;241m=\u001b[39m \u001b[43mengine\u001b[49m\u001b[38;5;241;43m.\u001b[39;49m\u001b[43mmodel\u001b[49m\u001b[38;5;241;43m.\u001b[39;49m\u001b[43mfind_beta\u001b[49m\u001b[43m(\u001b[49m\u001b[43mnum_reads\u001b[49m\u001b[38;5;241;43m=\u001b[39;49m\u001b[38;5;241;43m256\u001b[39;49m\u001b[43m,\u001b[49m\u001b[43m \u001b[49m\u001b[43mbeta_init\u001b[49m\u001b[38;5;241;43m=\u001b[39;49m\u001b[38;5;241;43m4.0\u001b[39;49m\u001b[43m,\u001b[49m\u001b[43m \u001b[49m\u001b[43mlr\u001b[49m\u001b[38;5;241;43m=\u001b[39;49m\u001b[38;5;241;43m0.01\u001b[39;49m\u001b[43m,\u001b[49m\u001b[43m \u001b[49m\u001b[43mnum_epochs\u001b[49m\u001b[43m \u001b[49m\u001b[38;5;241;43m=\u001b[39;49m\u001b[43m \u001b[49m\u001b[38;5;241;43m30\u001b[39;49m\u001b[43m,\u001b[49m\u001b[43m \u001b[49m\u001b[43mdelta\u001b[49m\u001b[43m \u001b[49m\u001b[38;5;241;43m=\u001b[39;49m\u001b[43m \u001b[49m\u001b[38;5;241;43m4.0\u001b[39;49m\u001b[43m,\u001b[49m\u001b[43m \u001b[49m\u001b[43mmethod\u001b[49m\u001b[43m \u001b[49m\u001b[38;5;241;43m=\u001b[39;49m\u001b[43m \u001b[49m\u001b[38;5;241;43m2\u001b[39;49m\u001b[43m,\u001b[49m\u001b[43m \u001b[49m\u001b[43mTOL\u001b[49m\u001b[38;5;241;43m=\u001b[39;49m\u001b[38;5;28;43;01mTrue\u001b[39;49;00m\u001b[43m,\u001b[49m\u001b[43m \u001b[49m\u001b[43mconst\u001b[49m\u001b[43m \u001b[49m\u001b[38;5;241;43m=\u001b[39;49m\u001b[43m \u001b[49m\u001b[38;5;241;43m1.0\u001b[39;49m\u001b[43m,\u001b[49m\u001b[43m \u001b[49m\u001b[43madaptive\u001b[49m\u001b[43m \u001b[49m\u001b[38;5;241;43m=\u001b[39;49m\u001b[43m \u001b[49m\u001b[38;5;28;43;01mTrue\u001b[39;49;00m\u001b[43m)\u001b[49m\n",
      "\u001b[0;31mTypeError\u001b[0m: find_beta() got an unexpected keyword argument 'num_reads'"
     ]
    }
   ],
   "source": [
    "beta, beta_list, rbm_energy_list, dwave_energy_list, thrsh_met = engine.model.find_beta(num_reads=256, beta_init=4.0, lr=0.01, num_epochs = 30, delta = 4.0, method = 2, TOL=True, const = 1.0, adaptive = True)"
   ]
  },
  {
   "cell_type": "code",
   "execution_count": 35,
   "id": "6bf47eb4",
   "metadata": {
    "tags": []
   },
   "outputs": [
    {
     "data": {
      "text/plain": [
       "'Advantage_system6.4'"
      ]
     },
     "execution_count": 35,
     "metadata": {},
     "output_type": "execute_result"
    }
   ],
   "source": [
    "engine.model._qpu_sampler.properties[\"chip_id\"]"
   ]
  },
  {
   "cell_type": "code",
   "execution_count": 36,
   "id": "c7bf9167",
   "metadata": {
    "tags": []
   },
   "outputs": [
    {
     "ename": "NameError",
     "evalue": "name 'beta_list' is not defined",
     "output_type": "error",
     "traceback": [
      "\u001b[0;31m---------------------------------------------------------------------------\u001b[0m",
      "\u001b[0;31mNameError\u001b[0m                                 Traceback (most recent call last)",
      "Cell \u001b[0;32mIn[36], line 1\u001b[0m\n\u001b[0;32m----> 1\u001b[0m plt\u001b[38;5;241m.\u001b[39mplot(\u001b[43mbeta_list\u001b[49m, linewidth\u001b[38;5;241m=\u001b[39m\u001b[38;5;241m2.5\u001b[39m, color\u001b[38;5;241m=\u001b[39m\u001b[38;5;124m\"\u001b[39m\u001b[38;5;124mb\u001b[39m\u001b[38;5;124m\"\u001b[39m )\n\u001b[1;32m      2\u001b[0m plt\u001b[38;5;241m.\u001b[39mxlabel(\u001b[38;5;124m\"\u001b[39m\u001b[38;5;124mIterations\u001b[39m\u001b[38;5;124m\"\u001b[39m)\n\u001b[1;32m      3\u001b[0m plt\u001b[38;5;241m.\u001b[39mylabel(\u001b[38;5;124m\"\u001b[39m\u001b[38;5;124mβ QA\u001b[39m\u001b[38;5;124m\"\u001b[39m)\n",
      "\u001b[0;31mNameError\u001b[0m: name 'beta_list' is not defined"
     ]
    }
   ],
   "source": [
    "plt.plot(beta_list, linewidth=2.5, color=\"b\" )\n",
    "plt.xlabel(\"Iterations\")\n",
    "plt.ylabel(\"β QA\")\n",
    "plt.legend([f'Chip {engine.model._qpu_sampler.properties[\"chip_id\"]}'])\n",
    "# plt.title(f'{ds[part]}')\n",
    "plt.grid(\"True\")\n",
    "plt.savefig(f'/home/javier/Projects/CaloQVAE/figs/{modelname}/beta_QA_{engine.model._qpu_sampler.properties[\"chip_id\"]}_{modelname}_{arch}_{datascaled}_{part}.png')\n",
    "plt.show()\n",
    "# engine.model.eval();\n",
    "# (engine.model.prior._weight_dict['01'] == 0).sum(axis=1)"
   ]
  },
  {
   "cell_type": "code",
   "execution_count": 37,
   "id": "eb099f09",
   "metadata": {
    "tags": []
   },
   "outputs": [],
   "source": [
    "Hoffset = -(sum([engine.model.prior.bias_dict[key].sum().detach().cpu().item() for key in engine.model.prior.bias_dict.keys()])/2 + sum([engine.model.prior.weight_dict[key].sum().detach().cpu().item() for key in engine.model.prior.weight_dict.keys()])/4)\n"
   ]
  },
  {
   "cell_type": "code",
   "execution_count": 38,
   "id": "4342ee44",
   "metadata": {
    "tags": []
   },
   "outputs": [
    {
     "ename": "NameError",
     "evalue": "name 'rbm_energy_list' is not defined",
     "output_type": "error",
     "traceback": [
      "\u001b[0;31m---------------------------------------------------------------------------\u001b[0m",
      "\u001b[0;31mNameError\u001b[0m                                 Traceback (most recent call last)",
      "Cell \u001b[0;32mIn[38], line 1\u001b[0m\n\u001b[0;32m----> 1\u001b[0m plt\u001b[38;5;241m.\u001b[39mhist(\u001b[43mrbm_energy_list\u001b[49m[\u001b[38;5;241m-\u001b[39m\u001b[38;5;241m1\u001b[39m] \u001b[38;5;241m+\u001b[39m Hoffset, density\u001b[38;5;241m=\u001b[39m\u001b[38;5;28;01mTrue\u001b[39;00m, color\u001b[38;5;241m=\u001b[39m\u001b[38;5;124m\"\u001b[39m\u001b[38;5;124mb\u001b[39m\u001b[38;5;124m\"\u001b[39m)\n\u001b[1;32m      2\u001b[0m plt\u001b[38;5;241m.\u001b[39mhist(dwave_energies_list[\u001b[38;5;241m-\u001b[39m\u001b[38;5;241m1\u001b[39m] \u001b[38;5;241m+\u001b[39m Hoffset, density\u001b[38;5;241m=\u001b[39m\u001b[38;5;28;01mTrue\u001b[39;00m, fc\u001b[38;5;241m=\u001b[39m(\u001b[38;5;241m1\u001b[39m, \u001b[38;5;241m0\u001b[39m, \u001b[38;5;241m1\u001b[39m, \u001b[38;5;241m0.5\u001b[39m))\n\u001b[1;32m      3\u001b[0m plt\u001b[38;5;241m.\u001b[39mxlabel(\u001b[38;5;124m\"\u001b[39m\u001b[38;5;124mIsing Energy\u001b[39m\u001b[38;5;124m\"\u001b[39m)\n",
      "\u001b[0;31mNameError\u001b[0m: name 'rbm_energy_list' is not defined"
     ]
    }
   ],
   "source": [
    "plt.hist(rbm_energy_list[-1] + Hoffset, density=True, color=\"b\")\n",
    "plt.hist(dwave_energies_list[-1] + Hoffset, density=True, fc=(1, 0, 1, 0.5))\n",
    "plt.xlabel(\"Ising Energy\")\n",
    "plt.ylabel(\"PDF\")\n",
    "plt.legend([\"RBM\", \"QPU\"])\n",
    "# plt.title(f'ln(Z)[AIS] = {np.round(Zais)}, ln(Z)[RAIS] = {np.round(Zrais)}')\n",
    "plt.grid(\"True\")\n",
    "plt.savefig(f'/home/javier/Projects/CaloQVAE/figs/{modelname}/Ising_energy_{modelname}_{arch}_{datascaled}_{part}.png')\n",
    "plt.show()\n",
    "print(len(rbm_energy_list[-1]))"
   ]
  },
  {
   "cell_type": "code",
   "execution_count": 39,
   "id": "d2ff5114",
   "metadata": {
    "tags": []
   },
   "outputs": [],
   "source": [
    "from utils.hists.RBMenergyHist import generate_rbm_energy_hist"
   ]
  },
  {
   "cell_type": "code",
   "execution_count": 40,
   "id": "1f39a993",
   "metadata": {
    "tags": []
   },
   "outputs": [
    {
     "data": {
      "image/png": "[encoded data removed]",
      "text/plain": [
       "<Figure size 1200x400 with 1 Axes>"
      ]
     },
     "metadata": {},
     "output_type": "display_data"
    }
   ],
   "source": [
    "generate_rbm_energy_hist(engine, config.model, val_loader, False)"
   ]
  },
  {
   "cell_type": "code",
   "execution_count": 41,
   "id": "ec98d84a",
   "metadata": {
    "tags": []
   },
   "outputs": [
    {
     "ename": "NameError",
     "evalue": "name 'encoded_data' is not defined",
     "output_type": "error",
     "traceback": [
      "\u001b[0;31m---------------------------------------------------------------------------\u001b[0m",
      "\u001b[0;31mNameError\u001b[0m                                 Traceback (most recent call last)",
      "Cell \u001b[0;32mIn[41], line 2\u001b[0m\n\u001b[1;32m      1\u001b[0m \u001b[38;5;66;03m# Encoded data and RBM\u001b[39;00m\n\u001b[0;32m----> 2\u001b[0m \u001b[43mencoded_data\u001b[49m\u001b[38;5;241m.\u001b[39mshape\n",
      "\u001b[0;31mNameError\u001b[0m: name 'encoded_data' is not defined"
     ]
    }
   ],
   "source": [
    "# Encoded data and RBM\n",
    "encoded_data.shape"
   ]
  },
  {
   "cell_type": "code",
   "execution_count": 42,
   "id": "ce4b271c",
   "metadata": {
    "tags": []
   },
   "outputs": [],
   "source": [
    "partition_size=config.model.n_latent_nodes\n",
    "energy_encoded_data = []\n",
    "\n",
    "engine.model.eval()\n",
    "with torch.no_grad():\n",
    "    for xx in val_loader:\n",
    "        in_data, true_energy, in_data_flat = engine._preprocess(xx[0],xx[1])\n",
    "        if reducedata:\n",
    "            in_data = engine._reduce(in_data, true_energy, R=R)\n",
    "        # enIn = torch.cat((in_data, true_energy), dim=1)\n",
    "        # beta, post_logits, post_samples = engine.model.encoder(enIn, False)\n",
    "        beta, post_logits, post_samples = engine.model.encoder(in_data, true_energy, False)\n",
    "        post_samples = torch.cat(post_samples, 1)\n",
    "        post_samples_energy = engine.model.stater.energy_samples(post_samples[:,0:partition_size], post_samples[:,partition_size:2*partition_size], \n",
    "                                                 post_samples[:,2*partition_size:3*partition_size], post_samples[:,3*partition_size:4*partition_size], 1.0 )\n",
    "        energy_encoded_data.append(post_samples_energy.detach().cpu())\n",
    "\n",
    "energy_encoded_data = torch.cat(energy_encoded_data, dim=0)"
   ]
  },
  {
   "cell_type": "code",
   "execution_count": 43,
   "id": "c5f27132",
   "metadata": {
    "tags": []
   },
   "outputs": [],
   "source": [
    "\n",
    "partition_size=config.model.n_latent_nodes\n",
    "encoded_data = []\n",
    "energy_encoded_data = []\n",
    "\n",
    "encoded_data_rdm = []\n",
    "energy_encoded_data_rdm = []\n",
    "engine.model.eval()\n",
    "engine_2.model.eval()\n",
    "with torch.no_grad():\n",
    "    for xx in val_loader:\n",
    "    # for xx in train_loader:\n",
    "        in_data, true_energy, in_data_flat = engine._preprocess(xx[0],xx[1])\n",
    "        if reducedata:\n",
    "            in_data = engine._reduce(in_data, true_energy, R=R)\n",
    "        # enIn = torch.cat((in_data, true_energy), dim=1)\n",
    "        # beta, post_logits, post_samples = engine.model.encoder(enIn, False)\n",
    "        beta, post_logits, post_samples = engine.model.encoder(in_data, true_energy, False)\n",
    "        post_samples = torch.cat(post_samples, 1)\n",
    "        post_samples_energy = engine.model.stater.energy_samples(post_samples[:,0:partition_size], post_samples[:,partition_size:2*partition_size], \n",
    "                                                 post_samples[:,2*partition_size:3*partition_size], post_samples[:,3*partition_size:4*partition_size], 1.0 )\n",
    "        encoded_data.append(post_samples.detach().cpu())\n",
    "        energy_encoded_data.append(post_samples_energy.detach().cpu())\n",
    "        \n",
    "        #Rdm model\n",
    "        # enIn = torch.cat((in_data, true_energy), dim=1)\n",
    "        # beta, post_logits, post_samples = engine.model.encoder(enIn, False)\n",
    "        beta, post_logits, post_samples = engine_2.model.encoder(in_data, true_energy, False)\n",
    "        post_samples = torch.cat(post_samples, 1)\n",
    "        post_samples_energy = engine_2.model.stater.energy_samples(post_samples[:,0:partition_size], post_samples[:,partition_size:2*partition_size], \n",
    "                                                 post_samples[:,2*partition_size:3*partition_size], post_samples[:,3*partition_size:4*partition_size], 1.0 )\n",
    "        encoded_data_rdm.append(post_samples.detach().cpu())\n",
    "        energy_encoded_data_rdm.append(post_samples_energy.detach().cpu())\n",
    "\n",
    "encoded_data = torch.cat(encoded_data, dim=0)\n",
    "energy_encoded_data = torch.cat(energy_encoded_data, dim=0)\n",
    "        \n",
    "encoded_data_rdm = torch.cat(encoded_data_rdm, dim=0)\n",
    "energy_encoded_data_rdm = torch.cat(energy_encoded_data_rdm, dim=0)\n",
    "\n",
    "p1,p2,p3,p4 = post_samples[:,0:partition_size], post_samples[:,partition_size:2*partition_size], \\\n",
    "                                                 post_samples[:,2*partition_size:3*partition_size], post_samples[:,3*partition_size:4*partition_size]\n",
    "\n",
    "energy_rbm_data = []\n",
    "energy_rbm_rdm_data = []\n",
    "with torch.no_grad():\n",
    "    for i in range(10):\n",
    "        # if i == 0:\n",
    "            # p1, p2, p3, p4 = engine.model.stater.block_gibbs_sampling_ais(1.0)\n",
    "        # else:\n",
    "            # p1, p2, p3, p4 = engine.model.stater.block_gibbs_sampling_ais(1.0, p1, p2, p3, p4)\n",
    "        p1, p2, p3, p4 = engine.model.sampler.block_gibbs_sampling()\n",
    "        rbm_samples_energy = engine.model.stater.energy_samples(p1, p2, p3, p4, 1.0)\n",
    "        energy_rbm_data.append(rbm_samples_energy.detach().cpu())\n",
    "        \n",
    "        if i == 0:\n",
    "            p1_r, p2_r, p3_r, p4_r = engine_2.model.stater.block_gibbs_sampling_ais(1.0)\n",
    "        else:\n",
    "            p1_r, p2_r, p3_r, p4_r = engine_2.model.stater.block_gibbs_sampling_ais(1.0, p1_r, p2_r, p3_r, p4_r)\n",
    "        rbm_rdm_samples_energy = engine_2.model.stater.energy_samples(p1_r, p2_r, p3_r, p4_r, 1.0)\n",
    "        energy_rbm_rdm_data.append(rbm_rdm_samples_energy.detach().cpu())\n",
    "    \n",
    "energy_rbm_data = torch.cat(energy_rbm_data, dim=0)\n",
    "energy_rbm_rdm_data = torch.cat(energy_rbm_rdm_data, dim=0)"
   ]
  },
  {
   "cell_type": "code",
   "execution_count": 44,
   "id": "e0cd2844",
   "metadata": {
    "tags": []
   },
   "outputs": [
    {
     "name": "stdout",
     "output_type": "stream",
     "text": [
      "LL of trained model tensor(633.2783)\n",
      "LL of trained model. Gibbs samples data tensor(627.2866)\n",
      "LL of rdm model tensor(-2758.3433)\n",
      "LL of rdm model. Gibbs Samples data tensor(-686.6814)\n",
      "4050.31787109375 2720.5166015625\n"
     ]
    }
   ],
   "source": [
    "print(\"LL of trained model\", -energy_encoded_data.mean() - lnZais)\n",
    "print(\"LL of trained model. Gibbs samples data\", -energy_rbm_data.mean() - lnZais)\n",
    "print(\"LL of rdm model\", -energy_encoded_data_rdm.mean() - lnZrais_rdm)\n",
    "print(\"LL of rdm model. Gibbs Samples data\", -energy_rbm_rdm_data.mean() - lnZrais_rdm)\n",
    "print(lnZais, lnZais_rdm)"
   ]
  },
  {
   "cell_type": "code",
   "execution_count": 45,
   "id": "b5cd230a",
   "metadata": {
    "tags": []
   },
   "outputs": [
    {
     "ename": "FileNotFoundError",
     "evalue": "[Errno 2] No such file or directory: '/home/javier/Projects/CaloQVAE/figs/lucky-voice-33/RBM_energy_lucky-voice-33_GumBoltAtlasPRBMCNN_reduced_electron-ds2.png'",
     "output_type": "error",
     "traceback": [
      "\u001b[0;31m---------------------------------------------------------------------------\u001b[0m",
      "\u001b[0;31mFileNotFoundError\u001b[0m                         Traceback (most recent call last)",
      "Cell \u001b[0;32mIn[45], line 13\u001b[0m\n\u001b[1;32m     10\u001b[0m plt\u001b[38;5;241m.\u001b[39mtitle(\u001b[38;5;124mf\u001b[39m\u001b[38;5;124m'\u001b[39m\u001b[38;5;124mLL(trained) = \u001b[39m\u001b[38;5;132;01m{\u001b[39;00mnp\u001b[38;5;241m.\u001b[39mround(\u001b[38;5;241m-\u001b[39menergy_encoded_data\u001b[38;5;241m.\u001b[39mmean() \u001b[38;5;241m-\u001b[39m lnZais)\u001b[38;5;132;01m}\u001b[39;00m\u001b[38;5;124m, LL(Rdm) = \u001b[39m\u001b[38;5;132;01m{\u001b[39;00mnp\u001b[38;5;241m.\u001b[39mround(\u001b[38;5;241m-\u001b[39menergy_encoded_data_rdm\u001b[38;5;241m.\u001b[39mmean() \u001b[38;5;241m-\u001b[39m lnZrais_rdm)\u001b[38;5;132;01m}\u001b[39;00m\u001b[38;5;124m \u001b[39m\u001b[38;5;130;01m\\n\u001b[39;00m\u001b[38;5;124m \u001b[39m\u001b[38;5;130;01m\\\u001b[39;00m\n\u001b[1;32m     11\u001b[0m \u001b[38;5;124m        LL(trained RBM data) = \u001b[39m\u001b[38;5;132;01m{\u001b[39;00mnp\u001b[38;5;241m.\u001b[39mround(\u001b[38;5;241m-\u001b[39menergy_rbm_data\u001b[38;5;241m.\u001b[39mmean() \u001b[38;5;241m-\u001b[39m lnZais)\u001b[38;5;132;01m}\u001b[39;00m\u001b[38;5;124m, LL(Rdm RBM data) = \u001b[39m\u001b[38;5;132;01m{\u001b[39;00mnp\u001b[38;5;241m.\u001b[39mround(\u001b[38;5;241m-\u001b[39menergy_rbm_rdm_data\u001b[38;5;241m.\u001b[39mmean() \u001b[38;5;241m-\u001b[39m lnZrais_rdm)\u001b[38;5;132;01m}\u001b[39;00m\u001b[38;5;124m'\u001b[39m)\n\u001b[1;32m     12\u001b[0m plt\u001b[38;5;241m.\u001b[39mgrid(\u001b[38;5;124m\"\u001b[39m\u001b[38;5;124mTrue\u001b[39m\u001b[38;5;124m\"\u001b[39m)\n\u001b[0;32m---> 13\u001b[0m \u001b[43mplt\u001b[49m\u001b[38;5;241;43m.\u001b[39;49m\u001b[43msavefig\u001b[49m\u001b[43m(\u001b[49m\u001b[38;5;124;43mf\u001b[39;49m\u001b[38;5;124;43m'\u001b[39;49m\u001b[38;5;124;43m/home/javier/Projects/CaloQVAE/figs/\u001b[39;49m\u001b[38;5;132;43;01m{\u001b[39;49;00m\u001b[43mmodelname\u001b[49m\u001b[38;5;132;43;01m}\u001b[39;49;00m\u001b[38;5;124;43m/RBM_energy_\u001b[39;49m\u001b[38;5;132;43;01m{\u001b[39;49;00m\u001b[43mmodelname\u001b[49m\u001b[38;5;132;43;01m}\u001b[39;49;00m\u001b[38;5;124;43m_\u001b[39;49m\u001b[38;5;132;43;01m{\u001b[39;49;00m\u001b[43march\u001b[49m\u001b[38;5;132;43;01m}\u001b[39;49;00m\u001b[38;5;124;43m_\u001b[39;49m\u001b[38;5;132;43;01m{\u001b[39;49;00m\u001b[43mdatascaled\u001b[49m\u001b[38;5;132;43;01m}\u001b[39;49;00m\u001b[38;5;124;43m_\u001b[39;49m\u001b[38;5;132;43;01m{\u001b[39;49;00m\u001b[43mpart\u001b[49m\u001b[38;5;132;43;01m}\u001b[39;49;00m\u001b[38;5;124;43m.png\u001b[39;49m\u001b[38;5;124;43m'\u001b[39;49m\u001b[43m)\u001b[49m\n\u001b[1;32m     14\u001b[0m plt\u001b[38;5;241m.\u001b[39mshow()\n",
      "File \u001b[0;32m/usr/local/lib/python3.8/dist-packages/matplotlib/pyplot.py:954\u001b[0m, in \u001b[0;36msavefig\u001b[0;34m(*args, **kwargs)\u001b[0m\n\u001b[1;32m    951\u001b[0m \u001b[38;5;129m@_copy_docstring_and_deprecators\u001b[39m(Figure\u001b[38;5;241m.\u001b[39msavefig)\n\u001b[1;32m    952\u001b[0m \u001b[38;5;28;01mdef\u001b[39;00m \u001b[38;5;21msavefig\u001b[39m(\u001b[38;5;241m*\u001b[39margs, \u001b[38;5;241m*\u001b[39m\u001b[38;5;241m*\u001b[39mkwargs):\n\u001b[1;32m    953\u001b[0m     fig \u001b[38;5;241m=\u001b[39m gcf()\n\u001b[0;32m--> 954\u001b[0m     res \u001b[38;5;241m=\u001b[39m \u001b[43mfig\u001b[49m\u001b[38;5;241;43m.\u001b[39;49m\u001b[43msavefig\u001b[49m\u001b[43m(\u001b[49m\u001b[38;5;241;43m*\u001b[39;49m\u001b[43margs\u001b[49m\u001b[43m,\u001b[49m\u001b[43m \u001b[49m\u001b[38;5;241;43m*\u001b[39;49m\u001b[38;5;241;43m*\u001b[39;49m\u001b[43mkwargs\u001b[49m\u001b[43m)\u001b[49m\n\u001b[1;32m    955\u001b[0m     fig\u001b[38;5;241m.\u001b[39mcanvas\u001b[38;5;241m.\u001b[39mdraw_idle()  \u001b[38;5;66;03m# Need this if 'transparent=True', to reset colors.\u001b[39;00m\n\u001b[1;32m    956\u001b[0m     \u001b[38;5;28;01mreturn\u001b[39;00m res\n",
      "File \u001b[0;32m/usr/local/lib/python3.8/dist-packages/matplotlib/figure.py:3274\u001b[0m, in \u001b[0;36mFigure.savefig\u001b[0;34m(self, fname, transparent, **kwargs)\u001b[0m\n\u001b[1;32m   3270\u001b[0m     \u001b[38;5;28;01mfor\u001b[39;00m ax \u001b[38;5;129;01min\u001b[39;00m \u001b[38;5;28mself\u001b[39m\u001b[38;5;241m.\u001b[39maxes:\n\u001b[1;32m   3271\u001b[0m         stack\u001b[38;5;241m.\u001b[39menter_context(\n\u001b[1;32m   3272\u001b[0m             ax\u001b[38;5;241m.\u001b[39mpatch\u001b[38;5;241m.\u001b[39m_cm_set(facecolor\u001b[38;5;241m=\u001b[39m\u001b[38;5;124m'\u001b[39m\u001b[38;5;124mnone\u001b[39m\u001b[38;5;124m'\u001b[39m, edgecolor\u001b[38;5;241m=\u001b[39m\u001b[38;5;124m'\u001b[39m\u001b[38;5;124mnone\u001b[39m\u001b[38;5;124m'\u001b[39m))\n\u001b[0;32m-> 3274\u001b[0m \u001b[38;5;28;43mself\u001b[39;49m\u001b[38;5;241;43m.\u001b[39;49m\u001b[43mcanvas\u001b[49m\u001b[38;5;241;43m.\u001b[39;49m\u001b[43mprint_figure\u001b[49m\u001b[43m(\u001b[49m\u001b[43mfname\u001b[49m\u001b[43m,\u001b[49m\u001b[43m \u001b[49m\u001b[38;5;241;43m*\u001b[39;49m\u001b[38;5;241;43m*\u001b[39;49m\u001b[43mkwargs\u001b[49m\u001b[43m)\u001b[49m\n",
      "File \u001b[0;32m/usr/local/lib/python3.8/dist-packages/matplotlib/backend_bases.py:2338\u001b[0m, in \u001b[0;36mFigureCanvasBase.print_figure\u001b[0;34m(self, filename, dpi, facecolor, edgecolor, orientation, format, bbox_inches, pad_inches, bbox_extra_artists, backend, **kwargs)\u001b[0m\n\u001b[1;32m   2334\u001b[0m \u001b[38;5;28;01mtry\u001b[39;00m:\n\u001b[1;32m   2335\u001b[0m     \u001b[38;5;66;03m# _get_renderer may change the figure dpi (as vector formats\u001b[39;00m\n\u001b[1;32m   2336\u001b[0m     \u001b[38;5;66;03m# force the figure dpi to 72), so we need to set it again here.\u001b[39;00m\n\u001b[1;32m   2337\u001b[0m     \u001b[38;5;28;01mwith\u001b[39;00m cbook\u001b[38;5;241m.\u001b[39m_setattr_cm(\u001b[38;5;28mself\u001b[39m\u001b[38;5;241m.\u001b[39mfigure, dpi\u001b[38;5;241m=\u001b[39mdpi):\n\u001b[0;32m-> 2338\u001b[0m         result \u001b[38;5;241m=\u001b[39m \u001b[43mprint_method\u001b[49m\u001b[43m(\u001b[49m\n\u001b[1;32m   2339\u001b[0m \u001b[43m            \u001b[49m\u001b[43mfilename\u001b[49m\u001b[43m,\u001b[49m\n\u001b[1;32m   2340\u001b[0m \u001b[43m            \u001b[49m\u001b[43mfacecolor\u001b[49m\u001b[38;5;241;43m=\u001b[39;49m\u001b[43mfacecolor\u001b[49m\u001b[43m,\u001b[49m\n\u001b[1;32m   2341\u001b[0m \u001b[43m            \u001b[49m\u001b[43medgecolor\u001b[49m\u001b[38;5;241;43m=\u001b[39;49m\u001b[43medgecolor\u001b[49m\u001b[43m,\u001b[49m\n\u001b[1;32m   2342\u001b[0m \u001b[43m            \u001b[49m\u001b[43morientation\u001b[49m\u001b[38;5;241;43m=\u001b[39;49m\u001b[43morientation\u001b[49m\u001b[43m,\u001b[49m\n\u001b[1;32m   2343\u001b[0m \u001b[43m            \u001b[49m\u001b[43mbbox_inches_restore\u001b[49m\u001b[38;5;241;43m=\u001b[39;49m\u001b[43m_bbox_inches_restore\u001b[49m\u001b[43m,\u001b[49m\n\u001b[1;32m   2344\u001b[0m \u001b[43m            \u001b[49m\u001b[38;5;241;43m*\u001b[39;49m\u001b[38;5;241;43m*\u001b[39;49m\u001b[43mkwargs\u001b[49m\u001b[43m)\u001b[49m\n\u001b[1;32m   2345\u001b[0m \u001b[38;5;28;01mfinally\u001b[39;00m:\n\u001b[1;32m   2346\u001b[0m     \u001b[38;5;28;01mif\u001b[39;00m bbox_inches \u001b[38;5;129;01mand\u001b[39;00m restore_bbox:\n",
      "File \u001b[0;32m/usr/local/lib/python3.8/dist-packages/matplotlib/backend_bases.py:2204\u001b[0m, in \u001b[0;36mFigureCanvasBase._switch_canvas_and_return_print_method.<locals>.<lambda>\u001b[0;34m(*args, **kwargs)\u001b[0m\n\u001b[1;32m   2200\u001b[0m     optional_kws \u001b[38;5;241m=\u001b[39m {  \u001b[38;5;66;03m# Passed by print_figure for other renderers.\u001b[39;00m\n\u001b[1;32m   2201\u001b[0m         \u001b[38;5;124m\"\u001b[39m\u001b[38;5;124mdpi\u001b[39m\u001b[38;5;124m\"\u001b[39m, \u001b[38;5;124m\"\u001b[39m\u001b[38;5;124mfacecolor\u001b[39m\u001b[38;5;124m\"\u001b[39m, \u001b[38;5;124m\"\u001b[39m\u001b[38;5;124medgecolor\u001b[39m\u001b[38;5;124m\"\u001b[39m, \u001b[38;5;124m\"\u001b[39m\u001b[38;5;124morientation\u001b[39m\u001b[38;5;124m\"\u001b[39m,\n\u001b[1;32m   2202\u001b[0m         \u001b[38;5;124m\"\u001b[39m\u001b[38;5;124mbbox_inches_restore\u001b[39m\u001b[38;5;124m\"\u001b[39m}\n\u001b[1;32m   2203\u001b[0m     skip \u001b[38;5;241m=\u001b[39m optional_kws \u001b[38;5;241m-\u001b[39m {\u001b[38;5;241m*\u001b[39minspect\u001b[38;5;241m.\u001b[39msignature(meth)\u001b[38;5;241m.\u001b[39mparameters}\n\u001b[0;32m-> 2204\u001b[0m     print_method \u001b[38;5;241m=\u001b[39m functools\u001b[38;5;241m.\u001b[39mwraps(meth)(\u001b[38;5;28;01mlambda\u001b[39;00m \u001b[38;5;241m*\u001b[39margs, \u001b[38;5;241m*\u001b[39m\u001b[38;5;241m*\u001b[39mkwargs: \u001b[43mmeth\u001b[49m\u001b[43m(\u001b[49m\n\u001b[1;32m   2205\u001b[0m \u001b[43m        \u001b[49m\u001b[38;5;241;43m*\u001b[39;49m\u001b[43margs\u001b[49m\u001b[43m,\u001b[49m\u001b[43m \u001b[49m\u001b[38;5;241;43m*\u001b[39;49m\u001b[38;5;241;43m*\u001b[39;49m\u001b[43m{\u001b[49m\u001b[43mk\u001b[49m\u001b[43m:\u001b[49m\u001b[43m \u001b[49m\u001b[43mv\u001b[49m\u001b[43m \u001b[49m\u001b[38;5;28;43;01mfor\u001b[39;49;00m\u001b[43m \u001b[49m\u001b[43mk\u001b[49m\u001b[43m,\u001b[49m\u001b[43m \u001b[49m\u001b[43mv\u001b[49m\u001b[43m \u001b[49m\u001b[38;5;129;43;01min\u001b[39;49;00m\u001b[43m \u001b[49m\u001b[43mkwargs\u001b[49m\u001b[38;5;241;43m.\u001b[39;49m\u001b[43mitems\u001b[49m\u001b[43m(\u001b[49m\u001b[43m)\u001b[49m\u001b[43m \u001b[49m\u001b[38;5;28;43;01mif\u001b[39;49;00m\u001b[43m \u001b[49m\u001b[43mk\u001b[49m\u001b[43m \u001b[49m\u001b[38;5;129;43;01mnot\u001b[39;49;00m\u001b[43m \u001b[49m\u001b[38;5;129;43;01min\u001b[39;49;00m\u001b[43m \u001b[49m\u001b[43mskip\u001b[49m\u001b[43m}\u001b[49m\u001b[43m)\u001b[49m)\n\u001b[1;32m   2206\u001b[0m \u001b[38;5;28;01melse\u001b[39;00m:  \u001b[38;5;66;03m# Let third-parties do as they see fit.\u001b[39;00m\n\u001b[1;32m   2207\u001b[0m     print_method \u001b[38;5;241m=\u001b[39m meth\n",
      "File \u001b[0;32m/usr/local/lib/python3.8/dist-packages/matplotlib/_api/deprecation.py:410\u001b[0m, in \u001b[0;36mdelete_parameter.<locals>.wrapper\u001b[0;34m(*inner_args, **inner_kwargs)\u001b[0m\n\u001b[1;32m    400\u001b[0m     deprecation_addendum \u001b[38;5;241m=\u001b[39m (\n\u001b[1;32m    401\u001b[0m         \u001b[38;5;124mf\u001b[39m\u001b[38;5;124m\"\u001b[39m\u001b[38;5;124mIf any parameter follows \u001b[39m\u001b[38;5;132;01m{\u001b[39;00mname\u001b[38;5;132;01m!r}\u001b[39;00m\u001b[38;5;124m, they should be passed as \u001b[39m\u001b[38;5;124m\"\u001b[39m\n\u001b[1;32m    402\u001b[0m         \u001b[38;5;124mf\u001b[39m\u001b[38;5;124m\"\u001b[39m\u001b[38;5;124mkeyword, not positionally.\u001b[39m\u001b[38;5;124m\"\u001b[39m)\n\u001b[1;32m    403\u001b[0m     warn_deprecated(\n\u001b[1;32m    404\u001b[0m         since,\n\u001b[1;32m    405\u001b[0m         name\u001b[38;5;241m=\u001b[39m\u001b[38;5;28mrepr\u001b[39m(name),\n\u001b[0;32m   (...)\u001b[0m\n\u001b[1;32m    408\u001b[0m                  \u001b[38;5;28;01melse\u001b[39;00m deprecation_addendum,\n\u001b[1;32m    409\u001b[0m         \u001b[38;5;241m*\u001b[39m\u001b[38;5;241m*\u001b[39mkwargs)\n\u001b[0;32m--> 410\u001b[0m \u001b[38;5;28;01mreturn\u001b[39;00m \u001b[43mfunc\u001b[49m\u001b[43m(\u001b[49m\u001b[38;5;241;43m*\u001b[39;49m\u001b[43minner_args\u001b[49m\u001b[43m,\u001b[49m\u001b[43m \u001b[49m\u001b[38;5;241;43m*\u001b[39;49m\u001b[38;5;241;43m*\u001b[39;49m\u001b[43minner_kwargs\u001b[49m\u001b[43m)\u001b[49m\n",
      "File \u001b[0;32m/usr/local/lib/python3.8/dist-packages/matplotlib/backends/backend_agg.py:517\u001b[0m, in \u001b[0;36mFigureCanvasAgg.print_png\u001b[0;34m(self, filename_or_obj, metadata, pil_kwargs, *args)\u001b[0m\n\u001b[1;32m    468\u001b[0m \u001b[38;5;129m@_api\u001b[39m\u001b[38;5;241m.\u001b[39mdelete_parameter(\u001b[38;5;124m\"\u001b[39m\u001b[38;5;124m3.5\u001b[39m\u001b[38;5;124m\"\u001b[39m, \u001b[38;5;124m\"\u001b[39m\u001b[38;5;124margs\u001b[39m\u001b[38;5;124m\"\u001b[39m)\n\u001b[1;32m    469\u001b[0m \u001b[38;5;28;01mdef\u001b[39;00m \u001b[38;5;21mprint_png\u001b[39m(\u001b[38;5;28mself\u001b[39m, filename_or_obj, \u001b[38;5;241m*\u001b[39margs,\n\u001b[1;32m    470\u001b[0m               metadata\u001b[38;5;241m=\u001b[39m\u001b[38;5;28;01mNone\u001b[39;00m, pil_kwargs\u001b[38;5;241m=\u001b[39m\u001b[38;5;28;01mNone\u001b[39;00m):\n\u001b[1;32m    471\u001b[0m     \u001b[38;5;124;03m\"\"\"\u001b[39;00m\n\u001b[1;32m    472\u001b[0m \u001b[38;5;124;03m    Write the figure to a PNG file.\u001b[39;00m\n\u001b[1;32m    473\u001b[0m \n\u001b[0;32m   (...)\u001b[0m\n\u001b[1;32m    515\u001b[0m \u001b[38;5;124;03m        *metadata*, including the default 'Software' key.\u001b[39;00m\n\u001b[1;32m    516\u001b[0m \u001b[38;5;124;03m    \"\"\"\u001b[39;00m\n\u001b[0;32m--> 517\u001b[0m     \u001b[38;5;28;43mself\u001b[39;49m\u001b[38;5;241;43m.\u001b[39;49m\u001b[43m_print_pil\u001b[49m\u001b[43m(\u001b[49m\u001b[43mfilename_or_obj\u001b[49m\u001b[43m,\u001b[49m\u001b[43m \u001b[49m\u001b[38;5;124;43m\"\u001b[39;49m\u001b[38;5;124;43mpng\u001b[39;49m\u001b[38;5;124;43m\"\u001b[39;49m\u001b[43m,\u001b[49m\u001b[43m \u001b[49m\u001b[43mpil_kwargs\u001b[49m\u001b[43m,\u001b[49m\u001b[43m \u001b[49m\u001b[43mmetadata\u001b[49m\u001b[43m)\u001b[49m\n",
      "File \u001b[0;32m/usr/local/lib/python3.8/dist-packages/matplotlib/backends/backend_agg.py:464\u001b[0m, in \u001b[0;36mFigureCanvasAgg._print_pil\u001b[0;34m(self, filename_or_obj, fmt, pil_kwargs, metadata)\u001b[0m\n\u001b[1;32m    459\u001b[0m \u001b[38;5;124;03m\"\"\"\u001b[39;00m\n\u001b[1;32m    460\u001b[0m \u001b[38;5;124;03mDraw the canvas, then save it using `.image.imsave` (to which\u001b[39;00m\n\u001b[1;32m    461\u001b[0m \u001b[38;5;124;03m*pil_kwargs* and *metadata* are forwarded).\u001b[39;00m\n\u001b[1;32m    462\u001b[0m \u001b[38;5;124;03m\"\"\"\u001b[39;00m\n\u001b[1;32m    463\u001b[0m FigureCanvasAgg\u001b[38;5;241m.\u001b[39mdraw(\u001b[38;5;28mself\u001b[39m)\n\u001b[0;32m--> 464\u001b[0m \u001b[43mmpl\u001b[49m\u001b[38;5;241;43m.\u001b[39;49m\u001b[43mimage\u001b[49m\u001b[38;5;241;43m.\u001b[39;49m\u001b[43mimsave\u001b[49m\u001b[43m(\u001b[49m\n\u001b[1;32m    465\u001b[0m \u001b[43m    \u001b[49m\u001b[43mfilename_or_obj\u001b[49m\u001b[43m,\u001b[49m\u001b[43m \u001b[49m\u001b[38;5;28;43mself\u001b[39;49m\u001b[38;5;241;43m.\u001b[39;49m\u001b[43mbuffer_rgba\u001b[49m\u001b[43m(\u001b[49m\u001b[43m)\u001b[49m\u001b[43m,\u001b[49m\u001b[43m \u001b[49m\u001b[38;5;28;43mformat\u001b[39;49m\u001b[38;5;241;43m=\u001b[39;49m\u001b[43mfmt\u001b[49m\u001b[43m,\u001b[49m\u001b[43m \u001b[49m\u001b[43morigin\u001b[49m\u001b[38;5;241;43m=\u001b[39;49m\u001b[38;5;124;43m\"\u001b[39;49m\u001b[38;5;124;43mupper\u001b[39;49m\u001b[38;5;124;43m\"\u001b[39;49m\u001b[43m,\u001b[49m\n\u001b[1;32m    466\u001b[0m \u001b[43m    \u001b[49m\u001b[43mdpi\u001b[49m\u001b[38;5;241;43m=\u001b[39;49m\u001b[38;5;28;43mself\u001b[39;49m\u001b[38;5;241;43m.\u001b[39;49m\u001b[43mfigure\u001b[49m\u001b[38;5;241;43m.\u001b[39;49m\u001b[43mdpi\u001b[49m\u001b[43m,\u001b[49m\u001b[43m \u001b[49m\u001b[43mmetadata\u001b[49m\u001b[38;5;241;43m=\u001b[39;49m\u001b[43mmetadata\u001b[49m\u001b[43m,\u001b[49m\u001b[43m \u001b[49m\u001b[43mpil_kwargs\u001b[49m\u001b[38;5;241;43m=\u001b[39;49m\u001b[43mpil_kwargs\u001b[49m\u001b[43m)\u001b[49m\n",
      "File \u001b[0;32m/usr/local/lib/python3.8/dist-packages/matplotlib/image.py:1664\u001b[0m, in \u001b[0;36mimsave\u001b[0;34m(fname, arr, vmin, vmax, cmap, format, origin, dpi, metadata, pil_kwargs)\u001b[0m\n\u001b[1;32m   1662\u001b[0m pil_kwargs\u001b[38;5;241m.\u001b[39msetdefault(\u001b[38;5;124m\"\u001b[39m\u001b[38;5;124mformat\u001b[39m\u001b[38;5;124m\"\u001b[39m, \u001b[38;5;28mformat\u001b[39m)\n\u001b[1;32m   1663\u001b[0m pil_kwargs\u001b[38;5;241m.\u001b[39msetdefault(\u001b[38;5;124m\"\u001b[39m\u001b[38;5;124mdpi\u001b[39m\u001b[38;5;124m\"\u001b[39m, (dpi, dpi))\n\u001b[0;32m-> 1664\u001b[0m \u001b[43mimage\u001b[49m\u001b[38;5;241;43m.\u001b[39;49m\u001b[43msave\u001b[49m\u001b[43m(\u001b[49m\u001b[43mfname\u001b[49m\u001b[43m,\u001b[49m\u001b[43m \u001b[49m\u001b[38;5;241;43m*\u001b[39;49m\u001b[38;5;241;43m*\u001b[39;49m\u001b[43mpil_kwargs\u001b[49m\u001b[43m)\u001b[49m\n",
      "File \u001b[0;32m/usr/local/lib/python3.8/dist-packages/PIL/Image.py:2317\u001b[0m, in \u001b[0;36mImage.save\u001b[0;34m(self, fp, format, **params)\u001b[0m\n\u001b[1;32m   2315\u001b[0m         fp \u001b[38;5;241m=\u001b[39m builtins\u001b[38;5;241m.\u001b[39mopen(filename, \u001b[38;5;124m\"\u001b[39m\u001b[38;5;124mr+b\u001b[39m\u001b[38;5;124m\"\u001b[39m)\n\u001b[1;32m   2316\u001b[0m     \u001b[38;5;28;01melse\u001b[39;00m:\n\u001b[0;32m-> 2317\u001b[0m         fp \u001b[38;5;241m=\u001b[39m \u001b[43mbuiltins\u001b[49m\u001b[38;5;241;43m.\u001b[39;49m\u001b[43mopen\u001b[49m\u001b[43m(\u001b[49m\u001b[43mfilename\u001b[49m\u001b[43m,\u001b[49m\u001b[43m \u001b[49m\u001b[38;5;124;43m\"\u001b[39;49m\u001b[38;5;124;43mw+b\u001b[39;49m\u001b[38;5;124;43m\"\u001b[39;49m\u001b[43m)\u001b[49m\n\u001b[1;32m   2319\u001b[0m \u001b[38;5;28;01mtry\u001b[39;00m:\n\u001b[1;32m   2320\u001b[0m     save_handler(\u001b[38;5;28mself\u001b[39m, fp, filename)\n",
      "\u001b[0;31mFileNotFoundError\u001b[0m: [Errno 2] No such file or directory: '/home/javier/Projects/CaloQVAE/figs/lucky-voice-33/RBM_energy_lucky-voice-33_GumBoltAtlasPRBMCNN_reduced_electron-ds2.png'"
     ]
    },
    {
     "data": {
      "image/png": "[encoded data removed]",
      "text/plain": [
       "<Figure size 640x480 with 1 Axes>"
      ]
     },
     "metadata": {},
     "output_type": "display_data"
    }
   ],
   "source": [
    "plt.hist(energy_encoded_data.numpy(), bins=70, linewidth=2.5, color=\"b\", density=True)\n",
    "plt.hist(energy_rbm_data.numpy(), bins=20, linewidth=2.5, color=\"cyan\", density=True, fc=(1, 0, 1, 0.5))\n",
    "plt.hist(energy_rbm_rdm_data.numpy(), bins=20, linewidth=2.5, color=\"cyan\", density=True, fc=(0.5, 1.0, 0.5, 0.8))\n",
    "plt.hist(energy_encoded_data_rdm.numpy(), bins=70, linewidth=2.5, color=\"r\", density=True)\n",
    "\n",
    "plt.xlabel(\"Energy\")\n",
    "plt.ylabel(\"PDF\")\n",
    "plt.legend([\"Trained Encoded Data\", \"Trained RBM\", \"Init RBM\", \"Init Encoded Data\"])\n",
    "# plt.title(f'ln(Z)[AIS] = {np.round(Zais)}, ln(Z)[RAIS] = {np.round(Zrais)}')\n",
    "plt.title(f'LL(trained) = {np.round(-energy_encoded_data.mean() - lnZais)}, LL(Rdm) = {np.round(-energy_encoded_data_rdm.mean() - lnZrais_rdm)} \\n \\\n",
    "        LL(trained RBM data) = {np.round(-energy_rbm_data.mean() - lnZais)}, LL(Rdm RBM data) = {np.round(-energy_rbm_rdm_data.mean() - lnZrais_rdm)}')\n",
    "plt.grid(\"True\")\n",
    "plt.savefig(f'/home/javier/Projects/CaloQVAE/figs/{modelname}/RBM_energy_{modelname}_{arch}_{datascaled}_{part}.png')\n",
    "plt.show()"
   ]
  },
  {
   "cell_type": "code",
   "execution_count": 46,
   "id": "e1aa77c3",
   "metadata": {
    "tags": []
   },
   "outputs": [
    {
     "data": {
      "image/png": "[encoded data removed]",
      "text/plain": [
       "<Figure size 640x480 with 1 Axes>"
      ]
     },
     "metadata": {},
     "output_type": "display_data"
    }
   ],
   "source": [
    "plt.hist(energy_encoded_data.numpy(), bins=70, linewidth=2.5, color=\"b\", density=True)\n",
    "plt.hist(energy_rbm_data.numpy(), bins=20, linewidth=2.5, color=\"cyan\", density=True, fc=(1, 0, 1, 0.5))\n",
    "# plt.hist(energy_rbm_rdm_data.numpy(), bins=20, linewidth=2.5, color=\"cyan\", density=True, fc=(0.5, 1.0, 0.5, 0.8))\n",
    "# plt.hist(energy_encoded_data_rdm.numpy(), bins=70, linewidth=2.5, color=\"r\", density=True)\n",
    "\n",
    "plt.xlabel(\"Energy\")\n",
    "plt.ylabel(\"PDF\")\n",
    "plt.legend([\"Encoded data\", \"Gibbs sampled data\", \"Init RBM\", \"Init Encoded Data\"])\n",
    "# plt.title(f'ln(Z)[AIS] = {np.round(Zais)}, ln(Z)[RAIS] = {np.round(Zrais)}')\n",
    "# plt.title(f'LL(trained) = {np.round(-energy_encoded_data.mean() - lnZais)}, LL(Rdm) = {np.round(-energy_encoded_data_rdm.mean() - lnZrais_rdm)} \\n \\\n",
    "        # LL(trained RBM data) = {np.round(-energy_rbm_data.mean() - lnZais)}, LL(Rdm RBM data) = {np.round(-energy_rbm_rdm_data.mean() - lnZrais_rdm)}')\n",
    "plt.grid(\"True\")\n",
    "# plt.savefig(f'/home/javier/Projects/CaloQVAE/figs/{modelname}/RBM_energy_2_{modelname}_{arch}_{datascaled}_{part}.png')\n",
    "plt.show()"
   ]
  },
  {
   "cell_type": "code",
   "execution_count": 47,
   "id": "4b6c401b",
   "metadata": {
    "tags": []
   },
   "outputs": [],
   "source": [
    "# Sparsity and Energy"
   ]
  },
  {
   "cell_type": "code",
   "execution_count": 48,
   "id": "592b3b0d",
   "metadata": {
    "tags": []
   },
   "outputs": [
    {
     "name": "stdout",
     "output_type": "stream",
     "text": [
      "torch.Size([128, 6480])\n",
      "torch.Size([128, 6480])\n",
      "torch.Size([128, 6480])\n",
      "torch.Size([128, 6480])\n",
      "torch.Size([128, 6480])\n",
      "torch.Size([128, 6480])\n",
      "torch.Size([128, 6480])\n",
      "torch.Size([128, 6480])\n",
      "torch.Size([128, 6480])\n",
      "torch.Size([128, 6480])\n",
      "torch.Size([128, 6480])\n",
      "torch.Size([128, 6480])\n",
      "torch.Size([128, 6480])\n",
      "torch.Size([128, 6480])\n",
      "torch.Size([128, 6480])\n",
      "torch.Size([128, 6480])\n",
      "torch.Size([128, 6480])\n",
      "torch.Size([128, 6480])\n",
      "torch.Size([128, 6480])\n",
      "torch.Size([128, 6480])\n",
      "torch.Size([128, 6480])\n",
      "torch.Size([128, 6480])\n",
      "torch.Size([128, 6480])\n",
      "torch.Size([128, 6480])\n",
      "torch.Size([128, 6480])\n",
      "torch.Size([128, 6480])\n",
      "torch.Size([128, 6480])\n",
      "torch.Size([128, 6480])\n",
      "torch.Size([128, 6480])\n",
      "torch.Size([128, 6480])\n",
      "torch.Size([128, 6480])\n",
      "torch.Size([128, 6480])\n",
      "torch.Size([128, 6480])\n",
      "torch.Size([128, 6480])\n",
      "torch.Size([128, 6480])\n",
      "torch.Size([128, 6480])\n",
      "torch.Size([128, 6480])\n",
      "torch.Size([128, 6480])\n",
      "torch.Size([128, 6480])\n",
      "torch.Size([128, 6480])\n",
      "torch.Size([128, 6480])\n",
      "torch.Size([128, 6480])\n",
      "torch.Size([128, 6480])\n",
      "torch.Size([128, 6480])\n",
      "torch.Size([128, 6480])\n",
      "torch.Size([128, 6480])\n",
      "torch.Size([128, 6480])\n",
      "torch.Size([128, 6480])\n",
      "torch.Size([128, 6480])\n",
      "torch.Size([128, 6480])\n",
      "torch.Size([128, 6480])\n",
      "torch.Size([128, 6480])\n",
      "torch.Size([128, 6480])\n",
      "torch.Size([128, 6480])\n",
      "torch.Size([128, 6480])\n",
      "torch.Size([128, 6480])\n",
      "torch.Size([128, 6480])\n",
      "torch.Size([128, 6480])\n",
      "torch.Size([128, 6480])\n",
      "torch.Size([128, 6480])\n",
      "torch.Size([128, 6480])\n",
      "torch.Size([128, 6480])\n",
      "torch.Size([128, 6480])\n",
      "torch.Size([128, 6480])\n",
      "torch.Size([128, 6480])\n",
      "torch.Size([128, 6480])\n",
      "torch.Size([128, 6480])\n",
      "torch.Size([128, 6480])\n",
      "torch.Size([128, 6480])\n",
      "torch.Size([128, 6480])\n",
      "torch.Size([128, 6480])\n",
      "torch.Size([128, 6480])\n",
      "torch.Size([128, 6480])\n",
      "torch.Size([128, 6480])\n",
      "torch.Size([128, 6480])\n",
      "torch.Size([128, 6480])\n",
      "torch.Size([128, 6480])\n",
      "torch.Size([128, 6480])\n",
      "torch.Size([16, 6480])\n"
     ]
    }
   ],
   "source": [
    "# en_labels = []\n",
    "\n",
    "xtarget_samples = []\n",
    "xrecon_samples = []\n",
    "xgen_samples = []\n",
    "xgen_samples_qpu = []\n",
    "\n",
    "# labelstarget_samples = []\n",
    "# labelsrecon_samples = []\n",
    "entarget_samples = []\n",
    "with torch.no_grad():\n",
    "    for xx in val_loader:\n",
    "    # for xx in train_loader:\n",
    "        in_data, true_energy, in_data_flat = engine._preprocess(xx[0],xx[1])\n",
    "        print(in_data.shape)\n",
    "        if reducedata:\n",
    "            in_data = engine._reduce(in_data, true_energy, R=R)\n",
    "        fwd_output = engine.model((in_data, true_energy), False)\n",
    "        if reducedata:\n",
    "            in_data = engine._reduceinv(in_data, true_energy, R=R)\n",
    "            recon_data = engine._reduceinv(fwd_output.output_activations, true_energy, R=R)\n",
    "            engine._model.sampler._batch_size = true_energy.shape[0]\n",
    "            sample_energies, sample_data = engine._model.generate_samples(num_samples=true_energy.shape[0], true_energy=true_energy)\n",
    "            engine._model.sampler._batch_size = engine._config.engine.rbm_batch_size\n",
    "            sample_data = engine._reduceinv(sample_data, sample_energies, R=R)\n",
    "        elif scaled:\n",
    "            in_data = torch.tensor(engine._data_mgr.inv_transform(in_data.detach().cpu().numpy()))\n",
    "            recon_data = torch.tensor(engine._data_mgr.inv_transform(fwd_output.output_activations.detach().cpu().numpy()))\n",
    "            engine._model.sampler._batch_size = true_energy.shape[0]\n",
    "            sample_energies, sample_data = engine._model.generate_samples(num_samples=true_energy.shape[0], true_energy=true_energy, measure_time=True)\n",
    "            # sample_energies_qpu, sample_data_qpu = engine._model.generate_samples_qpu(num_samples=true_energy.shape[0], true_energy=true_energy, measure_time=True, beta=1/beta)\n",
    "            engine._model.sampler._batch_size = engine._config.engine.rbm_batch_size\n",
    "            sample_data = torch.tensor(engine._data_mgr.inv_transform(sample_data.detach().cpu().numpy()))\n",
    "            # sample_data_qpu = torch.tensor(engine._data_mgr.inv_transform(sample_data_qpu.detach().cpu().numpy()))\n",
    "        else:\n",
    "            in_data = in_data.detach().cpu()*1000\n",
    "            recon_data = fwd_output.output_activations.detach().cpu()*1000\n",
    "            engine._model.sampler._batch_size = true_energy.shape[0]\n",
    "            sample_energies, sample_data = engine._model.generate_samples(num_samples=true_energy.shape[0], true_energy=true_energy)\n",
    "            engine._model.sampler._batch_size = engine._config.engine.rbm_batch_size\n",
    "            # sample_energies, sample_data = engine._model.generate_samples(num_samples=2048)\n",
    "            sample_data = sample_data.detach().cpu()*1000\n",
    "\n",
    "        # xrecon_samples.append( torch.tensor(engine._data_mgr.inv_transform(fwd_output.output_activations.detach().cpu().numpy())) )\n",
    "    #     if engine._config.engine.cl_lambda:\n",
    "    #         labelsrecon_samples.append(fwd_output.labels.detach().cpu())\n",
    "    #         labelstarget_samples.append( nn.functional.one_hot(true_energy.divide(256).log2().to(torch.int64), num_classes=15).squeeze(1).to(torch.float).detach().cpu() )\n",
    "\n",
    "    #         en_labels.append(true_energy.detach().cpu())\n",
    "\n",
    "        xtarget_samples.append(in_data.detach().cpu())\n",
    "        xrecon_samples.append( recon_data.detach().cpu())\n",
    "        xgen_samples.append( sample_data.detach().cpu())\n",
    "        # xgen_samples_qpu.append( sample_data_qpu.detach().cpu())\n",
    "        entarget_samples.append(true_energy.detach().cpu())\n",
    "\n",
    "        # xtarget_samples.append( torch.tensor(engine._data_mgr.inv_transform(xx[0][0].detach().cpu().numpy())) )\n",
    "    \n",
    "    \n",
    "xtarget_samples = torch.cat(xtarget_samples, dim=0)\n",
    "xrecon_samples = torch.cat(xrecon_samples, dim=0)\n",
    "xgen_samples = torch.cat(xgen_samples, dim=0)\n",
    "# xgen_samples_qpu = torch.cat(xgen_samples_qpu, dim=0)\n",
    "entarget_samples = torch.cat(entarget_samples, dim=0)\n",
    "\n",
    "# if engine._config.engine.cl_lambda:\n",
    "#     labelstarget_samples = torch.cat(labelstarget_samples, dim=0)\n",
    "#     labelsrecon_samples = torch.cat(labelsrecon_samples, dim=0)\n",
    "#     en_labels = torch.cat(en_labels, dim=0)\n",
    "\n",
    "#     lhat = torch.argmax(nn.Sigmoid()(labelsrecon_samples), dim=1).numpy()\n",
    "#     l = torch.argmax(labelstarget_samples, dim=1).numpy()\n"
   ]
  },
  {
   "cell_type": "code",
   "execution_count": 49,
   "id": "7e61bcfd",
   "metadata": {
    "tags": []
   },
   "outputs": [
    {
     "data": {
      "text/plain": [
       "tensor(207)"
      ]
     },
     "execution_count": 49,
     "metadata": {},
     "output_type": "execute_result"
    }
   ],
   "source": [
    "(xgen_samples.sum(dim=0) == 0).sum()\n",
    "(xrecon_samples.sum(dim=0) == 0).sum()\n",
    "# (xtarget_samples.sum(dim=0) == 0).sum()\n",
    "# print((xgen_samples.sum(dim=0) == 0).nonzero(as_tuple=True))\n",
    "# print((xrecon_samples.sum(dim=0) == 0).nonzero(as_tuple=True))"
   ]
  },
  {
   "cell_type": "code",
   "execution_count": null,
   "id": "bca6485d",
   "metadata": {
    "tags": []
   },
   "outputs": [],
   "source": [
    "# 0.196888*9 + 0.154475\n",
    "# 1.926467*100/60\n",
    "# for xx in val_loader:\n",
    "# for i,xx in enumerate(train_loader):\n",
    "#     in_data, true_energy, in_data_flat = engine._preprocess(xx[0],xx[1])\n",
    "#     print(i,in_data.shape)\n",
    "# 0.061171*625\n",
    "# 38.231875*100/60"
   ]
  },
  {
   "cell_type": "code",
   "execution_count": 50,
   "id": "e693babc",
   "metadata": {
    "tags": []
   },
   "outputs": [
    {
     "ename": "IndexError",
     "evalue": "list index out of range",
     "output_type": "error",
     "traceback": [
      "\u001b[0;31m---------------------------------------------------------------------------\u001b[0m",
      "\u001b[0;31mIndexError\u001b[0m                                Traceback (most recent call last)",
      "Cell \u001b[0;32mIn[50], line 1\u001b[0m\n\u001b[0;32m----> 1\u001b[0m \u001b[38;5;28mprint\u001b[39m(\u001b[38;5;124m\"\u001b[39m\u001b[38;5;124mmean qpu time\u001b[39m\u001b[38;5;124m\"\u001b[39m, np\u001b[38;5;241m.\u001b[39mmean([engine\u001b[38;5;241m.\u001b[39m_model\u001b[38;5;241m.\u001b[39msampling_time_qpu[i][\u001b[38;5;241m0\u001b[39m] \u001b[38;5;28;01mfor\u001b[39;00m i \u001b[38;5;129;01min\u001b[39;00m \u001b[38;5;28mrange\u001b[39m(\u001b[38;5;241m9\u001b[39m)]), np\u001b[38;5;241m.\u001b[39mstd([engine\u001b[38;5;241m.\u001b[39m_model\u001b[38;5;241m.\u001b[39msampling_time_qpu[i][\u001b[38;5;241m0\u001b[39m] \u001b[38;5;28;01mfor\u001b[39;00m i \u001b[38;5;129;01min\u001b[39;00m \u001b[38;5;28mrange\u001b[39m(\u001b[38;5;241m9\u001b[39m)]))\n\u001b[1;32m      2\u001b[0m \u001b[38;5;28mprint\u001b[39m(\u001b[38;5;124m\"\u001b[39m\u001b[38;5;124mmean gpu time\u001b[39m\u001b[38;5;124m\"\u001b[39m, np\u001b[38;5;241m.\u001b[39mmean([engine\u001b[38;5;241m.\u001b[39m_model\u001b[38;5;241m.\u001b[39msampling_time_gpu[i][\u001b[38;5;241m0\u001b[39m] \u001b[38;5;28;01mfor\u001b[39;00m i \u001b[38;5;129;01min\u001b[39;00m \u001b[38;5;28mrange\u001b[39m(\u001b[38;5;241m9\u001b[39m)]), np\u001b[38;5;241m.\u001b[39mstd([engine\u001b[38;5;241m.\u001b[39m_model\u001b[38;5;241m.\u001b[39msampling_time_gpu[i][\u001b[38;5;241m0\u001b[39m] \u001b[38;5;28;01mfor\u001b[39;00m i \u001b[38;5;129;01min\u001b[39;00m \u001b[38;5;28mrange\u001b[39m(\u001b[38;5;241m9\u001b[39m)]))\n\u001b[1;32m      3\u001b[0m \u001b[38;5;28mprint\u001b[39m(\u001b[38;5;124m\"\u001b[39m\u001b[38;5;124mmean gpu time/mean qpu time\u001b[39m\u001b[38;5;124m\"\u001b[39m, np\u001b[38;5;241m.\u001b[39mmean([engine\u001b[38;5;241m.\u001b[39m_model\u001b[38;5;241m.\u001b[39msampling_time_gpu[i][\u001b[38;5;241m0\u001b[39m] \u001b[38;5;28;01mfor\u001b[39;00m i \u001b[38;5;129;01min\u001b[39;00m \u001b[38;5;28mrange\u001b[39m(\u001b[38;5;241m9\u001b[39m)])\u001b[38;5;241m/\u001b[39mnp\u001b[38;5;241m.\u001b[39mmean([engine\u001b[38;5;241m.\u001b[39m_model\u001b[38;5;241m.\u001b[39msampling_time_qpu[i][\u001b[38;5;241m0\u001b[39m] \u001b[38;5;28;01mfor\u001b[39;00m i \u001b[38;5;129;01min\u001b[39;00m \u001b[38;5;28mrange\u001b[39m(\u001b[38;5;241m9\u001b[39m)]))\n",
      "Cell \u001b[0;32mIn[50], line 1\u001b[0m, in \u001b[0;36m<listcomp>\u001b[0;34m(.0)\u001b[0m\n\u001b[0;32m----> 1\u001b[0m \u001b[38;5;28mprint\u001b[39m(\u001b[38;5;124m\"\u001b[39m\u001b[38;5;124mmean qpu time\u001b[39m\u001b[38;5;124m\"\u001b[39m, np\u001b[38;5;241m.\u001b[39mmean([engine\u001b[38;5;241m.\u001b[39m_model\u001b[38;5;241m.\u001b[39msampling_time_qpu[i][\u001b[38;5;241m0\u001b[39m] \u001b[38;5;28;01mfor\u001b[39;00m i \u001b[38;5;129;01min\u001b[39;00m \u001b[38;5;28mrange\u001b[39m(\u001b[38;5;241m9\u001b[39m)]), np\u001b[38;5;241m.\u001b[39mstd([engine\u001b[38;5;241m.\u001b[39m_model\u001b[38;5;241m.\u001b[39msampling_time_qpu[i][\u001b[38;5;241m0\u001b[39m] \u001b[38;5;28;01mfor\u001b[39;00m i \u001b[38;5;129;01min\u001b[39;00m \u001b[38;5;28mrange\u001b[39m(\u001b[38;5;241m9\u001b[39m)]))\n\u001b[1;32m      2\u001b[0m \u001b[38;5;28mprint\u001b[39m(\u001b[38;5;124m\"\u001b[39m\u001b[38;5;124mmean gpu time\u001b[39m\u001b[38;5;124m\"\u001b[39m, np\u001b[38;5;241m.\u001b[39mmean([engine\u001b[38;5;241m.\u001b[39m_model\u001b[38;5;241m.\u001b[39msampling_time_gpu[i][\u001b[38;5;241m0\u001b[39m] \u001b[38;5;28;01mfor\u001b[39;00m i \u001b[38;5;129;01min\u001b[39;00m \u001b[38;5;28mrange\u001b[39m(\u001b[38;5;241m9\u001b[39m)]), np\u001b[38;5;241m.\u001b[39mstd([engine\u001b[38;5;241m.\u001b[39m_model\u001b[38;5;241m.\u001b[39msampling_time_gpu[i][\u001b[38;5;241m0\u001b[39m] \u001b[38;5;28;01mfor\u001b[39;00m i \u001b[38;5;129;01min\u001b[39;00m \u001b[38;5;28mrange\u001b[39m(\u001b[38;5;241m9\u001b[39m)]))\n\u001b[1;32m      3\u001b[0m \u001b[38;5;28mprint\u001b[39m(\u001b[38;5;124m\"\u001b[39m\u001b[38;5;124mmean gpu time/mean qpu time\u001b[39m\u001b[38;5;124m\"\u001b[39m, np\u001b[38;5;241m.\u001b[39mmean([engine\u001b[38;5;241m.\u001b[39m_model\u001b[38;5;241m.\u001b[39msampling_time_gpu[i][\u001b[38;5;241m0\u001b[39m] \u001b[38;5;28;01mfor\u001b[39;00m i \u001b[38;5;129;01min\u001b[39;00m \u001b[38;5;28mrange\u001b[39m(\u001b[38;5;241m9\u001b[39m)])\u001b[38;5;241m/\u001b[39mnp\u001b[38;5;241m.\u001b[39mmean([engine\u001b[38;5;241m.\u001b[39m_model\u001b[38;5;241m.\u001b[39msampling_time_qpu[i][\u001b[38;5;241m0\u001b[39m] \u001b[38;5;28;01mfor\u001b[39;00m i \u001b[38;5;129;01min\u001b[39;00m \u001b[38;5;28mrange\u001b[39m(\u001b[38;5;241m9\u001b[39m)]))\n",
      "\u001b[0;31mIndexError\u001b[0m: list index out of range"
     ]
    }
   ],
   "source": [
    "print(\"mean qpu time\", np.mean([engine._model.sampling_time_qpu[i][0] for i in range(9)]), np.std([engine._model.sampling_time_qpu[i][0] for i in range(9)]))\n",
    "print(\"mean gpu time\", np.mean([engine._model.sampling_time_gpu[i][0] for i in range(9)]), np.std([engine._model.sampling_time_gpu[i][0] for i in range(9)]))\n",
    "print(\"mean gpu time/mean qpu time\", np.mean([engine._model.sampling_time_gpu[i][0] for i in range(9)])/np.mean([engine._model.sampling_time_qpu[i][0] for i in range(9)]))\n"
   ]
  },
  {
   "cell_type": "code",
   "execution_count": 51,
   "id": "8ef6a747",
   "metadata": {
    "tags": []
   },
   "outputs": [],
   "source": [
    "engen_samples2 = []\n",
    "xgen_samples2 = []\n",
    "with torch.no_grad():\n",
    "    for xx in train_loader:\n",
    "        if reducedata:\n",
    "            engine._model.sampler._batch_size = true_energy.shape[0]\n",
    "            sample_energies, sample_data = engine._model.generate_samples(num_samples=true_energy.shape[0], true_energy=true_energy)\n",
    "            engine._model.sampler._batch_size = engine._config.engine.rbm_batch_size\n",
    "            sample_data = engine._reduceinv(sample_data, sample_energies, R=R)\n",
    "        elif scaled:\n",
    "            engine._model.sampler._batch_size = true_energy.shape[0]\n",
    "            sample_energies, sample_data = engine._model.generate_samples(num_samples=true_energy.shape[0], true_energy=true_energy, measure_time=True)\n",
    "            engine._model.sampler._batch_size = engine._config.engine.rbm_batch_size\n",
    "            sample_data = torch.tensor(engine._data_mgr.inv_transform(sample_data.detach().cpu().numpy()))\n",
    "        else:\n",
    "            engine._model.sampler._batch_size = true_energy.shape[0]\n",
    "            sample_energies, sample_data = engine._model.generate_samples(num_samples=true_energy.shape[0], true_energy=true_energy)\n",
    "            engine._model.sampler._batch_size = engine._config.engine.rbm_batch_size\n",
    "            sample_data = sample_data.detach().cpu()*1000\n",
    "\n",
    "        xgen_samples2.append( sample_data.detach().cpu())\n",
    "        engen_samples2.append(true_energy.detach().cpu())\n",
    "\n",
    "xgen_samples2 = torch.cat(xgen_samples2, dim=0)\n",
    "engen_samples2 = torch.cat(engen_samples2, dim=0)"
   ]
  },
  {
   "cell_type": "code",
   "execution_count": 55,
   "id": "cbb12c19",
   "metadata": {},
   "outputs": [
    {
     "name": "stdout",
     "output_type": "stream",
     "text": [
      "The last existing path before '/raid/javier/Datasets/CaloVAE/data/synData/dataset2_synthetic_lucky-voice-33.hdf5' is '/'.\n"
     ]
    }
   ],
   "source": [
    "import os\n",
    "\n",
    "def find_last_existing_path(path):\n",
    "    while not os.path.exists(path):\n",
    "        path = os.path.dirname(path)\n",
    "        if path == '':\n",
    "            return None  # Reached the root directory without finding an existing path\n",
    "    return path\n",
    "\n",
    "path_to_check = '/raid/javier/Datasets/CaloVAE/data/synData/dataset2_synthetic_lucky-voice-33.hdf5'\n",
    "if os.path.exists(path_to_check):\n",
    "    print(f\"The path '{path_to_check}' exists.\")\n",
    "else:\n",
    "    last_existing_path = find_last_existing_path(path_to_check)\n",
    "    if last_existing_path:\n",
    "        print(f\"The last existing path before '{path_to_check}' is '{last_existing_path}'.\")\n",
    "    else:\n",
    "        print(\"No existing path found.\")"
   ]
  },
  {
   "cell_type": "code",
   "execution_count": 56,
   "id": "dd993d00",
   "metadata": {},
   "outputs": [],
   "source": [
    "# import torch\n",
    "import h5py\n",
    "\n",
    "# Convert tensors to numpy arrays as h5py does not support PyTorch tensors directly\n",
    "tensor1_np = xgen_samples2[:100000,:].numpy()\n",
    "tensor2_np = engen_samples2[:100000,:].numpy()\n",
    "\n",
    "# Create a new HDF5 file\n",
    "with h5py.File(f'/home/dsogutlu/temp/CaloQVAE/figs/dataset2_synthetic_lucky-voice-33.hdf5', 'w') as f:\n",
    "    # Create datasets for your tensors\n",
    "    f.create_dataset('showers', data=tensor1_np)\n",
    "    f.create_dataset('incidence energy', data=tensor2_np)"
   ]
  },
  {
   "cell_type": "code",
   "execution_count": null,
   "id": "05fd698a",
   "metadata": {
    "tags": []
   },
   "outputs": [],
   "source": [
    "plt.hist(((xtarget_samples == 0).sum(dim=1)/xtarget_samples.shape[1]).numpy(), bins=20, log=True, histtype='step', linewidth=2.5, color=\"b\")\n",
    "plt.hist(((xrecon_samples == 0).sum(dim=1)/xtarget_samples.shape[1]).numpy(), bins=20, log=True, histtype='step', linewidth=2.5, color=\"m\", linestyle=\"dashdot\")\n",
    "plt.hist(((xgen_samples == 0).sum(dim=1)/xtarget_samples.shape[1]).numpy(), bins=20, log=True, histtype='step', linewidth=2.5, color=\"orange\", linestyle=\"dashed\")\n",
    "# plt.hist(((xgen_samples_qpu == 0).sum(dim=1)/xtarget_samples.shape[1]).numpy(), bins=20, log=True, histtype='step', linewidth=2.5, color=\"green\", linestyle=\"dashed\")\n",
    "plt.xlabel(\"Sparsity Index\")\n",
    "plt.ylabel(\"Histogram\")\n",
    "plt.legend([\"GT\", \"Recon\", \"Samples\", \"Sample /w QPU\"])\n",
    "plt.title(f'{ds[part]}')\n",
    "plt.grid(\"True\")\n",
    "plt.savefig(f'/home/dsogutlu/temp/CaloQVAE/figs/{modelname}/sparsity_{modelname}_{arch}_{datascaled}_{part}.png')\n",
    "plt.show()"
   ]
  },
  {
   "cell_type": "code",
   "execution_count": null,
   "id": "fd8beb7e",
   "metadata": {
    "tags": []
   },
   "outputs": [],
   "source": [
    "plt.hist(((xtarget_samples == 0).sum(dim=1)/xtarget_samples.shape[1]).numpy(), bins=20, log=True, histtype='step', linewidth=2.5, color=\"b\")\n",
    "plt.hist(((xrecon_samples == 0).sum(dim=1)/xtarget_samples.shape[1]).numpy(), bins=20, log=True, histtype='step', linewidth=2.5, color=\"m\", linestyle=\"dashdot\")\n",
    "plt.hist(((xgen_samples == 0).sum(dim=1)/xtarget_samples.shape[1]).numpy(), bins=20, log=True, histtype='step', linewidth=2.5, color=\"orange\", linestyle=\"dashed\")\n",
    "# plt.hist(((xgen_samples_qpu == 0).sum(dim=1)/xtarget_samples.shape[1]).numpy(), bins=20, log=True, histtype='step', linewidth=2.5, color=\"green\", linestyle=\"dashed\")\n",
    "plt.xlabel(\"Sparsity Index\")\n",
    "plt.ylabel(\"Histogram\")\n",
    "plt.legend([\"GT\", \"Recon\", \"Samples\", \"Sample /w QPU\"])\n",
    "plt.title(f'{ds[part]}')\n",
    "plt.grid(\"True\")\n",
    "plt.savefig(f'/home/dsogutlu/temp/CaloQVAE/figs/{modelname}/sparsity_RDM_{modelname}_{arch}_{datascaled}_{part}.png')\n",
    "plt.show()"
   ]
  },
  {
   "cell_type": "code",
   "execution_count": null,
   "id": "2027fcfd",
   "metadata": {
    "tags": []
   },
   "outputs": [],
   "source": [
    "# idxPrev = 0\n",
    "# # for i,idx in enumerate(np.unique(HLF_1_pions.bin_edges)[1:]):\n",
    "# for i, idx in enumerate([16*9*i for i in range(1,5)]):\n",
    "# # for i,idx in enumerate(np.unique(HLF_1_photons.bin_edges)[1:]):\n",
    "#     l = idx - idxPrev\n",
    "#     print('Layer ', i, l, ' voxels')\n",
    "#     plt.hist(((xtarget_samples[:, idxPrev:idx] == 0).sum(dim=1)/l).numpy(), bins=20, log=True, histtype='step')\n",
    "#     plt.hist(((xrecon_samples[:, idxPrev:idx] == 0).sum(dim=1)/l).numpy(), bins=20, log=True, histtype='step')\n",
    "#     plt.hist(((xgen_samples[:, idxPrev:idx] == 0).sum(dim=1)/l).numpy(), bins=20, log=True, histtype='step')\n",
    "#     plt.xlabel(\"Sparsity Index\")\n",
    "#     plt.ylabel(\"Histogram\")\n",
    "#     plt.legend([\"GT\", \"Recon\", \"Sample\"])\n",
    "#     plt.title(f'{part} Layer {i}')\n",
    "#     # plt.savefig(f'/home/javier/Projects/CaloQVAE/figs/sparsity_{i}_{modelname}_{arch}_{datascaled}_{part}.png')\n",
    "#     plt.show()\n",
    "#     idxPrev = idx"
   ]
  },
  {
   "cell_type": "code",
   "execution_count": null,
   "id": "61422aa7",
   "metadata": {
    "tags": []
   },
   "outputs": [],
   "source": [
    "HLF_1_electron.relevantLayers = [0,5,10,15,20,25,30,35,40,45]\n",
    "# Create a grid of subplots\n",
    "fig, axes = plt.subplots(3,3, figsize=(12, 12), sharey=True, sharex=True, tight_layout=True)\n",
    "fig.text(0.5, 0.0, 'Sparsity Index', ha='center')\n",
    "fig.text(0.0, 0.5, 'Histogram', va='center', rotation='vertical')\n",
    "\n",
    "# Iterate through the columns of X and plot histograms\n",
    "for i,_ in enumerate(HLF_1_electron.relevantLayers[:-1]):\n",
    "    row_index = i // 3  # Determine the row index\n",
    "    col_index = i % 3   # Determine the column index\n",
    "    \n",
    "    ax = axes[row_index, col_index]  # Get the current subplot\n",
    "    \n",
    "    # Plot histogram for the current column\n",
    "    idx = HLF_1_electron.relevantLayers[i+1]*9*16\n",
    "    idxPrev = (HLF_1_electron.relevantLayers[i])*9*16\n",
    "    l = idx - idxPrev\n",
    "    ax.hist(((xtarget_samples[:, idxPrev:idx] == 0).sum(dim=1)/l).numpy(),  bins=20, log=True, histtype='step', linewidth=2.5, color=\"b\")\n",
    "    ax.hist(((xrecon_samples[:, idxPrev:idx] == 0).sum(dim=1)/l).numpy(), bins=20, log=True, histtype='step', linewidth=2.5, color=\"m\", linestyle=\"dashdot\")\n",
    "    ax.hist(((xgen_samples[:, idxPrev:idx] == 0).sum(dim=1)/l).numpy(), bins=20, log=True, histtype='step', linewidth=2.5, color=\"orange\", linestyle=\"dashed\")\n",
    "    # ax.hist(((xgen_samples_qpu[:, idxPrev:idx] == 0).sum(dim=1)/l).numpy(), bins=20, log=True, histtype='step', linewidth=2.5, color=\"green\", linestyle=\"dashed\")\n",
    "    ax.legend([\"GT\", \"Recon\", \"Sample\", \"Sample w/ QPU\"], title=f'{ds[part]}')\n",
    "    ax.grid(\"True\")\n",
    "    \n",
    "    # Set labels and title for the subplot\n",
    "    # ax.set_xlabel(f'Column {i + 1}')\n",
    "    # ax.set_ylabel('Frequency')\n",
    "    ax.set_title(f'Layers {HLF_1_electron.relevantLayers[i]} to {HLF_1_electron.relevantLayers[i+1]-1}')\n",
    "\n",
    "# Adjust layout and display the plots\n",
    "plt.tight_layout()\n",
    "plt.savefig(f'/home/dsogutlu/temp/CaloQVAE/figs/{modelname}/sparsity_per_layer_{modelname}_{arch}_{datascaled}_{part}.png')\n",
    "plt.show()\n"
   ]
  },
  {
   "cell_type": "code",
   "execution_count": null,
   "id": "6d833fe6",
   "metadata": {
    "tags": []
   },
   "outputs": [],
   "source": [
    "(20+136+21)*784/1000"
   ]
  },
  {
   "cell_type": "code",
   "execution_count": null,
   "id": "c070a048",
   "metadata": {
    "tags": []
   },
   "outputs": [],
   "source": [
    "plt.scatter(((xtarget_samples == 0).sum(dim=1)/xtarget_samples.shape[1]).numpy(), ((xrecon_samples == 0).sum(dim=1)/xtarget_samples.shape[1]).numpy(),  marker='.', alpha=.5, color=\"b\")\n",
    "plt.plot([0,1],[0,1], c='red', lw=2.5)\n",
    "plt.xlabel('GT Sparsity Index')\n",
    "plt.ylabel('Reconstruction Sparsity Index')\n",
    "plt.title(f'{ds[part]}')\n",
    "plt.grid(\"True\")\n",
    "plt.savefig(f'/home/dsogutlu/temp/CaloQVAE/figs/{modelname}/sparsity_scatter_{modelname}_{arch}_{datascaled}_{part}.png')\n",
    "plt.show()"
   ]
  },
  {
   "cell_type": "code",
   "execution_count": null,
   "id": "7bb51000",
   "metadata": {
    "tags": []
   },
   "outputs": [],
   "source": [
    "xgen_samples2.shape"
   ]
  },
  {
   "cell_type": "code",
   "execution_count": null,
   "id": "bfbe2c54",
   "metadata": {
    "tags": []
   },
   "outputs": [],
   "source": [
    "E_right = 10000\n",
    "E_left = 4000\n",
    "tmp = (entarget_samples < E_right) * (entarget_samples > E_left)\n",
    "idxEnFilter = (tmp == True).nonzero(as_tuple=True)[0]\n",
    "len(idxEnFilter)"
   ]
  },
  {
   "cell_type": "code",
   "execution_count": null,
   "id": "e0703cb3",
   "metadata": {
    "tags": []
   },
   "outputs": [],
   "source": [
    "plt.hist(xtarget_samples[idxEnFilter,:].sum(dim=1).numpy()/1000, bins=30, log=True, histtype='step', linewidth=2.5, color=\"b\")\n",
    "plt.hist(xrecon_samples[idxEnFilter,:].sum(dim=1).numpy()/1000, bins=30, log=True, histtype='step', linewidth=2.5, color=\"m\", linestyle=\"dashdot\")\n",
    "plt.hist(xgen_samples[idxEnFilter,:].sum(dim=1).numpy()/1000, bins=30, log=True, histtype='step', linewidth=2.5, color=\"orange\", linestyle=\"dashed\")\n",
    "# plt.hist(xgen_samples_qpu[idxEnFilter,:].sum(dim=1).numpy()/1000, bins=30, log=True, histtype='step', linewidth=2.5, color=\"green\", linestyle=\"dashed\")\n",
    "\n",
    "plt.xlabel(\"energy per event (GeV)\")\n",
    "# plt.xscale('log')\n",
    "\n",
    "plt.ylabel(\"Histogram\")\n",
    "plt.legend([\"GT\", \"Recon\", \"Sample\", \"Sample w/ QPU\"])\n",
    "plt.title(f'{ds[part]} \\n {E_left}<E_inc<{E_right} (MeV)')\n",
    "plt.savefig(f'/home/dsogutlu/temp/CaloQVAE/figs/{modelname}/energy_slice_{modelname}_{arch}_{datascaled}_{part}.png')\n",
    "plt.show()"
   ]
  },
  {
   "cell_type": "code",
   "execution_count": null,
   "id": "264621e4",
   "metadata": {
    "tags": []
   },
   "outputs": [],
   "source": [
    "plt.hist(xtarget_samples.sum(dim=1).numpy()/1000, bins=30, log=True, histtype='step', linewidth=2.5, color=\"b\")\n",
    "plt.hist(xrecon_samples.sum(dim=1).numpy()/1000, bins=30, log=True, histtype='step', alpha=1.0, linewidth=2.5, color=\"m\", linestyle=\"dashdot\")\n",
    "plt.hist(xgen_samples.sum(dim=1).numpy()/1000, bins=30, log=True, histtype='step', alpha=1.0, linewidth=2.5, color=\"orange\", linestyle=\"dashed\")\n",
    "#plt.hist(xgen_samples_qpu.sum(dim=1).numpy()/1000, bins=30, log=True, histtype='step', alpha=1.0, linewidth=2.5, color=\"green\", linestyle=\"dashed\")\n",
    "#plt.hist(xtarget_samples.sum(dim=1).numpy()/1000, bins=np.arange(0, 100 + 1,2), log=True, histtype='step', linewidth=2.5, color=\"b\")\n",
    "#plt.hist(xrecon_samples.sum(dim=1).numpy()/1000, bins=np.arange(0, 100 + 1,2), log=True, histtype='step', linewidth=2.5, color=\"m\", linestyle=\"dashdot\")\n",
    "#plt.hist(xgen_samples.sum(dim=1).numpy()/1000, bins=np.arange(0, 100 + 1,2), log=True, histtype='step', linewidth=2.5, color=\"orange\", linestyle=\"dashed\")\n",
    "# plt.hist(xtarget_samples.sum(dim=1).numpy()/1000, bins=np.arange(100+1, 1000 + 1,10), log=True, histtype='step')\n",
    "# plt.hist(xrecon_samples.sum(dim=1).numpy()/1000, bins=np.arange(100+1, 1000 + 1,10), log=True, histtype='step')\n",
    "# plt.hist(xgen_samples.sum(dim=1).numpy()/1000, bins=np.arange(100+1, 1000 + 1,10), log=True, histtype='step')\n",
    "plt.xlabel(\"energy per event (GeV)\")\n",
    "# plt.xscale('log')\n",
    "\n",
    "plt.ylabel(\"Histogram\")\n",
    "plt.legend([\"GT\", \"Recon\", \"Sample\", \"Sample w/ QPU\"])\n",
    "plt.title(f'{ds[part]}')\n",
    "plt.grid(\"True\")\n",
    "plt.savefig(f'/home/dsogutlu/temp/CaloQVAE/figs/{modelname}/energy_{modelname}_{arch}_{datascaled}_{part}.png')\n",
    "plt.show()\n",
    "print(xgen_samples.shape)"
   ]
  },
  {
   "cell_type": "code",
   "execution_count": null,
   "id": "bf3b14ff",
   "metadata": {
    "tags": []
   },
   "outputs": [],
   "source": [
    "plt.scatter(xtarget_samples.sum(dim=1).numpy()/1000, xrecon_samples.sum(dim=1).numpy()/1000, marker='.', alpha=.5, color=\"b\")\n",
    "plt.plot([0,800],[0,800], c='red', lw=2.5, label='y=x')\n",
    "# plt.plot([0,20],[0,20], c='red', lw=2)\n",
    "# axes[0,1].set_xlabel(\"GT energy per event (GeV)\")\n",
    "plt.legend()\n",
    "plt.grid(\"True\")\n",
    "plt.xlabel(\"GT energy per event (GeV)\")\n",
    "plt.ylabel(\"Recon energy per event (GeV)\")\n",
    "plt.savefig(f'/home/dsogutlu/temp/CaloQVAE/figs/{modelname}/energy_scatter_{modelname}_{arch}_{datascaled}_{part}.png')\n",
    "plt.show()"
   ]
  },
  {
   "cell_type": "code",
   "execution_count": null,
   "id": "d87b6c23",
   "metadata": {
    "tags": []
   },
   "outputs": [],
   "source": [
    "fig, axes = plt.subplots(3,2, figsize=(8,8), tight_layout=True)\n",
    "fig.text(0.5, 0.0, 'GT energy per event (GeV)', ha='center')\n",
    "fig.text(0.5, 1.0, f'{ds[part]}', ha='center', fontsize=12)\n",
    "\n",
    "axes[0,0].scatter(xtarget_samples.sum(dim=1).numpy()/1000, xrecon_samples.sum(dim=1).numpy()/1000, marker='.', alpha=.5, color=\"b\")\n",
    "axes[0,0].plot([0,800],[0,800], c='red', lw=2.5, label='y=x')\n",
    "# axes[0,0].plot([0,3800],[0,3800], c='red', lw=2.5, label='y=x')\n",
    "axes[0,0].set_ylabel(\"Recon energy per event (GeV)\")\n",
    "axes[0,0].legend()\n",
    "axes[0,0].grid(\"True\")\n",
    "axes[0,0].set_yscale('log')\n",
    "axes[0,0].set_xscale('log')\n",
    "\n",
    "axes[0,1].scatter(xtarget_samples.sum(dim=1).numpy()/1000, xrecon_samples.sum(dim=1).numpy()/1000, marker='.', alpha=.5, color=\"b\")\n",
    "axes[0,1].plot([0,800],[0,800], c='red', lw=2.5, label='y=x')\n",
    "# axes[0,1].plot([0,3800],[0,3800], c='red', lw=2.5, label='y=x')\n",
    "# plt.plot([0,20],[0,20], c='red', lw=2)\n",
    "# axes[0,1].set_xlabel(\"GT energy per event (GeV)\")\n",
    "axes[0,1].set_ylabel(\"Recon energy per event (GeV)\")\n",
    "axes[0,1].legend()\n",
    "axes[0,1].grid(\"True\")\n",
    "\n",
    "# axes[1,0].scatter(entarget_samples.numpy()/1000, np.abs(entarget_samples.reshape(-1).numpy() - xtarget_samples.sum(dim=1).numpy())/(entarget_samples.reshape(-1).numpy()+1e-3), marker='.', alpha=.5, color=\"blue\", label=\"Simulation\")\n",
    "# axes[1,0].scatter(entarget_samples.numpy()/1000, np.abs(entarget_samples.reshape(-1).numpy() - xrecon_samples.sum(dim=1).numpy())/(entarget_samples.reshape(-1).numpy()+1e-3), marker='.', alpha=.05, color=\"red\", label=\"Model\")\n",
    "axes[1,0].scatter(1/entarget_samples.numpy()/1000, np.abs(entarget_samples.reshape(-1).numpy() - xtarget_samples.sum(dim=1).numpy())/(entarget_samples.reshape(-1).numpy()+1e-3), marker='.', alpha=.5, color=\"blue\", label=\"Simulation\")\n",
    "axes[1,0].scatter(1/entarget_samples.numpy()/1000, np.abs(entarget_samples.reshape(-1).numpy() - xrecon_samples.sum(dim=1).numpy())/(entarget_samples.reshape(-1).numpy()+1e-3), marker='.', alpha=.05, color=\"red\", label=\"Model\")\n",
    "axes[1,0].plot([1e-9,1e-6],np.power([1e-9,1e-6],0.25)*np.power(10,2.0), c='orange', lw=2.5, label='slope=0.25', linestyle=\"dashdot\")\n",
    "axes[1,0].grid(\"True\")\n",
    "axes[1,0].set_yscale('log')\n",
    "axes[1,0].set_xscale('log')\n",
    "axes[1,0].legend()\n",
    "axes[1,0].set_ylabel(\"Relative Error\")\n",
    "\n",
    "# axes[1,1].scatter(xtarget_samples.sum(dim=1).numpy()/1000, np.abs(xtarget_samples.sum(dim=1).numpy()/1000 - xrecon_samples.sum(dim=1).numpy()/1000), marker='.', alpha=.5, color=\"blue\")\n",
    "axes[1,1].scatter(entarget_samples.numpy()/1000, np.abs(entarget_samples.reshape(-1).numpy()/1000 - xtarget_samples.sum(dim=1).numpy()/1000), marker='.', alpha=1, color=\"blue\", label=\"Simulation\")\n",
    "axes[1,1].scatter(entarget_samples.numpy()/1000, np.abs(entarget_samples.reshape(-1).numpy()/1000 - xrecon_samples.sum(dim=1).numpy()/1000), marker='.', alpha=.2, color=\"red\", label=\"Model\")\n",
    "axes[1,1].plot([1,800],np.sqrt([1,800]), c='orange', lw=2.5, label='y=sqrt(x)', linestyle=\"dashdot\")\n",
    "axes[1,1].plot([1,800],[1,800], c='c', lw=2.5, label='y=x', linestyle=\"dashed\")\n",
    "# axes[1,1].set_title(f'{ds[part]}')\n",
    "axes[1,1].grid(\"True\")\n",
    "axes[1,1].set_yscale('log')\n",
    "axes[1,1].set_xscale('log')\n",
    "axes[1,1].set_ylabel(\"Absolute Error\")\n",
    "axes[1,1].legend()\n",
    "\n",
    "\n",
    "# Merge the first row's axes\n",
    "gs = axes[2, 0].get_gridspec()\n",
    "for ax in axes[2, :]:\n",
    "    ax.remove()\n",
    "ax_big = fig.add_subplot(gs[2, :])\n",
    "ax_big.scatter(1/xtarget_samples.sum(dim=1).numpy()/1000, np.abs(xtarget_samples.sum(dim=1).numpy() - xrecon_samples.sum(dim=1).numpy())/(xtarget_samples.sum(dim=1).numpy()+1e-3), marker='.', alpha=.5, color=\"blue\")\n",
    "# axes[1,0].scatter(entarget_samples.numpy()/1000, np.abs(entarget_samples.reshape(-1).numpy() - xtarget_samples.sum(dim=1).numpy())/(entarget_samples.reshape(-1).numpy()+1e-3), marker='.', alpha=.5, color=\"blue\", label=\"Simulation\")\n",
    "# axes[1,0].scatter(entarget_samples.numpy()/1000, np.abs(entarget_samples.reshape(-1).numpy() - xrecon_samples.sum(dim=1).numpy())/(entarget_samples.reshape(-1).numpy()+1e-3), marker='.', alpha=.05, color=\"red\", label=\"Model\")\n",
    "# axes[1,0].set_title(f'{ds[part]}')\n",
    "ax_big.plot([1e-9,1e-6],np.sqrt([1e-9,1e-6])*np.power(10,3.5), c='orange', lw=2.5, label='y=sqrt(x)', linestyle=\"dashdot\")\n",
    "# axes[1,1].plot([1e-9,1e-6],np.linspace(1e-9,1e-6)*np.power(10,3.5), c='c', lw=2.5, label='y=x', linestyle=\"dashed\")\n",
    "ax_big.grid(\"True\")\n",
    "ax_big.set_yscale('log')\n",
    "ax_big.set_xscale('log')\n",
    "ax_big.legend()\n",
    "ax_big.set_ylabel(\"Relative Recon Error\")\n",
    "plt.savefig(f'/home/dsogutlu/temp/CaloQVAE/figs/{modelname}/energy_scatter_4panels_{modelname}_{arch}_{datascaled}_{part}.png')\n",
    "plt.show()"
   ]
  },
  {
   "cell_type": "code",
   "execution_count": null,
   "id": "1efed400",
   "metadata": {},
   "outputs": [],
   "source": [
    "fig, axes = plt.subplots(3,2, figsize=(8,8), tight_layout=True)\n",
    "fig.text(0.5, 0.0, 'GT energy per event (GeV)', ha='center')\n",
    "fig.text(0.5, 1.0, f'{ds[part]}', ha='center', fontsize=12)\n",
    "\n",
    "axes[0,0].scatter(xtarget_samples.sum(dim=1).numpy()/1000, xrecon_samples.sum(dim=1).numpy()/1000, marker='.', alpha=.5, color=\"b\")\n",
    "axes[0,0].plot([0,800],[0,800], c='red', lw=2.5, label='y=x')\n",
    "# axes[0,0].plot([0,3800],[0,3800], c='red', lw=2.5, label='y=x')\n",
    "axes[0,0].set_ylabel(\"Recon energy per event (GeV)\")\n",
    "axes[0,0].legend()\n",
    "axes[0,0].grid(\"True\")\n",
    "axes[0,0].set_yscale('log')\n",
    "axes[0,0].set_xscale('log')\n",
    "\n",
    "axes[0,1].scatter(xtarget_samples.sum(dim=1).numpy()/1000, (xtarget_samples.sum(dim=1).numpy() - xrecon_samples.sum(dim=1).numpy())/1000, marker='.', alpha=.5, color=\"b\")\n",
    "# plt.plot([0,20],[0,20], c='red', lw=2)\n",
    "# axes[0,1].set_xlabel(\"GT energy per event (GeV)\")\n",
    "axes[0,1].set_ylabel(\"Abs error (GeV)\")\n",
    "#axes[0,1].set_ylim([-40,40])\n",
    "# axes[0,1].legend()\n",
    "# axes[0,1].set_yscale('log')\n",
    "axes[0,1].grid(\"True\")\n",
    "\n",
    "# axes[1,0].scatter(entarget_samples.numpy()/1000, np.abs(entarget_samples.reshape(-1).numpy() - xtarget_samples.sum(dim=1).numpy())/(entarget_samples.reshape(-1).numpy()+1e-3), marker='.', alpha=.5, color=\"blue\", label=\"Simulation\")\n",
    "# axes[1,0].scatter(entarget_samples.numpy()/1000, np.abs(entarget_samples.reshape(-1).numpy() - xrecon_samples.sum(dim=1).numpy())/(entarget_samples.reshape(-1).numpy()+1e-3), marker='.', alpha=.05, color=\"red\", label=\"Model\")\n",
    "axes[1,0].scatter(1/(entarget_samples.numpy()/1000), np.abs(entarget_samples.reshape(-1).numpy() - xtarget_samples.sum(dim=1).numpy())/(entarget_samples.reshape(-1).numpy()+1e-3), marker='.', alpha=.5, color=\"blue\", label=\"Simulation\")\n",
    "axes[1,0].scatter(1/(entarget_samples.numpy()/1000), np.abs(entarget_samples.reshape(-1).numpy() - xrecon_samples.sum(dim=1).numpy())/(entarget_samples.reshape(-1).numpy()+1e-3), marker='.', alpha=.05, color=\"red\", label=\"Model\")\n",
    "axes[1,0].plot([1e-3,1e0],np.power([1e-3,1e0],0.25)*np.power(10,2.0), c='orange', lw=2.5, label='slope=0.25', linestyle=\"dashdot\")\n",
    "axes[1,0].grid(\"True\")\n",
    "axes[1,0].set_yscale('log')\n",
    "axes[1,0].set_xscale('log')\n",
    "axes[1,0].legend()\n",
    "axes[1,0].set_ylabel(\"Relative Error\")\n",
    "\n",
    "# axes[1,1].scatter(xtarget_samples.sum(dim=1).numpy()/1000, np.abs(xtarget_samples.sum(dim=1).numpy()/1000 - xrecon_samples.sum(dim=1).numpy()/1000), marker='.', alpha=.5, color=\"blue\")\n",
    "axes[1,1].scatter(entarget_samples.numpy()/1000, np.abs(entarget_samples.reshape(-1).numpy()/1000 - xtarget_samples.sum(dim=1).numpy()/1000), marker='.', alpha=1, color=\"blue\", label=\"Simulation\")\n",
    "axes[1,1].scatter(entarget_samples.numpy()/1000, np.abs(entarget_samples.reshape(-1).numpy()/1000 - xrecon_samples.sum(dim=1).numpy()/1000), marker='.', alpha=.2, color=\"red\", label=\"Model\")\n",
    "axes[1,1].plot([1,800],np.sqrt([1,800]), c='orange', lw=2.5, label='y=sqrt(x)', linestyle=\"dashdot\")\n",
    "axes[1,1].plot([1,800],[1,800], c='c', lw=2.5, label='y=x', linestyle=\"dashed\")\n",
    "# axes[1,1].set_title(f'{ds[part]}')\n",
    "axes[1,1].grid(\"True\")\n",
    "axes[1,1].set_yscale('log')\n",
    "axes[1,1].set_xscale('log')\n",
    "axes[1,1].set_ylabel(\"Absolute Error\")\n",
    "axes[1,1].legend()\n",
    "\n",
    "\n",
    "# Merge the first row's axes\n",
    "gs = axes[2, 0].get_gridspec()\n",
    "for ax in axes[2, :]:\n",
    "    ax.remove()\n",
    "ax_big = fig.add_subplot(gs[2, :])\n",
    "ax_big.scatter(1/(xtarget_samples.sum(dim=1).numpy()/1000), np.abs(xtarget_samples.sum(dim=1).numpy() - xrecon_samples.sum(dim=1).numpy())/(xtarget_samples.sum(dim=1).numpy()+1e-3), marker='.', alpha=.5, color=\"blue\")\n",
    "# axes[1,0].scatter(entarget_samples.numpy()/1000, np.abs(entarget_samples.reshape(-1).numpy() - xtarget_samples.sum(dim=1).numpy())/(entarget_samples.reshape(-1).numpy()+1e-3), marker='.', alpha=.5, color=\"blue\", label=\"Simulation\")\n",
    "# axes[1,0].scatter(entarget_samples.numpy()/1000, np.abs(entarget_samples.reshape(-1).numpy() - xrecon_samples.sum(dim=1).numpy())/(entarget_samples.reshape(-1).numpy()+1e-3), marker='.', alpha=.05, color=\"red\", label=\"Model\")\n",
    "# axes[1,0].set_title(f'{ds[part]}')\n",
    "ax_big.plot([1e-3,1e1],np.sqrt([1e-3,1e1])*np.power(1,3.5), c='orange', lw=2.5, label='y=sqrt(x)', linestyle=\"dashdot\")\n",
    "# axes[1,1].plot([1e-9,1e-6],np.linspace(1e-9,1e-6)*np.power(10,3.5), c='c', lw=2.5, label='y=x', linestyle=\"dashed\")\n",
    "ax_big.grid(\"True\")\n",
    "ax_big.set_yscale('log')\n",
    "ax_big.set_xscale('log')\n",
    "ax_big.legend()\n",
    "ax_big.set_ylim([1e-5,1e1])\n",
    "ax_big.set_yticks([1e-5,1e-4,1e-3,1e-2,1e-1,1e0,1e1])\n",
    "ax_big.set_ylabel(\"Relative Recon Error\")\n",
    "plt.savefig(f'/home/dsogutlu/temp/CaloQVAE/figs/{modelname}/energy_scatter_4panels_{modelname}_{arch}_{datascaled}_{part}.png')\n",
    "plt.show()"
   ]
  },
  {
   "cell_type": "code",
   "execution_count": null,
   "id": "a3043a6d",
   "metadata": {
    "tags": []
   },
   "outputs": [],
   "source": [
    "HLF_1_electron.relevantLayers = [0,5,10,15,20,25,30,35,40,45]\n",
    "# Create a grid of subplots\n",
    "fig, axes = plt.subplots(3,3, figsize=(12, 12), sharey=True, sharex=False, tight_layout=True)\n",
    "fig.text(0.5, 0.0, 'Energy per event (GeV)', ha='center')\n",
    "fig.text(0.0, 0.5, 'Histogram', va='center', rotation='vertical')\n",
    "\n",
    "# Iterate through the columns of X and plot histograms\n",
    "for i,_ in enumerate(HLF_1_electron.relevantLayers[:-1]):\n",
    "    row_index = i // 3  # Determine the row index\n",
    "    col_index = i % 3   # Determine the column index\n",
    "    \n",
    "    ax = axes[row_index, col_index]  # Get the current subplot\n",
    "    \n",
    "    # Plot histogram for the current column\n",
    "    idx = HLF_1_electron.relevantLayers[i+1]*9*16\n",
    "    idxPrev = (HLF_1_electron.relevantLayers[i])*9*16\n",
    "    l = idx - idxPrev\n",
    "    ax.hist(xtarget_samples[:, idxPrev:idx].sum(dim=1).numpy()/1000,  bins=20, log=True, histtype='step', linewidth=2.5, color=\"b\")\n",
    "    ax.hist(xrecon_samples[:, idxPrev:idx].sum(dim=1).numpy()/1000, bins=20, log=True, histtype='step', linewidth=2.5, color=\"m\", linestyle=\"dashdot\")\n",
    "    ax.hist(xgen_samples[:, idxPrev:idx].sum(dim=1).numpy()/1000, bins=20, log=True, histtype='step', linewidth=2.5, color=\"orange\", linestyle=\"dashed\")\n",
    "    ax.hist(xgen_samples_qpu[:, idxPrev:idx].sum(dim=1).numpy()/1000, bins=20, log=True, histtype='step', linewidth=2.5, color=\"green\", linestyle=\"dashed\")\n",
    "    ax.legend([\"GT\", \"Recon\", \"Sample\", \"Sample w/ QPU\"], title=f'{ds[part]}')\n",
    "    ax.grid(\"True\")\n",
    "    \n",
    "    # Set labels and title for the subplot\n",
    "    # ax.set_xlabel(f'Column {i + 1}')\n",
    "    # ax.set_ylabel('Frequency')\n",
    "    ax.set_title(f'Layers {HLF_1_electron.relevantLayers[i]} to {HLF_1_electron.relevantLayers[i+1]-1}')\n",
    "\n",
    "# Adjust layout and display the plots\n",
    "plt.tight_layout()\n",
    "plt.savefig(f'/home/javier/Projects/CaloQVAE/figs/{modelname}/energy_per_layer_{modelname}_{arch}_{datascaled}_{part}.png')\n",
    "plt.show()\n"
   ]
  },
  {
   "cell_type": "code",
   "execution_count": null,
   "id": "b3e5c410",
   "metadata": {
    "tags": []
   },
   "outputs": [],
   "source": [
    "# plt.hist(engine._model.prior._weight_dict['23'].reshape(-1).detach().cpu().numpy())\n",
    "# plt.show()\n",
    "# engine._model.prior._weight_dict['01'].reshape(-1)"
   ]
  },
  {
   "cell_type": "code",
   "execution_count": null,
   "id": "b53c915d",
   "metadata": {
    "tags": []
   },
   "outputs": [],
   "source": [
    "# entarget_samples.max()\n",
    "# ll = len([1,2,5,10,20,50,100,200,500,1000,2000,5000])\n",
    "# gen_bs = true_energy.shape[0]"
   ]
  },
  {
   "cell_type": "code",
   "execution_count": null,
   "id": "86d4eed2",
   "metadata": {
    "tags": []
   },
   "outputs": [],
   "source": [
    "xgen_samples2 = []\n",
    "en_input = [1,2,3,5,10,20,30,50,100,200,300,500,1000,2000,3000,5000,10000,20000]\n",
    "ll = len(en_input)\n",
    "gen_bs = 2048 #true_energy.shape[0]\n",
    "with torch.no_grad():\n",
    "    for i in en_input:\n",
    "        if reducedata:\n",
    "            engine._model.sampler._batch_size = true_energy.shape[0]\n",
    "            sample_energies, sample_data = engine._model.generate_samples(num_samples=true_energy.shape[0], true_energy=true_energy)\n",
    "            engine._model.sampler._batch_size = engine._config.engine.rbm_batch_size\n",
    "            sample_data = engine._reduceinv(sample_data, sample_energies, R=R)\n",
    "        elif scaled:\n",
    "            engine._model.sampler._batch_size = gen_bs # true_energy.shape[0]\n",
    "            sample_energies, sample_data = engine._model.generate_samples(num_samples=true_energy.shape[0], true_energy=1000*i, measure_time=True)\n",
    "            engine._model.sampler._batch_size = engine._config.engine.rbm_batch_size\n",
    "            sample_data = torch.tensor(engine._data_mgr.inv_transform(sample_data.detach().cpu().numpy()))\n",
    "        else:\n",
    "            engine._model.sampler._batch_size = true_energy.shape[0]\n",
    "            sample_energies, sample_data = engine._model.generate_samples(num_samples=true_energy.shape[0], true_energy=true_energy)\n",
    "            engine._model.sampler._batch_size = engine._config.engine.rbm_batch_size\n",
    "            sample_data = sample_data.detach().cpu()*1000\n",
    "\n",
    "        xgen_samples2.append( sample_data.detach().cpu())\n",
    "\n",
    "xgen_samples2 = torch.cat(xgen_samples2, dim=0)"
   ]
  },
  {
   "cell_type": "code",
   "execution_count": null,
   "id": "8779030e",
   "metadata": {
    "tags": []
   },
   "outputs": [],
   "source": [
    "energy_gen = xgen_samples2.sum(dim=1)\n",
    "m_energy_gen = [energy_gen[i*gen_bs:gen_bs*(i+1)].sum().item()/1000 for i in range(ll)]\n",
    "sd_energy_gen = [energy_gen[i*gen_bs:gen_bs*(i+1)].std().item()/1000 for i in range(ll)]\n",
    "lin_inter = np.power(m_energy_gen,1/2) * (1 - np.array(m_energy_gen)/np.array(m_energy_gen).max()) \\\n",
    "    + np.power(m_energy_gen,1) * np.array(m_energy_gen)/np.array(m_energy_gen).max()\n"
   ]
  },
  {
   "cell_type": "code",
   "execution_count": null,
   "id": "1a2bd457",
   "metadata": {
    "tags": []
   },
   "outputs": [],
   "source": [
    "plt.plot(np.array(m_energy_gen)/1000, sd_energy_gen, c='orange', lw=3.5, label='event mean energy')\n",
    "plt.plot((np.array(en_input)), sd_energy_gen, c='blue', lw=3.5, label='inc energy', linestyle=\"dashed\")\n",
    "plt.grid(\"True\")\n",
    "# plt.plot([1,10], np.sqrt([1,10])*np.power(10, -0.8))\n",
    "plt.plot(np.array(m_energy_gen)/1000, lin_inter*np.power(10, -1.8), c='red', lw=3.5, label='linear interpolation b/w sqrt and lin')\n",
    "plt.yscale('log')\n",
    "plt.xscale('log')\n",
    "plt.axvline(x=1000, c='black', lw=2.5, label='max energy trained on', linestyle=\"dashdot\")\n",
    "plt.legend()\n",
    "plt.xlabel(\"E (GeV)\")\n",
    "plt.ylabel(\"σₑ\")\n",
    "plt.show()"
   ]
  },
  {
   "cell_type": "code",
   "execution_count": null,
   "id": "e2260ef7",
   "metadata": {
    "tags": []
   },
   "outputs": [],
   "source": [
    "# plt.plot(np.array(m_energy_gen), np.array(sd_energy_gen)/np.array(m_energy_gen))\n",
    "# # plt.plot((np.array(en_input)*1000), sd_energy_gen)\n",
    "# # plt.plot(np.array(m_energy_gen), np.sqrt(m_energy_gen)*np.power(10, -2.2))\n",
    "# # plt.plot(np.array(m_energy_gen), np.sqrt(m_energy_gen)*np.power(10, 0.2))\n",
    "# plt.yscale('log')\n",
    "# plt.xscale('log')\n",
    "# plt.axvline(x=1000000)\n",
    "# plt.show()\n",
    "\n",
    "# np.power(m_energy_gen,1/2) * (1 - np.array(m_energy_gen)/np.array(m_energy_gen).max()) + np.power(m_energy_gen,1) * np.array(m_energy_gen)/np.array(m_energy_gen).max()"
   ]
  },
  {
   "cell_type": "code",
   "execution_count": null,
   "id": "5180981d",
   "metadata": {},
   "outputs": [],
   "source": []
  },
  {
   "cell_type": "code",
   "execution_count": null,
   "id": "98991c63",
   "metadata": {},
   "outputs": [],
   "source": []
  },
  {
   "cell_type": "code",
   "execution_count": null,
   "id": "65252d0a",
   "metadata": {
    "tags": []
   },
   "outputs": [],
   "source": [
    "np.unique(HLF_1_pions.bin_edges)"
   ]
  },
  {
   "cell_type": "code",
   "execution_count": null,
   "id": "68dd2bed",
   "metadata": {
    "tags": []
   },
   "outputs": [],
   "source": [
    "xx = next(iter(val_loader))\n",
    "in_data, true_energy, in_data_flat = engine._preprocess(xx[0],xx[1]) # input , label"
   ]
  },
  {
   "cell_type": "code",
   "execution_count": null,
   "id": "1a91d303",
   "metadata": {
    "tags": []
   },
   "outputs": [],
   "source": [
    "if reducedata:\n",
    "    in_data = engine._reduce(in_data, true_energy, R=R)\n",
    "fwd_output = engine.model((in_data, true_energy), False)\n",
    "if reducedata:\n",
    "    in_data = engine._reduceinv(in_data, true_energy, R=R)\n",
    "    recon_data = engine._reduceinv(fwd_output.output_activations, true_energy, R=R)\n",
    "    engine._model.sampler._batch_size = true_energy.shape[0]\n",
    "    sample_energies, sample_data = engine._model.generate_samples(num_samples=true_energy.shape[0], true_energy=true_energy)\n",
    "    engine._model.sampler._batch_size = engine._config.engine.rbm_batch_size\n",
    "    sample_data = engine._reduceinv(sample_data, sample_energies, R=R)\n",
    "elif scaled:\n",
    "    in_data = torch.tensor(engine._data_mgr.inv_transform(in_data.detach().cpu().numpy()))\n",
    "    recon_data = torch.tensor(engine._data_mgr.inv_transform(fwd_output.output_activations.detach().cpu().numpy()))\n",
    "    engine._model.sampler._batch_size = true_energy.shape[0]\n",
    "    # try:\n",
    "    sample_energies, sample_data = engine._model.generate_samples(num_samples=true_energy.shape[0], true_energy=true_energy)\n",
    "    # except:\n",
    "        # pass\n",
    "    engine._model.sampler._batch_size = engine._config.engine.rbm_batch_size\n",
    "    # sample_energies, sample_data = engine._model.generate_samples(num_samples=2048)\n",
    "    sample_data = torch.tensor(engine._data_mgr.inv_transform(sample_data.detach().cpu().numpy()))\n",
    "else:\n",
    "    in_data = in_data.detach().cpu()*1000\n",
    "    recon_data = fwd_output.output_activations.detach().cpu()*1000\n",
    "    engine._model.sampler._batch_size = true_energy.shape[0]\n",
    "    sample_energies, sample_data = engine._model.generate_samples(num_samples=true_energy.shape[0], true_energy=true_energy)\n",
    "    engine._model.sampler._batch_size = engine._config.engine.rbm_batch_size\n",
    "    # sample_energies, sample_data = engine._model.generate_samples(num_samples=2048)\n",
    "    sample_data = sample_data.detach().cpu()*1000"
   ]
  },
  {
   "cell_type": "code",
   "execution_count": null,
   "id": "82a2dda1",
   "metadata": {
    "tags": []
   },
   "outputs": [],
   "source": [
    "THRSH=7\n",
    "recon_data = recon_data * (recon_data > THRSH)\n",
    "sample_data = sample_data * (sample_data > THRSH)"
   ]
  },
  {
   "cell_type": "code",
   "execution_count": null,
   "id": "ccc5cadb",
   "metadata": {
    "tags": []
   },
   "outputs": [],
   "source": [
    "# HLF_1_pions.relevantLayers = [1,2,3,4,5,6,7]\n",
    "np.unique(HLF_1_pions.bin_edges)"
   ]
  },
  {
   "cell_type": "code",
   "execution_count": null,
   "id": "fd6721f0",
   "metadata": {
    "tags": []
   },
   "outputs": [],
   "source": [
    "HLF_1_electron.relevantLayers = [0,1,2]"
   ]
  },
  {
   "cell_type": "code",
   "execution_count": null,
   "id": "f6079913",
   "metadata": {
    "tags": []
   },
   "outputs": [],
   "source": [
    "# (((in_data[:,0:108] - recon_data[:,0:108])/(in_data[:,0:108]))**2).sum(dim=1).argsort()[:20]\n",
    "(((in_data - recon_data)/(in_data+1e-5))**2).sum(dim=1).argsort()[-200:-1]\n",
    "# (((in_data - recon_data))**2).sum(dim=1).argsort()[:20]"
   ]
  },
  {
   "cell_type": "code",
   "execution_count": null,
   "id": "cb8f35a0",
   "metadata": {
    "tags": []
   },
   "outputs": [],
   "source": [
    "idx=951\n",
    "# HLF_1_pions.DrawSingleShower(in_data[idx,:].detach().cpu().numpy(), filename=None)\n",
    "# HLF_1_pions.DrawSingleShower(in_data[idx,:].detach().cpu().numpy(), filename=f'/home/javier/Projects/CaloQVAE/figs/{modelname}/target_{idx}_{modelname}_{arch}_{datascaled}_{part}.png')\n",
    "\n",
    "# HLF_1_electron.DrawSingleShower(in_data[idx,:].detach().cpu().numpy(), filename=f'/home/javier/Projects/CaloQVAE/figs/{modelname}/target_a_{idx}_{modelname}_{arch}_{datascaled}_{part}.png')\n",
    "HLF_1_electron.DrawSingleShower(in_data[idx,:].detach().cpu().numpy(), filename=None)\n"
   ]
  },
  {
   "cell_type": "code",
   "execution_count": null,
   "id": "f2f68238",
   "metadata": {
    "tags": []
   },
   "outputs": [],
   "source": [
    "# HLF_1_pions.DrawSingleShower(recon_data[idx,:].detach().cpu().numpy(), filename=None)\n",
    "# HLF_1_pions.DrawSingleShower(recon_data[idx,:].detach().cpu().numpy(), filename=f'/home/javier/Projects/CaloQVAE/figs/{modelname}/recon_{idx}_{modelname}_{arch}_{datascaled}_{part}.png')\n",
    "\n",
    "# HLF_1_electron.DrawSingleShower(recon_data[idx,:].detach().cpu().numpy(), filename=f'/home/javier/Projects/CaloQVAE/figs/{modelname}/recon_a_{idx}_{modelname}_{arch}_{datascaled}_{part}.png')\n",
    "HLF_1_electron.DrawSingleShower(recon_data[idx,:].detach().cpu().numpy(), filename=None)"
   ]
  },
  {
   "cell_type": "code",
   "execution_count": null,
   "id": "4c2eac88",
   "metadata": {
    "tags": []
   },
   "outputs": [],
   "source": [
    "# HLF_1_pions.DrawSingleShower(sample_data[idx,:].detach().cpu().numpy(), filename=None)\n",
    "# HLF_1_pions.DrawSingleShower(sample_data[1,:].detach().cpu().numpy(), filename=f'/home/javier/Projects/CaloQVAE/figs/{modelname}/sample_{idx}_{modelname}_{arch}_{datascaled}_{part}.png')\n",
    "\n",
    "# HLF_1_electron.DrawSingleShower(sample_data[idx,:].detach().cpu().numpy(), filename=f'/home/javier/Projects/CaloQVAE/figs/{modelname}/sample_a_{idx}_{modelname}_{arch}_{datascaled}_{part}.png')\n",
    "HLF_1_electron.DrawSingleShower(sample_data[idx,:].detach().cpu().numpy(), filename=None)"
   ]
  },
  {
   "cell_type": "code",
   "execution_count": null,
   "id": "156f5068",
   "metadata": {
    "tags": []
   },
   "outputs": [],
   "source": [
    "# HLF_1_electron.DrawSingleShower(sample_data_qpu[idx,:].detach().cpu().numpy(), filename=f'/home/javier/Projects/CaloQVAE/figs/{modelname}/sample_QPU_a_{idx}_{modelname}_{arch}_{datascaled}_{part}.png')\n",
    "HLF_1_electron.DrawSingleShower(sample_data_qpu[idx,:].detach().cpu().numpy(), filename=None)"
   ]
  },
  {
   "cell_type": "code",
   "execution_count": null,
   "id": "2149701e",
   "metadata": {
    "tags": []
   },
   "outputs": [],
   "source": [
    "#Average Shower\n",
    "# modelname\n",
    "idx_list = torch.tensor(range(6480))\n",
    "\n",
    "pos_z = idx_list // 144\n",
    "# pos_z\n",
    "pos_theta = (idx_list - 144*pos_z) // 9\n",
    "pos_theta\n",
    "pos_r = (idx_list - 144*pos_z) % 9\n",
    "pos_r"
   ]
  },
  {
   "cell_type": "code",
   "execution_count": null,
   "id": "67d7a4a6",
   "metadata": {
    "tags": []
   },
   "outputs": [],
   "source": [
    "plt.plot(pos_r[:20].detach().numpy())"
   ]
  },
  {
   "cell_type": "code",
   "execution_count": null,
   "id": "9a7e97b2",
   "metadata": {},
   "outputs": [],
   "source": [
    "import numpy as np\n",
    "import matplotlib.pyplot as plt\n",
    "\n",
    "# Let's define the positional_encoding function as before\n",
    "def positional_encoding(pos, d_model):\n",
    "    \"\"\"\n",
    "    Computes the positional encoding for a given position and model dimension.\n",
    "    Arguments:\n",
    "    pos -- a scalar or a vector of positions\n",
    "    d_model -- the dimensionality of the model\n",
    "    Returns:\n",
    "    pe -- the positional encoding for the given position(s)\n",
    "    \"\"\"\n",
    "    pe = np.zeros((len(pos), d_model))\n",
    "    for i in range(d_model):\n",
    "        div_term = np.exp(i * -np.log(10000.0) / d_model)\n",
    "        if i % 2 == 0:\n",
    "            pe[:, i] = np.sin(pos * div_term)\n",
    "        else:\n",
    "            pe[:, i] = np.cos(pos * div_term)\n",
    "    return pe\n",
    "\n",
    "# Define the sentence and parameters\n",
    "sentence = \"the dog wags the tail more often during the night\"\n",
    "words = sentence.split()\n",
    "num_words = len(words)\n",
    "d_model = 512  # The dimensionality is often larger, such as 512\n",
    "\n",
    "# Calculate the positional encoding for the number of words\n",
    "positions = np.arange(num_words)\n",
    "pe = positional_encoding(positions, d_model)\n",
    "\n",
    "# For visualization, let's plot just the first two dimensions\n",
    "plt.figure(figsize=(14, 8))\n",
    "plt.plot(positions, pe[:, 0], 'o-', label='Dimension 1 (sin)')\n",
    "plt.plot(positions, pe[:, 1], 'o-', label='Dimension 2 (cos)')\n",
    "plt.xticks(positions, words, rotation=90)\n",
    "plt.xlabel('Position')\n",
    "plt.ylabel('Positional Encoding Value')\n",
    "plt.title('Positional Encoding of Sentence')\n",
    "plt.legend()\n",
    "plt.grid(True)\n",
    "plt.show()\n"
   ]
  },
  {
   "cell_type": "code",
   "execution_count": null,
   "id": "5b139ab6",
   "metadata": {
    "tags": []
   },
   "outputs": [],
   "source": [
    "def positional_encoding(pos, d_model):\n",
    "    \"\"\"\n",
    "    Computes the positional encoding for a given position and model dimension.\n",
    "    Arguments:\n",
    "    pos -- a scalar or a vector of positions\n",
    "    d_model -- the dimensionality of the model\n",
    "    Returns:\n",
    "    pe -- the positional encoding for the given position(s)\n",
    "    \"\"\"\n",
    "    pe = torch.zeros((len(pos), d_model))\n",
    "    for i in range(d_model):\n",
    "        div_term = torch.exp(i * -torch.log(torch.tensor([10000.0])) / d_model)\n",
    "        if i % 2 == 0:\n",
    "            pe[:, i] = torch.sin(pos * div_term)\n",
    "        else:\n",
    "            pe[:, i] = torch.cos(pos * div_term)\n",
    "    return pe.detach().sum(dim=1)"
   ]
  },
  {
   "cell_type": "code",
   "execution_count": null,
   "id": "4544c39a",
   "metadata": {
    "tags": []
   },
   "outputs": [],
   "source": [
    "def _cylinder_pos_enc(lz=512,ltheta=512, lr=512):\n",
    "    PE_z = positional_encoding(torch.tensor(range(45)),lz).repeat_interleave(144)\n",
    "    PE_theta = positional_encoding(torch.tensor(range(16)),ltheta).repeat_interleave(9).repeat(45)\n",
    "    PE_r = positional_encoding(torch.tensor(range(9)),lr).repeat(16*45)\n",
    "    \n",
    "    return PE_z + PE_theta + PE_r, PE_z, PE_theta , PE_r"
   ]
  },
  {
   "cell_type": "code",
   "execution_count": null,
   "id": "b36500b2",
   "metadata": {
    "tags": []
   },
   "outputs": [],
   "source": [
    "PE_z = positional_encoding(torch.tensor(range(16)),128)\n",
    "PE_z"
   ]
  },
  {
   "cell_type": "code",
   "execution_count": null,
   "id": "40b25549",
   "metadata": {
    "tags": []
   },
   "outputs": [],
   "source": [
    "# plt.plot(PE_z.numpy())\n",
    "# plt.plot(PE[:,1].detach().numpy())\n",
    "# PE_z.repeat_interleave(45)\n",
    "if 1 == True:\n",
    "    print(1)"
   ]
  },
  {
   "cell_type": "code",
   "execution_count": null,
   "id": "d8d4bec9",
   "metadata": {
    "tags": []
   },
   "outputs": [],
   "source": [
    "# positional_encoding(torch.tensor(range(16)),128).repeat_interleave(9).repeat(45)[:145]\n",
    "# positional_encoding(torch.tensor(range(45)),128).repeat_interleave(144)\n",
    "# positional_encoding(torch.tensor(range(9)),128).repeat(16*45)"
   ]
  },
  {
   "cell_type": "code",
   "execution_count": null,
   "id": "a8a8dd54",
   "metadata": {
    "tags": []
   },
   "outputs": [],
   "source": []
  },
  {
   "cell_type": "code",
   "execution_count": null,
   "id": "749dc21e",
   "metadata": {
    "tags": []
   },
   "outputs": [],
   "source": [
    "cyl_enc, PE_z, PE_theta , PE_r = _cylinder_pos_enc(lz=128, ltheta=64, lr=9)\n",
    "plt.plot(cyl_enc.numpy())"
   ]
  },
  {
   "cell_type": "code",
   "execution_count": null,
   "id": "0ee78bc3",
   "metadata": {
    "tags": []
   },
   "outputs": [],
   "source": [
    "plt.plot(PE_theta.numpy()[:-1])"
   ]
  },
  {
   "cell_type": "code",
   "execution_count": null,
   "id": "cd9bb71a",
   "metadata": {
    "tags": []
   },
   "outputs": [],
   "source": [
    "(in_data + cyl_enc)"
   ]
  },
  {
   "cell_type": "code",
   "execution_count": null,
   "id": "c6387f43",
   "metadata": {
    "tags": []
   },
   "outputs": [],
   "source": [
    "\n",
    "# cyl_enc.to(in_data.device)\n",
    "in_data.to('cuda')"
   ]
  },
  {
   "cell_type": "code",
   "execution_count": null,
   "id": "d75e4c62",
   "metadata": {},
   "outputs": [],
   "source": []
  },
  {
   "cell_type": "code",
   "execution_count": null,
   "id": "386ddde8",
   "metadata": {
    "tags": []
   },
   "outputs": [],
   "source": [
    "HLF_1_pions.DrawAverageShower(in_data[idx:idx+100,:].detach().cpu().numpy(), filename=None)"
   ]
  },
  {
   "cell_type": "code",
   "execution_count": null,
   "id": "b639d49c",
   "metadata": {
    "tags": []
   },
   "outputs": [],
   "source": [
    "HLF_1_pions.DrawAverageShower(recon_data[idx:idx+100,:].detach().cpu().numpy(), filename=None)"
   ]
  },
  {
   "cell_type": "code",
   "execution_count": null,
   "id": "8e051520",
   "metadata": {
    "tags": []
   },
   "outputs": [],
   "source": [
    "plt.plot(xtarget_samples.mean(dim=0).numpy(), marker='.', alpha=.5, color=\"b\", linewidth=0)\n",
    "plt.plot(xrecon_samples.mean(dim=0).numpy(), marker='.', alpha=.5, color=\"r\", linewidth=0)\n",
    "plt.yscale('log')\n",
    "plt.yscale('log')\n",
    "plt.show()"
   ]
  },
  {
   "cell_type": "code",
   "execution_count": null,
   "id": "7278f555",
   "metadata": {},
   "outputs": [],
   "source": [
    "# LL"
   ]
  },
  {
   "cell_type": "code",
   "execution_count": null,
   "id": "d0764176",
   "metadata": {
    "tags": []
   },
   "outputs": [],
   "source": [
    "ww = load_RBM_state(\"/home/javier/Projects/CaloQVAE/outputs/2023-11-21/13-09-06/wandb/latest-run/files/RBM/RBM_1_9_weights.pth\", dev)"
   ]
  },
  {
   "cell_type": "code",
   "execution_count": null,
   "id": "c08a20b3",
   "metadata": {
    "tags": []
   },
   "outputs": [],
   "source": [
    "dte = '16-33-07' #compound sponge?\n",
    "# 17-38-46 zany cloud\n",
    "# dte = '17-38-46'\n",
    "lnZais_list = []\n",
    "lnZrais_list = []\n",
    "en_encoded_list = []\n",
    "for i in range(1,100,10):\n",
    "    print(i)\n",
    "    engine_2.model.sampler._prbm._weight_dict = load_RBM_state(f'/home/javier/Projects/CaloQVAE/outputs/2023-11-27/{dte}/wandb/latest-run/files/RBM/RBM_{i}_9_weights.pth', dev)\n",
    "    engine_2.model.sampler._prbm._bias_dict = load_RBM_state(f'/home/javier/Projects/CaloQVAE/outputs/2023-11-27/{dte}/wandb/latest-run/files/RBM/RBM_{i}_9_biases.pth', dev)\n",
    "    en = -torch.load(f'/home/javier/Projects/CaloQVAE/outputs/2023-11-27/{dte}/wandb/latest-run/files/RBM/RBM_{i}_9_EncEn.pth').mean()\n",
    "    lnZais_list.append(engine_2.model.stater.AIS(30).detach().cpu().item())\n",
    "    lnZrais_list.append(engine_2.model.stater.RAIS(30).detach().cpu().item())\n",
    "    en_encoded_list.append(en)\n",
    "    "
   ]
  },
  {
   "cell_type": "code",
   "execution_count": null,
   "id": "10822e8f",
   "metadata": {
    "tags": []
   },
   "outputs": [],
   "source": [
    "import pandas as pd\n",
    "# entropy_model_data = pd.read_csv(f'/home/javier/Projects/CaloQVAE/outputs/2023-11-27/{dte}/wandb/latest-run/files/RBM/entropy_zano.csv');\n",
    "# pos_model_data = pd.read_csv(f'/home/javier/Projects/CaloQVAE/outputs/2023-11-27/{dte}/wandb/latest-run/files/RBM/pos_zano.csv');\n",
    "# neg_model_data = pd.read_csv(f'/home/javier/Projects/CaloQVAE/outputs/2023-11-27/{dte}/wandb/latest-run/files/RBM/neg_zano.csv');\n",
    "\n",
    "entropy_model_data = pd.read_csv(f'/home/javier/Projects/CaloQVAE/outputs/2023-11-27/{dte}/wandb/latest-run/files/RBM/entropy.csv');\n",
    "pos_model_data = pd.read_csv(f'/home/javier/Projects/CaloQVAE/outputs/2023-11-27/{dte}/wandb/latest-run/files/RBM/pos.csv');\n",
    "neg_model_data = pd.read_csv(f'/home/javier/Projects/CaloQVAE/outputs/2023-11-27/{dte}/wandb/latest-run/files/RBM/neg.csv');\n",
    "\n",
    "entropy = np.array(entropy_model_data.iloc[:,1])\n",
    "pos = np.array(pos_model_data.iloc[:,1])\n",
    "neg = np.array(neg_model_data.iloc[:,1])\n",
    "\n",
    "entropy_plus_pos = np.array(entropy) + np.array(pos)"
   ]
  },
  {
   "cell_type": "code",
   "execution_count": null,
   "id": "12188571",
   "metadata": {
    "tags": []
   },
   "outputs": [],
   "source": [
    "fig, axes = plt.subplots(3,2, figsize=(8,8), tight_layout=True)\n",
    "\n",
    "axes[0,0].plot(-np.array(lnZais_list), c='red', lw=4.5, label='- ln Z_ais')\n",
    "axes[0,0].plot(-np.array(lnZrais_list), c='blue', lw=2.5, label='- ln Z_rais')\n",
    "axes[0,0].set_xlabel(\"epochs (x10)\")\n",
    "axes[0,0].legend()\n",
    "axes[0,0].grid(\"True\")\n",
    "\n",
    "axes[0,1].plot(np.array(en_encoded_list) - np.array(lnZais_list), c='green', lw=2.5)\n",
    "axes[0,1].set_ylabel(\"LL\")\n",
    "axes[0,1].set_xlabel(\"epochs (x10)\")\n",
    "axes[0,1].grid(\"True\")\n",
    "\n",
    "axes[1,0].plot(range(101), (entropy + pos + neg), c='red', lw=2.5, label=\"wandb\")\n",
    "axes[1,0].plot(range(1,101,11), (entropy + pos)[0:-1:11] + np.array(lnZais_list), c='cyan', lw=2.5, label=\"ent + pos + lnZais\")\n",
    "axes[1,0].grid(\"True\")\n",
    "axes[1,0].legend()\n",
    "axes[1,0].set_ylabel(\"KL loss\")\n",
    "axes[1,0].set_xlabel(\"epochs\")\n",
    "\n",
    "axes[1,1].plot((entropy + pos)[0:-1:11] + np.array(lnZais_list), c='cyan', lw=2.5, label=\"ent + pos + lnZais\")\n",
    "axes[1,1].plot((entropy + pos)[0:-1:11], c='blue', lw=2.5, label=\"ent + pos\")\n",
    "axes[1,1].grid(\"True\")\n",
    "axes[1,1].legend()\n",
    "axes[1,1].set_ylabel(\"KL loss\")\n",
    "axes[1,1].set_xlabel(\"epochs (x10)\")\n",
    "\n",
    "\n",
    "axes[2,0].plot(neg[0:-1:11], c='orange', lw=2.5, label=\"neg\")\n",
    "axes[2,0].plot(np.array(lnZais_list), c='red', lw=4.5, label='ln Z_ais')\n",
    "axes[2,0].grid(\"True\")\n",
    "# axes[2,0].set_ylabel(\"LL + ln Z\")\n",
    "axes[2,0].legend()\n",
    "axes[2,0].set_xlabel(\"epochs (x10)\")\n",
    "\n",
    "\n",
    "axes[2,1].plot(np.array(en_encoded_list), c='orange', lw=2.5)\n",
    "axes[2,1].grid(\"True\")\n",
    "axes[2,1].set_ylabel(\"LL + ln Z\")\n",
    "axes[2,1].set_xlabel(\"epochs (x10)\")\n",
    "# plt.savefig(f'/home/javier/Projects/CaloQVAE/figs/{modelname}/energy_scatter_4panels_{modelname}_{arch}_{datascaled}_{part}.png')\n",
    "plt.show()"
   ]
  },
  {
   "cell_type": "code",
   "execution_count": null,
   "id": "33bed8b9",
   "metadata": {
    "tags": []
   },
   "outputs": [],
   "source": [
    "run = wandb.Api(api_key= \"\").run(\"jtoledo/caloqvae/n9y23yq6\")\n",
    "summary = run.summary\n",
    "hist = run.history()\n",
    "hist.head(20)\n",
    "true_indices = [i for i, x in enumerate(np.isnan(hist[\"val_kl_loss\"])) if x==False]"
   ]
  },
  {
   "cell_type": "code",
   "execution_count": null,
   "id": "8a3fe526",
   "metadata": {
    "tags": []
   },
   "outputs": [],
   "source": [
    "plt.plot(hist[\"_step\"][true_indices], hist[\"val_kl_loss\"][true_indices])\n",
    "plt.plot(hist[\"_step\"], hist[\"kl_loss\"])"
   ]
  },
  {
   "cell_type": "code",
   "execution_count": null,
   "id": "4ff5ec05",
   "metadata": {},
   "outputs": [],
   "source": []
  },
  {
   "cell_type": "code",
   "execution_count": null,
   "id": "90b52675",
   "metadata": {
    "tags": []
   },
   "outputs": [],
   "source": [
    "prelu_dict = {}\n",
    "for i in range(4):\n",
    "    for name, param in engine.model.encoder._networks[i][0].seq2[4].named_parameters():\n",
    "        # print(name, param.data.detach().cpu().numpy())\n",
    "        prelu_dict[i] = param.data.detach().cpu().numpy()"
   ]
  },
  {
   "cell_type": "code",
   "execution_count": null,
   "id": "f328256c",
   "metadata": {
    "tags": []
   },
   "outputs": [],
   "source": [
    "for i in range(4):\n",
    "    plt.hist(prelu_dict[i], alpha=0.5, density=True)\n",
    "plt.xlabel(\"PReLU parameter\")\n",
    "plt.ylabel(\"Frequency\")\n",
    "plt.show()"
   ]
  },
  {
   "cell_type": "code",
   "execution_count": null,
   "id": "316ac2c6",
   "metadata": {
    "tags": []
   },
   "outputs": [],
   "source": [
    "fig, axes = plt.subplots(2,2, figsize=(8,8), tight_layout=True)\n",
    "fig.text(0.5, 0.0, 'PReLU Parameter', ha='center')\n",
    "# fig.text(0.5, 1.0, f'PDF', ha='center', fontsize=12)\n",
    "fig.text(0.0, 0.5, 'PDF', va='center', rotation='vertical')\n",
    "\n",
    "axes[0,0].hist(prelu_dict[0], bins=50, density=True, color=\"b\")\n",
    "axes[0,0].legend([\"Partition 0\"])\n",
    "axes[0,0].grid(\"True\")\n",
    "\n",
    "axes[0,1].hist(prelu_dict[1], bins=50, color=\"b\", density=True)\n",
    "axes[0,1].legend([\"Partition 1\"])\n",
    "axes[0,1].grid(\"True\")\n",
    "\n",
    "axes[1,0].hist(prelu_dict[2], bins=50, color=\"b\", density=True)\n",
    "axes[1,0].legend([\"Partition 2\"])\n",
    "axes[1,0].grid(\"True\")\n",
    "\n",
    "axes[1,1].hist(prelu_dict[3], bins=50, color=\"b\", density=True)\n",
    "axes[1,1].legend([\"Partition 3\"])\n",
    "axes[1,1].grid(\"True\")\n",
    "# plt.savefig(f'/home/javier/Projects/CaloQVAE/figs/{modelname}/PReLU_{modelname}_{arch}_{datascaled}_{part}.png')\n",
    "plt.show()"
   ]
  },
  {
   "cell_type": "code",
   "execution_count": null,
   "id": "d5de5228",
   "metadata": {
    "tags": []
   },
   "outputs": [],
   "source": [
    "####"
   ]
  },
  {
   "cell_type": "code",
   "execution_count": null,
   "id": "a4b0fd24",
   "metadata": {
    "tags": []
   },
   "outputs": [],
   "source": [
    "\n",
    "τₛ = 0.020+0.136+0.021\n",
    "τₚ = 15.92\n",
    "\n",
    "\n",
    "temp_steps=5\n",
    "training_size = 80000\n",
    "val_size = 10000\n",
    "val_bs = 1024\n",
    "train_bs = 128\n",
    "\n",
    "train_b_num = np.ceil(training_size/train_bs) # assuming batchsize 128\n",
    "val_b_num = np.ceil(val_size/val_bs) # assuming batchsize 1024\n",
    "temp_opt_samp_size = 256\n",
    "train_time_per_epoch = (training_size*τₛ + train_b_num*τₚ)\n",
    "val_time_per_epoch = (val_size*τₛ + val_b_num*τₚ)\n",
    "temp_opt_time = (temp_opt_samp_size*τₛ+τₚ)*temp_steps\n",
    "\n",
    "print(train_time_per_epoch/1000) #seconds\n",
    "print(val_time_per_epoch/1000) #seconds\n",
    "print(temp_opt_time/1000) #seconds\n",
    "\n",
    "# Milestone 1\n",
    "print( (val_time_per_epoch + temp_opt_time*val_b_num)/1000)\n",
    "\n",
    "# Milestone 2\n",
    "print( (train_time_per_epoch + temp_opt_time*train_b_num)/1000)\n",
    "\n",
    "# Milestone 3\n",
    "print( 100*(train_time_per_epoch + temp_opt_time*train_b_num)/1000/60)\n",
    "\n",
    "# Milestone 4\n",
    "full_epoch_cycle = train_time_per_epoch + val_time_per_epoch + temp_opt_time*(train_b_num+val_b_num)\n",
    "print(100*full_epoch_cycle/1000/60) #minutes"
   ]
  },
  {
   "cell_type": "code",
   "execution_count": null,
   "id": "5db14cb9",
   "metadata": {},
   "outputs": [],
   "source": []
  }
 ],
 "metadata": {
  "kernelspec": {
   "display_name": "Python 3 (ipykernel)",
   "language": "python",
   "name": "python3"
  },
  "language_info": {
   "codemirror_mode": {
    "name": "ipython",
    "version": 3
   },
   "file_extension": ".py",
   "mimetype": "text/x-python",
   "name": "python",
   "nbconvert_exporter": "python",
   "pygments_lexer": "ipython3",
   "version": "3.8.10"
  }
 },
 "nbformat": 4,
 "nbformat_minor": 5
}
