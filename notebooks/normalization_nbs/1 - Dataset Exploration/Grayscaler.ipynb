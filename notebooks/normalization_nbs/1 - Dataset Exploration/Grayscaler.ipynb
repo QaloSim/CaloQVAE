{
 "cells": [
  {
   "cell_type": "code",
   "execution_count": 5,
   "id": "36e25e89",
   "metadata": {},
   "outputs": [],
   "source": [
    "import h5py\n",
    "import numpy as np\n",
    "import random\n",
    "from sklearn.preprocessing import StandardScaler\n",
    "import matplotlib.pyplot as plt"
   ]
  },
  {
   "cell_type": "code",
   "execution_count": 6,
   "id": "205d5f32",
   "metadata": {},
   "outputs": [],
   "source": [
    "pions1 = h5py.File('/fast_scratch/QVAE/data/atlas/pions1.hdf5','r')\n",
    "photons1 = h5py.File('/fast_scratch/QVAE/data/atlas/photons1.hdf5','r')\n",
    "photons2 = h5py.File('/fast_scratch/QVAE/data/atlas/photons2.hdf5','r')"
   ]
  },
  {
   "cell_type": "code",
   "execution_count": 7,
   "id": "94c07270",
   "metadata": {},
   "outputs": [
    {
     "name": "stdout",
     "output_type": "stream",
     "text": [
      "<HDF5 dataset \"energy\": shape (120230, 1), type \"<f8\">\n",
      "<HDF5 dataset \"energy_from_voxels\": shape (120230, 1), type \"<f8\">\n",
      "<HDF5 dataset \"voxels\": shape (120230, 533), type \"<f8\">\n"
     ]
    }
   ],
   "source": [
    "particle_list = [pions1, photons1, photons2]\n",
    "particle_type = 0 #0, 1 or 2\n",
    "for x in particle_list[particle_type].keys():\n",
    "    print(particle_list[particle_type][x])   #3 keys: incident energy, total energy registered in voxels, and energy per voxel total number of events is 120230\n",
    "#print(pions1[\"voxels\"][10])"
   ]
  },
  {
   "cell_type": "markdown",
   "id": "1c374b52",
   "metadata": {},
   "source": [
    "Creating datasets and finding voxel averages"
   ]
  },
  {
   "cell_type": "code",
   "execution_count": 8,
   "id": "3247034d",
   "metadata": {},
   "outputs": [
    {
     "name": "stdout",
     "output_type": "stream",
     "text": [
      "[(533,), (368,), (368,)]\n"
     ]
    }
   ],
   "source": [
    "particles_data = []\n",
    "avg_voxels = []\n",
    "for particle in particle_list:\n",
    "    dataset = np.array(particle[\"voxels\"])\n",
    "    particles_data.append(dataset)\n",
    "    #inc_energies = np.array(particle[\"energy\"])\n",
    "    #calo_energies = np.array(particle[\"energy_from_voxels\"])\n",
    "    num_events, num_voxels = np.shape(particle[\"voxels\"])\n",
    "    avg_voxel = np.zeros(num_voxels)\n",
    "    number_of_events_averaging_over = num_events\n",
    "    for i in range(number_of_events_averaging_over):\n",
    "        avg_voxel = avg_voxel+dataset[i]\n",
    "    avg_voxel = avg_voxel/number_of_events_averaging_over\n",
    "    avg_voxels.append(avg_voxel)\n",
    "print([np.shape(avg_voxels[i]) for i in range(len(avg_voxels))])"
   ]
  },
  {
   "cell_type": "markdown",
   "id": "2f3c1090",
   "metadata": {},
   "source": [
    "Normalize data using average per voxel"
   ]
  },
  {
   "cell_type": "code",
   "execution_count": 9,
   "id": "d987defd",
   "metadata": {},
   "outputs": [
    {
     "name": "stdout",
     "output_type": "stream",
     "text": [
      "(3,)\n"
     ]
    },
    {
     "name": "stderr",
     "output_type": "stream",
     "text": [
      "/usr/local/lib/python3.8/dist-packages/numpy/core/fromnumeric.py:2007: VisibleDeprecationWarning: Creating an ndarray from ragged nested sequences (which is a list-or-tuple of lists-or-tuples-or ndarrays with different lengths or shapes) is deprecated. If you meant to do this, you must specify 'dtype=object' when creating the ndarray.\n",
      "  result = asarray(a).shape\n"
     ]
    }
   ],
   "source": [
    "scaled_particle_data = []\n",
    "for i, particle in enumerate(particle_list):\n",
    "    dataset = np.array(particle[\"voxels\"])\n",
    "    reciprocal_arr = 1/avg_voxels[i]\n",
    "    scaled_dataset = dataset*reciprocal_arr\n",
    "    scaled_particle_data.append(scaled_dataset)\n",
    "    \n",
    "print(np.shape(scaled_particle_data))"
   ]
  },
  {
   "cell_type": "markdown",
   "id": "a0b61de8",
   "metadata": {},
   "source": [
    "Remove negative values"
   ]
  },
  {
   "cell_type": "code",
   "execution_count": null,
   "id": "b2d6df1b",
   "metadata": {},
   "outputs": [],
   "source": [
    "'''epsilon = 1e-2\n",
    "arrmin = np.amin(scaled_dataset2[:,])\n",
    "if arrmin < 0 and not np.isnan(arrmin):\n",
    "    scaled_dataset2[:,] -= arrmin\n",
    "    scaled_dataset2[:,] += epsilon\n",
    "    print(arrmin)''' #no negative values in this data set"
   ]
  },
  {
   "cell_type": "code",
   "execution_count": 10,
   "id": "d105ca23",
   "metadata": {},
   "outputs": [],
   "source": [
    "pions1_scaled = h5py.File('/fast_scratch/QVAE/data/atlas_scaled/pions1_gs.hdf5','w')\n",
    "photons1_scaled = h5py.File('/fast_scratch/QVAE/data/atlas_scaled/photons1_gs.hdf5','w')\n",
    "photons2_scaled = h5py.File('/fast_scratch/QVAE/data/atlas_scaled/photons2_gs.hdf5','w')"
   ]
  },
  {
   "cell_type": "code",
   "execution_count": 11,
   "id": "9b0179a3",
   "metadata": {},
   "outputs": [
    {
     "name": "stdout",
     "output_type": "stream",
     "text": [
      "<HDF5 file \"pions1_gs.hdf5\" (mode r+)>\n",
      "120230\n"
     ]
    }
   ],
   "source": [
    "hdfs_scaled = [pions1_scaled, photons1_scaled, photons2_scaled]\n",
    "print(pions1_scaled)\n",
    "print(len(scaled_particle_data[0]))"
   ]
  },
  {
   "cell_type": "markdown",
   "id": "15d00cb8",
   "metadata": {},
   "source": [
    "Inverse transform"
   ]
  },
  {
   "cell_type": "code",
   "execution_count": 12,
   "id": "37e26cb0",
   "metadata": {},
   "outputs": [],
   "source": [
    "inv_data = []\n",
    "'''scaled_data2 = np.where(scaled_data2 > 0., scaled_data2, np.inf)\n",
    "arrmins = [[]]\n",
    "epsilon = 1e-2\n",
    "\n",
    "for j in range(scaled_data2.shape[1]):\n",
    "    arrmin = arrmins[j]\n",
    "    if arrmin < 0. and not np.isnan(arrmin):\n",
    "        nparr[:, j] -= epsilon\n",
    "        nparr[:, j] += arrmin '''\n",
    "\n",
    "inv_data = scaled_particle_data[0]*avg_voxels[0]\n",
    "\n",
    "#scaled_data2 = np.where(np.isnan(scaled_data2), 0, scaled_data2)\n",
    "#not checked for negative values as input data does not have any"
   ]
  },
  {
   "cell_type": "markdown",
   "id": "46ddda13",
   "metadata": {},
   "source": [
    "Check inverse transformations on input data"
   ]
  },
  {
   "cell_type": "code",
   "execution_count": 13,
   "id": "25fc4bf0",
   "metadata": {},
   "outputs": [],
   "source": [
    "for j in range(scaled_particle_data[0].shape[1]):\n",
    "        diff = np.sum(scaled_particle_data[0][:, j] - inv_data[:, j])\n",
    "        if diff > 0:\n",
    "            print(i, j, diff)"
   ]
  },
  {
   "cell_type": "markdown",
   "id": "c8ab121a",
   "metadata": {},
   "source": [
    "Plot histogram of the energy averages"
   ]
  },
  {
   "cell_type": "code",
   "execution_count": null,
   "id": "98905ff3",
   "metadata": {},
   "outputs": [],
   "source": [
    "#bin_list = np.arange(0, 30)\n",
    "plt.hist(pions1[\"voxels\"])\n",
    "plt.xlabel(\"Raw voxel energy\") #energy scale?\n",
    "plt.ylabel(\"Counts\")\n",
    "plt.title(\"Pions histogram\")\n",
    "plt.show()\n",
    "#plt.scatter(range(1, num_events+1), average_voxel, color = 'orange')\n",
    "#print(average_voxel)"
   ]
  },
  {
   "cell_type": "code",
   "execution_count": null,
   "id": "73599a4c",
   "metadata": {},
   "outputs": [],
   "source": [
    "#bin_list = np.arange(0, 50)\n",
    "plt.hist(scaled_particle_data[0])\n",
    "plt.xlabel(\"Scaled voxel energy\") #energy scale?\n",
    "plt.ylabel(\"Counts\")\n",
    "plt.title(\"Pions histogram\")\n",
    "plt.show()\n",
    "#plt.scatter(range(1, num_events+1), average_voxel, color = 'orange')\n",
    "#print(average_voxel)"
   ]
  },
  {
   "cell_type": "code",
   "execution_count": 16,
   "id": "198dea68",
   "metadata": {},
   "outputs": [
    {
     "data": {
      "image/png": "[encoded data removed]",
      "text/plain": [
       "<Figure size 640x480 with 1 Axes>"
      ]
     },
     "metadata": {},
     "output_type": "display_data"
    }
   ],
   "source": [
    "bin_list = np.arange(0, 50)\n",
    "plt.hist(scaled_particle_data[1], bins = bin_list)\n",
    "plt.xlabel(\"Scaled voxel energy\") #energy scale?\n",
    "plt.ylabel(\"Counts\")\n",
    "plt.title(\"Photons1 histogram\")\n",
    "plt.show()\n",
    "#plt.scatter(range(1, num_events+1), average_voxel, color = 'orange')\n",
    "#print(average_voxel)"
   ]
  },
  {
   "cell_type": "code",
   "execution_count": null,
   "id": "050badc8",
   "metadata": {},
   "outputs": [],
   "source": []
  }
 ],
 "metadata": {
  "kernelspec": {
   "display_name": "Python 3 (ipykernel)",
   "language": "python",
   "name": "python3"
  },
  "language_info": {
   "codemirror_mode": {
    "name": "ipython",
    "version": 3
   },
   "file_extension": ".py",
   "mimetype": "text/x-python",
   "name": "python",
   "nbconvert_exporter": "python",
   "pygments_lexer": "ipython3",
   "version": "3.8.10"
  }
 },
 "nbformat": 4,
 "nbformat_minor": 5
}
