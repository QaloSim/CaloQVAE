{
 "cells": [
  {
   "cell_type": "raw",
   "id": "ad0a43e0",
   "metadata": {},
   "source": [
    "July 5"
   ]
  },
  {
   "cell_type": "code",
   "execution_count": 1,
   "id": "a3b91d7b",
   "metadata": {},
   "outputs": [],
   "source": [
    "import h5py\n",
    "import numpy as np\n",
    "from sklearn.preprocessing import StandardScaler"
   ]
  },
  {
   "cell_type": "code",
   "execution_count": 2,
   "id": "400c50e2",
   "metadata": {},
   "outputs": [],
   "source": [
    "ef = h5py.File('/fast_scratch/QVAE/data/calo/eplus.hdf5','r')\n",
    "gf = h5py.File('/fast_scratch/QVAE/data/calo/gamma.hdf5','r')\n",
    "pf = h5py.File('/fast_scratch/QVAE/data/calo/piplus.hdf5','r')"
   ]
  },
  {
   "cell_type": "code",
   "execution_count": 3,
   "id": "2457aed4",
   "metadata": {},
   "outputs": [],
   "source": [
    "hdfs = [ef, gf, pf]\n",
    "nplcats = []\n",
    "\n",
    "for hdf in hdfs:\n",
    "    npl0 = np.array(hdf['layer_0'])\n",
    "    npl1 = np.array(hdf['layer_1'])\n",
    "    npl2 = np.array(hdf['layer_2'])\n",
    "    \n",
    "    npl0 = npl0.reshape(npl0.shape[0], -1)\n",
    "    npl1 = npl1.reshape(npl1.shape[0], -1)\n",
    "    npl2 = npl2.reshape(npl2.shape[0], -1)\n",
    "    \n",
    "    nplcats.append(np.concatenate([npl0, npl1, npl2], axis=1))"
   ]
  },
  {
   "cell_type": "raw",
   "id": "423ccda6",
   "metadata": {},
   "source": [
    "Fit and transform"
   ]
  },
  {
   "cell_type": "code",
   "execution_count": 4,
   "id": "f3837c93",
   "metadata": {},
   "outputs": [],
   "source": [
    "nplcatscaled = []\n",
    "transformers = []\n",
    "arrmins = [[], [], []]\n",
    "epsilon = 1e-2\n",
    "\n",
    "for i in range(len(nplcats)):\n",
    "    nparr = nplcats[i]\n",
    "    nparr = np.where(nparr > 0., nparr, np.nan)\n",
    "    transformer = StandardScaler().fit(nparr)\n",
    "    nparr = transformer.transform(nparr)\n",
    "    transformers.append(transformer)\n",
    "    \n",
    "    nparr = np.where(np.isnan(nparr), np.inf, nparr)\n",
    "    \n",
    "    for j in range(nparr.shape[1]):\n",
    "        arrmin = np.amin(nparr[:, j])\n",
    "        \n",
    "        if arrmin < 0 and not np.isnan(arrmin):\n",
    "            nparr[:, j] -= arrmin\n",
    "            nparr[:, j] += epsilon\n",
    "            arrmins[i].append(arrmin)\n",
    "        else:\n",
    "            arrmins[i].append(0.)\n",
    "            \n",
    "    nparr = np.where(np.isinf(nparr), 0, nparr)\n",
    "    \n",
    "    for j in range(nparr.shape[1]):\n",
    "        arrmin = np.amin(nparr[:, j])\n",
    "        if arrmin < 0:\n",
    "            print(j, arrmin)\n",
    "            \n",
    "    nplcatscaled.append(nparr)"
   ]
  },
  {
   "cell_type": "code",
   "execution_count": 5,
   "id": "a2f88b86",
   "metadata": {},
   "outputs": [],
   "source": [
    "ef_scaled = h5py.File('/fast_scratch/QVAE/data/calo_scaled/eplus.hdf5','w')\n",
    "gf_scaled = h5py.File('/fast_scratch/QVAE/data/calo_scaled/gamma.hdf5','w')\n",
    "pf_scaled = h5py.File('/fast_scratch/QVAE/data/calo_scaled/piplus.hdf5','w')"
   ]
  },
  {
   "cell_type": "code",
   "execution_count": 6,
   "id": "02bed298",
   "metadata": {},
   "outputs": [],
   "source": [
    "hdfs_scaled = [ef_scaled, gf_scaled, pf_scaled]\n",
    "layer_shapes = {}\n",
    "for key in hdf.keys():\n",
    "    if key == \"energy\" or key == \"overflow\":\n",
    "        pass\n",
    "    else:\n",
    "        layer_shapes[key] = hdf[key].shape"
   ]
  },
  {
   "cell_type": "code",
   "execution_count": 7,
   "id": "e9a14a40",
   "metadata": {},
   "outputs": [
    {
     "data": {
      "text/plain": [
       "{'layer_0': (100000, 3, 96),\n",
       " 'layer_1': (100000, 12, 12),\n",
       " 'layer_2': (100000, 12, 6)}"
      ]
     },
     "execution_count": 7,
     "metadata": {},
     "output_type": "execute_result"
    }
   ],
   "source": [
    "layer_shapes"
   ]
  },
  {
   "cell_type": "code",
   "execution_count": 8,
   "id": "dd57184b",
   "metadata": {},
   "outputs": [
    {
     "name": "stdout",
     "output_type": "stream",
     "text": [
      "(100000, 504)\n",
      "(100000, 288)\n",
      "(100000, 504)\n",
      "(100000, 144)\n",
      "(100000, 504)\n",
      "(100000, 72)\n",
      "(100000, 504)\n",
      "(100000, 288)\n",
      "(100000, 504)\n",
      "(100000, 144)\n",
      "(100000, 504)\n",
      "(100000, 72)\n",
      "(100000, 504)\n",
      "(100000, 288)\n",
      "(100000, 504)\n",
      "(100000, 144)\n",
      "(100000, 504)\n",
      "(100000, 72)\n"
     ]
    }
   ],
   "source": [
    "for hdf, hdf_scaled, scaled_data in zip(hdfs, hdfs_scaled, nplcatscaled):\n",
    "    offset = 0\n",
    "    for key in hdf.keys():\n",
    "        if key == \"energy\" or key == \"overflow\":\n",
    "            hdf_scaled.create_dataset(key, data=hdf[key])\n",
    "        else:\n",
    "            layer_shape = layer_shapes[key]\n",
    "            print(scaled_data.shape)\n",
    "            layer_data = scaled_data[:, offset:offset+(layer_shape[1]*layer_shape[2])]\n",
    "            print(layer_data.shape)\n",
    "            layer_data = layer_data.reshape(layer_shape)\n",
    "            hdf_scaled.create_dataset(key, data=layer_data)\n",
    "            offset += layer_shape[1]*layer_shape[2]"
   ]
  },
  {
   "cell_type": "code",
   "execution_count": 9,
   "id": "00374e71",
   "metadata": {},
   "outputs": [
    {
     "name": "stdout",
     "output_type": "stream",
     "text": [
      "energy (100000, 1) float64\n",
      "layer_0 (100000, 3, 96) float64\n",
      "layer_1 (100000, 12, 12) float64\n",
      "layer_2 (100000, 12, 6) float64\n",
      "overflow (100000, 3) float64\n",
      "energy (100000, 1) float64\n",
      "layer_0 (100000, 3, 96) float64\n",
      "layer_1 (100000, 12, 12) float64\n",
      "layer_2 (100000, 12, 6) float64\n",
      "overflow (100000, 3) float64\n",
      "energy (100000, 1) float64\n",
      "layer_0 (100000, 3, 96) float64\n",
      "layer_1 (100000, 12, 12) float64\n",
      "layer_2 (100000, 12, 6) float64\n",
      "overflow (100000, 3) float64\n"
     ]
    }
   ],
   "source": [
    "for hdf_scaled in hdfs_scaled:\n",
    "    for key in hdf_scaled.keys():\n",
    "        print(key, hdf_scaled[key].shape, hdf_scaled[key].dtype)"
   ]
  },
  {
   "cell_type": "code",
   "execution_count": 10,
   "id": "a86e25a2",
   "metadata": {},
   "outputs": [],
   "source": [
    "for hdf_scaled in hdfs_scaled:\n",
    "    hdf_scaled.close()"
   ]
  },
  {
   "cell_type": "code",
   "execution_count": 11,
   "id": "48612961",
   "metadata": {},
   "outputs": [
    {
     "name": "stdout",
     "output_type": "stream",
     "text": [
      "(100000, 504)\n",
      "(100000, 504)\n",
      "(100000, 504)\n"
     ]
    }
   ],
   "source": [
    "for nplcat in nplcatscaled:\n",
    "    print(nplcat.shape)"
   ]
  },
  {
   "cell_type": "code",
   "execution_count": 12,
   "id": "896840f6",
   "metadata": {},
   "outputs": [
    {
     "name": "stdout",
     "output_type": "stream",
     "text": [
      "504\n"
     ]
    }
   ],
   "source": [
    "print(len(arrmins[0]))"
   ]
  },
  {
   "cell_type": "raw",
   "id": "a934db67",
   "metadata": {},
   "source": [
    "Inverse transform"
   ]
  },
  {
   "cell_type": "code",
   "execution_count": null,
   "id": "63b75d36",
   "metadata": {},
   "outputs": [],
   "source": [
    "nplcatinv = []\n",
    "\n",
    "for i in range(len(nplcatscaled)):\n",
    "    nparr = nplcatscaled[i]\n",
    "    nparr = np.where(nparr > 0., nparr, np.nan)\n",
    "    \n",
    "    for j in range(nparr.shape[1]):\n",
    "        arrmin = arrmins[i][j]\n",
    "        if arrmin < 0. and not np.isnan(arrmin):\n",
    "            nparr[:, j] -= epsilon\n",
    "            nparr[:, j] += arrmin\n",
    "            \n",
    "    transformer = transformers[i]\n",
    "    nparr = transformer.inverse_transform(nparr)\n",
    "    \n",
    "    nparr = np.where(np.isinf(nparr), 0, nparr)\n",
    "    nplcatinv.append(nparr)"
   ]
  },
  {
   "cell_type": "code",
   "execution_count": null,
   "id": "1617be2f",
   "metadata": {},
   "outputs": [],
   "source": [
    "for i in range(len(nplcatinv)):\n",
    "    nparrorig = nplcats[i]\n",
    "    nparrinv = nplcatinv[i]\n",
    "    \n",
    "    for j in range(nparrorig.shape[1]):\n",
    "        diff = np.sum(nparrorig[:, j] - nparrinv[:, j])\n",
    "        if diff > 0:\n",
    "            print(i, j, diff)"
   ]
  },
  {
   "cell_type": "code",
   "execution_count": null,
   "id": "c979807b",
   "metadata": {},
   "outputs": [],
   "source": [
    "params = transformers[0].get_params()"
   ]
  },
  {
   "cell_type": "code",
   "execution_count": null,
   "id": "6774b743",
   "metadata": {},
   "outputs": [],
   "source": [
    "params"
   ]
  },
  {
   "cell_type": "code",
   "execution_count": 13,
   "id": "1965a5ab",
   "metadata": {},
   "outputs": [],
   "source": [
    "import joblib"
   ]
  },
  {
   "cell_type": "code",
   "execution_count": null,
   "id": "e5db7472",
   "metadata": {},
   "outputs": [],
   "source": [
    "joblib.dump(transformers[0], 'scaler.gz')\n",
    "transformer = joblib.load('scaler.gz')"
   ]
  },
  {
   "cell_type": "code",
   "execution_count": 11,
   "id": "9d5dd6e9",
   "metadata": {},
   "outputs": [
    {
     "name": "stdout",
     "output_type": "stream",
     "text": [
      "3\n"
     ]
    }
   ],
   "source": [
    "print(len(transformers))"
   ]
  },
  {
   "cell_type": "code",
   "execution_count": 14,
   "id": "467558d9",
   "metadata": {},
   "outputs": [
    {
     "data": {
      "text/plain": [
       "['/fast_scratch/QVAE/data/calo_scaled/piplus_scaler.gz']"
      ]
     },
     "execution_count": 14,
     "metadata": {},
     "output_type": "execute_result"
    }
   ],
   "source": [
    "joblib.dump(transformers[0], '/fast_scratch/QVAE/data/calo_scaled/eplus_scaler.gz')\n",
    "joblib.dump(transformers[1], '/fast_scratch/QVAE/data/calo_scaled/gamma_scaler.gz')\n",
    "joblib.dump(transformers[2], '/fast_scratch/QVAE/data/calo_scaled/piplus_scaler.gz')"
   ]
  },
  {
   "cell_type": "code",
   "execution_count": null,
   "id": "b758880d",
   "metadata": {},
   "outputs": [],
   "source": [
    "ld_transformers = []\n",
    "ld_transformers.append(joblib.load('/fast_scratch/QVAE/data/calo_scaled/eplus_scaler.gz'))\n",
    "ld_transformers.append(joblib.load('/fast_scratch/QVAE/data/calo_scaled/gamma_scaler.gz'))\n",
    "ld_transformers.append(joblib.load('/fast_scratch/QVAE/data/calo_scaled/piplus_scaler.gz'))"
   ]
  },
  {
   "cell_type": "code",
   "execution_count": null,
   "id": "b905d268",
   "metadata": {},
   "outputs": [],
   "source": [
    "nplcatinv = []\n",
    "\n",
    "for i in range(len(nplcatscaled)):\n",
    "    nparr = nplcatscaled[i]\n",
    "    nparr = np.where(nparr > 0., nparr, np.inf)\n",
    "    \n",
    "    for j in range(nparr.shape[1]):\n",
    "        arrmin = arrmins[i][j]\n",
    "        if arrmin < 0. and not np.isnan(arrmin):\n",
    "            nparr[:, j] -= epsilon\n",
    "            nparr[:, j] += arrmin\n",
    "            \n",
    "    transformer = ld_transformers[i]\n",
    "    nparr = transformer.inverse_transform(nparr)\n",
    "    \n",
    "    nparr = np.where(np.isnan(nparr), 0, nparr)\n",
    "    nplcatinv.append(nparr)"
   ]
  },
  {
   "cell_type": "code",
   "execution_count": null,
   "id": "429b88a8",
   "metadata": {},
   "outputs": [],
   "source": [
    "for i in range(len(nplcatinv)):\n",
    "    nparrorig = nplcats[i]\n",
    "    nparrinv = nplcatinv[i]\n",
    "    \n",
    "    for j in range(nparrorig.shape[1]):\n",
    "        diff = np.sum(nparrorig[:, j] - nparrinv[:, j])\n",
    "        if diff > 1e-4:\n",
    "            print(i, j, diff)"
   ]
  },
  {
   "cell_type": "code",
   "execution_count": null,
   "id": "19abaec2",
   "metadata": {},
   "outputs": [],
   "source": [
    "print(len(arrmins))"
   ]
  },
  {
   "cell_type": "code",
   "execution_count": 15,
   "id": "2d377d10",
   "metadata": {
    "collapsed": true,
    "jupyter": {
     "outputs_hidden": true
    }
   },
   "outputs": [
    {
     "name": "stdout",
     "output_type": "stream",
     "text": [
      "[-0.5959064373416986, -0.5622603200408175, -0.37513110935013355, -0.6737464227445097, -0.629446319873555, -0.6720499945434836, -0.7302354625912914, -0.7172861209373235, -0.7028860397764091, -0.7345743016415225, -0.6836477418781669, -0.6973972609377652, -0.7288815012062925, -0.7322435141756855, -0.7567346767560692, -0.7187761469688931, -0.7493992596107317, -0.6886990813275131, -0.5955661933364701, -0.758772870266937, -0.7486757372817129, -0.6744731828368059, -0.7979090057187314, -0.7702256173688452, -0.8121844160731246, -0.7760967778174547, -0.7753829365363561, -0.7408317852620152, -0.7798878372220637, -0.7350784816719097, -0.8244806915064258, -0.837450391153935, -0.8265436305293953, -0.8012540710792301, -0.8441669480976528, -0.8272459138771697, -0.8425398132824912, -0.8498636207731, -0.850767351049863, -0.856530789339261, -0.8758901766232691, -0.8556008494014192, -0.847688302994781, -0.8769419360557953, -0.8651428142733057, -0.897401725331356, -0.8217828948031094, -0.9123910466292217, -0.9111453371297729, -0.8509582255034785, -0.8576978737657177, -0.8705301174761663, -0.8361681036351701, -0.8856126122328271, -0.8703998918866507, -0.8759097304698638, -0.8534924307658566, -0.8482552400603648, -0.8587629680777488, -0.8498813865689239, -0.8454482825906534, -0.8291224120734307, -0.8250378363817022, -0.8052030821221077, -0.7873061245072778, -0.7705715383058274, -0.8215467552548316, -0.779611075650519, -0.7672820537864543, -0.715102606183897, -0.7724501770136245, -0.7940890160831704, -0.7478115030495693, -0.7543214512593444, -0.7424650372961857, -0.7796507268295942, -0.6394158852705172, -0.7735718463685489, -0.7631778154470522, -0.7295064029221039, -0.714657536290262, -0.6697049090550228, -0.6014731703250039, -0.6785590817479946, -0.763696736986951, -0.74519402524914, -0.7541240630066591, -0.7432386791296103, -0.5907647726712069, -0.6582881556255937, -0.710964319135219, -0.6891613582106476, -0.6316843209317503, -0.6540356003687445, -0.702913802919988, -0.625461064240566, -0.6860922989451887, -0.6976586342059523, -0.7302405895021583, -0.7463740987952924, -0.7466366178135833, -0.717637695368748, -0.755377363563368, -0.7770017623275587, -0.7780797854884214, -0.7938612593602048, -0.786070088930865, -0.7537769682139231, -0.7080251351121435, -0.7377644679381631, -0.8136169527015955, -0.809080283006916, -0.8006445813166668, -0.840692290706763, -0.8563812382758319, -0.8666676780276029, -0.8927074471528352, -0.8920530590709942, -0.9113935229151224, -0.9203910193044882, -0.9426475910214487, -0.9751599476935567, -1.0010419647800162, -1.038347729206091, -1.068259454642769, -1.1068452995971025, -1.1413283764473294, -1.1950774396789567, -1.2370842777648308, -1.2865656260599285, -1.3327436372489168, -1.389939567111652, -1.44167455462378, -1.4886756845015678, -1.5397031169605535, -1.6003601638636629, -1.6455441322546087, -1.6949832883080755, -1.7367306709625878, -1.785252257622388, -1.8106015358038148, -1.8354634132079897, -1.862049730501487, -1.8824268779207773, -1.883822963749937, -1.8611794781283948, -1.8322908246484861, -1.8105192221927786, -1.7807650586060506, -1.7391024265352193, -1.6969864076983012, -1.644585436785739, -1.595422822923984, -1.5451577000236718, -1.4905951137365239, -1.4290108205310008, -1.383646890403164, -1.3301987386142928, -1.2827360175665354, -1.2230915308263304, -1.1871864070167968, -1.1429098160829705, -1.0969456737537853, -1.0653404341173902, -1.0323428839976425, -1.0069649658550743, -0.9730168853968525, -0.9491796457785187, -0.9115654452590256, -0.9094561250611055, -0.8962206623051336, -0.882850186039417, -0.8749616680680604, -0.8588028379140912, -0.8363227146040458, -0.8176575448056116, -0.8215312504893221, -0.813309754472956, -0.795920245532897, -0.815400185437338, -0.804199078844312, -0.7572281113066308, -0.7633787044094373, -0.7662079117999744, -0.7782272282215943, -0.7417162750557021, -0.7110290642261056, -0.7480740220804851, -0.6496438147980252, -0.7455241880910125, -0.7225526813786908, -0.7428351054542586, -0.6391347739209154, -0.597005836885161, -0.6882295838071902, -0.6791197736932516, -0.6898418453860257, -0.6134642480828866, -0.7273405325637058, -0.7119423766737984, -0.6553350982022711, -0.7322883771426492, -0.7300347055206224, -0.7086614549537466, -0.6923863590887983, -0.7733754611802862, -0.711676611627687, -0.7521213932881161, -0.7710260583162324, -0.722027330109229, -0.7768313658837992, -0.779127510901238, -0.7950437241428274, -0.7952670811204836, -0.7761577227998583, -0.7835691198212031, -0.7862158770906549, -0.7642683677184889, -0.8056024130008068, -0.8052502416814611, -0.7986330388559411, -0.7852334169590269, -0.7971710495307631, -0.8264885238445873, -0.8122019416187514, -0.8332850340262585, -0.8542557085040436, -0.8631066900024419, -0.8329053519001164, -0.8533826193259162, -0.8478357168924234, -0.8603927595971023, -0.8848014535980187, -0.8888938551591479, -0.8848191800475683, -0.8756399798235169, -0.8696147891790253, -0.8684713864196381, -0.8615002297826804, -0.8526839433949828, -0.8959426242026431, -0.8953740854084675, -0.8747645065103815, -0.8644532460550751, -0.8783649399841134, -0.8853734458358545, -0.8729647113658947, -0.8906702669314368, -0.8494784204088066, -0.8558755664871698, -0.8382634202271171, -0.8391171036917867, -0.7907540289353375, -0.8340452299094067, -0.8208764502539067, -0.8021992641384441, -0.8141512364839134, -0.823521305687266, -0.803124787820787, -0.8091556048353422, -0.8028366952284651, -0.7793885356736863, -0.7252488839948145, -0.7953643716897101, -0.7828743310493445, -0.7697405462623114, -0.7392584373462133, -0.7315272821128443, -0.7851890841130604, -0.6913853640809204, -0.77468542263682, -0.7366457458637676, -0.7581739207708069, -0.7276691347404687, -0.7048925020093444, -0.7237148545705631, -0.7260350307224928, -0.7334957324125103, -0.752408208100476, -0.7140668767269891, -0.735678092700985, -0.7318433543764633, -0.7145578032061614, -0.7143039223783159, -0.69201195775039, -0.6743850762031696, -0.6216439385893059, -0.6404040589095636, -0.5666797233280975, -0.7148621636126193, -0.8265853287908952, -0.8389679409290556, -0.9359785442003683, -0.9557601100126575, -0.9726550823777304, -0.9189141124323102, -0.7759327652473434, -0.6998646364393886, -0.7568917309091668, -0.675641736730879, -0.5589477224565526, -0.6921045284575801, -0.9427105713211036, -1.0017787367765403, -1.1646571342081389, -1.1611162427982356, -1.1889008674045154, -1.1518373553458794, -1.0180698084855737, -0.8862238244384301, -0.8147719126961316, -0.6791719769269241, -0.7866847448132716, -0.8422976228417839, -1.076926021820527, -1.2613892859395925, -1.3796479058430289, -1.4490327812583523, -1.4463972587568066, -1.382356177439558, -1.2355497268186642, -1.104144417111125, -0.9368021264839126, -0.7956365188129239, -0.8731294488529575, -1.036000146413461, -1.2621353840522234, -1.448555571735145, -1.5637528976741877, -1.6142451054081501, -1.6137739068598163, -1.564172929472389, -1.4459252263030606, -1.255603909498534, -1.0280887215439194, -0.8564169406446519, -0.8749401928773772, -1.148271203826548, -1.3898628099527013, -1.558959236876998, -1.65524245104589, -1.6901887554866446, -1.6885233180359054, -1.6558079803757189, -1.5609318842285937, -1.3916034559102521, -1.114536783207148, -0.890938097009415, -0.8931518751943225, -1.1898093476792044, -1.4534907437574025, -1.6122047236750485, -1.6891569487411218, -1.631068174362309, -1.632800967847638, -1.6893872310652682, -1.6160578016543325, -1.4563577815954587, -1.1919634152736154, -0.9369201764295494, -0.937671332937138, -1.1877834925738793, -1.4531401143657405, -1.6150326082493496, -1.6903294865050484, -1.6319319120755003, -1.6320979405093436, -1.6890539202782135, -1.6087740879313066, -1.441736742436702, -1.1573128904402805, -0.9594827299976164, -0.8792845267667031, -1.147958528011302, -1.388778694133607, -1.5640730021163147, -1.6533007203877348, -1.6895123123601958, -1.6884516322468506, -1.6541752490043478, -1.5628744134390422, -1.3915653880960026, -1.131912579055051, -0.9102508531183459, -0.8480091962277982, -1.0361870893652931, -1.2648688808743596, -1.4431857295196322, -1.5616472977859417, -1.6144602184710504, -1.6137906114805052, -1.5636673310833415, -1.449853610628438, -1.2652861885567737, -1.0374365407053263, -0.8632629763171061, -0.787065912427983, -0.922150524447998, -1.096662758066978, -1.2512399486198837, -1.3893429785947335, -1.4462049669253476, -1.4369595542432305, -1.3811320141269119, -1.2578343983946754, -1.0874908198714919, -0.8875188723020827, -0.6350167526887492, -0.701827149445056, -0.7110730825508821, -0.828693347609965, -1.027351789495525, -1.1450462985790937, -1.1925072645561636, -1.1603948135141409, -1.1335569856330219, -1.0384453931978008, -0.8658799635035883, -0.7503089789093623, -0.7421740015540885, -0.5776737694067389, -0.684559837918073, -0.7363806274094601, -0.8429275432628244, -0.8926289755338005, -0.9308101657030977, -0.9143982057705932, -0.8720470158275807, -0.7664251121328283, -0.7976070022628261, -0.68105702217145, -0.5161053038443997, -0.6331974158006018, -0.7463207484554986, -0.6211956523686396, -0.6172589711828906, -0.7645438860198623, -0.5798247019394126, -0.7057369329991982, -0.7851257945393982, -0.8304105010064746, -0.7765172092511342, -0.6598947832160593, -0.7608498775113066, -0.5731132084843678, -0.5525675593917806, -0.8220884844511379, -0.7020643336434325, -0.7729024487265131, -0.7351308376796925, -0.6167376294746664, -0.8065954231014292, -0.8337898023852208, -0.8521186968053817, -0.84764744235628, -0.7172166567503648, -0.8547698922138521, -0.7486366784761783, -0.8878122089279017, -0.8672627481746202, -0.6796726413449728, -0.8129375508643035, -0.7924578433416161, -0.8431524554002093, -0.617723693605686, -0.6121701122683483, -0.816288011247558, -0.7290300257940202, -0.7645507247996182, -0.8315204168484798, -0.6145726987187398, -0.6129246650735944, -0.8446887579302761, -0.6845394595722216, -0.6995859605914584, -0.8526697260550659, -0.8911160326829525, -0.8787504538094362, -0.8414897920030656, -0.6727710995532022, -0.5533374993514932, -0.7659543124300181, -0.8518709217734921, -0.7907488964371137, -0.8490932351217859, -0.7648013223987902, -0.7991668259067969, -0.6956977897483937, -0.7969889434631282, -0.7892689551698656, -0.8192533381100554, -0.535547323985938, -0.3887627586123554, -0.6176768694962901, -0.7444217157866385, -0.5979750849350465, -0.7649109648635508, -0.44686100040313836, -0.38068682182951286, -0.6872012644507377, -0.728128816427605, -0.5298630984305716, -0.702707029993861, -0.5611227021454865]\n"
     ]
    }
   ],
   "source": [
    "print(arrmins[0])"
   ]
  },
  {
   "cell_type": "code",
   "execution_count": 16,
   "id": "0626a935",
   "metadata": {},
   "outputs": [],
   "source": [
    "for i, ptype in enumerate([\"eplus\", \"gamma\", \"piplus\"]):\n",
    "    filepath = \"/fast_scratch/QVAE/data/calo_scaled/\" + ptype + \"_amin.npy\"\n",
    "    with open(filepath, 'wb') as f:\n",
    "        np.save(f, arrmins[i])"
   ]
  },
  {
   "cell_type": "code",
   "execution_count": null,
   "id": "3aff5f77",
   "metadata": {},
   "outputs": [],
   "source": [
    "def method(idx, a=10):\n",
    "    return a"
   ]
  },
  {
   "cell_type": "code",
   "execution_count": null,
   "id": "25c892bb",
   "metadata": {},
   "outputs": [],
   "source": [
    "method(1)"
   ]
  },
  {
   "cell_type": "code",
   "execution_count": null,
   "id": "e5d3b94e",
   "metadata": {},
   "outputs": [],
   "source": [
    "a = np.random.randn(50)"
   ]
  },
  {
   "cell_type": "code",
   "execution_count": null,
   "id": "ee0c9931",
   "metadata": {},
   "outputs": [],
   "source": [
    "len(a[:50])"
   ]
  },
  {
   "cell_type": "code",
   "execution_count": null,
   "id": "724b51da",
   "metadata": {},
   "outputs": [],
   "source": [
    "a, b = [50, 10]"
   ]
  },
  {
   "cell_type": "code",
   "execution_count": null,
   "id": "bc12d79c",
   "metadata": {},
   "outputs": [],
   "source": [
    "a"
   ]
  },
  {
   "cell_type": "code",
   "execution_count": null,
   "id": "6c08ca70",
   "metadata": {},
   "outputs": [],
   "source": [
    "b"
   ]
  },
  {
   "cell_type": "code",
   "execution_count": null,
   "id": "30327c22",
   "metadata": {},
   "outputs": [],
   "source": [
    "np.logspace(, 10, 100)"
   ]
  },
  {
   "cell_type": "code",
   "execution_count": null,
   "id": "1aeff7ac",
   "metadata": {},
   "outputs": [],
   "source": [
    "np.log10(0)"
   ]
  },
  {
   "cell_type": "code",
   "execution_count": null,
   "id": "08c1cea1",
   "metadata": {},
   "outputs": [],
   "source": [
    "5^/2"
   ]
  },
  {
   "cell_type": "code",
   "execution_count": null,
   "id": "7aad66dc",
   "metadata": {},
   "outputs": [],
   "source": [
    "a = [1, 2]\n",
    "b = [3, 4]"
   ]
  },
  {
   "cell_type": "code",
   "execution_count": null,
   "id": "22f56d91",
   "metadata": {},
   "outputs": [],
   "source": [
    "c = [np.divide(ai, bi) for ai, bi in zip(a, b)]"
   ]
  },
  {
   "cell_type": "code",
   "execution_count": null,
   "id": "e5690e7d",
   "metadata": {},
   "outputs": [],
   "source": [
    "c"
   ]
  },
  {
   "cell_type": "code",
   "execution_count": null,
   "id": "6fb9f591",
   "metadata": {},
   "outputs": [],
   "source": [
    "a = {\"a\":1, \"b\":2}"
   ]
  },
  {
   "cell_type": "code",
   "execution_count": null,
   "id": "799e90bf",
   "metadata": {},
   "outputs": [],
   "source": [
    "a[[a,b]]"
   ]
  },
  {
   "cell_type": "code",
   "execution_count": null,
   "id": "74d36255",
   "metadata": {},
   "outputs": [],
   "source": []
  }
 ],
 "metadata": {
  "kernelspec": {
   "display_name": "Python 3 (ipykernel)",
   "language": "python",
   "name": "python3"
  },
  "language_info": {
   "codemirror_mode": {
    "name": "ipython",
    "version": 3
   },
   "file_extension": ".py",
   "mimetype": "text/x-python",
   "name": "python",
   "nbconvert_exporter": "python",
   "pygments_lexer": "ipython3",
   "version": "3.8.12"
  }
 },
 "nbformat": 4,
 "nbformat_minor": 5
}
