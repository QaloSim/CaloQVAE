{
 "cells": [
  {
   "cell_type": "code",
   "execution_count": 283,
   "id": "170c3bfc",
   "metadata": {},
   "outputs": [],
   "source": [
    "import numpy as np\n",
    "import torch\n",
    "from torch.utils.data import TensorDataset, DataLoader\n",
    "import torch.nn as nn # layer types\n",
    "import torch.nn.functional as func \n",
    "import torch.optim as optim\n",
    "import matplotlib.pyplot as plt"
   ]
  },
  {
   "cell_type": "code",
   "execution_count": 250,
   "id": "5a6361ba",
   "metadata": {},
   "outputs": [],
   "source": [
    "triumf_ml1_dir = '/home/s4hoque/DwaveSampInteg'\n",
    "# path to semi-trained piplus model\n",
    "#DwaveSampInteg/CaloQVAE/outputs/2022-11-30/16-39-46/synthetic_images_piplus.pt\n",
    "#DwaveSampInteg/CaloQVAE/outputs/2022-12-01/22-29-17/synthetic_images_piplus.pt\n",
    "pi_plus = triumf_ml1_dir+'/CaloQVAE/outputs/2022-12-01/22-29-17/synthetic_images_piplus.pt'"
   ]
  },
  {
   "cell_type": "code",
   "execution_count": 136,
   "id": "54044623",
   "metadata": {},
   "outputs": [],
   "source": [
    "triumf_ml1_dir = '/home/s4hoque/DwaveSampInteg'\n",
    "# path to semi-trained piplus model\n",
    "#DwaveSampInteg/CaloQVAE/outputs/2022-11-30/18-02-26/synthetic_images_gamma.pt\n",
    "gamma_plus = triumf_ml1_dir+'/CaloQVAE/outputs/2022-11-30/18-02-26/synthetic_images_gamma.pt'\n",
    "piplus = triumf_ml1_dir+'/CaloQVAE/outputs/2022-11-30/18-02-26/synthetic_images_gamma.pt'"
   ]
  },
  {
   "cell_type": "code",
   "execution_count": 251,
   "id": "0ad3ef4c",
   "metadata": {},
   "outputs": [],
   "source": [
    "# path to eplus\n",
    "# DwaveSampInteg/CaloQVAE/outputs/2022-11-30/22-26-46/synthetic_images_eplus.pt\n",
    "triumf_ml1_dir = '/home/s4hoque/DwaveSampInteg'\n",
    "gamma_plus = triumf_ml1_dir+'/CaloQVAE/outputs/2022-11-30/22-26-46/synthetic_images_eplus.pt'"
   ]
  },
  {
   "cell_type": "code",
   "execution_count": 252,
   "id": "24786a02",
   "metadata": {},
   "outputs": [],
   "source": [
    "piplus_data = torch.load(pi_plus)"
   ]
  },
  {
   "cell_type": "code",
   "execution_count": 253,
   "id": "f6955bf1",
   "metadata": {},
   "outputs": [],
   "source": [
    "gamma_data = torch.load(gamma_plus)"
   ]
  },
  {
   "cell_type": "code",
   "execution_count": 254,
   "id": "7f19df53",
   "metadata": {},
   "outputs": [
    {
     "data": {
      "text/plain": [
       "10"
      ]
     },
     "execution_count": 254,
     "metadata": {},
     "output_type": "execute_result"
    }
   ],
   "source": [
    "len(piplus_data) # 1024 different data"
   ]
  },
  {
   "cell_type": "code",
   "execution_count": 255,
   "id": "6dcbb5bf",
   "metadata": {},
   "outputs": [
    {
     "data": {
      "text/plain": [
       "10"
      ]
     },
     "execution_count": 255,
     "metadata": {},
     "output_type": "execute_result"
    }
   ],
   "source": [
    "len(gamma_data)"
   ]
  },
  {
   "cell_type": "code",
   "execution_count": 256,
   "id": "5e944449",
   "metadata": {},
   "outputs": [
    {
     "data": {
      "text/plain": [
       "torch.Size([10240, 504])"
      ]
     },
     "execution_count": 256,
     "metadata": {},
     "output_type": "execute_result"
    }
   ],
   "source": [
    "piplus_tensor_orig = torch.cat(piplus_data)\n",
    "piplus_tensor = piplus_tensor_orig/piplus_tensor_orig.size(1)  #torch.nn.functional.normalize(piplus_tensor_orig, dim=1)\n",
    "piplus_tensor.size()  "
   ]
  },
  {
   "cell_type": "code",
   "execution_count": 257,
   "id": "945e7845",
   "metadata": {},
   "outputs": [],
   "source": [
    "# inspect piplus tensor begin"
   ]
  },
  {
   "cell_type": "code",
   "execution_count": 258,
   "id": "c9e67690",
   "metadata": {},
   "outputs": [
    {
     "data": {
      "text/plain": [
       "torch.Size([10240, 504])"
      ]
     },
     "execution_count": 258,
     "metadata": {},
     "output_type": "execute_result"
    }
   ],
   "source": [
    "piplus_tensor.size()"
   ]
  },
  {
   "cell_type": "code",
   "execution_count": 259,
   "id": "1807442b",
   "metadata": {},
   "outputs": [
    {
     "data": {
      "text/plain": [
       "tensor(2.5075)"
      ]
     },
     "execution_count": 259,
     "metadata": {},
     "output_type": "execute_result"
    }
   ],
   "source": [
    "torch.sum(piplus_tensor[0])"
   ]
  },
  {
   "cell_type": "code",
   "execution_count": 260,
   "id": "35ec8429",
   "metadata": {},
   "outputs": [
    {
     "data": {
      "text/plain": [
       "tensor([[0.0000, 0.0000, 0.0000,  ..., 0.0000, 0.0000, 0.0000],\n",
       "        [0.0000, 0.0000, 0.0000,  ..., 0.0000, 0.0000, 0.0000],\n",
       "        [0.0000, 0.0000, 0.0000,  ..., 0.0021, 0.0000, 0.0000],\n",
       "        ...,\n",
       "        [0.0000, 0.0000, 0.0000,  ..., 0.0000, 0.0000, 0.0000],\n",
       "        [0.0000, 0.0000, 0.0000,  ..., 0.0000, 0.0000, 0.0000],\n",
       "        [0.0000, 0.0000, 0.0000,  ..., 0.0028, 0.0021, 0.0000]])"
      ]
     },
     "execution_count": 260,
     "metadata": {},
     "output_type": "execute_result"
    }
   ],
   "source": [
    "piplus_tensor"
   ]
  },
  {
   "cell_type": "code",
   "execution_count": null,
   "id": "96b47e8e",
   "metadata": {},
   "outputs": [],
   "source": []
  },
  {
   "cell_type": "code",
   "execution_count": 261,
   "id": "501a0b33",
   "metadata": {},
   "outputs": [],
   "source": [
    "# inspect piplus tensor end"
   ]
  },
  {
   "cell_type": "code",
   "execution_count": 262,
   "id": "ee3d27ca",
   "metadata": {},
   "outputs": [
    {
     "data": {
      "text/plain": [
       "torch.Size([10240, 504])"
      ]
     },
     "execution_count": 262,
     "metadata": {},
     "output_type": "execute_result"
    }
   ],
   "source": [
    "gamma_tensor_orig = torch.cat(gamma_data)\n",
    "gamma_tensor = gamma_tensor_orig/gamma_tensor_orig.size(1)\n",
    "gamma_tensor.size()  "
   ]
  },
  {
   "cell_type": "code",
   "execution_count": 263,
   "id": "4a9eb88e",
   "metadata": {},
   "outputs": [],
   "source": [
    "# eplus_tensor = piplus_tensor\n",
    "# gamma_tensor = piplus_tensor\n",
    "# gamma_tensor.size()"
   ]
  },
  {
   "cell_type": "code",
   "execution_count": 264,
   "id": "3a1b6597",
   "metadata": {},
   "outputs": [],
   "source": [
    "ONES = torch.ones(piplus_tensor.size(0)) # pp=1\n",
    "ZEROS = torch.zeros(gamma_tensor.size(0)) # pp=0\n",
    "piplus_labels = ZEROS\n",
    "gamma_labels = ONES"
   ]
  },
  {
   "cell_type": "code",
   "execution_count": 320,
   "id": "fbc85bdb",
   "metadata": {},
   "outputs": [],
   "source": [
    "all_data = torch.cat((piplus_tensor, gamma_tensor),dim=0)\n",
    "all_labels = torch.cat((piplus_labels, gamma_labels), dim=0)\n",
    "dataset = TensorDataset(all_data, all_labels)\n",
    "data_loader = DataLoader(dataset, shuffle=False, batch_size=all_data.size(0))"
   ]
  },
  {
   "cell_type": "code",
   "execution_count": 321,
   "id": "b53dff20",
   "metadata": {},
   "outputs": [
    {
     "name": "stdout",
     "output_type": "stream",
     "text": [
      "torch.Size([20480, 504])\n"
     ]
    }
   ],
   "source": [
    "print(all_data.size())"
   ]
  },
  {
   "cell_type": "code",
   "execution_count": 322,
   "id": "21cb2908",
   "metadata": {},
   "outputs": [
    {
     "name": "stdout",
     "output_type": "stream",
     "text": [
      "tensor([0., 0., 0.,  ..., 1., 1., 1.])\n"
     ]
    }
   ],
   "source": [
    "# next(iter(data_loader))[0].size() # 20480 x 504 (all are legit the pixes values)\n",
    "# next(iter(data_loader))[1].size() # 20480 (all 1 and 0)\n",
    "inputs = next(iter(data_loader))[0]\n",
    "targets = next(iter(data_loader))[1]\n",
    "print(targets)\n",
    "#targets = torch.unsqueeze(targets, 1)\n"
   ]
  },
  {
   "cell_type": "code",
   "execution_count": 323,
   "id": "c307dfc2",
   "metadata": {},
   "outputs": [],
   "source": [
    "class Net(nn.Module):\n",
    "    \"\"\"\n",
    "    This class builds the neural network structure with 3 layers.\n",
    "        Layer 1: num_features number of units\n",
    "        layer 2: num_hiddden_units=100 hidden units seem to work well\n",
    "        layer 3: num_classes=5 number of output classes\n",
    "    \"\"\"\n",
    "    def __init__(self, num_features, num_hiddden_units, num_classes):\n",
    "        super(Net, self).__init__() \n",
    "        self.fc1= nn.Linear(num_features, num_hiddden_units)\n",
    "        self.fch1 = nn.Linear(num_hiddden_units, num_hiddden_units)\n",
    "        self.fch2 = nn.Linear(num_hiddden_units, num_hiddden_units)\n",
    "        self.fch3 = nn.Linear(num_hiddden_units, num_hiddden_units)\n",
    "        self.fch4 = nn.Linear(num_hiddden_units, num_hiddden_units)\n",
    "        self.fch5 = nn.Linear(num_hiddden_units, num_hiddden_units)\n",
    "        self.fch6 = nn.Linear(num_hiddden_units, num_hiddden_units)\n",
    "        self.fch7 = nn.Linear(num_hiddden_units, num_hiddden_units)\n",
    "        self.fc2= nn.Linear(num_hiddden_units, num_classes) \n",
    "    \n",
    "    def forward(self, x):\n",
    "        h1 = torch.tanh(self.fc1(x))\n",
    "        h2 = torch.tanh(self.fch1(h1))\n",
    "        h3 = torch.tanh(self.fch2(h2))\n",
    "        h4 = torch.tanh(self.fch3(h3))\n",
    "        h5 = torch.tanh(self.fch4(h4)) \n",
    "        h6 = torch.tanh(self.fch5(h5)) \n",
    "        h7 = func.dropout(self.fch6(h6),p=0.2)\n",
    "        #h8 = torch.tanh(self.fch7(h7)) \n",
    "        y = torch.sigmoid(self.fc2(h7))\n",
    "        return y\n",
    "\n",
    "    def reset(self):\n",
    "        self.fc1.reset_parameters()\n",
    "        self.fc2.reset_parameters()"
   ]
  },
  {
   "cell_type": "code",
   "execution_count": 325,
   "id": "fdd42468",
   "metadata": {},
   "outputs": [],
   "source": [
    "num_epochs=1000\n",
    "display_epochs=200"
   ]
  },
  {
   "cell_type": "code",
   "execution_count": 327,
   "id": "2e721953",
   "metadata": {},
   "outputs": [
    {
     "name": "stdout",
     "output_type": "stream",
     "text": [
      "Epoch [200/1000]\tTrain Loss :0.5000\t accuracy :50.0000%\n",
      "Epoch [400/1000]\tTrain Loss :0.5000\t accuracy :50.0000%\n",
      "Epoch [600/1000]\tTrain Loss :0.5000\t accuracy :50.0000%\n"
     ]
    },
    {
     "ename": "KeyboardInterrupt",
     "evalue": "",
     "output_type": "error",
     "traceback": [
      "\u001b[0;31m---------------------------------------------------------------------------\u001b[0m",
      "\u001b[0;31mKeyboardInterrupt\u001b[0m                         Traceback (most recent call last)",
      "Input \u001b[0;32mIn [327]\u001b[0m, in \u001b[0;36m<module>\u001b[0;34m\u001b[0m\n\u001b[1;32m     17\u001b[0m \u001b[38;5;66;03m#test_obj_val = loss(model.forward(test_inputs), test_targets)\u001b[39;00m\n\u001b[1;32m     18\u001b[0m optimizer\u001b[38;5;241m.\u001b[39mzero_grad() \n\u001b[0;32m---> 19\u001b[0m \u001b[43mobj_val\u001b[49m\u001b[38;5;241;43m.\u001b[39;49m\u001b[43mbackward\u001b[49m\u001b[43m(\u001b[49m\u001b[43m)\u001b[49m \n\u001b[1;32m     20\u001b[0m optimizer\u001b[38;5;241m.\u001b[39mstep() \n\u001b[1;32m     21\u001b[0m obj_vals\u001b[38;5;241m.\u001b[39mappend(obj_val\u001b[38;5;241m.\u001b[39mitem())\n",
      "File \u001b[0;32m/opt/conda/lib/python3.8/site-packages/torch/_tensor.py:352\u001b[0m, in \u001b[0;36mTensor.backward\u001b[0;34m(self, gradient, retain_graph, create_graph, inputs)\u001b[0m\n\u001b[1;32m    343\u001b[0m \u001b[38;5;28;01mif\u001b[39;00m has_torch_function_unary(\u001b[38;5;28mself\u001b[39m):\n\u001b[1;32m    344\u001b[0m     \u001b[38;5;28;01mreturn\u001b[39;00m handle_torch_function(\n\u001b[1;32m    345\u001b[0m         Tensor\u001b[38;5;241m.\u001b[39mbackward,\n\u001b[1;32m    346\u001b[0m         (\u001b[38;5;28mself\u001b[39m,),\n\u001b[0;32m   (...)\u001b[0m\n\u001b[1;32m    350\u001b[0m         create_graph\u001b[38;5;241m=\u001b[39mcreate_graph,\n\u001b[1;32m    351\u001b[0m         inputs\u001b[38;5;241m=\u001b[39minputs)\n\u001b[0;32m--> 352\u001b[0m \u001b[43mtorch\u001b[49m\u001b[38;5;241;43m.\u001b[39;49m\u001b[43mautograd\u001b[49m\u001b[38;5;241;43m.\u001b[39;49m\u001b[43mbackward\u001b[49m\u001b[43m(\u001b[49m\u001b[38;5;28;43mself\u001b[39;49m\u001b[43m,\u001b[49m\u001b[43m \u001b[49m\u001b[43mgradient\u001b[49m\u001b[43m,\u001b[49m\u001b[43m \u001b[49m\u001b[43mretain_graph\u001b[49m\u001b[43m,\u001b[49m\u001b[43m \u001b[49m\u001b[43mcreate_graph\u001b[49m\u001b[43m,\u001b[49m\u001b[43m \u001b[49m\u001b[43minputs\u001b[49m\u001b[38;5;241;43m=\u001b[39;49m\u001b[43minputs\u001b[49m\u001b[43m)\u001b[49m\n",
      "File \u001b[0;32m/opt/conda/lib/python3.8/site-packages/torch/autograd/__init__.py:173\u001b[0m, in \u001b[0;36mbackward\u001b[0;34m(tensors, grad_tensors, retain_graph, create_graph, grad_variables, inputs)\u001b[0m\n\u001b[1;32m    168\u001b[0m     retain_graph \u001b[38;5;241m=\u001b[39m create_graph\n\u001b[1;32m    170\u001b[0m \u001b[38;5;66;03m# The reason we repeat same the comment below is that\u001b[39;00m\n\u001b[1;32m    171\u001b[0m \u001b[38;5;66;03m# some Python versions print out the first line of a multi-line function\u001b[39;00m\n\u001b[1;32m    172\u001b[0m \u001b[38;5;66;03m# calls in the traceback and some print out the last line\u001b[39;00m\n\u001b[0;32m--> 173\u001b[0m \u001b[43mVariable\u001b[49m\u001b[38;5;241;43m.\u001b[39;49m\u001b[43m_execution_engine\u001b[49m\u001b[38;5;241;43m.\u001b[39;49m\u001b[43mrun_backward\u001b[49m\u001b[43m(\u001b[49m\u001b[43m  \u001b[49m\u001b[38;5;66;43;03m# Calls into the C++ engine to run the backward pass\u001b[39;49;00m\n\u001b[1;32m    174\u001b[0m \u001b[43m    \u001b[49m\u001b[43mtensors\u001b[49m\u001b[43m,\u001b[49m\u001b[43m \u001b[49m\u001b[43mgrad_tensors_\u001b[49m\u001b[43m,\u001b[49m\u001b[43m \u001b[49m\u001b[43mretain_graph\u001b[49m\u001b[43m,\u001b[49m\u001b[43m \u001b[49m\u001b[43mcreate_graph\u001b[49m\u001b[43m,\u001b[49m\u001b[43m \u001b[49m\u001b[43minputs\u001b[49m\u001b[43m,\u001b[49m\n\u001b[1;32m    175\u001b[0m \u001b[43m    \u001b[49m\u001b[43mallow_unreachable\u001b[49m\u001b[38;5;241;43m=\u001b[39;49m\u001b[38;5;28;43;01mTrue\u001b[39;49;00m\u001b[43m,\u001b[49m\u001b[43m \u001b[49m\u001b[43maccumulate_grad\u001b[49m\u001b[38;5;241;43m=\u001b[39;49m\u001b[38;5;28;43;01mTrue\u001b[39;49;00m\u001b[43m)\u001b[49m\n",
      "\u001b[0;31mKeyboardInterrupt\u001b[0m: "
     ]
    },
    {
     "name": "stderr",
     "output_type": "stream",
     "text": [
      "--- Logging error ---\n",
      "Traceback (most recent call last):\n",
      "  File \"/opt/conda/lib/python3.8/site-packages/ipykernel/kernelbase.py\", line 461, in dispatch_queue\n",
      "    await self.process_one()\n",
      "  File \"/opt/conda/lib/python3.8/site-packages/ipykernel/kernelbase.py\", line 450, in process_one\n",
      "    await dispatch(*args)\n",
      "TypeError: object NoneType can't be used in 'await' expression\n",
      "\n",
      "During handling of the above exception, another exception occurred:\n",
      "\n",
      "Traceback (most recent call last):\n",
      "  File \"/opt/conda/lib/python3.8/logging/__init__.py\", line 1089, in emit\n",
      "    self.flush()\n",
      "  File \"/opt/conda/lib/python3.8/logging/__init__.py\", line 1069, in flush\n",
      "    self.stream.flush()\n",
      "OSError: [Errno 5] Input/output error\n",
      "Call stack:\n",
      "  File \"/opt/conda/lib/python3.8/runpy.py\", line 194, in _run_module_as_main\n",
      "    return _run_code(code, main_globals, None,\n",
      "  File \"/opt/conda/lib/python3.8/runpy.py\", line 87, in _run_code\n",
      "    exec(code, run_globals)\n",
      "  File \"/opt/conda/lib/python3.8/site-packages/ipykernel_launcher.py\", line 16, in <module>\n",
      "    app.launch_new_instance()\n",
      "  File \"/opt/conda/lib/python3.8/site-packages/traitlets/config/application.py\", line 846, in launch_instance\n",
      "    app.start()\n",
      "  File \"/opt/conda/lib/python3.8/site-packages/ipykernel/kernelapp.py\", line 677, in start\n",
      "    self.io_loop.start()\n",
      "  File \"/opt/conda/lib/python3.8/site-packages/tornado/platform/asyncio.py\", line 199, in start\n",
      "    self.asyncio_loop.run_forever()\n",
      "  File \"/opt/conda/lib/python3.8/asyncio/base_events.py\", line 570, in run_forever\n",
      "    self._run_once()\n",
      "  File \"/opt/conda/lib/python3.8/asyncio/base_events.py\", line 1859, in _run_once\n",
      "    handle._run()\n",
      "  File \"/opt/conda/lib/python3.8/asyncio/events.py\", line 81, in _run\n",
      "    self._context.run(self._callback, *self._args)\n",
      "  File \"/opt/conda/lib/python3.8/site-packages/ipykernel/kernelbase.py\", line 463, in dispatch_queue\n",
      "    self.log.exception(\"Error in message handler\")\n",
      "Message: 'Error in message handler'\n",
      "Arguments: ()\n"
     ]
    }
   ],
   "source": [
    "model = Net(num_features=504, num_hiddden_units=200, num_classes=1)\n",
    "optimizer = optim.SGD(model.parameters(), lr=3.5)\n",
    "loss = torch.nn.L1Loss(reduction= 'mean')\n",
    "obj_vals= []  \n",
    "for epoch in range(num_epochs):   \n",
    "    model_output = model.forward(inputs).reshape(-1)\n",
    "    pred = (model_output>0.5).float()\n",
    "    diff_tensor =  pred - targets \n",
    "    diff_tensor = torch.abs(diff_tensor)\n",
    "    accuracy = 1-torch.sum(diff_tensor)/pred.size(0)\n",
    "    #print(torch.sum(torch.abs(diff_tensor)))\n",
    "    \n",
    "#     print(\"model out is \", model_output)\n",
    "#     print(\"bool out is \", out)\n",
    "    #print(\"model out: {0} and size {1}\".format(model_output,torch.sum(model_output)))\n",
    "    obj_val = loss(model_output, targets)\n",
    "    #test_obj_val = loss(model.forward(test_inputs), test_targets)\n",
    "    optimizer.zero_grad() \n",
    "    obj_val.backward() \n",
    "    optimizer.step() \n",
    "    obj_vals.append(obj_val.item())\n",
    "    if (epoch+1) % display_epochs == 0:\n",
    "        print ('Epoch [{}/{}]\\tTrain Loss :{:.4f}\\t accuracy :{:.4f}%'.format(epoch+1, num_epochs, obj_val.item(), accuracy*100))\n",
    "print(\"\\nTraining Completed\")"
   ]
  },
  {
   "cell_type": "code",
   "execution_count": null,
   "id": "1d3c26d7",
   "metadata": {},
   "outputs": [
    {
     "name": "stderr",
     "output_type": "stream",
     "text": [
      "--- Logging error ---\n",
      "Traceback (most recent call last):\n",
      "  File \"/opt/conda/lib/python3.8/site-packages/ipykernel/kernelbase.py\", line 461, in dispatch_queue\n",
      "    await self.process_one()\n",
      "  File \"/opt/conda/lib/python3.8/site-packages/ipykernel/kernelbase.py\", line 450, in process_one\n",
      "    await dispatch(*args)\n",
      "TypeError: object NoneType can't be used in 'await' expression\n",
      "\n",
      "During handling of the above exception, another exception occurred:\n",
      "\n",
      "Traceback (most recent call last):\n",
      "  File \"/opt/conda/lib/python3.8/logging/__init__.py\", line 1089, in emit\n",
      "    self.flush()\n",
      "  File \"/opt/conda/lib/python3.8/logging/__init__.py\", line 1069, in flush\n",
      "    self.stream.flush()\n",
      "OSError: [Errno 5] Input/output error\n",
      "Call stack:\n",
      "  File \"/opt/conda/lib/python3.8/runpy.py\", line 194, in _run_module_as_main\n",
      "    return _run_code(code, main_globals, None,\n",
      "  File \"/opt/conda/lib/python3.8/runpy.py\", line 87, in _run_code\n",
      "    exec(code, run_globals)\n",
      "  File \"/opt/conda/lib/python3.8/site-packages/ipykernel_launcher.py\", line 16, in <module>\n",
      "    app.launch_new_instance()\n",
      "  File \"/opt/conda/lib/python3.8/site-packages/traitlets/config/application.py\", line 846, in launch_instance\n",
      "    app.start()\n",
      "  File \"/opt/conda/lib/python3.8/site-packages/ipykernel/kernelapp.py\", line 677, in start\n",
      "    self.io_loop.start()\n",
      "  File \"/opt/conda/lib/python3.8/site-packages/tornado/platform/asyncio.py\", line 199, in start\n",
      "    self.asyncio_loop.run_forever()\n",
      "  File \"/opt/conda/lib/python3.8/asyncio/base_events.py\", line 570, in run_forever\n",
      "    self._run_once()\n",
      "  File \"/opt/conda/lib/python3.8/asyncio/base_events.py\", line 1859, in _run_once\n",
      "    handle._run()\n",
      "  File \"/opt/conda/lib/python3.8/asyncio/events.py\", line 81, in _run\n",
      "    self._context.run(self._callback, *self._args)\n",
      "  File \"/opt/conda/lib/python3.8/site-packages/ipykernel/kernelbase.py\", line 463, in dispatch_queue\n",
      "    self.log.exception(\"Error in message handler\")\n",
      "Message: 'Error in message handler'\n",
      "Arguments: ()\n"
     ]
    }
   ],
   "source": [
    "pp_acc = 0\n",
    "for i in range(gamma_tensor.size(0)):\n",
    "    if model.forward(gamma_tensor[i]) > 0.5: # piplus = 1, gamma=0\n",
    "        pp_acc = pp_acc + model.forward(gamma_tensor)[i]\n",
    "pp_acc/piplus_tensor.size(0)"
   ]
  },
  {
   "cell_type": "code",
   "execution_count": 220,
   "id": "61f03db7",
   "metadata": {},
   "outputs": [
    {
     "data": {
      "text/plain": [
       "[<matplotlib.lines.Line2D at 0x7feb3a383ee0>]"
      ]
     },
     "execution_count": 220,
     "metadata": {},
     "output_type": "execute_result"
    },
    {
     "data": {
      "image/png": "[encoded data removed]",
      "text/plain": [
       "<Figure size 432x288 with 1 Axes>"
      ]
     },
     "metadata": {
      "needs_background": "light"
     },
     "output_type": "display_data"
    }
   ],
   "source": [
    "plt.plot(range(num_epochs), obj_vals)"
   ]
  },
  {
   "cell_type": "code",
   "execution_count": null,
   "id": "6bd83b73",
   "metadata": {},
   "outputs": [],
   "source": []
  },
  {
   "cell_type": "code",
   "execution_count": null,
   "id": "f5f3cbac",
   "metadata": {},
   "outputs": [],
   "source": []
  },
  {
   "cell_type": "code",
   "execution_count": null,
   "id": "d4d3a656",
   "metadata": {},
   "outputs": [],
   "source": []
  },
  {
   "cell_type": "code",
   "execution_count": null,
   "id": "8af763ef",
   "metadata": {},
   "outputs": [],
   "source": []
  },
  {
   "cell_type": "code",
   "execution_count": null,
   "id": "3623b094",
   "metadata": {},
   "outputs": [],
   "source": []
  },
  {
   "cell_type": "code",
   "execution_count": null,
   "id": "5e424f6a",
   "metadata": {},
   "outputs": [],
   "source": []
  },
  {
   "cell_type": "code",
   "execution_count": null,
   "id": "26198c43",
   "metadata": {},
   "outputs": [],
   "source": []
  },
  {
   "cell_type": "code",
   "execution_count": null,
   "id": "8877b2a5",
   "metadata": {},
   "outputs": [],
   "source": []
  },
  {
   "cell_type": "code",
   "execution_count": null,
   "id": "cf182b0c",
   "metadata": {},
   "outputs": [],
   "source": []
  },
  {
   "cell_type": "code",
   "execution_count": null,
   "id": "f73cdf10",
   "metadata": {},
   "outputs": [],
   "source": [
    "\"\"\"\n",
    "ESSESNTIALLY IF U THINK of only the classical approach, we do BGS EACH TIME WE CALL GENERATE SAMPLES DWAVE TO GENERATE NEW IMAGES. BUT THIS IS NOT REALLY REQUIRED. \n",
    "WE CAN DO BGS ONLY ONCE AS THE NUMBER OF SAMPLES ARE NOT CHANGING ... MAYBE THE RAND () IN PRIOR DIASTRIBUTION ENSURES WE GET DIFFERENT SAMPLES ...MUST ASK ABHI !!!!\n",
    "\n",
    "THIS EMPHASIZES THE NEED OF load_dwave and NEW_SAMPLES!!!!!!!!!!!!!!!!!!!!!!!!!!!!!!!!!!!!!!!!!!!!!!!!!!!!!!!!!!!!!!!!!!!!!!!!!!!!!!!!!!!!!!!!!!!!!!!!!!!!!!!!!!!!!!!\n",
    "\"\"\""
   ]
  }
 ],
 "metadata": {
  "kernelspec": {
   "display_name": "Python 3 (ipykernel)",
   "language": "python",
   "name": "python3"
  },
  "language_info": {
   "codemirror_mode": {
    "name": "ipython",
    "version": 3
   },
   "file_extension": ".py",
   "mimetype": "text/x-python",
   "name": "python",
   "nbconvert_exporter": "python",
   "pygments_lexer": "ipython3",
   "version": "3.8.12"
  }
 },
 "nbformat": 4,
 "nbformat_minor": 5
}
