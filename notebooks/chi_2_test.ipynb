{
 "cells": [
  {
   "cell_type": "code",
   "execution_count": 2,
   "metadata": {},
   "outputs": [
    {
     "name": "stderr",
     "output_type": "stream",
     "text": [
      "<frozen importlib._bootstrap>:219: RuntimeWarning: scipy._lib.messagestream.MessageStream size changed, may indicate binary incompatibility. Expected 56 from C header, got 64 from PyObject\n"
     ]
    }
   ],
   "source": [
    "import h5py\n",
    "import numpy as np\n",
    "import matplotlib.pyplot as plt\n",
    "import torch\n",
    "import torch.nn as nn\n",
    "from scipy.stats import ks_2samp\n",
    "import itertools\n",
    "from torch.utils.data import DataLoader, TensorDataset"
   ]
  },
  {
   "cell_type": "code",
   "execution_count": 9,
   "metadata": {},
   "outputs": [],
   "source": [
    "class DataProcessor():\n",
    "    def __init__(self, particle, datatype = 'geant'):\n",
    "        super(DataProcessor,self).__init__()\n",
    "        self.CLASS_ONE = particle\n",
    "        self.datatype = datatype\n",
    "        self.raw = h5py.File('/fast_scratch_1/QVAE/data/calo/'+self.CLASS_ONE+'.hdf5', 'r')\n",
    "        if datatype == 'geant':\n",
    "            self.gen_type = None\n",
    "            self.dataset = self.get_geant_dataset()\n",
    "        elif datatype == 'rbm':\n",
    "            self.gen_type = 'RBM'\n",
    "            self.dataset = self.get_gen_dataset()\n",
    "        elif datatype == 'qpu':\n",
    "            self.gen_type = 'DWAVE'\n",
    "            self.dataset = self.get_gen_dataset()\n",
    "        else:\n",
    "            print('Invalid datatype')\n",
    "        \n",
    "\n",
    "    def flattened_class_data(self, class_num):\n",
    "        c_layer_0 = torch.tensor(np.array(class_num['layer_0']))\n",
    "        c_layer_1 = torch.tensor(np.array(class_num['layer_1']))\n",
    "        c_layer_2 = torch.tensor(np.array(class_num['layer_2']))\n",
    "        c_flatten_0 = torch.flatten(c_layer_0, start_dim=1)\n",
    "        c_flatten_1 = torch.flatten(c_layer_1, start_dim=1)\n",
    "        c_flatten_2 = torch.flatten(c_layer_2, start_dim=1)\n",
    "        flat_class_data = torch.cat((c_flatten_0,c_flatten_1,c_flatten_2), dim=1)\n",
    "        return flat_class_data\n",
    "\n",
    "    def get_geant_dataset(self):\n",
    "        full_dataset = self.flattened_class_data(self.raw)\n",
    "        # 计算前80%数据的结束索引\n",
    "        cutoff = int(full_dataset.size(0) * 0.9)\n",
    "        # 获取后20%的数据\n",
    "        last_20_percent_dataset = full_dataset[cutoff:]\n",
    "        return last_20_percent_dataset\n",
    "\n",
    "\n",
    "    def get_gen_dataset(self):\n",
    "        gen_dir = f'/home/blazerjia/Publication/Saved_samples/{self.gen_type}/{self.CLASS_ONE}/synthetic_images_{self.CLASS_ONE}.pt'\n",
    "        gen_data = torch.load(gen_dir)\n",
    "        gen_tensor = torch.cat(gen_data).double()\n",
    "        dataset = TensorDataset(gen_tensor)\n",
    "        dataloader = DataLoader(dataset, batch_size=len(gen_tensor), shuffle=True)\n",
    "        shuffled_gen_tensor = next(iter(dataloader))[0]  # 获取一个shuffle后的batch\n",
    "        return shuffled_gen_tensor\n",
    "\n"
   ]
  },
  {
   "cell_type": "code",
   "execution_count": 10,
   "metadata": {},
   "outputs": [],
   "source": [
    "\n",
    "def chi2_ndf_histogram_density_1(ground_truth, generated_samples, num_bins):\n",
    "    # Compute the common bins for both histograms\n",
    "    min_val = min(np.min(ground_truth), np.min(generated_samples))\n",
    "    max_val = max(np.max(ground_truth), np.max(generated_samples))\n",
    "    bins = np.linspace(min_val, max_val, num_bins + 1)\n",
    "    \n",
    "    bin_width = (max_val - min_val) / num_bins\n",
    "    # Compute histograms\n",
    "    gt_hist, _ = np.histogram(ground_truth, bins=bins)\n",
    "    gen_hist, _ = np.histogram(generated_samples, bins=bins)\n",
    "    \n",
    "    min_count = 0.1\n",
    "    gt_hist = np.where(gt_hist == 0, min_count, gt_hist)\n",
    "    gen_hist = np.where(gen_hist == 0, min_count, gen_hist)\n",
    "    \n",
    "    gt_hist_density = gt_hist / (np.sum(gt_hist) * bin_width)\n",
    "    gen_hist_density = gen_hist / (np.sum(gen_hist) * bin_width)\n",
    "    gt_errors_density = np.sqrt(gt_hist) / (np.sum(gt_hist) * bin_width)\n",
    "\n",
    "    chi2 = np.sum((gt_hist_density - gen_hist_density) ** 2 / gt_errors_density ** 2)\n",
    "    \n",
    "    N = num_bins\n",
    "    # Number of parameters (assuming 1 parameter for this example)\n",
    "    p = 1\n",
    "    # Degrees of freedom\n",
    "    NDF = N - p\n",
    "    # Calculate chi-square per degree of freedom\n",
    "    chi2_ndf_value = chi2 / NDF\n",
    "    \n",
    "    return chi2_ndf_value\n",
    "\n",
    "def chi2_ndf_histogram_density_2(ground_truth, generated_samples, num_bins):\n",
    "    # Compute the common bins for both histograms\n",
    "    min_val = min(np.min(ground_truth), np.min(generated_samples))\n",
    "    max_val = max(np.max(ground_truth), np.max(generated_samples))\n",
    "    bins = np.linspace(min_val, max_val, num_bins + 1)\n",
    "    \n",
    "    # Compute histograms\n",
    "    gt_hist, _ = np.histogram(ground_truth, bins=bins)\n",
    "    gen_hist, _ = np.histogram(generated_samples, bins=bins)\n",
    "    ratio = np.sum(gt_hist) / np.sum(gen_hist)\n",
    "    gen_hist = gen_hist * ratio\n",
    "\n",
    "    min_count = 0.1\n",
    "    gt_hist = np.where(gt_hist == 0, min_count, gt_hist)\n",
    "    gen_hist = np.where(gen_hist == 0, min_count, gen_hist)\n",
    "    gt_errors = np.sqrt(gt_hist)\n",
    "    \n",
    "    # Calculate chi-square\n",
    "    chi2 = np.sum((gt_hist - gen_hist) ** 2 / gt_errors ** 2)\n",
    "\n",
    "    N = num_bins\n",
    "    p = 1\n",
    "    \n",
    "    # Degrees of freedom\n",
    "    NDF = N - p\n",
    "    \n",
    "    # Calculate chi-square per degree of freedom\n",
    "    chi2_ndf_value = chi2 / NDF\n",
    "    \n",
    "    return chi2_ndf_value"
   ]
  },
  {
   "cell_type": "code",
   "execution_count": 5,
   "metadata": {},
   "outputs": [],
   "source": [
    "particles = ['gamma', 'eplus', 'piplus']\n",
    "datatypes = ['geant', 'qpu', 'rbm']"
   ]
  },
  {
   "cell_type": "code",
   "execution_count": 6,
   "metadata": {},
   "outputs": [],
   "source": [
    "# 1 and 2 mean different ways to calculate chi2_ndf\n",
    "\n",
    "def measure_chi2_ndf_energy_1(particle, datatype_1, datatype_2, num_bins = 100):\n",
    "    data_1 = DataProcessor(particle, datatype_1).dataset\n",
    "    data_1_energy = torch.sum(data_1, dim=1).detach().numpy()\n",
    "    data_2 = DataProcessor(particle, datatype_2).dataset\n",
    "    data_2_energy = torch.sum(data_2, dim=1).detach().numpy()\n",
    "    chi2_ndf_value = chi2_ndf_histogram_density_1(data_1_energy, data_2_energy, num_bins)\n",
    "    print(f\"Chi-square per degree of freedom (χ²/NDF) for {particle} between {datatype_1} and {datatype_2}: {chi2_ndf_value:.3g}\")\n",
    "    return chi2_ndf_value\n",
    "\n",
    "def measure_chi2_ndf_energy_2(particle, datatype_1, datatype_2, num_bins = 100):\n",
    "    data_1 = DataProcessor(particle, datatype_1).dataset\n",
    "    data_1_energy = torch.sum(data_1, dim=1).detach().numpy()\n",
    "    data_2 = DataProcessor(particle, datatype_2).dataset\n",
    "    data_2_energy = torch.sum(data_2, dim=1).detach().numpy()\n",
    "    chi2_ndf_value = chi2_ndf_histogram_density_2(data_1_energy, data_2_energy, num_bins)\n",
    "    print(f\"Chi-square per degree of freedom (χ²/NDF) for {particle} between {datatype_1} and {datatype_2}: {chi2_ndf_value:.3g}\")\n",
    "    return chi2_ndf_value\n",
    "\n",
    "def measure_chi2_ndf_sparsity_1(particle, datatype_1, datatype_2, num_bins = 100):\n",
    "    data_1 = DataProcessor(particle, datatype_1).dataset\n",
    "    data_1_sparsity = (data_1 != 0).sum(dim=1).float() / data_1.size(1)\n",
    "    data_2 = DataProcessor(particle, datatype_2).dataset\n",
    "    data_2_sparsity = (data_2 != 0).sum(dim=1).float() / data_2.size(1)\n",
    "    chi2_ndf_value = chi2_ndf_histogram_density_1(data_1_sparsity.numpy(), data_2_sparsity.numpy(), num_bins)\n",
    "    print(f\"Chi-square per degree of freedom (χ²/NDF) for {particle} between {datatype_1} and {datatype_2}: {chi2_ndf_value:.3g}\")\n",
    "    return chi2_ndf_value\n",
    "\n",
    "def measure_chi2_ndf_sparsity_2(particle, datatype_1, datatype_2, num_bins = 100):\n",
    "    data_1 = DataProcessor(particle, datatype_1).dataset\n",
    "    data_1_sparsity = (data_1 != 0).sum(dim=1).float() / data_1.size(1)\n",
    "    data_2 = DataProcessor(particle, datatype_2).dataset\n",
    "    data_2_sparsity = (data_2 != 0).sum(dim=1).float() / data_2.size(1)\n",
    "    chi2_ndf_value = chi2_ndf_histogram_density_2(data_1_sparsity.numpy(), data_2_sparsity.numpy(), num_bins)\n",
    "    print(f\"Chi-square per degree of freedom (χ²/NDF) for {particle} between {datatype_1} and {datatype_2}: {chi2_ndf_value:.3g}\")\n",
    "    return chi2_ndf_value"
   ]
  },
  {
   "cell_type": "code",
   "execution_count": 11,
   "metadata": {},
   "outputs": [
    {
     "name": "stdout",
     "output_type": "stream",
     "text": [
      "Energy: Method 1\n",
      "Chi-square per degree of freedom (χ²/NDF) for gamma between geant and qpu: 4.94\n",
      "Chi-square per degree of freedom (χ²/NDF) for gamma between geant and rbm: 9.13\n",
      "Chi-square per degree of freedom (χ²/NDF) for gamma between qpu and rbm: 1.04\n",
      "Chi-square per degree of freedom (χ²/NDF) for eplus between geant and qpu: 4.9\n",
      "Chi-square per degree of freedom (χ²/NDF) for eplus between geant and rbm: 4.11\n",
      "Chi-square per degree of freedom (χ²/NDF) for eplus between qpu and rbm: 1.42\n",
      "Chi-square per degree of freedom (χ²/NDF) for piplus between geant and qpu: 9.87\n",
      "Chi-square per degree of freedom (χ²/NDF) for piplus between geant and rbm: 7.53\n",
      "Chi-square per degree of freedom (χ²/NDF) for piplus between qpu and rbm: 1.91\n"
     ]
    }
   ],
   "source": [
    "energy_chi2_ndf_dict = {}\n",
    "print(\"Energy: Method 1\")\n",
    "for particle in particles:\n",
    "    energy_chi2_ndf_dict[particle] = {}\n",
    "    for datatype_1, datatype_2 in itertools.combinations(datatypes, 2):\n",
    "        chi2_ndf_value = measure_chi2_ndf_energy_1(particle, datatype_1, datatype_2, num_bins=50)\n",
    "        energy_chi2_ndf_dict[particle][f'{datatype_1}_{datatype_2}'] = chi2_ndf_value"
   ]
  },
  {
   "cell_type": "code",
   "execution_count": 12,
   "metadata": {},
   "outputs": [
    {
     "name": "stdout",
     "output_type": "stream",
     "text": [
      "Energy: Method 2\n",
      "Chi-square per degree of freedom (χ²/NDF) for gamma between geant and qpu: 4.94\n",
      "Chi-square per degree of freedom (χ²/NDF) for gamma between geant and rbm: 9.13\n",
      "Chi-square per degree of freedom (χ²/NDF) for gamma between qpu and rbm: 1.04\n",
      "Chi-square per degree of freedom (χ²/NDF) for eplus between geant and qpu: 4.9\n",
      "Chi-square per degree of freedom (χ²/NDF) for eplus between geant and rbm: 4.11\n",
      "Chi-square per degree of freedom (χ²/NDF) for eplus between qpu and rbm: 1.42\n",
      "Chi-square per degree of freedom (χ²/NDF) for piplus between geant and qpu: 9.87\n",
      "Chi-square per degree of freedom (χ²/NDF) for piplus between geant and rbm: 7.52\n",
      "Chi-square per degree of freedom (χ²/NDF) for piplus between qpu and rbm: 1.9\n"
     ]
    }
   ],
   "source": [
    "energy_chi2_ndf_dict = {}\n",
    "print(\"Energy: Method 2\")\n",
    "for particle in particles:\n",
    "    energy_chi2_ndf_dict[particle] = {}\n",
    "    for datatype_1, datatype_2 in itertools.combinations(datatypes, 2):\n",
    "        chi2_ndf_value = measure_chi2_ndf_energy_2(particle, datatype_1, datatype_2, num_bins=50)\n",
    "        energy_chi2_ndf_dict[particle][f'{datatype_1}_{datatype_2}'] = chi2_ndf_value"
   ]
  },
  {
   "cell_type": "code",
   "execution_count": 13,
   "metadata": {},
   "outputs": [
    {
     "name": "stdout",
     "output_type": "stream",
     "text": [
      "Sparsity: Method 1\n",
      "Chi-square per degree of freedom (χ²/NDF) for gamma between geant and qpu: 28.4\n",
      "Chi-square per degree of freedom (χ²/NDF) for gamma between geant and rbm: 28.6\n",
      "Chi-square per degree of freedom (χ²/NDF) for gamma between qpu and rbm: 1.39\n",
      "Chi-square per degree of freedom (χ²/NDF) for eplus between geant and qpu: 25.1\n",
      "Chi-square per degree of freedom (χ²/NDF) for eplus between geant and rbm: 104\n",
      "Chi-square per degree of freedom (χ²/NDF) for eplus between qpu and rbm: 1.14\n",
      "Chi-square per degree of freedom (χ²/NDF) for piplus between geant and qpu: 63.2\n",
      "Chi-square per degree of freedom (χ²/NDF) for piplus between geant and rbm: 57.8\n",
      "Chi-square per degree of freedom (χ²/NDF) for piplus between qpu and rbm: 2.87\n"
     ]
    }
   ],
   "source": [
    "sparsity_chi2_ndf_dict = {}\n",
    "print(\"Sparsity: Method 1\")\n",
    "for particle in particles:\n",
    "    sparsity_chi2_ndf_dict[particle] = {}\n",
    "    for datatype_1, datatype_2 in itertools.combinations(datatypes, 2):\n",
    "        chi2_ndf_value = measure_chi2_ndf_sparsity_1(particle, datatype_1, datatype_2, num_bins=50)\n",
    "        sparsity_chi2_ndf_dict[particle][f'{datatype_1}_{datatype_2}'] = chi2_ndf_value"
   ]
  },
  {
   "cell_type": "code",
   "execution_count": 14,
   "metadata": {},
   "outputs": [
    {
     "name": "stdout",
     "output_type": "stream",
     "text": [
      "Sparsity: Method 2\n",
      "Chi-square per degree of freedom (χ²/NDF) for gamma between geant and qpu: 28.4\n",
      "Chi-square per degree of freedom (χ²/NDF) for gamma between geant and rbm: 28.6\n",
      "Chi-square per degree of freedom (χ²/NDF) for gamma between qpu and rbm: 1.39\n",
      "Chi-square per degree of freedom (χ²/NDF) for eplus between geant and qpu: 25.1\n",
      "Chi-square per degree of freedom (χ²/NDF) for eplus between geant and rbm: 104\n",
      "Chi-square per degree of freedom (χ²/NDF) for eplus between qpu and rbm: 1.14\n",
      "Chi-square per degree of freedom (χ²/NDF) for piplus between geant and qpu: 63.2\n",
      "Chi-square per degree of freedom (χ²/NDF) for piplus between geant and rbm: 57.8\n",
      "Chi-square per degree of freedom (χ²/NDF) for piplus between qpu and rbm: 2.87\n"
     ]
    }
   ],
   "source": [
    "sparsity_chi2_ndf_dict = {}\n",
    "print(\"Sparsity: Method 2\")\n",
    "for particle in particles:\n",
    "    sparsity_chi2_ndf_dict[particle] = {}\n",
    "    for datatype_1, datatype_2 in itertools.combinations(datatypes, 2):\n",
    "        chi2_ndf_value = measure_chi2_ndf_sparsity_2(particle, datatype_1, datatype_2, num_bins=50)\n",
    "        sparsity_chi2_ndf_dict[particle][f'{datatype_1}_{datatype_2}'] = chi2_ndf_value\n"
   ]
  }
 ],
 "metadata": {
  "kernelspec": {
   "display_name": "Python 3",
   "language": "python",
   "name": "python3"
  },
  "language_info": {
   "codemirror_mode": {
    "name": "ipython",
    "version": 3
   },
   "file_extension": ".py",
   "mimetype": "text/x-python",
   "name": "python",
   "nbconvert_exporter": "python",
   "pygments_lexer": "ipython3",
   "version": "3.8.10"
  }
 },
 "nbformat": 4,
 "nbformat_minor": 2
}
