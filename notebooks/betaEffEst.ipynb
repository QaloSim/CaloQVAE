{
 "cells": [
  {
   "cell_type": "code",
   "execution_count": 56,
   "id": "bcc755bc",
   "metadata": {
    "tags": []
   },
   "outputs": [
    {
     "name": "stdout",
     "output_type": "stream",
     "text": [
      "env: CUDA_DEVICE_ORDER=PCI_BUS_ID\n",
      "Tue Apr  9 16:04:44 2024       \n",
      "+-----------------------------------------------------------------------------+\n",
      "| NVIDIA-SMI 525.125.06   Driver Version: 525.125.06   CUDA Version: 12.0     |\n",
      "|-------------------------------+----------------------+----------------------+\n",
      "| GPU  Name        Persistence-M| Bus-Id        Disp.A | Volatile Uncorr. ECC |\n",
      "| Fan  Temp  Perf  Pwr:Usage/Cap|         Memory-Usage | GPU-Util  Compute M. |\n",
      "|                               |                      |               MIG M. |\n",
      "|===============================+======================+======================|\n",
      "|   0  NVIDIA A100-SXM...  On   | 00000000:01:00.0 Off |                    0 |\n",
      "| N/A   62C    P0   136W / 275W |  30639MiB / 81920MiB |     52%      Default |\n",
      "|                               |                      |             Disabled |\n",
      "+-------------------------------+----------------------+----------------------+\n",
      "|   1  NVIDIA A100-SXM...  On   | 00000000:47:00.0 Off |                    0 |\n",
      "| N/A   64C    P0   162W / 275W |  59753MiB / 81920MiB |     99%      Default |\n",
      "|                               |                      |             Disabled |\n",
      "+-------------------------------+----------------------+----------------------+\n",
      "|   2  NVIDIA A100-SXM...  On   | 00000000:81:00.0 Off |                    0 |\n",
      "| N/A   68C    P0   244W / 275W |  29653MiB / 81920MiB |    100%      Default |\n",
      "|                               |                      |             Disabled |\n",
      "+-------------------------------+----------------------+----------------------+\n",
      "|   3  NVIDIA DGX Display  On   | 00000000:C1:00.0 Off |                  N/A |\n",
      "| 37%   52C    P0    N/A /  50W |    529MiB /  4096MiB |     29%      Default |\n",
      "|                               |                      |                  N/A |\n",
      "+-------------------------------+----------------------+----------------------+\n",
      "|   4  NVIDIA A100-SXM...  On   | 00000000:C2:00.0 Off |                    0 |\n",
      "| N/A   59C    P0    81W / 275W |  11303MiB / 81920MiB |      0%      Default |\n",
      "|                               |                      |             Disabled |\n",
      "+-------------------------------+----------------------+----------------------+\n",
      "                                                                               \n",
      "+-----------------------------------------------------------------------------+\n",
      "| Processes:                                                                  |\n",
      "|  GPU   GI   CI        PID   Type   Process name                  GPU Memory |\n",
      "|        ID   ID                                                   Usage      |\n",
      "|=============================================================================|\n",
      "|    0   N/A  N/A   2658256      C   ...vier/anaconda3/bin/python      494MiB |\n",
      "|    0   N/A  N/A   3169340      C   python                          30142MiB |\n",
      "|    1   N/A  N/A   2383031      C   python                          29650MiB |\n",
      "|    1   N/A  N/A   3259448      C   python                          30100MiB |\n",
      "|    2   N/A  N/A   1448598      C   python                          29650MiB |\n",
      "|    3   N/A  N/A      6849      G   /usr/lib/xorg/Xorg                286MiB |\n",
      "|    3   N/A  N/A      7131      G   /usr/bin/gnome-shell               43MiB |\n",
      "|    3   N/A  N/A    114974      G   ...2/usr/lib/firefox/firefox      121MiB |\n",
      "|    4   N/A  N/A   2658256      C   ...vier/anaconda3/bin/python    11300MiB |\n",
      "+-----------------------------------------------------------------------------+\n"
     ]
    }
   ],
   "source": [
    "%env CUDA_DEVICE_ORDER=PCI_BUS_ID\n",
    "# %env CUDA_VISIBLE_DEVICES=4\n",
    "!nvidia-smi\n",
    "%config InlineBackend.figure_format = 'retina'"
   ]
  },
  {
   "cell_type": "code",
   "execution_count": 57,
   "id": "ca9bb0e3",
   "metadata": {
    "tags": []
   },
   "outputs": [],
   "source": [
    "import hydra\n",
    "from hydra.utils import instantiate\n",
    "from hydra import initialize, compose"
   ]
  },
  {
   "cell_type": "code",
   "execution_count": 58,
   "id": "06eecf26",
   "metadata": {
    "tags": []
   },
   "outputs": [],
   "source": [
    "import sys\n",
    "import os\n",
    "import getpass\n",
    "import h5py\n",
    "\n",
    "os.chdir('/home/' + getpass.getuser() + '/Projects/CaloQVAE/')\n",
    "sys.path.insert(1, '/home/' + getpass.getuser() + '/Projects/CaloQVAE/')"
   ]
  },
  {
   "cell_type": "code",
   "execution_count": 59,
   "id": "713dff99",
   "metadata": {
    "tags": []
   },
   "outputs": [],
   "source": [
    "#external libraries\n",
    "import os\n",
    "import pickle\n",
    "import datetime\n",
    "import sys\n",
    "import yaml\n",
    "import json\n",
    "\n",
    "import torch.optim as optim\n",
    "import torch\n",
    "from torch import nn\n",
    "from torch.nn.functional import binary_cross_entropy_with_logits\n",
    "torch.manual_seed(32)\n",
    "import numpy as np\n",
    "np.random.seed(32)\n",
    "import matplotlib.pyplot as plt\n",
    "import hydra\n",
    "from hydra.utils import instantiate\n",
    "\n",
    "from omegaconf import OmegaConf\n",
    "\n",
    "import time\n",
    "\n",
    "# PyTorch imports\n",
    "from torch import device, load, save\n",
    "from torch.nn import DataParallel\n",
    "from torch.cuda import is_available\n",
    "\n",
    "# Add the path to the parent directory to augment search for module\n",
    "sys.path.append(os.getcwd())\n",
    "    \n",
    "# Weights and Biases\n",
    "import wandb\n",
    "\n",
    "#self defined imports\n",
    "from CaloQVAE import logging"
   ]
  },
  {
   "cell_type": "code",
   "execution_count": 151,
   "id": "b2c4521a",
   "metadata": {
    "tags": []
   },
   "outputs": [],
   "source": [
    "logger = logging.getLogger(__name__)\n",
    "\n",
    "from data.dataManager import DataManager\n",
    "from utils.plotting.plotProvider import PlotProvider\n",
    "from utils import flux_biases\n",
    "from engine.engine import Engine\n",
    "from models.modelCreator import ModelCreator\n",
    "\n",
    "from utils.plotting.HighLevelFeatures import HighLevelFeatures as HLF\n",
    "HLF_1_photons = HLF('photon', filename='/raid/javier/Datasets/CaloVAE/data/atlas/binning_dataset_1_photons.xml', wandb=False)\n",
    "HLF_1_pions = HLF('pion', filename='/raid/javier/Datasets/CaloVAE/data/atlas/binning_dataset_1_pions.xml', wandb=False)\n",
    "HLF_1_electron = HLF('electron', filename='/raid/javier/Datasets/CaloVAE/data/atlas_dataset2and3/binning_dataset_2.xml', wandb=False)"
   ]
  },
  {
   "cell_type": "code",
   "execution_count": 61,
   "id": "5b23d35a",
   "metadata": {
    "tags": []
   },
   "outputs": [
    {
     "data": {
      "text/plain": [
       "hydra.initialize()"
      ]
     },
     "execution_count": 61,
     "metadata": {},
     "output_type": "execute_result"
    }
   ],
   "source": [
    "hydra.core.global_hydra.GlobalHydra.instance().clear()\n",
    "initialize(version_base=None, config_path=\"../configs\")"
   ]
  },
  {
   "cell_type": "code",
   "execution_count": 62,
   "id": "1a474a49",
   "metadata": {
    "tags": []
   },
   "outputs": [
    {
     "name": "stderr",
     "output_type": "stream",
     "text": [
      "/raid/javier/anaconda3/lib/python3.11/site-packages/hydra/_internal/defaults_list.py:251: UserWarning: In 'config.yaml': Defaults list is missing `_self_`. See https://hydra.cc/docs/1.2/upgrades/1.0_to_1.1/default_composition_order for more information\n",
      "  warnings.warn(msg, UserWarning)\n",
      "\u001b[1m[16:04:54.183]\u001b[0m \u001b[1;95mINFO \u001b[1;0m  \u001b[1mdata.dataManager                                  \u001b[0mLoading Data\n",
      "\u001b[1m[16:04:59.558]\u001b[0m \u001b[1;95mINFO \u001b[1;0m  \u001b[1mdata.dataManager                                  \u001b[0m<torch.utils.data.dataloader.DataLoader object at 0x7f99ae531950>: 80000 events, 625 batches\n",
      "\u001b[1m[16:04:59.559]\u001b[0m \u001b[1;95mINFO \u001b[1;0m  \u001b[1mdata.dataManager                                  \u001b[0m<torch.utils.data.dataloader.DataLoader object at 0x7f99aa0c92d0>: 10000 events, 10 batches\n",
      "\u001b[1m[16:04:59.559]\u001b[0m \u001b[1;95mINFO \u001b[1;0m  \u001b[1mdata.dataManager                                  \u001b[0m<torch.utils.data.dataloader.DataLoader object at 0x7f99a9f1eb10>: 10000 events, 10 batches\n",
      "\u001b[1m[16:05:02.032]\u001b[0m \u001b[1;95mINFO \u001b[1;0m  \u001b[1mmodels.modelCreator                               \u001b[0mInitialising Model Type GumBoltAtlasPRBMCNN\n",
      "2024-04-09 16:05:02,035 dwave.cloud.client.base \u001b[1;95mINFO \u001b[1;0m MainThread Using region metadata: [Region(code='na-west-1', name='North America', endpoint='https://na-west-1.cloud.dwavesys.com/sapi/v2/'), Region(code='eu-central-1', name='Europe', endpoint='https://eu-central-1.cloud.dwavesys.com/sapi/v2/')]\n",
      "\u001b[1m[16:05:02.035]\u001b[0m \u001b[1;95mINFO \u001b[1;0m  \u001b[1mdwave.cloud.client.base                           \u001b[0mUsing region metadata: [Region(code='na-west-1', name='North America', endpoint='https://na-west-1.cloud.dwavesys.com/sapi/v2/'), Region(code='eu-central-1', name='Europe', endpoint='https://eu-central-1.cloud.dwavesys.com/sapi/v2/')]\n",
      "2024-04-09 16:05:02,042 dwave.cloud.client.base \u001b[1;95mINFO \u001b[1;0m MainThread Fetching definitions of all available solvers\n",
      "\u001b[1m[16:05:02.042]\u001b[0m \u001b[1;95mINFO \u001b[1;0m  \u001b[1mdwave.cloud.client.base                           \u001b[0mFetching definitions of all available solvers\n",
      "2024-04-09 16:05:26,729 dwave.cloud.client.base \u001b[1;95mINFO \u001b[1;0m MainThread Received solver data for 6 solver(s).\n",
      "\u001b[1m[16:05:26.729]\u001b[0m \u001b[1;95mINFO \u001b[1;0m  \u001b[1mdwave.cloud.client.base                           \u001b[0mReceived solver data for 6 solver(s).\n",
      "2024-04-09 16:05:26,765 dwave.cloud.client.base \u001b[1;95mINFO \u001b[1;0m MainThread Adding solver StructuredSolver(id='Advantage_system4.1')\n",
      "\u001b[1m[16:05:26.765]\u001b[0m \u001b[1;95mINFO \u001b[1;0m  \u001b[1mdwave.cloud.client.base                           \u001b[0mAdding solver StructuredSolver(id='Advantage_system4.1')\n",
      "2024-04-09 16:05:26,808 dwave.cloud.client.base \u001b[1;95mINFO \u001b[1;0m MainThread Adding solver StructuredSolver(id='Advantage_system6.4')\n",
      "\u001b[1m[16:05:26.808]\u001b[0m \u001b[1;95mINFO \u001b[1;0m  \u001b[1mdwave.cloud.client.base                           \u001b[0mAdding solver StructuredSolver(id='Advantage_system6.4')\n",
      "2024-04-09 16:05:26,825 dwave.cloud.client.base \u001b[1;95mINFO \u001b[1;0m MainThread Adding solver StructuredSolver(id='Advantage2_prototype2.3')\n",
      "\u001b[1m[16:05:26.825]\u001b[0m \u001b[1;95mINFO \u001b[1;0m  \u001b[1mdwave.cloud.client.base                           \u001b[0mAdding solver StructuredSolver(id='Advantage2_prototype2.3')\n",
      "2024-04-09 16:05:27,208 dwave.cloud.client.base \u001b[1;95mINFO \u001b[1;0m MainThread Using region metadata: [Region(code='na-west-1', name='North America', endpoint='https://na-west-1.cloud.dwavesys.com/sapi/v2/'), Region(code='eu-central-1', name='Europe', endpoint='https://eu-central-1.cloud.dwavesys.com/sapi/v2/')]\n",
      "\u001b[1m[16:05:27.208]\u001b[0m \u001b[1;95mINFO \u001b[1;0m  \u001b[1mdwave.cloud.client.base                           \u001b[0mUsing region metadata: [Region(code='na-west-1', name='North America', endpoint='https://na-west-1.cloud.dwavesys.com/sapi/v2/'), Region(code='eu-central-1', name='Europe', endpoint='https://eu-central-1.cloud.dwavesys.com/sapi/v2/')]\n",
      "2024-04-09 16:05:27,215 dwave.cloud.client.base \u001b[1;95mINFO \u001b[1;0m MainThread Fetching definitions of all available solvers\n",
      "\u001b[1m[16:05:27.215]\u001b[0m \u001b[1;95mINFO \u001b[1;0m  \u001b[1mdwave.cloud.client.base                           \u001b[0mFetching definitions of all available solvers\n",
      "2024-04-09 16:05:28,442 dwave.cloud.client.base \u001b[1;95mINFO \u001b[1;0m MainThread Received solver data for 6 solver(s).\n",
      "\u001b[1m[16:05:28.442]\u001b[0m \u001b[1;95mINFO \u001b[1;0m  \u001b[1mdwave.cloud.client.base                           \u001b[0mReceived solver data for 6 solver(s).\n",
      "2024-04-09 16:05:28,472 dwave.cloud.client.base \u001b[1;95mINFO \u001b[1;0m MainThread Adding solver StructuredSolver(id='Advantage_system4.1')\n",
      "\u001b[1m[16:05:28.472]\u001b[0m \u001b[1;95mINFO \u001b[1;0m  \u001b[1mdwave.cloud.client.base                           \u001b[0mAdding solver StructuredSolver(id='Advantage_system4.1')\n",
      "2024-04-09 16:05:28,510 dwave.cloud.client.base \u001b[1;95mINFO \u001b[1;0m MainThread Adding solver StructuredSolver(id='Advantage_system6.4')\n",
      "\u001b[1m[16:05:28.510]\u001b[0m \u001b[1;95mINFO \u001b[1;0m  \u001b[1mdwave.cloud.client.base                           \u001b[0mAdding solver StructuredSolver(id='Advantage_system6.4')\n",
      "2024-04-09 16:05:28,523 dwave.cloud.client.base \u001b[1;95mINFO \u001b[1;0m MainThread Adding solver StructuredSolver(id='Advantage2_prototype2.3')\n",
      "\u001b[1m[16:05:28.523]\u001b[0m \u001b[1;95mINFO \u001b[1;0m  \u001b[1mdwave.cloud.client.base                           \u001b[0mAdding solver StructuredSolver(id='Advantage2_prototype2.3')\n",
      "\u001b[1m[16:05:29.334]\u001b[0m \u001b[1;95mINFO \u001b[1;0m  \u001b[1mmodels.autoencoders.gumboltAtlasCRBMCNN           \u001b[0mGumBoltAtlasCRBMCNN::decoder SmallPB\n"
     ]
    },
    {
     "name": "stdout",
     "output_type": "stream",
     "text": [
      "Initializing NetworkV3\n"
     ]
    }
   ],
   "source": [
    "\n",
    "\n",
    "# config=compose(config_name=\"config.yaml\")\n",
    "config=compose(config_name=\"config.yaml\")\n",
    "wandb.init(project=\"caloqvae\", entity=\"qvae\", config=config, mode='disabled')\n",
    "modelCreator = ModelCreator(cfg=config)\n",
    "dataMgr = DataManager(cfg=config)\n",
    "#initialise data loaders\n",
    "dataMgr.init_dataLoaders()\n",
    "#run pre processing: get/set input dimensions and mean of train dataset\n",
    "dataMgr.pre_processing()\n",
    "\n",
    "if config.model.activation_fct.lower()==\"relu\":\n",
    "    modelCreator.default_activation_fct=torch.nn.ReLU()\n",
    "elif config.model.activation_fct.lower()==\"tanh\":\n",
    "    modelCreator.default_activation_fct=torch.nn.Tanh()\n",
    "else:\n",
    "    logger.warning(\"Setting identity as default activation fct\")\n",
    "    modelCreator.default_activation_fct=torch.nn.Identity()\n",
    "\n",
    "#instantiate the chosen model\n",
    "#loads from file \n",
    "model=modelCreator.init_model(dataMgr=dataMgr)\n",
    "\n",
    "#create the NN infrastructure\n",
    "model.create_networks()"
   ]
  },
  {
   "cell_type": "code",
   "execution_count": 63,
   "id": "d5238a51",
   "metadata": {
    "tags": []
   },
   "outputs": [
    {
     "name": "stderr",
     "output_type": "stream",
     "text": [
      "\u001b[1m[16:05:29.668]\u001b[0m \u001b[1;95mINFO \u001b[1;0m  \u001b[1mwandb                                             \u001b[0mWatching\n",
      "/raid/javier/anaconda3/lib/python3.11/site-packages/coffea/util.py:154: FutureWarning: In coffea version v2023.3.0 (target date: 31 Mar 2023), this will be an error.\n",
      "(Set coffea.deprecations_as_errors = True to get a stack trace now.)\n",
      "ImportError: coffea.hist is deprecated\n",
      "  warnings.warn(message, FutureWarning)\n",
      "\u001b[1m[16:05:29.950]\u001b[0m \u001b[1;95mINFO \u001b[1;0m  \u001b[1mengine.engineAtlas                                \u001b[0mSetting up engine Atlas.\n",
      "\u001b[1m[16:05:29.950]\u001b[0m \u001b[1;95mINFO \u001b[1;0m  \u001b[1mengine.engineCaloV3                               \u001b[0mSetting up engine Calo.\n",
      "\u001b[1m[16:05:29.950]\u001b[0m \u001b[1;95mINFO \u001b[1;0m  \u001b[1mengine.engine                                     \u001b[0mSetting up default engine.\n"
     ]
    }
   ],
   "source": [
    "#Not printing much useful info at the moment to avoid clutter. TODO optimise\n",
    "model.print_model_info()\n",
    "# for name, param in model.named_parameters():\n",
    "#         print(name, param.requires_grad)\n",
    "\n",
    "# Load the model on the GPU if applicable\n",
    "# dev = None\n",
    "# if (config.device == 'gpu') and config.gpu_list:\n",
    "#     logger.info('Requesting GPUs. GPU list :' + str(config.gpu_list))\n",
    "#     devids = [\"cuda:{0}\".format(x) for x in list(config.gpu_list)]\n",
    "#     logger.info(\"Main GPU : \" + devids[0])\n",
    "\n",
    "#     if is_available():\n",
    "#         print(devids[0])\n",
    "#         dev = device(devids[0])\n",
    "#         if len(devids) > 1:\n",
    "#             logger.info(f\"Using DataParallel on {devids}\")\n",
    "#             model = DataParallel(model, device_ids=list(config.gpu_list))\n",
    "#         logger.info(\"CUDA available\")\n",
    "#     else:\n",
    "#         dev = device('cpu')\n",
    "#         logger.info(\"CUDA unavailable\")\n",
    "# else:\n",
    "#     logger.info('Requested CPU or unable to use GPU. Setting CPU as device.')\n",
    "#     dev = device('cpu')\n",
    "# dev = torch.device(\"cuda:0\")\n",
    "dev = \"cuda:{0}\".format(config.gpu_list[0])\n",
    "\n",
    "# Send the model to the selected device\n",
    "# model.to(dev)\n",
    "# Log metrics with wandb\n",
    "wandb.watch(model)\n",
    "\n",
    "# For some reason, need to use postional parameter cfg instead of named parameter\n",
    "# with updated Hydra - used to work with named param but now is cfg=None \n",
    "engine=instantiate(config.engine, config)\n",
    "\n",
    "#TODO for some reason hydra double instantiates the engine in a\n",
    "#newer version if cfg=config is passed as an argument. This is a workaround.\n",
    "#Find out why that is...\n",
    "engine._config=config\n",
    "#add dataMgr instance to engine namespace\n",
    "engine.data_mgr=dataMgr\n",
    "#add device instance to engine namespace\n",
    "engine.device=dev    \n",
    "#instantiate and register optimisation algorithm\n",
    "engine.optimiser = torch.optim.Adam(model.parameters(),\n",
    "                                    lr=config.engine.learning_rate)\n",
    "#add the model instance to the engine namespace\n",
    "engine.model = model\n",
    "# add the modelCreator instance to engine namespace\n",
    "engine.model_creator = modelCreator\n",
    "engine.model = engine.model.to(dev)"
   ]
  },
  {
   "cell_type": "code",
   "execution_count": 64,
   "id": "158ecfae",
   "metadata": {
    "tags": []
   },
   "outputs": [
    {
     "name": "stderr",
     "output_type": "stream",
     "text": [
      "\u001b[1m[16:05:36.587]\u001b[0m \u001b[1;95mINFO \u001b[1;0m  \u001b[1mdata.dataManager                                  \u001b[0m<torch.utils.data.dataloader.DataLoader object at 0x7f97cc8734d0>: 80000 events, 625 batches\n",
      "\u001b[1m[16:05:36.588]\u001b[0m \u001b[1;95mINFO \u001b[1;0m  \u001b[1mdata.dataManager                                  \u001b[0m<torch.utils.data.dataloader.DataLoader object at 0x7f97cc825a50>: 10000 events, 10 batches\n",
      "\u001b[1m[16:05:36.588]\u001b[0m \u001b[1;95mINFO \u001b[1;0m  \u001b[1mdata.dataManager                                  \u001b[0m<torch.utils.data.dataloader.DataLoader object at 0x7f97c6d8b6d0>: 10000 events, 10 batches\n"
     ]
    }
   ],
   "source": [
    "train_loader,test_loader,val_loader = engine.data_mgr.create_dataLoader()"
   ]
  },
  {
   "cell_type": "code",
   "execution_count": 10,
   "id": "5c30117a",
   "metadata": {
    "tags": []
   },
   "outputs": [],
   "source": [
    "###LOAD MODEL"
   ]
  },
  {
   "cell_type": "code",
   "execution_count": 65,
   "id": "18861900",
   "metadata": {
    "tags": []
   },
   "outputs": [
    {
     "name": "stderr",
     "output_type": "stream",
     "text": [
      "\u001b[1m[16:05:36.619]\u001b[0m \u001b[1;95mINFO \u001b[1;0m  \u001b[1mmodels.modelCreator                               \u001b[0mLoading state\n"
     ]
    },
    {
     "name": "stdout",
     "output_type": "stream",
     "text": [
      "GumBoltAtlasPRBMCNN\n",
      "electron-ds2\n",
      "True False\n"
     ]
    },
    {
     "name": "stderr",
     "output_type": "stream",
     "text": [
      "\u001b[1m[16:05:36.825]\u001b[0m \u001b[1;95mINFO \u001b[1;0m  \u001b[1mmodels.modelCreator                               \u001b[0mLoading weights from file : /home/javier/Projects/CaloQVAE/outputs/2024-04-08/17-47-59/wandb/run-20240408_174800-83zkah0g/files/GumBoltAtlasPRBMCNN_atlas_default_best.pth\n"
     ]
    },
    {
     "name": "stdout",
     "output_type": "stream",
     "text": [
      "Loading weights for module =  _activation_fct\n",
      "Loading weights for module =  _bce_loss\n",
      "Loading weights for module =  _energy_activation_fct\n",
      "Loading weights for module =  _hit_activation_fct\n",
      "Loading weights for module =  _output_loss\n",
      "Loading weights for module =  _hit_loss\n",
      "Loading weights for module =  _hit_smoothing_dist_mod\n",
      "Loading weights for module =  _inference_energy_activation_fct\n",
      "Loading weights for module =  encoder\n",
      "Loading weights for module =  prior\n",
      "Loading weights for module =  decoder\n"
     ]
    }
   ],
   "source": [
    "# # apricot-terrain-235 <---- Fully connected NN\n",
    "# run_path = \"/home/javier/Projects/CaloQVAE/outputs/2023-11-07/19-48-38/wandb/latest-run/files/GumBoltAtlasPRBMFCN_atlas_default_latest.pth\"\n",
    "# modelname = 'apricot-terrain-235'\n",
    "# datascaled = 'reduced'\n",
    "# with open(\"/home/javier/Projects/CaloQVAE/outputs/2023-11-07/19-48-38/wandb/latest-run/files/config.yaml\", 'r') as file:\n",
    "#     model_config = yaml.safe_load(file)\n",
    "#     R = json.loads(model_config[\"_content\"][\"value\"]['engine'].replace(\"'\", \"\\\"\"))['r_param']\n",
    "#     reducedata = True if model_config[\"_content\"][\"value\"][\"reducedata\"] == 'True' else False\n",
    "#     scaled=True\n",
    "\n",
    "\n",
    "# happy-sun-270 | CNN + voxel pos enc + cond + scaled data\n",
    "# run_path = \"/home/javier/Projects/CaloQVAE/outputs/2023-12-01/20-38-58/wandb/run-20231201_203858-n9y23yq6/files/GumBoltAtlasPRBMCNN_atlas_default_latest.pth\"\n",
    "run_path = \"/home/javier/Projects/CaloQVAE/outputs/2023-12-01/20-38-58/wandb/run-20231224_160705-n9y23yq6/files/GumBoltAtlasPRBMCNN_atlas_default_latest.pth\"\n",
    "modelname = 'happy-sun-270'\n",
    "datascaled = 'reduced'\n",
    "with open(\"/home/javier/Projects/CaloQVAE/outputs/2023-12-01/20-38-58/wandb/run-20231224_160705-n9y23yq6/files/config.yaml\", 'r') as file:\n",
    "    model_config = yaml.safe_load(file)\n",
    "    R = json.loads(model_config[\"_content\"][\"value\"]['engine'].replace(\"'\", \"\\\"\"))['r_param']\n",
    "    reducedata = True if model_config[\"_content\"][\"value\"][\"reducedata\"] == 'True' else False\n",
    "    scaled=True\n",
    "\n",
    "    \n",
    "# drawn-cosmos-266 | CNN + cond + scaled data\n",
    "run_path = \"/home/javier/Projects/CaloQVAE/outputs/2023-12-01/17-24-05/wandb/run-20231224_163015-m4f4z37z/files/GumBoltAtlasPRBMCNN_atlas_default_latest.pth\"\n",
    "modelname = 'drawn-cosmos-266'\n",
    "datascaled = 'reduced'\n",
    "with open(\"/home/javier/Projects/CaloQVAE/outputs/2023-12-01/17-24-05/wandb/run-20231224_163015-m4f4z37z/files/config.yaml\", 'r') as file:\n",
    "    model_config = yaml.safe_load(file)\n",
    "    R = json.loads(model_config[\"_content\"][\"value\"]['engine'].replace(\"'\", \"\\\"\"))['r_param']\n",
    "    reducedata = True if model_config[\"_content\"][\"value\"][\"reducedata\"] == 'True' else False\n",
    "    scaled=True  \n",
    "    \n",
    "\n",
    "\n",
    "# # misty-wind-267 | CNN + voxel pos enc JQTM + cond + scaled data\n",
    "# run_path = \"/home/javier/Projects/CaloQVAE/outputs/2023-12-01/17-37-11/wandb/run-20231224_164009-ti1793rl/files/GumBoltAtlasPRBMCNN_atlas_default_latest.pth\"\n",
    "# modelname = 'misty-wind-267'\n",
    "# datascaled = 'reduced'\n",
    "# with open(\"/home/javier/Projects/CaloQVAE/outputs/2023-12-01/17-37-11/wandb/run-20231224_164009-ti1793rl/files/config.yaml\", 'r') as file:\n",
    "#     model_config = yaml.safe_load(file)\n",
    "#     R = json.loads(model_config[\"_content\"][\"value\"]['engine'].replace(\"'\", \"\\\"\"))['r_param']\n",
    "#     reducedata = True if model_config[\"_content\"][\"value\"][\"reducedata\"] == 'True' else False\n",
    "#     scaled=True\n",
    "    \n",
    "\n",
    "    \n",
    "# # winter-glade-268 | CNN + cond pos enc + scaled data\n",
    "# run_path = \"/home/javier/Projects/CaloQVAE/outputs/2023-12-01/17-39-27/wandb/run-20231224_163406-p7awkxhk/files/GumBoltAtlasPRBMCNN_atlas_default_latest.pth\"\n",
    "# modelname = 'winter-glade-268'\n",
    "# datascaled = 'reduced'\n",
    "# with open(\"/home/javier/Projects/CaloQVAE/outputs/2023-12-01/17-39-27/wandb/run-20231224_163406-p7awkxhk/files/config.yaml\", 'r') as file:\n",
    "#     model_config = yaml.safe_load(file)\n",
    "#     R = json.loads(model_config[\"_content\"][\"value\"]['engine'].replace(\"'\", \"\\\"\"))['r_param']\n",
    "#     reducedata = True if model_config[\"_content\"][\"value\"][\"reducedata\"] == 'True' else False\n",
    "#     scaled=True\n",
    "    \n",
    "\n",
    "\n",
    "# # prime-totem-282 | CNN + voxel pos enc + cond + scaled data\n",
    "# # run_path = \"/home/javier/Projects/CaloQVAE/outputs/2023-12-01/20-38-58/wandb/run-20231201_203858-n9y23yq6/files/GumBoltAtlasPRBMCNN_atlas_default_latest.pth\"\n",
    "# run_path = \"/home/javier/Projects/CaloQVAE/outputs/2024-01-08/13-51-41/wandb/run-20240108_135142-2fitsjre/files/GumBoltAtlasPRBMCNN_atlas_default_latest.pth\"\n",
    "# modelname = 'prime-totem-282'\n",
    "# datascaled = 'reduced'\n",
    "# with open(\"/home/javier/Projects/CaloQVAE/outputs/2024-01-08/13-51-41/wandb/run-20240108_135142-2fitsjre/files/config.yaml\", 'r') as file:\n",
    "#     model_config = yaml.safe_load(file)\n",
    "#     R = json.loads(model_config[\"_content\"][\"value\"]['engine'].replace(\"'\", \"\\\"\"))['r_param']\n",
    "#     reducedata = True if model_config[\"_content\"][\"value\"][\"reducedata\"] == 'True' else False\n",
    "#     scaled=True  \n",
    "\n",
    "\n",
    "# # smoldering-candles | CNN + cond + scaled data + no hits\n",
    "# run_path = \"/home/javier/Projects/CaloQVAE/outputs/2024-02-13/19-34-51/wandb/run-20240213_193452-zrjorwol/files/GumBoltAtlasPRBMCNNnohits_atlas_default_latest.pth\"\n",
    "# modelname = 'smoldering-candles-302'\n",
    "# datascaled = 'reduced'\n",
    "# with open(\"/home/javier/Projects/CaloQVAE/outputs/2024-02-13/19-34-51/wandb/run-20240213_193452-zrjorwol/files/config.yaml\", 'r') as file:\n",
    "#     model_config = yaml.safe_load(file)\n",
    "#     R = json.loads(model_config[\"_content\"][\"value\"]['engine'].replace(\"'\", \"\\\"\"))['r_param']\n",
    "#     reducedata = True if model_config[\"_content\"][\"value\"][\"reducedata\"] == 'True' else False\n",
    "#     scaled=True  \n",
    "    \n",
    "    \n",
    "# # generous-elevator | CNN + cond + scaled data + no hits\n",
    "# # run_path = \"/home/javier/Projects/CaloQVAE/outputs/2024-02-13/18-47-19/wandb/run-20240213_184720-76xrzznn/files/GumBoltAtlasPRBMCNNnohits_atlas_default_latest.pth\"\n",
    "# run_path = \"/home/javier/Projects/CaloQVAE/outputs/2024-02-13/18-47-19/wandb/run-20240216_200216-76xrzznn/files/GumBoltAtlasPRBMCNNnohits_atlas_default_latest.pth\"\n",
    "# modelname = 'generous-elevator-301'\n",
    "# datascaled = 'reduced'\n",
    "# with open(\"/home/javier/Projects/CaloQVAE/outputs/2024-02-13/18-47-19/wandb/run-20240213_184720-76xrzznn/files/config.yaml\", 'r') as file:\n",
    "#     model_config = yaml.safe_load(file)\n",
    "#     R = json.loads(model_config[\"_content\"][\"value\"]['engine'].replace(\"'\", \"\\\"\"))['r_param']\n",
    "#     reducedata = True if model_config[\"_content\"][\"value\"][\"reducedata\"] == 'True' else False\n",
    "#     scaled=True \n",
    "    \n",
    "    \n",
    "# # skilled-spaceship-315 | CNN + cond + scaled data + no hits + interpolation 0\n",
    "# run_path = \"/home/javier/Projects/CaloQVAE/outputs/2024-02-16/20-05-47/wandb/run-20240216_200548-u9ais1yt/files/GumBoltAtlasPRBMCNNnohits_atlas_default_latest.pth\"\n",
    "# modelname = 'skilled-spaceship-315'\n",
    "# datascaled = 'reduced'\n",
    "# with open(\"/home/javier/Projects/CaloQVAE/outputs/2024-02-16/20-05-47/wandb/run-20240216_200548-u9ais1yt/files/config.yaml\", 'r') as file:\n",
    "#     model_config = yaml.safe_load(file)\n",
    "#     R = json.loads(model_config[\"_content\"][\"value\"]['engine'].replace(\"'\", \"\\\"\"))['r_param']\n",
    "#     reducedata = True if model_config[\"_content\"][\"value\"][\"reducedata\"] == 'True' else False\n",
    "#     scaled=True \n",
    "    \n",
    "    \n",
    "# # toasty-cherry-310 | CNN + cond + scaled data + hits dec uncond\n",
    "# run_path = \"/home/javier/Projects/CaloQVAE/outputs/2024-02-15/22-10-50/wandb/run-20240215_221050-caevb6ld/files/GumBoltAtlasPRBMCNN_atlas_default_best.pth\"\n",
    "# modelname = 'toasty-cherry-310'\n",
    "# datascaled = 'reduced'\n",
    "# with open(\"/home/javier/Projects/CaloQVAE/outputs/2024-02-15/22-10-50/wandb/run-20240215_221050-caevb6ld/files/config.yaml\", 'r') as file:\n",
    "#     model_config = yaml.safe_load(file)\n",
    "#     R = json.loads(model_config[\"_content\"][\"value\"]['engine'].replace(\"'\", \"\\\"\"))['r_param']\n",
    "#     reducedata = True if model_config[\"_content\"][\"value\"][\"reducedata\"] == 'True' else False\n",
    "#     scaled=True \n",
    "    \n",
    "    \n",
    "# # divine-valentine-309 | CNN + cond + scaled data + dec charm\n",
    "# run_path = \"/home/javier/Projects/CaloQVAE/outputs/2024-02-15/17-36-19/wandb/run-20240215_173620-l3i43zja/files/GumBoltAtlasPRBMCNN_atlas_default_best.pth\"\n",
    "# modelname = 'divine-valentine-309'\n",
    "# datascaled = 'reduced'\n",
    "# with open(\"/home/javier/Projects/CaloQVAE/outputs/2024-02-15/17-36-19/wandb/run-20240215_173620-l3i43zja/files/config.yaml\", 'r') as file:\n",
    "#     model_config = yaml.safe_load(file)\n",
    "#     R = json.loads(model_config[\"_content\"][\"value\"]['engine'].replace(\"'\", \"\\\"\"))['r_param']\n",
    "#     reducedata = True if model_config[\"_content\"][\"value\"][\"reducedata\"] == 'True' else False\n",
    "#     scaled=True \n",
    "\n",
    "\n",
    "# nothern-microwave-356 | CNN + cond + scaled data + Cyl EncDec\n",
    "run_path = \"/home/javier/Projects/CaloQVAE/outputs/2024-04-08/17-47-59/wandb/run-20240408_174800-83zkah0g/files/GumBoltAtlasPRBMCNN_atlas_default_best.pth\"\n",
    "modelname = 'nothern-microwave-356'\n",
    "datascaled = 'reduced'\n",
    "with open(\"/home/javier/Projects/CaloQVAE/outputs/2024-04-08/17-47-59/wandb/run-20240408_174800-83zkah0g/files/config.yaml\", 'r') as file:\n",
    "    model_config = yaml.safe_load(file)\n",
    "    R = json.loads(model_config[\"_content\"][\"value\"]['engine'].replace(\"'\", \"\\\"\"))['r_param']\n",
    "    reducedata = True if model_config[\"_content\"][\"value\"][\"reducedata\"] == 'True' else False\n",
    "    scaled=True \n",
    "    \n",
    "\n",
    "# # dark-sky-357 | CNN + cond + scaled data + Cyl EncDec\n",
    "# run_path = \"/home/javier/Projects/CaloQVAE/outputs/2024-04-08/18-22-13/wandb/run-20240408_182214-ftos7bwv/files/GumBoltAtlasPRBMCNN_atlas_default_best.pth\"\n",
    "# modelname = 'dark-sky-357'\n",
    "# datascaled = 'reduced'\n",
    "# with open(\"/home/javier/Projects/CaloQVAE/outputs/2024-04-08/18-22-13/wandb/run-20240408_182214-ftos7bwv/files/config.yaml\", 'r') as file:\n",
    "#     model_config = yaml.safe_load(file)\n",
    "#     R = json.loads(model_config[\"_content\"][\"value\"]['engine'].replace(\"'\", \"\\\"\"))['r_param']\n",
    "#     reducedata = True if model_config[\"_content\"][\"value\"][\"reducedata\"] == 'True' else False\n",
    "#     scaled=True \n",
    "\n",
    "\n",
    "\n",
    "arch = config['model']['model_type']\n",
    "part = config['data']['particle_type']\n",
    "print(arch)\n",
    "print(part)\n",
    "print(scaled, reducedata)\n",
    "\n",
    "\n",
    "# load_state(model, run_path, 'cuda:{0}'.format(cfg.gpu_list[0]))\n",
    "# load_state(model, run_path, dev)\n",
    "modelCreator.load_state(run_path, dev)\n",
    "engine.model.eval();"
   ]
  },
  {
   "cell_type": "code",
   "execution_count": 72,
   "id": "d975e6b3-aa1a-4e66-871f-8e183cb00bd5",
   "metadata": {
    "tags": []
   },
   "outputs": [
    {
     "name": "stderr",
     "output_type": "stream",
     "text": [
      "\u001b[1m[14:34:36.861]\u001b[0m \u001b[1;95mINFO \u001b[1;0m  \u001b[1mmodels.modelCreator                               \u001b[0mLoading state\n"
     ]
    },
    {
     "name": "stdout",
     "output_type": "stream",
     "text": [
      "GumBoltAtlasPRBMCNN\n",
      "pion1\n",
      "True False\n"
     ]
    },
    {
     "name": "stderr",
     "output_type": "stream",
     "text": [
      "\u001b[1m[14:34:37.084]\u001b[0m \u001b[1;95mINFO \u001b[1;0m  \u001b[1mmodels.modelCreator                               \u001b[0mLoading weights from file : /home/javier/Projects/CaloQVAE/outputs/2023-12-11/15-03-26/wandb/run-20231211_150327-vljzh7n3/files/GumBoltAtlasPRBMCNN_atlas_default_latest.pth\n"
     ]
    },
    {
     "name": "stdout",
     "output_type": "stream",
     "text": [
      "Loading weights for module =  _activation_fct\n",
      "Loading weights for module =  _bce_loss\n",
      "Loading weights for module =  _energy_activation_fct\n",
      "Loading weights for module =  _hit_activation_fct\n",
      "Loading weights for module =  _output_loss\n",
      "Loading weights for module =  _hit_loss\n",
      "Loading weights for module =  _hit_smoothing_dist_mod\n",
      "Loading weights for module =  _inference_energy_activation_fct\n",
      "Loading weights for module =  encoder\n",
      "Loading weights for module =  prior\n",
      "Loading weights for module =  decoder\n"
     ]
    }
   ],
   "source": [
    "# honest-blaze-275 | CNN + pions + scaled\n",
    "# run_path = \"/home/javier/Projects/CaloQVAE/outputs/2023-12-01/20-38-58/wandb/run-20231201_203858-n9y23yq6/files/GumBoltAtlasPRBMCNN_atlas_default_latest.pth\"\n",
    "run_path = \"/home/javier/Projects/CaloQVAE/outputs/2023-12-11/15-03-26/wandb/run-20231211_150327-vljzh7n3/files/GumBoltAtlasPRBMCNN_atlas_default_latest.pth\"\n",
    "modelname = 'honest-blaze-275'\n",
    "datascaled = 'reduced'\n",
    "with open(\"/home/javier/Projects/CaloQVAE/outputs/2023-12-11/15-03-26/wandb/run-20231211_150327-vljzh7n3/files/config.yaml\", 'r') as file:\n",
    "    model_config = yaml.safe_load(file)\n",
    "    R = json.loads(model_config[\"_content\"][\"value\"]['engine'].replace(\"'\", \"\\\"\"))['r_param']\n",
    "    reducedata = True if model_config[\"_content\"][\"value\"][\"reducedata\"] == 'True' else False\n",
    "    scaled=True  \n",
    "\n",
    "\n",
    "\n",
    "arch = config['model']['model_type']\n",
    "part = config['data']['particle_type']\n",
    "print(arch)\n",
    "print(part)\n",
    "print(scaled, reducedata)\n",
    "\n",
    "\n",
    "# load_state(model, run_path, 'cuda:{0}'.format(cfg.gpu_list[0]))\n",
    "# load_state(model, run_path, dev)\n",
    "modelCreator.load_state(run_path, dev)\n",
    "engine.model.eval();"
   ]
  },
  {
   "cell_type": "code",
   "execution_count": 12,
   "id": "2398a58b-a699-4ea7-96c8-5460ab6cc530",
   "metadata": {
    "tags": []
   },
   "outputs": [],
   "source": [
    "hfont = {'fontname':'Helvetica'}\n",
    "ds = {'electron-ds2':'Dataset 2', 'pion1':'Dataset 1: π'}"
   ]
  },
  {
   "cell_type": "code",
   "execution_count": 11,
   "id": "a89ceb31-4f25-47f2-82cd-40875b6615a1",
   "metadata": {
    "tags": []
   },
   "outputs": [],
   "source": [
    "directory_path = f'/home/javier/Projects/CaloQVAE/figs/{modelname}'\n",
    "if not os.path.isdir(directory_path):\n",
    "    os.mkdir(directory_path) \n",
    "    print(modelname)\n",
    "else:\n",
    "    pass"
   ]
  },
  {
   "cell_type": "code",
   "execution_count": 13,
   "id": "a6631934-63a0-4444-a900-79024357b466",
   "metadata": {
    "tags": []
   },
   "outputs": [],
   "source": [
    "# beta effective method comparison\n",
    "beta_comparison = {}\n",
    "beta_comparison[\"Method 2 Adaptive\"] = {\"method\" : 2, \"adaptive\" : True}\n",
    "beta_comparison[\"Method 2 Fixed\"] = {\"method\" : 2, \"adaptive\" : False}\n",
    "# beta_comparison[\"Method 1 Adaptive\"] = {\"method\" : 1, \"adaptive\" : True}\n",
    "beta_comparison[\"Method 1 Fixed\"] = {\"method\" : 1, \"adaptive\" : False}"
   ]
  },
  {
   "cell_type": "code",
   "execution_count": 14,
   "id": "36df1b16-10af-4bb3-b2f0-957892a1f0ac",
   "metadata": {
    "tags": []
   },
   "outputs": [],
   "source": [
    "def beta_est_stats(beta_comparison, sample_size = 20):\n",
    "    for key in beta_comparison.keys():\n",
    "        mthd = beta_comparison[key][\"method\"]\n",
    "        adptv = beta_comparison[key][\"adaptive\"]\n",
    "        print(mthd, adptv)\n",
    "        for i in range(sample_size):\n",
    "            print(i)\n",
    "            beta, beta_list, rbm_energy_list, dwave_energy_list, thrsh_met = engine.model.find_beta(num_reads=128, beta_init=4.5, \n",
    "                                                                                                lr=0.01, num_epochs = 20, delta = 4.0, \n",
    "                                                                                                method = mthd, TOL=True, const = 1.0, \n",
    "                                                                                                    adaptive = adptv)\n",
    "            beta_comparison[key][f'iteration_{i}'] = {\"beta_list\" : beta_list,\n",
    "                                                      \"beta\" : beta,\n",
    "                                                      \"rbm_energy_list\" : rbm_energy_list,\n",
    "                                                      \"dwave_energy_list\" : dwave_energy_list,\n",
    "                                                      \"iterations\" : len(beta_list),\n",
    "                                                     }\n",
    "        beta_comparison[key][\"beta_mean\"] = np.mean([beta_comparison[key][f'iteration_{i}'][\"beta\"] for i in range(sample_size)])\n",
    "        beta_comparison[key][\"beta_std\"] = np.std([beta_comparison[key][f'iteration_{i}'][\"beta\"] for i in range(sample_size)])\n",
    "        beta_comparison[key][\"iteration_mean\"] = np.mean([beta_comparison[key][f'iteration_{i}'][\"iterations\"] for i in range(sample_size)])\n",
    "        beta_comparison[key][\"iteration_std\"] = np.std([beta_comparison[key][f'iteration_{i}'][\"iterations\"] for i in range(sample_size)])\n",
    "    return beta_comparison\n",
    "    "
   ]
  },
  {
   "cell_type": "code",
   "execution_count": 15,
   "id": "b7617059-57f2-4dbb-9136-405b1d12a723",
   "metadata": {
    "tags": []
   },
   "outputs": [
    {
     "name": "stdout",
     "output_type": "stream",
     "text": [
      "2 True\n",
      "0\n"
     ]
    },
    {
     "name": "stderr",
     "output_type": "stream",
     "text": [
      "\u001b[1m[16:08:51.368]\u001b[0m \u001b[1;95mINFO \u001b[1;0m  \u001b[1mmodels.autoencoders.gumboltAtlasPRBMCNN           \u001b[0mEpoch 0: beta = 4.5\n",
      "\u001b[1m[16:08:53.742]\u001b[0m \u001b[1;95mINFO \u001b[1;0m  \u001b[1mmodels.autoencoders.gumboltAtlasPRBMCNN           \u001b[0mEpoch 1: beta = 4.293020182559298\n",
      "\u001b[1m[16:08:56.033]\u001b[0m \u001b[1;95mINFO \u001b[1;0m  \u001b[1mmodels.autoencoders.gumboltAtlasPRBMCNN           \u001b[0mEpoch 2: beta = 4.086567838659236\n",
      "\u001b[1m[16:08:58.234]\u001b[0m \u001b[1;95mINFO \u001b[1;0m  \u001b[1mmodels.autoencoders.gumboltAtlasPRBMCNN           \u001b[0mEpoch 3: beta = 4.024991349117584\n",
      "\u001b[1m[16:09:00.324]\u001b[0m \u001b[1;95mINFO \u001b[1;0m  \u001b[1mmodels.autoencoders.gumboltAtlasPRBMCNN           \u001b[0mEpoch 4: beta = 3.928234033188169\n",
      "\u001b[1m[16:09:01.996]\u001b[0m \u001b[1;95mINFO \u001b[1;0m  \u001b[1mmodels.autoencoders.gumboltAtlasPRBMCNN           \u001b[0mEpoch 5: beta = 3.891745511744232\n",
      "\u001b[1m[16:09:03.471]\u001b[0m \u001b[1;95mINFO \u001b[1;0m  \u001b[1mmodels.autoencoders.gumboltAtlasPRBMCNN           \u001b[0mEpoch 6: beta = 3.849604286998117\n"
     ]
    },
    {
     "name": "stdout",
     "output_type": "stream",
     "text": [
      "1\n"
     ]
    },
    {
     "name": "stderr",
     "output_type": "stream",
     "text": [
      "\u001b[1m[16:09:07.185]\u001b[0m \u001b[1;95mINFO \u001b[1;0m  \u001b[1mmodels.autoencoders.gumboltAtlasPRBMCNN           \u001b[0mEpoch 0: beta = 4.5\n",
      "\u001b[1m[16:09:08.844]\u001b[0m \u001b[1;95mINFO \u001b[1;0m  \u001b[1mmodels.autoencoders.gumboltAtlasPRBMCNN           \u001b[0mEpoch 1: beta = 4.189819652356857\n",
      "\u001b[1m[16:09:10.492]\u001b[0m \u001b[1;95mINFO \u001b[1;0m  \u001b[1mmodels.autoencoders.gumboltAtlasPRBMCNN           \u001b[0mEpoch 2: beta = 4.015957104034223\n",
      "\u001b[1m[16:09:12.089]\u001b[0m \u001b[1;95mINFO \u001b[1;0m  \u001b[1mmodels.autoencoders.gumboltAtlasPRBMCNN           \u001b[0mEpoch 3: beta = 3.940971817695859\n",
      "\u001b[1m[16:09:13.542]\u001b[0m \u001b[1;95mINFO \u001b[1;0m  \u001b[1mmodels.autoencoders.gumboltAtlasPRBMCNN           \u001b[0mEpoch 4: beta = 3.8744198992606496\n"
     ]
    },
    {
     "name": "stdout",
     "output_type": "stream",
     "text": [
      "2\n"
     ]
    },
    {
     "name": "stderr",
     "output_type": "stream",
     "text": [
      "\u001b[1m[16:09:17.249]\u001b[0m \u001b[1;95mINFO \u001b[1;0m  \u001b[1mmodels.autoencoders.gumboltAtlasPRBMCNN           \u001b[0mEpoch 0: beta = 4.5\n",
      "\u001b[1m[16:09:18.703]\u001b[0m \u001b[1;95mINFO \u001b[1;0m  \u001b[1mmodels.autoencoders.gumboltAtlasPRBMCNN           \u001b[0mEpoch 1: beta = 4.15856909057557\n",
      "\u001b[1m[16:09:20.217]\u001b[0m \u001b[1;95mINFO \u001b[1;0m  \u001b[1mmodels.autoencoders.gumboltAtlasPRBMCNN           \u001b[0mEpoch 2: beta = 3.9534111914505665\n",
      "\u001b[1m[16:09:21.668]\u001b[0m \u001b[1;95mINFO \u001b[1;0m  \u001b[1mmodels.autoencoders.gumboltAtlasPRBMCNN           \u001b[0mEpoch 3: beta = 3.8560350093517104\n",
      "\u001b[1m[16:09:23.275]\u001b[0m \u001b[1;95mINFO \u001b[1;0m  \u001b[1mmodels.autoencoders.gumboltAtlasPRBMCNN           \u001b[0mEpoch 4: beta = 3.8175522562708832\n",
      "\u001b[1m[16:09:24.902]\u001b[0m \u001b[1;95mINFO \u001b[1;0m  \u001b[1mmodels.autoencoders.gumboltAtlasPRBMCNN           \u001b[0mEpoch 5: beta = 3.7798203002861794\n",
      "\u001b[1m[16:09:26.444]\u001b[0m \u001b[1;95mINFO \u001b[1;0m  \u001b[1mmodels.autoencoders.gumboltAtlasPRBMCNN           \u001b[0mEpoch 6: beta = 3.7337958538780733\n"
     ]
    },
    {
     "name": "stdout",
     "output_type": "stream",
     "text": [
      "3\n"
     ]
    },
    {
     "name": "stderr",
     "output_type": "stream",
     "text": [
      "\u001b[1m[16:09:30.474]\u001b[0m \u001b[1;95mINFO \u001b[1;0m  \u001b[1mmodels.autoencoders.gumboltAtlasPRBMCNN           \u001b[0mEpoch 0: beta = 4.5\n",
      "\u001b[1m[16:09:32.394]\u001b[0m \u001b[1;95mINFO \u001b[1;0m  \u001b[1mmodels.autoencoders.gumboltAtlasPRBMCNN           \u001b[0mEpoch 1: beta = 4.172882631562963\n",
      "\u001b[1m[16:09:33.919]\u001b[0m \u001b[1;95mINFO \u001b[1;0m  \u001b[1mmodels.autoencoders.gumboltAtlasPRBMCNN           \u001b[0mEpoch 2: beta = 3.8810391227008276\n",
      "\u001b[1m[16:09:35.478]\u001b[0m \u001b[1;95mINFO \u001b[1;0m  \u001b[1mmodels.autoencoders.gumboltAtlasPRBMCNN           \u001b[0mEpoch 3: beta = 3.8193272276905024\n"
     ]
    },
    {
     "name": "stdout",
     "output_type": "stream",
     "text": [
      "4\n"
     ]
    },
    {
     "name": "stderr",
     "output_type": "stream",
     "text": [
      "\u001b[1m[16:09:39.260]\u001b[0m \u001b[1;95mINFO \u001b[1;0m  \u001b[1mmodels.autoencoders.gumboltAtlasPRBMCNN           \u001b[0mEpoch 0: beta = 4.5\n",
      "\u001b[1m[16:09:40.771]\u001b[0m \u001b[1;95mINFO \u001b[1;0m  \u001b[1mmodels.autoencoders.gumboltAtlasPRBMCNN           \u001b[0mEpoch 1: beta = 4.210404946529108\n",
      "\u001b[1m[16:09:42.237]\u001b[0m \u001b[1;95mINFO \u001b[1;0m  \u001b[1mmodels.autoencoders.gumboltAtlasPRBMCNN           \u001b[0mEpoch 2: beta = 3.993526403806879\n",
      "\u001b[1m[16:09:43.713]\u001b[0m \u001b[1;95mINFO \u001b[1;0m  \u001b[1mmodels.autoencoders.gumboltAtlasPRBMCNN           \u001b[0mEpoch 3: beta = 3.8911115730681756\n",
      "\u001b[1m[16:09:45.293]\u001b[0m \u001b[1;95mINFO \u001b[1;0m  \u001b[1mmodels.autoencoders.gumboltAtlasPRBMCNN           \u001b[0mEpoch 4: beta = 3.8381542486105507\n"
     ]
    },
    {
     "name": "stdout",
     "output_type": "stream",
     "text": [
      "5\n"
     ]
    },
    {
     "name": "stderr",
     "output_type": "stream",
     "text": [
      "\u001b[1m[16:09:48.992]\u001b[0m \u001b[1;95mINFO \u001b[1;0m  \u001b[1mmodels.autoencoders.gumboltAtlasPRBMCNN           \u001b[0mEpoch 0: beta = 4.5\n",
      "\u001b[1m[16:09:50.517]\u001b[0m \u001b[1;95mINFO \u001b[1;0m  \u001b[1mmodels.autoencoders.gumboltAtlasPRBMCNN           \u001b[0mEpoch 1: beta = 4.198882865904259\n",
      "\u001b[1m[16:09:52.021]\u001b[0m \u001b[1;95mINFO \u001b[1;0m  \u001b[1mmodels.autoencoders.gumboltAtlasPRBMCNN           \u001b[0mEpoch 2: beta = 3.970524236545661\n",
      "\u001b[1m[16:09:56.316]\u001b[0m \u001b[1;95mINFO \u001b[1;0m  \u001b[1mmodels.autoencoders.gumboltAtlasPRBMCNN           \u001b[0mEpoch 3: beta = 3.791114943268298\n",
      "\u001b[1m[16:09:57.768]\u001b[0m \u001b[1;95mINFO \u001b[1;0m  \u001b[1mmodels.autoencoders.gumboltAtlasPRBMCNN           \u001b[0mEpoch 4: beta = 3.830867027577134\n"
     ]
    },
    {
     "name": "stdout",
     "output_type": "stream",
     "text": [
      "6\n"
     ]
    },
    {
     "name": "stderr",
     "output_type": "stream",
     "text": [
      "\u001b[1m[16:10:01.439]\u001b[0m \u001b[1;95mINFO \u001b[1;0m  \u001b[1mmodels.autoencoders.gumboltAtlasPRBMCNN           \u001b[0mEpoch 0: beta = 4.5\n",
      "\u001b[1m[16:10:03.219]\u001b[0m \u001b[1;95mINFO \u001b[1;0m  \u001b[1mmodels.autoencoders.gumboltAtlasPRBMCNN           \u001b[0mEpoch 1: beta = 4.196830923025704\n",
      "\u001b[1m[16:10:04.864]\u001b[0m \u001b[1;95mINFO \u001b[1;0m  \u001b[1mmodels.autoencoders.gumboltAtlasPRBMCNN           \u001b[0mEpoch 2: beta = 4.014963339946174\n",
      "\u001b[1m[16:10:07.063]\u001b[0m \u001b[1;95mINFO \u001b[1;0m  \u001b[1mmodels.autoencoders.gumboltAtlasPRBMCNN           \u001b[0mEpoch 3: beta = 3.837068470983221\n",
      "\u001b[1m[16:10:08.566]\u001b[0m \u001b[1;95mINFO \u001b[1;0m  \u001b[1mmodels.autoencoders.gumboltAtlasPRBMCNN           \u001b[0mEpoch 4: beta = 3.5380830638151664\n",
      "\u001b[1m[16:10:10.067]\u001b[0m \u001b[1;95mINFO \u001b[1;0m  \u001b[1mmodels.autoencoders.gumboltAtlasPRBMCNN           \u001b[0mEpoch 5: beta = 3.509774038688896\n",
      "\u001b[1m[16:10:11.511]\u001b[0m \u001b[1;95mINFO \u001b[1;0m  \u001b[1mmodels.autoencoders.gumboltAtlasPRBMCNN           \u001b[0mEpoch 6: beta = 3.58331570397984\n",
      "\u001b[1m[16:10:13.002]\u001b[0m \u001b[1;95mINFO \u001b[1;0m  \u001b[1mmodels.autoencoders.gumboltAtlasPRBMCNN           \u001b[0mEpoch 7: beta = 3.6418547823547294\n"
     ]
    },
    {
     "name": "stdout",
     "output_type": "stream",
     "text": [
      "7\n"
     ]
    },
    {
     "name": "stderr",
     "output_type": "stream",
     "text": [
      "\u001b[1m[16:10:17.008]\u001b[0m \u001b[1;95mINFO \u001b[1;0m  \u001b[1mmodels.autoencoders.gumboltAtlasPRBMCNN           \u001b[0mEpoch 0: beta = 4.5\n",
      "\u001b[1m[16:10:18.463]\u001b[0m \u001b[1;95mINFO \u001b[1;0m  \u001b[1mmodels.autoencoders.gumboltAtlasPRBMCNN           \u001b[0mEpoch 1: beta = 4.249509994731367\n",
      "\u001b[1m[16:10:20.306]\u001b[0m \u001b[1;95mINFO \u001b[1;0m  \u001b[1mmodels.autoencoders.gumboltAtlasPRBMCNN           \u001b[0mEpoch 2: beta = 3.976454532248317\n",
      "\u001b[1m[16:10:21.779]\u001b[0m \u001b[1;95mINFO \u001b[1;0m  \u001b[1mmodels.autoencoders.gumboltAtlasPRBMCNN           \u001b[0mEpoch 3: beta = 3.874457586535931\n",
      "\u001b[1m[16:10:23.264]\u001b[0m \u001b[1;95mINFO \u001b[1;0m  \u001b[1mmodels.autoencoders.gumboltAtlasPRBMCNN           \u001b[0mEpoch 4: beta = 3.7930187070459964\n"
     ]
    },
    {
     "name": "stdout",
     "output_type": "stream",
     "text": [
      "8\n"
     ]
    },
    {
     "name": "stderr",
     "output_type": "stream",
     "text": [
      "\u001b[1m[16:10:27.318]\u001b[0m \u001b[1;95mINFO \u001b[1;0m  \u001b[1mmodels.autoencoders.gumboltAtlasPRBMCNN           \u001b[0mEpoch 0: beta = 4.5\n",
      "\u001b[1m[16:10:28.963]\u001b[0m \u001b[1;95mINFO \u001b[1;0m  \u001b[1mmodels.autoencoders.gumboltAtlasPRBMCNN           \u001b[0mEpoch 1: beta = 4.174285356873051\n",
      "\u001b[1m[16:10:30.681]\u001b[0m \u001b[1;95mINFO \u001b[1;0m  \u001b[1mmodels.autoencoders.gumboltAtlasPRBMCNN           \u001b[0mEpoch 2: beta = 4.000459289151002\n",
      "\u001b[1m[16:10:32.318]\u001b[0m \u001b[1;95mINFO \u001b[1;0m  \u001b[1mmodels.autoencoders.gumboltAtlasPRBMCNN           \u001b[0mEpoch 3: beta = 3.847030227322988\n",
      "\u001b[1m[16:10:33.799]\u001b[0m \u001b[1;95mINFO \u001b[1;0m  \u001b[1mmodels.autoencoders.gumboltAtlasPRBMCNN           \u001b[0mEpoch 4: beta = 3.732497781910827\n"
     ]
    },
    {
     "name": "stdout",
     "output_type": "stream",
     "text": [
      "9\n"
     ]
    },
    {
     "name": "stderr",
     "output_type": "stream",
     "text": [
      "\u001b[1m[16:10:37.640]\u001b[0m \u001b[1;95mINFO \u001b[1;0m  \u001b[1mmodels.autoencoders.gumboltAtlasPRBMCNN           \u001b[0mEpoch 0: beta = 4.5\n",
      "\u001b[1m[16:10:39.073]\u001b[0m \u001b[1;95mINFO \u001b[1;0m  \u001b[1mmodels.autoencoders.gumboltAtlasPRBMCNN           \u001b[0mEpoch 1: beta = 4.19999952317185\n",
      "\u001b[1m[16:10:40.695]\u001b[0m \u001b[1;95mINFO \u001b[1;0m  \u001b[1mmodels.autoencoders.gumboltAtlasPRBMCNN           \u001b[0mEpoch 2: beta = 3.9931355712576537\n",
      "\u001b[1m[16:10:42.213]\u001b[0m \u001b[1;95mINFO \u001b[1;0m  \u001b[1mmodels.autoencoders.gumboltAtlasPRBMCNN           \u001b[0mEpoch 3: beta = 3.9012436951416527\n"
     ]
    },
    {
     "name": "stdout",
     "output_type": "stream",
     "text": [
      "10\n"
     ]
    },
    {
     "name": "stderr",
     "output_type": "stream",
     "text": [
      "\u001b[1m[16:10:45.980]\u001b[0m \u001b[1;95mINFO \u001b[1;0m  \u001b[1mmodels.autoencoders.gumboltAtlasPRBMCNN           \u001b[0mEpoch 0: beta = 4.5\n",
      "\u001b[1m[16:10:47.503]\u001b[0m \u001b[1;95mINFO \u001b[1;0m  \u001b[1mmodels.autoencoders.gumboltAtlasPRBMCNN           \u001b[0mEpoch 1: beta = 4.224382973878961\n",
      "\u001b[1m[16:10:49.042]\u001b[0m \u001b[1;95mINFO \u001b[1;0m  \u001b[1mmodels.autoencoders.gumboltAtlasPRBMCNN           \u001b[0mEpoch 2: beta = 3.9660487105023585\n",
      "\u001b[1m[16:10:50.750]\u001b[0m \u001b[1;95mINFO \u001b[1;0m  \u001b[1mmodels.autoencoders.gumboltAtlasPRBMCNN           \u001b[0mEpoch 3: beta = 3.8800107655200566\n",
      "\u001b[1m[16:10:52.262]\u001b[0m \u001b[1;95mINFO \u001b[1;0m  \u001b[1mmodels.autoencoders.gumboltAtlasPRBMCNN           \u001b[0mEpoch 4: beta = 3.8530594452462923\n",
      "\u001b[1m[16:10:53.766]\u001b[0m \u001b[1;95mINFO \u001b[1;0m  \u001b[1mmodels.autoencoders.gumboltAtlasPRBMCNN           \u001b[0mEpoch 5: beta = 3.820278914068487\n"
     ]
    },
    {
     "name": "stdout",
     "output_type": "stream",
     "text": [
      "11\n"
     ]
    },
    {
     "name": "stderr",
     "output_type": "stream",
     "text": [
      "\u001b[1m[16:10:57.495]\u001b[0m \u001b[1;95mINFO \u001b[1;0m  \u001b[1mmodels.autoencoders.gumboltAtlasPRBMCNN           \u001b[0mEpoch 0: beta = 4.5\n",
      "\u001b[1m[16:10:59.125]\u001b[0m \u001b[1;95mINFO \u001b[1;0m  \u001b[1mmodels.autoencoders.gumboltAtlasPRBMCNN           \u001b[0mEpoch 1: beta = 4.131308521725975\n",
      "\u001b[1m[16:11:00.721]\u001b[0m \u001b[1;95mINFO \u001b[1;0m  \u001b[1mmodels.autoencoders.gumboltAtlasPRBMCNN           \u001b[0mEpoch 2: beta = 3.977785504557694\n",
      "\u001b[1m[16:11:02.255]\u001b[0m \u001b[1;95mINFO \u001b[1;0m  \u001b[1mmodels.autoencoders.gumboltAtlasPRBMCNN           \u001b[0mEpoch 3: beta = 3.881812916224587\n",
      "\u001b[1m[16:11:03.751]\u001b[0m \u001b[1;95mINFO \u001b[1;0m  \u001b[1mmodels.autoencoders.gumboltAtlasPRBMCNN           \u001b[0mEpoch 4: beta = 3.8361935575870847\n",
      "\u001b[1m[16:11:05.237]\u001b[0m \u001b[1;95mINFO \u001b[1;0m  \u001b[1mmodels.autoencoders.gumboltAtlasPRBMCNN           \u001b[0mEpoch 5: beta = 3.793326899035195\n",
      "\u001b[1m[16:11:06.823]\u001b[0m \u001b[1;95mINFO \u001b[1;0m  \u001b[1mmodels.autoencoders.gumboltAtlasPRBMCNN           \u001b[0mEpoch 6: beta = 3.7695280168006344\n",
      "\u001b[1m[16:11:08.352]\u001b[0m \u001b[1;95mINFO \u001b[1;0m  \u001b[1mmodels.autoencoders.gumboltAtlasPRBMCNN           \u001b[0mEpoch 7: beta = 3.721891549162119\n",
      "\u001b[1m[16:11:09.890]\u001b[0m \u001b[1;95mINFO \u001b[1;0m  \u001b[1mmodels.autoencoders.gumboltAtlasPRBMCNN           \u001b[0mEpoch 8: beta = 3.753467652248385\n",
      "\u001b[1m[16:11:11.349]\u001b[0m \u001b[1;95mINFO \u001b[1;0m  \u001b[1mmodels.autoencoders.gumboltAtlasPRBMCNN           \u001b[0mEpoch 9: beta = 3.7208421322242358\n"
     ]
    },
    {
     "name": "stdout",
     "output_type": "stream",
     "text": [
      "12\n"
     ]
    },
    {
     "name": "stderr",
     "output_type": "stream",
     "text": [
      "\u001b[1m[16:11:15.187]\u001b[0m \u001b[1;95mINFO \u001b[1;0m  \u001b[1mmodels.autoencoders.gumboltAtlasPRBMCNN           \u001b[0mEpoch 0: beta = 4.5\n",
      "\u001b[1m[16:11:16.700]\u001b[0m \u001b[1;95mINFO \u001b[1;0m  \u001b[1mmodels.autoencoders.gumboltAtlasPRBMCNN           \u001b[0mEpoch 1: beta = 4.134362040130498\n",
      "\u001b[1m[16:11:18.229]\u001b[0m \u001b[1;95mINFO \u001b[1;0m  \u001b[1mmodels.autoencoders.gumboltAtlasPRBMCNN           \u001b[0mEpoch 2: beta = 3.8964313297118043\n",
      "\u001b[1m[16:11:19.767]\u001b[0m \u001b[1;95mINFO \u001b[1;0m  \u001b[1mmodels.autoencoders.gumboltAtlasPRBMCNN           \u001b[0mEpoch 3: beta = 3.8457858787040937\n",
      "\u001b[1m[16:11:21.547]\u001b[0m \u001b[1;95mINFO \u001b[1;0m  \u001b[1mmodels.autoencoders.gumboltAtlasPRBMCNN           \u001b[0mEpoch 4: beta = 3.7867124478492724\n"
     ]
    },
    {
     "name": "stdout",
     "output_type": "stream",
     "text": [
      "13\n"
     ]
    },
    {
     "name": "stderr",
     "output_type": "stream",
     "text": [
      "\u001b[1m[16:11:25.596]\u001b[0m \u001b[1;95mINFO \u001b[1;0m  \u001b[1mmodels.autoencoders.gumboltAtlasPRBMCNN           \u001b[0mEpoch 0: beta = 4.5\n",
      "\u001b[1m[16:11:27.105]\u001b[0m \u001b[1;95mINFO \u001b[1;0m  \u001b[1mmodels.autoencoders.gumboltAtlasPRBMCNN           \u001b[0mEpoch 1: beta = 4.165957624987547\n",
      "\u001b[1m[16:11:28.563]\u001b[0m \u001b[1;95mINFO \u001b[1;0m  \u001b[1mmodels.autoencoders.gumboltAtlasPRBMCNN           \u001b[0mEpoch 2: beta = 3.9415847141933353\n",
      "\u001b[1m[16:11:30.125]\u001b[0m \u001b[1;95mINFO \u001b[1;0m  \u001b[1mmodels.autoencoders.gumboltAtlasPRBMCNN           \u001b[0mEpoch 3: beta = 3.8296915223799015\n",
      "\u001b[1m[16:11:31.712]\u001b[0m \u001b[1;95mINFO \u001b[1;0m  \u001b[1mmodels.autoencoders.gumboltAtlasPRBMCNN           \u001b[0mEpoch 4: beta = 3.756218187277659\n",
      "\u001b[1m[16:11:33.292]\u001b[0m \u001b[1;95mINFO \u001b[1;0m  \u001b[1mmodels.autoencoders.gumboltAtlasPRBMCNN           \u001b[0mEpoch 5: beta = 3.7101558377385757\n",
      "\u001b[1m[16:11:34.833]\u001b[0m \u001b[1;95mINFO \u001b[1;0m  \u001b[1mmodels.autoencoders.gumboltAtlasPRBMCNN           \u001b[0mEpoch 6: beta = 3.683507199278436\n"
     ]
    },
    {
     "name": "stdout",
     "output_type": "stream",
     "text": [
      "14\n"
     ]
    },
    {
     "name": "stderr",
     "output_type": "stream",
     "text": [
      "\u001b[1m[16:11:38.524]\u001b[0m \u001b[1;95mINFO \u001b[1;0m  \u001b[1mmodels.autoencoders.gumboltAtlasPRBMCNN           \u001b[0mEpoch 0: beta = 4.5\n",
      "\u001b[1m[16:11:40.018]\u001b[0m \u001b[1;95mINFO \u001b[1;0m  \u001b[1mmodels.autoencoders.gumboltAtlasPRBMCNN           \u001b[0mEpoch 1: beta = 4.214515054295555\n",
      "\u001b[1m[16:11:41.516]\u001b[0m \u001b[1;95mINFO \u001b[1;0m  \u001b[1mmodels.autoencoders.gumboltAtlasPRBMCNN           \u001b[0mEpoch 2: beta = 4.000494190417044\n",
      "\u001b[1m[16:11:42.964]\u001b[0m \u001b[1;95mINFO \u001b[1;0m  \u001b[1mmodels.autoencoders.gumboltAtlasPRBMCNN           \u001b[0mEpoch 3: beta = 3.8191826539832343\n"
     ]
    },
    {
     "name": "stdout",
     "output_type": "stream",
     "text": [
      "15\n"
     ]
    },
    {
     "name": "stderr",
     "output_type": "stream",
     "text": [
      "\u001b[1m[16:11:46.611]\u001b[0m \u001b[1;95mINFO \u001b[1;0m  \u001b[1mmodels.autoencoders.gumboltAtlasPRBMCNN           \u001b[0mEpoch 0: beta = 4.5\n",
      "\u001b[1m[16:11:48.092]\u001b[0m \u001b[1;95mINFO \u001b[1;0m  \u001b[1mmodels.autoencoders.gumboltAtlasPRBMCNN           \u001b[0mEpoch 1: beta = 4.188156240563676\n",
      "\u001b[1m[16:11:49.585]\u001b[0m \u001b[1;95mINFO \u001b[1;0m  \u001b[1mmodels.autoencoders.gumboltAtlasPRBMCNN           \u001b[0mEpoch 2: beta = 3.9522870056797825\n",
      "\u001b[1m[16:11:51.041]\u001b[0m \u001b[1;95mINFO \u001b[1;0m  \u001b[1mmodels.autoencoders.gumboltAtlasPRBMCNN           \u001b[0mEpoch 3: beta = 3.8431001652782966\n",
      "\u001b[1m[16:11:52.750]\u001b[0m \u001b[1;95mINFO \u001b[1;0m  \u001b[1mmodels.autoencoders.gumboltAtlasPRBMCNN           \u001b[0mEpoch 4: beta = 3.8101731254570157\n",
      "\u001b[1m[16:11:54.596]\u001b[0m \u001b[1;95mINFO \u001b[1;0m  \u001b[1mmodels.autoencoders.gumboltAtlasPRBMCNN           \u001b[0mEpoch 5: beta = 3.773171805561838\n"
     ]
    },
    {
     "name": "stdout",
     "output_type": "stream",
     "text": [
      "16\n"
     ]
    },
    {
     "name": "stderr",
     "output_type": "stream",
     "text": [
      "\u001b[1m[16:11:58.261]\u001b[0m \u001b[1;95mINFO \u001b[1;0m  \u001b[1mmodels.autoencoders.gumboltAtlasPRBMCNN           \u001b[0mEpoch 0: beta = 4.5\n",
      "\u001b[1m[16:11:59.915]\u001b[0m \u001b[1;95mINFO \u001b[1;0m  \u001b[1mmodels.autoencoders.gumboltAtlasPRBMCNN           \u001b[0mEpoch 1: beta = 4.234597828909766\n",
      "\u001b[1m[16:12:01.485]\u001b[0m \u001b[1;95mINFO \u001b[1;0m  \u001b[1mmodels.autoencoders.gumboltAtlasPRBMCNN           \u001b[0mEpoch 2: beta = 3.941302065047045\n",
      "\u001b[1m[16:12:03.047]\u001b[0m \u001b[1;95mINFO \u001b[1;0m  \u001b[1mmodels.autoencoders.gumboltAtlasPRBMCNN           \u001b[0mEpoch 3: beta = 3.8347070350010024\n",
      "\u001b[1m[16:12:04.503]\u001b[0m \u001b[1;95mINFO \u001b[1;0m  \u001b[1mmodels.autoencoders.gumboltAtlasPRBMCNN           \u001b[0mEpoch 4: beta = 3.7540742105350033\n",
      "\u001b[1m[16:12:06.001]\u001b[0m \u001b[1;95mINFO \u001b[1;0m  \u001b[1mmodels.autoencoders.gumboltAtlasPRBMCNN           \u001b[0mEpoch 5: beta = 3.7172467198281667\n"
     ]
    },
    {
     "name": "stdout",
     "output_type": "stream",
     "text": [
      "17\n"
     ]
    },
    {
     "name": "stderr",
     "output_type": "stream",
     "text": [
      "\u001b[1m[16:12:09.740]\u001b[0m \u001b[1;95mINFO \u001b[1;0m  \u001b[1mmodels.autoencoders.gumboltAtlasPRBMCNN           \u001b[0mEpoch 0: beta = 4.5\n",
      "\u001b[1m[16:12:11.503]\u001b[0m \u001b[1;95mINFO \u001b[1;0m  \u001b[1mmodels.autoencoders.gumboltAtlasPRBMCNN           \u001b[0mEpoch 1: beta = 4.231941585899625\n",
      "\u001b[1m[16:12:12.997]\u001b[0m \u001b[1;95mINFO \u001b[1;0m  \u001b[1mmodels.autoencoders.gumboltAtlasPRBMCNN           \u001b[0mEpoch 2: beta = 3.996276323826862\n",
      "\u001b[1m[16:12:14.524]\u001b[0m \u001b[1;95mINFO \u001b[1;0m  \u001b[1mmodels.autoencoders.gumboltAtlasPRBMCNN           \u001b[0mEpoch 3: beta = 3.908499767416363\n",
      "\u001b[1m[16:12:16.134]\u001b[0m \u001b[1;95mINFO \u001b[1;0m  \u001b[1mmodels.autoencoders.gumboltAtlasPRBMCNN           \u001b[0mEpoch 4: beta = 3.8786789975191045\n",
      "\u001b[1m[16:12:17.604]\u001b[0m \u001b[1;95mINFO \u001b[1;0m  \u001b[1mmodels.autoencoders.gumboltAtlasPRBMCNN           \u001b[0mEpoch 5: beta = 3.8270450193385175\n",
      "\u001b[1m[16:12:19.564]\u001b[0m \u001b[1;95mINFO \u001b[1;0m  \u001b[1mmodels.autoencoders.gumboltAtlasPRBMCNN           \u001b[0mEpoch 6: beta = 3.7793997228600458\n"
     ]
    },
    {
     "name": "stdout",
     "output_type": "stream",
     "text": [
      "18\n"
     ]
    },
    {
     "name": "stderr",
     "output_type": "stream",
     "text": [
      "\u001b[1m[16:12:23.158]\u001b[0m \u001b[1;95mINFO \u001b[1;0m  \u001b[1mmodels.autoencoders.gumboltAtlasPRBMCNN           \u001b[0mEpoch 0: beta = 4.5\n",
      "\u001b[1m[16:12:24.680]\u001b[0m \u001b[1;95mINFO \u001b[1;0m  \u001b[1mmodels.autoencoders.gumboltAtlasPRBMCNN           \u001b[0mEpoch 1: beta = 4.105566099314201\n",
      "\u001b[1m[16:12:26.263]\u001b[0m \u001b[1;95mINFO \u001b[1;0m  \u001b[1mmodels.autoencoders.gumboltAtlasPRBMCNN           \u001b[0mEpoch 2: beta = 3.8782051708108063\n",
      "\u001b[1m[16:12:27.731]\u001b[0m \u001b[1;95mINFO \u001b[1;0m  \u001b[1mmodels.autoencoders.gumboltAtlasPRBMCNN           \u001b[0mEpoch 3: beta = 3.802690127139418\n"
     ]
    },
    {
     "name": "stdout",
     "output_type": "stream",
     "text": [
      "19\n"
     ]
    },
    {
     "name": "stderr",
     "output_type": "stream",
     "text": [
      "\u001b[1m[16:12:44.141]\u001b[0m \u001b[1;95mINFO \u001b[1;0m  \u001b[1mmodels.autoencoders.gumboltAtlasPRBMCNN           \u001b[0mEpoch 0: beta = 4.5\n",
      "\u001b[1m[16:12:45.981]\u001b[0m \u001b[1;95mINFO \u001b[1;0m  \u001b[1mmodels.autoencoders.gumboltAtlasPRBMCNN           \u001b[0mEpoch 1: beta = 4.204249556741992\n",
      "\u001b[1m[16:12:47.630]\u001b[0m \u001b[1;95mINFO \u001b[1;0m  \u001b[1mmodels.autoencoders.gumboltAtlasPRBMCNN           \u001b[0mEpoch 2: beta = 4.095552242482646\n",
      "\u001b[1m[16:12:49.145]\u001b[0m \u001b[1;95mINFO \u001b[1;0m  \u001b[1mmodels.autoencoders.gumboltAtlasPRBMCNN           \u001b[0mEpoch 3: beta = 4.00783047295012\n",
      "\u001b[1m[16:12:50.636]\u001b[0m \u001b[1;95mINFO \u001b[1;0m  \u001b[1mmodels.autoencoders.gumboltAtlasPRBMCNN           \u001b[0mEpoch 4: beta = 3.8943967005384814\n",
      "\u001b[1m[16:12:52.210]\u001b[0m \u001b[1;95mINFO \u001b[1;0m  \u001b[1mmodels.autoencoders.gumboltAtlasPRBMCNN           \u001b[0mEpoch 5: beta = 3.862310084284475\n"
     ]
    },
    {
     "name": "stdout",
     "output_type": "stream",
     "text": [
      "2 False\n",
      "0\n"
     ]
    },
    {
     "name": "stderr",
     "output_type": "stream",
     "text": [
      "\u001b[1m[16:12:57.649]\u001b[0m \u001b[1;95mINFO \u001b[1;0m  \u001b[1mmodels.autoencoders.gumboltAtlasPRBMCNN           \u001b[0mEpoch 0: beta = 4.5\n",
      "\u001b[1m[16:12:59.602]\u001b[0m \u001b[1;95mINFO \u001b[1;0m  \u001b[1mmodels.autoencoders.gumboltAtlasPRBMCNN           \u001b[0mEpoch 1: beta = 4.443707878399975\n",
      "\u001b[1m[16:13:01.092]\u001b[0m \u001b[1;95mINFO \u001b[1;0m  \u001b[1mmodels.autoencoders.gumboltAtlasPRBMCNN           \u001b[0mEpoch 2: beta = 4.387512302239185\n",
      "\u001b[1m[16:13:02.658]\u001b[0m \u001b[1;95mINFO \u001b[1;0m  \u001b[1mmodels.autoencoders.gumboltAtlasPRBMCNN           \u001b[0mEpoch 3: beta = 4.340424035324394\n",
      "\u001b[1m[16:13:04.118]\u001b[0m \u001b[1;95mINFO \u001b[1;0m  \u001b[1mmodels.autoencoders.gumboltAtlasPRBMCNN           \u001b[0mEpoch 4: beta = 4.30404332679133\n",
      "\u001b[1m[16:13:05.600]\u001b[0m \u001b[1;95mINFO \u001b[1;0m  \u001b[1mmodels.autoencoders.gumboltAtlasPRBMCNN           \u001b[0mEpoch 5: beta = 4.270191969249726\n",
      "\u001b[1m[16:13:07.095]\u001b[0m \u001b[1;95mINFO \u001b[1;0m  \u001b[1mmodels.autoencoders.gumboltAtlasPRBMCNN           \u001b[0mEpoch 6: beta = 4.238593918838745\n",
      "\u001b[1m[16:13:08.689]\u001b[0m \u001b[1;95mINFO \u001b[1;0m  \u001b[1mmodels.autoencoders.gumboltAtlasPRBMCNN           \u001b[0mEpoch 7: beta = 4.2097586978142685\n",
      "\u001b[1m[16:13:10.246]\u001b[0m \u001b[1;95mINFO \u001b[1;0m  \u001b[1mmodels.autoencoders.gumboltAtlasPRBMCNN           \u001b[0mEpoch 8: beta = 4.180337826179806\n",
      "\u001b[1m[16:13:11.792]\u001b[0m \u001b[1;95mINFO \u001b[1;0m  \u001b[1mmodels.autoencoders.gumboltAtlasPRBMCNN           \u001b[0mEpoch 9: beta = 4.156720101923422\n",
      "\u001b[1m[16:13:13.315]\u001b[0m \u001b[1;95mINFO \u001b[1;0m  \u001b[1mmodels.autoencoders.gumboltAtlasPRBMCNN           \u001b[0mEpoch 10: beta = 4.130723896761772\n",
      "\u001b[1m[16:13:14.866]\u001b[0m \u001b[1;95mINFO \u001b[1;0m  \u001b[1mmodels.autoencoders.gumboltAtlasPRBMCNN           \u001b[0mEpoch 11: beta = 4.10484126165776\n",
      "\u001b[1m[16:13:16.352]\u001b[0m \u001b[1;95mINFO \u001b[1;0m  \u001b[1mmodels.autoencoders.gumboltAtlasPRBMCNN           \u001b[0mEpoch 12: beta = 4.081522410901313\n",
      "\u001b[1m[16:13:17.858]\u001b[0m \u001b[1;95mINFO \u001b[1;0m  \u001b[1mmodels.autoencoders.gumboltAtlasPRBMCNN           \u001b[0mEpoch 13: beta = 4.0631180302591465\n",
      "\u001b[1m[16:13:19.330]\u001b[0m \u001b[1;95mINFO \u001b[1;0m  \u001b[1mmodels.autoencoders.gumboltAtlasPRBMCNN           \u001b[0mEpoch 14: beta = 4.047587496026982\n",
      "\u001b[1m[16:13:20.775]\u001b[0m \u001b[1;95mINFO \u001b[1;0m  \u001b[1mmodels.autoencoders.gumboltAtlasPRBMCNN           \u001b[0mEpoch 15: beta = 4.028298501520293\n",
      "\u001b[1m[16:13:22.217]\u001b[0m \u001b[1;95mINFO \u001b[1;0m  \u001b[1mmodels.autoencoders.gumboltAtlasPRBMCNN           \u001b[0mEpoch 16: beta = 4.011657194326136\n",
      "\u001b[1m[16:13:23.678]\u001b[0m \u001b[1;95mINFO \u001b[1;0m  \u001b[1mmodels.autoencoders.gumboltAtlasPRBMCNN           \u001b[0mEpoch 17: beta = 3.9947061124970187\n",
      "\u001b[1m[16:13:25.141]\u001b[0m \u001b[1;95mINFO \u001b[1;0m  \u001b[1mmodels.autoencoders.gumboltAtlasPRBMCNN           \u001b[0mEpoch 18: beta = 3.97799185355071\n",
      "\u001b[1m[16:13:26.579]\u001b[0m \u001b[1;95mINFO \u001b[1;0m  \u001b[1mmodels.autoencoders.gumboltAtlasPRBMCNN           \u001b[0mEpoch 19: beta = 3.965201640320911\n",
      "\u001b[1m[16:13:28.026]\u001b[0m \u001b[1;95mINFO \u001b[1;0m  \u001b[1mmodels.autoencoders.gumboltAtlasPRBMCNN           \u001b[0mEpoch 20: beta = 3.949767294575425\n"
     ]
    },
    {
     "name": "stdout",
     "output_type": "stream",
     "text": [
      "1\n"
     ]
    },
    {
     "name": "stderr",
     "output_type": "stream",
     "text": [
      "\u001b[1m[16:13:31.779]\u001b[0m \u001b[1;95mINFO \u001b[1;0m  \u001b[1mmodels.autoencoders.gumboltAtlasPRBMCNN           \u001b[0mEpoch 0: beta = 4.5\n",
      "\u001b[1m[16:13:33.346]\u001b[0m \u001b[1;95mINFO \u001b[1;0m  \u001b[1mmodels.autoencoders.gumboltAtlasPRBMCNN           \u001b[0mEpoch 1: beta = 4.443972522000085\n",
      "\u001b[1m[16:13:34.842]\u001b[0m \u001b[1;95mINFO \u001b[1;0m  \u001b[1mmodels.autoencoders.gumboltAtlasPRBMCNN           \u001b[0mEpoch 2: beta = 4.395161213527018\n",
      "\u001b[1m[16:13:36.810]\u001b[0m \u001b[1;95mINFO \u001b[1;0m  \u001b[1mmodels.autoencoders.gumboltAtlasPRBMCNN           \u001b[0mEpoch 3: beta = 4.347904582862927\n",
      "\u001b[1m[16:13:38.743]\u001b[0m \u001b[1;95mINFO \u001b[1;0m  \u001b[1mmodels.autoencoders.gumboltAtlasPRBMCNN           \u001b[0mEpoch 4: beta = 4.301200268906164\n",
      "\u001b[1m[16:13:40.257]\u001b[0m \u001b[1;95mINFO \u001b[1;0m  \u001b[1mmodels.autoencoders.gumboltAtlasPRBMCNN           \u001b[0mEpoch 5: beta = 4.248352016145841\n",
      "\u001b[1m[16:13:41.742]\u001b[0m \u001b[1;95mINFO \u001b[1;0m  \u001b[1mmodels.autoencoders.gumboltAtlasPRBMCNN           \u001b[0mEpoch 6: beta = 4.214211732827833\n",
      "\u001b[1m[16:13:43.226]\u001b[0m \u001b[1;95mINFO \u001b[1;0m  \u001b[1mmodels.autoencoders.gumboltAtlasPRBMCNN           \u001b[0mEpoch 7: beta = 4.1846967735383185\n",
      "\u001b[1m[16:13:44.707]\u001b[0m \u001b[1;95mINFO \u001b[1;0m  \u001b[1mmodels.autoencoders.gumboltAtlasPRBMCNN           \u001b[0mEpoch 8: beta = 4.158070814484865\n",
      "\u001b[1m[16:13:46.239]\u001b[0m \u001b[1;95mINFO \u001b[1;0m  \u001b[1mmodels.autoencoders.gumboltAtlasPRBMCNN           \u001b[0mEpoch 9: beta = 4.133458582423118\n",
      "\u001b[1m[16:13:47.700]\u001b[0m \u001b[1;95mINFO \u001b[1;0m  \u001b[1mmodels.autoencoders.gumboltAtlasPRBMCNN           \u001b[0mEpoch 10: beta = 4.105817084520917\n",
      "\u001b[1m[16:13:49.569]\u001b[0m \u001b[1;95mINFO \u001b[1;0m  \u001b[1mmodels.autoencoders.gumboltAtlasPRBMCNN           \u001b[0mEpoch 11: beta = 4.08399203052926\n",
      "\u001b[1m[16:13:51.054]\u001b[0m \u001b[1;95mINFO \u001b[1;0m  \u001b[1mmodels.autoencoders.gumboltAtlasPRBMCNN           \u001b[0mEpoch 12: beta = 4.063199543533249\n",
      "\u001b[1m[16:13:52.497]\u001b[0m \u001b[1;95mINFO \u001b[1;0m  \u001b[1mmodels.autoencoders.gumboltAtlasPRBMCNN           \u001b[0mEpoch 13: beta = 4.045468680747765\n",
      "\u001b[1m[16:13:54.025]\u001b[0m \u001b[1;95mINFO \u001b[1;0m  \u001b[1mmodels.autoencoders.gumboltAtlasPRBMCNN           \u001b[0mEpoch 14: beta = 4.023542700999586\n",
      "\u001b[1m[16:13:55.533]\u001b[0m \u001b[1;95mINFO \u001b[1;0m  \u001b[1mmodels.autoencoders.gumboltAtlasPRBMCNN           \u001b[0mEpoch 15: beta = 4.002116769903795\n",
      "\u001b[1m[16:13:57.129]\u001b[0m \u001b[1;95mINFO \u001b[1;0m  \u001b[1mmodels.autoencoders.gumboltAtlasPRBMCNN           \u001b[0mEpoch 16: beta = 3.990538939086989\n",
      "\u001b[1m[16:13:58.797]\u001b[0m \u001b[1;95mINFO \u001b[1;0m  \u001b[1mmodels.autoencoders.gumboltAtlasPRBMCNN           \u001b[0mEpoch 17: beta = 3.974076383763662\n",
      "\u001b[1m[16:14:00.282]\u001b[0m \u001b[1;95mINFO \u001b[1;0m  \u001b[1mmodels.autoencoders.gumboltAtlasPRBMCNN           \u001b[0mEpoch 18: beta = 3.9640320627446113\n",
      "\u001b[1m[16:14:01.755]\u001b[0m \u001b[1;95mINFO \u001b[1;0m  \u001b[1mmodels.autoencoders.gumboltAtlasPRBMCNN           \u001b[0mEpoch 19: beta = 3.9528265819437105\n",
      "\u001b[1m[16:14:03.289]\u001b[0m \u001b[1;95mINFO \u001b[1;0m  \u001b[1mmodels.autoencoders.gumboltAtlasPRBMCNN           \u001b[0mEpoch 20: beta = 3.9372505946269656\n"
     ]
    },
    {
     "name": "stdout",
     "output_type": "stream",
     "text": [
      "2\n"
     ]
    },
    {
     "name": "stderr",
     "output_type": "stream",
     "text": [
      "\u001b[1m[16:14:06.876]\u001b[0m \u001b[1;95mINFO \u001b[1;0m  \u001b[1mmodels.autoencoders.gumboltAtlasPRBMCNN           \u001b[0mEpoch 0: beta = 4.5\n",
      "\u001b[1m[16:14:08.334]\u001b[0m \u001b[1;95mINFO \u001b[1;0m  \u001b[1mmodels.autoencoders.gumboltAtlasPRBMCNN           \u001b[0mEpoch 1: beta = 4.44935830037092\n",
      "\u001b[1m[16:14:09.824]\u001b[0m \u001b[1;95mINFO \u001b[1;0m  \u001b[1mmodels.autoencoders.gumboltAtlasPRBMCNN           \u001b[0mEpoch 2: beta = 4.395210979022867\n",
      "\u001b[1m[16:14:11.868]\u001b[0m \u001b[1;95mINFO \u001b[1;0m  \u001b[1mmodels.autoencoders.gumboltAtlasPRBMCNN           \u001b[0mEpoch 3: beta = 4.355130375345096\n",
      "\u001b[1m[16:14:13.362]\u001b[0m \u001b[1;95mINFO \u001b[1;0m  \u001b[1mmodels.autoencoders.gumboltAtlasPRBMCNN           \u001b[0mEpoch 4: beta = 4.3137717202273\n",
      "\u001b[1m[16:14:14.917]\u001b[0m \u001b[1;95mINFO \u001b[1;0m  \u001b[1mmodels.autoencoders.gumboltAtlasPRBMCNN           \u001b[0mEpoch 5: beta = 4.277747269932869\n",
      "\u001b[1m[16:14:16.486]\u001b[0m \u001b[1;95mINFO \u001b[1;0m  \u001b[1mmodels.autoencoders.gumboltAtlasPRBMCNN           \u001b[0mEpoch 6: beta = 4.248126192523074\n",
      "\u001b[1m[16:14:17.947]\u001b[0m \u001b[1;95mINFO \u001b[1;0m  \u001b[1mmodels.autoencoders.gumboltAtlasPRBMCNN           \u001b[0mEpoch 7: beta = 4.21922108499287\n",
      "\u001b[1m[16:14:19.567]\u001b[0m \u001b[1;95mINFO \u001b[1;0m  \u001b[1mmodels.autoencoders.gumboltAtlasPRBMCNN           \u001b[0mEpoch 8: beta = 4.1927448897687265\n",
      "\u001b[1m[16:14:21.093]\u001b[0m \u001b[1;95mINFO \u001b[1;0m  \u001b[1mmodels.autoencoders.gumboltAtlasPRBMCNN           \u001b[0mEpoch 9: beta = 4.171530166759474\n",
      "\u001b[1m[16:14:22.707]\u001b[0m \u001b[1;95mINFO \u001b[1;0m  \u001b[1mmodels.autoencoders.gumboltAtlasPRBMCNN           \u001b[0mEpoch 10: beta = 4.141630542534578\n",
      "\u001b[1m[16:14:24.314]\u001b[0m \u001b[1;95mINFO \u001b[1;0m  \u001b[1mmodels.autoencoders.gumboltAtlasPRBMCNN           \u001b[0mEpoch 11: beta = 4.117677959008577\n",
      "\u001b[1m[16:14:25.900]\u001b[0m \u001b[1;95mINFO \u001b[1;0m  \u001b[1mmodels.autoencoders.gumboltAtlasPRBMCNN           \u001b[0mEpoch 12: beta = 4.091349452322772\n",
      "\u001b[1m[16:14:27.366]\u001b[0m \u001b[1;95mINFO \u001b[1;0m  \u001b[1mmodels.autoencoders.gumboltAtlasPRBMCNN           \u001b[0mEpoch 13: beta = 4.063185987128841\n",
      "\u001b[1m[16:14:29.075]\u001b[0m \u001b[1;95mINFO \u001b[1;0m  \u001b[1mmodels.autoencoders.gumboltAtlasPRBMCNN           \u001b[0mEpoch 14: beta = 4.0429395033226045\n",
      "\u001b[1m[16:14:30.570]\u001b[0m \u001b[1;95mINFO \u001b[1;0m  \u001b[1mmodels.autoencoders.gumboltAtlasPRBMCNN           \u001b[0mEpoch 15: beta = 4.024031884880565\n",
      "\u001b[1m[16:14:32.062]\u001b[0m \u001b[1;95mINFO \u001b[1;0m  \u001b[1mmodels.autoencoders.gumboltAtlasPRBMCNN           \u001b[0mEpoch 16: beta = 4.007120325871106\n",
      "\u001b[1m[16:14:33.532]\u001b[0m \u001b[1;95mINFO \u001b[1;0m  \u001b[1mmodels.autoencoders.gumboltAtlasPRBMCNN           \u001b[0mEpoch 17: beta = 3.9939800886004906\n",
      "\u001b[1m[16:14:34.990]\u001b[0m \u001b[1;95mINFO \u001b[1;0m  \u001b[1mmodels.autoencoders.gumboltAtlasPRBMCNN           \u001b[0mEpoch 18: beta = 3.981160318006784\n",
      "\u001b[1m[16:14:36.473]\u001b[0m \u001b[1;95mINFO \u001b[1;0m  \u001b[1mmodels.autoencoders.gumboltAtlasPRBMCNN           \u001b[0mEpoch 19: beta = 3.9630211907305206\n",
      "\u001b[1m[16:14:37.913]\u001b[0m \u001b[1;95mINFO \u001b[1;0m  \u001b[1mmodels.autoencoders.gumboltAtlasPRBMCNN           \u001b[0mEpoch 20: beta = 3.949475153732056\n"
     ]
    },
    {
     "name": "stdout",
     "output_type": "stream",
     "text": [
      "3\n"
     ]
    },
    {
     "name": "stderr",
     "output_type": "stream",
     "text": [
      "\u001b[1m[16:14:41.594]\u001b[0m \u001b[1;95mINFO \u001b[1;0m  \u001b[1mmodels.autoencoders.gumboltAtlasPRBMCNN           \u001b[0mEpoch 0: beta = 4.5\n",
      "\u001b[1m[16:14:43.233]\u001b[0m \u001b[1;95mINFO \u001b[1;0m  \u001b[1mmodels.autoencoders.gumboltAtlasPRBMCNN           \u001b[0mEpoch 1: beta = 4.447935086159317\n",
      "\u001b[1m[16:14:45.468]\u001b[0m \u001b[1;95mINFO \u001b[1;0m  \u001b[1mmodels.autoencoders.gumboltAtlasPRBMCNN           \u001b[0mEpoch 2: beta = 4.3878439135120715\n",
      "\u001b[1m[16:14:46.988]\u001b[0m \u001b[1;95mINFO \u001b[1;0m  \u001b[1mmodels.autoencoders.gumboltAtlasPRBMCNN           \u001b[0mEpoch 3: beta = 4.341712050361288\n",
      "\u001b[1m[16:14:48.487]\u001b[0m \u001b[1;95mINFO \u001b[1;0m  \u001b[1mmodels.autoencoders.gumboltAtlasPRBMCNN           \u001b[0mEpoch 4: beta = 4.298666080091311\n",
      "\u001b[1m[16:14:49.945]\u001b[0m \u001b[1;95mINFO \u001b[1;0m  \u001b[1mmodels.autoencoders.gumboltAtlasPRBMCNN           \u001b[0mEpoch 5: beta = 4.2624449361088494\n",
      "\u001b[1m[16:14:51.398]\u001b[0m \u001b[1;95mINFO \u001b[1;0m  \u001b[1mmodels.autoencoders.gumboltAtlasPRBMCNN           \u001b[0mEpoch 6: beta = 4.220401731223645\n",
      "\u001b[1m[16:14:52.844]\u001b[0m \u001b[1;95mINFO \u001b[1;0m  \u001b[1mmodels.autoencoders.gumboltAtlasPRBMCNN           \u001b[0mEpoch 7: beta = 4.187453290125624\n",
      "\u001b[1m[16:14:54.358]\u001b[0m \u001b[1;95mINFO \u001b[1;0m  \u001b[1mmodels.autoencoders.gumboltAtlasPRBMCNN           \u001b[0mEpoch 8: beta = 4.156566762364195\n",
      "\u001b[1m[16:14:55.840]\u001b[0m \u001b[1;95mINFO \u001b[1;0m  \u001b[1mmodels.autoencoders.gumboltAtlasPRBMCNN           \u001b[0mEpoch 9: beta = 4.127284004322807\n",
      "\u001b[1m[16:14:57.425]\u001b[0m \u001b[1;95mINFO \u001b[1;0m  \u001b[1mmodels.autoencoders.gumboltAtlasPRBMCNN           \u001b[0mEpoch 10: beta = 4.099171761636995\n",
      "\u001b[1m[16:14:58.913]\u001b[0m \u001b[1;95mINFO \u001b[1;0m  \u001b[1mmodels.autoencoders.gumboltAtlasPRBMCNN           \u001b[0mEpoch 11: beta = 4.071633136294175\n",
      "\u001b[1m[16:15:00.432]\u001b[0m \u001b[1;95mINFO \u001b[1;0m  \u001b[1mmodels.autoencoders.gumboltAtlasPRBMCNN           \u001b[0mEpoch 12: beta = 4.04751417921535\n",
      "\u001b[1m[16:15:01.938]\u001b[0m \u001b[1;95mINFO \u001b[1;0m  \u001b[1mmodels.autoencoders.gumboltAtlasPRBMCNN           \u001b[0mEpoch 13: beta = 4.029478581774763\n",
      "\u001b[1m[16:15:03.428]\u001b[0m \u001b[1;95mINFO \u001b[1;0m  \u001b[1mmodels.autoencoders.gumboltAtlasPRBMCNN           \u001b[0mEpoch 14: beta = 4.004552581854067\n",
      "\u001b[1m[16:15:04.874]\u001b[0m \u001b[1;95mINFO \u001b[1;0m  \u001b[1mmodels.autoencoders.gumboltAtlasPRBMCNN           \u001b[0mEpoch 15: beta = 3.983195443816838\n",
      "\u001b[1m[16:15:06.458]\u001b[0m \u001b[1;95mINFO \u001b[1;0m  \u001b[1mmodels.autoencoders.gumboltAtlasPRBMCNN           \u001b[0mEpoch 16: beta = 3.966373145784785\n",
      "\u001b[1m[16:15:08.026]\u001b[0m \u001b[1;95mINFO \u001b[1;0m  \u001b[1mmodels.autoencoders.gumboltAtlasPRBMCNN           \u001b[0mEpoch 17: beta = 3.9484022327383994\n",
      "\u001b[1m[16:15:09.474]\u001b[0m \u001b[1;95mINFO \u001b[1;0m  \u001b[1mmodels.autoencoders.gumboltAtlasPRBMCNN           \u001b[0mEpoch 18: beta = 3.9351305807197416\n",
      "\u001b[1m[16:15:10.923]\u001b[0m \u001b[1;95mINFO \u001b[1;0m  \u001b[1mmodels.autoencoders.gumboltAtlasPRBMCNN           \u001b[0mEpoch 19: beta = 3.9248017081435074\n",
      "\u001b[1m[16:15:12.401]\u001b[0m \u001b[1;95mINFO \u001b[1;0m  \u001b[1mmodels.autoencoders.gumboltAtlasPRBMCNN           \u001b[0mEpoch 20: beta = 3.904421672014085\n"
     ]
    },
    {
     "name": "stdout",
     "output_type": "stream",
     "text": [
      "4\n"
     ]
    },
    {
     "name": "stderr",
     "output_type": "stream",
     "text": [
      "\u001b[1m[16:15:16.522]\u001b[0m \u001b[1;95mINFO \u001b[1;0m  \u001b[1mmodels.autoencoders.gumboltAtlasPRBMCNN           \u001b[0mEpoch 0: beta = 4.5\n",
      "\u001b[1m[16:15:18.246]\u001b[0m \u001b[1;95mINFO \u001b[1;0m  \u001b[1mmodels.autoencoders.gumboltAtlasPRBMCNN           \u001b[0mEpoch 1: beta = 4.449609366109714\n",
      "\u001b[1m[16:15:19.723]\u001b[0m \u001b[1;95mINFO \u001b[1;0m  \u001b[1mmodels.autoencoders.gumboltAtlasPRBMCNN           \u001b[0mEpoch 2: beta = 4.398554456578977\n",
      "\u001b[1m[16:15:21.339]\u001b[0m \u001b[1;95mINFO \u001b[1;0m  \u001b[1mmodels.autoencoders.gumboltAtlasPRBMCNN           \u001b[0mEpoch 3: beta = 4.349108467364042\n",
      "\u001b[1m[16:15:23.100]\u001b[0m \u001b[1;95mINFO \u001b[1;0m  \u001b[1mmodels.autoencoders.gumboltAtlasPRBMCNN           \u001b[0mEpoch 4: beta = 4.3062557311715\n",
      "\u001b[1m[16:15:24.614]\u001b[0m \u001b[1;95mINFO \u001b[1;0m  \u001b[1mmodels.autoencoders.gumboltAtlasPRBMCNN           \u001b[0mEpoch 5: beta = 4.270117545911757\n",
      "\u001b[1m[16:15:26.101]\u001b[0m \u001b[1;95mINFO \u001b[1;0m  \u001b[1mmodels.autoencoders.gumboltAtlasPRBMCNN           \u001b[0mEpoch 6: beta = 4.228209866882754\n",
      "\u001b[1m[16:15:27.567]\u001b[0m \u001b[1;95mINFO \u001b[1;0m  \u001b[1mmodels.autoencoders.gumboltAtlasPRBMCNN           \u001b[0mEpoch 7: beta = 4.195458033130161\n",
      "\u001b[1m[16:15:29.166]\u001b[0m \u001b[1;95mINFO \u001b[1;0m  \u001b[1mmodels.autoencoders.gumboltAtlasPRBMCNN           \u001b[0mEpoch 8: beta = 4.166126159703702\n",
      "\u001b[1m[16:15:30.664]\u001b[0m \u001b[1;95mINFO \u001b[1;0m  \u001b[1mmodels.autoencoders.gumboltAtlasPRBMCNN           \u001b[0mEpoch 9: beta = 4.141695669260744\n",
      "\u001b[1m[16:15:32.288]\u001b[0m \u001b[1;95mINFO \u001b[1;0m  \u001b[1mmodels.autoencoders.gumboltAtlasPRBMCNN           \u001b[0mEpoch 10: beta = 4.118763335400443\n",
      "\u001b[1m[16:15:33.775]\u001b[0m \u001b[1;95mINFO \u001b[1;0m  \u001b[1mmodels.autoencoders.gumboltAtlasPRBMCNN           \u001b[0mEpoch 11: beta = 4.089823090849891\n",
      "\u001b[1m[16:15:35.294]\u001b[0m \u001b[1;95mINFO \u001b[1;0m  \u001b[1mmodels.autoencoders.gumboltAtlasPRBMCNN           \u001b[0mEpoch 12: beta = 4.064361723602884\n",
      "\u001b[1m[16:15:36.972]\u001b[0m \u001b[1;95mINFO \u001b[1;0m  \u001b[1mmodels.autoencoders.gumboltAtlasPRBMCNN           \u001b[0mEpoch 13: beta = 4.03867597773886\n",
      "\u001b[1m[16:15:38.611]\u001b[0m \u001b[1;95mINFO \u001b[1;0m  \u001b[1mmodels.autoencoders.gumboltAtlasPRBMCNN           \u001b[0mEpoch 14: beta = 4.0164952920947306\n",
      "\u001b[1m[16:15:40.112]\u001b[0m \u001b[1;95mINFO \u001b[1;0m  \u001b[1mmodels.autoencoders.gumboltAtlasPRBMCNN           \u001b[0mEpoch 15: beta = 3.999576268744995\n",
      "\u001b[1m[16:15:41.561]\u001b[0m \u001b[1;95mINFO \u001b[1;0m  \u001b[1mmodels.autoencoders.gumboltAtlasPRBMCNN           \u001b[0mEpoch 16: beta = 3.9835260937949935\n",
      "\u001b[1m[16:15:43.020]\u001b[0m \u001b[1;95mINFO \u001b[1;0m  \u001b[1mmodels.autoencoders.gumboltAtlasPRBMCNN           \u001b[0mEpoch 17: beta = 3.9696210468904645\n",
      "\u001b[1m[16:15:44.479]\u001b[0m \u001b[1;95mINFO \u001b[1;0m  \u001b[1mmodels.autoencoders.gumboltAtlasPRBMCNN           \u001b[0mEpoch 18: beta = 3.9520532783476217\n",
      "\u001b[1m[16:15:45.954]\u001b[0m \u001b[1;95mINFO \u001b[1;0m  \u001b[1mmodels.autoencoders.gumboltAtlasPRBMCNN           \u001b[0mEpoch 19: beta = 3.937145515836386\n",
      "\u001b[1m[16:15:47.397]\u001b[0m \u001b[1;95mINFO \u001b[1;0m  \u001b[1mmodels.autoencoders.gumboltAtlasPRBMCNN           \u001b[0mEpoch 20: beta = 3.9244061016797462\n"
     ]
    },
    {
     "name": "stdout",
     "output_type": "stream",
     "text": [
      "5\n"
     ]
    },
    {
     "name": "stderr",
     "output_type": "stream",
     "text": [
      "\u001b[1m[16:15:51.053]\u001b[0m \u001b[1;95mINFO \u001b[1;0m  \u001b[1mmodels.autoencoders.gumboltAtlasPRBMCNN           \u001b[0mEpoch 0: beta = 4.5\n",
      "\u001b[1m[16:15:52.722]\u001b[0m \u001b[1;95mINFO \u001b[1;0m  \u001b[1mmodels.autoencoders.gumboltAtlasPRBMCNN           \u001b[0mEpoch 1: beta = 4.442119202490877\n",
      "\u001b[1m[16:15:54.155]\u001b[0m \u001b[1;95mINFO \u001b[1;0m  \u001b[1mmodels.autoencoders.gumboltAtlasPRBMCNN           \u001b[0mEpoch 2: beta = 4.383502101621532\n",
      "\u001b[1m[16:15:55.676]\u001b[0m \u001b[1;95mINFO \u001b[1;0m  \u001b[1mmodels.autoencoders.gumboltAtlasPRBMCNN           \u001b[0mEpoch 3: beta = 4.332596512534114\n",
      "\u001b[1m[16:15:57.121]\u001b[0m \u001b[1;95mINFO \u001b[1;0m  \u001b[1mmodels.autoencoders.gumboltAtlasPRBMCNN           \u001b[0mEpoch 4: beta = 4.285987984426997\n",
      "\u001b[1m[16:15:58.690]\u001b[0m \u001b[1;95mINFO \u001b[1;0m  \u001b[1mmodels.autoencoders.gumboltAtlasPRBMCNN           \u001b[0mEpoch 5: beta = 4.242712557557687\n",
      "\u001b[1m[16:16:00.156]\u001b[0m \u001b[1;95mINFO \u001b[1;0m  \u001b[1mmodels.autoencoders.gumboltAtlasPRBMCNN           \u001b[0mEpoch 6: beta = 4.20248475540447\n",
      "\u001b[1m[16:16:01.941]\u001b[0m \u001b[1;95mINFO \u001b[1;0m  \u001b[1mmodels.autoencoders.gumboltAtlasPRBMCNN           \u001b[0mEpoch 7: beta = 4.1652752690059565\n",
      "\u001b[1m[16:16:03.410]\u001b[0m \u001b[1;95mINFO \u001b[1;0m  \u001b[1mmodels.autoencoders.gumboltAtlasPRBMCNN           \u001b[0mEpoch 8: beta = 4.131788781514964\n",
      "\u001b[1m[16:16:04.999]\u001b[0m \u001b[1;95mINFO \u001b[1;0m  \u001b[1mmodels.autoencoders.gumboltAtlasPRBMCNN           \u001b[0mEpoch 9: beta = 4.101944738194995\n",
      "\u001b[1m[16:16:06.480]\u001b[0m \u001b[1;95mINFO \u001b[1;0m  \u001b[1mmodels.autoencoders.gumboltAtlasPRBMCNN           \u001b[0mEpoch 10: beta = 4.069770387899113\n",
      "\u001b[1m[16:16:07.955]\u001b[0m \u001b[1;95mINFO \u001b[1;0m  \u001b[1mmodels.autoencoders.gumboltAtlasPRBMCNN           \u001b[0mEpoch 11: beta = 4.047886643622641\n",
      "\u001b[1m[16:16:09.410]\u001b[0m \u001b[1;95mINFO \u001b[1;0m  \u001b[1mmodels.autoencoders.gumboltAtlasPRBMCNN           \u001b[0mEpoch 12: beta = 4.023562475567738\n",
      "\u001b[1m[16:16:10.900]\u001b[0m \u001b[1;95mINFO \u001b[1;0m  \u001b[1mmodels.autoencoders.gumboltAtlasPRBMCNN           \u001b[0mEpoch 13: beta = 4.00574738142135\n",
      "\u001b[1m[16:16:14.252]\u001b[0m \u001b[1;95mINFO \u001b[1;0m  \u001b[1mmodels.autoencoders.gumboltAtlasPRBMCNN           \u001b[0mEpoch 14: beta = 3.9864017961595692\n",
      "\u001b[1m[16:16:16.065]\u001b[0m \u001b[1;95mINFO \u001b[1;0m  \u001b[1mmodels.autoencoders.gumboltAtlasPRBMCNN           \u001b[0mEpoch 15: beta = 3.9732128852962005\n",
      "\u001b[1m[16:16:17.518]\u001b[0m \u001b[1;95mINFO \u001b[1;0m  \u001b[1mmodels.autoencoders.gumboltAtlasPRBMCNN           \u001b[0mEpoch 16: beta = 3.962949506349371\n",
      "\u001b[1m[16:16:19.091]\u001b[0m \u001b[1;95mINFO \u001b[1;0m  \u001b[1mmodels.autoencoders.gumboltAtlasPRBMCNN           \u001b[0mEpoch 17: beta = 3.946676122186332\n",
      "\u001b[1m[16:16:20.573]\u001b[0m \u001b[1;95mINFO \u001b[1;0m  \u001b[1mmodels.autoencoders.gumboltAtlasPRBMCNN           \u001b[0mEpoch 18: beta = 3.9330855307708514\n",
      "\u001b[1m[16:16:22.177]\u001b[0m \u001b[1;95mINFO \u001b[1;0m  \u001b[1mmodels.autoencoders.gumboltAtlasPRBMCNN           \u001b[0mEpoch 19: beta = 3.9196118870934606\n",
      "\u001b[1m[16:16:23.655]\u001b[0m \u001b[1;95mINFO \u001b[1;0m  \u001b[1mmodels.autoencoders.gumboltAtlasPRBMCNN           \u001b[0mEpoch 20: beta = 3.9074764598178233\n"
     ]
    },
    {
     "name": "stdout",
     "output_type": "stream",
     "text": [
      "6\n"
     ]
    },
    {
     "name": "stderr",
     "output_type": "stream",
     "text": [
      "\u001b[1m[16:16:27.700]\u001b[0m \u001b[1;95mINFO \u001b[1;0m  \u001b[1mmodels.autoencoders.gumboltAtlasPRBMCNN           \u001b[0mEpoch 0: beta = 4.5\n",
      "\u001b[1m[16:16:29.271]\u001b[0m \u001b[1;95mINFO \u001b[1;0m  \u001b[1mmodels.autoencoders.gumboltAtlasPRBMCNN           \u001b[0mEpoch 1: beta = 4.451151100091557\n",
      "\u001b[1m[16:16:30.723]\u001b[0m \u001b[1;95mINFO \u001b[1;0m  \u001b[1mmodels.autoencoders.gumboltAtlasPRBMCNN           \u001b[0mEpoch 2: beta = 4.398258664754642\n",
      "\u001b[1m[16:16:32.290]\u001b[0m \u001b[1;95mINFO \u001b[1;0m  \u001b[1mmodels.autoencoders.gumboltAtlasPRBMCNN           \u001b[0mEpoch 3: beta = 4.35955951664183\n",
      "\u001b[1m[16:16:33.777]\u001b[0m \u001b[1;95mINFO \u001b[1;0m  \u001b[1mmodels.autoencoders.gumboltAtlasPRBMCNN           \u001b[0mEpoch 4: beta = 4.309409037067328\n",
      "\u001b[1m[16:16:35.278]\u001b[0m \u001b[1;95mINFO \u001b[1;0m  \u001b[1mmodels.autoencoders.gumboltAtlasPRBMCNN           \u001b[0mEpoch 5: beta = 4.267791959294367\n",
      "\u001b[1m[16:16:36.781]\u001b[0m \u001b[1;95mINFO \u001b[1;0m  \u001b[1mmodels.autoencoders.gumboltAtlasPRBMCNN           \u001b[0mEpoch 6: beta = 4.2334013964396755\n",
      "\u001b[1m[16:16:38.240]\u001b[0m \u001b[1;95mINFO \u001b[1;0m  \u001b[1mmodels.autoencoders.gumboltAtlasPRBMCNN           \u001b[0mEpoch 7: beta = 4.194637980565747\n",
      "\u001b[1m[16:16:39.685]\u001b[0m \u001b[1;95mINFO \u001b[1;0m  \u001b[1mmodels.autoencoders.gumboltAtlasPRBMCNN           \u001b[0mEpoch 8: beta = 4.167769616893178\n",
      "\u001b[1m[16:16:41.179]\u001b[0m \u001b[1;95mINFO \u001b[1;0m  \u001b[1mmodels.autoencoders.gumboltAtlasPRBMCNN           \u001b[0mEpoch 9: beta = 4.133530269187779\n",
      "\u001b[1m[16:16:43.319]\u001b[0m \u001b[1;95mINFO \u001b[1;0m  \u001b[1mmodels.autoencoders.gumboltAtlasPRBMCNN           \u001b[0mEpoch 10: beta = 4.1126937061760565\n",
      "\u001b[1m[16:16:44.758]\u001b[0m \u001b[1;95mINFO \u001b[1;0m  \u001b[1mmodels.autoencoders.gumboltAtlasPRBMCNN           \u001b[0mEpoch 11: beta = 4.092666519609772\n",
      "\u001b[1m[16:16:46.243]\u001b[0m \u001b[1;95mINFO \u001b[1;0m  \u001b[1mmodels.autoencoders.gumboltAtlasPRBMCNN           \u001b[0mEpoch 12: beta = 4.071863890401412\n",
      "\u001b[1m[16:16:47.699]\u001b[0m \u001b[1;95mINFO \u001b[1;0m  \u001b[1mmodels.autoencoders.gumboltAtlasPRBMCNN           \u001b[0mEpoch 13: beta = 4.053641419468682\n",
      "\u001b[1m[16:16:49.161]\u001b[0m \u001b[1;95mINFO \u001b[1;0m  \u001b[1mmodels.autoencoders.gumboltAtlasPRBMCNN           \u001b[0mEpoch 14: beta = 4.036695020624634\n",
      "\u001b[1m[16:16:50.623]\u001b[0m \u001b[1;95mINFO \u001b[1;0m  \u001b[1mmodels.autoencoders.gumboltAtlasPRBMCNN           \u001b[0mEpoch 15: beta = 4.0180765133652905\n",
      "\u001b[1m[16:16:52.082]\u001b[0m \u001b[1;95mINFO \u001b[1;0m  \u001b[1mmodels.autoencoders.gumboltAtlasPRBMCNN           \u001b[0mEpoch 16: beta = 3.9995858860882665\n",
      "\u001b[1m[16:16:53.566]\u001b[0m \u001b[1;95mINFO \u001b[1;0m  \u001b[1mmodels.autoencoders.gumboltAtlasPRBMCNN           \u001b[0mEpoch 17: beta = 3.990623142220918\n",
      "\u001b[1m[16:16:55.042]\u001b[0m \u001b[1;95mINFO \u001b[1;0m  \u001b[1mmodels.autoencoders.gumboltAtlasPRBMCNN           \u001b[0mEpoch 18: beta = 3.983400920577887\n",
      "\u001b[1m[16:16:56.516]\u001b[0m \u001b[1;95mINFO \u001b[1;0m  \u001b[1mmodels.autoencoders.gumboltAtlasPRBMCNN           \u001b[0mEpoch 19: beta = 3.967884371756962\n",
      "\u001b[1m[16:16:58.463]\u001b[0m \u001b[1;95mINFO \u001b[1;0m  \u001b[1mmodels.autoencoders.gumboltAtlasPRBMCNN           \u001b[0mEpoch 20: beta = 3.955615534025751\n"
     ]
    },
    {
     "name": "stdout",
     "output_type": "stream",
     "text": [
      "7\n"
     ]
    },
    {
     "name": "stderr",
     "output_type": "stream",
     "text": [
      "\u001b[1m[16:17:02.095]\u001b[0m \u001b[1;95mINFO \u001b[1;0m  \u001b[1mmodels.autoencoders.gumboltAtlasPRBMCNN           \u001b[0mEpoch 0: beta = 4.5\n",
      "\u001b[1m[16:17:03.574]\u001b[0m \u001b[1;95mINFO \u001b[1;0m  \u001b[1mmodels.autoencoders.gumboltAtlasPRBMCNN           \u001b[0mEpoch 1: beta = 4.449749797342765\n",
      "\u001b[1m[16:17:05.213]\u001b[0m \u001b[1;95mINFO \u001b[1;0m  \u001b[1mmodels.autoencoders.gumboltAtlasPRBMCNN           \u001b[0mEpoch 2: beta = 4.404161822148449\n",
      "\u001b[1m[16:17:06.727]\u001b[0m \u001b[1;95mINFO \u001b[1;0m  \u001b[1mmodels.autoencoders.gumboltAtlasPRBMCNN           \u001b[0mEpoch 3: beta = 4.356599068425231\n",
      "\u001b[1m[16:17:08.289]\u001b[0m \u001b[1;95mINFO \u001b[1;0m  \u001b[1mmodels.autoencoders.gumboltAtlasPRBMCNN           \u001b[0mEpoch 4: beta = 4.316902551819491\n",
      "\u001b[1m[16:17:09.876]\u001b[0m \u001b[1;95mINFO \u001b[1;0m  \u001b[1mmodels.autoencoders.gumboltAtlasPRBMCNN           \u001b[0mEpoch 5: beta = 4.278403953630107\n",
      "\u001b[1m[16:17:11.367]\u001b[0m \u001b[1;95mINFO \u001b[1;0m  \u001b[1mmodels.autoencoders.gumboltAtlasPRBMCNN           \u001b[0mEpoch 6: beta = 4.250041832324116\n",
      "\u001b[1m[16:17:12.977]\u001b[0m \u001b[1;95mINFO \u001b[1;0m  \u001b[1mmodels.autoencoders.gumboltAtlasPRBMCNN           \u001b[0mEpoch 7: beta = 4.212382077849984\n",
      "\u001b[1m[16:17:14.459]\u001b[0m \u001b[1;95mINFO \u001b[1;0m  \u001b[1mmodels.autoencoders.gumboltAtlasPRBMCNN           \u001b[0mEpoch 8: beta = 4.181017052884549\n",
      "\u001b[1m[16:17:16.108]\u001b[0m \u001b[1;95mINFO \u001b[1;0m  \u001b[1mmodels.autoencoders.gumboltAtlasPRBMCNN           \u001b[0mEpoch 9: beta = 4.149014320006859\n",
      "\u001b[1m[16:17:17.586]\u001b[0m \u001b[1;95mINFO \u001b[1;0m  \u001b[1mmodels.autoencoders.gumboltAtlasPRBMCNN           \u001b[0mEpoch 10: beta = 4.123738801599128\n",
      "\u001b[1m[16:17:19.030]\u001b[0m \u001b[1;95mINFO \u001b[1;0m  \u001b[1mmodels.autoencoders.gumboltAtlasPRBMCNN           \u001b[0mEpoch 11: beta = 4.104583614044488\n",
      "\u001b[1m[16:17:20.550]\u001b[0m \u001b[1;95mINFO \u001b[1;0m  \u001b[1mmodels.autoencoders.gumboltAtlasPRBMCNN           \u001b[0mEpoch 12: beta = 4.074710272967431\n",
      "\u001b[1m[16:17:22.029]\u001b[0m \u001b[1;95mINFO \u001b[1;0m  \u001b[1mmodels.autoencoders.gumboltAtlasPRBMCNN           \u001b[0mEpoch 13: beta = 4.049536384087325\n",
      "\u001b[1m[16:17:25.391]\u001b[0m \u001b[1;95mINFO \u001b[1;0m  \u001b[1mmodels.autoencoders.gumboltAtlasPRBMCNN           \u001b[0mEpoch 14: beta = 4.029250186165662\n",
      "\u001b[1m[16:17:26.865]\u001b[0m \u001b[1;95mINFO \u001b[1;0m  \u001b[1mmodels.autoencoders.gumboltAtlasPRBMCNN           \u001b[0mEpoch 15: beta = 4.017795162381895\n",
      "\u001b[1m[16:17:28.400]\u001b[0m \u001b[1;95mINFO \u001b[1;0m  \u001b[1mmodels.autoencoders.gumboltAtlasPRBMCNN           \u001b[0mEpoch 16: beta = 4.003408407175922\n",
      "\u001b[1m[16:17:30.141]\u001b[0m \u001b[1;95mINFO \u001b[1;0m  \u001b[1mmodels.autoencoders.gumboltAtlasPRBMCNN           \u001b[0mEpoch 17: beta = 3.9893787433551045\n",
      "\u001b[1m[16:17:31.745]\u001b[0m \u001b[1;95mINFO \u001b[1;0m  \u001b[1mmodels.autoencoders.gumboltAtlasPRBMCNN           \u001b[0mEpoch 18: beta = 3.9790119016199186\n",
      "\u001b[1m[16:17:43.481]\u001b[0m \u001b[1;95mINFO \u001b[1;0m  \u001b[1mmodels.autoencoders.gumboltAtlasPRBMCNN           \u001b[0mEpoch 19: beta = 3.965989389253441\n"
     ]
    },
    {
     "name": "stdout",
     "output_type": "stream",
     "text": [
      "8\n"
     ]
    },
    {
     "name": "stderr",
     "output_type": "stream",
     "text": [
      "\u001b[1m[16:17:47.214]\u001b[0m \u001b[1;95mINFO \u001b[1;0m  \u001b[1mmodels.autoencoders.gumboltAtlasPRBMCNN           \u001b[0mEpoch 0: beta = 4.5\n",
      "\u001b[1m[16:17:48.930]\u001b[0m \u001b[1;95mINFO \u001b[1;0m  \u001b[1mmodels.autoencoders.gumboltAtlasPRBMCNN           \u001b[0mEpoch 1: beta = 4.453260594096137\n",
      "\u001b[1m[16:17:51.919]\u001b[0m \u001b[1;95mINFO \u001b[1;0m  \u001b[1mmodels.autoencoders.gumboltAtlasPRBMCNN           \u001b[0mEpoch 2: beta = 4.396329028077367\n",
      "\u001b[1m[16:17:53.403]\u001b[0m \u001b[1;95mINFO \u001b[1;0m  \u001b[1mmodels.autoencoders.gumboltAtlasPRBMCNN           \u001b[0mEpoch 3: beta = 4.352255727870397\n",
      "\u001b[1m[16:17:54.907]\u001b[0m \u001b[1;95mINFO \u001b[1;0m  \u001b[1mmodels.autoencoders.gumboltAtlasPRBMCNN           \u001b[0mEpoch 4: beta = 4.311006793274246\n",
      "\u001b[1m[16:17:56.392]\u001b[0m \u001b[1;95mINFO \u001b[1;0m  \u001b[1mmodels.autoencoders.gumboltAtlasPRBMCNN           \u001b[0mEpoch 5: beta = 4.277881342413862\n",
      "\u001b[1m[16:17:57.881]\u001b[0m \u001b[1;95mINFO \u001b[1;0m  \u001b[1mmodels.autoencoders.gumboltAtlasPRBMCNN           \u001b[0mEpoch 6: beta = 4.245026649728454\n",
      "\u001b[1m[16:17:59.352]\u001b[0m \u001b[1;95mINFO \u001b[1;0m  \u001b[1mmodels.autoencoders.gumboltAtlasPRBMCNN           \u001b[0mEpoch 7: beta = 4.211092158025344\n",
      "\u001b[1m[16:18:00.850]\u001b[0m \u001b[1;95mINFO \u001b[1;0m  \u001b[1mmodels.autoencoders.gumboltAtlasPRBMCNN           \u001b[0mEpoch 8: beta = 4.172059415913962\n",
      "\u001b[1m[16:18:02.391]\u001b[0m \u001b[1;95mINFO \u001b[1;0m  \u001b[1mmodels.autoencoders.gumboltAtlasPRBMCNN           \u001b[0mEpoch 9: beta = 4.145649488805192\n",
      "\u001b[1m[16:18:03.896]\u001b[0m \u001b[1;95mINFO \u001b[1;0m  \u001b[1mmodels.autoencoders.gumboltAtlasPRBMCNN           \u001b[0mEpoch 10: beta = 4.116222432856646\n",
      "\u001b[1m[16:18:05.418]\u001b[0m \u001b[1;95mINFO \u001b[1;0m  \u001b[1mmodels.autoencoders.gumboltAtlasPRBMCNN           \u001b[0mEpoch 11: beta = 4.091871585866716\n",
      "\u001b[1m[16:18:06.924]\u001b[0m \u001b[1;95mINFO \u001b[1;0m  \u001b[1mmodels.autoencoders.gumboltAtlasPRBMCNN           \u001b[0mEpoch 12: beta = 4.063762759027092\n",
      "\u001b[1m[16:18:08.404]\u001b[0m \u001b[1;95mINFO \u001b[1;0m  \u001b[1mmodels.autoencoders.gumboltAtlasPRBMCNN           \u001b[0mEpoch 13: beta = 4.042860929395849\n",
      "\u001b[1m[16:18:09.955]\u001b[0m \u001b[1;95mINFO \u001b[1;0m  \u001b[1mmodels.autoencoders.gumboltAtlasPRBMCNN           \u001b[0mEpoch 14: beta = 4.016793054935305\n",
      "\u001b[1m[16:18:11.399]\u001b[0m \u001b[1;95mINFO \u001b[1;0m  \u001b[1mmodels.autoencoders.gumboltAtlasPRBMCNN           \u001b[0mEpoch 15: beta = 3.9988638067329925\n",
      "\u001b[1m[16:18:21.769]\u001b[0m \u001b[1;95mINFO \u001b[1;0m  \u001b[1mmodels.autoencoders.gumboltAtlasPRBMCNN           \u001b[0mEpoch 16: beta = 3.982576962082723\n",
      "\u001b[1m[16:18:23.274]\u001b[0m \u001b[1;95mINFO \u001b[1;0m  \u001b[1mmodels.autoencoders.gumboltAtlasPRBMCNN           \u001b[0mEpoch 17: beta = 3.974508378379501\n",
      "\u001b[1m[16:18:24.727]\u001b[0m \u001b[1;95mINFO \u001b[1;0m  \u001b[1mmodels.autoencoders.gumboltAtlasPRBMCNN           \u001b[0mEpoch 18: beta = 3.963008525538678\n",
      "\u001b[1m[16:18:26.198]\u001b[0m \u001b[1;95mINFO \u001b[1;0m  \u001b[1mmodels.autoencoders.gumboltAtlasPRBMCNN           \u001b[0mEpoch 19: beta = 3.9552645070899244\n",
      "\u001b[1m[16:18:27.767]\u001b[0m \u001b[1;95mINFO \u001b[1;0m  \u001b[1mmodels.autoencoders.gumboltAtlasPRBMCNN           \u001b[0mEpoch 20: beta = 3.9476759252088467\n"
     ]
    },
    {
     "name": "stdout",
     "output_type": "stream",
     "text": [
      "9\n"
     ]
    },
    {
     "name": "stderr",
     "output_type": "stream",
     "text": [
      "\u001b[1m[16:18:32.127]\u001b[0m \u001b[1;95mINFO \u001b[1;0m  \u001b[1mmodels.autoencoders.gumboltAtlasPRBMCNN           \u001b[0mEpoch 0: beta = 4.5\n",
      "\u001b[1m[16:18:33.585]\u001b[0m \u001b[1;95mINFO \u001b[1;0m  \u001b[1mmodels.autoencoders.gumboltAtlasPRBMCNN           \u001b[0mEpoch 1: beta = 4.452064199729822\n",
      "\u001b[1m[16:18:35.091]\u001b[0m \u001b[1;95mINFO \u001b[1;0m  \u001b[1mmodels.autoencoders.gumboltAtlasPRBMCNN           \u001b[0mEpoch 2: beta = 4.410404726447543\n",
      "\u001b[1m[16:18:36.572]\u001b[0m \u001b[1;95mINFO \u001b[1;0m  \u001b[1mmodels.autoencoders.gumboltAtlasPRBMCNN           \u001b[0mEpoch 3: beta = 4.371410687662662\n",
      "\u001b[1m[16:18:38.099]\u001b[0m \u001b[1;95mINFO \u001b[1;0m  \u001b[1mmodels.autoencoders.gumboltAtlasPRBMCNN           \u001b[0mEpoch 4: beta = 4.330191314804736\n",
      "\u001b[1m[16:18:39.584]\u001b[0m \u001b[1;95mINFO \u001b[1;0m  \u001b[1mmodels.autoencoders.gumboltAtlasPRBMCNN           \u001b[0mEpoch 5: beta = 4.285765732595589\n",
      "\u001b[1m[16:18:41.722]\u001b[0m \u001b[1;95mINFO \u001b[1;0m  \u001b[1mmodels.autoencoders.gumboltAtlasPRBMCNN           \u001b[0mEpoch 6: beta = 4.253157301324835\n",
      "\u001b[1m[16:18:43.203]\u001b[0m \u001b[1;95mINFO \u001b[1;0m  \u001b[1mmodels.autoencoders.gumboltAtlasPRBMCNN           \u001b[0mEpoch 7: beta = 4.221640932615367\n",
      "\u001b[1m[16:18:44.676]\u001b[0m \u001b[1;95mINFO \u001b[1;0m  \u001b[1mmodels.autoencoders.gumboltAtlasPRBMCNN           \u001b[0mEpoch 8: beta = 4.190454192718511\n",
      "\u001b[1m[16:18:46.179]\u001b[0m \u001b[1;95mINFO \u001b[1;0m  \u001b[1mmodels.autoencoders.gumboltAtlasPRBMCNN           \u001b[0mEpoch 9: beta = 4.1657865465223685\n",
      "\u001b[1m[16:18:48.030]\u001b[0m \u001b[1;95mINFO \u001b[1;0m  \u001b[1mmodels.autoencoders.gumboltAtlasPRBMCNN           \u001b[0mEpoch 10: beta = 4.140500798934508\n",
      "\u001b[1m[16:18:49.490]\u001b[0m \u001b[1;95mINFO \u001b[1;0m  \u001b[1mmodels.autoencoders.gumboltAtlasPRBMCNN           \u001b[0mEpoch 11: beta = 4.117597691660768\n",
      "\u001b[1m[16:18:50.953]\u001b[0m \u001b[1;95mINFO \u001b[1;0m  \u001b[1mmodels.autoencoders.gumboltAtlasPRBMCNN           \u001b[0mEpoch 12: beta = 4.095729572120568\n",
      "\u001b[1m[16:18:52.439]\u001b[0m \u001b[1;95mINFO \u001b[1;0m  \u001b[1mmodels.autoencoders.gumboltAtlasPRBMCNN           \u001b[0mEpoch 13: beta = 4.067893461879611\n",
      "\u001b[1m[16:18:53.941]\u001b[0m \u001b[1;95mINFO \u001b[1;0m  \u001b[1mmodels.autoencoders.gumboltAtlasPRBMCNN           \u001b[0mEpoch 14: beta = 4.046175329883885\n",
      "\u001b[1m[16:18:55.390]\u001b[0m \u001b[1;95mINFO \u001b[1;0m  \u001b[1mmodels.autoencoders.gumboltAtlasPRBMCNN           \u001b[0mEpoch 15: beta = 4.028822607134428\n",
      "\u001b[1m[16:18:56.851]\u001b[0m \u001b[1;95mINFO \u001b[1;0m  \u001b[1mmodels.autoencoders.gumboltAtlasPRBMCNN           \u001b[0mEpoch 16: beta = 4.009936022154217\n",
      "\u001b[1m[16:18:58.470]\u001b[0m \u001b[1;95mINFO \u001b[1;0m  \u001b[1mmodels.autoencoders.gumboltAtlasPRBMCNN           \u001b[0mEpoch 17: beta = 3.9946488053363165\n",
      "\u001b[1m[16:18:59.929]\u001b[0m \u001b[1;95mINFO \u001b[1;0m  \u001b[1mmodels.autoencoders.gumboltAtlasPRBMCNN           \u001b[0mEpoch 18: beta = 3.9750398814402694\n",
      "\u001b[1m[16:19:01.535]\u001b[0m \u001b[1;95mINFO \u001b[1;0m  \u001b[1mmodels.autoencoders.gumboltAtlasPRBMCNN           \u001b[0mEpoch 19: beta = 3.9649619097434288\n",
      "\u001b[1m[16:19:03.058]\u001b[0m \u001b[1;95mINFO \u001b[1;0m  \u001b[1mmodels.autoencoders.gumboltAtlasPRBMCNN           \u001b[0mEpoch 20: beta = 3.9569686568874385\n"
     ]
    },
    {
     "name": "stdout",
     "output_type": "stream",
     "text": [
      "10\n"
     ]
    },
    {
     "name": "stderr",
     "output_type": "stream",
     "text": [
      "\u001b[1m[16:19:06.876]\u001b[0m \u001b[1;95mINFO \u001b[1;0m  \u001b[1mmodels.autoencoders.gumboltAtlasPRBMCNN           \u001b[0mEpoch 0: beta = 4.5\n",
      "\u001b[1m[16:19:08.343]\u001b[0m \u001b[1;95mINFO \u001b[1;0m  \u001b[1mmodels.autoencoders.gumboltAtlasPRBMCNN           \u001b[0mEpoch 1: beta = 4.4450237733373426\n",
      "\u001b[1m[16:19:09.794]\u001b[0m \u001b[1;95mINFO \u001b[1;0m  \u001b[1mmodels.autoencoders.gumboltAtlasPRBMCNN           \u001b[0mEpoch 2: beta = 4.3922356578105\n",
      "\u001b[1m[16:19:11.281]\u001b[0m \u001b[1;95mINFO \u001b[1;0m  \u001b[1mmodels.autoencoders.gumboltAtlasPRBMCNN           \u001b[0mEpoch 3: beta = 4.344978281941368\n",
      "\u001b[1m[16:19:12.892]\u001b[0m \u001b[1;95mINFO \u001b[1;0m  \u001b[1mmodels.autoencoders.gumboltAtlasPRBMCNN           \u001b[0mEpoch 4: beta = 4.298418435151797\n",
      "\u001b[1m[16:19:14.395]\u001b[0m \u001b[1;95mINFO \u001b[1;0m  \u001b[1mmodels.autoencoders.gumboltAtlasPRBMCNN           \u001b[0mEpoch 5: beta = 4.266546294002782\n",
      "\u001b[1m[16:19:15.973]\u001b[0m \u001b[1;95mINFO \u001b[1;0m  \u001b[1mmodels.autoencoders.gumboltAtlasPRBMCNN           \u001b[0mEpoch 6: beta = 4.2321243152052315\n",
      "\u001b[1m[16:19:17.554]\u001b[0m \u001b[1;95mINFO \u001b[1;0m  \u001b[1mmodels.autoencoders.gumboltAtlasPRBMCNN           \u001b[0mEpoch 7: beta = 4.1949731434190065\n",
      "\u001b[1m[16:19:19.038]\u001b[0m \u001b[1;95mINFO \u001b[1;0m  \u001b[1mmodels.autoencoders.gumboltAtlasPRBMCNN           \u001b[0mEpoch 8: beta = 4.166600851402574\n",
      "\u001b[1m[16:19:20.538]\u001b[0m \u001b[1;95mINFO \u001b[1;0m  \u001b[1mmodels.autoencoders.gumboltAtlasPRBMCNN           \u001b[0mEpoch 9: beta = 4.13753891329703\n",
      "\u001b[1m[16:19:22.015]\u001b[0m \u001b[1;95mINFO \u001b[1;0m  \u001b[1mmodels.autoencoders.gumboltAtlasPRBMCNN           \u001b[0mEpoch 10: beta = 4.112682889636332\n",
      "\u001b[1m[16:19:23.503]\u001b[0m \u001b[1;95mINFO \u001b[1;0m  \u001b[1mmodels.autoencoders.gumboltAtlasPRBMCNN           \u001b[0mEpoch 11: beta = 4.086806922222341\n",
      "\u001b[1m[16:19:25.578]\u001b[0m \u001b[1;95mINFO \u001b[1;0m  \u001b[1mmodels.autoencoders.gumboltAtlasPRBMCNN           \u001b[0mEpoch 12: beta = 4.064542387062054\n",
      "\u001b[1m[16:19:27.067]\u001b[0m \u001b[1;95mINFO \u001b[1;0m  \u001b[1mmodels.autoencoders.gumboltAtlasPRBMCNN           \u001b[0mEpoch 13: beta = 4.0455820216831935\n",
      "\u001b[1m[16:19:28.725]\u001b[0m \u001b[1;95mINFO \u001b[1;0m  \u001b[1mmodels.autoencoders.gumboltAtlasPRBMCNN           \u001b[0mEpoch 14: beta = 4.033149924982939\n",
      "\u001b[1m[16:19:30.592]\u001b[0m \u001b[1;95mINFO \u001b[1;0m  \u001b[1mmodels.autoencoders.gumboltAtlasPRBMCNN           \u001b[0mEpoch 15: beta = 4.015090165588058\n",
      "\u001b[1m[16:19:32.055]\u001b[0m \u001b[1;95mINFO \u001b[1;0m  \u001b[1mmodels.autoencoders.gumboltAtlasPRBMCNN           \u001b[0mEpoch 16: beta = 3.9970282725494966\n",
      "\u001b[1m[16:19:33.595]\u001b[0m \u001b[1;95mINFO \u001b[1;0m  \u001b[1mmodels.autoencoders.gumboltAtlasPRBMCNN           \u001b[0mEpoch 17: beta = 3.986930697334604\n",
      "\u001b[1m[16:19:35.088]\u001b[0m \u001b[1;95mINFO \u001b[1;0m  \u001b[1mmodels.autoencoders.gumboltAtlasPRBMCNN           \u001b[0mEpoch 18: beta = 3.976235334775465\n",
      "\u001b[1m[16:19:36.719]\u001b[0m \u001b[1;95mINFO \u001b[1;0m  \u001b[1mmodels.autoencoders.gumboltAtlasPRBMCNN           \u001b[0mEpoch 19: beta = 3.964378603315454\n",
      "\u001b[1m[16:19:38.182]\u001b[0m \u001b[1;95mINFO \u001b[1;0m  \u001b[1mmodels.autoencoders.gumboltAtlasPRBMCNN           \u001b[0mEpoch 20: beta = 3.9493583727302823\n"
     ]
    },
    {
     "name": "stdout",
     "output_type": "stream",
     "text": [
      "11\n"
     ]
    },
    {
     "name": "stderr",
     "output_type": "stream",
     "text": [
      "\u001b[1m[16:19:41.962]\u001b[0m \u001b[1;95mINFO \u001b[1;0m  \u001b[1mmodels.autoencoders.gumboltAtlasPRBMCNN           \u001b[0mEpoch 0: beta = 4.5\n",
      "\u001b[1m[16:19:43.493]\u001b[0m \u001b[1;95mINFO \u001b[1;0m  \u001b[1mmodels.autoencoders.gumboltAtlasPRBMCNN           \u001b[0mEpoch 1: beta = 4.451960963473953\n",
      "\u001b[1m[16:19:45.038]\u001b[0m \u001b[1;95mINFO \u001b[1;0m  \u001b[1mmodels.autoencoders.gumboltAtlasPRBMCNN           \u001b[0mEpoch 2: beta = 4.387478845213874\n",
      "\u001b[1m[16:19:46.736]\u001b[0m \u001b[1;95mINFO \u001b[1;0m  \u001b[1mmodels.autoencoders.gumboltAtlasPRBMCNN           \u001b[0mEpoch 3: beta = 4.331759152761052\n",
      "\u001b[1m[16:19:48.186]\u001b[0m \u001b[1;95mINFO \u001b[1;0m  \u001b[1mmodels.autoencoders.gumboltAtlasPRBMCNN           \u001b[0mEpoch 4: beta = 4.293857492156945\n",
      "\u001b[1m[16:19:49.654]\u001b[0m \u001b[1;95mINFO \u001b[1;0m  \u001b[1mmodels.autoencoders.gumboltAtlasPRBMCNN           \u001b[0mEpoch 5: beta = 4.251385556635803\n",
      "\u001b[1m[16:19:51.126]\u001b[0m \u001b[1;95mINFO \u001b[1;0m  \u001b[1mmodels.autoencoders.gumboltAtlasPRBMCNN           \u001b[0mEpoch 6: beta = 4.220246205995401\n",
      "\u001b[1m[16:19:52.605]\u001b[0m \u001b[1;95mINFO \u001b[1;0m  \u001b[1mmodels.autoencoders.gumboltAtlasPRBMCNN           \u001b[0mEpoch 7: beta = 4.186355787253534\n",
      "\u001b[1m[16:19:54.043]\u001b[0m \u001b[1;95mINFO \u001b[1;0m  \u001b[1mmodels.autoencoders.gumboltAtlasPRBMCNN           \u001b[0mEpoch 8: beta = 4.157687274737574\n",
      "\u001b[1m[16:19:55.483]\u001b[0m \u001b[1;95mINFO \u001b[1;0m  \u001b[1mmodels.autoencoders.gumboltAtlasPRBMCNN           \u001b[0mEpoch 9: beta = 4.136259887552352\n",
      "\u001b[1m[16:19:56.938]\u001b[0m \u001b[1;95mINFO \u001b[1;0m  \u001b[1mmodels.autoencoders.gumboltAtlasPRBMCNN           \u001b[0mEpoch 10: beta = 4.113484338913196\n",
      "\u001b[1m[16:19:58.399]\u001b[0m \u001b[1;95mINFO \u001b[1;0m  \u001b[1mmodels.autoencoders.gumboltAtlasPRBMCNN           \u001b[0mEpoch 11: beta = 4.097691856816036\n",
      "\u001b[1m[16:19:59.872]\u001b[0m \u001b[1;95mINFO \u001b[1;0m  \u001b[1mmodels.autoencoders.gumboltAtlasPRBMCNN           \u001b[0mEpoch 12: beta = 4.077433059012258\n",
      "\u001b[1m[16:20:01.632]\u001b[0m \u001b[1;95mINFO \u001b[1;0m  \u001b[1mmodels.autoencoders.gumboltAtlasPRBMCNN           \u001b[0mEpoch 13: beta = 4.05189111104475\n",
      "\u001b[1m[16:20:03.117]\u001b[0m \u001b[1;95mINFO \u001b[1;0m  \u001b[1mmodels.autoencoders.gumboltAtlasPRBMCNN           \u001b[0mEpoch 14: beta = 3.941890272017498\n",
      "\u001b[1m[16:20:04.594]\u001b[0m \u001b[1;95mINFO \u001b[1;0m  \u001b[1mmodels.autoencoders.gumboltAtlasPRBMCNN           \u001b[0mEpoch 15: beta = 3.907484815693589\n",
      "\u001b[1m[16:20:06.074]\u001b[0m \u001b[1;95mINFO \u001b[1;0m  \u001b[1mmodels.autoencoders.gumboltAtlasPRBMCNN           \u001b[0mEpoch 16: beta = 3.8845116576444005\n",
      "\u001b[1m[16:20:07.558]\u001b[0m \u001b[1;95mINFO \u001b[1;0m  \u001b[1mmodels.autoencoders.gumboltAtlasPRBMCNN           \u001b[0mEpoch 17: beta = 3.867459929772199\n",
      "\u001b[1m[16:20:09.032]\u001b[0m \u001b[1;95mINFO \u001b[1;0m  \u001b[1mmodels.autoencoders.gumboltAtlasPRBMCNN           \u001b[0mEpoch 18: beta = 3.861057336189054\n",
      "\u001b[1m[16:20:12.326]\u001b[0m \u001b[1;95mINFO \u001b[1;0m  \u001b[1mmodels.autoencoders.gumboltAtlasPRBMCNN           \u001b[0mEpoch 19: beta = 3.8490637069645794\n",
      "\u001b[1m[16:20:14.623]\u001b[0m \u001b[1;95mINFO \u001b[1;0m  \u001b[1mmodels.autoencoders.gumboltAtlasPRBMCNN           \u001b[0mEpoch 20: beta = 3.843569697228294\n"
     ]
    },
    {
     "name": "stdout",
     "output_type": "stream",
     "text": [
      "12\n"
     ]
    },
    {
     "name": "stderr",
     "output_type": "stream",
     "text": [
      "\u001b[1m[16:20:18.255]\u001b[0m \u001b[1;95mINFO \u001b[1;0m  \u001b[1mmodels.autoencoders.gumboltAtlasPRBMCNN           \u001b[0mEpoch 0: beta = 4.5\n",
      "\u001b[1m[16:20:19.769]\u001b[0m \u001b[1;95mINFO \u001b[1;0m  \u001b[1mmodels.autoencoders.gumboltAtlasPRBMCNN           \u001b[0mEpoch 1: beta = 4.444621958594577\n",
      "\u001b[1m[16:20:21.252]\u001b[0m \u001b[1;95mINFO \u001b[1;0m  \u001b[1mmodels.autoencoders.gumboltAtlasPRBMCNN           \u001b[0mEpoch 2: beta = 4.403922383083956\n",
      "\u001b[1m[16:20:22.695]\u001b[0m \u001b[1;95mINFO \u001b[1;0m  \u001b[1mmodels.autoencoders.gumboltAtlasPRBMCNN           \u001b[0mEpoch 3: beta = 4.359409287408657\n",
      "\u001b[1m[16:20:24.163]\u001b[0m \u001b[1;95mINFO \u001b[1;0m  \u001b[1mmodels.autoencoders.gumboltAtlasPRBMCNN           \u001b[0mEpoch 4: beta = 4.318004837685167\n",
      "\u001b[1m[16:20:25.625]\u001b[0m \u001b[1;95mINFO \u001b[1;0m  \u001b[1mmodels.autoencoders.gumboltAtlasPRBMCNN           \u001b[0mEpoch 5: beta = 4.277334022103156\n",
      "\u001b[1m[16:20:27.154]\u001b[0m \u001b[1;95mINFO \u001b[1;0m  \u001b[1mmodels.autoencoders.gumboltAtlasPRBMCNN           \u001b[0mEpoch 6: beta = 4.249325024087447\n",
      "\u001b[1m[16:20:28.602]\u001b[0m \u001b[1;95mINFO \u001b[1;0m  \u001b[1mmodels.autoencoders.gumboltAtlasPRBMCNN           \u001b[0mEpoch 7: beta = 4.217610374026286\n",
      "\u001b[1m[16:20:30.073]\u001b[0m \u001b[1;95mINFO \u001b[1;0m  \u001b[1mmodels.autoencoders.gumboltAtlasPRBMCNN           \u001b[0mEpoch 8: beta = 4.187730530082201\n",
      "\u001b[1m[16:20:31.548]\u001b[0m \u001b[1;95mINFO \u001b[1;0m  \u001b[1mmodels.autoencoders.gumboltAtlasPRBMCNN           \u001b[0mEpoch 9: beta = 4.16526420627559\n",
      "\u001b[1m[16:20:33.031]\u001b[0m \u001b[1;95mINFO \u001b[1;0m  \u001b[1mmodels.autoencoders.gumboltAtlasPRBMCNN           \u001b[0mEpoch 10: beta = 4.140321701603586\n",
      "\u001b[1m[16:20:36.378]\u001b[0m \u001b[1;95mINFO \u001b[1;0m  \u001b[1mmodels.autoencoders.gumboltAtlasPRBMCNN           \u001b[0mEpoch 11: beta = 4.113087109435879\n",
      "\u001b[1m[16:20:37.863]\u001b[0m \u001b[1;95mINFO \u001b[1;0m  \u001b[1mmodels.autoencoders.gumboltAtlasPRBMCNN           \u001b[0mEpoch 12: beta = 4.094197369535157\n",
      "\u001b[1m[16:20:39.325]\u001b[0m \u001b[1;95mINFO \u001b[1;0m  \u001b[1mmodels.autoencoders.gumboltAtlasPRBMCNN           \u001b[0mEpoch 13: beta = 4.083140216527846\n",
      "\u001b[1m[16:20:40.782]\u001b[0m \u001b[1;95mINFO \u001b[1;0m  \u001b[1mmodels.autoencoders.gumboltAtlasPRBMCNN           \u001b[0mEpoch 14: beta = 4.064844966418918\n",
      "\u001b[1m[16:20:42.260]\u001b[0m \u001b[1;95mINFO \u001b[1;0m  \u001b[1mmodels.autoencoders.gumboltAtlasPRBMCNN           \u001b[0mEpoch 15: beta = 4.042049591199561\n",
      "\u001b[1m[16:20:43.822]\u001b[0m \u001b[1;95mINFO \u001b[1;0m  \u001b[1mmodels.autoencoders.gumboltAtlasPRBMCNN           \u001b[0mEpoch 16: beta = 4.027698049153144\n",
      "\u001b[1m[16:20:45.297]\u001b[0m \u001b[1;95mINFO \u001b[1;0m  \u001b[1mmodels.autoencoders.gumboltAtlasPRBMCNN           \u001b[0mEpoch 17: beta = 4.013080467273826\n",
      "\u001b[1m[16:20:46.835]\u001b[0m \u001b[1;95mINFO \u001b[1;0m  \u001b[1mmodels.autoencoders.gumboltAtlasPRBMCNN           \u001b[0mEpoch 18: beta = 3.9989415210408152\n",
      "\u001b[1m[16:20:48.277]\u001b[0m \u001b[1;95mINFO \u001b[1;0m  \u001b[1mmodels.autoencoders.gumboltAtlasPRBMCNN           \u001b[0mEpoch 19: beta = 3.9816811287747664\n",
      "\u001b[1m[16:20:49.885]\u001b[0m \u001b[1;95mINFO \u001b[1;0m  \u001b[1mmodels.autoencoders.gumboltAtlasPRBMCNN           \u001b[0mEpoch 20: beta = 3.974423897648776\n"
     ]
    },
    {
     "name": "stdout",
     "output_type": "stream",
     "text": [
      "13\n"
     ]
    },
    {
     "name": "stderr",
     "output_type": "stream",
     "text": [
      "\u001b[1m[16:20:53.515]\u001b[0m \u001b[1;95mINFO \u001b[1;0m  \u001b[1mmodels.autoencoders.gumboltAtlasPRBMCNN           \u001b[0mEpoch 0: beta = 4.5\n",
      "\u001b[1m[16:20:55.103]\u001b[0m \u001b[1;95mINFO \u001b[1;0m  \u001b[1mmodels.autoencoders.gumboltAtlasPRBMCNN           \u001b[0mEpoch 1: beta = 4.4522355545919305\n",
      "\u001b[1m[16:20:56.553]\u001b[0m \u001b[1;95mINFO \u001b[1;0m  \u001b[1mmodels.autoencoders.gumboltAtlasPRBMCNN           \u001b[0mEpoch 2: beta = 4.401449386504311\n",
      "\u001b[1m[16:20:58.025]\u001b[0m \u001b[1;95mINFO \u001b[1;0m  \u001b[1mmodels.autoencoders.gumboltAtlasPRBMCNN           \u001b[0mEpoch 3: beta = 4.356055320299617\n",
      "\u001b[1m[16:20:59.519]\u001b[0m \u001b[1;95mINFO \u001b[1;0m  \u001b[1mmodels.autoencoders.gumboltAtlasPRBMCNN           \u001b[0mEpoch 4: beta = 4.310517326159388\n",
      "\u001b[1m[16:21:01.113]\u001b[0m \u001b[1;95mINFO \u001b[1;0m  \u001b[1mmodels.autoencoders.gumboltAtlasPRBMCNN           \u001b[0mEpoch 5: beta = 4.268661012872239\n",
      "\u001b[1m[16:21:02.589]\u001b[0m \u001b[1;95mINFO \u001b[1;0m  \u001b[1mmodels.autoencoders.gumboltAtlasPRBMCNN           \u001b[0mEpoch 6: beta = 4.2307483206812035\n",
      "\u001b[1m[16:21:04.183]\u001b[0m \u001b[1;95mINFO \u001b[1;0m  \u001b[1mmodels.autoencoders.gumboltAtlasPRBMCNN           \u001b[0mEpoch 7: beta = 4.199998880924534\n",
      "\u001b[1m[16:21:05.657]\u001b[0m \u001b[1;95mINFO \u001b[1;0m  \u001b[1mmodels.autoencoders.gumboltAtlasPRBMCNN           \u001b[0mEpoch 8: beta = 4.175263085507175\n",
      "\u001b[1m[16:21:07.266]\u001b[0m \u001b[1;95mINFO \u001b[1;0m  \u001b[1mmodels.autoencoders.gumboltAtlasPRBMCNN           \u001b[0mEpoch 9: beta = 4.154556314687738\n",
      "\u001b[1m[16:21:08.710]\u001b[0m \u001b[1;95mINFO \u001b[1;0m  \u001b[1mmodels.autoencoders.gumboltAtlasPRBMCNN           \u001b[0mEpoch 10: beta = 4.12961580903855\n",
      "\u001b[1m[16:21:10.293]\u001b[0m \u001b[1;95mINFO \u001b[1;0m  \u001b[1mmodels.autoencoders.gumboltAtlasPRBMCNN           \u001b[0mEpoch 11: beta = 4.099565178530828\n",
      "\u001b[1m[16:21:11.749]\u001b[0m \u001b[1;95mINFO \u001b[1;0m  \u001b[1mmodels.autoencoders.gumboltAtlasPRBMCNN           \u001b[0mEpoch 12: beta = 4.078992332618326\n",
      "\u001b[1m[16:21:13.368]\u001b[0m \u001b[1;95mINFO \u001b[1;0m  \u001b[1mmodels.autoencoders.gumboltAtlasPRBMCNN           \u001b[0mEpoch 13: beta = 4.0547707233005115\n",
      "\u001b[1m[16:21:14.842]\u001b[0m \u001b[1;95mINFO \u001b[1;0m  \u001b[1mmodels.autoencoders.gumboltAtlasPRBMCNN           \u001b[0mEpoch 14: beta = 4.036666178046654\n",
      "\u001b[1m[16:21:16.411]\u001b[0m \u001b[1;95mINFO \u001b[1;0m  \u001b[1mmodels.autoencoders.gumboltAtlasPRBMCNN           \u001b[0mEpoch 15: beta = 4.021087047008187\n",
      "\u001b[1m[16:21:17.899]\u001b[0m \u001b[1;95mINFO \u001b[1;0m  \u001b[1mmodels.autoencoders.gumboltAtlasPRBMCNN           \u001b[0mEpoch 16: beta = 4.006385420998766\n",
      "\u001b[1m[16:21:19.426]\u001b[0m \u001b[1;95mINFO \u001b[1;0m  \u001b[1mmodels.autoencoders.gumboltAtlasPRBMCNN           \u001b[0mEpoch 17: beta = 3.9935477487610305\n",
      "\u001b[1m[16:21:20.969]\u001b[0m \u001b[1;95mINFO \u001b[1;0m  \u001b[1mmodels.autoencoders.gumboltAtlasPRBMCNN           \u001b[0mEpoch 18: beta = 3.9850453062330335\n",
      "\u001b[1m[16:21:22.483]\u001b[0m \u001b[1;95mINFO \u001b[1;0m  \u001b[1mmodels.autoencoders.gumboltAtlasPRBMCNN           \u001b[0mEpoch 19: beta = 3.974128387287506\n",
      "\u001b[1m[16:21:24.002]\u001b[0m \u001b[1;95mINFO \u001b[1;0m  \u001b[1mmodels.autoencoders.gumboltAtlasPRBMCNN           \u001b[0mEpoch 20: beta = 3.9606852028852293\n"
     ]
    },
    {
     "name": "stdout",
     "output_type": "stream",
     "text": [
      "14\n"
     ]
    },
    {
     "name": "stderr",
     "output_type": "stream",
     "text": [
      "\u001b[1m[16:21:27.822]\u001b[0m \u001b[1;95mINFO \u001b[1;0m  \u001b[1mmodels.autoencoders.gumboltAtlasPRBMCNN           \u001b[0mEpoch 0: beta = 4.5\n",
      "\u001b[1m[16:21:29.282]\u001b[0m \u001b[1;95mINFO \u001b[1;0m  \u001b[1mmodels.autoencoders.gumboltAtlasPRBMCNN           \u001b[0mEpoch 1: beta = 4.450563725626807\n",
      "\u001b[1m[16:21:30.775]\u001b[0m \u001b[1;95mINFO \u001b[1;0m  \u001b[1mmodels.autoencoders.gumboltAtlasPRBMCNN           \u001b[0mEpoch 2: beta = 4.401280144207975\n",
      "\u001b[1m[16:21:32.827]\u001b[0m \u001b[1;95mINFO \u001b[1;0m  \u001b[1mmodels.autoencoders.gumboltAtlasPRBMCNN           \u001b[0mEpoch 3: beta = 4.353691265466964\n",
      "\u001b[1m[16:21:34.325]\u001b[0m \u001b[1;95mINFO \u001b[1;0m  \u001b[1mmodels.autoencoders.gumboltAtlasPRBMCNN           \u001b[0mEpoch 4: beta = 4.314602700766534\n",
      "\u001b[1m[16:21:35.950]\u001b[0m \u001b[1;95mINFO \u001b[1;0m  \u001b[1mmodels.autoencoders.gumboltAtlasPRBMCNN           \u001b[0mEpoch 5: beta = 4.280249039927272\n",
      "\u001b[1m[16:21:37.633]\u001b[0m \u001b[1;95mINFO \u001b[1;0m  \u001b[1mmodels.autoencoders.gumboltAtlasPRBMCNN           \u001b[0mEpoch 6: beta = 4.2457023087164165\n",
      "\u001b[1m[16:21:39.095]\u001b[0m \u001b[1;95mINFO \u001b[1;0m  \u001b[1mmodels.autoencoders.gumboltAtlasPRBMCNN           \u001b[0mEpoch 7: beta = 4.223581340658304\n",
      "\u001b[1m[16:21:40.621]\u001b[0m \u001b[1;95mINFO \u001b[1;0m  \u001b[1mmodels.autoencoders.gumboltAtlasPRBMCNN           \u001b[0mEpoch 8: beta = 4.200377119439874\n",
      "\u001b[1m[16:21:42.341]\u001b[0m \u001b[1;95mINFO \u001b[1;0m  \u001b[1mmodels.autoencoders.gumboltAtlasPRBMCNN           \u001b[0mEpoch 9: beta = 4.176317112076453\n",
      "\u001b[1m[16:21:43.871]\u001b[0m \u001b[1;95mINFO \u001b[1;0m  \u001b[1mmodels.autoencoders.gumboltAtlasPRBMCNN           \u001b[0mEpoch 10: beta = 4.150295469377687\n",
      "\u001b[1m[16:21:45.331]\u001b[0m \u001b[1;95mINFO \u001b[1;0m  \u001b[1mmodels.autoencoders.gumboltAtlasPRBMCNN           \u001b[0mEpoch 11: beta = 4.128732700174499\n",
      "\u001b[1m[16:21:46.804]\u001b[0m \u001b[1;95mINFO \u001b[1;0m  \u001b[1mmodels.autoencoders.gumboltAtlasPRBMCNN           \u001b[0mEpoch 12: beta = 4.101532220607326\n",
      "\u001b[1m[16:21:48.306]\u001b[0m \u001b[1;95mINFO \u001b[1;0m  \u001b[1mmodels.autoencoders.gumboltAtlasPRBMCNN           \u001b[0mEpoch 13: beta = 4.080375730711973\n",
      "\u001b[1m[16:21:49.783]\u001b[0m \u001b[1;95mINFO \u001b[1;0m  \u001b[1mmodels.autoencoders.gumboltAtlasPRBMCNN           \u001b[0mEpoch 14: beta = 4.0626310034219335\n",
      "\u001b[1m[16:21:53.456]\u001b[0m \u001b[1;95mINFO \u001b[1;0m  \u001b[1mmodels.autoencoders.gumboltAtlasPRBMCNN           \u001b[0mEpoch 15: beta = 4.044633272003889\n",
      "\u001b[1m[16:21:55.358]\u001b[0m \u001b[1;95mINFO \u001b[1;0m  \u001b[1mmodels.autoencoders.gumboltAtlasPRBMCNN           \u001b[0mEpoch 16: beta = 4.024619500120177\n",
      "\u001b[1m[16:21:56.815]\u001b[0m \u001b[1;95mINFO \u001b[1;0m  \u001b[1mmodels.autoencoders.gumboltAtlasPRBMCNN           \u001b[0mEpoch 17: beta = 4.015355433278914\n",
      "\u001b[1m[16:21:58.333]\u001b[0m \u001b[1;95mINFO \u001b[1;0m  \u001b[1mmodels.autoencoders.gumboltAtlasPRBMCNN           \u001b[0mEpoch 18: beta = 4.005355844300417\n",
      "\u001b[1m[16:21:59.809]\u001b[0m \u001b[1;95mINFO \u001b[1;0m  \u001b[1mmodels.autoencoders.gumboltAtlasPRBMCNN           \u001b[0mEpoch 19: beta = 3.994196502733614\n",
      "\u001b[1m[16:22:01.642]\u001b[0m \u001b[1;95mINFO \u001b[1;0m  \u001b[1mmodels.autoencoders.gumboltAtlasPRBMCNN           \u001b[0mEpoch 20: beta = 3.9834436340585104\n"
     ]
    },
    {
     "name": "stdout",
     "output_type": "stream",
     "text": [
      "15\n"
     ]
    },
    {
     "name": "stderr",
     "output_type": "stream",
     "text": [
      "\u001b[1m[16:22:05.292]\u001b[0m \u001b[1;95mINFO \u001b[1;0m  \u001b[1mmodels.autoencoders.gumboltAtlasPRBMCNN           \u001b[0mEpoch 0: beta = 4.5\n",
      "\u001b[1m[16:22:06.974]\u001b[0m \u001b[1;95mINFO \u001b[1;0m  \u001b[1mmodels.autoencoders.gumboltAtlasPRBMCNN           \u001b[0mEpoch 1: beta = 4.4510127639152035\n",
      "\u001b[1m[16:22:08.608]\u001b[0m \u001b[1;95mINFO \u001b[1;0m  \u001b[1mmodels.autoencoders.gumboltAtlasPRBMCNN           \u001b[0mEpoch 2: beta = 4.399085438433745\n",
      "\u001b[1m[16:22:10.072]\u001b[0m \u001b[1;95mINFO \u001b[1;0m  \u001b[1mmodels.autoencoders.gumboltAtlasPRBMCNN           \u001b[0mEpoch 3: beta = 4.346722299332547\n",
      "\u001b[1m[16:22:11.552]\u001b[0m \u001b[1;95mINFO \u001b[1;0m  \u001b[1mmodels.autoencoders.gumboltAtlasPRBMCNN           \u001b[0mEpoch 4: beta = 4.3030506545335845\n",
      "\u001b[1m[16:22:13.022]\u001b[0m \u001b[1;95mINFO \u001b[1;0m  \u001b[1mmodels.autoencoders.gumboltAtlasPRBMCNN           \u001b[0mEpoch 5: beta = 4.267647937402898\n",
      "\u001b[1m[16:22:14.691]\u001b[0m \u001b[1;95mINFO \u001b[1;0m  \u001b[1mmodels.autoencoders.gumboltAtlasPRBMCNN           \u001b[0mEpoch 6: beta = 4.235724698754072\n",
      "\u001b[1m[16:22:16.182]\u001b[0m \u001b[1;95mINFO \u001b[1;0m  \u001b[1mmodels.autoencoders.gumboltAtlasPRBMCNN           \u001b[0mEpoch 7: beta = 4.20388159307643\n",
      "\u001b[1m[16:22:17.856]\u001b[0m \u001b[1;95mINFO \u001b[1;0m  \u001b[1mmodels.autoencoders.gumboltAtlasPRBMCNN           \u001b[0mEpoch 8: beta = 4.170938570413811\n",
      "\u001b[1m[16:22:19.339]\u001b[0m \u001b[1;95mINFO \u001b[1;0m  \u001b[1mmodels.autoencoders.gumboltAtlasPRBMCNN           \u001b[0mEpoch 9: beta = 4.145510683204078\n",
      "\u001b[1m[16:22:20.861]\u001b[0m \u001b[1;95mINFO \u001b[1;0m  \u001b[1mmodels.autoencoders.gumboltAtlasPRBMCNN           \u001b[0mEpoch 10: beta = 4.124212015111666\n",
      "\u001b[1m[16:22:22.544]\u001b[0m \u001b[1;95mINFO \u001b[1;0m  \u001b[1mmodels.autoencoders.gumboltAtlasPRBMCNN           \u001b[0mEpoch 11: beta = 4.101281505422331\n",
      "\u001b[1m[16:22:24.167]\u001b[0m \u001b[1;95mINFO \u001b[1;0m  \u001b[1mmodels.autoencoders.gumboltAtlasPRBMCNN           \u001b[0mEpoch 12: beta = 4.082160477004365\n",
      "\u001b[1m[16:22:25.651]\u001b[0m \u001b[1;95mINFO \u001b[1;0m  \u001b[1mmodels.autoencoders.gumboltAtlasPRBMCNN           \u001b[0mEpoch 13: beta = 4.05822721280664\n",
      "\u001b[1m[16:22:27.166]\u001b[0m \u001b[1;95mINFO \u001b[1;0m  \u001b[1mmodels.autoencoders.gumboltAtlasPRBMCNN           \u001b[0mEpoch 14: beta = 4.042632402252061\n",
      "\u001b[1m[16:22:28.637]\u001b[0m \u001b[1;95mINFO \u001b[1;0m  \u001b[1mmodels.autoencoders.gumboltAtlasPRBMCNN           \u001b[0mEpoch 15: beta = 4.026540133310648\n",
      "\u001b[1m[16:22:30.214]\u001b[0m \u001b[1;95mINFO \u001b[1;0m  \u001b[1mmodels.autoencoders.gumboltAtlasPRBMCNN           \u001b[0mEpoch 16: beta = 4.005691095864563\n",
      "\u001b[1m[16:22:41.319]\u001b[0m \u001b[1;95mINFO \u001b[1;0m  \u001b[1mmodels.autoencoders.gumboltAtlasPRBMCNN           \u001b[0mEpoch 17: beta = 3.9925765043884462\n"
     ]
    },
    {
     "name": "stdout",
     "output_type": "stream",
     "text": [
      "16\n"
     ]
    },
    {
     "name": "stderr",
     "output_type": "stream",
     "text": [
      "\u001b[1m[16:22:45.111]\u001b[0m \u001b[1;95mINFO \u001b[1;0m  \u001b[1mmodels.autoencoders.gumboltAtlasPRBMCNN           \u001b[0mEpoch 0: beta = 4.5\n",
      "\u001b[1m[16:22:46.633]\u001b[0m \u001b[1;95mINFO \u001b[1;0m  \u001b[1mmodels.autoencoders.gumboltAtlasPRBMCNN           \u001b[0mEpoch 1: beta = 4.463339449325212\n",
      "\u001b[1m[16:22:48.137]\u001b[0m \u001b[1;95mINFO \u001b[1;0m  \u001b[1mmodels.autoencoders.gumboltAtlasPRBMCNN           \u001b[0mEpoch 2: beta = 4.418524663799584\n",
      "\u001b[1m[16:22:49.652]\u001b[0m \u001b[1;95mINFO \u001b[1;0m  \u001b[1mmodels.autoencoders.gumboltAtlasPRBMCNN           \u001b[0mEpoch 3: beta = 4.3835194828953705\n",
      "\u001b[1m[16:22:51.175]\u001b[0m \u001b[1;95mINFO \u001b[1;0m  \u001b[1mmodels.autoencoders.gumboltAtlasPRBMCNN           \u001b[0mEpoch 4: beta = 4.337385389511818\n",
      "\u001b[1m[16:22:52.662]\u001b[0m \u001b[1;95mINFO \u001b[1;0m  \u001b[1mmodels.autoencoders.gumboltAtlasPRBMCNN           \u001b[0mEpoch 5: beta = 4.299563944675438\n",
      "\u001b[1m[16:22:54.196]\u001b[0m \u001b[1;95mINFO \u001b[1;0m  \u001b[1mmodels.autoencoders.gumboltAtlasPRBMCNN           \u001b[0mEpoch 6: beta = 4.2567791651568685\n",
      "\u001b[1m[16:22:55.672]\u001b[0m \u001b[1;95mINFO \u001b[1;0m  \u001b[1mmodels.autoencoders.gumboltAtlasPRBMCNN           \u001b[0mEpoch 7: beta = 4.224940255651441\n",
      "\u001b[1m[16:22:57.161]\u001b[0m \u001b[1;95mINFO \u001b[1;0m  \u001b[1mmodels.autoencoders.gumboltAtlasPRBMCNN           \u001b[0mEpoch 8: beta = 4.196728088648923\n",
      "\u001b[1m[16:22:58.604]\u001b[0m \u001b[1;95mINFO \u001b[1;0m  \u001b[1mmodels.autoencoders.gumboltAtlasPRBMCNN           \u001b[0mEpoch 9: beta = 4.170827254251405\n",
      "\u001b[1m[16:23:00.082]\u001b[0m \u001b[1;95mINFO \u001b[1;0m  \u001b[1mmodels.autoencoders.gumboltAtlasPRBMCNN           \u001b[0mEpoch 10: beta = 4.140439153125069\n",
      "\u001b[1m[16:23:01.584]\u001b[0m \u001b[1;95mINFO \u001b[1;0m  \u001b[1mmodels.autoencoders.gumboltAtlasPRBMCNN           \u001b[0mEpoch 11: beta = 4.11090376277568\n",
      "\u001b[1m[16:23:03.981]\u001b[0m \u001b[1;95mINFO \u001b[1;0m  \u001b[1mmodels.autoencoders.gumboltAtlasPRBMCNN           \u001b[0mEpoch 12: beta = 4.080925938033522\n",
      "\u001b[1m[16:23:05.488]\u001b[0m \u001b[1;95mINFO \u001b[1;0m  \u001b[1mmodels.autoencoders.gumboltAtlasPRBMCNN           \u001b[0mEpoch 13: beta = 4.058624644036433\n",
      "\u001b[1m[16:23:06.937]\u001b[0m \u001b[1;95mINFO \u001b[1;0m  \u001b[1mmodels.autoencoders.gumboltAtlasPRBMCNN           \u001b[0mEpoch 14: beta = 4.038311234665033\n",
      "\u001b[1m[16:23:08.464]\u001b[0m \u001b[1;95mINFO \u001b[1;0m  \u001b[1mmodels.autoencoders.gumboltAtlasPRBMCNN           \u001b[0mEpoch 15: beta = 4.025368380971278\n",
      "\u001b[1m[16:23:09.941]\u001b[0m \u001b[1;95mINFO \u001b[1;0m  \u001b[1mmodels.autoencoders.gumboltAtlasPRBMCNN           \u001b[0mEpoch 16: beta = 4.009331437937099\n",
      "\u001b[1m[16:23:11.417]\u001b[0m \u001b[1;95mINFO \u001b[1;0m  \u001b[1mmodels.autoencoders.gumboltAtlasPRBMCNN           \u001b[0mEpoch 17: beta = 3.993566152682771\n",
      "\u001b[1m[16:23:12.929]\u001b[0m \u001b[1;95mINFO \u001b[1;0m  \u001b[1mmodels.autoencoders.gumboltAtlasPRBMCNN           \u001b[0mEpoch 18: beta = 3.9812530535645494\n",
      "\u001b[1m[16:23:14.837]\u001b[0m \u001b[1;95mINFO \u001b[1;0m  \u001b[1mmodels.autoencoders.gumboltAtlasPRBMCNN           \u001b[0mEpoch 19: beta = 3.9669526542650697\n",
      "\u001b[1m[16:23:16.307]\u001b[0m \u001b[1;95mINFO \u001b[1;0m  \u001b[1mmodels.autoencoders.gumboltAtlasPRBMCNN           \u001b[0mEpoch 20: beta = 3.955167012242222\n"
     ]
    },
    {
     "name": "stdout",
     "output_type": "stream",
     "text": [
      "17\n"
     ]
    },
    {
     "name": "stderr",
     "output_type": "stream",
     "text": [
      "\u001b[1m[16:23:20.528]\u001b[0m \u001b[1;95mINFO \u001b[1;0m  \u001b[1mmodels.autoencoders.gumboltAtlasPRBMCNN           \u001b[0mEpoch 0: beta = 4.5\n",
      "\u001b[1m[16:23:22.037]\u001b[0m \u001b[1;95mINFO \u001b[1;0m  \u001b[1mmodels.autoencoders.gumboltAtlasPRBMCNN           \u001b[0mEpoch 1: beta = 4.453113692836371\n",
      "\u001b[1m[16:23:23.551]\u001b[0m \u001b[1;95mINFO \u001b[1;0m  \u001b[1mmodels.autoencoders.gumboltAtlasPRBMCNN           \u001b[0mEpoch 2: beta = 4.403610254056239\n",
      "\u001b[1m[16:23:25.109]\u001b[0m \u001b[1;95mINFO \u001b[1;0m  \u001b[1mmodels.autoencoders.gumboltAtlasPRBMCNN           \u001b[0mEpoch 3: beta = 4.361156411444648\n",
      "\u001b[1m[16:23:26.635]\u001b[0m \u001b[1;95mINFO \u001b[1;0m  \u001b[1mmodels.autoencoders.gumboltAtlasPRBMCNN           \u001b[0mEpoch 4: beta = 4.313386726721526\n",
      "\u001b[1m[16:23:28.142]\u001b[0m \u001b[1;95mINFO \u001b[1;0m  \u001b[1mmodels.autoencoders.gumboltAtlasPRBMCNN           \u001b[0mEpoch 5: beta = 4.2770589166544095\n",
      "\u001b[1m[16:23:29.591]\u001b[0m \u001b[1;95mINFO \u001b[1;0m  \u001b[1mmodels.autoencoders.gumboltAtlasPRBMCNN           \u001b[0mEpoch 6: beta = 4.243424860402928\n",
      "\u001b[1m[16:23:31.079]\u001b[0m \u001b[1;95mINFO \u001b[1;0m  \u001b[1mmodels.autoencoders.gumboltAtlasPRBMCNN           \u001b[0mEpoch 7: beta = 4.215565422914851\n",
      "\u001b[1m[16:23:32.577]\u001b[0m \u001b[1;95mINFO \u001b[1;0m  \u001b[1mmodels.autoencoders.gumboltAtlasPRBMCNN           \u001b[0mEpoch 8: beta = 4.183626024646505\n",
      "\u001b[1m[16:23:34.084]\u001b[0m \u001b[1;95mINFO \u001b[1;0m  \u001b[1mmodels.autoencoders.gumboltAtlasPRBMCNN           \u001b[0mEpoch 9: beta = 4.154635848139448\n",
      "\u001b[1m[16:23:35.586]\u001b[0m \u001b[1;95mINFO \u001b[1;0m  \u001b[1mmodels.autoencoders.gumboltAtlasPRBMCNN           \u001b[0mEpoch 10: beta = 4.12714151207577\n",
      "\u001b[1m[16:23:37.056]\u001b[0m \u001b[1;95mINFO \u001b[1;0m  \u001b[1mmodels.autoencoders.gumboltAtlasPRBMCNN           \u001b[0mEpoch 11: beta = 4.10820977976121\n",
      "\u001b[1m[16:23:38.533]\u001b[0m \u001b[1;95mINFO \u001b[1;0m  \u001b[1mmodels.autoencoders.gumboltAtlasPRBMCNN           \u001b[0mEpoch 12: beta = 4.090089205447951\n",
      "\u001b[1m[16:23:40.003]\u001b[0m \u001b[1;95mINFO \u001b[1;0m  \u001b[1mmodels.autoencoders.gumboltAtlasPRBMCNN           \u001b[0mEpoch 13: beta = 4.071601490380055\n",
      "\u001b[1m[16:23:41.479]\u001b[0m \u001b[1;95mINFO \u001b[1;0m  \u001b[1mmodels.autoencoders.gumboltAtlasPRBMCNN           \u001b[0mEpoch 14: beta = 4.051952373949321\n",
      "\u001b[1m[16:23:43.039]\u001b[0m \u001b[1;95mINFO \u001b[1;0m  \u001b[1mmodels.autoencoders.gumboltAtlasPRBMCNN           \u001b[0mEpoch 15: beta = 4.035156529629195\n",
      "\u001b[1m[16:23:44.538]\u001b[0m \u001b[1;95mINFO \u001b[1;0m  \u001b[1mmodels.autoencoders.gumboltAtlasPRBMCNN           \u001b[0mEpoch 16: beta = 4.022926364565323\n",
      "\u001b[1m[16:23:46.600]\u001b[0m \u001b[1;95mINFO \u001b[1;0m  \u001b[1mmodels.autoencoders.gumboltAtlasPRBMCNN           \u001b[0mEpoch 17: beta = 4.009844326673345\n",
      "\u001b[1m[16:23:48.111]\u001b[0m \u001b[1;95mINFO \u001b[1;0m  \u001b[1mmodels.autoencoders.gumboltAtlasPRBMCNN           \u001b[0mEpoch 18: beta = 3.9971481689075508\n",
      "\u001b[1m[16:23:49.610]\u001b[0m \u001b[1;95mINFO \u001b[1;0m  \u001b[1mmodels.autoencoders.gumboltAtlasPRBMCNN           \u001b[0mEpoch 19: beta = 3.990713626813048\n",
      "\u001b[1m[16:23:51.280]\u001b[0m \u001b[1;95mINFO \u001b[1;0m  \u001b[1mmodels.autoencoders.gumboltAtlasPRBMCNN           \u001b[0mEpoch 20: beta = 3.982078528742953\n"
     ]
    },
    {
     "name": "stdout",
     "output_type": "stream",
     "text": [
      "18\n"
     ]
    },
    {
     "name": "stderr",
     "output_type": "stream",
     "text": [
      "\u001b[1m[16:23:54.965]\u001b[0m \u001b[1;95mINFO \u001b[1;0m  \u001b[1mmodels.autoencoders.gumboltAtlasPRBMCNN           \u001b[0mEpoch 0: beta = 4.5\n",
      "\u001b[1m[16:23:56.409]\u001b[0m \u001b[1;95mINFO \u001b[1;0m  \u001b[1mmodels.autoencoders.gumboltAtlasPRBMCNN           \u001b[0mEpoch 1: beta = 4.439792747348719\n",
      "\u001b[1m[16:23:57.923]\u001b[0m \u001b[1;95mINFO \u001b[1;0m  \u001b[1mmodels.autoencoders.gumboltAtlasPRBMCNN           \u001b[0mEpoch 2: beta = 4.388326843358884\n",
      "\u001b[1m[16:23:59.423]\u001b[0m \u001b[1;95mINFO \u001b[1;0m  \u001b[1mmodels.autoencoders.gumboltAtlasPRBMCNN           \u001b[0mEpoch 3: beta = 4.340556324820871\n",
      "\u001b[1m[16:24:00.893]\u001b[0m \u001b[1;95mINFO \u001b[1;0m  \u001b[1mmodels.autoencoders.gumboltAtlasPRBMCNN           \u001b[0mEpoch 4: beta = 4.291521180931054\n",
      "\u001b[1m[16:24:02.966]\u001b[0m \u001b[1;95mINFO \u001b[1;0m  \u001b[1mmodels.autoencoders.gumboltAtlasPRBMCNN           \u001b[0mEpoch 5: beta = 4.254574381941493\n",
      "\u001b[1m[16:24:05.222]\u001b[0m \u001b[1;95mINFO \u001b[1;0m  \u001b[1mmodels.autoencoders.gumboltAtlasPRBMCNN           \u001b[0mEpoch 6: beta = 4.176986984242737\n",
      "\u001b[1m[16:24:07.355]\u001b[0m \u001b[1;95mINFO \u001b[1;0m  \u001b[1mmodels.autoencoders.gumboltAtlasPRBMCNN           \u001b[0mEpoch 7: beta = 4.079903854495447\n",
      "\u001b[1m[16:24:09.342]\u001b[0m \u001b[1;95mINFO \u001b[1;0m  \u001b[1mmodels.autoencoders.gumboltAtlasPRBMCNN           \u001b[0mEpoch 8: beta = 3.999001083330216\n",
      "\u001b[1m[16:24:11.377]\u001b[0m \u001b[1;95mINFO \u001b[1;0m  \u001b[1mmodels.autoencoders.gumboltAtlasPRBMCNN           \u001b[0mEpoch 9: beta = 3.9207780987020167\n",
      "\u001b[1m[16:24:13.647]\u001b[0m \u001b[1;95mINFO \u001b[1;0m  \u001b[1mmodels.autoencoders.gumboltAtlasPRBMCNN           \u001b[0mEpoch 10: beta = 3.8494355464430607\n",
      "\u001b[1m[16:24:15.145]\u001b[0m \u001b[1;95mINFO \u001b[1;0m  \u001b[1mmodels.autoencoders.gumboltAtlasPRBMCNN           \u001b[0mEpoch 11: beta = 3.7859320030235706\n",
      "\u001b[1m[16:24:19.478]\u001b[0m \u001b[1;95mINFO \u001b[1;0m  \u001b[1mmodels.autoencoders.gumboltAtlasPRBMCNN           \u001b[0mEpoch 12: beta = 3.73050116475333\n",
      "\u001b[1m[16:24:21.008]\u001b[0m \u001b[1;95mINFO \u001b[1;0m  \u001b[1mmodels.autoencoders.gumboltAtlasPRBMCNN           \u001b[0mEpoch 13: beta = 3.681035760814802\n",
      "\u001b[1m[16:24:22.521]\u001b[0m \u001b[1;95mINFO \u001b[1;0m  \u001b[1mmodels.autoencoders.gumboltAtlasPRBMCNN           \u001b[0mEpoch 14: beta = 3.652201275071085\n",
      "\u001b[1m[16:24:24.167]\u001b[0m \u001b[1;95mINFO \u001b[1;0m  \u001b[1mmodels.autoencoders.gumboltAtlasPRBMCNN           \u001b[0mEpoch 15: beta = 3.636127655061688\n",
      "\u001b[1m[16:24:25.651]\u001b[0m \u001b[1;95mINFO \u001b[1;0m  \u001b[1mmodels.autoencoders.gumboltAtlasPRBMCNN           \u001b[0mEpoch 16: beta = 3.6288942721230097\n",
      "\u001b[1m[16:24:27.158]\u001b[0m \u001b[1;95mINFO \u001b[1;0m  \u001b[1mmodels.autoencoders.gumboltAtlasPRBMCNN           \u001b[0mEpoch 17: beta = 3.6194719607295185\n",
      "\u001b[1m[16:24:28.622]\u001b[0m \u001b[1;95mINFO \u001b[1;0m  \u001b[1mmodels.autoencoders.gumboltAtlasPRBMCNN           \u001b[0mEpoch 18: beta = 3.6141513615997267\n"
     ]
    },
    {
     "name": "stdout",
     "output_type": "stream",
     "text": [
      "19\n"
     ]
    },
    {
     "name": "stderr",
     "output_type": "stream",
     "text": [
      "\u001b[1m[16:24:32.384]\u001b[0m \u001b[1;95mINFO \u001b[1;0m  \u001b[1mmodels.autoencoders.gumboltAtlasPRBMCNN           \u001b[0mEpoch 0: beta = 4.5\n",
      "\u001b[1m[16:24:33.873]\u001b[0m \u001b[1;95mINFO \u001b[1;0m  \u001b[1mmodels.autoencoders.gumboltAtlasPRBMCNN           \u001b[0mEpoch 1: beta = 4.437728385764564\n",
      "\u001b[1m[16:24:35.341]\u001b[0m \u001b[1;95mINFO \u001b[1;0m  \u001b[1mmodels.autoencoders.gumboltAtlasPRBMCNN           \u001b[0mEpoch 2: beta = 4.383018137978327\n",
      "\u001b[1m[16:24:36.848]\u001b[0m \u001b[1;95mINFO \u001b[1;0m  \u001b[1mmodels.autoencoders.gumboltAtlasPRBMCNN           \u001b[0mEpoch 3: beta = 4.336233105850166\n",
      "\u001b[1m[16:24:38.442]\u001b[0m \u001b[1;95mINFO \u001b[1;0m  \u001b[1mmodels.autoencoders.gumboltAtlasPRBMCNN           \u001b[0mEpoch 4: beta = 4.288839976821628\n",
      "\u001b[1m[16:24:40.012]\u001b[0m \u001b[1;95mINFO \u001b[1;0m  \u001b[1mmodels.autoencoders.gumboltAtlasPRBMCNN           \u001b[0mEpoch 5: beta = 4.24899824673751\n",
      "\u001b[1m[16:24:45.917]\u001b[0m \u001b[1;95mINFO \u001b[1;0m  \u001b[1mmodels.autoencoders.gumboltAtlasPRBMCNN           \u001b[0mEpoch 6: beta = 4.215389488633292\n",
      "\u001b[1m[16:24:52.502]\u001b[0m \u001b[1;95mINFO \u001b[1;0m  \u001b[1mmodels.autoencoders.gumboltAtlasPRBMCNN           \u001b[0mEpoch 7: beta = 4.170622062283788\n",
      "\u001b[1m[16:24:54.272]\u001b[0m \u001b[1;95mINFO \u001b[1;0m  \u001b[1mmodels.autoencoders.gumboltAtlasPRBMCNN           \u001b[0mEpoch 8: beta = 4.152301519884482\n",
      "\u001b[1m[16:24:55.742]\u001b[0m \u001b[1;95mINFO \u001b[1;0m  \u001b[1mmodels.autoencoders.gumboltAtlasPRBMCNN           \u001b[0mEpoch 9: beta = 4.138051230537237\n",
      "\u001b[1m[16:24:57.203]\u001b[0m \u001b[1;95mINFO \u001b[1;0m  \u001b[1mmodels.autoencoders.gumboltAtlasPRBMCNN           \u001b[0mEpoch 10: beta = 4.122733065957901\n",
      "\u001b[1m[16:24:58.804]\u001b[0m \u001b[1;95mINFO \u001b[1;0m  \u001b[1mmodels.autoencoders.gumboltAtlasPRBMCNN           \u001b[0mEpoch 11: beta = 4.104740453219162\n",
      "\u001b[1m[16:25:00.369]\u001b[0m \u001b[1;95mINFO \u001b[1;0m  \u001b[1mmodels.autoencoders.gumboltAtlasPRBMCNN           \u001b[0mEpoch 12: beta = 4.085024047161253\n",
      "\u001b[1m[16:25:01.841]\u001b[0m \u001b[1;95mINFO \u001b[1;0m  \u001b[1mmodels.autoencoders.gumboltAtlasPRBMCNN           \u001b[0mEpoch 13: beta = 4.060294443740399\n",
      "\u001b[1m[16:25:03.408]\u001b[0m \u001b[1;95mINFO \u001b[1;0m  \u001b[1mmodels.autoencoders.gumboltAtlasPRBMCNN           \u001b[0mEpoch 14: beta = 4.039633214155613\n",
      "\u001b[1m[16:25:05.197]\u001b[0m \u001b[1;95mINFO \u001b[1;0m  \u001b[1mmodels.autoencoders.gumboltAtlasPRBMCNN           \u001b[0mEpoch 15: beta = 4.027291466383101\n",
      "\u001b[1m[16:25:06.653]\u001b[0m \u001b[1;95mINFO \u001b[1;0m  \u001b[1mmodels.autoencoders.gumboltAtlasPRBMCNN           \u001b[0mEpoch 16: beta = 4.01195627609363\n",
      "\u001b[1m[16:25:08.479]\u001b[0m \u001b[1;95mINFO \u001b[1;0m  \u001b[1mmodels.autoencoders.gumboltAtlasPRBMCNN           \u001b[0mEpoch 17: beta = 4.000188680898243\n",
      "\u001b[1m[16:25:09.966]\u001b[0m \u001b[1;95mINFO \u001b[1;0m  \u001b[1mmodels.autoencoders.gumboltAtlasPRBMCNN           \u001b[0mEpoch 18: beta = 3.9838374906561795\n",
      "\u001b[1m[16:25:11.416]\u001b[0m \u001b[1;95mINFO \u001b[1;0m  \u001b[1mmodels.autoencoders.gumboltAtlasPRBMCNN           \u001b[0mEpoch 19: beta = 3.9735144356027243\n",
      "\u001b[1m[16:25:12.890]\u001b[0m \u001b[1;95mINFO \u001b[1;0m  \u001b[1mmodels.autoencoders.gumboltAtlasPRBMCNN           \u001b[0mEpoch 20: beta = 3.9510784117143314\n"
     ]
    },
    {
     "name": "stdout",
     "output_type": "stream",
     "text": [
      "1 False\n",
      "0\n"
     ]
    },
    {
     "name": "stderr",
     "output_type": "stream",
     "text": [
      "\u001b[1m[16:25:16.506]\u001b[0m \u001b[1;95mINFO \u001b[1;0m  \u001b[1mmodels.autoencoders.gumboltAtlasPRBMCNN           \u001b[0mEpoch 0: beta = 4.5\n",
      "\u001b[1m[16:25:17.957]\u001b[0m \u001b[1;95mINFO \u001b[1;0m  \u001b[1mmodels.autoencoders.gumboltAtlasPRBMCNN           \u001b[0mEpoch 1: beta = 4.2994482421875\n",
      "\u001b[1m[16:25:19.877]\u001b[0m \u001b[1;95mINFO \u001b[1;0m  \u001b[1mmodels.autoencoders.gumboltAtlasPRBMCNN           \u001b[0mEpoch 2: beta = 4.1716064453125\n",
      "\u001b[1m[16:25:21.351]\u001b[0m \u001b[1;95mINFO \u001b[1;0m  \u001b[1mmodels.autoencoders.gumboltAtlasPRBMCNN           \u001b[0mEpoch 3: beta = 4.071708984375\n",
      "\u001b[1m[16:25:22.840]\u001b[0m \u001b[1;95mINFO \u001b[1;0m  \u001b[1mmodels.autoencoders.gumboltAtlasPRBMCNN           \u001b[0mEpoch 4: beta = 4.0144287109375005\n",
      "\u001b[1m[16:25:24.325]\u001b[0m \u001b[1;95mINFO \u001b[1;0m  \u001b[1mmodels.autoencoders.gumboltAtlasPRBMCNN           \u001b[0mEpoch 5: beta = 3.9481835937500005\n",
      "\u001b[1m[16:25:25.808]\u001b[0m \u001b[1;95mINFO \u001b[1;0m  \u001b[1mmodels.autoencoders.gumboltAtlasPRBMCNN           \u001b[0mEpoch 6: beta = 3.8934716796875004\n",
      "\u001b[1m[16:25:27.275]\u001b[0m \u001b[1;95mINFO \u001b[1;0m  \u001b[1mmodels.autoencoders.gumboltAtlasPRBMCNN           \u001b[0mEpoch 7: beta = 3.8625976562500006\n",
      "\u001b[1m[16:25:28.733]\u001b[0m \u001b[1;95mINFO \u001b[1;0m  \u001b[1mmodels.autoencoders.gumboltAtlasPRBMCNN           \u001b[0mEpoch 8: beta = 3.8283593750000007\n"
     ]
    },
    {
     "name": "stdout",
     "output_type": "stream",
     "text": [
      "1\n"
     ]
    },
    {
     "name": "stderr",
     "output_type": "stream",
     "text": [
      "\u001b[1m[16:25:32.571]\u001b[0m \u001b[1;95mINFO \u001b[1;0m  \u001b[1mmodels.autoencoders.gumboltAtlasPRBMCNN           \u001b[0mEpoch 0: beta = 4.5\n",
      "\u001b[1m[16:25:34.045]\u001b[0m \u001b[1;95mINFO \u001b[1;0m  \u001b[1mmodels.autoencoders.gumboltAtlasPRBMCNN           \u001b[0mEpoch 1: beta = 4.3212744140625\n",
      "\u001b[1m[16:25:35.543]\u001b[0m \u001b[1;95mINFO \u001b[1;0m  \u001b[1mmodels.autoencoders.gumboltAtlasPRBMCNN           \u001b[0mEpoch 2: beta = 4.189775390625\n",
      "\u001b[1m[16:25:37.150]\u001b[0m \u001b[1;95mINFO \u001b[1;0m  \u001b[1mmodels.autoencoders.gumboltAtlasPRBMCNN           \u001b[0mEpoch 3: beta = 4.0960693359375\n",
      "\u001b[1m[16:25:38.587]\u001b[0m \u001b[1;95mINFO \u001b[1;0m  \u001b[1mmodels.autoencoders.gumboltAtlasPRBMCNN           \u001b[0mEpoch 4: beta = 4.024169921875\n",
      "\u001b[1m[16:25:40.486]\u001b[0m \u001b[1;95mINFO \u001b[1;0m  \u001b[1mmodels.autoencoders.gumboltAtlasPRBMCNN           \u001b[0mEpoch 5: beta = 3.9478955078125\n",
      "\u001b[1m[16:25:41.952]\u001b[0m \u001b[1;95mINFO \u001b[1;0m  \u001b[1mmodels.autoencoders.gumboltAtlasPRBMCNN           \u001b[0mEpoch 6: beta = 3.9023046875\n",
      "\u001b[1m[16:25:43.440]\u001b[0m \u001b[1;95mINFO \u001b[1;0m  \u001b[1mmodels.autoencoders.gumboltAtlasPRBMCNN           \u001b[0mEpoch 7: beta = 3.887333984375\n",
      "\u001b[1m[16:25:45.038]\u001b[0m \u001b[1;95mINFO \u001b[1;0m  \u001b[1mmodels.autoencoders.gumboltAtlasPRBMCNN           \u001b[0mEpoch 8: beta = 3.8564599609375003\n",
      "\u001b[1m[16:25:47.069]\u001b[0m \u001b[1;95mINFO \u001b[1;0m  \u001b[1mmodels.autoencoders.gumboltAtlasPRBMCNN           \u001b[0mEpoch 9: beta = 3.8097949218750005\n"
     ]
    },
    {
     "name": "stdout",
     "output_type": "stream",
     "text": [
      "2\n"
     ]
    },
    {
     "name": "stderr",
     "output_type": "stream",
     "text": [
      "\u001b[1m[16:25:50.826]\u001b[0m \u001b[1;95mINFO \u001b[1;0m  \u001b[1mmodels.autoencoders.gumboltAtlasPRBMCNN           \u001b[0mEpoch 0: beta = 4.5\n",
      "\u001b[1m[16:25:52.315]\u001b[0m \u001b[1;95mINFO \u001b[1;0m  \u001b[1mmodels.autoencoders.gumboltAtlasPRBMCNN           \u001b[0mEpoch 1: beta = 4.327021484375\n",
      "\u001b[1m[16:25:53.904]\u001b[0m \u001b[1;95mINFO \u001b[1;0m  \u001b[1mmodels.autoencoders.gumboltAtlasPRBMCNN           \u001b[0mEpoch 2: beta = 4.202431640625\n",
      "\u001b[1m[16:25:55.450]\u001b[0m \u001b[1;95mINFO \u001b[1;0m  \u001b[1mmodels.autoencoders.gumboltAtlasPRBMCNN           \u001b[0mEpoch 3: beta = 4.10037109375\n",
      "\u001b[1m[16:25:56.886]\u001b[0m \u001b[1;95mINFO \u001b[1;0m  \u001b[1mmodels.autoencoders.gumboltAtlasPRBMCNN           \u001b[0mEpoch 4: beta = 4.009072265625\n",
      "\u001b[1m[16:25:58.403]\u001b[0m \u001b[1;95mINFO \u001b[1;0m  \u001b[1mmodels.autoencoders.gumboltAtlasPRBMCNN           \u001b[0mEpoch 5: beta = 3.9456982421875\n",
      "\u001b[1m[16:25:59.973]\u001b[0m \u001b[1;95mINFO \u001b[1;0m  \u001b[1mmodels.autoencoders.gumboltAtlasPRBMCNN           \u001b[0mEpoch 6: beta = 3.9100244140625\n",
      "\u001b[1m[16:26:01.430]\u001b[0m \u001b[1;95mINFO \u001b[1;0m  \u001b[1mmodels.autoencoders.gumboltAtlasPRBMCNN           \u001b[0mEpoch 7: beta = 3.8732958984374997\n"
     ]
    },
    {
     "name": "stdout",
     "output_type": "stream",
     "text": [
      "3\n"
     ]
    },
    {
     "name": "stderr",
     "output_type": "stream",
     "text": [
      "\u001b[1m[16:26:05.471]\u001b[0m \u001b[1;95mINFO \u001b[1;0m  \u001b[1mmodels.autoencoders.gumboltAtlasPRBMCNN           \u001b[0mEpoch 0: beta = 4.5\n",
      "\u001b[1m[16:26:06.965]\u001b[0m \u001b[1;95mINFO \u001b[1;0m  \u001b[1mmodels.autoencoders.gumboltAtlasPRBMCNN           \u001b[0mEpoch 1: beta = 4.283623046875\n",
      "\u001b[1m[16:26:08.482]\u001b[0m \u001b[1;95mINFO \u001b[1;0m  \u001b[1mmodels.autoencoders.gumboltAtlasPRBMCNN           \u001b[0mEpoch 2: beta = 4.1397314453125\n",
      "\u001b[1m[16:26:10.047]\u001b[0m \u001b[1;95mINFO \u001b[1;0m  \u001b[1mmodels.autoencoders.gumboltAtlasPRBMCNN           \u001b[0mEpoch 3: beta = 4.0175048828125\n",
      "\u001b[1m[16:26:11.540]\u001b[0m \u001b[1;95mINFO \u001b[1;0m  \u001b[1mmodels.autoencoders.gumboltAtlasPRBMCNN           \u001b[0mEpoch 4: beta = 3.9521044921875004\n",
      "\u001b[1m[16:26:13.156]\u001b[0m \u001b[1;95mINFO \u001b[1;0m  \u001b[1mmodels.autoencoders.gumboltAtlasPRBMCNN           \u001b[0mEpoch 5: beta = 3.8864404296875006\n",
      "\u001b[1m[16:26:14.618]\u001b[0m \u001b[1;95mINFO \u001b[1;0m  \u001b[1mmodels.autoencoders.gumboltAtlasPRBMCNN           \u001b[0mEpoch 6: beta = 3.8455615234375005\n",
      "\u001b[1m[16:26:16.109]\u001b[0m \u001b[1;95mINFO \u001b[1;0m  \u001b[1mmodels.autoencoders.gumboltAtlasPRBMCNN           \u001b[0mEpoch 7: beta = 3.7971826171875005\n"
     ]
    },
    {
     "name": "stdout",
     "output_type": "stream",
     "text": [
      "4\n"
     ]
    },
    {
     "name": "stderr",
     "output_type": "stream",
     "text": [
      "\u001b[1m[16:26:19.738]\u001b[0m \u001b[1;95mINFO \u001b[1;0m  \u001b[1mmodels.autoencoders.gumboltAtlasPRBMCNN           \u001b[0mEpoch 0: beta = 4.5\n",
      "\u001b[1m[16:26:21.216]\u001b[0m \u001b[1;95mINFO \u001b[1;0m  \u001b[1mmodels.autoencoders.gumboltAtlasPRBMCNN           \u001b[0mEpoch 1: beta = 4.2890234375\n",
      "\u001b[1m[16:26:22.718]\u001b[0m \u001b[1;95mINFO \u001b[1;0m  \u001b[1mmodels.autoencoders.gumboltAtlasPRBMCNN           \u001b[0mEpoch 2: beta = 4.122666015625\n",
      "\u001b[1m[16:26:24.185]\u001b[0m \u001b[1;95mINFO \u001b[1;0m  \u001b[1mmodels.autoencoders.gumboltAtlasPRBMCNN           \u001b[0mEpoch 3: beta = 4.028002929687499\n",
      "\u001b[1m[16:26:25.699]\u001b[0m \u001b[1;95mINFO \u001b[1;0m  \u001b[1mmodels.autoencoders.gumboltAtlasPRBMCNN           \u001b[0mEpoch 4: beta = 3.9550146484374995\n",
      "\u001b[1m[16:26:27.142]\u001b[0m \u001b[1;95mINFO \u001b[1;0m  \u001b[1mmodels.autoencoders.gumboltAtlasPRBMCNN           \u001b[0mEpoch 5: beta = 3.8979736328124996\n",
      "\u001b[1m[16:26:28.744]\u001b[0m \u001b[1;95mINFO \u001b[1;0m  \u001b[1mmodels.autoencoders.gumboltAtlasPRBMCNN           \u001b[0mEpoch 6: beta = 3.8616259765625\n",
      "\u001b[1m[16:26:30.212]\u001b[0m \u001b[1;95mINFO \u001b[1;0m  \u001b[1mmodels.autoencoders.gumboltAtlasPRBMCNN           \u001b[0mEpoch 7: beta = 3.825380859375\n",
      "\u001b[1m[16:26:31.675]\u001b[0m \u001b[1;95mINFO \u001b[1;0m  \u001b[1mmodels.autoencoders.gumboltAtlasPRBMCNN           \u001b[0mEpoch 8: beta = 3.8100390625\n",
      "\u001b[1m[16:26:33.604]\u001b[0m \u001b[1;95mINFO \u001b[1;0m  \u001b[1mmodels.autoencoders.gumboltAtlasPRBMCNN           \u001b[0mEpoch 9: beta = 3.780283203125\n",
      "\u001b[1m[16:26:35.078]\u001b[0m \u001b[1;95mINFO \u001b[1;0m  \u001b[1mmodels.autoencoders.gumboltAtlasPRBMCNN           \u001b[0mEpoch 10: beta = 3.7579443359375\n"
     ]
    },
    {
     "name": "stdout",
     "output_type": "stream",
     "text": [
      "5\n"
     ]
    },
    {
     "name": "stderr",
     "output_type": "stream",
     "text": [
      "\u001b[1m[16:26:38.779]\u001b[0m \u001b[1;95mINFO \u001b[1;0m  \u001b[1mmodels.autoencoders.gumboltAtlasPRBMCNN           \u001b[0mEpoch 0: beta = 4.5\n",
      "\u001b[1m[16:26:40.294]\u001b[0m \u001b[1;95mINFO \u001b[1;0m  \u001b[1mmodels.autoencoders.gumboltAtlasPRBMCNN           \u001b[0mEpoch 1: beta = 4.2907080078125\n",
      "\u001b[1m[16:26:41.873]\u001b[0m \u001b[1;95mINFO \u001b[1;0m  \u001b[1mmodels.autoencoders.gumboltAtlasPRBMCNN           \u001b[0mEpoch 2: beta = 4.164306640625\n",
      "\u001b[1m[16:26:43.320]\u001b[0m \u001b[1;95mINFO \u001b[1;0m  \u001b[1mmodels.autoencoders.gumboltAtlasPRBMCNN           \u001b[0mEpoch 3: beta = 4.0682177734375\n",
      "\u001b[1m[16:26:44.900]\u001b[0m \u001b[1;95mINFO \u001b[1;0m  \u001b[1mmodels.autoencoders.gumboltAtlasPRBMCNN           \u001b[0mEpoch 4: beta = 4.01029296875\n",
      "\u001b[1m[16:26:46.373]\u001b[0m \u001b[1;95mINFO \u001b[1;0m  \u001b[1mmodels.autoencoders.gumboltAtlasPRBMCNN           \u001b[0mEpoch 5: beta = 3.9247021484375\n",
      "\u001b[1m[16:26:47.846]\u001b[0m \u001b[1;95mINFO \u001b[1;0m  \u001b[1mmodels.autoencoders.gumboltAtlasPRBMCNN           \u001b[0mEpoch 6: beta = 3.88869140625\n",
      "\u001b[1m[16:26:49.343]\u001b[0m \u001b[1;95mINFO \u001b[1;0m  \u001b[1mmodels.autoencoders.gumboltAtlasPRBMCNN           \u001b[0mEpoch 7: beta = 3.8727001953125\n",
      "\u001b[1m[16:26:50.810]\u001b[0m \u001b[1;95mINFO \u001b[1;0m  \u001b[1mmodels.autoencoders.gumboltAtlasPRBMCNN           \u001b[0mEpoch 8: beta = 3.8516796875\n",
      "\u001b[1m[16:26:52.409]\u001b[0m \u001b[1;95mINFO \u001b[1;0m  \u001b[1mmodels.autoencoders.gumboltAtlasPRBMCNN           \u001b[0mEpoch 9: beta = 3.8361279296874997\n",
      "\u001b[1m[16:26:53.884]\u001b[0m \u001b[1;95mINFO \u001b[1;0m  \u001b[1mmodels.autoencoders.gumboltAtlasPRBMCNN           \u001b[0mEpoch 10: beta = 3.8226757812499996\n",
      "\u001b[1m[16:26:55.374]\u001b[0m \u001b[1;95mINFO \u001b[1;0m  \u001b[1mmodels.autoencoders.gumboltAtlasPRBMCNN           \u001b[0mEpoch 11: beta = 3.7965185546874998\n",
      "\u001b[1m[16:26:56.831]\u001b[0m \u001b[1;95mINFO \u001b[1;0m  \u001b[1mmodels.autoencoders.gumboltAtlasPRBMCNN           \u001b[0mEpoch 12: beta = 3.756162109375\n"
     ]
    },
    {
     "name": "stdout",
     "output_type": "stream",
     "text": [
      "6\n"
     ]
    },
    {
     "name": "stderr",
     "output_type": "stream",
     "text": [
      "\u001b[1m[16:27:00.583]\u001b[0m \u001b[1;95mINFO \u001b[1;0m  \u001b[1mmodels.autoencoders.gumboltAtlasPRBMCNN           \u001b[0mEpoch 0: beta = 4.5\n",
      "\u001b[1m[16:27:02.053]\u001b[0m \u001b[1;95mINFO \u001b[1;0m  \u001b[1mmodels.autoencoders.gumboltAtlasPRBMCNN           \u001b[0mEpoch 1: beta = 4.284111328125\n",
      "\u001b[1m[16:27:03.503]\u001b[0m \u001b[1;95mINFO \u001b[1;0m  \u001b[1mmodels.autoencoders.gumboltAtlasPRBMCNN           \u001b[0mEpoch 2: beta = 4.1381396484375\n",
      "\u001b[1m[16:27:04.982]\u001b[0m \u001b[1;95mINFO \u001b[1;0m  \u001b[1mmodels.autoencoders.gumboltAtlasPRBMCNN           \u001b[0mEpoch 3: beta = 4.0402294921875\n",
      "\u001b[1m[16:27:06.637]\u001b[0m \u001b[1;95mINFO \u001b[1;0m  \u001b[1mmodels.autoencoders.gumboltAtlasPRBMCNN           \u001b[0mEpoch 4: beta = 3.979814453125\n",
      "\u001b[1m[16:27:08.115]\u001b[0m \u001b[1;95mINFO \u001b[1;0m  \u001b[1mmodels.autoencoders.gumboltAtlasPRBMCNN           \u001b[0mEpoch 5: beta = 3.9276611328124997\n",
      "\u001b[1m[16:27:09.596]\u001b[0m \u001b[1;95mINFO \u001b[1;0m  \u001b[1mmodels.autoencoders.gumboltAtlasPRBMCNN           \u001b[0mEpoch 6: beta = 3.845673828125\n",
      "\u001b[1m[16:27:11.088]\u001b[0m \u001b[1;95mINFO \u001b[1;0m  \u001b[1mmodels.autoencoders.gumboltAtlasPRBMCNN           \u001b[0mEpoch 7: beta = 3.8214941406249996\n",
      "\u001b[1m[16:27:12.580]\u001b[0m \u001b[1;95mINFO \u001b[1;0m  \u001b[1mmodels.autoencoders.gumboltAtlasPRBMCNN           \u001b[0mEpoch 8: beta = 3.7871044921874994\n"
     ]
    },
    {
     "name": "stdout",
     "output_type": "stream",
     "text": [
      "7\n"
     ]
    },
    {
     "name": "stderr",
     "output_type": "stream",
     "text": [
      "\u001b[1m[16:27:16.693]\u001b[0m \u001b[1;95mINFO \u001b[1;0m  \u001b[1mmodels.autoencoders.gumboltAtlasPRBMCNN           \u001b[0mEpoch 0: beta = 4.5\n",
      "\u001b[1m[16:27:18.185]\u001b[0m \u001b[1;95mINFO \u001b[1;0m  \u001b[1mmodels.autoencoders.gumboltAtlasPRBMCNN           \u001b[0mEpoch 1: beta = 4.2455126953125\n",
      "\u001b[1m[16:27:19.847]\u001b[0m \u001b[1;95mINFO \u001b[1;0m  \u001b[1mmodels.autoencoders.gumboltAtlasPRBMCNN           \u001b[0mEpoch 2: beta = 4.124716796875\n",
      "\u001b[1m[16:27:21.316]\u001b[0m \u001b[1;95mINFO \u001b[1;0m  \u001b[1mmodels.autoencoders.gumboltAtlasPRBMCNN           \u001b[0mEpoch 3: beta = 4.0359228515625\n",
      "\u001b[1m[16:27:22.879]\u001b[0m \u001b[1;95mINFO \u001b[1;0m  \u001b[1mmodels.autoencoders.gumboltAtlasPRBMCNN           \u001b[0mEpoch 4: beta = 3.9585058593749998\n",
      "\u001b[1m[16:27:24.308]\u001b[0m \u001b[1;95mINFO \u001b[1;0m  \u001b[1mmodels.autoencoders.gumboltAtlasPRBMCNN           \u001b[0mEpoch 5: beta = 3.9048095703124996\n",
      "\u001b[1m[16:27:25.915]\u001b[0m \u001b[1;95mINFO \u001b[1;0m  \u001b[1mmodels.autoencoders.gumboltAtlasPRBMCNN           \u001b[0mEpoch 6: beta = 3.8535888671875\n",
      "\u001b[1m[16:27:27.361]\u001b[0m \u001b[1;95mINFO \u001b[1;0m  \u001b[1mmodels.autoencoders.gumboltAtlasPRBMCNN           \u001b[0mEpoch 7: beta = 3.836181640625\n",
      "\u001b[1m[16:27:29.320]\u001b[0m \u001b[1;95mINFO \u001b[1;0m  \u001b[1mmodels.autoencoders.gumboltAtlasPRBMCNN           \u001b[0mEpoch 8: beta = 3.8054150390625\n",
      "\u001b[1m[16:27:45.292]\u001b[0m \u001b[1;95mINFO \u001b[1;0m  \u001b[1mmodels.autoencoders.gumboltAtlasPRBMCNN           \u001b[0mEpoch 9: beta = 3.781171875\n",
      "\u001b[1m[16:27:46.929]\u001b[0m \u001b[1;95mINFO \u001b[1;0m  \u001b[1mmodels.autoencoders.gumboltAtlasPRBMCNN           \u001b[0mEpoch 10: beta = 3.8305908203125\n",
      "\u001b[1m[16:27:48.615]\u001b[0m \u001b[1;95mINFO \u001b[1;0m  \u001b[1mmodels.autoencoders.gumboltAtlasPRBMCNN           \u001b[0mEpoch 11: beta = 3.86171875\n"
     ]
    },
    {
     "name": "stdout",
     "output_type": "stream",
     "text": [
      "8\n"
     ]
    },
    {
     "name": "stderr",
     "output_type": "stream",
     "text": [
      "\u001b[1m[16:27:52.269]\u001b[0m \u001b[1;95mINFO \u001b[1;0m  \u001b[1mmodels.autoencoders.gumboltAtlasPRBMCNN           \u001b[0mEpoch 0: beta = 4.5\n",
      "\u001b[1m[16:27:53.782]\u001b[0m \u001b[1;95mINFO \u001b[1;0m  \u001b[1mmodels.autoencoders.gumboltAtlasPRBMCNN           \u001b[0mEpoch 1: beta = 4.3207421875\n",
      "\u001b[1m[16:27:55.436]\u001b[0m \u001b[1;95mINFO \u001b[1;0m  \u001b[1mmodels.autoencoders.gumboltAtlasPRBMCNN           \u001b[0mEpoch 2: beta = 4.201484375\n",
      "\u001b[1m[16:27:56.930]\u001b[0m \u001b[1;95mINFO \u001b[1;0m  \u001b[1mmodels.autoencoders.gumboltAtlasPRBMCNN           \u001b[0mEpoch 3: beta = 4.122265625\n",
      "\u001b[1m[16:27:58.622]\u001b[0m \u001b[1;95mINFO \u001b[1;0m  \u001b[1mmodels.autoencoders.gumboltAtlasPRBMCNN           \u001b[0mEpoch 4: beta = 4.045927734375\n",
      "\u001b[1m[16:28:00.106]\u001b[0m \u001b[1;95mINFO \u001b[1;0m  \u001b[1mmodels.autoencoders.gumboltAtlasPRBMCNN           \u001b[0mEpoch 5: beta = 3.9969921874999996\n",
      "\u001b[1m[16:28:01.633]\u001b[0m \u001b[1;95mINFO \u001b[1;0m  \u001b[1mmodels.autoencoders.gumboltAtlasPRBMCNN           \u001b[0mEpoch 6: beta = 3.9429003906249998\n",
      "\u001b[1m[16:28:03.159]\u001b[0m \u001b[1;95mINFO \u001b[1;0m  \u001b[1mmodels.autoencoders.gumboltAtlasPRBMCNN           \u001b[0mEpoch 7: beta = 3.9059765625\n",
      "\u001b[1m[16:28:04.756]\u001b[0m \u001b[1;95mINFO \u001b[1;0m  \u001b[1mmodels.autoencoders.gumboltAtlasPRBMCNN           \u001b[0mEpoch 8: beta = 3.8824511718749997\n"
     ]
    },
    {
     "name": "stdout",
     "output_type": "stream",
     "text": [
      "9\n"
     ]
    },
    {
     "name": "stderr",
     "output_type": "stream",
     "text": [
      "\u001b[1m[16:28:08.443]\u001b[0m \u001b[1;95mINFO \u001b[1;0m  \u001b[1mmodels.autoencoders.gumboltAtlasPRBMCNN           \u001b[0mEpoch 0: beta = 4.5\n",
      "\u001b[1m[16:28:09.891]\u001b[0m \u001b[1;95mINFO \u001b[1;0m  \u001b[1mmodels.autoencoders.gumboltAtlasPRBMCNN           \u001b[0mEpoch 1: beta = 4.3257470703125\n",
      "\u001b[1m[16:28:11.387]\u001b[0m \u001b[1;95mINFO \u001b[1;0m  \u001b[1mmodels.autoencoders.gumboltAtlasPRBMCNN           \u001b[0mEpoch 2: beta = 4.2032763671875\n",
      "\u001b[1m[16:28:12.895]\u001b[0m \u001b[1;95mINFO \u001b[1;0m  \u001b[1mmodels.autoencoders.gumboltAtlasPRBMCNN           \u001b[0mEpoch 3: beta = 4.1108837890625\n",
      "\u001b[1m[16:28:14.409]\u001b[0m \u001b[1;95mINFO \u001b[1;0m  \u001b[1mmodels.autoencoders.gumboltAtlasPRBMCNN           \u001b[0mEpoch 4: beta = 4.0044970703125005\n",
      "\u001b[1m[16:28:15.931]\u001b[0m \u001b[1;95mINFO \u001b[1;0m  \u001b[1mmodels.autoencoders.gumboltAtlasPRBMCNN           \u001b[0mEpoch 5: beta = 3.9184814453125005\n",
      "\u001b[1m[16:28:17.442]\u001b[0m \u001b[1;95mINFO \u001b[1;0m  \u001b[1mmodels.autoencoders.gumboltAtlasPRBMCNN           \u001b[0mEpoch 6: beta = 3.8906201171875003\n",
      "\u001b[1m[16:28:18.929]\u001b[0m \u001b[1;95mINFO \u001b[1;0m  \u001b[1mmodels.autoencoders.gumboltAtlasPRBMCNN           \u001b[0mEpoch 7: beta = 3.8589599609375003\n",
      "\u001b[1m[16:28:20.410]\u001b[0m \u001b[1;95mINFO \u001b[1;0m  \u001b[1mmodels.autoencoders.gumboltAtlasPRBMCNN           \u001b[0mEpoch 8: beta = 3.8251123046875004\n",
      "\u001b[1m[16:28:21.949]\u001b[0m \u001b[1;95mINFO \u001b[1;0m  \u001b[1mmodels.autoencoders.gumboltAtlasPRBMCNN           \u001b[0mEpoch 9: beta = 3.8366699218750004\n"
     ]
    },
    {
     "name": "stdout",
     "output_type": "stream",
     "text": [
      "10\n"
     ]
    },
    {
     "name": "stderr",
     "output_type": "stream",
     "text": [
      "\u001b[1m[16:28:25.668]\u001b[0m \u001b[1;95mINFO \u001b[1;0m  \u001b[1mmodels.autoencoders.gumboltAtlasPRBMCNN           \u001b[0mEpoch 0: beta = 4.5\n",
      "\u001b[1m[16:28:27.242]\u001b[0m \u001b[1;95mINFO \u001b[1;0m  \u001b[1mmodels.autoencoders.gumboltAtlasPRBMCNN           \u001b[0mEpoch 1: beta = 4.32169921875\n",
      "\u001b[1m[16:28:28.703]\u001b[0m \u001b[1;95mINFO \u001b[1;0m  \u001b[1mmodels.autoencoders.gumboltAtlasPRBMCNN           \u001b[0mEpoch 2: beta = 4.200732421875\n",
      "\u001b[1m[16:28:30.240]\u001b[0m \u001b[1;95mINFO \u001b[1;0m  \u001b[1mmodels.autoencoders.gumboltAtlasPRBMCNN           \u001b[0mEpoch 3: beta = 4.0758691406250005\n",
      "\u001b[1m[16:28:31.739]\u001b[0m \u001b[1;95mINFO \u001b[1;0m  \u001b[1mmodels.autoencoders.gumboltAtlasPRBMCNN           \u001b[0mEpoch 4: beta = 3.9855517578125004\n",
      "\u001b[1m[16:28:33.216]\u001b[0m \u001b[1;95mINFO \u001b[1;0m  \u001b[1mmodels.autoencoders.gumboltAtlasPRBMCNN           \u001b[0mEpoch 5: beta = 3.9544335937500006\n",
      "\u001b[1m[16:28:34.679]\u001b[0m \u001b[1;95mINFO \u001b[1;0m  \u001b[1mmodels.autoencoders.gumboltAtlasPRBMCNN           \u001b[0mEpoch 6: beta = 3.9212304687500006\n",
      "\u001b[1m[16:28:36.136]\u001b[0m \u001b[1;95mINFO \u001b[1;0m  \u001b[1mmodels.autoencoders.gumboltAtlasPRBMCNN           \u001b[0mEpoch 7: beta = 3.8844921875000007\n"
     ]
    },
    {
     "name": "stdout",
     "output_type": "stream",
     "text": [
      "11\n"
     ]
    },
    {
     "name": "stderr",
     "output_type": "stream",
     "text": [
      "\u001b[1m[16:28:40.161]\u001b[0m \u001b[1;95mINFO \u001b[1;0m  \u001b[1mmodels.autoencoders.gumboltAtlasPRBMCNN           \u001b[0mEpoch 0: beta = 4.5\n",
      "\u001b[1m[16:28:41.608]\u001b[0m \u001b[1;95mINFO \u001b[1;0m  \u001b[1mmodels.autoencoders.gumboltAtlasPRBMCNN           \u001b[0mEpoch 1: beta = 4.3473486328125\n",
      "\u001b[1m[16:28:43.093]\u001b[0m \u001b[1;95mINFO \u001b[1;0m  \u001b[1mmodels.autoencoders.gumboltAtlasPRBMCNN           \u001b[0mEpoch 2: beta = 4.22953125\n",
      "\u001b[1m[16:28:44.595]\u001b[0m \u001b[1;95mINFO \u001b[1;0m  \u001b[1mmodels.autoencoders.gumboltAtlasPRBMCNN           \u001b[0mEpoch 3: beta = 4.118154296875\n",
      "\u001b[1m[16:28:46.120]\u001b[0m \u001b[1;95mINFO \u001b[1;0m  \u001b[1mmodels.autoencoders.gumboltAtlasPRBMCNN           \u001b[0mEpoch 4: beta = 4.0203369140625\n",
      "\u001b[1m[16:28:47.599]\u001b[0m \u001b[1;95mINFO \u001b[1;0m  \u001b[1mmodels.autoencoders.gumboltAtlasPRBMCNN           \u001b[0mEpoch 5: beta = 3.9761621093749997\n",
      "\u001b[1m[16:28:49.525]\u001b[0m \u001b[1;95mINFO \u001b[1;0m  \u001b[1mmodels.autoencoders.gumboltAtlasPRBMCNN           \u001b[0mEpoch 6: beta = 3.9267382812499996\n",
      "\u001b[1m[16:28:51.012]\u001b[0m \u001b[1;95mINFO \u001b[1;0m  \u001b[1mmodels.autoencoders.gumboltAtlasPRBMCNN           \u001b[0mEpoch 7: beta = 3.8780419921875\n",
      "\u001b[1m[16:28:52.518]\u001b[0m \u001b[1;95mINFO \u001b[1;0m  \u001b[1mmodels.autoencoders.gumboltAtlasPRBMCNN           \u001b[0mEpoch 8: beta = 3.8474414062499998\n"
     ]
    },
    {
     "name": "stdout",
     "output_type": "stream",
     "text": [
      "12\n"
     ]
    },
    {
     "name": "stderr",
     "output_type": "stream",
     "text": [
      "\u001b[1m[16:28:56.131]\u001b[0m \u001b[1;95mINFO \u001b[1;0m  \u001b[1mmodels.autoencoders.gumboltAtlasPRBMCNN           \u001b[0mEpoch 0: beta = 4.5\n",
      "\u001b[1m[16:28:57.613]\u001b[0m \u001b[1;95mINFO \u001b[1;0m  \u001b[1mmodels.autoencoders.gumboltAtlasPRBMCNN           \u001b[0mEpoch 1: beta = 4.2988818359375\n",
      "\u001b[1m[16:28:59.073]\u001b[0m \u001b[1;95mINFO \u001b[1;0m  \u001b[1mmodels.autoencoders.gumboltAtlasPRBMCNN           \u001b[0mEpoch 2: beta = 4.163647460937501\n",
      "\u001b[1m[16:29:00.580]\u001b[0m \u001b[1;95mINFO \u001b[1;0m  \u001b[1mmodels.autoencoders.gumboltAtlasPRBMCNN           \u001b[0mEpoch 3: beta = 4.057285156250001\n",
      "\u001b[1m[16:29:02.057]\u001b[0m \u001b[1;95mINFO \u001b[1;0m  \u001b[1mmodels.autoencoders.gumboltAtlasPRBMCNN           \u001b[0mEpoch 4: beta = 4.004648437500001\n",
      "\u001b[1m[16:29:03.531]\u001b[0m \u001b[1;95mINFO \u001b[1;0m  \u001b[1mmodels.autoencoders.gumboltAtlasPRBMCNN           \u001b[0mEpoch 5: beta = 3.962270507812501\n",
      "\u001b[1m[16:29:05.174]\u001b[0m \u001b[1;95mINFO \u001b[1;0m  \u001b[1mmodels.autoencoders.gumboltAtlasPRBMCNN           \u001b[0mEpoch 6: beta = 3.918896484375001\n",
      "\u001b[1m[16:29:06.610]\u001b[0m \u001b[1;95mINFO \u001b[1;0m  \u001b[1mmodels.autoencoders.gumboltAtlasPRBMCNN           \u001b[0mEpoch 7: beta = 3.879223632812501\n",
      "\u001b[1m[16:29:08.109]\u001b[0m \u001b[1;95mINFO \u001b[1;0m  \u001b[1mmodels.autoencoders.gumboltAtlasPRBMCNN           \u001b[0mEpoch 8: beta = 3.841933593750001\n",
      "\u001b[1m[16:29:09.604]\u001b[0m \u001b[1;95mINFO \u001b[1;0m  \u001b[1mmodels.autoencoders.gumboltAtlasPRBMCNN           \u001b[0mEpoch 9: beta = 3.813403320312501\n",
      "\u001b[1m[16:29:11.088]\u001b[0m \u001b[1;95mINFO \u001b[1;0m  \u001b[1mmodels.autoencoders.gumboltAtlasPRBMCNN           \u001b[0mEpoch 10: beta = 3.8247656250000013\n",
      "\u001b[1m[16:29:12.583]\u001b[0m \u001b[1;95mINFO \u001b[1;0m  \u001b[1mmodels.autoencoders.gumboltAtlasPRBMCNN           \u001b[0mEpoch 11: beta = 3.8360205078125014\n"
     ]
    },
    {
     "name": "stdout",
     "output_type": "stream",
     "text": [
      "13\n"
     ]
    },
    {
     "name": "stderr",
     "output_type": "stream",
     "text": [
      "\u001b[1m[16:29:16.229]\u001b[0m \u001b[1;95mINFO \u001b[1;0m  \u001b[1mmodels.autoencoders.gumboltAtlasPRBMCNN           \u001b[0mEpoch 0: beta = 4.5\n",
      "\u001b[1m[16:29:17.704]\u001b[0m \u001b[1;95mINFO \u001b[1;0m  \u001b[1mmodels.autoencoders.gumboltAtlasPRBMCNN           \u001b[0mEpoch 1: beta = 4.3199365234375\n",
      "\u001b[1m[16:29:19.180]\u001b[0m \u001b[1;95mINFO \u001b[1;0m  \u001b[1mmodels.autoencoders.gumboltAtlasPRBMCNN           \u001b[0mEpoch 2: beta = 4.181259765625\n",
      "\u001b[1m[16:29:20.658]\u001b[0m \u001b[1;95mINFO \u001b[1;0m  \u001b[1mmodels.autoencoders.gumboltAtlasPRBMCNN           \u001b[0mEpoch 3: beta = 4.104921875\n",
      "\u001b[1m[16:29:22.129]\u001b[0m \u001b[1;95mINFO \u001b[1;0m  \u001b[1mmodels.autoencoders.gumboltAtlasPRBMCNN           \u001b[0mEpoch 4: beta = 4.028564453125\n",
      "\u001b[1m[16:29:23.569]\u001b[0m \u001b[1;95mINFO \u001b[1;0m  \u001b[1mmodels.autoencoders.gumboltAtlasPRBMCNN           \u001b[0mEpoch 5: beta = 3.9734033203125\n",
      "\u001b[1m[16:29:25.019]\u001b[0m \u001b[1;95mINFO \u001b[1;0m  \u001b[1mmodels.autoencoders.gumboltAtlasPRBMCNN           \u001b[0mEpoch 6: beta = 3.9254638671874997\n",
      "\u001b[1m[16:29:26.486]\u001b[0m \u001b[1;95mINFO \u001b[1;0m  \u001b[1mmodels.autoencoders.gumboltAtlasPRBMCNN           \u001b[0mEpoch 7: beta = 3.89853515625\n",
      "\u001b[1m[16:29:27.921]\u001b[0m \u001b[1;95mINFO \u001b[1;0m  \u001b[1mmodels.autoencoders.gumboltAtlasPRBMCNN           \u001b[0mEpoch 8: beta = 3.8825341796874997\n",
      "\u001b[1m[16:29:29.378]\u001b[0m \u001b[1;95mINFO \u001b[1;0m  \u001b[1mmodels.autoencoders.gumboltAtlasPRBMCNN           \u001b[0mEpoch 9: beta = 3.835869140625\n",
      "\u001b[1m[16:29:30.836]\u001b[0m \u001b[1;95mINFO \u001b[1;0m  \u001b[1mmodels.autoencoders.gumboltAtlasPRBMCNN           \u001b[0mEpoch 10: beta = 3.7976171874999998\n",
      "\u001b[1m[16:29:32.288]\u001b[0m \u001b[1;95mINFO \u001b[1;0m  \u001b[1mmodels.autoencoders.gumboltAtlasPRBMCNN           \u001b[0mEpoch 11: beta = 3.7787890624999996\n",
      "\u001b[1m[16:29:33.750]\u001b[0m \u001b[1;95mINFO \u001b[1;0m  \u001b[1mmodels.autoencoders.gumboltAtlasPRBMCNN           \u001b[0mEpoch 12: beta = 3.7888281249999998\n",
      "\u001b[1m[16:29:35.399]\u001b[0m \u001b[1;95mINFO \u001b[1;0m  \u001b[1mmodels.autoencoders.gumboltAtlasPRBMCNN           \u001b[0mEpoch 13: beta = 3.7691015625\n"
     ]
    },
    {
     "name": "stdout",
     "output_type": "stream",
     "text": [
      "14\n"
     ]
    },
    {
     "name": "stderr",
     "output_type": "stream",
     "text": [
      "\u001b[1m[16:29:39.034]\u001b[0m \u001b[1;95mINFO \u001b[1;0m  \u001b[1mmodels.autoencoders.gumboltAtlasPRBMCNN           \u001b[0mEpoch 0: beta = 4.5\n",
      "\u001b[1m[16:29:40.656]\u001b[0m \u001b[1;95mINFO \u001b[1;0m  \u001b[1mmodels.autoencoders.gumboltAtlasPRBMCNN           \u001b[0mEpoch 1: beta = 4.3018310546875\n",
      "\u001b[1m[16:29:42.151]\u001b[0m \u001b[1;95mINFO \u001b[1;0m  \u001b[1mmodels.autoencoders.gumboltAtlasPRBMCNN           \u001b[0mEpoch 2: beta = 4.1774755859375\n",
      "\u001b[1m[16:29:43.634]\u001b[0m \u001b[1;95mINFO \u001b[1;0m  \u001b[1mmodels.autoencoders.gumboltAtlasPRBMCNN           \u001b[0mEpoch 3: beta = 4.059584960937499\n",
      "\u001b[1m[16:29:45.160]\u001b[0m \u001b[1;95mINFO \u001b[1;0m  \u001b[1mmodels.autoencoders.gumboltAtlasPRBMCNN           \u001b[0mEpoch 4: beta = 3.9724365234374996\n",
      "\u001b[1m[16:29:46.748]\u001b[0m \u001b[1;95mINFO \u001b[1;0m  \u001b[1mmodels.autoencoders.gumboltAtlasPRBMCNN           \u001b[0mEpoch 5: beta = 3.9021386718749995\n",
      "\u001b[1m[16:29:48.234]\u001b[0m \u001b[1;95mINFO \u001b[1;0m  \u001b[1mmodels.autoencoders.gumboltAtlasPRBMCNN           \u001b[0mEpoch 6: beta = 3.8780664062499994\n",
      "\u001b[1m[16:29:49.726]\u001b[0m \u001b[1;95mINFO \u001b[1;0m  \u001b[1mmodels.autoencoders.gumboltAtlasPRBMCNN           \u001b[0mEpoch 7: beta = 3.8622802734374995\n",
      "\u001b[1m[16:29:51.644]\u001b[0m \u001b[1;95mINFO \u001b[1;0m  \u001b[1mmodels.autoencoders.gumboltAtlasPRBMCNN           \u001b[0mEpoch 8: beta = 3.8503076171874993\n"
     ]
    },
    {
     "name": "stdout",
     "output_type": "stream",
     "text": [
      "15\n"
     ]
    },
    {
     "name": "stderr",
     "output_type": "stream",
     "text": [
      "\u001b[1m[16:29:55.805]\u001b[0m \u001b[1;95mINFO \u001b[1;0m  \u001b[1mmodels.autoencoders.gumboltAtlasPRBMCNN           \u001b[0mEpoch 0: beta = 4.5\n",
      "\u001b[1m[16:29:57.394]\u001b[0m \u001b[1;95mINFO \u001b[1;0m  \u001b[1mmodels.autoencoders.gumboltAtlasPRBMCNN           \u001b[0mEpoch 1: beta = 4.318525390625\n",
      "\u001b[1m[16:29:58.832]\u001b[0m \u001b[1;95mINFO \u001b[1;0m  \u001b[1mmodels.autoencoders.gumboltAtlasPRBMCNN           \u001b[0mEpoch 2: beta = 4.1806494140625\n",
      "\u001b[1m[16:30:00.433]\u001b[0m \u001b[1;95mINFO \u001b[1;0m  \u001b[1mmodels.autoencoders.gumboltAtlasPRBMCNN           \u001b[0mEpoch 3: beta = 4.090458984375\n",
      "\u001b[1m[16:30:01.928]\u001b[0m \u001b[1;95mINFO \u001b[1;0m  \u001b[1mmodels.autoencoders.gumboltAtlasPRBMCNN           \u001b[0mEpoch 4: beta = 4.03525390625\n",
      "\u001b[1m[16:30:03.518]\u001b[0m \u001b[1;95mINFO \u001b[1;0m  \u001b[1mmodels.autoencoders.gumboltAtlasPRBMCNN           \u001b[0mEpoch 5: beta = 3.5405468750000004\n"
     ]
    },
    {
     "name": "stdout",
     "output_type": "stream",
     "text": [
      "16\n"
     ]
    },
    {
     "name": "stderr",
     "output_type": "stream",
     "text": [
      "\u001b[1m[16:30:07.093]\u001b[0m \u001b[1;95mINFO \u001b[1;0m  \u001b[1mmodels.autoencoders.gumboltAtlasPRBMCNN           \u001b[0mEpoch 0: beta = 4.5\n",
      "\u001b[1m[16:30:08.580]\u001b[0m \u001b[1;95mINFO \u001b[1;0m  \u001b[1mmodels.autoencoders.gumboltAtlasPRBMCNN           \u001b[0mEpoch 1: beta = 4.2596923828125\n",
      "\u001b[1m[16:30:10.038]\u001b[0m \u001b[1;95mINFO \u001b[1;0m  \u001b[1mmodels.autoencoders.gumboltAtlasPRBMCNN           \u001b[0mEpoch 2: beta = 4.0888720703125\n",
      "\u001b[1m[16:30:11.521]\u001b[0m \u001b[1;95mINFO \u001b[1;0m  \u001b[1mmodels.autoencoders.gumboltAtlasPRBMCNN           \u001b[0mEpoch 3: beta = 4.0026171875\n",
      "\u001b[1m[16:30:12.970]\u001b[0m \u001b[1;95mINFO \u001b[1;0m  \u001b[1mmodels.autoencoders.gumboltAtlasPRBMCNN           \u001b[0mEpoch 4: beta = 3.9325927734375004\n",
      "\u001b[1m[16:30:14.467]\u001b[0m \u001b[1;95mINFO \u001b[1;0m  \u001b[1mmodels.autoencoders.gumboltAtlasPRBMCNN           \u001b[0mEpoch 5: beta = 3.8882373046875003\n",
      "\u001b[1m[16:30:15.937]\u001b[0m \u001b[1;95mINFO \u001b[1;0m  \u001b[1mmodels.autoencoders.gumboltAtlasPRBMCNN           \u001b[0mEpoch 6: beta = 3.84841796875\n",
      "\u001b[1m[16:30:17.546]\u001b[0m \u001b[1;95mINFO \u001b[1;0m  \u001b[1mmodels.autoencoders.gumboltAtlasPRBMCNN           \u001b[0mEpoch 7: beta = 3.8278662109375\n"
     ]
    },
    {
     "name": "stdout",
     "output_type": "stream",
     "text": [
      "17\n"
     ]
    },
    {
     "name": "stderr",
     "output_type": "stream",
     "text": [
      "\u001b[1m[16:30:21.142]\u001b[0m \u001b[1;95mINFO \u001b[1;0m  \u001b[1mmodels.autoencoders.gumboltAtlasPRBMCNN           \u001b[0mEpoch 0: beta = 4.5\n",
      "\u001b[1m[16:30:22.738]\u001b[0m \u001b[1;95mINFO \u001b[1;0m  \u001b[1mmodels.autoencoders.gumboltAtlasPRBMCNN           \u001b[0mEpoch 1: beta = 4.296416015625\n",
      "\u001b[1m[16:30:24.233]\u001b[0m \u001b[1;95mINFO \u001b[1;0m  \u001b[1mmodels.autoencoders.gumboltAtlasPRBMCNN           \u001b[0mEpoch 2: beta = 4.1414794921875\n",
      "\u001b[1m[16:30:25.811]\u001b[0m \u001b[1;95mINFO \u001b[1;0m  \u001b[1mmodels.autoencoders.gumboltAtlasPRBMCNN           \u001b[0mEpoch 3: beta = 4.0561962890625\n",
      "\u001b[1m[16:30:27.270]\u001b[0m \u001b[1;95mINFO \u001b[1;0m  \u001b[1mmodels.autoencoders.gumboltAtlasPRBMCNN           \u001b[0mEpoch 4: beta = 3.9985058593750002\n",
      "\u001b[1m[16:30:28.844]\u001b[0m \u001b[1;95mINFO \u001b[1;0m  \u001b[1mmodels.autoencoders.gumboltAtlasPRBMCNN           \u001b[0mEpoch 5: beta = 3.9390429687500004\n",
      "\u001b[1m[16:30:30.549]\u001b[0m \u001b[1;95mINFO \u001b[1;0m  \u001b[1mmodels.autoencoders.gumboltAtlasPRBMCNN           \u001b[0mEpoch 6: beta = 3.8833349609375003\n",
      "\u001b[1m[16:30:32.012]\u001b[0m \u001b[1;95mINFO \u001b[1;0m  \u001b[1mmodels.autoencoders.gumboltAtlasPRBMCNN           \u001b[0mEpoch 7: beta = 3.8502099609375002\n",
      "\u001b[1m[16:30:33.504]\u001b[0m \u001b[1;95mINFO \u001b[1;0m  \u001b[1mmodels.autoencoders.gumboltAtlasPRBMCNN           \u001b[0mEpoch 8: beta = 3.8345263671875003\n"
     ]
    },
    {
     "name": "stdout",
     "output_type": "stream",
     "text": [
      "18\n"
     ]
    },
    {
     "name": "stderr",
     "output_type": "stream",
     "text": [
      "\u001b[1m[16:30:37.252]\u001b[0m \u001b[1;95mINFO \u001b[1;0m  \u001b[1mmodels.autoencoders.gumboltAtlasPRBMCNN           \u001b[0mEpoch 0: beta = 4.5\n",
      "\u001b[1m[16:30:38.702]\u001b[0m \u001b[1;95mINFO \u001b[1;0m  \u001b[1mmodels.autoencoders.gumboltAtlasPRBMCNN           \u001b[0mEpoch 1: beta = 4.238154296875\n",
      "\u001b[1m[16:30:40.188]\u001b[0m \u001b[1;95mINFO \u001b[1;0m  \u001b[1mmodels.autoencoders.gumboltAtlasPRBMCNN           \u001b[0mEpoch 2: beta = 4.097880859375\n",
      "\u001b[1m[16:30:41.642]\u001b[0m \u001b[1;95mINFO \u001b[1;0m  \u001b[1mmodels.autoencoders.gumboltAtlasPRBMCNN           \u001b[0mEpoch 3: beta = 4.02021484375\n",
      "\u001b[1m[16:30:43.195]\u001b[0m \u001b[1;95mINFO \u001b[1;0m  \u001b[1mmodels.autoencoders.gumboltAtlasPRBMCNN           \u001b[0mEpoch 4: beta = 3.9474511718749996\n",
      "\u001b[1m[16:30:44.677]\u001b[0m \u001b[1;95mINFO \u001b[1;0m  \u001b[1mmodels.autoencoders.gumboltAtlasPRBMCNN           \u001b[0mEpoch 5: beta = 3.8975585937499995\n",
      "\u001b[1m[16:30:46.241]\u001b[0m \u001b[1;95mINFO \u001b[1;0m  \u001b[1mmodels.autoencoders.gumboltAtlasPRBMCNN           \u001b[0mEpoch 6: beta = 3.8736962890624995\n",
      "\u001b[1m[16:30:47.746]\u001b[0m \u001b[1;95mINFO \u001b[1;0m  \u001b[1mmodels.autoencoders.gumboltAtlasPRBMCNN           \u001b[0mEpoch 7: beta = 3.8379296874999995\n",
      "\u001b[1m[16:30:49.214]\u001b[0m \u001b[1;95mINFO \u001b[1;0m  \u001b[1mmodels.autoencoders.gumboltAtlasPRBMCNN           \u001b[0mEpoch 8: beta = 3.8195312499999994\n",
      "\u001b[1m[16:30:50.692]\u001b[0m \u001b[1;95mINFO \u001b[1;0m  \u001b[1mmodels.autoencoders.gumboltAtlasPRBMCNN           \u001b[0mEpoch 9: beta = 3.7855078124999992\n",
      "\u001b[1m[16:30:52.197]\u001b[0m \u001b[1;95mINFO \u001b[1;0m  \u001b[1mmodels.autoencoders.gumboltAtlasPRBMCNN           \u001b[0mEpoch 10: beta = 3.775312499999999\n"
     ]
    },
    {
     "name": "stdout",
     "output_type": "stream",
     "text": [
      "19\n"
     ]
    },
    {
     "name": "stderr",
     "output_type": "stream",
     "text": [
      "\u001b[1m[16:30:56.323]\u001b[0m \u001b[1;95mINFO \u001b[1;0m  \u001b[1mmodels.autoencoders.gumboltAtlasPRBMCNN           \u001b[0mEpoch 0: beta = 4.5\n",
      "\u001b[1m[16:30:57.824]\u001b[0m \u001b[1;95mINFO \u001b[1;0m  \u001b[1mmodels.autoencoders.gumboltAtlasPRBMCNN           \u001b[0mEpoch 1: beta = 4.3270654296875\n",
      "\u001b[1m[16:30:59.416]\u001b[0m \u001b[1;95mINFO \u001b[1;0m  \u001b[1mmodels.autoencoders.gumboltAtlasPRBMCNN           \u001b[0mEpoch 2: beta = 4.199111328125\n",
      "\u001b[1m[16:31:00.972]\u001b[0m \u001b[1;95mINFO \u001b[1;0m  \u001b[1mmodels.autoencoders.gumboltAtlasPRBMCNN           \u001b[0mEpoch 3: beta = 4.1078076171875\n",
      "\u001b[1m[16:31:02.484]\u001b[0m \u001b[1;95mINFO \u001b[1;0m  \u001b[1mmodels.autoencoders.gumboltAtlasPRBMCNN           \u001b[0mEpoch 4: beta = 4.0291845703125\n",
      "\u001b[1m[16:31:03.945]\u001b[0m \u001b[1;95mINFO \u001b[1;0m  \u001b[1mmodels.autoencoders.gumboltAtlasPRBMCNN           \u001b[0mEpoch 5: beta = 3.9725439453125\n",
      "\u001b[1m[16:31:05.435]\u001b[0m \u001b[1;95mINFO \u001b[1;0m  \u001b[1mmodels.autoencoders.gumboltAtlasPRBMCNN           \u001b[0mEpoch 6: beta = 3.9059619140625004\n",
      "\u001b[1m[16:31:06.900]\u001b[0m \u001b[1;95mINFO \u001b[1;0m  \u001b[1mmodels.autoencoders.gumboltAtlasPRBMCNN           \u001b[0mEpoch 7: beta = 3.8886474609375004\n"
     ]
    }
   ],
   "source": [
    "beta_comparison = beta_est_stats(beta_comparison)"
   ]
  },
  {
   "cell_type": "code",
   "execution_count": 16,
   "id": "9ff5121d-262b-48f5-8261-fa5c218f99fa",
   "metadata": {
    "tags": []
   },
   "outputs": [],
   "source": [
    "# beta_comparison"
   ]
  },
  {
   "cell_type": "code",
   "execution_count": 16,
   "id": "940f202d-58b8-4872-ae27-c074ccb77e8b",
   "metadata": {
    "tags": []
   },
   "outputs": [
    {
     "name": "stdout",
     "output_type": "stream",
     "text": [
      "3.789006265877292 0.06530180613903588 5.8 1.5033296378372907\n",
      "3.930278970253018 0.07940003013481077 20.7 0.7810249675906654\n",
      "3.812247314453125 0.07450313141461452 9.65 1.9306734576307822\n"
     ]
    }
   ],
   "source": [
    "# beta_comparison[\"Method 2 Adaptive\"]\n",
    "print(beta_comparison[\"Method 2 Adaptive\"][\"beta_mean\"], beta_comparison[\"Method 2 Adaptive\"][\"beta_std\"], \n",
    "      beta_comparison[\"Method 2 Adaptive\"][\"iteration_mean\"], beta_comparison[\"Method 2 Adaptive\"][\"iteration_std\"])\n",
    "print(beta_comparison[\"Method 2 Fixed\"][\"beta_mean\"], beta_comparison[\"Method 2 Fixed\"][\"beta_std\"],\n",
    "     beta_comparison[\"Method 2 Fixed\"][\"iteration_mean\"], beta_comparison[\"Method 2 Fixed\"][\"iteration_std\"])\n",
    "print(beta_comparison[\"Method 1 Fixed\"][\"beta_mean\"], beta_comparison[\"Method 1 Fixed\"][\"beta_std\"],\n",
    "     beta_comparison[\"Method 1 Fixed\"][\"iteration_mean\"], beta_comparison[\"Method 1 Fixed\"][\"iteration_std\"])"
   ]
  },
  {
   "cell_type": "code",
   "execution_count": 17,
   "id": "1e75fefa-4689-4508-ba73-28848481b2bc",
   "metadata": {
    "tags": []
   },
   "outputs": [
    {
     "data": {
      "image/png": "[encoded data removed]",
      "text/plain": [
       "<Figure size 800x600 with 2 Axes>"
      ]
     },
     "metadata": {
      "image/png": {
       "height": 590,
       "width": 789
      }
     },
     "output_type": "display_data"
    }
   ],
   "source": [
    "\n",
    "# plt.figure()\n",
    "groups = list(np.sort([key for key in beta_comparison.keys() if key != \"modelname\"]))\n",
    "means = [beta_comparison[key][\"iteration_mean\"] for key in groups]\n",
    "std_devs = [beta_comparison[key][\"iteration_std\"] for key in groups]\n",
    "\n",
    "# Additional data for the overlay plot\n",
    "# For simplicity, let's use some random values for \"Metric B\" and its errors\n",
    "metric_b_values = [beta_comparison[key][\"beta_mean\"] for key in groups ]\n",
    "metric_b_errors = [beta_comparison[key][\"beta_std\"] for key in groups ]\n",
    "\n",
    "# Create the bar plot\n",
    "fig, ax1 = plt.subplots(figsize=(8,6))\n",
    "\n",
    "positions = np.arange(len(groups))\n",
    "width = 0.8  # Width of the bars\n",
    "\n",
    "bar_plot = ax1.bar(positions, means, width, yerr=std_devs, alpha=0.7, color='orange', capsize=5)\n",
    "\n",
    "# Set labels and aesthetics for the first y-axis\n",
    "ax1.set_ylabel('Mean Number of Iterations', fontsize=14)\n",
    "ax1.set_xticks(positions)\n",
    "ax1.set_xticklabels(groups, fontsize=14, rotation=0)  # Rotation for better label readability\n",
    "ax1.yaxis.grid(True)\n",
    "\n",
    "# Create a second y-axis for the overlay plot\n",
    "ax2 = ax1.twinx()\n",
    "\n",
    "# Plot the data for \"Metric B\" on the second y-axis with error bars\n",
    "line_plot = ax2.errorbar(positions, metric_b_values, yerr=metric_b_errors, fmt='--o', color='m', capsize=2)\n",
    "\n",
    "# Set the label for the second y-axis\n",
    "ax2.set_ylabel('mean β effective', color='m', fontsize=14)\n",
    "ax2.tick_params(axis='y', labelcolor='m')  # Set the color of the second y-axis ticks and label to red\n",
    "\n",
    "# Optionally, you can create a combined legend for both plots\n",
    "# lines, labels = ax1.get_legend_handles_labels()\n",
    "# lines2, labels2 = ax2.get_legend_handles_labels()\n",
    "# ax2.legend(lines + lines2, labels + labels2, loc='upper left')\n",
    "\n",
    "plt.tight_layout()  # Adjust the layout to make room for the labels\n",
    "plt.savefig(f'/home/javier/Projects/CaloQVAE/figs/beta_comparison_plot_Feb29_{modelname}.png', dpi=300)\n",
    "plt.show()\n",
    "\n"
   ]
  },
  {
   "cell_type": "code",
   "execution_count": 181,
   "id": "93e4e3bb-62da-4c37-9027-8ab1b5439383",
   "metadata": {
    "tags": []
   },
   "outputs": [
    {
     "name": "stdout",
     "output_type": "stream",
     "text": [
      "[0.0184971415201823, 0.020822142105832806, 0.004432515591899242]\n",
      "[0.026421768707372253, 0.025593344090970856, 0.006495744779569644]\n",
      "['Method 1 Fixed', 'Method 2 Adaptive', 'Method 2 Fixed']\n"
     ]
    }
   ],
   "source": [
    "print([np.mean([np.abs(beta_comparison[mthd][f'iteration_{i}']['beta'] - 4)/beta_comparison[mthd][f'iteration_{i}']['iterations'] for i in range(20)]) for mthd in groups])\n",
    "print([np.std([np.abs(beta_comparison[mthd][f'iteration_{i}']['beta'] - 4)/beta_comparison[mthd][f'iteration_{i}']['iterations'] for i in range(20)]) for mthd in groups])\n",
    "print(groups)\n",
    "    "
   ]
  },
  {
   "cell_type": "code",
   "execution_count": 18,
   "id": "34b14935-af99-4d78-bb69-0559eb8bd58d",
   "metadata": {
    "tags": []
   },
   "outputs": [
    {
     "data": {
      "image/png": "[encoded data removed]",
      "text/plain": [
       "<Figure size 800x600 with 2 Axes>"
      ]
     },
     "metadata": {
      "image/png": {
       "height": 590,
       "width": 790
      }
     },
     "output_type": "display_data"
    }
   ],
   "source": [
    "\n",
    "# plt.figure()\n",
    "groups = list(np.sort([key for key in beta_comparison.keys() if key != \"modelname\"]))\n",
    "means = [beta_comparison[key][\"iteration_mean\"] for key in groups]\n",
    "std_devs = [beta_comparison[key][\"iteration_std\"] for key in groups]\n",
    "\n",
    "# Additional data for the overlay plot\n",
    "# For simplicity, let's use some random values for \"Metric B\" and its errors\n",
    "metric_b_values = [np.mean([np.abs(beta_comparison[mthd][f'iteration_{i}']['beta'] - 4)/beta_comparison[mthd][f'iteration_{i}']['iterations'] for i in range(20)]) for mthd in groups]\n",
    "metric_b_errors = [np.std([np.abs(beta_comparison[mthd][f'iteration_{i}']['beta'] - 4)/beta_comparison[mthd][f'iteration_{i}']['iterations'] for i in range(20)]) for mthd in groups]\n",
    "\n",
    "# Create the bar plot\n",
    "fig, ax1 = plt.subplots(figsize=(8,6))\n",
    "\n",
    "positions = np.arange(len(groups))\n",
    "width = 0.8  # Width of the bars\n",
    "\n",
    "bar_plot = ax1.bar(positions, means, width, yerr=std_devs, alpha=0.7, color='orange', capsize=5)\n",
    "\n",
    "# Set labels and aesthetics for the first y-axis\n",
    "ax1.set_ylabel('Mean Number of Iterations', fontsize=14)\n",
    "ax1.set_xticks(positions)\n",
    "ax1.set_xticklabels(groups, fontsize=14, rotation=0)  # Rotation for better label readability\n",
    "ax1.yaxis.grid(True)\n",
    "\n",
    "# Create a second y-axis for the overlay plot\n",
    "ax2 = ax1.twinx()\n",
    "\n",
    "# Plot the data for \"Metric B\" on the second y-axis with error bars\n",
    "line_plot = ax2.errorbar(positions, metric_b_values, yerr=metric_b_errors, fmt='--o', color='m', capsize=2)\n",
    "\n",
    "# Set the label for the second y-axis\n",
    "ax2.set_ylabel('|Δβ|/# of iter', color='m', fontsize=14)\n",
    "ax2.tick_params(axis='y', labelcolor='m')  # Set the color of the second y-axis ticks and label to red\n",
    "\n",
    "# Optionally, you can create a combined legend for both plots\n",
    "# lines, labels = ax1.get_legend_handles_labels()\n",
    "# lines2, labels2 = ax2.get_legend_handles_labels()\n",
    "# ax2.legend(lines + lines2, labels + labels2, loc='upper left')\n",
    "\n",
    "plt.tight_layout()  # Adjust the layout to make room for the labels\n",
    "plt.savefig(f'/home/javier/Projects/CaloQVAE/figs/beta_comparison_plot_Feb29_{modelname}_2.png', dpi=300)\n",
    "plt.show()\n",
    "\n"
   ]
  },
  {
   "cell_type": "code",
   "execution_count": null,
   "id": "7d9f1d68-225a-464b-9e87-2c8964daedab",
   "metadata": {},
   "outputs": [],
   "source": []
  },
  {
   "cell_type": "code",
   "execution_count": null,
   "id": "f459128d-b16a-4924-b6fd-84022b06b3fa",
   "metadata": {},
   "outputs": [],
   "source": []
  },
  {
   "cell_type": "code",
   "execution_count": null,
   "id": "1820d722-ca85-4dd0-8827-1272a891cf6c",
   "metadata": {},
   "outputs": [],
   "source": []
  },
  {
   "cell_type": "code",
   "execution_count": null,
   "id": "3dff14d5-49eb-429f-9ea5-11927056c32a",
   "metadata": {
    "tags": []
   },
   "outputs": [],
   "source": []
  },
  {
   "cell_type": "code",
   "execution_count": 19,
   "id": "fb58c0ee-87f8-448c-bf47-ed08a4e7b2a7",
   "metadata": {
    "tags": []
   },
   "outputs": [],
   "source": [
    "Hoffset = -(sum([engine.model.prior.bias_dict[key].sum().detach().cpu().item() for key in engine.model.prior.bias_dict.keys()])/2 + sum([engine.model.prior.weight_dict[key].sum().detach().cpu().item() for key in engine.model.prior.weight_dict.keys()])/4)\n"
   ]
  },
  {
   "cell_type": "code",
   "execution_count": 20,
   "id": "648a2a7d-756c-451a-93f8-62de666c2f83",
   "metadata": {
    "tags": []
   },
   "outputs": [
    {
     "data": {
      "text/plain": [
       "3.8744198992606496"
      ]
     },
     "execution_count": 20,
     "metadata": {},
     "output_type": "execute_result"
    }
   ],
   "source": [
    "beta_comparison[\"Method 2 Adaptive\"][f'iteration_{1}']['beta']"
   ]
  },
  {
   "cell_type": "code",
   "execution_count": 22,
   "id": "97096694-96ab-4b00-b16f-399e2f0f8f64",
   "metadata": {
    "tags": []
   },
   "outputs": [
    {
     "data": {
      "image/png": "[encoded data removed]",
      "text/plain": [
       "<Figure size 800x600 with 1 Axes>"
      ]
     },
     "metadata": {
      "image/png": {
       "height": 477,
       "width": 721
      }
     },
     "output_type": "display_data"
    }
   ],
   "source": [
    "it = 9\n",
    "beta = beta_comparison[\"Method 2 Adaptive\"][f'iteration_{it}']['beta']\n",
    "plt.figure(figsize=(8,6))\n",
    "plt.hist(beta_comparison[\"Method 2 Adaptive\"][f'iteration_{it}']['rbm_energy_list'][-1] + Hoffset, density=True, color=\"b\")\n",
    "plt.hist(beta_comparison[\"Method 2 Adaptive\"][f'iteration_{it}']['dwave_energy_list'][-1] + Hoffset, density=True, fc=(1, 0, 1, 0.5))\n",
    "plt.xlabel(\"Ising Energy\", fontsize=15)\n",
    "plt.ylabel(\"PDF\", fontsize=15)\n",
    "plt.legend([\"RBM\", \"QPU\"], fontsize=17)\n",
    "plt.figtext(0.7, 0.6, f'βeff = {np.round(beta, 2)}', ha='center', va='top', fontsize=17, bbox=dict(facecolor='white', edgecolor='black', boxstyle='round,pad=1'))\n",
    "plt.subplots_adjust(bottom=0.2)\n",
    "plt.grid(\"True\")\n",
    "# plt.savefig(f'/home/javier/Projects/CaloQVAE/figs/{modelname}/Ising_energy_{modelname}_{arch}_{datascaled}_{part}.png')\n",
    "plt.show()"
   ]
  },
  {
   "cell_type": "code",
   "execution_count": 23,
   "id": "eff13c84-971d-4b9a-a6bd-d9c18b6c70be",
   "metadata": {
    "tags": []
   },
   "outputs": [],
   "source": [
    "# beta_comparison\n",
    "\n",
    "beta_comparison['modelname'] = modelname\n",
    "with open(f'/home/javier/Projects/CaloQVAE/figs/beta_comparison_Feb29_{modelname}.pickle', 'wb') as handle:\n",
    "    pickle.dump(beta_comparison, handle, protocol=pickle.HIGHEST_PROTOCOL)\n",
    "\n"
   ]
  },
  {
   "cell_type": "code",
   "execution_count": null,
   "id": "c6cde124-cfbd-4d63-92d6-9a65a6deb969",
   "metadata": {},
   "outputs": [],
   "source": [
    "#############LOAD"
   ]
  },
  {
   "cell_type": "code",
   "execution_count": 62,
   "id": "03721f02-e14c-46f0-b647-ab7e0fb3d001",
   "metadata": {
    "tags": []
   },
   "outputs": [],
   "source": [
    "# Loading the dictionary from the file\n",
    "with open('/home/javier/Projects/CaloQVAE/figs/beta_comparison.pickle', 'rb') as handle:\n",
    "    loaded_data = pickle.load(handle)"
   ]
  },
  {
   "cell_type": "code",
   "execution_count": 63,
   "id": "f58b5385-edf5-490e-80c7-cab879163131",
   "metadata": {
    "tags": []
   },
   "outputs": [
    {
     "data": {
      "text/plain": [
       "dict_keys(['Method 2 Adaptive', 'Method 2 Fixed', 'Method 1 Fixed', 'modelname'])"
      ]
     },
     "execution_count": 63,
     "metadata": {},
     "output_type": "execute_result"
    }
   ],
   "source": [
    "loaded_data.keys()"
   ]
  },
  {
   "cell_type": "code",
   "execution_count": 64,
   "id": "2aa3b908-059d-4729-844a-281f67443c9f",
   "metadata": {
    "tags": []
   },
   "outputs": [
    {
     "data": {
      "text/plain": [
       "'generous-elevator-301'"
      ]
     },
     "execution_count": 64,
     "metadata": {},
     "output_type": "execute_result"
    }
   ],
   "source": [
    "loaded_data['modelname']"
   ]
  },
  {
   "cell_type": "code",
   "execution_count": 113,
   "id": "c5592a12-5e58-432b-9589-26a79866e211",
   "metadata": {
    "tags": []
   },
   "outputs": [],
   "source": [
    "#################Load synthetic and test data"
   ]
  },
  {
   "cell_type": "code",
   "execution_count": 1,
   "id": "618ee4b0-53f5-4fe0-b78c-e0888a1d22f3",
   "metadata": {
    "tags": []
   },
   "outputs": [],
   "source": [
    "def load_hdf5_file(file_path):\n",
    "    data_dict = {}\n",
    "    # Open the HDF5 file\n",
    "    with h5py.File(file_path, 'r') as file:\n",
    "        # List all groups\n",
    "        print(\"Keys: %s\" % file.keys())\n",
    "        for key in file.keys():\n",
    "            data_dict[key] = torch.tensor(file[key][:])\n",
    "\n",
    "        a_group_key = list(file.keys())[0]\n",
    "    return data_dict"
   ]
  },
  {
   "cell_type": "code",
   "execution_count": 9,
   "id": "2a81dce4-2f07-41a1-885d-2e6a389361af",
   "metadata": {
    "tags": []
   },
   "outputs": [
    {
     "name": "stdout",
     "output_type": "stream",
     "text": [
      "Keys: <KeysViewHDF5 ['incidence energy', 'showers']>\n"
     ]
    }
   ],
   "source": [
    "# Replace 'your_file.h5' with the path to your HDF5 file\n",
    "file_path = '/raid/javier/Datasets/CaloVAE/data/synData/dataset2_synthetic_nohits.hdf5'\n",
    "data_dict = {}\n",
    "# Open the HDF5 file\n",
    "with h5py.File(file_path, 'r') as file:\n",
    "    # List all groups\n",
    "    print(\"Keys: %s\" % file.keys())\n",
    "    for key in file.keys():\n",
    "        data_dict[key] = torch.tensor(file[key][:])\n",
    "        \n",
    "    a_group_key = list(file.keys())[0]\n",
    "\n",
    "    # Get the data\n",
    "    # data = list(file[a_group_key])\n",
    "\n",
    "    # If you know the specific dataset you want to access, you can use\n",
    "    # dataset = file['dataset_name']  # 'dataset_name' is the name of your dataset\n",
    "    # data = dataset[:]  # Read the entire dataset\n",
    "\n",
    "    # Now, 'data' is a NumPy array containing the dataset's contents\n"
   ]
  },
  {
   "cell_type": "code",
   "execution_count": 10,
   "id": "17f47b6d-eb41-4ff2-8a91-f01d2ae09e6a",
   "metadata": {
    "tags": []
   },
   "outputs": [
    {
     "name": "stdout",
     "output_type": "stream",
     "text": [
      "Keys: <KeysViewHDF5 ['incidence energy', 'showers']>\n",
      "Keys: <KeysViewHDF5 ['incidence energy', 'showers']>\n",
      "Keys: <KeysViewHDF5 ['incident_energies', 'showers']>\n"
     ]
    }
   ],
   "source": [
    "data_syn = load_hdf5_file('/raid/javier/Datasets/CaloVAE/data/synData/dataset2_synthetic.hdf5')\n",
    "data_syn_nohits = load_hdf5_file('/raid/javier/Datasets/CaloVAE/data/synData/dataset2_synthetic_nohits.hdf5')\n",
    "data_test = load_hdf5_file('/raid/javier/Datasets/CaloVAE/data/atlas_dataset2and3/dataset_2_2.hdf5')"
   ]
  },
  {
   "cell_type": "code",
   "execution_count": 159,
   "id": "4cb0f6f9-06e7-4b49-bb30-104088b25b11",
   "metadata": {
    "tags": []
   },
   "outputs": [
    {
     "data": {
      "image/png": "[encoded data removed]",
      "text/plain": [
       "<Figure size 640x480 with 1 Axes>"
      ]
     },
     "metadata": {
      "image/png": {
       "height": 413,
       "width": 547
      }
     },
     "output_type": "display_data"
    },
    {
     "name": "stdout",
     "output_type": "stream",
     "text": [
      "torch.Size([44254])\n"
     ]
    }
   ],
   "source": [
    "data_test.keys()\n",
    "E_right = 20000\n",
    "E_left = 0\n",
    "tmp = (data_test['incident_energies'] < E_right) * (data_test['incident_energies'] > E_left)\n",
    "idxEnFilter_test = (tmp == True).nonzero(as_tuple=True)[0]\n",
    "\n",
    "tmp = (data_syn['incidence energy'] < E_right) * (data_syn['incidence energy'] > E_left)\n",
    "idxEnFilter_syn = (tmp == True).nonzero(as_tuple=True)[0]\n",
    "\n",
    "tmp = (data_syn_nohits['incidence energy'] < E_right) * (data_syn_nohits['incidence energy'] > E_left)\n",
    "idxEnFilter_syn_nohits = (tmp == True).nonzero(as_tuple=True)[0]\n",
    "\n",
    "plt.hist(data_test['showers'][idxEnFilter_test,:].sum(dim=1).numpy()/1000, bins=30, density=True, log=False, histtype='step', linewidth=2.5, color=\"b\")\n",
    "plt.hist(data_syn['showers'][idxEnFilter_syn,:].sum(dim=1).numpy()/1000 , bins=30, density=True, log=False, histtype='step', linewidth=2.5, color=\"m\", linestyle=\"dashdot\")\n",
    "plt.hist(data_syn_nohits['showers'][idxEnFilter_syn_nohits,:].sum(dim=1).numpy()/1000 , bins=30, density=True, log=False, histtype='step', linewidth=2.5, color=\"orange\", linestyle=\"dashed\")\n",
    "\n",
    "plt.show()\n",
    "print(idxEnFilter_syn.shape)"
   ]
  },
  {
   "cell_type": "code",
   "execution_count": 157,
   "id": "51cb2634-66e0-4dbb-8f49-56fa936cebda",
   "metadata": {
    "tags": []
   },
   "outputs": [
    {
     "data": {
      "text/plain": [
       "torch.Size([100000])"
      ]
     },
     "execution_count": 157,
     "metadata": {},
     "output_type": "execute_result"
    }
   ],
   "source": [
    "data_syn['showers'].sum(dim=1).shape"
   ]
  },
  {
   "cell_type": "code",
   "execution_count": 16,
   "id": "757903cd-6abd-41f2-a8d6-795cc471d3b9",
   "metadata": {},
   "outputs": [
    {
     "data": {
      "image/png": "[encoded data removed]",
      "text/plain": [
       "<Figure size 640x480 with 1 Axes>"
      ]
     },
     "metadata": {
      "image/png": {
       "height": 413,
       "width": 534
      }
     },
     "output_type": "display_data"
    }
   ],
   "source": [
    "plt.hist(data_test['showers'].sign()[100,:].numpy(), density=True)\n",
    "plt.show()"
   ]
  },
  {
   "cell_type": "code",
   "execution_count": 1,
   "id": "b629049e-5b29-4c4d-98bf-6a7daf62097d",
   "metadata": {},
   "outputs": [],
   "source": [
    "#flux bias"
   ]
  },
  {
   "cell_type": "code",
   "execution_count": 66,
   "id": "d9d092b4-9529-4369-9531-1a8637a3947a",
   "metadata": {
    "tags": []
   },
   "outputs": [],
   "source": [
    "# qpu.properties['num_qubits']\n",
    "beta=4.46"
   ]
  },
  {
   "cell_type": "code",
   "execution_count": 67,
   "id": "050143db-a53d-4a28-8e56-2917a5784559",
   "metadata": {
    "tags": []
   },
   "outputs": [],
   "source": [
    "_,_,_,_, dwave_weights_rbm, dwave_bias_rbm = engine.model.ising_model(1.0)\n",
    "h, J, qubit_idxs, idx_dict, _, _ = engine.model.ising_model(1.0 / beta)"
   ]
  },
  {
   "cell_type": "code",
   "execution_count": 75,
   "id": "853599c3-b6d1-4179-a2b9-286e5d5a9437",
   "metadata": {
    "tags": []
   },
   "outputs": [],
   "source": [
    "sampleset_no_flux_bias = engine.model._qpu_sampler.sample_ising(h, J, num_reads=10, auto_scale=False)"
   ]
  },
  {
   "cell_type": "code",
   "execution_count": 116,
   "id": "7eae2d31-30a6-4519-a810-3927311d8720",
   "metadata": {
    "tags": []
   },
   "outputs": [
    {
     "data": {
      "text/plain": [
       "array([-1, -1,  1, -1, -1, -1, -1, -1,  1, -1], dtype=int8)"
      ]
     },
     "execution_count": 116,
     "metadata": {},
     "output_type": "execute_result"
    }
   ],
   "source": [
    "sampleset_no_flux_bias.record[\"sample\"][:,1]"
   ]
  },
  {
   "cell_type": "code",
   "execution_count": 149,
   "id": "7f761c2c-f02b-4f6f-871b-b669d25c504d",
   "metadata": {
    "tags": []
   },
   "outputs": [
    {
     "data": {
      "text/plain": [
       "array([ 0.,  2., 10., 10., 10.,  9.,  9.,  0., 10., 10.,  0., 10., 10.,\n",
       "        9.,  0., 10.,  5.,  8.,  9.,  1., 10.,  7.,  0., 10., 10.,  0.,\n",
       "        1., 10., 10.,  0.,  0.,  0., 10., 10.,  5.,  1.,  0., 10., 10.,\n",
       "        9., 10.,  0., 10., 10., 10.,  0., 10.,  2.,  9., 10., 10., 10.])"
      ]
     },
     "execution_count": 149,
     "metadata": {},
     "output_type": "execute_result"
    }
   ],
   "source": [
    "(((sampleset_no_flux_bias.record[\"sample\"] + 1)/2.).sum(axis=0))[:52]"
   ]
  },
  {
   "cell_type": "code",
   "execution_count": 137,
   "id": "67a30302-7da0-47e7-8eed-d20d19ded3d6",
   "metadata": {
    "tags": []
   },
   "outputs": [],
   "source": [
    "h_sorted = list(h.keys())"
   ]
  },
  {
   "cell_type": "code",
   "execution_count": 139,
   "id": "9deb1462-954b-49ca-8f53-ff25d1cbf20c",
   "metadata": {
    "tags": []
   },
   "outputs": [],
   "source": [
    "h_sorted.sort()\n",
    "h_sorted;"
   ]
  },
  {
   "cell_type": "code",
   "execution_count": 158,
   "id": "d6683dd6-f362-4a93-8019-ccc5ba93f1dc",
   "metadata": {
    "tags": []
   },
   "outputs": [
    {
     "data": {
      "text/plain": [
       "array([1, 1, 1, 1, 1, 1, 1, 1, 1, 1], dtype=int8)"
      ]
     },
     "execution_count": 158,
     "metadata": {},
     "output_type": "execute_result"
    }
   ],
   "source": [
    "\n",
    "fb = [0]*engine.model._qpu_sampler.properties['num_qubits']\n",
    "for i in range(50):\n",
    "    fb[h_sorted[i]] = h_to_fluxbias(-50)\n",
    "\n",
    "sampleset = engine.model._qpu_sampler.sample_ising(h, J, num_reads=10, auto_scale=False, flux_drift_compensation=False, flux_biases=fb)\n",
    "sampleset.record[\"sample\"][:,1]"
   ]
  },
  {
   "cell_type": "code",
   "execution_count": 148,
   "id": "517f213d-2645-49b2-b144-96e9ccb8717e",
   "metadata": {
    "tags": []
   },
   "outputs": [
    {
     "data": {
      "text/plain": [
       "array([10., 10., 10., 10., 10., 10., 10., 10., 10., 10., 10., 10., 10.,\n",
       "       10., 10., 10., 10., 10., 10., 10., 10., 10., 10., 10., 10., 10.,\n",
       "       10., 10., 10., 10., 10., 10., 10., 10., 10., 10., 10., 10., 10.,\n",
       "       10., 10., 10., 10., 10., 10., 10., 10., 10., 10., 10., 10., 10.])"
      ]
     },
     "execution_count": 148,
     "metadata": {},
     "output_type": "execute_result"
    }
   ],
   "source": [
    "(((sampleset.record[\"sample\"] + 1)/2.).sum(axis=0))[:52]"
   ]
  },
  {
   "cell_type": "code",
   "execution_count": 141,
   "id": "a83c6c8a-76ff-4963-be4c-194683f0fe56",
   "metadata": {
    "tags": []
   },
   "outputs": [
    {
     "data": {
      "text/plain": [
       "<BarContainer object of 2048 artists>"
      ]
     },
     "execution_count": 141,
     "metadata": {},
     "output_type": "execute_result"
    },
    {
     "data": {
      "image/png": "[encoded data removed]",
      "text/plain": [
       "<Figure size 640x480 with 1 Axes>"
      ]
     },
     "metadata": {
      "image/png": {
       "height": 413,
       "width": 543
      }
     },
     "output_type": "display_data"
    }
   ],
   "source": [
    "plt.bar(range(2048), ((sampleset.record[\"sample\"] + 1)/2.).sum(axis=0))\n",
    "# plt.bar(range(2048), ((sampleset_no_flux_bias.record[\"sample\"] + 1)/2.).sum(axis=0), alpha=0.7)"
   ]
  },
  {
   "cell_type": "code",
   "execution_count": 154,
   "id": "19cdc064-ea1b-45ef-a4ff-f2fd078da33b",
   "metadata": {
    "tags": []
   },
   "outputs": [
    {
     "data": {
      "text/plain": [
       "0.04213226873001283"
      ]
     },
     "execution_count": 154,
     "metadata": {},
     "output_type": "execute_result"
    }
   ],
   "source": [
    "h_to_fluxbias(-100)"
   ]
  },
  {
   "cell_type": "code",
   "execution_count": null,
   "id": "06b28699-0b44-4a02-a7c6-b3bda4e0b0ae",
   "metadata": {},
   "outputs": [],
   "source": []
  }
 ],
 "metadata": {
  "kernelspec": {
   "display_name": "Python 3 (ipykernel)",
   "language": "python",
   "name": "python3"
  },
  "language_info": {
   "codemirror_mode": {
    "name": "ipython",
    "version": 3
   },
   "file_extension": ".py",
   "mimetype": "text/x-python",
   "name": "python",
   "nbconvert_exporter": "python",
   "pygments_lexer": "ipython3",
   "version": "3.11.4"
  }
 },
 "nbformat": 4,
 "nbformat_minor": 5
}
