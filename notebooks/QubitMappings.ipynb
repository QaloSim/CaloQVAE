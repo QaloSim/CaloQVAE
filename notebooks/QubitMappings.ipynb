{
 "cells": [
  {
   "cell_type": "code",
   "execution_count": 1,
   "id": "c798a6b7",
   "metadata": {},
   "outputs": [
    {
     "name": "stdout",
     "output_type": "stream",
     "text": [
      "/home/akajal/DiVAE\n"
     ]
    }
   ],
   "source": [
    "%cd .."
   ]
  },
  {
   "cell_type": "code",
   "execution_count": 2,
   "id": "7df05880",
   "metadata": {},
   "outputs": [
    {
     "name": "stderr",
     "output_type": "stream",
     "text": [
      "\u001b[1m[10:50:17.716]\u001b[0m \u001b[1;95mINFO \u001b[1;0m  \u001b[1mDiVAE                                             \u001b[0mWillkommen!\n",
      "\u001b[1m[10:50:17.718]\u001b[0m \u001b[1;95mINFO \u001b[1;0m  \u001b[1mDiVAE                                             \u001b[0mLoading configuration.\n",
      "2022-02-20 10:50:19,559 dwave.cloud \u001b[1;95mINFO \u001b[1;0m MainThread Log level for 'dwave.cloud' namespace set to 0\n",
      "\u001b[1m[10:50:19.559]\u001b[0m \u001b[1;95mINFO \u001b[1;0m  \u001b[1mdwave.cloud                                       \u001b[0mLog level for 'dwave.cloud' namespace set to 0\n"
     ]
    }
   ],
   "source": [
    "# Python imports\n",
    "import os\n",
    "import sys\n",
    "\n",
    "# Add the path to the parent directory to augment search for module\n",
    "sys.path.append(os.getcwd())\n",
    "# Add the path to the parent directory to augment search for module\n",
    "par_dir = os.path.abspath(os.path.join(os.getcwd(), os.pardir))\n",
    "if par_dir not in sys.path:\n",
    "    sys.path.append(par_dir)\n",
    "    \n",
    "# ML imports\n",
    "import torch\n",
    "import matplotlib.pyplot as plt\n",
    "import numpy as np\n",
    "\n",
    "# DiVAE imports\n",
    "from models.rbm.chimeraRBM import ChimeraRBM\n",
    "from models.rbm.rbm import RBM\n",
    "from models.samplers.pcd import PCD\n",
    "\n",
    "from utils import *\n",
    "\n",
    "# DWave imports\n",
    "from dwave.system import DWaveSampler, LeapHybridSampler\n",
    "import neal"
   ]
  },
  {
   "cell_type": "code",
   "execution_count": 3,
   "id": "ce24d1db",
   "metadata": {},
   "outputs": [
    {
     "name": "stderr",
     "output_type": "stream",
     "text": [
      "2022-02-20 10:50:37,106 dwave.cloud.client.base \u001b[1;95mINFO \u001b[1;0m MainThread Fetching definitions of all available solvers\n",
      "\u001b[1m[10:50:37.106]\u001b[0m \u001b[1;95mINFO \u001b[1;0m  \u001b[1mdwave.cloud.client.base                           \u001b[0mFetching definitions of all available solvers\n",
      "2022-02-20 10:50:37,921 dwave.cloud.client.base \u001b[1;95mINFO \u001b[1;0m MainThread Adding solver StructuredSolver(id='DW_2000Q_6')\n",
      "\u001b[1m[10:50:37.921]\u001b[0m \u001b[1;95mINFO \u001b[1;0m  \u001b[1mdwave.cloud.client.base                           \u001b[0mAdding solver StructuredSolver(id='DW_2000Q_6')\n",
      "2022-02-20 10:50:38,236 dwave.cloud.client.base \u001b[1;95mINFO \u001b[1;0m MainThread Adding solver StructuredSolver(id='Advantage_system4.1')\n",
      "\u001b[1m[10:50:38.236]\u001b[0m \u001b[1;95mINFO \u001b[1;0m  \u001b[1mdwave.cloud.client.base                           \u001b[0mAdding solver StructuredSolver(id='Advantage_system4.1')\n"
     ]
    }
   ],
   "source": [
    "qpu_sampler = DWaveSampler(solver={\"topology__type\":\"chimera\"})"
   ]
  },
  {
   "cell_type": "code",
   "execution_count": 6,
   "id": "e15f3d5d",
   "metadata": {},
   "outputs": [],
   "source": [
    "qpu_nodes = qpu_sampler.nodelist"
   ]
  },
  {
   "cell_type": "code",
   "execution_count": 9,
   "id": "41267ad8",
   "metadata": {},
   "outputs": [
    {
     "name": "stdout",
     "output_type": "stream",
     "text": [
      "[43, 46, 524, 548, 1723, 1735, 1804]\n"
     ]
    }
   ],
   "source": [
    "inactive_nodes = []\n",
    "for i in range(len(qpu_nodes)):\n",
    "    if i not in qpu_nodes:\n",
    "        inactive_nodes.append(i)\n",
    "        \n",
    "print(inactive_nodes)"
   ]
  },
  {
   "cell_type": "markdown",
   "id": "7616d73c",
   "metadata": {},
   "source": [
    "Inactive qubits are not included in the nodelist"
   ]
  },
  {
   "cell_type": "code",
   "execution_count": 8,
   "id": "e091bac3",
   "metadata": {},
   "outputs": [],
   "source": [
    "qpu_edges = qpu_sampler.edgelist"
   ]
  },
  {
   "cell_type": "code",
   "execution_count": 10,
   "id": "827d9c80",
   "metadata": {},
   "outputs": [],
   "source": [
    "for edge in qpu_edges:\n",
    "    if edge[0] in inactive_nodes or edge[1] in inactive_nodes:\n",
    "        print(edge)"
   ]
  },
  {
   "cell_type": "markdown",
   "id": "70b250a8",
   "metadata": {},
   "source": [
    "Edges originating from or leading to inactive qubits are not included in the edgelist"
   ]
  }
 ],
 "metadata": {
  "kernelspec": {
   "display_name": "Python 3 (ipykernel)",
   "language": "python",
   "name": "python3"
  },
  "language_info": {
   "codemirror_mode": {
    "name": "ipython",
    "version": 3
   },
   "file_extension": ".py",
   "mimetype": "text/x-python",
   "name": "python",
   "nbconvert_exporter": "python",
   "pygments_lexer": "ipython3",
   "version": "3.8.12"
  }
 },
 "nbformat": 4,
 "nbformat_minor": 5
}
