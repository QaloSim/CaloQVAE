{
 "cells": [
  {
   "cell_type": "code",
   "execution_count": 1,
   "metadata": {},
   "outputs": [
    {
     "name": "stdout",
     "output_type": "stream",
     "text": [
      "/home/akajal/CaloQVAE\n"
     ]
    }
   ],
   "source": [
    "%cd .."
   ]
  },
  {
   "cell_type": "code",
   "execution_count": 2,
   "metadata": {},
   "outputs": [],
   "source": [
    "!source source.me"
   ]
  },
  {
   "cell_type": "code",
   "execution_count": 3,
   "metadata": {},
   "outputs": [],
   "source": [
    "from models.rbm.pegasusRBM import PegasusRBM\n",
    "from models.samplers.pgbs import PGBS"
   ]
  },
  {
   "cell_type": "code",
   "execution_count": 33,
   "metadata": {},
   "outputs": [],
   "source": [
    "num_nodes = 1"
   ]
  },
  {
   "cell_type": "code",
   "execution_count": 34,
   "metadata": {},
   "outputs": [],
   "source": [
    "prbm = PegasusRBM(num_nodes)\n",
    "prbm_sampler = PGBS(prbm, 1, 1000)"
   ]
  },
  {
   "cell_type": "code",
   "execution_count": 35,
   "metadata": {},
   "outputs": [
    {
     "data": {
      "text/plain": [
       "(ParameterDict(\n",
       "     (01): Parameter containing: [torch.FloatTensor of size 1x1]\n",
       "     (02): Parameter containing: [torch.FloatTensor of size 1x1]\n",
       "     (03): Parameter containing: [torch.FloatTensor of size 1x1]\n",
       "     (12): Parameter containing: [torch.FloatTensor of size 1x1]\n",
       "     (13): Parameter containing: [torch.FloatTensor of size 1x1]\n",
       "     (23): Parameter containing: [torch.FloatTensor of size 1x1]\n",
       " ),\n",
       " ParameterDict(\n",
       "     (0): Parameter containing: [torch.FloatTensor of size 1]\n",
       "     (1): Parameter containing: [torch.FloatTensor of size 1]\n",
       "     (2): Parameter containing: [torch.FloatTensor of size 1]\n",
       "     (3): Parameter containing: [torch.FloatTensor of size 1]\n",
       " ))"
      ]
     },
     "execution_count": 35,
     "metadata": {},
     "output_type": "execute_result"
    }
   ],
   "source": [
    "prbm.weight_dict, prbm.bias_dict"
   ]
  },
  {
   "cell_type": "code",
   "execution_count": 36,
   "metadata": {},
   "outputs": [],
   "source": [
    "p0_state, p1_state, p2_state, p3_state = prbm_sampler.block_gibbs_sampling()"
   ]
  },
  {
   "cell_type": "code",
   "execution_count": 37,
   "metadata": {},
   "outputs": [
    {
     "data": {
      "text/plain": [
       "torch.Size([1, 1])"
      ]
     },
     "execution_count": 37,
     "metadata": {},
     "output_type": "execute_result"
    }
   ],
   "source": [
    "p0_state.size()"
   ]
  },
  {
   "cell_type": "code",
   "execution_count": 38,
   "metadata": {},
   "outputs": [
    {
     "data": {
      "text/plain": [
       "tensor([[1.]], grad_fn=<BernoulliBackward0>)"
      ]
     },
     "execution_count": 38,
     "metadata": {},
     "output_type": "execute_result"
    }
   ],
   "source": [
    "p1_state"
   ]
  },
  {
   "cell_type": "code",
   "execution_count": 39,
   "metadata": {},
   "outputs": [
    {
     "data": {
      "text/plain": [
       "odict_values([Parameter containing:\n",
       "tensor([[0.1523]], requires_grad=True), Parameter containing:\n",
       "tensor([[1.3502]], requires_grad=True), Parameter containing:\n",
       "tensor([[-1.0279]], requires_grad=True), Parameter containing:\n",
       "tensor([[-0.1919]], requires_grad=True), Parameter containing:\n",
       "tensor([[1.1312]], requires_grad=True), Parameter containing:\n",
       "tensor([[-1.4487]], requires_grad=True)])"
      ]
     },
     "execution_count": 39,
     "metadata": {},
     "output_type": "execute_result"
    }
   ],
   "source": [
    "prbm.weight_dict.values()"
   ]
  },
  {
   "cell_type": "code",
   "execution_count": null,
   "metadata": {},
   "outputs": [],
   "source": []
  }
 ],
 "metadata": {
  "kernelspec": {
   "display_name": "Python 3.8.12 ('base')",
   "language": "python",
   "name": "python3"
  },
  "language_info": {
   "codemirror_mode": {
    "name": "ipython",
    "version": 3
   },
   "file_extension": ".py",
   "mimetype": "text/x-python",
   "name": "python",
   "nbconvert_exporter": "python",
   "pygments_lexer": "ipython3",
   "version": "3.8.12"
  },
  "orig_nbformat": 4,
  "vscode": {
   "interpreter": {
    "hash": "d4d1e4263499bec80672ea0156c357c1ee493ec2b1c70f0acce89fc37c4a6abe"
   }
  }
 },
 "nbformat": 4,
 "nbformat_minor": 2
}
