{
 "cells": [
  {
   "cell_type": "code",
   "execution_count": 581,
   "id": "7d1fbfe5",
   "metadata": {},
   "outputs": [],
   "source": [
    "# imports\n",
    "import torch\n",
    "import keras\n",
    "from keras import layers\n",
    "from keras import models\n",
    "from keras import optimizers\n",
    "from keras.models import Sequential\n",
    "import numpy as np\n",
    "import tensorflow as tf\n",
    "import matplotlib.pyplot as plt\n",
    "from matplotlib.colors import LogNorm\n",
    "from keras.models import Model\n",
    "import torch.nn.functional as func \n",
    "# import the necessary packages\n",
    "import torch.nn as nn\n",
    "from torch.nn import Module\n",
    "from torch.nn import Conv1d\n",
    "from torch.nn import Conv2d\n",
    "from torch.nn import Linear\n",
    "from torch.nn import MaxPool2d\n",
    "from torch.nn import ReLU\n",
    "from torch.nn import LogSoftmax\n",
    "import torch.optim as optim\n",
    "from torch import flatten\n",
    "from torch.utils.data import TensorDataset, DataLoader\n",
    "import h5py"
   ]
  },
  {
   "cell_type": "code",
   "execution_count": 582,
   "id": "45006540",
   "metadata": {},
   "outputs": [],
   "source": [
    "f = h5py.File('/fast_scratch_1/QVAE/data/calo_scaled/piplus.hdf5', 'r')"
   ]
  },
  {
   "cell_type": "code",
   "execution_count": 583,
   "id": "1250e38d",
   "metadata": {},
   "outputs": [
    {
     "data": {
      "text/plain": [
       "['energy', 'layer_0', 'layer_1', 'layer_2', 'overflow']"
      ]
     },
     "execution_count": 583,
     "metadata": {},
     "output_type": "execute_result"
    }
   ],
   "source": [
    "list(f.keys())"
   ]
  },
  {
   "cell_type": "code",
   "execution_count": 554,
   "id": "8aebf468",
   "metadata": {},
   "outputs": [],
   "source": [
    "triumf_ml1_dir = '/home/s4hoque/DwaveSampInteg'\n",
    "# load data and process data\n",
    "# piplus path\n",
    "d1 = triumf_ml1_dir+'/CaloQVAE/outputs/2022-12-01/22-29-17/synthetic_images_piplus.pt'\n",
    "d2 = triumf_ml1_dir+'/CaloQVAE/outputs/2022-11-30/22-26-46/synthetic_images_eplus.pt'\n",
    "d1_data = torch.load(d1)\n",
    "d2_data = torch.load(d2)\n",
    "d1_tensor = torch.cat(d1_data) # not normalized\n",
    "d2_tensor = torch.cat(d2_data) # not normalized\n",
    "# define labels\n",
    "d1_labels = torch.ones(d1_tensor.size(0)) # ones\n",
    "d2_labels = torch.zeros(d2_tensor.size(0)) # zeros\n",
    "# concat data and labels\n",
    "inputs = torch.cat((d1_tensor, d2_tensor),dim=0)\n",
    "labels = torch.cat((d1_labels, d2_labels), dim=0)\n",
    "## NOT SHUFFLING HERE AS WE WANT TO SHUFFLE DIRECTLY THROUGH KERAS.FIT\n",
    "dataset = TensorDataset(inputs, labels)\n",
    "data_loader = DataLoader(dataset, shuffle=True, batch_size=inputs.size(0))\n",
    "inputs = next(iter(data_loader))[0]\n",
    "targets = next(iter(data_loader))[1]"
   ]
  },
  {
   "cell_type": "code",
   "execution_count": 555,
   "id": "788aa4cc",
   "metadata": {},
   "outputs": [
    {
     "name": "stdout",
     "output_type": "stream",
     "text": [
      "tensor([1., 0., 0.,  ..., 1., 0., 1.])\n"
     ]
    }
   ],
   "source": [
    "print(targets)"
   ]
  },
  {
   "cell_type": "code",
   "execution_count": 556,
   "id": "ab495d78",
   "metadata": {},
   "outputs": [],
   "source": [
    "# inputs = inputs.unsqueeze(-1)\n",
    "# inputs.size()"
   ]
  },
  {
   "cell_type": "code",
   "execution_count": 573,
   "id": "7f5ab56d",
   "metadata": {},
   "outputs": [],
   "source": [
    "class Net(nn.Module):\n",
    "    \"\"\"\n",
    "    This class builds the neural network structure with 3 layers.\n",
    "        Layer 1: num_features number of units\n",
    "        layer 2: num_hiddden_units=100 hidden units seem to work well\n",
    "        layer 3: num_classes=5 number of output classes\n",
    "    \"\"\"\n",
    "    def __init__(self, num_features, num_hiddden_units, num_classes):\n",
    "        super(Net, self).__init__() \n",
    "        self.fc1= nn.Linear(num_features, num_hiddden_units)\n",
    "        self.fc2= nn.Linear(num_hiddden_units, num_classes) \n",
    "    \n",
    "    def forward(self, x):\n",
    "        h1 = torch.relu(self.fc1(x))\n",
    "        h2 = func.dropout(self.fc2(h1),p=0.1)\n",
    "        #h8 = torch.tanh(self.fch7(h7)) \n",
    "        y = h2\n",
    "        return y\n",
    "\n",
    "    def reset(self):\n",
    "        self.fc1.reset_parameters()\n",
    "        self.fc2.reset_parameters()"
   ]
  },
  {
   "cell_type": "code",
   "execution_count": 574,
   "id": "afa31527",
   "metadata": {},
   "outputs": [],
   "source": [
    "model = Net(num_features=504, num_hiddden_units=20, num_classes=1)\n"
   ]
  },
  {
   "cell_type": "code",
   "execution_count": 575,
   "id": "076ae4de",
   "metadata": {},
   "outputs": [],
   "source": [
    "num_epochs=10000\n",
    "display_epochs=500"
   ]
  },
  {
   "cell_type": "code",
   "execution_count": 576,
   "id": "0e1014d1",
   "metadata": {},
   "outputs": [],
   "source": [
    "outp = model.forward(inputs)"
   ]
  },
  {
   "cell_type": "code",
   "execution_count": 579,
   "id": "76f094c4",
   "metadata": {},
   "outputs": [
    {
     "name": "stdout",
     "output_type": "stream",
     "text": [
      "Epoch [500/10000]\tTrain Loss :0.4989\t accuracy :50.0000%\n",
      "Epoch [1000/10000]\tTrain Loss :0.5002\t accuracy :49.9609%\n",
      "Epoch [1500/10000]\tTrain Loss :0.5003\t accuracy :49.9365%\n",
      "Epoch [2000/10000]\tTrain Loss :0.5018\t accuracy :49.7119%\n",
      "Epoch [2500/10000]\tTrain Loss :0.5013\t accuracy :49.8438%\n",
      "Epoch [3000/10000]\tTrain Loss :0.5027\t accuracy :49.6289%\n",
      "Epoch [3500/10000]\tTrain Loss :0.4986\t accuracy :50.2295%\n",
      "Epoch [4000/10000]\tTrain Loss :0.4995\t accuracy :50.0830%\n",
      "Epoch [4500/10000]\tTrain Loss :0.5001\t accuracy :50.0000%\n",
      "Epoch [5000/10000]\tTrain Loss :0.4987\t accuracy :50.0000%\n",
      "Epoch [5500/10000]\tTrain Loss :0.5004\t accuracy :49.9463%\n",
      "Epoch [6000/10000]\tTrain Loss :0.4998\t accuracy :50.0244%\n",
      "Epoch [6500/10000]\tTrain Loss :0.4980\t accuracy :50.2295%\n",
      "Epoch [7000/10000]\tTrain Loss :0.5008\t accuracy :49.9072%\n",
      "Epoch [7500/10000]\tTrain Loss :0.5007\t accuracy :50.0000%\n",
      "Epoch [8000/10000]\tTrain Loss :0.5011\t accuracy :50.0000%\n",
      "Epoch [8500/10000]\tTrain Loss :0.4996\t accuracy :50.0000%\n",
      "Epoch [9000/10000]\tTrain Loss :0.5005\t accuracy :50.0000%\n",
      "Epoch [9500/10000]\tTrain Loss :0.5004\t accuracy :50.0000%\n",
      "Epoch [10000/10000]\tTrain Loss :0.4994\t accuracy :50.0000%\n",
      "\n",
      "Training Completed\n"
     ]
    }
   ],
   "source": [
    "optimizer = optim.Adam(model.parameters(), lr=0.2)\n",
    "loss = torch.nn.L1Loss(reduction= 'mean')\n",
    "obj_vals= []  \n",
    "for epoch in range(num_epochs):   \n",
    "    model_output = model.forward(inputs).reshape(-1)\n",
    "    pred = (model_output>0.5).float()\n",
    "    diff_tensor =  pred - targets \n",
    "    diff_tensor = torch.abs(diff_tensor)\n",
    "    accuracy = 1-torch.sum(diff_tensor)/pred.size(0)\n",
    "    obj_val = loss(model_output, targets)\n",
    "    optimizer.zero_grad() \n",
    "    obj_val.backward() \n",
    "    optimizer.step() \n",
    "    obj_vals.append(obj_val.item())\n",
    "    if (epoch+1) % display_epochs == 0:\n",
    "        print ('Epoch [{}/{}]\\tTrain Loss :{:.4f}\\t accuracy :{:.4f}%'.format(epoch+1, num_epochs, obj_val.item(), accuracy*100))\n",
    "print(\"\\nTraining Completed\")"
   ]
  },
  {
   "cell_type": "code",
   "execution_count": null,
   "id": "62097b5c",
   "metadata": {},
   "outputs": [
    {
     "name": "stderr",
     "output_type": "stream",
     "text": [
      "--- Logging error ---\n",
      "Traceback (most recent call last):\n",
      "  File \"/opt/conda/lib/python3.8/site-packages/ipykernel/kernelbase.py\", line 461, in dispatch_queue\n",
      "    await self.process_one()\n",
      "  File \"/opt/conda/lib/python3.8/site-packages/ipykernel/kernelbase.py\", line 450, in process_one\n",
      "    await dispatch(*args)\n",
      "TypeError: object NoneType can't be used in 'await' expression\n",
      "\n",
      "During handling of the above exception, another exception occurred:\n",
      "\n",
      "Traceback (most recent call last):\n",
      "  File \"/opt/conda/lib/python3.8/logging/__init__.py\", line 1089, in emit\n",
      "    self.flush()\n",
      "  File \"/opt/conda/lib/python3.8/logging/__init__.py\", line 1069, in flush\n",
      "    self.stream.flush()\n",
      "OSError: [Errno 5] Input/output error\n",
      "Call stack:\n",
      "  File \"/opt/conda/lib/python3.8/runpy.py\", line 194, in _run_module_as_main\n",
      "    return _run_code(code, main_globals, None,\n",
      "  File \"/opt/conda/lib/python3.8/runpy.py\", line 87, in _run_code\n",
      "    exec(code, run_globals)\n",
      "  File \"/opt/conda/lib/python3.8/site-packages/ipykernel_launcher.py\", line 16, in <module>\n",
      "    app.launch_new_instance()\n",
      "  File \"/opt/conda/lib/python3.8/site-packages/traitlets/config/application.py\", line 846, in launch_instance\n",
      "    app.start()\n",
      "  File \"/opt/conda/lib/python3.8/site-packages/ipykernel/kernelapp.py\", line 677, in start\n",
      "    self.io_loop.start()\n",
      "  File \"/opt/conda/lib/python3.8/site-packages/tornado/platform/asyncio.py\", line 199, in start\n",
      "    self.asyncio_loop.run_forever()\n",
      "  File \"/opt/conda/lib/python3.8/asyncio/base_events.py\", line 570, in run_forever\n",
      "    self._run_once()\n",
      "  File \"/opt/conda/lib/python3.8/asyncio/base_events.py\", line 1859, in _run_once\n",
      "    handle._run()\n",
      "  File \"/opt/conda/lib/python3.8/asyncio/events.py\", line 81, in _run\n",
      "    self._context.run(self._callback, *self._args)\n",
      "  File \"/opt/conda/lib/python3.8/site-packages/ipykernel/kernelbase.py\", line 463, in dispatch_queue\n",
      "    self.log.exception(\"Error in message handler\")\n",
      "Message: 'Error in message handler'\n",
      "Arguments: ()\n"
     ]
    }
   ],
   "source": [
    "plt.plot(range(num_epochs), obj_vals)"
   ]
  },
  {
   "cell_type": "code",
   "execution_count": 362,
   "id": "215bdcd5",
   "metadata": {},
   "outputs": [
    {
     "data": {
      "text/plain": [
       "[<matplotlib.lines.Line2D at 0x7fbdf0651f40>]"
      ]
     },
     "execution_count": 362,
     "metadata": {},
     "output_type": "execute_result"
    },
    {
     "data": {
      "image/png": "[encoded data removed]",
      "text/plain": [
       "<Figure size 432x288 with 1 Axes>"
      ]
     },
     "metadata": {
      "needs_background": "light"
     },
     "output_type": "display_data"
    }
   ],
   "source": [
    "plt.plot(range(num_epochs), obj_vals)"
   ]
  },
  {
   "cell_type": "code",
   "execution_count": 446,
   "id": "814f1450",
   "metadata": {},
   "outputs": [
    {
     "ename": "IndexError",
     "evalue": "index 10200 is out of bounds for dimension 0 with size 8000",
     "output_type": "error",
     "traceback": [
      "\u001b[0;31m---------------------------------------------------------------------------\u001b[0m",
      "\u001b[0;31mIndexError\u001b[0m                                Traceback (most recent call last)",
      "Input \u001b[0;32mIn [446]\u001b[0m, in \u001b[0;36m<module>\u001b[0;34m\u001b[0m\n\u001b[1;32m      2\u001b[0m i \u001b[38;5;241m=\u001b[39m \u001b[38;5;241m10200\u001b[39m\n\u001b[1;32m      3\u001b[0m \u001b[38;5;28;01mwhile\u001b[39;00m i\u001b[38;5;241m<\u001b[39m\u001b[38;5;241m10400\u001b[39m:\n\u001b[0;32m----> 4\u001b[0m     \u001b[38;5;28mprint\u001b[39m(\u001b[38;5;124m\"\u001b[39m\u001b[38;5;124mout is \u001b[39m\u001b[38;5;132;01m{0}\u001b[39;00m\u001b[38;5;124m for label \u001b[39m\u001b[38;5;132;01m{1}\u001b[39;00m\u001b[38;5;124m\"\u001b[39m\u001b[38;5;241m.\u001b[39mformat(\u001b[43mfinal_out\u001b[49m\u001b[43m[\u001b[49m\u001b[43mi\u001b[49m\u001b[43m]\u001b[49m, labels[i]))\n\u001b[1;32m      5\u001b[0m     i \u001b[38;5;241m=\u001b[39m i \u001b[38;5;241m+\u001b[39m \u001b[38;5;241m1\u001b[39m\n",
      "\u001b[0;31mIndexError\u001b[0m: index 10200 is out of bounds for dimension 0 with size 8000"
     ]
    },
    {
     "name": "stderr",
     "output_type": "stream",
     "text": [
      "--- Logging error ---\n",
      "Traceback (most recent call last):\n",
      "  File \"/opt/conda/lib/python3.8/site-packages/ipykernel/kernelbase.py\", line 461, in dispatch_queue\n",
      "    await self.process_one()\n",
      "  File \"/opt/conda/lib/python3.8/site-packages/ipykernel/kernelbase.py\", line 450, in process_one\n",
      "    await dispatch(*args)\n",
      "TypeError: object NoneType can't be used in 'await' expression\n",
      "\n",
      "During handling of the above exception, another exception occurred:\n",
      "\n",
      "Traceback (most recent call last):\n",
      "  File \"/opt/conda/lib/python3.8/logging/__init__.py\", line 1089, in emit\n",
      "    self.flush()\n",
      "  File \"/opt/conda/lib/python3.8/logging/__init__.py\", line 1069, in flush\n",
      "    self.stream.flush()\n",
      "OSError: [Errno 5] Input/output error\n",
      "Call stack:\n",
      "  File \"/opt/conda/lib/python3.8/runpy.py\", line 194, in _run_module_as_main\n",
      "    return _run_code(code, main_globals, None,\n",
      "  File \"/opt/conda/lib/python3.8/runpy.py\", line 87, in _run_code\n",
      "    exec(code, run_globals)\n",
      "  File \"/opt/conda/lib/python3.8/site-packages/ipykernel_launcher.py\", line 16, in <module>\n",
      "    app.launch_new_instance()\n",
      "  File \"/opt/conda/lib/python3.8/site-packages/traitlets/config/application.py\", line 846, in launch_instance\n",
      "    app.start()\n",
      "  File \"/opt/conda/lib/python3.8/site-packages/ipykernel/kernelapp.py\", line 677, in start\n",
      "    self.io_loop.start()\n",
      "  File \"/opt/conda/lib/python3.8/site-packages/tornado/platform/asyncio.py\", line 199, in start\n",
      "    self.asyncio_loop.run_forever()\n",
      "  File \"/opt/conda/lib/python3.8/asyncio/base_events.py\", line 570, in run_forever\n",
      "    self._run_once()\n",
      "  File \"/opt/conda/lib/python3.8/asyncio/base_events.py\", line 1859, in _run_once\n",
      "    handle._run()\n",
      "  File \"/opt/conda/lib/python3.8/asyncio/events.py\", line 81, in _run\n",
      "    self._context.run(self._callback, *self._args)\n",
      "  File \"/opt/conda/lib/python3.8/site-packages/ipykernel/kernelbase.py\", line 463, in dispatch_queue\n",
      "    self.log.exception(\"Error in message handler\")\n",
      "Message: 'Error in message handler'\n",
      "Arguments: ()\n"
     ]
    }
   ],
   "source": [
    "final_out = model.forward(inputs)\n",
    "i = 10200\n",
    "while i<10400:\n",
    "    print(\"out is {0} for label {1}\".format(final_out[i], labels[i]))\n",
    "    i = i + 1"
   ]
  },
  {
   "cell_type": "code",
   "execution_count": null,
   "id": "bf1e5f27",
   "metadata": {},
   "outputs": [],
   "source": []
  }
 ],
 "metadata": {
  "kernelspec": {
   "display_name": "Python 3 (ipykernel)",
   "language": "python",
   "name": "python3"
  },
  "language_info": {
   "codemirror_mode": {
    "name": "ipython",
    "version": 3
   },
   "file_extension": ".py",
   "mimetype": "text/x-python",
   "name": "python",
   "nbconvert_exporter": "python",
   "pygments_lexer": "ipython3",
   "version": "3.8.12"
  }
 },
 "nbformat": 4,
 "nbformat_minor": 5
}
