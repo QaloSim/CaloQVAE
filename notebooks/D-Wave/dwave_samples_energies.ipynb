{
 "cells": [
  {
   "cell_type": "code",
   "execution_count": 1,
   "metadata": {},
   "outputs": [
    {
     "name": "stdout",
     "output_type": "stream",
     "text": [
      "env: DWAVE_API_TOKEN=\n"
     ]
    }
   ],
   "source": [
    "%env DWAVE_API_TOKEN= \n",
    "import torch\n",
    "from dwave.system import DWaveSampler"
   ]
  },
  {
   "cell_type": "code",
   "execution_count": 2,
   "metadata": {},
   "outputs": [],
   "source": [
    "def float_to_binary_list(num: float) -> list:\n",
    "    # \n",
    "    rounded_num = round(num)\n",
    "    \n",
    "    # \n",
    "    if rounded_num < 0:\n",
    "        raise ValueError(\"\")\n",
    "    \n",
    "    # '0b'\n",
    "    binary_str = bin(rounded_num)[2:]\n",
    "    \n",
    "    # \n",
    "    if len(binary_str) > 8:\n",
    "        raise ValueError(\"\")\n",
    "    \n",
    "    # \n",
    "    binary_list = [int(bit) for bit in binary_str.zfill(8)]\n",
    "    \n",
    "    return binary_list"
   ]
  },
  {
   "cell_type": "code",
   "execution_count": 3,
   "metadata": {},
   "outputs": [],
   "source": [
    "h = torch.load('h.pt')\n",
    "J = torch.load('J.pt')"
   ]
  },
  {
   "cell_type": "code",
   "execution_count": 41,
   "metadata": {},
   "outputs": [],
   "source": [
    "import numpy as np"
   ]
  },
  {
   "cell_type": "code",
   "execution_count": 50,
   "metadata": {},
   "outputs": [],
   "source": [
    "condition_energy_list = np.random.randint(0, 255, size=100)"
   ]
  },
  {
   "cell_type": "code",
   "execution_count": 51,
   "metadata": {},
   "outputs": [
    {
     "name": "stdout",
     "output_type": "stream",
     "text": [
      "[ 22 142 145 232  97 164  51  65   6 194 159 180  10  13 226   7  24 222\n",
      " 250  51 171 225 178 197  51 143 243  63  63  80 169 119   2  25 123  59\n",
      "  27  86  41 232 241 119  46 218 168 178 132 177 105 254 247 240  42  10\n",
      " 237 211 233 131  28   6 114  51  27 232  92 147 209 218  29 229  22 197\n",
      " 100 246  37 212  90 190 227  79  63  47  71  98 150 146 234 182  28 136\n",
      " 178 227  11   7 105 121  13 131 188 196]\n"
     ]
    }
   ],
   "source": [
    "print(condition_energy_list)"
   ]
  },
  {
   "cell_type": "code",
   "execution_count": 52,
   "metadata": {},
   "outputs": [],
   "source": [
    "conditioned_sample_energy_list = []\n",
    "for energy in condition_energy_list:\n",
    "    condition_energy_binary = float_to_binary_list(energy)\n",
    "    encoded_nodes_list = [3120, 3165, 3060, 3105, 3000, 3045, 3300, 3345]\n",
    "    for i, node in enumerate(encoded_nodes_list):\n",
    "        h[node] = -8.0* condition_energy_binary[i] + 4.0\n",
    "\n",
    "    qpu_sampler = DWaveSampler(solver={'topology__type': 'pegasus',  \"chip_id\":\"Advantage_system6.4\"})\n",
    "    response = qpu_sampler.sample_ising(h, J, num_reads=1, auto_scale=False)\n",
    "    batch_samples, batch_energies = response.record['sample'], response.record['energy']\n",
    "    qubit_idxs = response.variables\n",
    "\n",
    "    condition_state_samples = []\n",
    "    for state in batch_samples:\n",
    "        for node in encoded_nodes_list:\n",
    "            where = torch.where(torch.tensor(qubit_idxs) == node)[0][0].item()\n",
    "            condition_state_samples.append(int((state[where]+1)/2))\n",
    "\n",
    "    binary_str = ''.join(str(bit) for bit in condition_state_samples)\n",
    "    conditioned_sample_energy = int(binary_str, 2)\n",
    "    conditioned_sample_energy_list.append(conditioned_sample_energy)"
   ]
  },
  {
   "cell_type": "code",
   "execution_count": 53,
   "metadata": {},
   "outputs": [
    {
     "name": "stdout",
     "output_type": "stream",
     "text": [
      "[22, 142, 145, 232, 97, 164, 51, 65, 6, 194, 159, 180, 10, 13, 226, 7, 24, 222, 250, 51, 171, 225, 178, 197, 51, 143, 243, 63, 63, 80, 169, 119, 2, 25, 123, 59, 27, 86, 41, 232, 241, 119, 46, 218, 168, 178, 132, 177, 105, 254, 247, 240, 42, 10, 237, 211, 233, 131, 28, 6, 114, 51, 27, 232, 92, 147, 209, 218, 29, 229, 22, 197, 100, 246, 37, 212, 90, 190, 227, 79, 63, 47, 71, 98, 150, 146, 234, 182, 28, 136, 178, 227, 11, 7, 105, 121, 13, 131, 188, 196]\n"
     ]
    }
   ],
   "source": [
    "print(conditioned_sample_energy_list)"
   ]
  },
  {
   "cell_type": "code",
   "execution_count": 85,
   "metadata": {},
   "outputs": [
    {
     "name": "stdout",
     "output_type": "stream",
     "text": [
      "Success!\n"
     ]
    }
   ],
   "source": [
    "if np.array_equal(condition_energy_list, conditioned_sample_energy_list):\n",
    "    print(\"Success!\")\n"
   ]
  },
  {
   "cell_type": "code",
   "execution_count": 70,
   "metadata": {},
   "outputs": [],
   "source": [
    "\n",
    "condition_energy_binary = float_to_binary_list(139)\n",
    "encoded_nodes_list = [3120, 3165, 3060, 3105, 3000, 3045, 3300, 3345]\n",
    "for i, node in enumerate(encoded_nodes_list):\n",
    "    h[node] = -8.0* condition_energy_binary[i] + 4.0\n",
    "\n",
    "qpu_sampler = DWaveSampler(solver={'topology__type': 'pegasus',  \"chip_id\":\"Advantage_system6.4\"})\n",
    "response = qpu_sampler.sample_ising(h, J, num_reads=100, auto_scale=False)\n",
    "batch_samples, batch_energies = response.record['sample'], response.record['energy']\n",
    "qubit_idxs = response.variables\n"
   ]
  },
  {
   "cell_type": "code",
   "execution_count": 75,
   "metadata": {},
   "outputs": [
    {
     "name": "stdout",
     "output_type": "stream",
     "text": [
      "The number of unmatched conditioned energies in 100 samples: 0\n"
     ]
    }
   ],
   "source": [
    "wrong_number = 0\n",
    "for state in batch_samples:\n",
    "    condition_state_samples = []\n",
    "    for node in encoded_nodes_list:\n",
    "        where = torch.where(torch.tensor(qubit_idxs) == node)[0][0].item()\n",
    "        condition_state_samples.append(int((state[where]+1)/2))\n",
    "    binary_str = ''.join(str(bit) for bit in condition_state_samples)\n",
    "    conditioned_sample_energy = int(binary_str, 2)\n",
    "    if conditioned_sample_energy != 139:\n",
    "        wrong_number += 1\n",
    "print('The number of unmatched conditioned energies in 100 samples:', wrong_number)"
   ]
  },
  {
   "cell_type": "code",
   "execution_count": null,
   "metadata": {},
   "outputs": [],
   "source": []
  }
 ],
 "metadata": {
  "kernelspec": {
   "display_name": "Python 3 (ipykernel)",
   "language": "python",
   "name": "python3"
  }
 },
 "nbformat": 4,
 "nbformat_minor": 4
}
