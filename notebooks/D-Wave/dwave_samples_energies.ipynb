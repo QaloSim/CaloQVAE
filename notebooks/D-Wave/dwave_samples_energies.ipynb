{
 "cells": [
  {
   "cell_type": "code",
   "execution_count": 1,
   "metadata": {},
   "outputs": [
    {
     "name": "stdout",
     "output_type": "stream",
     "text": [
      "env: DWAVE_API_TOKEN=DEV-ce582a09e21b2c15efc34a3001afcf1ef956bd03\n"
     ]
    }
   ],
   "source": [
    "%env DWAVE_API_TOKEN='token'\n",
    "import torch\n",
    "from dwave.system import DWaveSampler"
   ]
  },
  {
   "cell_type": "code",
   "execution_count": 2,
   "metadata": {},
   "outputs": [],
   "source": [
    "h = torch.load('h.pt')\n",
    "J = torch.load('J.pt')"
   ]
  },
  {
   "cell_type": "code",
   "execution_count": 3,
   "metadata": {},
   "outputs": [],
   "source": [
    "qpu_sampler = DWaveSampler(solver={'topology__type': 'pegasus',  \"chip_id\":\"Advantage_system6.4\", 'answer_mode': 'raw'})\n",
    "response = qpu_sampler.sample_ising(h, J, num_reads=10, answer_mode= 'raw', auto_scale=False)"
   ]
  },
  {
   "cell_type": "code",
   "execution_count": 4,
   "metadata": {},
   "outputs": [
    {
     "name": "stdout",
     "output_type": "stream",
     "text": [
      "-1307.6231620865194\n",
      "-1306.7724908812572\n",
      "-1303.2416792706838\n",
      "-1302.7441700129323\n",
      "-1301.620558783373\n",
      "-1300.9407198844613\n",
      "-1299.6386143258908\n",
      "-1298.6267541723112\n",
      "-1297.972201769894\n",
      "-1295.8258275064425\n"
     ]
    }
   ],
   "source": [
    "for sample_info in response.data():\n",
    "        sample_energy = sample_info[1]\n",
    "        print(sample_energy)"
   ]
  },
  {
   "cell_type": "code",
   "execution_count": null,
   "metadata": {},
   "outputs": [],
   "source": []
  }
 ],
 "metadata": {
  "kernelspec": {
   "display_name": "Python 3 (ipykernel)",
   "language": "python",
   "name": "python3"
  },
  "language_info": {
   "codemirror_mode": {
    "name": "ipython",
    "version": 3
   },
   "file_extension": ".py",
   "mimetype": "text/x-python",
   "name": "python",
   "nbconvert_exporter": "python",
   "pygments_lexer": "ipython3",
   "version": "3.10.12"
  }
 },
 "nbformat": 4,
 "nbformat_minor": 4
}
