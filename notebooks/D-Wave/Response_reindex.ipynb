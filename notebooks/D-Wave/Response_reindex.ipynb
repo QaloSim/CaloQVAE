{
 "cells": [
  {
   "cell_type": "code",
   "execution_count": 1,
   "metadata": {},
   "outputs": [
    {
     "name": "stdout",
     "output_type": "stream",
     "text": [
      "/home/blazerjia/beta_estimation/CaloQVAE/notebooks\n",
      "env: DWAVE_API_TOKEN=DEV-ce582a09e21b2c15efc34a3001afcf1ef956bd03\n",
      "/home/blazerjia/beta_estimation/CaloQVAE/notebooks/D-Wave\n"
     ]
    }
   ],
   "source": [
    "%cd ..\n",
    "# %cd ..\n",
    "%env DWAVE_API_TOKEN=[]\n",
    "# !source source.me\n",
    "\n",
    "import os\n",
    "from PIL import Image\n",
    "import json\n",
    "import sys\n",
    "import time\n",
    "import numpy as np\n",
    "import matplotlib.pyplot as plt\n",
    "# Add the path to the parent directory to augment search for module\n",
    "sys.path.append(os.getcwd())\n",
    "# Add the path to the parent directory to augment search for module\n",
    "par_dir = os.path.abspath(os.path.join(os.getcwd(), os.pardir))\n",
    "if par_dir not in sys.path:\n",
    "    sys.path.append(par_dir)\n",
    "import torch\n",
    "from torch import nn\n",
    "import matplotlib.pyplot as plt\n",
    "\n",
    "from hydra import initialize, compose\n",
    "from nbutils import *\n",
    "from dwave.system import DWaveSampler\n",
    "%cd D-Wave"
   ]
  },
  {
   "cell_type": "code",
   "execution_count": 2,
   "metadata": {},
   "outputs": [],
   "source": [
    "def rank_elements(lst):\n",
    "    arr = np.array(lst)\n",
    "    temp = np.argsort(arr)\n",
    "    ranks = np.empty_like(temp)\n",
    "    ranks[temp] = np.arange(len(arr))\n",
    "    return ranks.tolist()\n",
    "    \n",
    "def reorder_dwave_samples(samples, reorder_index):\n",
    "    reordered_samples = []\n",
    "    for sample in samples:\n",
    "        reordered_sample = sample[reorder_index]\n",
    "        reordered_samples.append(reordered_sample)\n",
    "    return np.array(reordered_samples)"
   ]
  },
  {
   "cell_type": "code",
   "execution_count": 3,
   "metadata": {},
   "outputs": [],
   "source": [
    "gpu = 3\n",
    "device = torch.device(f\"cuda:{gpu}\" if torch.cuda.is_available() else \"cpu\")\n",
    "h = torch.load(\"h.pt\")\n",
    "J = torch.load(\"J.pt\")\n",
    "qubit_idxs = torch.load(\"qubit_idxs.pt\")\n",
    "idx_dict = torch.load(\"idx_dict.pt\")\n",
    "dwave_weights = torch.load(\"dwave_weights.pt\")\n",
    "dwave_bias = torch.load(\"dwave_bias.pt\")\n",
    "qpu_sampler = DWaveSampler(solver={'topology__type': 'pegasus',  \"chip_id\":\"Advantage_system6.4\"})\n"
   ]
  },
  {
   "cell_type": "code",
   "execution_count": 4,
   "metadata": {},
   "outputs": [
    {
     "name": "stdout",
     "output_type": "stream",
     "text": [
      "Time for ranking elements: 0.000682 seconds\n",
      "Time for QPU sampling: 0.128283 seconds\n",
      "Time for Loading samples: 1.073885 seconds\n",
      "Time for re-indexing D-Wave samples in new way: 0.011771 seconds\n",
      "Time for re-indexing D-Wave samples in old way: 0.221501 seconds\n"
     ]
    }
   ],
   "source": [
    "N_read = 128\n",
    "start_time = time.time()\n",
    "\n",
    "# This reorder index is only need to be calculated once, we can even do this during training when we have the qubit_idxs and save it to model.\n",
    "reorder_index = rank_elements(qubit_idxs)\n",
    "print(\"Time for ranking elements: {:.6f} seconds\".format(time.time() - start_time))\n",
    "\n",
    "start_time = time.time()\n",
    "\n",
    "response = qpu_sampler.sample_ising(h, J, num_reads=N_read, answer_mode='raw', auto_scale=False)\n",
    "print(\"Time for QPU sampling: {:.6f} seconds\".format(time.time() - start_time))\n",
    "\n",
    "start_time = time.time()\n",
    "samples = response.record['sample']\n",
    "print(\"Time for Loading samples: {:.6f} seconds\".format(time.time() - start_time))\n",
    "\n",
    "start_time = time.time()\n",
    "\n",
    "reordered_samples = reorder_dwave_samples(samples, reorder_index)\n",
    "print(\"Time for re-indexing D-Wave samples in new way: {:.6f} seconds\".format(time.time() - start_time))\n",
    "\n",
    "start_time = time.time()\n",
    "\n",
    "dwave_samples, dwave_energies = batch_dwave_samples(response, qubit_idxs)\n",
    "print(\"Time for re-indexing D-Wave samples in old way: {:.6f} seconds\".format(time.time() - start_time))\n",
    "\n",
    "\n",
    "\n",
    "N = 10\n",
    "optimized_times = []\n",
    "for i in range(N):\n",
    "    start_time = time.time()\n",
    "\n",
    "    reordered_samples = reorder_dwave_samples(samples, reorder_index)\n",
    "    optimized_times.append(time.time() - start_time)\n",
    "\n",
    "old_times = []\n",
    "for i in range(N):\n",
    "    start_time = time.time()\n",
    "\n",
    "    dwave_samples, dwave_energies = batch_dwave_samples(response, qubit_idxs)\n",
    "    old_times.append(time.time() - start_time)\n",
    "\n"
   ]
  },
  {
   "cell_type": "code",
   "execution_count": 5,
   "metadata": {},
   "outputs": [
    {
     "data": {
      "image/png": "[encoded data removed]",
      "text/plain": [
       "<Figure size 640x480 with 1 Axes>"
      ]
     },
     "metadata": {},
     "output_type": "display_data"
    }
   ],
   "source": [
    "list1 = np.array(optimized_times)/N_read\n",
    "list2 = np.array(old_times)/N_read\n",
    "\n",
    "mean1, std1 = np.mean(list1), np.std(list1)\n",
    "mean2, std2 = np.mean(list2), np.std(list2)\n",
    "\n",
    "\n",
    "labels = ['Optimized Batching Rate', 'Old Batching Rate']\n",
    "\n",
    "x = np.arange(len(labels)) \n",
    "width = 0.45\n",
    "\n",
    "fig, ax = plt.subplots()\n",
    "rects200 = ax.bar(x[0], mean1, width, yerr=std1, capsize=10, color='green')\n",
    "rects201 = ax.bar(x[1], mean2, width, yerr=std2, capsize=10 , color='red')\n",
    "ax.set_xlim(-0.8, 1.8)\n",
    "ax.set_ylabel('Rate (s/sample)')\n",
    "ax.set_xticks(x)\n",
    "ax.set_xticklabels(labels)\n",
    "\n",
    "plt.show()"
   ]
  },
  {
   "cell_type": "code",
   "execution_count": 6,
   "metadata": {},
   "outputs": [
    {
     "data": {
      "text/plain": [
       "[0.20971989631652832,\n",
       " 0.2091212272644043,\n",
       " 0.2092740535736084,\n",
       " 0.21212363243103027,\n",
       " 0.21929168701171875,\n",
       " 0.2129499912261963,\n",
       " 0.20316529273986816,\n",
       " 0.20914602279663086,\n",
       " 0.21752500534057617,\n",
       " 0.21078038215637207]"
      ]
     },
     "execution_count": 6,
     "metadata": {},
     "output_type": "execute_result"
    }
   ],
   "source": [
    "old_times"
   ]
  },
  {
   "cell_type": "code",
   "execution_count": 7,
   "metadata": {},
   "outputs": [
    {
     "data": {
      "text/plain": [
       "[0.011144161224365234,\n",
       " 0.010854959487915039,\n",
       " 0.010768651962280273,\n",
       " 0.010637998580932617,\n",
       " 0.01038503646850586,\n",
       " 0.010448932647705078,\n",
       " 0.010232686996459961,\n",
       " 0.01003265380859375,\n",
       " 0.010140180587768555,\n",
       " 0.01023101806640625]"
      ]
     },
     "execution_count": 7,
     "metadata": {},
     "output_type": "execute_result"
    }
   ],
   "source": [
    "optimized_times"
   ]
  },
  {
   "cell_type": "code",
   "execution_count": null,
   "metadata": {},
   "outputs": [],
   "source": []
  }
 ],
 "metadata": {
  "kernelspec": {
   "display_name": "Python 3 (ipykernel)",
   "language": "python",
   "name": "python3"
  },
  "language_info": {
   "codemirror_mode": {
    "name": "ipython",
    "version": 3
   },
   "file_extension": ".py",
   "mimetype": "text/x-python",
   "name": "python",
   "nbconvert_exporter": "python",
   "pygments_lexer": "ipython3",
   "version": "3.10.12"
  }
 },
 "nbformat": 4,
 "nbformat_minor": 4
}
