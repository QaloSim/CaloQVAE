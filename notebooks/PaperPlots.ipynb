{
 "cells": [
  {
   "cell_type": "code",
   "execution_count": 1,
   "id": "2363a3c3",
   "metadata": {},
   "outputs": [],
   "source": [
    "# Python imports\n",
    "import os\n",
    "import sys\n",
    "import time\n",
    "\n",
    "# Add the path to the parent directory to augment search for module\n",
    "sys.path.append(os.getcwd())\n",
    "# Add the path to the parent directory to augment search for module\n",
    "par_dir = os.path.abspath(os.path.join(os.getcwd(), os.pardir))\n",
    "if par_dir not in sys.path:\n",
    "    sys.path.append(par_dir)\n",
    "    \n",
    "# ML imports\n",
    "import torch\n",
    "import matplotlib.pyplot as plt\n",
    "import numpy as np\n",
    "\n",
    "from nbutils import *\n",
    "\n",
    "# Extra imports for image and data processing\n",
    "from PIL import Image, ImageDraw\n",
    "import json"
   ]
  },
  {
   "cell_type": "code",
   "execution_count": 89,
   "id": "134a6953",
   "metadata": {},
   "outputs": [],
   "source": [
    "# Can be used for recovering energy distribution data for further processing/cleaning\n",
    "triumf_ml1_dir = '/home/s4hoque/DwaveSampInteg'\n",
    "recover_dir = triumf_ml1_dir+'/CaloQVAE/outputs/2022-11-30/22-26-46/beta_estimation_data'\n",
    "#recover_dir = triumf_ml1_dir+'/CaloQVAE/outputs/2022-12-01/22-29-17/beta_estimation_data'"
   ]
  },
  {
   "cell_type": "code",
   "execution_count": 90,
   "id": "ac68254d",
   "metadata": {},
   "outputs": [],
   "source": [
    "ising_weights, ising_vbias, ising_hbias, aux_crbm_energy_exps, dwave_energies, betas= recover_saved_parameters(recover_dir, nb_data=0)"
   ]
  },
  {
   "cell_type": "code",
   "execution_count": 133,
   "id": "b77b6c81",
   "metadata": {},
   "outputs": [],
   "source": [
    "def plot_paper_energies(energies1, energies2, binwidth=2.2, beta=None, save_image=False):\n",
    "    \"\"\"\n",
    "    Plot the energies of the samples produced by the histograms   \n",
    "    UPDATE: bin now found using bin boundaries\n",
    "    \"\"\"\n",
    "    fig, ax = plt.subplots(figsize=(40, 20))\n",
    "    data = np.concatenate((energies1,energies2), axis=0)\n",
    "    bins =  np.arange(min(data), max(data) + binwidth, binwidth)\n",
    "    ax.hist(energies1, bins=bins, label = \"QPU Samples\", edgecolor='darkblue', linewidth=2, color = \"white\",  histtype='stepfilled', density=True)  \n",
    "    ax.hist(energies2, bins=bins, label = \"Classical Samples\", alpha=0.2, density=True) \n",
    "    plt.legend(loc='upper right', fontsize=60)\n",
    "    if (beta!=None):\n",
    "        plt.title(r'$\\beta_{eff}^{*} = $'+format(beta,'.3f'), fontsize = 60)\n",
    "    ax.set_xlabel(\"Energy\", fontsize=85)\n",
    "    ax.set_ylabel(\"Solution Probabilities\", fontsize=85, labelpad=30)\n",
    "    \n",
    "    ax.tick_params(axis='both', which='major', labelsize=70)\n",
    "    ax.grid(True)\n",
    "    plt. grid(False)\n",
    "#     if (save_image==False): \n",
    "#         plt.show()\n",
    "    plt.savefig(\"energy_histogram.jpeg\")\n",
    "    #plt.show()\n",
    "    plt.close()\n",
    "    #return fig"
   ]
  },
  {
   "cell_type": "code",
   "execution_count": 134,
   "id": "94bc64ce",
   "metadata": {},
   "outputs": [],
   "source": [
    "plot_paper_energies(dwave_energies[2], aux_crbm_energy_exps)"
   ]
  },
  {
   "cell_type": "code",
   "execution_count": null,
   "id": "3a7a4fb7",
   "metadata": {},
   "outputs": [],
   "source": [
    "len(aux_crbm_energy_exps)"
   ]
  },
  {
   "cell_type": "code",
   "execution_count": null,
   "id": "c00f0e1d",
   "metadata": {},
   "outputs": [],
   "source": [
    "# len(aux_crbm_energy_exps) -> 1024\n",
    "# len(dwave_energies) -> 3\n",
    "# len(dwave_energies[2]) -> 1024"
   ]
  }
 ],
 "metadata": {
  "kernelspec": {
   "display_name": "Python 3 (ipykernel)",
   "language": "python",
   "name": "python3"
  },
  "language_info": {
   "codemirror_mode": {
    "name": "ipython",
    "version": 3
   },
   "file_extension": ".py",
   "mimetype": "text/x-python",
   "name": "python",
   "nbconvert_exporter": "python",
   "pygments_lexer": "ipython3",
   "version": "3.8.12"
  }
 },
 "nbformat": 4,
 "nbformat_minor": 5
}
