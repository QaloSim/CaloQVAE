{
 "cells": [
  {
   "cell_type": "code",
   "execution_count": 1,
   "id": "cf975056",
   "metadata": {},
   "outputs": [
    {
     "name": "stdout",
     "output_type": "stream",
     "text": [
      "/home/akajal/DiVAE\n"
     ]
    }
   ],
   "source": [
    "%cd .."
   ]
  },
  {
   "cell_type": "code",
   "execution_count": 1,
   "id": "9dee7f99",
   "metadata": {},
   "outputs": [
    {
     "ename": "ModuleNotFoundError",
     "evalue": "No module named 'DiVAE'",
     "output_type": "error",
     "traceback": [
      "\u001b[0;31m---------------------------------------------------------------------------\u001b[0m",
      "\u001b[0;31mModuleNotFoundError\u001b[0m                       Traceback (most recent call last)",
      "\u001b[0;32m/tmp/ipykernel_15412/426511324.py\u001b[0m in \u001b[0;36m<module>\u001b[0;34m\u001b[0m\n\u001b[1;32m     18\u001b[0m \u001b[0;34m\u001b[0m\u001b[0m\n\u001b[1;32m     19\u001b[0m \u001b[0;31m# DiVAE imports\u001b[0m\u001b[0;34m\u001b[0m\u001b[0;34m\u001b[0m\u001b[0;34m\u001b[0m\u001b[0m\n\u001b[0;32m---> 20\u001b[0;31m \u001b[0;32mfrom\u001b[0m \u001b[0mmodels\u001b[0m\u001b[0;34m.\u001b[0m\u001b[0mrbm\u001b[0m\u001b[0;34m.\u001b[0m\u001b[0mchimeraRBM\u001b[0m \u001b[0;32mimport\u001b[0m \u001b[0mChimeraRBM\u001b[0m\u001b[0;34m\u001b[0m\u001b[0;34m\u001b[0m\u001b[0m\n\u001b[0m\u001b[1;32m     21\u001b[0m \u001b[0;32mfrom\u001b[0m \u001b[0mmodels\u001b[0m\u001b[0;34m.\u001b[0m\u001b[0mrbm\u001b[0m\u001b[0;34m.\u001b[0m\u001b[0mqimeraRBM\u001b[0m \u001b[0;32mimport\u001b[0m \u001b[0mQimeraRBM\u001b[0m\u001b[0;34m\u001b[0m\u001b[0;34m\u001b[0m\u001b[0m\n\u001b[1;32m     22\u001b[0m \u001b[0;32mfrom\u001b[0m \u001b[0mmodels\u001b[0m\u001b[0;34m.\u001b[0m\u001b[0mrbm\u001b[0m\u001b[0;34m.\u001b[0m\u001b[0mrbm\u001b[0m \u001b[0;32mimport\u001b[0m \u001b[0mRBM\u001b[0m\u001b[0;34m\u001b[0m\u001b[0;34m\u001b[0m\u001b[0m\n",
      "\u001b[0;32m~/DiVAE/models/rbm/chimeraRBM.py\u001b[0m in \u001b[0;36m<module>\u001b[0;34m\u001b[0m\n\u001b[1;32m      9\u001b[0m \u001b[0;32mfrom\u001b[0m \u001b[0mtorch\u001b[0m\u001b[0;34m.\u001b[0m\u001b[0mdistributions\u001b[0m \u001b[0;32mimport\u001b[0m \u001b[0mDistribution\u001b[0m\u001b[0;34m,\u001b[0m \u001b[0mNormal\u001b[0m\u001b[0;34m,\u001b[0m \u001b[0mUniform\u001b[0m\u001b[0;34m\u001b[0m\u001b[0;34m\u001b[0m\u001b[0m\n\u001b[1;32m     10\u001b[0m \u001b[0;34m\u001b[0m\u001b[0m\n\u001b[0;32m---> 11\u001b[0;31m \u001b[0;32mfrom\u001b[0m \u001b[0mmodels\u001b[0m\u001b[0;34m.\u001b[0m\u001b[0mrbm\u001b[0m\u001b[0;34m.\u001b[0m\u001b[0mrbm\u001b[0m \u001b[0;32mimport\u001b[0m \u001b[0mRBM\u001b[0m\u001b[0;34m\u001b[0m\u001b[0;34m\u001b[0m\u001b[0m\n\u001b[0m\u001b[1;32m     12\u001b[0m \u001b[0;34m\u001b[0m\u001b[0m\n\u001b[1;32m     13\u001b[0m \u001b[0;32mfrom\u001b[0m \u001b[0mDiVAE\u001b[0m \u001b[0;32mimport\u001b[0m \u001b[0mlogging\u001b[0m\u001b[0;34m\u001b[0m\u001b[0;34m\u001b[0m\u001b[0m\n",
      "\u001b[0;32m~/DiVAE/models/rbm/rbm.py\u001b[0m in \u001b[0;36m<module>\u001b[0;34m\u001b[0m\n\u001b[1;32m      9\u001b[0m \u001b[0;32mfrom\u001b[0m \u001b[0mtorch\u001b[0m\u001b[0;34m.\u001b[0m\u001b[0mdistributions\u001b[0m \u001b[0;32mimport\u001b[0m \u001b[0mDistribution\u001b[0m\u001b[0;34m,\u001b[0m \u001b[0mNormal\u001b[0m\u001b[0;34m,\u001b[0m \u001b[0mUniform\u001b[0m\u001b[0;34m\u001b[0m\u001b[0;34m\u001b[0m\u001b[0m\n\u001b[1;32m     10\u001b[0m \u001b[0;34m\u001b[0m\u001b[0m\n\u001b[0;32m---> 11\u001b[0;31m \u001b[0;32mfrom\u001b[0m \u001b[0mDiVAE\u001b[0m \u001b[0;32mimport\u001b[0m \u001b[0mlogging\u001b[0m\u001b[0;34m\u001b[0m\u001b[0;34m\u001b[0m\u001b[0m\n\u001b[0m\u001b[1;32m     12\u001b[0m \u001b[0mlogger\u001b[0m \u001b[0;34m=\u001b[0m \u001b[0mlogging\u001b[0m\u001b[0;34m.\u001b[0m\u001b[0mgetLogger\u001b[0m\u001b[0;34m(\u001b[0m\u001b[0m__name__\u001b[0m\u001b[0;34m)\u001b[0m\u001b[0;34m\u001b[0m\u001b[0;34m\u001b[0m\u001b[0m\n\u001b[1;32m     13\u001b[0m \u001b[0;34m\u001b[0m\u001b[0m\n",
      "\u001b[0;31mModuleNotFoundError\u001b[0m: No module named 'DiVAE'"
     ]
    }
   ],
   "source": [
    "# Python imports\n",
    "import os\n",
    "import sys\n",
    "\n",
    "# Add the path to the parent directory to augment search for module\n",
    "sys.path.append(os.getcwd())\n",
    "# Add the path to the parent directory to augment search for module\n",
    "par_dir = os.path.abspath(os.path.join(os.getcwd(), os.pardir))\n",
    "if par_dir not in sys.path:\n",
    "    sys.path.append(par_dir)\n",
    "    \n",
    "# ML imports\n",
    "import torch\n",
    "import matplotlib.pyplot as plt\n",
    "import numpy as np\n",
    "from hydra import initialize, initialize_config_module, initialize_config_dir, compose\n",
    "from omegaconf import OmegaConf\n",
    "\n",
    "# DiVAE imports\n",
    "from models.rbm.chimeraRBM import ChimeraRBM\n",
    "from models.rbm.qimeraRBM import QimeraRBM\n",
    "from models.rbm.rbm import RBM\n",
    "from models.samplers.pcd import PCD\n",
    "from models.autoencoders.gumboltCaloCRBM import GumBoltCaloCRBM\n",
    "\n",
    "from nbutils import *\n",
    "\n",
    "# DWave imports\n",
    "from dwave.system import DWaveSampler, LeapHybridSampler\n",
    "import neal"
   ]
  },
  {
   "cell_type": "code",
   "execution_count": 3,
   "id": "1dc4fdf6",
   "metadata": {},
   "outputs": [],
   "source": [
    "def load_state(model, run_path, device):\n",
    "        model_loc = run_path\n",
    "        \n",
    "        # Open a file in read-binary mode\n",
    "        with open(model_loc, 'rb') as f:\n",
    "            # Interpret the file using torch.load()\n",
    "            checkpoint=torch.load(f, map_location=device)\n",
    "            \n",
    "            local_module_keys=list(model._modules.keys())\n",
    "            for module in checkpoint.keys():\n",
    "                if module in local_module_keys:\n",
    "                    print(\"Loading weights for module = \", module)\n",
    "                    getattr(model, module).load_state_dict(checkpoint[module])"
   ]
  },
  {
   "cell_type": "code",
   "execution_count": 4,
   "id": "9214c7ac",
   "metadata": {},
   "outputs": [],
   "source": [
    "def init_model(cfg):\n",
    "    model = GumBoltCaloCRBM(flat_input_size=[504],\n",
    "                            train_ds_mean=0.,\n",
    "                            activation_fct=torch.nn.ReLU(),\n",
    "                            cfg=cfg)\n",
    "    return model"
   ]
  },
  {
   "cell_type": "code",
   "execution_count": 5,
   "id": "cd92b5ca",
   "metadata": {},
   "outputs": [
    {
     "name": "stderr",
     "output_type": "stream",
     "text": [
      "/opt/conda/lib/python3.8/site-packages/hydra/_internal/defaults_list.py:251: UserWarning: In 'config': Defaults list is missing `_self_`. See https://hydra.cc/docs/upgrades/1.0_to_1.1/default_composition_order for more information\n",
      "  warnings.warn(msg, UserWarning)\n"
     ]
    }
   ],
   "source": [
    "with initialize(config_path=\"../configs\"):\n",
    "    cfg = compose(config_name=\"config\")"
   ]
  },
  {
   "cell_type": "code",
   "execution_count": 6,
   "id": "3a28a666",
   "metadata": {},
   "outputs": [
    {
     "name": "stdout",
     "output_type": "stream",
     "text": [
      "{'model': {'model_type': 'GumBoltCaloCRBM', 'activation_fct': 'relu', 'beta_smoothing_fct': 5, 'output_smoothing_fct': 9, 'decoder_hidden_nodes': [800, 700, 600, 550, 500], 'encoder_hidden_nodes': [500, 450, 400, 350, 300], 'n_latent_hierarchy_lvls': 2, 'n_latent_nodes': 1000, 'n_encoder_layer_nodes': -1, 'n_encoder_layers': -1, 'mapping': 'bipartite', 'bernoulli': 0}, 'data': {'data_type': 'calo', 'calo_layers': ['layer_0', 'layer_1', 'layer_2'], 'particle_type': 'piplus', 'frac_test_dataset': 0.1, 'frac_train_dataset': 0.8, 'scaled': True, 'scaler_path': '/fast_scratch/QVAE/data/calo_scaled/piplus_scaler.gz', 'scaler_amin': '/fast_scratch/QVAE/data/calo_scaled/piplus_amin.npy', 'calo_input_eplus': '/fast_scratch/QVAE/data/calo_scaled/eplus.hdf5', 'calo_input_gamma': '/fast_scratch/QVAE/data/calo_scaled/gamma.hdf5', 'calo_input_piplus': '/fast_scratch/QVAE/data/calo_scaled/piplus.hdf5'}, 'engine': {'_target_': 'engine.engineCaloV3.EngineCaloV3', 'learning_rate': 0.0001, 'n_train_batch_size': 128, 'n_test_batch_size': 1024, 'n_valid_batch_size': 1024, 'n_val_batches': 5, 'n_valid_per_epoch': 2, 'rbm_batch_size': 128, 'n_plot_samples': 10, 'n_batches_log_train': 100, 'n_epochs': 200, 'n_gibbs_sampling_steps': 50, 'weight_decay_factor': 0.0001, 'momentum_coefficient': 0.5, 'kl_enabled': 1, 'kl_annealing': 1, 'kl_annealing_ratio': 0.3, 'ae_enabled': 1, 'sample_energies': [1, 25, 50, 100, 150]}, 'tag': 'default', 'debug': False, 'load_data_from_pkl': 0, 'load_model': 0, 'save_model': 0, 'save_state': 1, 'load_state': 1, 'save_hists': 1, 'run_path': '/home/akajal/DiVAE/outputs/2022-03-11/15-21-04/wandb/run-20220311_152104-2junzvyl/files/GumBoltCaloCRBM_calo_default_latest.pth', 'input_model': None, 'create_plots': 0, 'output_path': '/fast_scratch/akajal/outputs', 'device': 'gpu', 'gpu_list': [5], 'task': ['train', 'validate', 'test']}\n"
     ]
    }
   ],
   "source": [
    "print(cfg)"
   ]
  },
  {
   "cell_type": "code",
   "execution_count": 7,
   "id": "abf9d5bf",
   "metadata": {},
   "outputs": [
    {
     "name": "stderr",
     "output_type": "stream",
     "text": [
      "2022-03-28 23:54:08,711 dwave.cloud.client.base \u001b[1;95mINFO \u001b[1;0m MainThread Fetching available regions from the Metadata API at 'https://cloud.dwavesys.com/metadata/v1/'\n",
      "\u001b[1m[23:54:08.711]\u001b[0m \u001b[1;95mINFO \u001b[1;0m  \u001b[1mdwave.cloud.client.base                           \u001b[0mFetching available regions from the Metadata API at 'https://cloud.dwavesys.com/metadata/v1/'\n",
      "2022-03-28 23:54:08,990 dwave.cloud.client.base \u001b[1;95mINFO \u001b[1;0m MainThread Using region metadata: [Region(code='na-west-1', name='North America', endpoint='https://na-west-1.cloud.dwavesys.com/sapi/v2/'), Region(code='eu-central-1', name='Europe', endpoint='https://eu-central-1.cloud.dwavesys.com/sapi/v2/')]\n",
      "\u001b[1m[23:54:08.990]\u001b[0m \u001b[1;95mINFO \u001b[1;0m  \u001b[1mdwave.cloud.client.base                           \u001b[0mUsing region metadata: [Region(code='na-west-1', name='North America', endpoint='https://na-west-1.cloud.dwavesys.com/sapi/v2/'), Region(code='eu-central-1', name='Europe', endpoint='https://eu-central-1.cloud.dwavesys.com/sapi/v2/')]\n",
      "2022-03-28 23:54:09,035 dwave.cloud.client.base \u001b[1;95mINFO \u001b[1;0m MainThread Requested a solver that best matches feature filters={}\n",
      "\u001b[1m[23:54:09.035]\u001b[0m \u001b[1;95mINFO \u001b[1;0m  \u001b[1mdwave.cloud.client.base                           \u001b[0mRequested a solver that best matches feature filters={}\n",
      "2022-03-28 23:54:09,038 dwave.cloud.client.base \u001b[1;95mINFO \u001b[1;0m MainThread Fetching solvers according to filters={'topology__type': 'chimera', 'chip_id': 'DW_2000Q_6'}, order_by='avg_load'\n",
      "\u001b[1m[23:54:09.038]\u001b[0m \u001b[1;95mINFO \u001b[1;0m  \u001b[1mdwave.cloud.client.base                           \u001b[0mFetching solvers according to filters={'topology__type': 'chimera', 'chip_id': 'DW_2000Q_6'}, order_by='avg_load'\n",
      "2022-03-28 23:54:09,039 dwave.cloud.client.base \u001b[1;95mINFO \u001b[1;0m MainThread Fetching definitions of all available solvers\n",
      "\u001b[1m[23:54:09.039]\u001b[0m \u001b[1;95mINFO \u001b[1;0m  \u001b[1mdwave.cloud.client.base                           \u001b[0mFetching definitions of all available solvers\n",
      "2022-03-28 23:54:09,635 dwave.cloud.client.base \u001b[1;95mINFO \u001b[1;0m MainThread Received solver data for 5 solver(s).\n",
      "\u001b[1m[23:54:09.635]\u001b[0m \u001b[1;95mINFO \u001b[1;0m  \u001b[1mdwave.cloud.client.base                           \u001b[0mReceived solver data for 5 solver(s).\n",
      "2022-03-28 23:54:09,642 dwave.cloud.client.base \u001b[1;95mINFO \u001b[1;0m MainThread Adding solver StructuredSolver(id='DW_2000Q_6')\n",
      "\u001b[1m[23:54:09.642]\u001b[0m \u001b[1;95mINFO \u001b[1;0m  \u001b[1mdwave.cloud.client.base                           \u001b[0mAdding solver StructuredSolver(id='DW_2000Q_6')\n",
      "2022-03-28 23:54:09,688 dwave.cloud.client.base \u001b[1;95mINFO \u001b[1;0m MainThread Adding solver StructuredSolver(id='Advantage_system4.1')\n",
      "\u001b[1m[23:54:09.688]\u001b[0m \u001b[1;95mINFO \u001b[1;0m  \u001b[1mdwave.cloud.client.base                           \u001b[0mAdding solver StructuredSolver(id='Advantage_system4.1')\n",
      "2022-03-28 23:54:09,689 dwave.cloud.client.base \u001b[1;95mINFO \u001b[1;0m MainThread Filtered solvers=[StructuredSolver(id='DW_2000Q_6')]\n",
      "\u001b[1m[23:54:09.689]\u001b[0m \u001b[1;95mINFO \u001b[1;0m  \u001b[1mdwave.cloud.client.base                           \u001b[0mFiltered solvers=[StructuredSolver(id='DW_2000Q_6')]\n"
     ]
    },
    {
     "name": "stdout",
     "output_type": "stream",
     "text": [
      "Initializing NetworkV3\n"
     ]
    }
   ],
   "source": [
    "model = init_model(cfg)\n",
    "model.create_networks()"
   ]
  },
  {
   "cell_type": "code",
   "execution_count": 8,
   "id": "ee3c3446",
   "metadata": {},
   "outputs": [
    {
     "data": {
      "text/plain": [
       "models.rbm.qimeraRBM.QimeraRBM"
      ]
     },
     "execution_count": 8,
     "metadata": {},
     "output_type": "execute_result"
    }
   ],
   "source": [
    "type(model.prior)"
   ]
  },
  {
   "cell_type": "code",
   "execution_count": 9,
   "id": "b2577de9",
   "metadata": {},
   "outputs": [
    {
     "name": "stdout",
     "output_type": "stream",
     "text": [
      "Loading weights for module =  _activation_fct\n",
      "Loading weights for module =  _bce_loss\n",
      "Loading weights for module =  _energy_activation_fct\n",
      "Loading weights for module =  _hit_activation_fct\n",
      "Loading weights for module =  _output_loss\n",
      "Loading weights for module =  _hit_loss\n",
      "Loading weights for module =  _hit_smoothing_dist_mod\n",
      "Loading weights for module =  encoder\n",
      "Loading weights for module =  prior\n",
      "Loading weights for module =  decoder\n",
      "Loading weights for module =  sampler\n"
     ]
    }
   ],
   "source": [
    "run_path = '/home/akajal/DiVAE/outputs/2022-01-24/14-14-25/wandb/run-20220124_141425-3o4vumug/files/GumBoltCaloCRBM_calo_default_latest.pth'\n",
    "load_state(model, run_path, 'cuda:{0}'.format(cfg.gpu_list[0]))"
   ]
  },
  {
   "cell_type": "code",
   "execution_count": null,
   "id": "5627d1a1",
   "metadata": {},
   "outputs": [],
   "source": [
    "model.prior.weights.size()"
   ]
  },
  {
   "cell_type": "code",
   "execution_count": null,
   "id": "0879aeeb",
   "metadata": {},
   "outputs": [],
   "source": [
    "model.prior.weights[model.prior.weights != 0].size()"
   ]
  },
  {
   "cell_type": "code",
   "execution_count": null,
   "id": "2ac8680d",
   "metadata": {},
   "outputs": [],
   "source": [
    "model.prior.visible_qubit_idxs[:10]"
   ]
  },
  {
   "cell_type": "code",
   "execution_count": null,
   "id": "2730a74d",
   "metadata": {},
   "outputs": [],
   "source": [
    "def rbm_weights(model):\n",
    "    weights = model.prior.weights.detach().cpu().numpy()\n",
    "    weights = weights[np.nonzero(weights)]\n",
    "    \n",
    "    fig, ax = plt.subplots(figsize=(40, 16))\n",
    "    \n",
    "    plt.hist(weights, bins=100, alpha=0.5, edgecolor='black', linewidth=1.3)\n",
    "    \n",
    "    ax.set_xlabel(\"Weight\", fontsize=60)\n",
    "    ax.set_ylabel(\"Frequency\", fontsize=60)\n",
    "    \n",
    "    ax.tick_params(axis='both', which='major', labelsize=60)\n",
    "    ax.set_yscale(\"log\")\n",
    "    \n",
    "    plt.show()\n",
    "    plt.close()"
   ]
  },
  {
   "cell_type": "code",
   "execution_count": null,
   "id": "26bf8ce9",
   "metadata": {},
   "outputs": [],
   "source": [
    "def rbm_biases(model):\n",
    "    vis_bias = model.prior.visible_bias.detach().cpu().numpy()\n",
    "    hid_bias = model.prior.hidden_bias.detach().cpu().numpy()\n",
    "    biases = np.concatenate((vis_bias, hid_bias))\n",
    "    \n",
    "    fig, ax = plt.subplots(figsize=(40, 16))\n",
    "    \n",
    "    plt.hist(biases, bins=100, alpha=0.5, edgecolor='black', linewidth=1.3)\n",
    "    \n",
    "    ax.set_xlabel(\"Bias\", fontsize=60)\n",
    "    ax.set_ylabel(\"Frequency\", fontsize=60)\n",
    "    \n",
    "    ax.tick_params(axis='both', which='major', labelsize=60)\n",
    "    ax.set_yscale(\"log\")\n",
    "    \n",
    "    plt.show()\n",
    "    plt.close()"
   ]
  },
  {
   "cell_type": "code",
   "execution_count": null,
   "id": "bfcbd6a2",
   "metadata": {},
   "outputs": [],
   "source": [
    "rbm_weights(model)"
   ]
  },
  {
   "cell_type": "code",
   "execution_count": null,
   "id": "2c14c32e",
   "metadata": {},
   "outputs": [],
   "source": [
    "rbm_biases(model)"
   ]
  },
  {
   "cell_type": "code",
   "execution_count": 13,
   "id": "8a4d1803",
   "metadata": {},
   "outputs": [],
   "source": [
    "def ising_weights(model):\n",
    "    weights = model.prior.weights.detach().cpu().numpy()\n",
    "    weights = weights[np.nonzero(weights)]/4.\n",
    "    \n",
    "    fig, ax = plt.subplots(figsize=(40, 16))\n",
    "    \n",
    "    plt.hist(weights, bins=100, alpha=0.5, edgecolor='black', linewidth=1.3)\n",
    "    \n",
    "    ax.set_xlabel(\"Weight\", fontsize=60)\n",
    "    ax.set_ylabel(\"Frequency\", fontsize=60)\n",
    "    \n",
    "    ax.tick_params(axis='both', which='major', labelsize=60)\n",
    "    ax.set_yscale(\"log\")\n",
    "    \n",
    "    plt.show()\n",
    "    plt.close()"
   ]
  },
  {
   "cell_type": "code",
   "execution_count": 14,
   "id": "e2356e48",
   "metadata": {},
   "outputs": [
    {
     "ename": "RuntimeError",
     "evalue": "Numpy is not available",
     "output_type": "error",
     "traceback": [
      "\u001b[0;31m---------------------------------------------------------------------------\u001b[0m",
      "\u001b[0;31mRuntimeError\u001b[0m                              Traceback (most recent call last)",
      "\u001b[0;32m/tmp/ipykernel_53395/1340251514.py\u001b[0m in \u001b[0;36m<cell line: 1>\u001b[0;34m()\u001b[0m\n\u001b[0;32m----> 1\u001b[0;31m \u001b[0mising_weights\u001b[0m\u001b[0;34m(\u001b[0m\u001b[0mmodel\u001b[0m\u001b[0;34m)\u001b[0m\u001b[0;34m\u001b[0m\u001b[0;34m\u001b[0m\u001b[0m\n\u001b[0m",
      "\u001b[0;32m/tmp/ipykernel_53395/3528345128.py\u001b[0m in \u001b[0;36mising_weights\u001b[0;34m(model)\u001b[0m\n\u001b[1;32m      1\u001b[0m \u001b[0;32mdef\u001b[0m \u001b[0mising_weights\u001b[0m\u001b[0;34m(\u001b[0m\u001b[0mmodel\u001b[0m\u001b[0;34m)\u001b[0m\u001b[0;34m:\u001b[0m\u001b[0;34m\u001b[0m\u001b[0;34m\u001b[0m\u001b[0m\n\u001b[0;32m----> 2\u001b[0;31m     \u001b[0mweights\u001b[0m \u001b[0;34m=\u001b[0m \u001b[0mmodel\u001b[0m\u001b[0;34m.\u001b[0m\u001b[0mprior\u001b[0m\u001b[0;34m.\u001b[0m\u001b[0mweights\u001b[0m\u001b[0;34m.\u001b[0m\u001b[0mdetach\u001b[0m\u001b[0;34m(\u001b[0m\u001b[0;34m)\u001b[0m\u001b[0;34m.\u001b[0m\u001b[0mcpu\u001b[0m\u001b[0;34m(\u001b[0m\u001b[0;34m)\u001b[0m\u001b[0;34m.\u001b[0m\u001b[0mnumpy\u001b[0m\u001b[0;34m(\u001b[0m\u001b[0;34m)\u001b[0m\u001b[0;34m\u001b[0m\u001b[0;34m\u001b[0m\u001b[0m\n\u001b[0m\u001b[1;32m      3\u001b[0m     \u001b[0mweights\u001b[0m \u001b[0;34m=\u001b[0m \u001b[0mweights\u001b[0m\u001b[0;34m[\u001b[0m\u001b[0mnp\u001b[0m\u001b[0;34m.\u001b[0m\u001b[0mnonzero\u001b[0m\u001b[0;34m(\u001b[0m\u001b[0mweights\u001b[0m\u001b[0;34m)\u001b[0m\u001b[0;34m]\u001b[0m\u001b[0;34m/\u001b[0m\u001b[0;36m4.\u001b[0m\u001b[0;34m\u001b[0m\u001b[0;34m\u001b[0m\u001b[0m\n\u001b[1;32m      4\u001b[0m \u001b[0;34m\u001b[0m\u001b[0m\n\u001b[1;32m      5\u001b[0m     \u001b[0mfig\u001b[0m\u001b[0;34m,\u001b[0m \u001b[0max\u001b[0m \u001b[0;34m=\u001b[0m \u001b[0mplt\u001b[0m\u001b[0;34m.\u001b[0m\u001b[0msubplots\u001b[0m\u001b[0;34m(\u001b[0m\u001b[0mfigsize\u001b[0m\u001b[0;34m=\u001b[0m\u001b[0;34m(\u001b[0m\u001b[0;36m40\u001b[0m\u001b[0;34m,\u001b[0m \u001b[0;36m16\u001b[0m\u001b[0;34m)\u001b[0m\u001b[0;34m)\u001b[0m\u001b[0;34m\u001b[0m\u001b[0;34m\u001b[0m\u001b[0m\n",
      "\u001b[0;31mRuntimeError\u001b[0m: Numpy is not available"
     ]
    }
   ],
   "source": [
    "ising_weights(model)"
   ]
  },
  {
   "cell_type": "code",
   "execution_count": 15,
   "id": "a236a1c5",
   "metadata": {},
   "outputs": [],
   "source": [
    "def ising_biases(model):\n",
    "    rbm_weights = model.prior.weights\n",
    "    vis_bias = model.prior.visible_bias\n",
    "    hid_bias = model.prior.hidden_bias\n",
    "    \n",
    "    ising_vbias = vis_bias/2. + torch.sum(rbm_weights, dim=1)/4.\n",
    "    ising_hbias = hid_bias/2. + torch.sum(rbm_weights, dim=0)/4.\n",
    "    \n",
    "    ising_vbias = ising_vbias.detach().cpu().numpy()\n",
    "    ising_hbias = ising_hbias.detach().cpu().numpy()\n",
    "    \n",
    "    biases = np.concatenate((ising_vbias, ising_hbias))\n",
    "    \n",
    "    fig, ax = plt.subplots(figsize=(40, 16))\n",
    "    \n",
    "    plt.hist(biases, bins=100, alpha=0.5, edgecolor='black', linewidth=1.3)\n",
    "    \n",
    "    ax.set_xlabel(\"Bias\", fontsize=60)\n",
    "    ax.set_ylabel(\"Frequency\", fontsize=60)\n",
    "    \n",
    "    ax.tick_params(axis='both', which='major', labelsize=60)\n",
    "    ax.set_yscale(\"log\")\n",
    "    \n",
    "    plt.show()\n",
    "    plt.close()"
   ]
  },
  {
   "cell_type": "code",
   "execution_count": 16,
   "id": "1092a87a",
   "metadata": {},
   "outputs": [
    {
     "ename": "RuntimeError",
     "evalue": "Numpy is not available",
     "output_type": "error",
     "traceback": [
      "\u001b[0;31m---------------------------------------------------------------------------\u001b[0m",
      "\u001b[0;31mRuntimeError\u001b[0m                              Traceback (most recent call last)",
      "\u001b[0;32m/tmp/ipykernel_53395/4247095096.py\u001b[0m in \u001b[0;36m<cell line: 1>\u001b[0;34m()\u001b[0m\n\u001b[0;32m----> 1\u001b[0;31m \u001b[0mising_biases\u001b[0m\u001b[0;34m(\u001b[0m\u001b[0mmodel\u001b[0m\u001b[0;34m)\u001b[0m\u001b[0;34m\u001b[0m\u001b[0;34m\u001b[0m\u001b[0m\n\u001b[0m",
      "\u001b[0;32m/tmp/ipykernel_53395/693272763.py\u001b[0m in \u001b[0;36mising_biases\u001b[0;34m(model)\u001b[0m\n\u001b[1;32m      7\u001b[0m     \u001b[0mising_hbias\u001b[0m \u001b[0;34m=\u001b[0m \u001b[0mhid_bias\u001b[0m\u001b[0;34m/\u001b[0m\u001b[0;36m2.\u001b[0m \u001b[0;34m+\u001b[0m \u001b[0mtorch\u001b[0m\u001b[0;34m.\u001b[0m\u001b[0msum\u001b[0m\u001b[0;34m(\u001b[0m\u001b[0mrbm_weights\u001b[0m\u001b[0;34m,\u001b[0m \u001b[0mdim\u001b[0m\u001b[0;34m=\u001b[0m\u001b[0;36m0\u001b[0m\u001b[0;34m)\u001b[0m\u001b[0;34m/\u001b[0m\u001b[0;36m4.\u001b[0m\u001b[0;34m\u001b[0m\u001b[0;34m\u001b[0m\u001b[0m\n\u001b[1;32m      8\u001b[0m \u001b[0;34m\u001b[0m\u001b[0m\n\u001b[0;32m----> 9\u001b[0;31m     \u001b[0mising_vbias\u001b[0m \u001b[0;34m=\u001b[0m \u001b[0mising_vbias\u001b[0m\u001b[0;34m.\u001b[0m\u001b[0mdetach\u001b[0m\u001b[0;34m(\u001b[0m\u001b[0;34m)\u001b[0m\u001b[0;34m.\u001b[0m\u001b[0mcpu\u001b[0m\u001b[0;34m(\u001b[0m\u001b[0;34m)\u001b[0m\u001b[0;34m.\u001b[0m\u001b[0mnumpy\u001b[0m\u001b[0;34m(\u001b[0m\u001b[0;34m)\u001b[0m\u001b[0;34m\u001b[0m\u001b[0;34m\u001b[0m\u001b[0m\n\u001b[0m\u001b[1;32m     10\u001b[0m     \u001b[0mising_hbias\u001b[0m \u001b[0;34m=\u001b[0m \u001b[0mising_hbias\u001b[0m\u001b[0;34m.\u001b[0m\u001b[0mdetach\u001b[0m\u001b[0;34m(\u001b[0m\u001b[0;34m)\u001b[0m\u001b[0;34m.\u001b[0m\u001b[0mcpu\u001b[0m\u001b[0;34m(\u001b[0m\u001b[0;34m)\u001b[0m\u001b[0;34m.\u001b[0m\u001b[0mnumpy\u001b[0m\u001b[0;34m(\u001b[0m\u001b[0;34m)\u001b[0m\u001b[0;34m\u001b[0m\u001b[0;34m\u001b[0m\u001b[0m\n\u001b[1;32m     11\u001b[0m \u001b[0;34m\u001b[0m\u001b[0m\n",
      "\u001b[0;31mRuntimeError\u001b[0m: Numpy is not available"
     ]
    }
   ],
   "source": [
    "ising_biases(model)"
   ]
  },
  {
   "cell_type": "markdown",
   "id": "2384ce0f",
   "metadata": {},
   "source": [
    "Trained RBM on the QPU"
   ]
  },
  {
   "cell_type": "code",
   "execution_count": null,
   "id": "17414b8f",
   "metadata": {},
   "outputs": [],
   "source": [
    "ZERO = torch.tensor(0., dtype=torch.float)\n",
    "MINUS_ONE = torch.tensor(-1., dtype=torch.float)"
   ]
  },
  {
   "cell_type": "code",
   "execution_count": null,
   "id": "e8fd91a9",
   "metadata": {},
   "outputs": [],
   "source": [
    "crbm_weights = model.prior.weights\n",
    "crbm_vbias = model.prior.visible_bias\n",
    "crbm_hbias = model.prior.hidden_bias"
   ]
  },
  {
   "cell_type": "code",
   "execution_count": null,
   "id": "1494b926",
   "metadata": {},
   "outputs": [],
   "source": [
    "ising_weights = crbm_weights/4.\n",
    "ising_vbias = crbm_vbias/2. + torch.sum(crbm_weights, dim=1)/4.\n",
    "ising_hbias = crbm_hbias/2. + torch.sum(crbm_weights, dim=0)/4."
   ]
  },
  {
   "cell_type": "code",
   "execution_count": null,
   "id": "d901e7de",
   "metadata": {},
   "outputs": [],
   "source": [
    "def beta_estimation(num_iterations=10, lr=0.1, beta_init=5., n_reads=100, crbm_sampler=None, dwave_sampler=None):\n",
    "    assert crbm_sampler is not None\n",
    "    assert dwave_sampler is not None\n",
    "    \n",
    "    beta = beta_init\n",
    "    betas = [beta]\n",
    "    \n",
    "    crbm = crbm_sampler.get_rbm()\n",
    "    crbm_weights, crbm_vbias, crbm_hbias = crbm.weights, crbm.visible_bias, crbm.hidden_bias\n",
    "    crbm_edgelist = crbm.pruned_edge_list\n",
    "    \n",
    "    ising_weights = crbm_weights/4.\n",
    "    ising_vbias = crbm_vbias/2. + torch.sum(crbm_weights, dim=1)/4.\n",
    "    ising_hbias = crbm_hbias/2. + torch.sum(crbm_weights, dim=0)/4.\n",
    "    \n",
    "    n_vis = len(crbm.visible_qubit_idxs)\n",
    "    qubit_idxs = crbm.visible_qubit_idxs+crbm.hidden_qubit_idxs\n",
    "    \n",
    "    visible_idx_map = {visible_qubit_idx:i for i, visible_qubit_idx in enumerate(crbm.visible_qubit_idxs)}\n",
    "    hidden_idx_map = {hidden_qubit_idx:i for i, hidden_qubit_idx in enumerate(crbm.hidden_qubit_idxs)}\n",
    "    \n",
    "    for i in range(num_iterations):\n",
    "        dwave_weights, dwave_vbias, dwave_hbias = -ising_weights/beta, -ising_vbias/beta, -ising_hbias/beta\n",
    "        dwave_weights_np = dwave_weights.detach().cpu().numpy()\n",
    "        biases = torch.cat((dwave_vbias, dwave_hbias)).detach().cpu().numpy()\n",
    "        \n",
    "        print(\"Iteration = {0}, beta = {1} : J range = ({2}, {3}), h range = ({4}, {5})\".format(i, beta, np.min(dwave_weights_np),\n",
    "                                                                                                np.max(dwave_weights_np), np.min(biases),\n",
    "                                                                                                np.max(biases)))\n",
    "        \n",
    "        h = {qubit_idx:bias for qubit_idx, bias in zip(qubit_idxs, biases)}\n",
    "        J = {}\n",
    "        for edge in crbm_edgelist:\n",
    "            if edge[0] in crbm.visible_qubit_idxs:\n",
    "                J[edge] = dwave_weights_np[visible_idx_map[edge[0]]][hidden_idx_map[edge[1]]]\n",
    "            else:\n",
    "                J[edge] = dwave_weights_np[visible_idx_map[edge[1]]][hidden_idx_map[edge[0]]]\n",
    "                    \n",
    "        response = dwave_sampler.sample_ising(h, J, num_reads=n_reads, auto_scale=False)\n",
    "        dwave_samples, dwave_energies = batch_dwave_samples(response)\n",
    "        dwave_energy_exp = np.mean(dwave_energies)\n",
    "        \n",
    "        crbm_vis, crbm_hid = crbm_sampler.block_gibbs_sampling()\n",
    "        \n",
    "        crbm_vis = torch.where(crbm_vis == ZERO, MINUS_ONE, crbm_vis)\n",
    "        crbm_hid = torch.where(crbm_hid == ZERO, MINUS_ONE, crbm_hid)\n",
    "        \n",
    "        crbm_energy_exp = sample_energies_qpu(dwave_weights, dwave_vbias, dwave_hbias, crbm_vis, crbm_hid)\n",
    "        crbm_energy_exp = torch.mean(crbm_energy_exp, axis=0)\n",
    "        \n",
    "        print(\"crbm_energy_exp : {0}, dwave_energy_exp : {1}\".format(crbm_energy_exp, dwave_energy_exp))\n",
    "        beta = beta + lr*(float(crbm_energy_exp)-float(dwave_energy_exp))\n",
    "        betas.append(beta)\n",
    "        \n",
    "    return betas"
   ]
  },
  {
   "cell_type": "code",
   "execution_count": null,
   "id": "c07342b2",
   "metadata": {},
   "outputs": [],
   "source": [
    "_NUM_NODES = 16\n",
    "crbm = ChimeraRBM(n_visible=_NUM_NODES, n_hidden=_NUM_NODES)\n",
    "crbm_sampler = PCD(batch_size=1024, RBM=crbm, n_gibbs_sampling_steps=100)\n",
    "\n",
    "qpu_sampler = DWaveSampler(solver={\"topology__type\":\"chimera\"})\n",
    "\n",
    "beta_estimation(crbm_sampler=model.sampler, dwave_sampler=qpu_sampler)"
   ]
  },
  {
   "cell_type": "code",
   "execution_count": null,
   "id": "b9506103",
   "metadata": {},
   "outputs": [],
   "source": [
    "qpu_sampler = DWaveSampler(solver={\"topology__type\":\"chimera\", \"chip_id\":\"DW_2000Q_6\"})\n",
    "betas = beta_estimation(num_iterations=20, beta_init=10., lr=0.01, crbm_sampler=model.sampler, dwave_sampler=qpu_sampler)"
   ]
  },
  {
   "cell_type": "code",
   "execution_count": null,
   "id": "99361538",
   "metadata": {},
   "outputs": [],
   "source": [
    "plot_betas(betas)"
   ]
  },
  {
   "cell_type": "code",
   "execution_count": null,
   "id": "04d17314",
   "metadata": {},
   "outputs": [],
   "source": [
    "def energy_deltas_ising(beta_min=1, beta_max=100, n_reads=100, crbm_sampler=None, dwave_sampler=None):\n",
    "    assert crbm_sampler is not None\n",
    "    assert dwave_sampler is not None\n",
    "    \n",
    "    crbm = crbm_sampler.get_rbm()\n",
    "    crbm_weights, crbm_vbias, crbm_hbias = crbm.weights, crbm.visible_bias, crbm.hidden_bias\n",
    "    crbm_edgelist = crbm.pruned_edge_list\n",
    "    \n",
    "    ising_weights = crbm_weights/4.\n",
    "    ising_vbias = crbm_vbias/2. + torch.sum(crbm_weights, dim=1)/4.\n",
    "    ising_hbias = crbm_hbias/2. + torch.sum(crbm_weights, dim=0)/4.\n",
    "    \n",
    "    n_vis = len(crbm.visible_qubit_idxs)\n",
    "    qubit_idxs = crbm.visible_qubit_idxs+crbm.hidden_qubit_idxs\n",
    "    \n",
    "    visible_idx_map = {visible_qubit_idx:i for i, visible_qubit_idx in enumerate(crbm.visible_qubit_idxs)}\n",
    "    hidden_idx_map = {hidden_qubit_idx:i for i, hidden_qubit_idx in enumerate(crbm.hidden_qubit_idxs)}\n",
    "    \n",
    "    betas = []\n",
    "    deltas = []\n",
    "    \n",
    "    for beta in range(beta_min, beta_max):\n",
    "        beta = float(beta)\n",
    "        dwave_weights, dwave_vbias, dwave_hbias = -ising_weights/beta, -ising_vbias/beta, -ising_hbias/beta\n",
    "        dwave_weights_np = dwave_weights.detach().cpu().numpy()\n",
    "        biases = torch.cat((dwave_vbias, dwave_hbias)).detach().cpu().numpy()\n",
    "        \n",
    "        print(\"beta = {0} : J range = ({1}, {2}), h range = ({3}, {4})\".format(beta, np.min(dwave_weights_np),\n",
    "                                                                               np.max(dwave_weights_np), np.min(biases),\n",
    "                                                                               np.max(biases)))\n",
    "        \n",
    "        h = {qubit_idx:bias for qubit_idx, bias in zip(qubit_idxs, biases)}\n",
    "        J = {}\n",
    "        for edge in crbm_edgelist:\n",
    "            if edge[0] in crbm.visible_qubit_idxs:\n",
    "                J[edge] = dwave_weights_np[visible_idx_map[edge[0]]][hidden_idx_map[edge[1]]]\n",
    "            else:\n",
    "                J[edge] = dwave_weights_np[visible_idx_map[edge[1]]][hidden_idx_map[edge[0]]]\n",
    "                    \n",
    "        response = dwave_sampler.sample_ising(h, J, num_reads=n_reads, auto_scale=False)\n",
    "        dwave_samples, dwave_energies = batch_dwave_samples(response)\n",
    "        dwave_energy_exp = np.mean(dwave_energies)\n",
    "        \n",
    "        crbm_vis, crbm_hid = crbm_sampler.block_gibbs_sampling()\n",
    "        \n",
    "        crbm_vis = torch.where(crbm_vis == ZERO, MINUS_ONE, crbm_vis)\n",
    "        crbm_hid = torch.where(crbm_hid == ZERO, MINUS_ONE, crbm_hid)\n",
    "        \n",
    "        crbm_energy_exp = sample_energies_qpu(dwave_weights, dwave_vbias, dwave_hbias, crbm_vis, crbm_hid)\n",
    "        crbm_energy_exp = torch.mean(crbm_energy_exp, axis=0)\n",
    "        \n",
    "        print(\"crbm_energy_exp : {0}, dwave_energy_exp : {1}\".format(crbm_energy_exp, dwave_energy_exp))\n",
    "        delta = float(crbm_energy_exp)-float(dwave_energy_exp)\n",
    "        \n",
    "        betas.append(beta)\n",
    "        deltas.append(delta)\n",
    "        \n",
    "    return betas, deltas"
   ]
  },
  {
   "cell_type": "code",
   "execution_count": null,
   "id": "4735bc7b",
   "metadata": {},
   "outputs": [],
   "source": [
    "betas, detlas = energy_deltas_ising(beta_min=3, beta_max=100, crbm_sampler=model.sampler, dwave_sampler=qpu_sampler)"
   ]
  },
  {
   "cell_type": "code",
   "execution_count": null,
   "id": "9269cd4d",
   "metadata": {},
   "outputs": [],
   "source": [
    "deltas = detlas"
   ]
  },
  {
   "cell_type": "code",
   "execution_count": null,
   "id": "99a217bf",
   "metadata": {},
   "outputs": [],
   "source": [
    "def plot_beta_vs_delta(betas, deltas):\n",
    "    \"\"\"\n",
    "    Plot the estimates of beta during the beta estimation procedure   \n",
    "    \"\"\"\n",
    "    fig, ax = plt.subplots(figsize=(40, 16))\n",
    "    \n",
    "    plt.plot(betas, deltas)\n",
    "    \n",
    "    ax.set_xlabel(\"Beta\", fontsize=60)\n",
    "    ax.set_ylabel(r\"$E_{p_{RBM}}[H_{h, J}] - E_{p_{HW}}[H_{h, J}]$\", fontsize=60)\n",
    "    \n",
    "    ax.tick_params(axis='both', which='major', labelsize=60)\n",
    "    ax.grid(\"True\", axis='both', which='both')\n",
    "    \n",
    "    plt.show()\n",
    "    plt.close()"
   ]
  },
  {
   "cell_type": "code",
   "execution_count": null,
   "id": "e1f24fce",
   "metadata": {},
   "outputs": [],
   "source": [
    "plot_beta_vs_delta(betas, deltas)"
   ]
  },
  {
   "cell_type": "code",
   "execution_count": null,
   "id": "83cf58d1",
   "metadata": {},
   "outputs": [],
   "source": [
    "\\qubit_idxs = crbm.visible_qubit_idxs+crbm.hidden_qubit_idxs\n",
    "for idx in qubit_idxs:\n",
    "    if idx not in qpu_sampler.nodelist:\n",
    "        print(idx)"
   ]
  },
  {
   "cell_type": "code",
   "execution_count": null,
   "id": "d106c4ec",
   "metadata": {},
   "outputs": [],
   "source": [
    "len(qubit_idxs)"
   ]
  },
  {
   "cell_type": "code",
   "execution_count": null,
   "id": "e91fc38f",
   "metadata": {},
   "outputs": [],
   "source": [
    "visible_idx_map_inv = {i:visible_qubit_idx for i, visible_qubit_idx in enumerate(crbm.visible_qubit_idxs)}\n",
    "hidden_idx_map_inv = {i:hidden_qubit_idx for i, hidden_qubit_idx in enumerate(crbm.hidden_qubit_idxs)}"
   ]
  },
  {
   "cell_type": "code",
   "execution_count": null,
   "id": "14166064",
   "metadata": {},
   "outputs": [],
   "source": [
    "rbm_weights_np = crbm_weights.detach().cpu().numpy()\n",
    "\n",
    "for row in range(rbm_weights_np.shape[0]):\n",
    "    for col in range(rbm_weights_np.shape[1]):\n",
    "        if rbm_weights_np[row][col] > 1e-5:\n",
    "            edge = (visible_idx_map_inv[row], hidden_idx_map_inv[col])\n",
    "            if edge not in qpu_sampler.edgelist and (edge[1], edge[0]) not in qpu_sampler.edgelist:\n",
    "                print(edge)"
   ]
  },
  {
   "cell_type": "code",
   "execution_count": null,
   "id": "6718ec17",
   "metadata": {},
   "outputs": [],
   "source": [
    "from models.rbm.qimeraRBM import QimeraRBM\n",
    "_NUM_NODES = 1000\n",
    "qrbm = QimeraRBM(n_visible=_NUM_NODES, n_hidden=_NUM_NODES)"
   ]
  },
  {
   "cell_type": "code",
   "execution_count": null,
   "id": "fcae95dd",
   "metadata": {},
   "outputs": [],
   "source": [
    "qpu_sampler = DWaveSampler(solver={\"topology__type\":\"chimera\", \"chip_id\":\"DW_2000Q_5\"})"
   ]
  },
  {
   "cell_type": "code",
   "execution_count": null,
   "id": "e3411899",
   "metadata": {},
   "outputs": [],
   "source": [
    "qpu_sampler.properties.keys()"
   ]
  },
  {
   "cell_type": "code",
   "execution_count": null,
   "id": "5ed7dbd9",
   "metadata": {},
   "outputs": [],
   "source": [
    "qpu_sampler.properties['chip_id']"
   ]
  },
  {
   "cell_type": "code",
   "execution_count": null,
   "id": "60eed91f",
   "metadata": {},
   "outputs": [],
   "source": []
  }
 ],
 "metadata": {
  "kernelspec": {
   "display_name": "Python 3 (ipykernel)",
   "language": "python",
   "name": "python3"
  },
  "language_info": {
   "codemirror_mode": {
    "name": "ipython",
    "version": 3
   },
   "file_extension": ".py",
   "mimetype": "text/x-python",
   "name": "python",
   "nbconvert_exporter": "python",
   "pygments_lexer": "ipython3",
   "version": "3.8.12"
  }
 },
 "nbformat": 4,
 "nbformat_minor": 5
}
