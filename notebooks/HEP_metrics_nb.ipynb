{
 "cells": [
  {
   "cell_type": "code",
   "execution_count": 1,
   "id": "bcc755bc",
   "metadata": {
    "tags": []
   },
   "outputs": [
    {
     "name": "stdout",
     "output_type": "stream",
     "text": [
      "env: CUDA_DEVICE_ORDER=PCI_BUS_ID\n",
      "Wed Aug 28 16:11:43 2024       \n",
      "+-----------------------------------------------------------------------------+\n",
      "| NVIDIA-SMI 525.125.06   Driver Version: 525.125.06   CUDA Version: 12.0     |\n",
      "|-------------------------------+----------------------+----------------------+\n",
      "| GPU  Name        Persistence-M| Bus-Id        Disp.A | Volatile Uncorr. ECC |\n",
      "| Fan  Temp  Perf  Pwr:Usage/Cap|         Memory-Usage | GPU-Util  Compute M. |\n",
      "|                               |                      |               MIG M. |\n",
      "|===============================+======================+======================|\n",
      "|   0  NVIDIA A100-SXM...  On   | 00000000:01:00.0 Off |                    0 |\n",
      "| N/A   46C    P0    71W / 275W |    497MiB / 81920MiB |      0%      Default |\n",
      "|                               |                      |             Disabled |\n",
      "+-------------------------------+----------------------+----------------------+\n",
      "|   1  NVIDIA A100-SXM...  On   | 00000000:47:00.0 Off |                    0 |\n",
      "| N/A   45C    P0    68W / 275W |      3MiB / 81920MiB |      0%      Default |\n",
      "|                               |                      |             Disabled |\n",
      "+-------------------------------+----------------------+----------------------+\n",
      "|   2  NVIDIA A100-SXM...  On   | 00000000:81:00.0 Off |                    0 |\n",
      "| N/A   45C    P0    64W / 275W |      3MiB / 81920MiB |      0%      Default |\n",
      "|                               |                      |             Disabled |\n",
      "+-------------------------------+----------------------+----------------------+\n",
      "|   3  NVIDIA DGX Display  On   | 00000000:C1:00.0  On |                  N/A |\n",
      "| 34%   42C    P8    N/A /  50W |    533MiB /  4096MiB |      0%      Default |\n",
      "|                               |                      |                  N/A |\n",
      "+-------------------------------+----------------------+----------------------+\n",
      "|   4  NVIDIA A100-SXM...  On   | 00000000:C2:00.0 Off |                    0 |\n",
      "| N/A   46C    P0    72W / 275W |  11689MiB / 81920MiB |      0%      Default |\n",
      "|                               |                      |             Disabled |\n",
      "+-------------------------------+----------------------+----------------------+\n",
      "                                                                               \n",
      "+-----------------------------------------------------------------------------+\n",
      "| Processes:                                                                  |\n",
      "|  GPU   GI   CI        PID   Type   Process name                  GPU Memory |\n",
      "|        ID   ID                                                   Usage      |\n",
      "|=============================================================================|\n",
      "|    0   N/A  N/A   3987637      C   ...vier/anaconda3/bin/python      494MiB |\n",
      "|    3   N/A  N/A      6830      G   /usr/lib/xorg/Xorg                319MiB |\n",
      "|    3   N/A  N/A      7103      G   /usr/bin/gnome-shell               76MiB |\n",
      "|    3   N/A  N/A   2374952      G   gnome-control-center                1MiB |\n",
      "|    3   N/A  N/A   2376311      G   ...9/usr/lib/firefox/firefox       57MiB |\n",
      "|    4   N/A  N/A   3987637      C   ...vier/anaconda3/bin/python    11686MiB |\n",
      "+-----------------------------------------------------------------------------+\n"
     ]
    }
   ],
   "source": [
    "%env CUDA_DEVICE_ORDER=PCI_BUS_ID\n",
    "# %env CUDA_VISIBLE_DEVICES=4\n",
    "!nvidia-smi\n",
    "%config InlineBackend.figure_format = 'retina'"
   ]
  },
  {
   "cell_type": "code",
   "execution_count": 2,
   "id": "ca9bb0e3",
   "metadata": {
    "tags": []
   },
   "outputs": [],
   "source": [
    "import hydra\n",
    "from hydra.utils import instantiate\n",
    "from hydra import initialize, compose"
   ]
  },
  {
   "cell_type": "code",
   "execution_count": 3,
   "id": "06eecf26",
   "metadata": {
    "tags": []
   },
   "outputs": [],
   "source": [
    "import sys\n",
    "import os\n",
    "import getpass\n",
    "\n",
    "os.chdir('/home/' + getpass.getuser() + '/Projects/CaloQVAE/')\n",
    "sys.path.insert(1, '/home/' + getpass.getuser() + '/Projects/CaloQVAE/')"
   ]
  },
  {
   "cell_type": "code",
   "execution_count": 5,
   "id": "713dff99",
   "metadata": {
    "tags": []
   },
   "outputs": [
    {
     "name": "stderr",
     "output_type": "stream",
     "text": [
      "\u001b[1m[16:12:25.065]\u001b[0m \u001b[1;95mINFO \u001b[1;0m  \u001b[1mCaloQVAE                                          \u001b[0mWillkommen!\n",
      "\u001b[1m[16:12:25.066]\u001b[0m \u001b[1;95mINFO \u001b[1;0m  \u001b[1mCaloQVAE                                          \u001b[0mLoading configuration.\n"
     ]
    }
   ],
   "source": [
    "#external libraries\n",
    "import os\n",
    "import pickle\n",
    "import datetime\n",
    "import sys\n",
    "import yaml\n",
    "import json\n",
    "\n",
    "import torch.optim as optim\n",
    "import torch\n",
    "from torch import nn\n",
    "from torch.nn.functional import binary_cross_entropy_with_logits\n",
    "torch.manual_seed(32)\n",
    "import numpy as np\n",
    "np.random.seed(32)\n",
    "import matplotlib.pyplot as plt\n",
    "import hydra\n",
    "from hydra.utils import instantiate\n",
    "\n",
    "from omegaconf import OmegaConf\n",
    "\n",
    "import time\n",
    "\n",
    "# PyTorch imports\n",
    "from torch import device, load, save\n",
    "from torch.nn import DataParallel\n",
    "from torch.cuda import is_available\n",
    "\n",
    "# Add the path to the parent directory to augment search for module\n",
    "sys.path.append(os.getcwd())\n",
    "    \n",
    "# Weights and Biases\n",
    "import wandb\n",
    "\n",
    "#self defined imports\n",
    "from CaloQVAE import logging"
   ]
  },
  {
   "cell_type": "code",
   "execution_count": 6,
   "id": "b2c4521a",
   "metadata": {
    "tags": []
   },
   "outputs": [
    {
     "name": "stderr",
     "output_type": "stream",
     "text": [
      "2024-08-28 16:12:26,249 dwave.cloud \u001b[1;95mINFO \u001b[1;0m MainThread Log level for 'dwave.cloud' namespace set to 0\n",
      "\u001b[1m[16:12:26.249]\u001b[0m \u001b[1;95mINFO \u001b[1;0m  \u001b[1mdwave.cloud                                       \u001b[0mLog level for 'dwave.cloud' namespace set to 0\n"
     ]
    }
   ],
   "source": [
    "logger = logging.getLogger(__name__)\n",
    "\n",
    "from data.dataManager import DataManager\n",
    "from utils.plotting.plotProvider import PlotProvider\n",
    "from engine.engine import Engine\n",
    "from models.modelCreator import ModelCreator\n",
    "\n",
    "from utils.plotting.HighLevelFeatures import HighLevelFeatures as HLF\n",
    "# from utils.plotting import HighLevelFeatures as HLF\n",
    "# HLF_1_photons = HLF('photon', filename='/raid/javier/Datasets/CaloVAE/data/atlas/binning_dataset_1_photons.xml', wandb=False)\n",
    "# HLF_1_pions = HLF('pion', filename='/raid/javier/Datasets/CaloVAE/data/atlas/binning_dataset_1_pions.xml', wandb=False)\n",
    "# HLF_1_electron = HLF('electron', filename='/raid/javier/Datasets/CaloVAE/data/atlas_dataset2and3/binning_dataset_2.xml', wandb=False)"
   ]
  },
  {
   "cell_type": "code",
   "execution_count": 7,
   "id": "5b23d35a",
   "metadata": {
    "tags": []
   },
   "outputs": [
    {
     "data": {
      "text/plain": [
       "hydra.initialize()"
      ]
     },
     "execution_count": 7,
     "metadata": {},
     "output_type": "execute_result"
    }
   ],
   "source": [
    "hydra.core.global_hydra.GlobalHydra.instance().clear()\n",
    "initialize(version_base=None, config_path=\"../configs\")"
   ]
  },
  {
   "cell_type": "code",
   "execution_count": 8,
   "id": "80fc0148-bf38-481c-8a6c-a359e9a48303",
   "metadata": {
    "tags": []
   },
   "outputs": [],
   "source": [
    "# run_path= \"/home/javier/Projects/CaloQVAE/outputs/2024-07-18/18-22-00/wandb/run-20240718_182201-5q976hf7/files/AtlasConditionalQVAE_atlas_default_best.pth\"\n",
    "# fn = create_filenames_dict(run_path)"
   ]
  },
  {
   "cell_type": "code",
   "execution_count": 8,
   "id": "1a474a49",
   "metadata": {
    "tags": []
   },
   "outputs": [
    {
     "name": "stderr",
     "output_type": "stream",
     "text": [
      "/raid/javier/anaconda3/lib/python3.11/site-packages/hydra/_internal/defaults_list.py:251: UserWarning: In 'config.yaml': Defaults list is missing `_self_`. See https://hydra.cc/docs/1.2/upgrades/1.0_to_1.1/default_composition_order for more information\n",
      "  warnings.warn(msg, UserWarning)\n",
      "\u001b[1m[16:12:33.436]\u001b[0m \u001b[1;95mINFO \u001b[1;0m  \u001b[1mdata.dataManager                                  \u001b[0mLoading Data\n",
      "\u001b[1m[16:12:55.055]\u001b[0m \u001b[1;95mINFO \u001b[1;0m  \u001b[1mdata.dataManager                                  \u001b[0m<torch.utils.data.dataloader.DataLoader object at 0x7f6a4a27d890>: 80000 events, 625 batches\n",
      "\u001b[1m[16:12:55.056]\u001b[0m \u001b[1;95mINFO \u001b[1;0m  \u001b[1mdata.dataManager                                  \u001b[0m<torch.utils.data.dataloader.DataLoader object at 0x7f6a4a287ed0>: 10000 events, 10 batches\n",
      "\u001b[1m[16:12:55.057]\u001b[0m \u001b[1;95mINFO \u001b[1;0m  \u001b[1mdata.dataManager                                  \u001b[0m<torch.utils.data.dataloader.DataLoader object at 0x7f6a4a29fad0>: 10000 events, 10 batches\n",
      "\u001b[1m[16:12:57.221]\u001b[0m \u001b[1;95mINFO \u001b[1;0m  \u001b[1mmodels.modelCreator                               \u001b[0mInitialising Model Type AtlasConditionalQVAE3D\n",
      "2024-08-28 16:12:57,228 dwave.cloud.client.base \u001b[1;95mINFO \u001b[1;0m MainThread Fetching definitions of all available solvers\n",
      "\u001b[1m[16:12:57.228]\u001b[0m \u001b[1;95mINFO \u001b[1;0m  \u001b[1mdwave.cloud.client.base                           \u001b[0mFetching definitions of all available solvers\n",
      "2024-08-28 16:12:58,419 dwave.cloud.client.base \u001b[1;95mINFO \u001b[1;0m MainThread Received solver data for 7 solver(s).\n",
      "\u001b[1m[16:12:58.419]\u001b[0m \u001b[1;95mINFO \u001b[1;0m  \u001b[1mdwave.cloud.client.base                           \u001b[0mReceived solver data for 7 solver(s).\n",
      "2024-08-28 16:12:58,444 dwave.cloud.client.base \u001b[1;95mINFO \u001b[1;0m MainThread Adding solver StructuredSolver(id='Advantage_system4.1')\n",
      "\u001b[1m[16:12:58.444]\u001b[0m \u001b[1;95mINFO \u001b[1;0m  \u001b[1mdwave.cloud.client.base                           \u001b[0mAdding solver StructuredSolver(id='Advantage_system4.1')\n",
      "2024-08-28 16:12:58,478 dwave.cloud.client.base \u001b[1;95mINFO \u001b[1;0m MainThread Adding solver StructuredSolver(id='Advantage_system6.4')\n",
      "\u001b[1m[16:12:58.478]\u001b[0m \u001b[1;95mINFO \u001b[1;0m  \u001b[1mdwave.cloud.client.base                           \u001b[0mAdding solver StructuredSolver(id='Advantage_system6.4')\n",
      "2024-08-28 16:12:58,491 dwave.cloud.client.base \u001b[1;95mINFO \u001b[1;0m MainThread Adding solver StructuredSolver(id='Advantage2_prototype2.3')\n",
      "\u001b[1m[16:12:58.491]\u001b[0m \u001b[1;95mINFO \u001b[1;0m  \u001b[1mdwave.cloud.client.base                           \u001b[0mAdding solver StructuredSolver(id='Advantage2_prototype2.3')\n",
      "2024-08-28 16:12:58,582 dwave.cloud.client.base \u001b[1;95mINFO \u001b[1;0m MainThread Fetching definitions of all available solvers\n",
      "\u001b[1m[16:12:58.582]\u001b[0m \u001b[1;95mINFO \u001b[1;0m  \u001b[1mdwave.cloud.client.base                           \u001b[0mFetching definitions of all available solvers\n",
      "2024-08-28 16:12:59,513 dwave.cloud.client.base \u001b[1;95mINFO \u001b[1;0m MainThread Received solver data for 7 solver(s).\n",
      "\u001b[1m[16:12:59.513]\u001b[0m \u001b[1;95mINFO \u001b[1;0m  \u001b[1mdwave.cloud.client.base                           \u001b[0mReceived solver data for 7 solver(s).\n",
      "2024-08-28 16:12:59,725 dwave.cloud.client.base \u001b[1;95mINFO \u001b[1;0m MainThread Adding solver StructuredSolver(id='Advantage_system4.1')\n",
      "\u001b[1m[16:12:59.725]\u001b[0m \u001b[1;95mINFO \u001b[1;0m  \u001b[1mdwave.cloud.client.base                           \u001b[0mAdding solver StructuredSolver(id='Advantage_system4.1')\n",
      "2024-08-28 16:12:59,759 dwave.cloud.client.base \u001b[1;95mINFO \u001b[1;0m MainThread Adding solver StructuredSolver(id='Advantage_system6.4')\n",
      "\u001b[1m[16:12:59.759]\u001b[0m \u001b[1;95mINFO \u001b[1;0m  \u001b[1mdwave.cloud.client.base                           \u001b[0mAdding solver StructuredSolver(id='Advantage_system6.4')\n",
      "2024-08-28 16:12:59,773 dwave.cloud.client.base \u001b[1;95mINFO \u001b[1;0m MainThread Adding solver StructuredSolver(id='Advantage2_prototype2.3')\n",
      "\u001b[1m[16:12:59.773]\u001b[0m \u001b[1;95mINFO \u001b[1;0m  \u001b[1mdwave.cloud.client.base                           \u001b[0mAdding solver StructuredSolver(id='Advantage2_prototype2.3')\n",
      "\u001b[1m[16:13:00.565]\u001b[0m \u001b[1;95mINFO \u001b[1;0m  \u001b[1mmodels.autoencoders.AtlasConditionalQVAE3D        \u001b[0mGumBoltAtlasCRBMCNN::decoder SmallPB3Dv2\n"
     ]
    },
    {
     "name": "stdout",
     "output_type": "stream",
     "text": [
      "Initializing NetworkV3\n"
     ]
    }
   ],
   "source": [
    "\n",
    "# config=compose(config_name=\"config.yaml\")\n",
    "config=compose(config_name=\"config.yaml\")\n",
    "\n",
    "HLF_1_photons = HLF('photon', filename=config.data.binning_xml_photons, wandb=False)\n",
    "HLF_1_pions = HLF('pion', filename=config.data.binning_xml_pions, wandb=False)\n",
    "HLF_1_electron = HLF('electron', filename=config.data.binning_xml_electrons, wandb=False)\n",
    "\n",
    "wandb.init(project=\"caloqvae\", entity=config.data.entity, config=config, mode='disabled')\n",
    "modelCreator = ModelCreator(cfg=config)\n",
    "dataMgr = DataManager(cfg=config)\n",
    "#initialise data loaders\n",
    "dataMgr.init_dataLoaders()\n",
    "#run pre processing: get/set input dimensions and mean of train dataset\n",
    "dataMgr.pre_processing()\n",
    "\n",
    "if config.model.activation_fct.lower()==\"relu\":\n",
    "    modelCreator.default_activation_fct=torch.nn.ReLU()\n",
    "elif config.model.activation_fct.lower()==\"tanh\":\n",
    "    modelCreator.default_activation_fct=torch.nn.Tanh()\n",
    "else:\n",
    "    logger.warning(\"Setting identity as default activation fct\")\n",
    "    modelCreator.default_activation_fct=torch.nn.Identity()\n",
    "\n",
    "#instantiate the chosen model\n",
    "#loads from file \n",
    "model=modelCreator.init_model(dataMgr=dataMgr)\n",
    "\n",
    "#create the NN infrastructure\n",
    "model.create_networks()"
   ]
  },
  {
   "cell_type": "code",
   "execution_count": 9,
   "id": "d5238a51",
   "metadata": {
    "tags": []
   },
   "outputs": [
    {
     "name": "stderr",
     "output_type": "stream",
     "text": [
      "\u001b[1m[16:13:00.747]\u001b[0m \u001b[1;95mINFO \u001b[1;0m  \u001b[1mwandb                                             \u001b[0mWatching\n",
      "/raid/javier/anaconda3/lib/python3.11/site-packages/coffea/util.py:154: FutureWarning: In coffea version v2023.3.0 (target date: 31 Mar 2023), this will be an error.\n",
      "(Set coffea.deprecations_as_errors = True to get a stack trace now.)\n",
      "ImportError: coffea.hist is deprecated\n",
      "  warnings.warn(message, FutureWarning)\n",
      "\u001b[1m[16:13:01.110]\u001b[0m \u001b[1;95mINFO \u001b[1;0m  \u001b[1mengine.engineAtlas                                \u001b[0mSetting up engine Atlas.\n",
      "\u001b[1m[16:13:01.111]\u001b[0m \u001b[1;95mINFO \u001b[1;0m  \u001b[1mengine.engineCaloV3                               \u001b[0mSetting up engine Calo.\n",
      "\u001b[1m[16:13:01.111]\u001b[0m \u001b[1;95mINFO \u001b[1;0m  \u001b[1mengine.engine                                     \u001b[0mSetting up default engine.\n"
     ]
    }
   ],
   "source": [
    "#Not printing much useful info at the moment to avoid clutter. TODO optimise\n",
    "model.print_model_info()\n",
    "# for name, param in model.named_parameters():\n",
    "#         print(name, param.requires_grad)\n",
    "\n",
    "# Load the model on the GPU if applicable\n",
    "# dev = None\n",
    "# if (config.device == 'gpu') and config.gpu_list:\n",
    "#     logger.info('Requesting GPUs. GPU list :' + str(config.gpu_list))\n",
    "#     devids = [\"cuda:{0}\".format(x) for x in list(config.gpu_list)]\n",
    "#     logger.info(\"Main GPU : \" + devids[0])\n",
    "\n",
    "#     if is_available():\n",
    "#         print(devids[0])\n",
    "#         dev = device(devids[0])\n",
    "#         if len(devids) > 1:\n",
    "#             logger.info(f\"Using DataParallel on {devids}\")\n",
    "#             model = DataParallel(model, device_ids=list(config.gpu_list))\n",
    "#         logger.info(\"CUDA available\")\n",
    "#     else:\n",
    "#         dev = device('cpu')\n",
    "#         logger.info(\"CUDA unavailable\")\n",
    "# else:\n",
    "#     logger.info('Requested CPU or unable to use GPU. Setting CPU as device.')\n",
    "#     dev = device('cpu')\n",
    "# dev = torch.device(\"cuda:0\")\n",
    "dev = \"cuda:{0}\".format(config.gpu_list[0])\n",
    "\n",
    "# Send the model to the selected device\n",
    "# model.to(dev)\n",
    "# Log metrics with wandb\n",
    "wandb.watch(model)\n",
    "\n",
    "# For some reason, need to use postional parameter cfg instead of named parameter\n",
    "# with updated Hydra - used to work with named param but now is cfg=None \n",
    "engine=instantiate(config.engine, config)\n",
    "\n",
    "#TODO for some reason hydra double instantiates the engine in a\n",
    "#newer version if cfg=config is passed as an argument. This is a workaround.\n",
    "#Find out why that is...\n",
    "engine._config=config\n",
    "#add dataMgr instance to engine namespace\n",
    "engine.data_mgr=dataMgr\n",
    "#add device instance to engine namespace\n",
    "engine.device=dev    \n",
    "#instantiate and register optimisation algorithm\n",
    "engine.optimiser = torch.optim.Adam(model.parameters(),\n",
    "                                    lr=config.engine.learning_rate)\n",
    "#add the model instance to the engine namespace\n",
    "engine.model = model\n",
    "# add the modelCreator instance to engine namespace\n",
    "engine.model_creator = modelCreator\n",
    "engine.model = engine.model.to(dev)"
   ]
  },
  {
   "cell_type": "code",
   "execution_count": 10,
   "id": "158ecfae",
   "metadata": {
    "tags": []
   },
   "outputs": [
    {
     "name": "stderr",
     "output_type": "stream",
     "text": [
      "\u001b[1m[16:13:22.424]\u001b[0m \u001b[1;95mINFO \u001b[1;0m  \u001b[1mdata.dataManager                                  \u001b[0m<torch.utils.data.dataloader.DataLoader object at 0x7f69647bf010>: 80000 events, 625 batches\n",
      "\u001b[1m[16:13:22.425]\u001b[0m \u001b[1;95mINFO \u001b[1;0m  \u001b[1mdata.dataManager                                  \u001b[0m<torch.utils.data.dataloader.DataLoader object at 0x7f695d7c7910>: 10000 events, 10 batches\n",
      "\u001b[1m[16:13:22.425]\u001b[0m \u001b[1;95mINFO \u001b[1;0m  \u001b[1mdata.dataManager                                  \u001b[0m<torch.utils.data.dataloader.DataLoader object at 0x7f695c17aa10>: 10000 events, 10 batches\n"
     ]
    }
   ],
   "source": [
    "train_loader,test_loader,val_loader = engine.data_mgr.create_dataLoader()"
   ]
  },
  {
   "cell_type": "code",
   "execution_count": 11,
   "id": "a4e8abc0-049d-416c-b6e8-b9d5ea4b3a1b",
   "metadata": {
    "tags": []
   },
   "outputs": [
    {
     "data": {
      "text/plain": [
       "'Advantage_system6.4'"
      ]
     },
     "execution_count": 11,
     "metadata": {},
     "output_type": "execute_result"
    }
   ],
   "source": [
    "engine.model._qpu_sampler.properties[\"chip_id\"]"
   ]
  },
  {
   "cell_type": "code",
   "execution_count": 14,
   "id": "18861900",
   "metadata": {
    "tags": []
   },
   "outputs": [
    {
     "name": "stderr",
     "output_type": "stream",
     "text": [
      "\u001b[1m[17:19:16.602]\u001b[0m \u001b[1;95mINFO \u001b[1;0m  \u001b[1mmodels.modelCreator                               \u001b[0mLoading state\n",
      "\u001b[1m[17:19:16.710]\u001b[0m \u001b[1;95mINFO \u001b[1;0m  \u001b[1mmodels.modelCreator                               \u001b[0mLoading weights from file : /home/javier/Projects/CaloQVAE/outputs/2024-06-24/20-05-50/wandb/run-20240624_200551-lejg0j91/files/AtlasConditionalQVAE_atlas_default_150.pth\n"
     ]
    },
    {
     "name": "stdout",
     "output_type": "stream",
     "text": [
      "AtlasConditionalQVAE\n",
      "electron-ds2\n",
      "False True 1e-07\n",
      "Loading weights for module =  _activation_fct\n",
      "Loading weights for module =  _bce_loss\n",
      "Loading weights for module =  _energy_activation_fct\n",
      "Loading weights for module =  _hit_activation_fct\n",
      "Loading weights for module =  _output_loss\n",
      "Loading weights for module =  _hit_loss\n",
      "Loading weights for module =  _hit_smoothing_dist_mod\n",
      "Loading weights for module =  _inference_energy_activation_fct\n",
      "Loading weights for module =  encoder\n",
      "Loading weights for module =  prior\n",
      "Loading weights for module =  decoder\n"
     ]
    }
   ],
   "source": [
    "\n",
    "    \n",
    "\n",
    "\n",
    "\n",
    "#morning-bush-469 | CNN + cond + scaled data + Cyl EncDec + lin/sqrt/log LONG energy encoded + CRBM 1st Partition Binv2 +scaled\n",
    "run_path = \"/home/javier/Projects/CaloQVAE/outputs/2024-06-24/20-05-50/wandb/run-20240624_200551-lejg0j91/files/AtlasConditionalQVAE_atlas_default_150.pth\"\n",
    "modelname = 'morning-bush-469'\n",
    "datascaled = 'reduced'\n",
    "with open(\"/home/javier/Projects/CaloQVAE/outputs/2024-06-24/20-05-50/wandb/run-20240624_200551-lejg0j91/files/config.yaml\", 'r') as file:\n",
    "    model_config = yaml.safe_load(file)\n",
    "    R = json.loads(model_config[\"_content\"][\"value\"]['engine'].replace(\"'\", \"\\\"\"))['r_param']\n",
    "    reducedata = True if model_config[\"_content\"][\"value\"][\"reducedata\"] == 'True' else False\n",
    "    scaled=False\n",
    "    cond = True\n",
    "    \n",
    "    \n",
    "# #flowing-energy-471 | CNN + cond + scaled data + Cyl EncDec + lin/sqrt/log LONG energy encoded + CRBM 1st Partition Binv2 +scaled 0.005\n",
    "# run_path = \"/home/javier/Projects/CaloQVAE/outputs/2024-06-27/14-36-20/wandb/run-20240627_143621-t4xwn93t/files/AtlasConditionalQVAE_atlas_default_150.pth\"\n",
    "# modelname = 'flowing-energy-471'\n",
    "# datascaled = 'reduced'\n",
    "# with open(\"/home/javier/Projects/CaloQVAE/outputs/2024-06-27/14-36-20/wandb/run-20240627_143621-t4xwn93t/files/config.yaml\", 'r') as file:\n",
    "#     model_config = yaml.safe_load(file)\n",
    "#     R = json.loads(model_config[\"_content\"][\"value\"]['engine'].replace(\"'\", \"\\\"\"))['r_param']\n",
    "#     reducedata = True if model_config[\"_content\"][\"value\"][\"reducedata\"] == 'True' else False\n",
    "#     scaled=False\n",
    "#     cond = True\n",
    "    \n",
    "    \n",
    "# #crisp-wildflower-472 | CNN + cond + scaled data + Cyl EncDec + lin/sqrt/log LONG energy encoded + CRBM 1st Partition Binv2 +scaled \n",
    "# run_path = \"/home/javier/Projects/CaloQVAE/outputs/2024-06-27/14-39-50/wandb/run-20240627_143952-x09rgjmp/files/AtlasConditionalQVAE_atlas_default_150.pth\"\n",
    "# modelname = 'crisp-wildflower-472'\n",
    "# datascaled = 'reduced'\n",
    "# with open(\"/home/javier/Projects/CaloQVAE/outputs/2024-06-27/14-39-50/wandb/run-20240627_143952-x09rgjmp/files/config.yaml\", 'r') as file:\n",
    "#     model_config = yaml.safe_load(file)\n",
    "#     R = json.loads(model_config[\"_content\"][\"value\"]['engine'].replace(\"'\", \"\\\"\"))['r_param']\n",
    "#     reducedata = True if model_config[\"_content\"][\"value\"][\"reducedata\"] == 'True' else False\n",
    "#     scaled=False\n",
    "#     cond = True\n",
    "    \n",
    "# #peachy-elevator-473 | CNN + cond + scaled data + Cyl EncDec + lin/sqrt/log LONG energy encoded + CRBM 1st Partition Binv2 +scaled \n",
    "# run_path = \"/home/javier/Projects/CaloQVAE/outputs/2024-06-27/14-42-27/wandb/run-20240627_144228-4sttgocs/files/GumBoltAtlasPRBMCNN_atlas_default_best.pth\"\n",
    "# modelname = 'peachy-elevator-473'\n",
    "# datascaled = 'reduced'\n",
    "# with open(\"/home/javier/Projects/CaloQVAE/outputs/2024-06-27/14-42-27/wandb/run-20240627_144228-4sttgocs/files/config.yaml\", 'r') as file:\n",
    "#     model_config = yaml.safe_load(file)\n",
    "#     R = json.loads(model_config[\"_content\"][\"value\"]['engine'].replace(\"'\", \"\\\"\"))['r_param']\n",
    "#     reducedata = True if model_config[\"_content\"][\"value\"][\"reducedata\"] == 'True' else False\n",
    "#     scaled=False\n",
    "#     cond = False\n",
    "\n",
    "\n",
    "# #resilient-surf-478 | CNN + cond + scaled data + Cyl EncDec + lin/sqrt/log LONG energy encoded + CRBM 1st Partition Binv2 +scaled\n",
    "# run_path = \"/home/javier/Projects/CaloQVAE/outputs/2024-07-10/13-42-20/wandb/run-20240710_134221-ygiq6eo4/files/AtlasConditionalQVAE_atlas_default_130.pth\"\n",
    "# modelname = 'resilient-surf-478'\n",
    "# datascaled = 'reduced'\n",
    "# with open(\"/home/javier/Projects/CaloQVAE/outputs/2024-07-10/13-42-20/wandb/run-20240710_134221-ygiq6eo4/files/config.yaml\", 'r') as file:\n",
    "#     model_config = yaml.safe_load(file)\n",
    "#     R = json.loads(model_config[\"_content\"][\"value\"]['engine'].replace(\"'\", \"\\\"\"))['r_param']\n",
    "#     reducedata = True if model_config[\"_content\"][\"value\"][\"reducedata\"] == 'True' else False\n",
    "#     scaled=False\n",
    "#     cond = True\n",
    "    \n",
    "\n",
    "# #earnest-frost-483 | CNN + cond + scaled data + Cyl EncDec + lin/sqrt/log LONG energy encoded + CRBM 1st Partition Binv2 +scaled\n",
    "# run_path = \"/home/javier/Projects/CaloQVAE/outputs/2024-07-18/18-22-00/wandb/run-20240721_142426-5q976hf7/files/AtlasConditionalQVAE_atlas_default_latest.pth\"\n",
    "# modelname = 'earnest-frost-483'\n",
    "# datascaled = 'reduced'\n",
    "# with open(\"/home/javier/Projects/CaloQVAE/outputs/2024-07-10/13-42-20/wandb/run-20240710_134221-ygiq6eo4/files/config.yaml\", 'r') as file:\n",
    "#     model_config = yaml.safe_load(file)\n",
    "#     R = json.loads(model_config[\"_content\"][\"value\"]['engine'].replace(\"'\", \"\\\"\"))['r_param']\n",
    "#     reducedata = True if model_config[\"_content\"][\"value\"][\"reducedata\"] == 'True' else False\n",
    "#     scaled=False\n",
    "#     cond = True\n",
    "    \n",
    "# #stellar-terrain-484 | CNN + cond + scaled data + Cyl EncDec + lin/sqrt/log LONG energy encoded + CRBM 1st Partition Binv2 +scaled\n",
    "# run_path = \"/home/javier/Projects/CaloQVAE/outputs/2024-07-21/15-00-55/wandb/run-20240723_132510-ycmoh4pu/files/AtlasConditionalQVAE_atlas_default_120.pth\"\n",
    "# modelname = 'stellar-terrain-484'\n",
    "# datascaled = 'reduced'\n",
    "# with open(\"/home/javier/Projects/CaloQVAE/outputs/2024-07-10/13-42-20/wandb/run-20240710_134221-ygiq6eo4/files/config.yaml\", 'r') as file:\n",
    "#     model_config = yaml.safe_load(file)\n",
    "#     R = json.loads(model_config[\"_content\"][\"value\"]['engine'].replace(\"'\", \"\\\"\"))['r_param']\n",
    "#     reducedata = True if model_config[\"_content\"][\"value\"][\"reducedata\"] == 'True' else False\n",
    "#     scaled=False\n",
    "#     cond = True\n",
    "\n",
    "    \n",
    "arch = config['model']['model_type']\n",
    "part = config['data']['particle_type']\n",
    "print(arch)\n",
    "print(part)\n",
    "print(scaled, reducedata, R)\n",
    "\n",
    "\n",
    "# load_state(model, run_path, 'cuda:{0}'.format(cfg.gpu_list[0]))\n",
    "# load_state(model, run_path, dev)\n",
    "modelCreator.load_state(run_path, dev)\n",
    "engine.model.eval();"
   ]
  },
  {
   "cell_type": "code",
   "execution_count": 22,
   "id": "8667d9b5-0589-41c8-9b9b-5c4945ba97ed",
   "metadata": {},
   "outputs": [],
   "source": [
    "import jetnet\n",
    "import re\n",
    "\n",
    "def extract_shower_and_energy(given_file, which):\n",
    "    \"\"\" reads .hdf5 file and returns samples and their energy \"\"\"\n",
    "    print(\"Extracting showers from {} file ...\".format(which))\n",
    "    if which == 0.:\n",
    "        shower = given_file['showers'][:]\n",
    "        energy = given_file['incident_energies'][:]\n",
    "    else:\n",
    "        shower = given_file['showers'][:]\n",
    "        energy = given_file['incidence energy'][:]\n",
    "    print(\"Extracting showers from {} file: DONE.\\n\".format(which))\n",
    "    return shower, energy\n",
    "\n",
    "def prepare_high_data_for_classifier(test, e_inc, hlf_class, label):\n",
    "    \"\"\" takes hdf5_file, extracts high-level features, appends label, returns array \"\"\"\n",
    "    # voxel, E_inc = extract_shower_and_energy(hdf5_file, label)\n",
    "    voxel, E_inc = test, e_inc\n",
    "    E_tot = hlf_class.GetEtot()\n",
    "    E_layer = []\n",
    "    for layer_id in hlf_class.GetElayers():\n",
    "        E_layer.append(hlf_class.GetElayers()[layer_id].reshape(-1, 1))\n",
    "    EC_etas = []\n",
    "    EC_phis = []\n",
    "    Width_etas = []\n",
    "    Width_phis = []\n",
    "    for layer_id in hlf_class.layersBinnedInAlpha:\n",
    "        EC_etas.append(hlf_class.GetECEtas()[layer_id].reshape(-1, 1))\n",
    "        EC_phis.append(hlf_class.GetECPhis()[layer_id].reshape(-1, 1))\n",
    "        Width_etas.append(hlf_class.GetWidthEtas()[layer_id].reshape(-1, 1))\n",
    "        Width_phis.append(hlf_class.GetWidthPhis()[layer_id].reshape(-1, 1))\n",
    "    E_layer = np.concatenate(E_layer, axis=1)\n",
    "    EC_etas = np.concatenate(EC_etas, axis=1)\n",
    "    EC_phis = np.concatenate(EC_phis, axis=1)\n",
    "    Width_etas = np.concatenate(Width_etas, axis=1)\n",
    "    Width_phis = np.concatenate(Width_phis, axis=1)\n",
    "    ret = np.concatenate([np.log10(E_inc), np.log10(E_layer+1e-8), EC_etas/1e2, EC_phis/1e2,\n",
    "                          Width_etas/1e2, Width_phis/1e2, label*np.ones_like(E_inc)], axis=1)\n",
    "    return ret\n",
    "\n",
    "def check_and_replace_nans_infs(data):\n",
    "    if np.isnan(data).any() or np.isinf(data).any():\n",
    "        print(\"Data contains NaNs or Infs. Handling them...\")\n",
    "        # Replace NaNs and Infs with zeros (or you can choose a different strategy)\n",
    "        data = np.nan_to_num(data, nan=0.0, posinf=0.0, neginf=0.0)\n",
    "    return data\n",
    "\n",
    "def get_fpd_kpd_metrics(test_data, gen_data, syn_bool, hlf, ref_hlf):\n",
    "    print(\"TESTING HELLO\")\n",
    "    if syn_bool == True:\n",
    "        data_showers = (np.array(test_data['showers']))\n",
    "        energy = (np.array(test_data['incident_energies']))\n",
    "        gen_showers = (np.array(gen_data['showers'], dtype=float))\n",
    "        hlf.Einc = energy\n",
    "    else:\n",
    "        data_showers = test_data\n",
    "        gen_showers = gen_data\n",
    "    hlf.CalculateFeatures(data_showers)\n",
    "    ref_hlf.CalculateFeatures(gen_showers)\n",
    "    hlf_test_data = prepare_high_data_for_classifier(test_data, hlf.Einc, hlf, 0.)[:, :-1]\n",
    "    hlf_gen_data = prepare_high_data_for_classifier(gen_data, hlf.Einc, ref_hlf, 1.)[:, :-1]\n",
    "    hlf_test_data = check_and_replace_nans_infs(hlf_test_data)\n",
    "    hlf_gen_data = check_and_replace_nans_infs(hlf_gen_data)\n",
    "    fpd_val, fpd_err = jetnet.evaluation.fpd(hlf_test_data, hlf_gen_data)\n",
    "    kpd_val, kpd_err = jetnet.evaluation.kpd(hlf_test_data, hlf_gen_data)\n",
    "    \n",
    "    result_str = (\n",
    "        f\"FPD (x10^3): {fpd_val*1e3:.4f} ± {fpd_err*1e3:.4f}\\n\" \n",
    "        f\"KPD (x10^3): {kpd_val*1e3:.4f} ± {kpd_err*1e3:.4f}\"\n",
    "    )\n",
    "    \n",
    "    print(result_str)\n",
    "    return fpd_val, fpd_err, kpd_val, kpd_err\n",
    "\n",
    "\n",
    "def search_HEPMetric(run_path, engine, dev, step = 10, data=\"caloqvae\"):\n",
    "    fn = create_filenames_dict(run_path, data)\n",
    "    en_list = []\n",
    "    fpd_recon, fpd_sample = [], []\n",
    "    kpd_recon, kpd_sample = [], []\n",
    "    hlf, ref_hlf = None, None\n",
    "    \n",
    "    R = engine._config.engine.r_param\n",
    "    reducedata = engine._config.reducedata\n",
    "    scaled=engine._config.data.scaled\n",
    "    \n",
    "    for i in range(step,(1+fn[\"size\"])*step,step):\n",
    "\n",
    "        _right_dir = get_right_dir(i, fn)\n",
    "        # _pattern = get_right_pattern(i, fn)\n",
    "        model_path = fn[\"prefix\"] + \"/\" + _right_dir + '/files/'\n",
    "        # modelCreator.load_state(model_path + get_right_pattern(i, fn), dev)\n",
    "        full_path = model_path + get_right_pattern(i, fn)\n",
    "        logger.info(f'Loading model {full_path}')\n",
    "        engine.model_creator.load_state(full_path, dev)\n",
    "        engine.model.eval();\n",
    "        \n",
    "        # get the samples\n",
    "        xtarget_samples = []\n",
    "        xrecon_samples = []\n",
    "        xgen_samples = []\n",
    "        xgen_samples_qpu = []\n",
    "        n_samples4_qpu = 200\n",
    "        entarget_samples = []\n",
    "        for data_loader in [val_loader,test_loader]: #, train_loader]:\n",
    "            arr = gen_synth_data(engine, R, reducedata, data_loader)\n",
    "            xtarget_samples.append(arr[0])\n",
    "            xrecon_samples.append(arr[1])\n",
    "            xgen_samples.append(arr[2])\n",
    "            entarget_samples.append(arr[3])\n",
    "            \n",
    "            \n",
    "        xtarget_samples = torch.cat(xtarget_samples, dim=0)\n",
    "        xrecon_samples = torch.cat(xrecon_samples, dim=0)\n",
    "        xgen_samples = torch.cat(xgen_samples, dim=0)\n",
    "        # xgen_samples_qpu = torch.cat(xgen_samples_qpu, dim=0)\n",
    "        entarget_samples = torch.cat(entarget_samples, dim=0)\n",
    "        \n",
    "        # xrecon_samples_2 = torch.cat(xrecon_samples_2, dim=0)\n",
    "        if i == step:\n",
    "            logger.info(\"First epoch\")\n",
    "            hlf = HLF('electron', filename=engine._config.data.binning_xml_electrons, wandb=False)\n",
    "            ref_hlf = HLF('electron', filename=engine._config.data.binning_xml_electrons, wandb=False)\n",
    "            hlf.Einc = entarget_samples\n",
    "    \n",
    "        recon_HEPMetrics = get_fpd_kpd_metrics(np.array(xtarget_samples), np.array(xrecon_samples), False, hlf, ref_hlf)\n",
    "        sample_HEPMetrics = get_fpd_kpd_metrics(np.array(xtarget_samples), np.array(xgen_samples), False, hlf, ref_hlf)\n",
    "\n",
    "        en_list.append(i)\n",
    "        fpd_recon.append(recon_HEPMetrics[0])\n",
    "        kpd_recon.append(recon_HEPMetrics[2])\n",
    "        fpd_sample.append(sample_HEPMetrics[0])\n",
    "        kpd_sample.append(sample_HEPMetrics[2])\n",
    "        logger.info(\"Finished generating HEP Metrics for epoch \" + str(i) + \" ...\")\n",
    "    return en_list, fpd_recon, kpd_recon, fpd_sample, kpd_sample\n",
    "\n",
    "def gen_synth_data(engine, R, reducedata, data_loader):\n",
    "    xtarget_samples = []\n",
    "    xrecon_samples = []\n",
    "    xgen_samples = []\n",
    "    xgen_samples_qpu = []\n",
    "    entarget_samples = []\n",
    "    \n",
    "    with torch.no_grad():\n",
    "        for xx in data_loader:\n",
    "            in_data, true_energy, in_data_flat = engine._preprocess(xx[0],xx[1])\n",
    "            ###############################################\n",
    "            # true_energy = true_energy[:n_samples4_qpu,:]\n",
    "            # in_data = in_data[:n_samples4_qpu,:]\n",
    "            ##############################################\n",
    "            # print(in_data.shape)\n",
    "            if reducedata:\n",
    "                in_data = engine._reduce(in_data, true_energy, R=R)\n",
    "            fwd_output = engine.model((in_data, true_energy), False)\n",
    "            if reducedata:\n",
    "                in_data = engine._reduceinv(in_data, true_energy, R=R)\n",
    "                recon_data = engine._reduceinv(fwd_output.output_activations, true_energy, R=R)\n",
    "                engine._model.sampler._batch_size = true_energy.shape[0]\n",
    "                if True:\n",
    "                    sample_energies, sample_data = engine._model.generate_samples_cond(num_samples=true_energy.shape[0], true_energy=true_energy, measure_time=True)\n",
    "                    # sample_energies_qpu, sample_data_qpu = engine.model.generate_samples_qpu_cond(true_energy=true_energy, num_samples=1, thrsh=30, beta=1/beta0)\n",
    "                else:\n",
    "                    sample_energies, sample_data = engine._model.generate_samples(num_samples=true_energy.shape[0], true_energy=true_energy, measure_time=True)\n",
    "                    # sample_energies_qpu, sample_data_qpu = engine._model.generate_samples_qpu(num_samples=true_energy.shape[0], true_energy=true_energy, measure_time=True, beta=1/beta0)\n",
    "                engine._model.sampler._batch_size = engine._config.engine.rbm_batch_size\n",
    "                sample_data = engine._reduceinv(sample_data, sample_energies, R=R)\n",
    "                # sample_data_qpu = engine._reduceinv(sample_data_qpu, sample_energies_qpu, R=R)\n",
    "            elif scaled:\n",
    "                in_data = torch.tensor(engine._data_mgr.inv_transform(in_data.detach().cpu().numpy()))\n",
    "                recon_data = torch.tensor(engine._data_mgr.inv_transform(fwd_output.output_activations.detach().cpu().numpy()))\n",
    "                # recon_data_2 = torch.tensor(engine._data_mgr.inv_transform(fwd_just_act.detach().cpu().numpy()))\n",
    "                # recon_data_2 = torch.tensor(engine._data_mgr.inv_transform(fwd_energy_shift.detach().cpu().numpy()))\n",
    "                engine._model.sampler._batch_size = true_energy.shape[0]\n",
    "\n",
    "                if True:\n",
    "                    sample_energies, sample_data = engine._model.generate_samples_cond(num_samples=true_energy.shape[0], true_energy=true_energy, measure_time=True)\n",
    "                    # sample_energies_qpu, sample_data_qpu = engine.model.generate_samples_qpu_cond(true_energy=true_energy[:100,:], num_samples=1, thrsh=30, beta=1/beta0)\n",
    "                else:\n",
    "                    sample_energies, sample_data = engine._model.generate_samples(num_samples=true_energy.shape[0], true_energy=true_energy, measure_time=True)\n",
    "                    # sample_energies_qpu, sample_data_qpu = engine._model.generate_samples_qpu(num_samples=true_energy.shape[0], true_energy=true_energy, measure_time=True, beta=1/beta0)\n",
    "                engine._model.sampler._batch_size = engine._config.engine.rbm_batch_size\n",
    "                sample_data = torch.tensor(engine._data_mgr.inv_transform(sample_data.detach().cpu().numpy()))\n",
    "                # sample_data_qpu = torch.tensor(engine._data_mgr.inv_transform(sample_data_qpu.detach().cpu().numpy()))\n",
    "            else:\n",
    "                in_data = in_data.detach().cpu()*1000\n",
    "                recon_data = fwd_output.output_activations.detach().cpu()*1000\n",
    "                engine._model.sampler._batch_size = true_energy.shape[0]\n",
    "                sample_energies, sample_data = engine._model.generate_samples(num_samples=true_energy.shape[0], true_energy=true_energy)\n",
    "                engine._model.sampler._batch_size = engine._config.engine.rbm_batch_size\n",
    "                # sample_energies, sample_data = engine._model.generate_samples(num_samples=2048)\n",
    "                sample_data = sample_data.detach().cpu()*1000\n",
    "\n",
    "\n",
    "            xtarget_samples.append(in_data.detach().cpu())\n",
    "            xrecon_samples.append( recon_data.detach().cpu())\n",
    "            xgen_samples.append( sample_data.detach().cpu())\n",
    "            # xgen_samples_qpu.append( sample_data_qpu.detach().cpu())\n",
    "            entarget_samples.append(true_energy.detach().cpu())\n",
    "            \n",
    "        xtarget_samples = torch.cat(xtarget_samples, dim=0)\n",
    "        xrecon_samples = torch.cat(xrecon_samples, dim=0)\n",
    "        xgen_samples = torch.cat(xgen_samples, dim=0)\n",
    "        # xgen_samples_qpu = torch.cat(xgen_samples_qpu, dim=0)\n",
    "        entarget_samples = torch.cat(entarget_samples, dim=0)\n",
    "\n",
    "\n",
    "    return xtarget_samples, xrecon_samples, xgen_samples, entarget_samples\n",
    "\n",
    "\n",
    "\n",
    "def save_plot(HEPMetric_output, run_path):\n",
    "    path = run_path.split('files')[0] + 'files/'\n",
    "    en_list, fpd_recon, kpd_recon, fpd_sample, kpd_sample = HEPMetric_output[0], HEPMetric_output[1], HEPMetric_output[2], HEPMetric_output[3], HEPMetric_output[4]\n",
    "    fig, (ax1, ax2) = plt.subplots(1, 2, figsize=(12, 6))\n",
    "\n",
    "    # Plot fpd_recon and fpd_sample on ax1\n",
    "    ax1.scatter(en_list, fpd_recon, color='blue', label='FPD Recon')\n",
    "    ax1.scatter(en_list, fpd_sample, color='green', label='FPD Sample')\n",
    "    ax1.set_xlabel('Epoch Number')\n",
    "    ax1.set_ylabel('FPD Values')\n",
    "    ax1.set_title('FPD Recon vs FPD Sample')\n",
    "    ax1.legend()\n",
    "\n",
    "    # Plot kpd_recon and kpd_sample on ax2\n",
    "    ax2.scatter(en_list, kpd_recon, color='blue', label='KPD Recon')\n",
    "    ax2.scatter(en_list, kpd_sample, color='green', label='KPD Sample')\n",
    "    ax2.set_xlabel('Epoch Number')\n",
    "    ax2.set_ylabel('KPD Values')\n",
    "    ax2.set_title('KPD Recon vs KPD Sample')\n",
    "    ax2.legend()\n",
    "\n",
    "    plt.tight_layout()\n",
    "    plt.savefig(path + f'KPD_and_FPD.png')\n",
    "    plt.show()\n",
    "    \n",
    "    np.savez(path + 'JetData.npz', array1=en_list, array2=fpd_recon, array3=kpd_recon, array4=fpd_sample, array5=kpd_sample)\n",
    "\n",
    "def create_filenames_dict(run_path, data=\"caloqvae\"):\n",
    "    pattern = r'\\d+.pth$'\n",
    "    if data==\"caloqvae\":\n",
    "        filenames = {}\n",
    "        file = run_path.split(\"/\")[-3]\n",
    "        # filenames[file] = list(np.sort(os.listdir(run_path.split(\"files\")[0] + f'files/RBM/')))\n",
    "        fn_ = list(np.sort(os.listdir(run_path.split(\"wandb\")[0] + f'wandb/{file}/files/')))\n",
    "        filenames[file] = [word for word in fn_ if re.search(pattern, word)]\n",
    "        filenames[\"size\"] = int(len(filenames[file]))\n",
    "        # filenames[\"prefix\"] = run_path.split(\"outputs_sym\")[0] + \"outputs_sym\"\n",
    "        filenames[\"prefix\"] = run_path.split(\"wandb\")[0] + \"wandb\"\n",
    "    else:\n",
    "        filenames = {}\n",
    "        files = os.listdir(run_path.split(\"wandb\")[0] + \"wandb\")\n",
    "        trueInd = [ \"run\" in file for file in files]\n",
    "        for i, file in enumerate(files):\n",
    "            if trueInd[i] and \"latest\" not in file:\n",
    "                try:\n",
    "                    fn_ = list(np.sort(os.listdir(run_path.split(\"wandb\")[0] + f'wandb/{file}/files/')))\n",
    "                    # filenames[file] = [word for word in fn_ if word.endswith('pth')]\n",
    "                    filenames[file] = [word for word in fn_ if re.search(pattern, word)]\n",
    "                    \n",
    "                    \n",
    "                except:\n",
    "                    logger.warning(f'Directory {run_path.split(\"wandb\")[0]}' + f'wandb/{file}/files/ might not exist.')\n",
    "\n",
    "\n",
    "        list_of_files = []\n",
    "        for key in filenames.keys():\n",
    "            list_of_files = list_of_files + filenames[key]\n",
    "        filenames[\"size\"] = int(len(list_of_files))\n",
    "        filenames[\"prefix\"] = run_path.split(\"wandb\")[0] + \"wandb\"\n",
    "        filenames = {key: value for key, value in filenames.items() if value}\n",
    "    return filenames\n",
    "\n",
    "def get_right_dir(i, filenames):\n",
    "    pattern = get_right_pattern(i, filenames)\n",
    "    logger.info(f'Model {pattern}')\n",
    "    \n",
    "    for key in filenames.keys():\n",
    "        # if f'RBM_{i}_9_weights.pth' in filenames[key]:\n",
    "        if pattern in filenames[key]:\n",
    "            _right_dir = key\n",
    "            break\n",
    "    return _right_dir\n",
    "\n",
    "def get_right_pattern(i, filenames):\n",
    "    first_key = list(filenames)[0]\n",
    "    pattern = filenames[first_key][-1].split('default_')[0] + f'default_{i}.pth'\n",
    "    return pattern"
   ]
  },
  {
   "cell_type": "code",
   "execution_count": 19,
   "id": "93f5d79d-6374-44d0-a5d7-d09b9041c614",
   "metadata": {
    "collapsed": true,
    "jupyter": {
     "outputs_hidden": true
    },
    "tags": []
   },
   "outputs": [
    {
     "name": "stderr",
     "output_type": "stream",
     "text": [
      "\u001b[1m[16:27:03.502]\u001b[0m \u001b[1;95mINFO \u001b[1;0m  \u001b[1m__main__                                          \u001b[0mModel AtlasConditionalQVAE3D_atlas_default_10.pth\n",
      "\u001b[1m[16:27:03.503]\u001b[0m \u001b[1;95mINFO \u001b[1;0m  \u001b[1m__main__                                          \u001b[0mLoading model /home/javier/Projects/CaloQVAE/outputs/2024-08-16/18-37-54/wandb/run-20240816_183755-frfzrs9j/files/AtlasConditionalQVAE3D_atlas_default_10.pth\n",
      "\u001b[1m[16:27:03.503]\u001b[0m \u001b[1;95mINFO \u001b[1;0m  \u001b[1mmodels.modelCreator                               \u001b[0mLoading state\n",
      "\u001b[1m[16:27:03.628]\u001b[0m \u001b[1;95mINFO \u001b[1;0m  \u001b[1mmodels.modelCreator                               \u001b[0mLoading weights from file : /home/javier/Projects/CaloQVAE/outputs/2024-08-16/18-37-54/wandb/run-20240816_183755-frfzrs9j/files/AtlasConditionalQVAE3D_atlas_default_10.pth\n"
     ]
    },
    {
     "name": "stdout",
     "output_type": "stream",
     "text": [
      "Loading weights for module =  _activation_fct\n",
      "Loading weights for module =  _bce_loss\n",
      "Loading weights for module =  _energy_activation_fct\n",
      "Loading weights for module =  _hit_activation_fct\n",
      "Loading weights for module =  _output_loss\n",
      "Loading weights for module =  _hit_loss\n",
      "Loading weights for module =  _hit_smoothing_dist_mod\n",
      "Loading weights for module =  _inference_energy_activation_fct\n",
      "Loading weights for module =  encoder\n",
      "Loading weights for module =  prior\n",
      "Loading weights for module =  decoder\n"
     ]
    },
    {
     "name": "stderr",
     "output_type": "stream",
     "text": [
      "\u001b[1m[16:27:45.677]\u001b[0m \u001b[1;95mINFO \u001b[1;0m  \u001b[1m__main__                                          \u001b[0mFirst epoch\n"
     ]
    },
    {
     "name": "stdout",
     "output_type": "stream",
     "text": [
      "TESTING HELLO\n",
      "Data contains NaNs or Infs. Handling them...\n"
     ]
    },
    {
     "name": "stderr",
     "output_type": "stream",
     "text": [
      "/tmp/ipykernel_764054/607297810.py:65: RuntimeWarning: Recommended number of samples for FPD estimation is 50,000\n",
      "  fpd_val, fpd_err = jetnet.evaluation.fpd(hlf_test_data, hlf_gen_data)\n"
     ]
    },
    {
     "name": "stdout",
     "output_type": "stream",
     "text": [
      "FPD (x10^3): 573.2905 ± 4.3021\n",
      "KPD (x10^3): 2.5127 ± 0.5862\n",
      "TESTING HELLO\n",
      "Data contains NaNs or Infs. Handling them...\n"
     ]
    },
    {
     "name": "stderr",
     "output_type": "stream",
     "text": [
      "\u001b[1m[16:29:26.639]\u001b[0m \u001b[1;95mINFO \u001b[1;0m  \u001b[1m__main__                                          \u001b[0mFinished generating HEP Metrics for epoch 10 ...\n",
      "\u001b[1m[16:29:26.640]\u001b[0m \u001b[1;95mINFO \u001b[1;0m  \u001b[1m__main__                                          \u001b[0mModel AtlasConditionalQVAE3D_atlas_default_20.pth\n",
      "\u001b[1m[16:29:26.641]\u001b[0m \u001b[1;95mINFO \u001b[1;0m  \u001b[1m__main__                                          \u001b[0mLoading model /home/javier/Projects/CaloQVAE/outputs/2024-08-16/18-37-54/wandb/run-20240816_183755-frfzrs9j/files/AtlasConditionalQVAE3D_atlas_default_20.pth\n",
      "\u001b[1m[16:29:26.641]\u001b[0m \u001b[1;95mINFO \u001b[1;0m  \u001b[1mmodels.modelCreator                               \u001b[0mLoading state\n",
      "\u001b[1m[16:29:26.824]\u001b[0m \u001b[1;95mINFO \u001b[1;0m  \u001b[1mmodels.modelCreator                               \u001b[0mLoading weights from file : /home/javier/Projects/CaloQVAE/outputs/2024-08-16/18-37-54/wandb/run-20240816_183755-frfzrs9j/files/AtlasConditionalQVAE3D_atlas_default_20.pth\n"
     ]
    },
    {
     "name": "stdout",
     "output_type": "stream",
     "text": [
      "FPD (x10^3): 654.4677 ± 5.2418\n",
      "KPD (x10^3): 3.1386 ± 0.6490\n",
      "Loading weights for module =  _activation_fct\n",
      "Loading weights for module =  _bce_loss\n",
      "Loading weights for module =  _energy_activation_fct\n",
      "Loading weights for module =  _hit_activation_fct\n",
      "Loading weights for module =  _output_loss\n",
      "Loading weights for module =  _hit_loss\n",
      "Loading weights for module =  _hit_smoothing_dist_mod\n",
      "Loading weights for module =  _inference_energy_activation_fct\n",
      "Loading weights for module =  encoder\n",
      "Loading weights for module =  prior\n",
      "Loading weights for module =  decoder\n",
      "TESTING HELLO\n",
      "Data contains NaNs or Infs. Handling them...\n",
      "FPD (x10^3): 530.6422 ± 4.9659\n",
      "KPD (x10^3): 2.9567 ± 0.5901\n",
      "TESTING HELLO\n",
      "Data contains NaNs or Infs. Handling them...\n"
     ]
    },
    {
     "name": "stderr",
     "output_type": "stream",
     "text": [
      "\u001b[1m[16:32:18.120]\u001b[0m \u001b[1;95mINFO \u001b[1;0m  \u001b[1m__main__                                          \u001b[0mFinished generating HEP Metrics for epoch 20 ...\n",
      "\u001b[1m[16:32:18.121]\u001b[0m \u001b[1;95mINFO \u001b[1;0m  \u001b[1m__main__                                          \u001b[0mModel AtlasConditionalQVAE3D_atlas_default_30.pth\n",
      "\u001b[1m[16:32:18.122]\u001b[0m \u001b[1;95mINFO \u001b[1;0m  \u001b[1m__main__                                          \u001b[0mLoading model /home/javier/Projects/CaloQVAE/outputs/2024-08-16/18-37-54/wandb/run-20240816_183755-frfzrs9j/files/AtlasConditionalQVAE3D_atlas_default_30.pth\n",
      "\u001b[1m[16:32:18.122]\u001b[0m \u001b[1;95mINFO \u001b[1;0m  \u001b[1mmodels.modelCreator                               \u001b[0mLoading state\n",
      "\u001b[1m[16:32:18.260]\u001b[0m \u001b[1;95mINFO \u001b[1;0m  \u001b[1mmodels.modelCreator                               \u001b[0mLoading weights from file : /home/javier/Projects/CaloQVAE/outputs/2024-08-16/18-37-54/wandb/run-20240816_183755-frfzrs9j/files/AtlasConditionalQVAE3D_atlas_default_30.pth\n"
     ]
    },
    {
     "name": "stdout",
     "output_type": "stream",
     "text": [
      "FPD (x10^3): 750.8064 ± 4.9185\n",
      "KPD (x10^3): 5.1446 ± 0.7991\n",
      "Loading weights for module =  _activation_fct\n",
      "Loading weights for module =  _bce_loss\n",
      "Loading weights for module =  _energy_activation_fct\n",
      "Loading weights for module =  _hit_activation_fct\n",
      "Loading weights for module =  _output_loss\n",
      "Loading weights for module =  _hit_loss\n",
      "Loading weights for module =  _hit_smoothing_dist_mod\n",
      "Loading weights for module =  _inference_energy_activation_fct\n",
      "Loading weights for module =  encoder\n",
      "Loading weights for module =  prior\n",
      "Loading weights for module =  decoder\n",
      "TESTING HELLO\n",
      "Data contains NaNs or Infs. Handling them...\n",
      "FPD (x10^3): 422.6897 ± 3.2850\n",
      "KPD (x10^3): 1.5657 ± 0.3620\n",
      "TESTING HELLO\n",
      "Data contains NaNs or Infs. Handling them...\n"
     ]
    },
    {
     "name": "stderr",
     "output_type": "stream",
     "text": [
      "\u001b[1m[16:34:55.733]\u001b[0m \u001b[1;95mINFO \u001b[1;0m  \u001b[1m__main__                                          \u001b[0mFinished generating HEP Metrics for epoch 30 ...\n",
      "\u001b[1m[16:34:55.735]\u001b[0m \u001b[1;95mINFO \u001b[1;0m  \u001b[1m__main__                                          \u001b[0mModel AtlasConditionalQVAE3D_atlas_default_40.pth\n",
      "\u001b[1m[16:34:55.735]\u001b[0m \u001b[1;95mINFO \u001b[1;0m  \u001b[1m__main__                                          \u001b[0mLoading model /home/javier/Projects/CaloQVAE/outputs/2024-08-16/18-37-54/wandb/run-20240816_183755-frfzrs9j/files/AtlasConditionalQVAE3D_atlas_default_40.pth\n",
      "\u001b[1m[16:34:55.735]\u001b[0m \u001b[1;95mINFO \u001b[1;0m  \u001b[1mmodels.modelCreator                               \u001b[0mLoading state\n",
      "\u001b[1m[16:34:55.870]\u001b[0m \u001b[1;95mINFO \u001b[1;0m  \u001b[1mmodels.modelCreator                               \u001b[0mLoading weights from file : /home/javier/Projects/CaloQVAE/outputs/2024-08-16/18-37-54/wandb/run-20240816_183755-frfzrs9j/files/AtlasConditionalQVAE3D_atlas_default_40.pth\n"
     ]
    },
    {
     "name": "stdout",
     "output_type": "stream",
     "text": [
      "FPD (x10^3): 549.3405 ± 3.1887\n",
      "KPD (x10^3): 2.0221 ± 0.4280\n",
      "Loading weights for module =  _activation_fct\n",
      "Loading weights for module =  _bce_loss\n",
      "Loading weights for module =  _energy_activation_fct\n",
      "Loading weights for module =  _hit_activation_fct\n",
      "Loading weights for module =  _output_loss\n",
      "Loading weights for module =  _hit_loss\n",
      "Loading weights for module =  _hit_smoothing_dist_mod\n",
      "Loading weights for module =  _inference_energy_activation_fct\n",
      "Loading weights for module =  encoder\n",
      "Loading weights for module =  prior\n",
      "Loading weights for module =  decoder\n",
      "TESTING HELLO\n",
      "Data contains NaNs or Infs. Handling them...\n",
      "FPD (x10^3): 434.3821 ± 3.9525\n",
      "KPD (x10^3): 2.4406 ± 0.6090\n",
      "TESTING HELLO\n",
      "Data contains NaNs or Infs. Handling them...\n"
     ]
    },
    {
     "name": "stderr",
     "output_type": "stream",
     "text": [
      "\u001b[1m[16:37:41.237]\u001b[0m \u001b[1;95mINFO \u001b[1;0m  \u001b[1m__main__                                          \u001b[0mFinished generating HEP Metrics for epoch 40 ...\n",
      "\u001b[1m[16:37:41.239]\u001b[0m \u001b[1;95mINFO \u001b[1;0m  \u001b[1m__main__                                          \u001b[0mModel AtlasConditionalQVAE3D_atlas_default_50.pth\n",
      "\u001b[1m[16:37:41.239]\u001b[0m \u001b[1;95mINFO \u001b[1;0m  \u001b[1m__main__                                          \u001b[0mLoading model /home/javier/Projects/CaloQVAE/outputs/2024-08-16/18-37-54/wandb/run-20240816_183755-frfzrs9j/files/AtlasConditionalQVAE3D_atlas_default_50.pth\n",
      "\u001b[1m[16:37:41.239]\u001b[0m \u001b[1;95mINFO \u001b[1;0m  \u001b[1mmodels.modelCreator                               \u001b[0mLoading state\n",
      "\u001b[1m[16:37:41.389]\u001b[0m \u001b[1;95mINFO \u001b[1;0m  \u001b[1mmodels.modelCreator                               \u001b[0mLoading weights from file : /home/javier/Projects/CaloQVAE/outputs/2024-08-16/18-37-54/wandb/run-20240816_183755-frfzrs9j/files/AtlasConditionalQVAE3D_atlas_default_50.pth\n"
     ]
    },
    {
     "name": "stdout",
     "output_type": "stream",
     "text": [
      "FPD (x10^3): 572.5135 ± 4.7420\n",
      "KPD (x10^3): 2.8841 ± 0.6429\n",
      "Loading weights for module =  _activation_fct\n",
      "Loading weights for module =  _bce_loss\n",
      "Loading weights for module =  _energy_activation_fct\n",
      "Loading weights for module =  _hit_activation_fct\n",
      "Loading weights for module =  _output_loss\n",
      "Loading weights for module =  _hit_loss\n",
      "Loading weights for module =  _hit_smoothing_dist_mod\n",
      "Loading weights for module =  _inference_energy_activation_fct\n",
      "Loading weights for module =  encoder\n",
      "Loading weights for module =  prior\n",
      "Loading weights for module =  decoder\n",
      "TESTING HELLO\n",
      "Data contains NaNs or Infs. Handling them...\n",
      "FPD (x10^3): 384.4026 ± 2.8658\n",
      "KPD (x10^3): 1.2549 ± 0.2741\n",
      "TESTING HELLO\n",
      "Data contains NaNs or Infs. Handling them...\n"
     ]
    },
    {
     "name": "stderr",
     "output_type": "stream",
     "text": [
      "\u001b[1m[16:40:26.042]\u001b[0m \u001b[1;95mINFO \u001b[1;0m  \u001b[1m__main__                                          \u001b[0mFinished generating HEP Metrics for epoch 50 ...\n",
      "\u001b[1m[16:40:26.044]\u001b[0m \u001b[1;95mINFO \u001b[1;0m  \u001b[1m__main__                                          \u001b[0mModel AtlasConditionalQVAE3D_atlas_default_60.pth\n",
      "\u001b[1m[16:40:26.044]\u001b[0m \u001b[1;95mINFO \u001b[1;0m  \u001b[1m__main__                                          \u001b[0mLoading model /home/javier/Projects/CaloQVAE/outputs/2024-08-16/18-37-54/wandb/run-20240816_183755-frfzrs9j/files/AtlasConditionalQVAE3D_atlas_default_60.pth\n",
      "\u001b[1m[16:40:26.044]\u001b[0m \u001b[1;95mINFO \u001b[1;0m  \u001b[1mmodels.modelCreator                               \u001b[0mLoading state\n",
      "\u001b[1m[16:40:26.149]\u001b[0m \u001b[1;95mINFO \u001b[1;0m  \u001b[1mmodels.modelCreator                               \u001b[0mLoading weights from file : /home/javier/Projects/CaloQVAE/outputs/2024-08-16/18-37-54/wandb/run-20240816_183755-frfzrs9j/files/AtlasConditionalQVAE3D_atlas_default_60.pth\n"
     ]
    },
    {
     "name": "stdout",
     "output_type": "stream",
     "text": [
      "FPD (x10^3): 557.4174 ± 3.7635\n",
      "KPD (x10^3): 2.0559 ± 0.4268\n",
      "Loading weights for module =  _activation_fct\n",
      "Loading weights for module =  _bce_loss\n",
      "Loading weights for module =  _energy_activation_fct\n",
      "Loading weights for module =  _hit_activation_fct\n",
      "Loading weights for module =  _output_loss\n",
      "Loading weights for module =  _hit_loss\n",
      "Loading weights for module =  _hit_smoothing_dist_mod\n",
      "Loading weights for module =  _inference_energy_activation_fct\n",
      "Loading weights for module =  encoder\n",
      "Loading weights for module =  prior\n",
      "Loading weights for module =  decoder\n",
      "TESTING HELLO\n",
      "Data contains NaNs or Infs. Handling them...\n",
      "FPD (x10^3): 364.0018 ± 2.2160\n",
      "KPD (x10^3): 1.3147 ± 0.3210\n",
      "TESTING HELLO\n",
      "Data contains NaNs or Infs. Handling them...\n"
     ]
    },
    {
     "name": "stderr",
     "output_type": "stream",
     "text": [
      "\u001b[1m[16:43:12.883]\u001b[0m \u001b[1;95mINFO \u001b[1;0m  \u001b[1m__main__                                          \u001b[0mFinished generating HEP Metrics for epoch 60 ...\n",
      "\u001b[1m[16:43:12.886]\u001b[0m \u001b[1;95mINFO \u001b[1;0m  \u001b[1m__main__                                          \u001b[0mModel AtlasConditionalQVAE3D_atlas_default_70.pth\n",
      "\u001b[1m[16:43:12.886]\u001b[0m \u001b[1;95mINFO \u001b[1;0m  \u001b[1m__main__                                          \u001b[0mLoading model /home/javier/Projects/CaloQVAE/outputs/2024-08-16/18-37-54/wandb/run-20240816_183755-frfzrs9j/files/AtlasConditionalQVAE3D_atlas_default_70.pth\n",
      "\u001b[1m[16:43:12.886]\u001b[0m \u001b[1;95mINFO \u001b[1;0m  \u001b[1mmodels.modelCreator                               \u001b[0mLoading state\n",
      "\u001b[1m[16:43:13.021]\u001b[0m \u001b[1;95mINFO \u001b[1;0m  \u001b[1mmodels.modelCreator                               \u001b[0mLoading weights from file : /home/javier/Projects/CaloQVAE/outputs/2024-08-16/18-37-54/wandb/run-20240816_183755-frfzrs9j/files/AtlasConditionalQVAE3D_atlas_default_70.pth\n"
     ]
    },
    {
     "name": "stdout",
     "output_type": "stream",
     "text": [
      "FPD (x10^3): 573.8477 ± 3.6812\n",
      "KPD (x10^3): 1.5369 ± 0.3460\n",
      "Loading weights for module =  _activation_fct\n",
      "Loading weights for module =  _bce_loss\n",
      "Loading weights for module =  _energy_activation_fct\n",
      "Loading weights for module =  _hit_activation_fct\n",
      "Loading weights for module =  _output_loss\n",
      "Loading weights for module =  _hit_loss\n",
      "Loading weights for module =  _hit_smoothing_dist_mod\n",
      "Loading weights for module =  _inference_energy_activation_fct\n",
      "Loading weights for module =  encoder\n",
      "Loading weights for module =  prior\n",
      "Loading weights for module =  decoder\n",
      "TESTING HELLO\n",
      "Data contains NaNs or Infs. Handling them...\n",
      "FPD (x10^3): 414.0984 ± 4.0112\n",
      "KPD (x10^3): 2.2978 ± 0.5606\n",
      "TESTING HELLO\n",
      "Data contains NaNs or Infs. Handling them...\n"
     ]
    },
    {
     "name": "stderr",
     "output_type": "stream",
     "text": [
      "\u001b[1m[16:45:51.625]\u001b[0m \u001b[1;95mINFO \u001b[1;0m  \u001b[1m__main__                                          \u001b[0mFinished generating HEP Metrics for epoch 70 ...\n",
      "\u001b[1m[16:45:51.626]\u001b[0m \u001b[1;95mINFO \u001b[1;0m  \u001b[1m__main__                                          \u001b[0mModel AtlasConditionalQVAE3D_atlas_default_80.pth\n",
      "\u001b[1m[16:45:51.626]\u001b[0m \u001b[1;95mINFO \u001b[1;0m  \u001b[1m__main__                                          \u001b[0mLoading model /home/javier/Projects/CaloQVAE/outputs/2024-08-16/18-37-54/wandb/run-20240818_130637-frfzrs9j/files/AtlasConditionalQVAE3D_atlas_default_80.pth\n",
      "\u001b[1m[16:45:51.626]\u001b[0m \u001b[1;95mINFO \u001b[1;0m  \u001b[1mmodels.modelCreator                               \u001b[0mLoading state\n",
      "\u001b[1m[16:45:51.763]\u001b[0m \u001b[1;95mINFO \u001b[1;0m  \u001b[1mmodels.modelCreator                               \u001b[0mLoading weights from file : /home/javier/Projects/CaloQVAE/outputs/2024-08-16/18-37-54/wandb/run-20240818_130637-frfzrs9j/files/AtlasConditionalQVAE3D_atlas_default_80.pth\n"
     ]
    },
    {
     "name": "stdout",
     "output_type": "stream",
     "text": [
      "FPD (x10^3): 667.8977 ± 5.1512\n",
      "KPD (x10^3): 3.0933 ± 0.6181\n",
      "Loading weights for module =  _activation_fct\n",
      "Loading weights for module =  _bce_loss\n",
      "Loading weights for module =  _energy_activation_fct\n",
      "Loading weights for module =  _hit_activation_fct\n",
      "Loading weights for module =  _output_loss\n",
      "Loading weights for module =  _hit_loss\n",
      "Loading weights for module =  _hit_smoothing_dist_mod\n",
      "Loading weights for module =  _inference_energy_activation_fct\n",
      "Loading weights for module =  encoder\n",
      "Loading weights for module =  prior\n",
      "Loading weights for module =  decoder\n",
      "TESTING HELLO\n",
      "Data contains NaNs or Infs. Handling them...\n",
      "FPD (x10^3): 348.8287 ± 2.9331\n",
      "KPD (x10^3): 1.1621 ± 0.4080\n",
      "TESTING HELLO\n",
      "Data contains NaNs or Infs. Handling them...\n"
     ]
    },
    {
     "name": "stderr",
     "output_type": "stream",
     "text": [
      "\u001b[1m[16:48:29.218]\u001b[0m \u001b[1;95mINFO \u001b[1;0m  \u001b[1m__main__                                          \u001b[0mFinished generating HEP Metrics for epoch 80 ...\n",
      "\u001b[1m[16:48:29.219]\u001b[0m \u001b[1;95mINFO \u001b[1;0m  \u001b[1m__main__                                          \u001b[0mModel AtlasConditionalQVAE3D_atlas_default_90.pth\n",
      "\u001b[1m[16:48:29.220]\u001b[0m \u001b[1;95mINFO \u001b[1;0m  \u001b[1m__main__                                          \u001b[0mLoading model /home/javier/Projects/CaloQVAE/outputs/2024-08-16/18-37-54/wandb/run-20240818_130637-frfzrs9j/files/AtlasConditionalQVAE3D_atlas_default_90.pth\n",
      "\u001b[1m[16:48:29.220]\u001b[0m \u001b[1;95mINFO \u001b[1;0m  \u001b[1mmodels.modelCreator                               \u001b[0mLoading state\n",
      "\u001b[1m[16:48:29.373]\u001b[0m \u001b[1;95mINFO \u001b[1;0m  \u001b[1mmodels.modelCreator                               \u001b[0mLoading weights from file : /home/javier/Projects/CaloQVAE/outputs/2024-08-16/18-37-54/wandb/run-20240818_130637-frfzrs9j/files/AtlasConditionalQVAE3D_atlas_default_90.pth\n"
     ]
    },
    {
     "name": "stdout",
     "output_type": "stream",
     "text": [
      "FPD (x10^3): 506.1129 ± 2.9332\n",
      "KPD (x10^3): 1.3016 ± 0.2215\n",
      "Loading weights for module =  _activation_fct\n",
      "Loading weights for module =  _bce_loss\n",
      "Loading weights for module =  _energy_activation_fct\n",
      "Loading weights for module =  _hit_activation_fct\n",
      "Loading weights for module =  _output_loss\n",
      "Loading weights for module =  _hit_loss\n",
      "Loading weights for module =  _hit_smoothing_dist_mod\n",
      "Loading weights for module =  _inference_energy_activation_fct\n",
      "Loading weights for module =  encoder\n",
      "Loading weights for module =  prior\n",
      "Loading weights for module =  decoder\n",
      "TESTING HELLO\n",
      "Data contains NaNs or Infs. Handling them...\n",
      "FPD (x10^3): 328.7731 ± 2.6584\n",
      "KPD (x10^3): 0.9942 ± 0.2437\n",
      "TESTING HELLO\n",
      "Data contains NaNs or Infs. Handling them...\n"
     ]
    },
    {
     "name": "stderr",
     "output_type": "stream",
     "text": [
      "\u001b[1m[16:51:13.056]\u001b[0m \u001b[1;95mINFO \u001b[1;0m  \u001b[1m__main__                                          \u001b[0mFinished generating HEP Metrics for epoch 90 ...\n",
      "\u001b[1m[16:51:13.057]\u001b[0m \u001b[1;95mINFO \u001b[1;0m  \u001b[1m__main__                                          \u001b[0mModel AtlasConditionalQVAE3D_atlas_default_100.pth\n",
      "\u001b[1m[16:51:13.058]\u001b[0m \u001b[1;95mINFO \u001b[1;0m  \u001b[1m__main__                                          \u001b[0mLoading model /home/javier/Projects/CaloQVAE/outputs/2024-08-16/18-37-54/wandb/run-20240818_130637-frfzrs9j/files/AtlasConditionalQVAE3D_atlas_default_100.pth\n",
      "\u001b[1m[16:51:13.058]\u001b[0m \u001b[1;95mINFO \u001b[1;0m  \u001b[1mmodels.modelCreator                               \u001b[0mLoading state\n",
      "\u001b[1m[16:51:13.202]\u001b[0m \u001b[1;95mINFO \u001b[1;0m  \u001b[1mmodels.modelCreator                               \u001b[0mLoading weights from file : /home/javier/Projects/CaloQVAE/outputs/2024-08-16/18-37-54/wandb/run-20240818_130637-frfzrs9j/files/AtlasConditionalQVAE3D_atlas_default_100.pth\n"
     ]
    },
    {
     "name": "stdout",
     "output_type": "stream",
     "text": [
      "FPD (x10^3): 496.0584 ± 2.8483\n",
      "KPD (x10^3): 1.1905 ± 0.2873\n",
      "Loading weights for module =  _activation_fct\n",
      "Loading weights for module =  _bce_loss\n",
      "Loading weights for module =  _energy_activation_fct\n",
      "Loading weights for module =  _hit_activation_fct\n",
      "Loading weights for module =  _output_loss\n",
      "Loading weights for module =  _hit_loss\n",
      "Loading weights for module =  _hit_smoothing_dist_mod\n",
      "Loading weights for module =  _inference_energy_activation_fct\n",
      "Loading weights for module =  encoder\n",
      "Loading weights for module =  prior\n",
      "Loading weights for module =  decoder\n",
      "TESTING HELLO\n",
      "Data contains NaNs or Infs. Handling them...\n",
      "FPD (x10^3): 312.3596 ± 2.1699\n",
      "KPD (x10^3): 0.8000 ± 0.1725\n",
      "TESTING HELLO\n",
      "Data contains NaNs or Infs. Handling them...\n"
     ]
    },
    {
     "name": "stderr",
     "output_type": "stream",
     "text": [
      "\u001b[1m[16:54:23.384]\u001b[0m \u001b[1;95mINFO \u001b[1;0m  \u001b[1m__main__                                          \u001b[0mFinished generating HEP Metrics for epoch 100 ...\n",
      "\u001b[1m[16:54:23.385]\u001b[0m \u001b[1;95mINFO \u001b[1;0m  \u001b[1m__main__                                          \u001b[0mModel AtlasConditionalQVAE3D_atlas_default_110.pth\n",
      "\u001b[1m[16:54:23.386]\u001b[0m \u001b[1;95mINFO \u001b[1;0m  \u001b[1m__main__                                          \u001b[0mLoading model /home/javier/Projects/CaloQVAE/outputs/2024-08-16/18-37-54/wandb/run-20240818_130637-frfzrs9j/files/AtlasConditionalQVAE3D_atlas_default_110.pth\n",
      "\u001b[1m[16:54:23.386]\u001b[0m \u001b[1;95mINFO \u001b[1;0m  \u001b[1mmodels.modelCreator                               \u001b[0mLoading state\n",
      "\u001b[1m[16:54:23.472]\u001b[0m \u001b[1;95mINFO \u001b[1;0m  \u001b[1mmodels.modelCreator                               \u001b[0mLoading weights from file : /home/javier/Projects/CaloQVAE/outputs/2024-08-16/18-37-54/wandb/run-20240818_130637-frfzrs9j/files/AtlasConditionalQVAE3D_atlas_default_110.pth\n"
     ]
    },
    {
     "name": "stdout",
     "output_type": "stream",
     "text": [
      "FPD (x10^3): 470.8339 ± 2.5942\n",
      "KPD (x10^3): 0.9823 ± 0.1346\n",
      "Loading weights for module =  _activation_fct\n",
      "Loading weights for module =  _bce_loss\n",
      "Loading weights for module =  _energy_activation_fct\n",
      "Loading weights for module =  _hit_activation_fct\n",
      "Loading weights for module =  _output_loss\n",
      "Loading weights for module =  _hit_loss\n",
      "Loading weights for module =  _hit_smoothing_dist_mod\n",
      "Loading weights for module =  _inference_energy_activation_fct\n",
      "Loading weights for module =  encoder\n",
      "Loading weights for module =  prior\n",
      "Loading weights for module =  decoder\n",
      "TESTING HELLO\n",
      "Data contains NaNs or Infs. Handling them...\n",
      "FPD (x10^3): 328.4993 ± 3.1252\n",
      "KPD (x10^3): 1.3847 ± 0.3764\n",
      "TESTING HELLO\n",
      "Data contains NaNs or Infs. Handling them...\n"
     ]
    },
    {
     "name": "stderr",
     "output_type": "stream",
     "text": [
      "\u001b[1m[16:56:53.706]\u001b[0m \u001b[1;95mINFO \u001b[1;0m  \u001b[1m__main__                                          \u001b[0mFinished generating HEP Metrics for epoch 110 ...\n",
      "\u001b[1m[16:56:53.707]\u001b[0m \u001b[1;95mINFO \u001b[1;0m  \u001b[1m__main__                                          \u001b[0mModel AtlasConditionalQVAE3D_atlas_default_120.pth\n",
      "\u001b[1m[16:56:53.708]\u001b[0m \u001b[1;95mINFO \u001b[1;0m  \u001b[1m__main__                                          \u001b[0mLoading model /home/javier/Projects/CaloQVAE/outputs/2024-08-16/18-37-54/wandb/run-20240818_130637-frfzrs9j/files/AtlasConditionalQVAE3D_atlas_default_120.pth\n",
      "\u001b[1m[16:56:53.708]\u001b[0m \u001b[1;95mINFO \u001b[1;0m  \u001b[1mmodels.modelCreator                               \u001b[0mLoading state\n",
      "\u001b[1m[16:56:53.848]\u001b[0m \u001b[1;95mINFO \u001b[1;0m  \u001b[1mmodels.modelCreator                               \u001b[0mLoading weights from file : /home/javier/Projects/CaloQVAE/outputs/2024-08-16/18-37-54/wandb/run-20240818_130637-frfzrs9j/files/AtlasConditionalQVAE3D_atlas_default_120.pth\n"
     ]
    },
    {
     "name": "stdout",
     "output_type": "stream",
     "text": [
      "FPD (x10^3): 502.6097 ± 3.8202\n",
      "KPD (x10^3): 1.8283 ± 0.4452\n",
      "Loading weights for module =  _activation_fct\n",
      "Loading weights for module =  _bce_loss\n",
      "Loading weights for module =  _energy_activation_fct\n",
      "Loading weights for module =  _hit_activation_fct\n",
      "Loading weights for module =  _output_loss\n",
      "Loading weights for module =  _hit_loss\n",
      "Loading weights for module =  _hit_smoothing_dist_mod\n",
      "Loading weights for module =  _inference_energy_activation_fct\n",
      "Loading weights for module =  encoder\n",
      "Loading weights for module =  prior\n",
      "Loading weights for module =  decoder\n",
      "TESTING HELLO\n",
      "Data contains NaNs or Infs. Handling them...\n",
      "FPD (x10^3): 314.9148 ± 2.1536\n",
      "KPD (x10^3): 0.8716 ± 0.2659\n",
      "TESTING HELLO\n",
      "Data contains NaNs or Infs. Handling them...\n"
     ]
    },
    {
     "name": "stderr",
     "output_type": "stream",
     "text": [
      "\u001b[1m[16:59:43.811]\u001b[0m \u001b[1;95mINFO \u001b[1;0m  \u001b[1m__main__                                          \u001b[0mFinished generating HEP Metrics for epoch 120 ...\n",
      "\u001b[1m[16:59:43.814]\u001b[0m \u001b[1;95mINFO \u001b[1;0m  \u001b[1m__main__                                          \u001b[0mModel AtlasConditionalQVAE3D_atlas_default_130.pth\n",
      "\u001b[1m[16:59:43.814]\u001b[0m \u001b[1;95mINFO \u001b[1;0m  \u001b[1m__main__                                          \u001b[0mLoading model /home/javier/Projects/CaloQVAE/outputs/2024-08-16/18-37-54/wandb/run-20240818_130637-frfzrs9j/files/AtlasConditionalQVAE3D_atlas_default_130.pth\n",
      "\u001b[1m[16:59:43.814]\u001b[0m \u001b[1;95mINFO \u001b[1;0m  \u001b[1mmodels.modelCreator                               \u001b[0mLoading state\n",
      "\u001b[1m[16:59:43.964]\u001b[0m \u001b[1;95mINFO \u001b[1;0m  \u001b[1mmodels.modelCreator                               \u001b[0mLoading weights from file : /home/javier/Projects/CaloQVAE/outputs/2024-08-16/18-37-54/wandb/run-20240818_130637-frfzrs9j/files/AtlasConditionalQVAE3D_atlas_default_130.pth\n"
     ]
    },
    {
     "name": "stdout",
     "output_type": "stream",
     "text": [
      "FPD (x10^3): 474.9874 ± 2.7342\n",
      "KPD (x10^3): 1.1259 ± 0.2181\n",
      "Loading weights for module =  _activation_fct\n",
      "Loading weights for module =  _bce_loss\n",
      "Loading weights for module =  _energy_activation_fct\n",
      "Loading weights for module =  _hit_activation_fct\n",
      "Loading weights for module =  _output_loss\n",
      "Loading weights for module =  _hit_loss\n",
      "Loading weights for module =  _hit_smoothing_dist_mod\n",
      "Loading weights for module =  _inference_energy_activation_fct\n",
      "Loading weights for module =  encoder\n",
      "Loading weights for module =  prior\n",
      "Loading weights for module =  decoder\n",
      "TESTING HELLO\n",
      "Data contains NaNs or Infs. Handling them...\n",
      "FPD (x10^3): 329.5836 ± 3.2899\n",
      "KPD (x10^3): 1.3024 ± 0.4431\n",
      "TESTING HELLO\n",
      "Data contains NaNs or Infs. Handling them...\n"
     ]
    },
    {
     "name": "stderr",
     "output_type": "stream",
     "text": [
      "\u001b[1m[17:02:35.206]\u001b[0m \u001b[1;95mINFO \u001b[1;0m  \u001b[1m__main__                                          \u001b[0mFinished generating HEP Metrics for epoch 130 ...\n",
      "\u001b[1m[17:02:35.207]\u001b[0m \u001b[1;95mINFO \u001b[1;0m  \u001b[1m__main__                                          \u001b[0mModel AtlasConditionalQVAE3D_atlas_default_140.pth\n",
      "\u001b[1m[17:02:35.208]\u001b[0m \u001b[1;95mINFO \u001b[1;0m  \u001b[1m__main__                                          \u001b[0mLoading model /home/javier/Projects/CaloQVAE/outputs/2024-08-16/18-37-54/wandb/run-20240818_130637-frfzrs9j/files/AtlasConditionalQVAE3D_atlas_default_140.pth\n",
      "\u001b[1m[17:02:35.208]\u001b[0m \u001b[1;95mINFO \u001b[1;0m  \u001b[1mmodels.modelCreator                               \u001b[0mLoading state\n",
      "\u001b[1m[17:02:35.344]\u001b[0m \u001b[1;95mINFO \u001b[1;0m  \u001b[1mmodels.modelCreator                               \u001b[0mLoading weights from file : /home/javier/Projects/CaloQVAE/outputs/2024-08-16/18-37-54/wandb/run-20240818_130637-frfzrs9j/files/AtlasConditionalQVAE3D_atlas_default_140.pth\n"
     ]
    },
    {
     "name": "stdout",
     "output_type": "stream",
     "text": [
      "FPD (x10^3): 551.8621 ± 3.3144\n",
      "KPD (x10^3): 2.4741 ± 0.5611\n",
      "Loading weights for module =  _activation_fct\n",
      "Loading weights for module =  _bce_loss\n",
      "Loading weights for module =  _energy_activation_fct\n",
      "Loading weights for module =  _hit_activation_fct\n",
      "Loading weights for module =  _output_loss\n",
      "Loading weights for module =  _hit_loss\n",
      "Loading weights for module =  _hit_smoothing_dist_mod\n",
      "Loading weights for module =  _inference_energy_activation_fct\n",
      "Loading weights for module =  encoder\n",
      "Loading weights for module =  prior\n",
      "Loading weights for module =  decoder\n",
      "TESTING HELLO\n",
      "Data contains NaNs or Infs. Handling them...\n",
      "FPD (x10^3): 307.1666 ± 2.1208\n",
      "KPD (x10^3): 0.8338 ± 0.2320\n",
      "TESTING HELLO\n",
      "Data contains NaNs or Infs. Handling them...\n"
     ]
    },
    {
     "name": "stderr",
     "output_type": "stream",
     "text": [
      "\u001b[1m[17:05:21.556]\u001b[0m \u001b[1;95mINFO \u001b[1;0m  \u001b[1m__main__                                          \u001b[0mFinished generating HEP Metrics for epoch 140 ...\n",
      "\u001b[1m[17:05:21.557]\u001b[0m \u001b[1;95mINFO \u001b[1;0m  \u001b[1m__main__                                          \u001b[0mModel AtlasConditionalQVAE3D_atlas_default_150.pth\n",
      "\u001b[1m[17:05:21.557]\u001b[0m \u001b[1;95mINFO \u001b[1;0m  \u001b[1m__main__                                          \u001b[0mLoading model /home/javier/Projects/CaloQVAE/outputs/2024-08-16/18-37-54/wandb/run-20240826_133632-frfzrs9j/files/AtlasConditionalQVAE3D_atlas_default_150.pth\n",
      "\u001b[1m[17:05:21.557]\u001b[0m \u001b[1;95mINFO \u001b[1;0m  \u001b[1mmodels.modelCreator                               \u001b[0mLoading state\n",
      "\u001b[1m[17:05:21.697]\u001b[0m \u001b[1;95mINFO \u001b[1;0m  \u001b[1mmodels.modelCreator                               \u001b[0mLoading weights from file : /home/javier/Projects/CaloQVAE/outputs/2024-08-16/18-37-54/wandb/run-20240826_133632-frfzrs9j/files/AtlasConditionalQVAE3D_atlas_default_150.pth\n"
     ]
    },
    {
     "name": "stdout",
     "output_type": "stream",
     "text": [
      "FPD (x10^3): 488.3155 ± 2.8230\n",
      "KPD (x10^3): 1.1352 ± 0.1121\n",
      "Loading weights for module =  _activation_fct\n",
      "Loading weights for module =  _bce_loss\n",
      "Loading weights for module =  _energy_activation_fct\n",
      "Loading weights for module =  _hit_activation_fct\n",
      "Loading weights for module =  _output_loss\n",
      "Loading weights for module =  _hit_loss\n",
      "Loading weights for module =  _hit_smoothing_dist_mod\n",
      "Loading weights for module =  _inference_energy_activation_fct\n",
      "Loading weights for module =  encoder\n",
      "Loading weights for module =  prior\n",
      "Loading weights for module =  decoder\n",
      "TESTING HELLO\n",
      "Data contains NaNs or Infs. Handling them...\n",
      "FPD (x10^3): 311.0756 ± 2.2682\n",
      "KPD (x10^3): 0.8051 ± 0.2266\n",
      "TESTING HELLO\n",
      "Data contains NaNs or Infs. Handling them...\n"
     ]
    },
    {
     "name": "stderr",
     "output_type": "stream",
     "text": [
      "\u001b[1m[17:08:07.700]\u001b[0m \u001b[1;95mINFO \u001b[1;0m  \u001b[1m__main__                                          \u001b[0mFinished generating HEP Metrics for epoch 150 ...\n",
      "\u001b[1m[17:08:07.702]\u001b[0m \u001b[1;95mINFO \u001b[1;0m  \u001b[1m__main__                                          \u001b[0mModel AtlasConditionalQVAE3D_atlas_default_160.pth\n",
      "\u001b[1m[17:08:07.702]\u001b[0m \u001b[1;95mINFO \u001b[1;0m  \u001b[1m__main__                                          \u001b[0mLoading model /home/javier/Projects/CaloQVAE/outputs/2024-08-16/18-37-54/wandb/run-20240826_133632-frfzrs9j/files/AtlasConditionalQVAE3D_atlas_default_160.pth\n",
      "\u001b[1m[17:08:07.702]\u001b[0m \u001b[1;95mINFO \u001b[1;0m  \u001b[1mmodels.modelCreator                               \u001b[0mLoading state\n",
      "\u001b[1m[17:08:07.833]\u001b[0m \u001b[1;95mINFO \u001b[1;0m  \u001b[1mmodels.modelCreator                               \u001b[0mLoading weights from file : /home/javier/Projects/CaloQVAE/outputs/2024-08-16/18-37-54/wandb/run-20240826_133632-frfzrs9j/files/AtlasConditionalQVAE3D_atlas_default_160.pth\n"
     ]
    },
    {
     "name": "stdout",
     "output_type": "stream",
     "text": [
      "FPD (x10^3): 504.8875 ± 3.0930\n",
      "KPD (x10^3): 0.9615 ± 0.1608\n",
      "Loading weights for module =  _activation_fct\n",
      "Loading weights for module =  _bce_loss\n",
      "Loading weights for module =  _energy_activation_fct\n",
      "Loading weights for module =  _hit_activation_fct\n",
      "Loading weights for module =  _output_loss\n",
      "Loading weights for module =  _hit_loss\n",
      "Loading weights for module =  _hit_smoothing_dist_mod\n",
      "Loading weights for module =  _inference_energy_activation_fct\n",
      "Loading weights for module =  encoder\n",
      "Loading weights for module =  prior\n",
      "Loading weights for module =  decoder\n",
      "TESTING HELLO\n",
      "Data contains NaNs or Infs. Handling them...\n",
      "FPD (x10^3): 326.7067 ± 3.1188\n",
      "KPD (x10^3): 1.1848 ± 0.3581\n",
      "TESTING HELLO\n",
      "Data contains NaNs or Infs. Handling them...\n"
     ]
    },
    {
     "name": "stderr",
     "output_type": "stream",
     "text": [
      "\u001b[1m[17:10:53.152]\u001b[0m \u001b[1;95mINFO \u001b[1;0m  \u001b[1m__main__                                          \u001b[0mFinished generating HEP Metrics for epoch 160 ...\n",
      "\u001b[1m[17:10:53.153]\u001b[0m \u001b[1;95mINFO \u001b[1;0m  \u001b[1m__main__                                          \u001b[0mModel AtlasConditionalQVAE3D_atlas_default_170.pth\n",
      "\u001b[1m[17:10:53.153]\u001b[0m \u001b[1;95mINFO \u001b[1;0m  \u001b[1m__main__                                          \u001b[0mLoading model /home/javier/Projects/CaloQVAE/outputs/2024-08-16/18-37-54/wandb/run-20240826_133632-frfzrs9j/files/AtlasConditionalQVAE3D_atlas_default_170.pth\n",
      "\u001b[1m[17:10:53.154]\u001b[0m \u001b[1;95mINFO \u001b[1;0m  \u001b[1mmodels.modelCreator                               \u001b[0mLoading state\n",
      "\u001b[1m[17:10:53.289]\u001b[0m \u001b[1;95mINFO \u001b[1;0m  \u001b[1mmodels.modelCreator                               \u001b[0mLoading weights from file : /home/javier/Projects/CaloQVAE/outputs/2024-08-16/18-37-54/wandb/run-20240826_133632-frfzrs9j/files/AtlasConditionalQVAE3D_atlas_default_170.pth\n"
     ]
    },
    {
     "name": "stdout",
     "output_type": "stream",
     "text": [
      "FPD (x10^3): 502.3351 ± 2.9796\n",
      "KPD (x10^3): 1.0789 ± 0.2500\n",
      "Loading weights for module =  _activation_fct\n",
      "Loading weights for module =  _bce_loss\n",
      "Loading weights for module =  _energy_activation_fct\n",
      "Loading weights for module =  _hit_activation_fct\n",
      "Loading weights for module =  _output_loss\n",
      "Loading weights for module =  _hit_loss\n",
      "Loading weights for module =  _hit_smoothing_dist_mod\n",
      "Loading weights for module =  _inference_energy_activation_fct\n",
      "Loading weights for module =  encoder\n",
      "Loading weights for module =  prior\n",
      "Loading weights for module =  decoder\n",
      "TESTING HELLO\n",
      "Data contains NaNs or Infs. Handling them...\n",
      "FPD (x10^3): 316.6687 ± 2.7414\n",
      "KPD (x10^3): 0.9451 ± 0.2993\n",
      "TESTING HELLO\n",
      "Data contains NaNs or Infs. Handling them...\n"
     ]
    },
    {
     "name": "stderr",
     "output_type": "stream",
     "text": [
      "\u001b[1m[17:13:42.112]\u001b[0m \u001b[1;95mINFO \u001b[1;0m  \u001b[1m__main__                                          \u001b[0mFinished generating HEP Metrics for epoch 170 ...\n",
      "\u001b[1m[17:13:42.113]\u001b[0m \u001b[1;95mINFO \u001b[1;0m  \u001b[1m__main__                                          \u001b[0mModel AtlasConditionalQVAE3D_atlas_default_180.pth\n",
      "\u001b[1m[17:13:42.114]\u001b[0m \u001b[1;95mINFO \u001b[1;0m  \u001b[1m__main__                                          \u001b[0mLoading model /home/javier/Projects/CaloQVAE/outputs/2024-08-16/18-37-54/wandb/run-20240826_133632-frfzrs9j/files/AtlasConditionalQVAE3D_atlas_default_180.pth\n",
      "\u001b[1m[17:13:42.114]\u001b[0m \u001b[1;95mINFO \u001b[1;0m  \u001b[1mmodels.modelCreator                               \u001b[0mLoading state\n",
      "\u001b[1m[17:13:42.252]\u001b[0m \u001b[1;95mINFO \u001b[1;0m  \u001b[1mmodels.modelCreator                               \u001b[0mLoading weights from file : /home/javier/Projects/CaloQVAE/outputs/2024-08-16/18-37-54/wandb/run-20240826_133632-frfzrs9j/files/AtlasConditionalQVAE3D_atlas_default_180.pth\n"
     ]
    },
    {
     "name": "stdout",
     "output_type": "stream",
     "text": [
      "FPD (x10^3): 493.3431 ± 2.7844\n",
      "KPD (x10^3): 1.0495 ± 0.1917\n",
      "Loading weights for module =  _activation_fct\n",
      "Loading weights for module =  _bce_loss\n",
      "Loading weights for module =  _energy_activation_fct\n",
      "Loading weights for module =  _hit_activation_fct\n",
      "Loading weights for module =  _output_loss\n",
      "Loading weights for module =  _hit_loss\n",
      "Loading weights for module =  _hit_smoothing_dist_mod\n",
      "Loading weights for module =  _inference_energy_activation_fct\n",
      "Loading weights for module =  encoder\n",
      "Loading weights for module =  prior\n",
      "Loading weights for module =  decoder\n",
      "TESTING HELLO\n",
      "Data contains NaNs or Infs. Handling them...\n",
      "FPD (x10^3): 325.6878 ± 2.9738\n",
      "KPD (x10^3): 1.1357 ± 0.3710\n",
      "TESTING HELLO\n",
      "Data contains NaNs or Infs. Handling them...\n"
     ]
    },
    {
     "name": "stderr",
     "output_type": "stream",
     "text": [
      "\u001b[1m[17:16:24.424]\u001b[0m \u001b[1;95mINFO \u001b[1;0m  \u001b[1m__main__                                          \u001b[0mFinished generating HEP Metrics for epoch 180 ...\n",
      "\u001b[1m[17:16:24.425]\u001b[0m \u001b[1;95mINFO \u001b[1;0m  \u001b[1m__main__                                          \u001b[0mModel AtlasConditionalQVAE3D_atlas_default_190.pth\n",
      "\u001b[1m[17:16:24.425]\u001b[0m \u001b[1;95mINFO \u001b[1;0m  \u001b[1m__main__                                          \u001b[0mLoading model /home/javier/Projects/CaloQVAE/outputs/2024-08-16/18-37-54/wandb/run-20240826_133632-frfzrs9j/files/AtlasConditionalQVAE3D_atlas_default_190.pth\n",
      "\u001b[1m[17:16:24.426]\u001b[0m \u001b[1;95mINFO \u001b[1;0m  \u001b[1mmodels.modelCreator                               \u001b[0mLoading state\n",
      "\u001b[1m[17:16:24.560]\u001b[0m \u001b[1;95mINFO \u001b[1;0m  \u001b[1mmodels.modelCreator                               \u001b[0mLoading weights from file : /home/javier/Projects/CaloQVAE/outputs/2024-08-16/18-37-54/wandb/run-20240826_133632-frfzrs9j/files/AtlasConditionalQVAE3D_atlas_default_190.pth\n"
     ]
    },
    {
     "name": "stdout",
     "output_type": "stream",
     "text": [
      "FPD (x10^3): 496.5752 ± 3.2581\n",
      "KPD (x10^3): 1.0182 ± 0.2363\n",
      "Loading weights for module =  _activation_fct\n",
      "Loading weights for module =  _bce_loss\n",
      "Loading weights for module =  _energy_activation_fct\n",
      "Loading weights for module =  _hit_activation_fct\n",
      "Loading weights for module =  _output_loss\n",
      "Loading weights for module =  _hit_loss\n",
      "Loading weights for module =  _hit_smoothing_dist_mod\n",
      "Loading weights for module =  _inference_energy_activation_fct\n",
      "Loading weights for module =  encoder\n",
      "Loading weights for module =  prior\n",
      "Loading weights for module =  decoder\n",
      "TESTING HELLO\n",
      "Data contains NaNs or Infs. Handling them...\n",
      "FPD (x10^3): 323.5886 ± 3.0340\n",
      "KPD (x10^3): 1.1671 ± 0.3634\n",
      "TESTING HELLO\n",
      "Data contains NaNs or Infs. Handling them...\n"
     ]
    },
    {
     "name": "stderr",
     "output_type": "stream",
     "text": [
      "\u001b[1m[17:19:30.976]\u001b[0m \u001b[1;95mINFO \u001b[1;0m  \u001b[1m__main__                                          \u001b[0mFinished generating HEP Metrics for epoch 190 ...\n",
      "\u001b[1m[17:19:30.978]\u001b[0m \u001b[1;95mINFO \u001b[1;0m  \u001b[1m__main__                                          \u001b[0mModel AtlasConditionalQVAE3D_atlas_default_200.pth\n",
      "\u001b[1m[17:19:30.978]\u001b[0m \u001b[1;95mINFO \u001b[1;0m  \u001b[1m__main__                                          \u001b[0mLoading model /home/javier/Projects/CaloQVAE/outputs/2024-08-16/18-37-54/wandb/run-20240826_133632-frfzrs9j/files/AtlasConditionalQVAE3D_atlas_default_200.pth\n",
      "\u001b[1m[17:19:30.979]\u001b[0m \u001b[1;95mINFO \u001b[1;0m  \u001b[1mmodels.modelCreator                               \u001b[0mLoading state\n",
      "\u001b[1m[17:19:31.048]\u001b[0m \u001b[1;95mINFO \u001b[1;0m  \u001b[1mmodels.modelCreator                               \u001b[0mLoading weights from file : /home/javier/Projects/CaloQVAE/outputs/2024-08-16/18-37-54/wandb/run-20240826_133632-frfzrs9j/files/AtlasConditionalQVAE3D_atlas_default_200.pth\n"
     ]
    },
    {
     "name": "stdout",
     "output_type": "stream",
     "text": [
      "FPD (x10^3): 498.5052 ± 3.4057\n",
      "KPD (x10^3): 1.0568 ± 0.2396\n",
      "Loading weights for module =  _activation_fct\n",
      "Loading weights for module =  _bce_loss\n",
      "Loading weights for module =  _energy_activation_fct\n",
      "Loading weights for module =  _hit_activation_fct\n",
      "Loading weights for module =  _output_loss\n",
      "Loading weights for module =  _hit_loss\n",
      "Loading weights for module =  _hit_smoothing_dist_mod\n",
      "Loading weights for module =  _inference_energy_activation_fct\n",
      "Loading weights for module =  encoder\n",
      "Loading weights for module =  prior\n",
      "Loading weights for module =  decoder\n",
      "TESTING HELLO\n",
      "Data contains NaNs or Infs. Handling them...\n",
      "FPD (x10^3): 320.0293 ± 2.9014\n",
      "KPD (x10^3): 1.1020 ± 0.3428\n",
      "TESTING HELLO\n",
      "Data contains NaNs or Infs. Handling them...\n"
     ]
    },
    {
     "name": "stderr",
     "output_type": "stream",
     "text": [
      "\u001b[1m[17:21:56.297]\u001b[0m \u001b[1;95mINFO \u001b[1;0m  \u001b[1m__main__                                          \u001b[0mFinished generating HEP Metrics for epoch 200 ...\n",
      "\u001b[1m[17:21:56.298]\u001b[0m \u001b[1;95mINFO \u001b[1;0m  \u001b[1m__main__                                          \u001b[0mModel AtlasConditionalQVAE3D_atlas_default_210.pth\n",
      "\u001b[1m[17:21:56.299]\u001b[0m \u001b[1;95mINFO \u001b[1;0m  \u001b[1m__main__                                          \u001b[0mLoading model /home/javier/Projects/CaloQVAE/outputs/2024-08-16/18-37-54/wandb/run-20240826_133632-frfzrs9j/files/AtlasConditionalQVAE3D_atlas_default_210.pth\n",
      "\u001b[1m[17:21:56.299]\u001b[0m \u001b[1;95mINFO \u001b[1;0m  \u001b[1mmodels.modelCreator                               \u001b[0mLoading state\n",
      "\u001b[1m[17:21:56.442]\u001b[0m \u001b[1;95mINFO \u001b[1;0m  \u001b[1mmodels.modelCreator                               \u001b[0mLoading weights from file : /home/javier/Projects/CaloQVAE/outputs/2024-08-16/18-37-54/wandb/run-20240826_133632-frfzrs9j/files/AtlasConditionalQVAE3D_atlas_default_210.pth\n"
     ]
    },
    {
     "name": "stdout",
     "output_type": "stream",
     "text": [
      "FPD (x10^3): 499.4444 ± 3.3104\n",
      "KPD (x10^3): 1.0535 ± 0.1913\n",
      "Loading weights for module =  _activation_fct\n",
      "Loading weights for module =  _bce_loss\n",
      "Loading weights for module =  _energy_activation_fct\n",
      "Loading weights for module =  _hit_activation_fct\n",
      "Loading weights for module =  _output_loss\n",
      "Loading weights for module =  _hit_loss\n",
      "Loading weights for module =  _hit_smoothing_dist_mod\n",
      "Loading weights for module =  _inference_energy_activation_fct\n",
      "Loading weights for module =  encoder\n",
      "Loading weights for module =  prior\n",
      "Loading weights for module =  decoder\n",
      "TESTING HELLO\n",
      "Data contains NaNs or Infs. Handling them...\n",
      "FPD (x10^3): 326.1752 ± 2.8467\n",
      "KPD (x10^3): 1.2204 ± 0.3853\n",
      "TESTING HELLO\n",
      "Data contains NaNs or Infs. Handling them...\n"
     ]
    },
    {
     "name": "stderr",
     "output_type": "stream",
     "text": [
      "\u001b[1m[17:24:42.394]\u001b[0m \u001b[1;95mINFO \u001b[1;0m  \u001b[1m__main__                                          \u001b[0mFinished generating HEP Metrics for epoch 210 ...\n",
      "\u001b[1m[17:24:42.395]\u001b[0m \u001b[1;95mINFO \u001b[1;0m  \u001b[1m__main__                                          \u001b[0mModel AtlasConditionalQVAE3D_atlas_default_220.pth\n",
      "\u001b[1m[17:24:42.395]\u001b[0m \u001b[1;95mINFO \u001b[1;0m  \u001b[1m__main__                                          \u001b[0mLoading model /home/javier/Projects/CaloQVAE/outputs/2024-08-16/18-37-54/wandb/run-20240826_133632-frfzrs9j/files/AtlasConditionalQVAE3D_atlas_default_220.pth\n",
      "\u001b[1m[17:24:42.396]\u001b[0m \u001b[1;95mINFO \u001b[1;0m  \u001b[1mmodels.modelCreator                               \u001b[0mLoading state\n",
      "\u001b[1m[17:24:42.536]\u001b[0m \u001b[1;95mINFO \u001b[1;0m  \u001b[1mmodels.modelCreator                               \u001b[0mLoading weights from file : /home/javier/Projects/CaloQVAE/outputs/2024-08-16/18-37-54/wandb/run-20240826_133632-frfzrs9j/files/AtlasConditionalQVAE3D_atlas_default_220.pth\n"
     ]
    },
    {
     "name": "stdout",
     "output_type": "stream",
     "text": [
      "FPD (x10^3): 494.2036 ± 3.0397\n",
      "KPD (x10^3): 1.0441 ± 0.2244\n",
      "Loading weights for module =  _activation_fct\n",
      "Loading weights for module =  _bce_loss\n",
      "Loading weights for module =  _energy_activation_fct\n",
      "Loading weights for module =  _hit_activation_fct\n",
      "Loading weights for module =  _output_loss\n",
      "Loading weights for module =  _hit_loss\n",
      "Loading weights for module =  _hit_smoothing_dist_mod\n",
      "Loading weights for module =  _inference_energy_activation_fct\n",
      "Loading weights for module =  encoder\n",
      "Loading weights for module =  prior\n",
      "Loading weights for module =  decoder\n",
      "TESTING HELLO\n",
      "Data contains NaNs or Infs. Handling them...\n",
      "FPD (x10^3): 314.7802 ± 2.8340\n",
      "KPD (x10^3): 0.9885 ± 0.2786\n",
      "TESTING HELLO\n",
      "Data contains NaNs or Infs. Handling them...\n"
     ]
    },
    {
     "name": "stderr",
     "output_type": "stream",
     "text": [
      "\u001b[1m[17:27:30.637]\u001b[0m \u001b[1;95mINFO \u001b[1;0m  \u001b[1m__main__                                          \u001b[0mFinished generating HEP Metrics for epoch 220 ...\n"
     ]
    },
    {
     "name": "stdout",
     "output_type": "stream",
     "text": [
      "FPD (x10^3): 498.8375 ± 2.8181\n",
      "KPD (x10^3): 1.0355 ± 0.1723\n"
     ]
    }
   ],
   "source": [
    "HEPMetric_output = search_HEPMetric(config.run_path, engine, dev, 10, config.data.entity)"
   ]
  },
  {
   "cell_type": "code",
   "execution_count": 23,
   "id": "e7aefe67-2ee3-48f5-a047-05003f12ca62",
   "metadata": {
    "tags": []
   },
   "outputs": [
    {
     "data": {
      "image/png": "[encoded data removed]",
      "text/plain": [
       "<Figure size 1200x600 with 2 Axes>"
      ]
     },
     "metadata": {
      "image/png": {
       "height": 590,
       "width": 1189
      }
     },
     "output_type": "display_data"
    }
   ],
   "source": [
    "save_plot(HEPMetric_output, config.run_path)"
   ]
  },
  {
   "cell_type": "code",
   "execution_count": 21,
   "id": "7a0b5ba0-60e9-458a-ab50-86976bea313d",
   "metadata": {
    "tags": []
   },
   "outputs": [
    {
     "data": {
      "text/plain": [
       "'/home/javier/Projects/CaloQVAE/outputs/2024-08-16/18-37-54/wandb/run-20240818_130637-frfzrs9j/files/AtlasConditionalQVAE3D_atlas_default_140.pth'"
      ]
     },
     "execution_count": 21,
     "metadata": {},
     "output_type": "execute_result"
    }
   ],
   "source": [
    "config.run_path"
   ]
  },
  {
   "cell_type": "code",
   "execution_count": 47,
   "id": "2ed254ba-9458-4d94-a150-2d48f6be62c7",
   "metadata": {
    "tags": []
   },
   "outputs": [
    {
     "data": {
      "text/plain": [
       "<utils.plotting.HighLevelFeatures.HighLevelFeatures at 0x7f1db1148150>"
      ]
     },
     "execution_count": 47,
     "metadata": {},
     "output_type": "execute_result"
    }
   ],
   "source": [
    "# HEPMetric_output\n",
    "# get_fpd_kpd_metrics(np.array(xtarget_samples), np.array(xrecon_samples), False, hlf, ref_hlf)\n",
    "HEPMetric_output[4]"
   ]
  },
  {
   "cell_type": "code",
   "execution_count": 15,
   "id": "dfc481a3-d66e-4c69-ac2f-d3d98155efcf",
   "metadata": {
    "tags": []
   },
   "outputs": [
    {
     "name": "stdout",
     "output_type": "stream",
     "text": [
      "TESTING HELLO\n",
      "Data contains NaNs or Infs. Handling them...\n"
     ]
    },
    {
     "name": "stderr",
     "output_type": "stream",
     "text": [
      "/tmp/ipykernel_764054/3450954175.py:65: RuntimeWarning: Recommended number of samples for FPD estimation is 50,000\n",
      "  fpd_val, fpd_err = jetnet.evaluation.fpd(hlf_test_data, hlf_gen_data)\n"
     ]
    },
    {
     "name": "stdout",
     "output_type": "stream",
     "text": [
      "FPD (x10^3): 574.2779 ± 4.2280\n",
      "KPD (x10^3): 2.4953 ± 0.6055\n"
     ]
    },
    {
     "data": {
      "text/plain": [
       "(0.5742779016416081,\n",
       " 0.004227988531820257,\n",
       " 0.0024953117467401142,\n",
       " 0.0006054614188105096)"
      ]
     },
     "execution_count": 15,
     "metadata": {},
     "output_type": "execute_result"
    }
   ],
   "source": [
    "get_fpd_kpd_metrics(HEPMetric_output[0], HEPMetric_output[1], HEPMetric_output[2], HEPMetric_output[3], HEPMetric_output[4])"
   ]
  },
  {
   "cell_type": "code",
   "execution_count": 74,
   "id": "b37eb2cd-0899-4138-b69c-8c2e0571c124",
   "metadata": {
    "tags": []
   },
   "outputs": [
    {
     "data": {
      "text/plain": [
       "<utils.plotting.HighLevelFeatures.HighLevelFeatures at 0x7f1d63ec9d90>"
      ]
     },
     "execution_count": 74,
     "metadata": {},
     "output_type": "execute_result"
    }
   ],
   "source": [
    "HLF.HighLevelFeatures('electron', filename=engine._config.data.binning_xml_electrons, wandb=False)"
   ]
  },
  {
   "cell_type": "code",
   "execution_count": 75,
   "id": "4eee127c-72c2-490f-a6e4-266469ce4eac",
   "metadata": {
    "tags": []
   },
   "outputs": [],
   "source": [
    "data_showers = HEPMetric_output[0]\n",
    "gen_showers = HEPMetric_output[1]\n",
    "hlf = HLF.HighLevelFeatures('electron', filename=engine._config.data.binning_xml_electrons, wandb=False)\n",
    "ref_hlf = HEPMetric_output[4]\n",
    "\n",
    "hlf.CalculateFeatures(data_showers)\n",
    "ref_hlf.CalculateFeatures(gen_showers)\n",
    "# hlf_test_data = prepare_high_data_for_classifier(test_data, hlf.Einc, hlf, 0.)[:, :-1]\n",
    "# hlf_gen_data = prepare_high_data_for_classifier(gen_data, hlf.Einc, ref_hlf, 1.)[:, :-1]\n",
    "# hlf_test_data = check_and_replace_nans_infs(hlf_test_data)\n",
    "# hlf_gen_data = check_and_replace_nans_infs(hlf_gen_data)\n",
    "# fpd_val, fpd_err = jetnet.evaluation.fpd(hlf_test_data, hlf_gen_data)\n",
    "# kpd_val, kpd_err = jetnet.evaluation.kpd(hlf_test_data, hlf_gen_data)"
   ]
  }
 ],
 "metadata": {
  "kernelspec": {
   "display_name": "Python 3 (ipykernel)",
   "language": "python",
   "name": "python3"
  },
  "language_info": {
   "codemirror_mode": {
    "name": "ipython",
    "version": 3
   },
   "file_extension": ".py",
   "mimetype": "text/x-python",
   "name": "python",
   "nbconvert_exporter": "python",
   "pygments_lexer": "ipython3",
   "version": "3.11.4"
  }
 },
 "nbformat": 4,
 "nbformat_minor": 5
}
