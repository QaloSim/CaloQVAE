{
 "cells": [
  {
   "cell_type": "code",
   "execution_count": 1,
   "id": "503779a9",
   "metadata": {},
   "outputs": [
    {
     "name": "stderr",
     "output_type": "stream",
     "text": [
      "2022-12-07 06:44:57.374452: I tensorflow/core/platform/cpu_feature_guard.cc:193] This TensorFlow binary is optimized with oneAPI Deep Neural Network Library (oneDNN) to use the following CPU instructions in performance-critical operations:  AVX2 AVX512F FMA\n",
      "To enable them in other operations, rebuild TensorFlow with the appropriate compiler flags.\n"
     ]
    }
   ],
   "source": [
    "import h5py\n",
    "from keras.callbacks import EarlyStopping, ModelCheckpoint\n",
    "from keras.models import Model\n",
    "from keras.layers import (Dense, Reshape, Conv2D, LeakyReLU, BatchNormalization,\n",
    "                          LocallyConnected2D, Activation, ZeroPadding2D,\n",
    "                          Dropout, Lambda, Flatten, Input, add)\n",
    "\n",
    "import numpy as np\n",
    "\n",
    "from sklearn.model_selection import train_test_split\n",
    "from sklearn.utils import shuffle\n",
    "\n",
    "import matplotlib\n",
    "import matplotlib.pyplot as plt\n",
    "\n",
    "from sklearn.metrics import roc_curve, classification_report\n",
    "\n",
    "from functools import partial\n",
    "import torch\n",
    "import torch.nn as nn\n",
    "import matplotlib.pyplot as plt\n",
    "import torch.nn.functional as func \n",
    "from torch.nn.functional import normalize\n",
    "import torch.optim as optim\n",
    "from torch.utils.data import TensorDataset, DataLoader"
   ]
  },
  {
   "cell_type": "code",
   "execution_count": 88,
   "id": "0499877d",
   "metadata": {},
   "outputs": [],
   "source": [
    "# Choose Calo Particles\n",
    "CLASS_ONE = 'gamma'\n",
    "CLASS_TWO = 'eplus'\n",
    "c1 = h5py.File('/fast_scratch_1/QVAE/data/calo_scaled/'+CLASS_ONE+'.hdf5', 'r')\n",
    "c2 = h5py.File('/fast_scratch_1/QVAE/data/calo_scaled/'+CLASS_TWO+'.hdf5', 'r')"
   ]
  },
  {
   "cell_type": "code",
   "execution_count": 89,
   "id": "60665d79",
   "metadata": {},
   "outputs": [],
   "source": [
    "c1_layer_0 = torch.tensor(np.array(c1['layer_0']))\n",
    "c1_layer_1 = torch.tensor(np.array(c1['layer_1']))\n",
    "c1_layer_2 = torch.tensor(np.array(c1['layer_2']))\n",
    "c1_flatten_0 = torch.flatten(c1_layer_0, start_dim=1)\n",
    "c1_flatten_1 = torch.flatten(c1_layer_1, start_dim=1)\n",
    "c1_flatten_2 = torch.flatten(c1_layer_2, start_dim=1)\n",
    "c1 = torch.cat((c1_flatten_0,c1_flatten_1,c1_flatten_2), dim=1)"
   ]
  },
  {
   "cell_type": "code",
   "execution_count": 90,
   "id": "f3d94e57",
   "metadata": {},
   "outputs": [],
   "source": [
    "c2_layer_0 = torch.tensor(np.array(c2['layer_0']))\n",
    "c2_layer_1 = torch.tensor(np.array(c2['layer_1']))\n",
    "c2_layer_2 = torch.tensor(np.array(c2['layer_2']))\n",
    "c2_flatten_0 = torch.flatten(c2_layer_0, start_dim=1)\n",
    "c2_flatten_1 = torch.flatten(c2_layer_1, start_dim=1)\n",
    "c2_flatten_2 = torch.flatten(c2_layer_2, start_dim=1)\n",
    "c2 = torch.cat((c2_flatten_0,c2_flatten_1,c2_flatten_2), dim=1)"
   ]
  },
  {
   "cell_type": "code",
   "execution_count": 91,
   "id": "14c11ebf",
   "metadata": {},
   "outputs": [],
   "source": [
    "# c1 = c1_flatten_1 # take only layer 2\n",
    "# c2 = c2_flatten_1 # tke only layer 2"
   ]
  },
  {
   "cell_type": "code",
   "execution_count": 92,
   "id": "6bcc7d12",
   "metadata": {},
   "outputs": [
    {
     "name": "stdout",
     "output_type": "stream",
     "text": [
      "Number of gamma events = 504\n",
      "Number of eplus events = 504\n"
     ]
    }
   ],
   "source": [
    "print('Number of {} events = {}'.format(CLASS_ONE, c1[0].shape[0]))\n",
    "print('Number of {} events = {}'.format(CLASS_TWO, c2[0].shape[0]))\n"
   ]
  },
  {
   "cell_type": "code",
   "execution_count": 93,
   "id": "ce922877",
   "metadata": {},
   "outputs": [],
   "source": [
    "# define labels\n",
    "c1_labels = torch.ones(c1.size(0)) # ones\n",
    "c2_labels = torch.zeros(c2.size(0)) # zeros\n",
    "inputs = torch.cat((c1, c2), dim=0) # flattening dimension 1\n",
    "#inputs = normalize(inputs, dim=1)\n",
    "labels = torch.cat((c1_labels, c2_labels), dim=0)\n",
    "dataset = TensorDataset(inputs, labels)\n",
    "# data_loader = DataLoader(dataset, shuffle=True, batch_size=inputs.size(0))\n",
    "# inputs = next(iter(data_loader))[0].float()/1000.\n",
    "# targets = next(iter(data_loader))[1]\n"
   ]
  },
  {
   "cell_type": "code",
   "execution_count": 94,
   "id": "45849fd6",
   "metadata": {},
   "outputs": [
    {
     "data": {
      "text/plain": [
       "torch.Size([200000, 504])"
      ]
     },
     "execution_count": 94,
     "metadata": {},
     "output_type": "execute_result"
    }
   ],
   "source": [
    "inputs.size()"
   ]
  },
  {
   "cell_type": "code",
   "execution_count": 95,
   "id": "32536cb8",
   "metadata": {},
   "outputs": [],
   "source": [
    "rand_perm = torch.randperm(inputs.size(0))\n",
    "inputs = inputs[rand_perm].float()/1000\n",
    "targets = labels[rand_perm]"
   ]
  },
  {
   "cell_type": "code",
   "execution_count": 96,
   "id": "05d48006",
   "metadata": {},
   "outputs": [
    {
     "data": {
      "text/plain": [
       "tensor([0., 1., 0.,  ..., 1., 0., 1.])"
      ]
     },
     "execution_count": 96,
     "metadata": {},
     "output_type": "execute_result"
    }
   ],
   "source": [
    "targets"
   ]
  },
  {
   "cell_type": "code",
   "execution_count": 97,
   "id": "75da83fa",
   "metadata": {},
   "outputs": [],
   "source": [
    "class Net(nn.Module):\n",
    "    \"\"\"\n",
    "    This class builds the neural network structure with 3 layers.\n",
    "        Layer 1: num_features number of units\n",
    "        layer 2: num_hiddden_units=100 hidden units seem to work well\n",
    "        layer 3: num_classes=5 number of output classes\n",
    "    \"\"\"\n",
    "    def __init__(self, num_features,  num_classes):\n",
    "        super(Net, self).__init__() \n",
    "        self.fc1= nn.Linear(num_features, 512)\n",
    "        self.nfc1 = nn.BatchNorm1d(512)\n",
    "        \n",
    "        self.fc2= nn.Linear(512, 1024)\n",
    "        self.nfc2 = nn.BatchNorm1d(1024)\n",
    "        \n",
    "        self.fc3= nn.Linear(1024, 2048)\n",
    "        self.nfc3 = nn.BatchNorm1d(2048)\n",
    "        \n",
    "        self.fc4= nn.Linear(2048, 1024)\n",
    "        self.nfc4 = nn.BatchNorm1d(1024)\n",
    "        \n",
    "        self.fc5= nn.Linear(1024, 128)\n",
    "        self.nfc5 = nn.BatchNorm1d(128)\n",
    "        \n",
    "        self.fc6= nn.Linear(128, num_classes)\n",
    "    \n",
    "    def forward(self, x):\n",
    "        h1 = self.nfc1(func.dropout(func.leaky_relu(self.fc1(x)),p=0.02))\n",
    "        h2 = self.nfc2(func.dropout(func.leaky_relu(self.fc2(h1)),p=0.05))\n",
    "        h3 = self.nfc3(func.dropout(func.leaky_relu(self.fc3(h2)),p=0.05))\n",
    "        h4 = self.nfc4(func.dropout(func.leaky_relu(self.fc4(h3)),p=0.05))\n",
    "        h5 = func.dropout(func.leaky_relu(self.fc5(h4)),p=0.005)\n",
    "        y = torch.sigmoid(self.fc6(h5))\n",
    "        \n",
    "#         h1 = torch.relu(self.fc1(x))\n",
    "#         h1 = func.dropout(h1,p=0.25)\n",
    "#         y = torch.sigmoid(self.fc2(h1))\n",
    "        return y\n",
    "\n",
    "    def reset(self):\n",
    "        self.fc1.reset_parameters()\n",
    "        self.fc2.reset_parameters()"
   ]
  },
  {
   "cell_type": "code",
   "execution_count": 82,
   "id": "24155e1c",
   "metadata": {},
   "outputs": [
    {
     "name": "stdout",
     "output_type": "stream",
     "text": [
      "Epoch [2/100]\tTrain Loss :50.0000\t accuracy :50.0000%\n",
      "Epoch [4/100]\tTrain Loss :50.0000\t accuracy :50.0000%\n",
      "Epoch [6/100]\tTrain Loss :50.0000\t accuracy :50.0000%\n"
     ]
    },
    {
     "ename": "KeyboardInterrupt",
     "evalue": "",
     "output_type": "error",
     "traceback": [
      "\u001b[0;31m---------------------------------------------------------------------------\u001b[0m",
      "\u001b[0;31mKeyboardInterrupt\u001b[0m                         Traceback (most recent call last)",
      "Input \u001b[0;32mIn [82]\u001b[0m, in \u001b[0;36m<module>\u001b[0;34m\u001b[0m\n\u001b[1;32m     13\u001b[0m obj_val \u001b[38;5;241m=\u001b[39m loss(model_output, targets)\n\u001b[1;32m     14\u001b[0m optimizer\u001b[38;5;241m.\u001b[39mzero_grad() \n\u001b[0;32m---> 15\u001b[0m \u001b[43mobj_val\u001b[49m\u001b[38;5;241;43m.\u001b[39;49m\u001b[43mbackward\u001b[49m\u001b[43m(\u001b[49m\u001b[43m)\u001b[49m \n\u001b[1;32m     16\u001b[0m optimizer\u001b[38;5;241m.\u001b[39mstep() \n\u001b[1;32m     17\u001b[0m obj_vals\u001b[38;5;241m.\u001b[39mappend(obj_val\u001b[38;5;241m.\u001b[39mitem())\n",
      "File \u001b[0;32m/opt/conda/lib/python3.8/site-packages/torch/_tensor.py:352\u001b[0m, in \u001b[0;36mTensor.backward\u001b[0;34m(self, gradient, retain_graph, create_graph, inputs)\u001b[0m\n\u001b[1;32m    343\u001b[0m \u001b[38;5;28;01mif\u001b[39;00m has_torch_function_unary(\u001b[38;5;28mself\u001b[39m):\n\u001b[1;32m    344\u001b[0m     \u001b[38;5;28;01mreturn\u001b[39;00m handle_torch_function(\n\u001b[1;32m    345\u001b[0m         Tensor\u001b[38;5;241m.\u001b[39mbackward,\n\u001b[1;32m    346\u001b[0m         (\u001b[38;5;28mself\u001b[39m,),\n\u001b[0;32m   (...)\u001b[0m\n\u001b[1;32m    350\u001b[0m         create_graph\u001b[38;5;241m=\u001b[39mcreate_graph,\n\u001b[1;32m    351\u001b[0m         inputs\u001b[38;5;241m=\u001b[39minputs)\n\u001b[0;32m--> 352\u001b[0m \u001b[43mtorch\u001b[49m\u001b[38;5;241;43m.\u001b[39;49m\u001b[43mautograd\u001b[49m\u001b[38;5;241;43m.\u001b[39;49m\u001b[43mbackward\u001b[49m\u001b[43m(\u001b[49m\u001b[38;5;28;43mself\u001b[39;49m\u001b[43m,\u001b[49m\u001b[43m \u001b[49m\u001b[43mgradient\u001b[49m\u001b[43m,\u001b[49m\u001b[43m \u001b[49m\u001b[43mretain_graph\u001b[49m\u001b[43m,\u001b[49m\u001b[43m \u001b[49m\u001b[43mcreate_graph\u001b[49m\u001b[43m,\u001b[49m\u001b[43m \u001b[49m\u001b[43minputs\u001b[49m\u001b[38;5;241;43m=\u001b[39;49m\u001b[43minputs\u001b[49m\u001b[43m)\u001b[49m\n",
      "File \u001b[0;32m/opt/conda/lib/python3.8/site-packages/torch/autograd/__init__.py:173\u001b[0m, in \u001b[0;36mbackward\u001b[0;34m(tensors, grad_tensors, retain_graph, create_graph, grad_variables, inputs)\u001b[0m\n\u001b[1;32m    168\u001b[0m     retain_graph \u001b[38;5;241m=\u001b[39m create_graph\n\u001b[1;32m    170\u001b[0m \u001b[38;5;66;03m# The reason we repeat same the comment below is that\u001b[39;00m\n\u001b[1;32m    171\u001b[0m \u001b[38;5;66;03m# some Python versions print out the first line of a multi-line function\u001b[39;00m\n\u001b[1;32m    172\u001b[0m \u001b[38;5;66;03m# calls in the traceback and some print out the last line\u001b[39;00m\n\u001b[0;32m--> 173\u001b[0m \u001b[43mVariable\u001b[49m\u001b[38;5;241;43m.\u001b[39;49m\u001b[43m_execution_engine\u001b[49m\u001b[38;5;241;43m.\u001b[39;49m\u001b[43mrun_backward\u001b[49m\u001b[43m(\u001b[49m\u001b[43m  \u001b[49m\u001b[38;5;66;43;03m# Calls into the C++ engine to run the backward pass\u001b[39;49;00m\n\u001b[1;32m    174\u001b[0m \u001b[43m    \u001b[49m\u001b[43mtensors\u001b[49m\u001b[43m,\u001b[49m\u001b[43m \u001b[49m\u001b[43mgrad_tensors_\u001b[49m\u001b[43m,\u001b[49m\u001b[43m \u001b[49m\u001b[43mretain_graph\u001b[49m\u001b[43m,\u001b[49m\u001b[43m \u001b[49m\u001b[43mcreate_graph\u001b[49m\u001b[43m,\u001b[49m\u001b[43m \u001b[49m\u001b[43minputs\u001b[49m\u001b[43m,\u001b[49m\n\u001b[1;32m    175\u001b[0m \u001b[43m    \u001b[49m\u001b[43mallow_unreachable\u001b[49m\u001b[38;5;241;43m=\u001b[39;49m\u001b[38;5;28;43;01mTrue\u001b[39;49;00m\u001b[43m,\u001b[49m\u001b[43m \u001b[49m\u001b[43maccumulate_grad\u001b[49m\u001b[38;5;241;43m=\u001b[39;49m\u001b[38;5;28;43;01mTrue\u001b[39;49;00m\u001b[43m)\u001b[49m\n",
      "\u001b[0;31mKeyboardInterrupt\u001b[0m: "
     ]
    },
    {
     "name": "stderr",
     "output_type": "stream",
     "text": [
      "--- Logging error ---\n",
      "Traceback (most recent call last):\n",
      "  File \"/opt/conda/lib/python3.8/site-packages/ipykernel/kernelbase.py\", line 461, in dispatch_queue\n",
      "    await self.process_one()\n",
      "  File \"/opt/conda/lib/python3.8/site-packages/ipykernel/kernelbase.py\", line 450, in process_one\n",
      "    await dispatch(*args)\n",
      "TypeError: object NoneType can't be used in 'await' expression\n",
      "\n",
      "During handling of the above exception, another exception occurred:\n",
      "\n",
      "Traceback (most recent call last):\n",
      "  File \"/opt/conda/lib/python3.8/logging/__init__.py\", line 1089, in emit\n",
      "    self.flush()\n",
      "  File \"/opt/conda/lib/python3.8/logging/__init__.py\", line 1069, in flush\n",
      "    self.stream.flush()\n",
      "OSError: [Errno 5] Input/output error\n",
      "Call stack:\n",
      "  File \"/opt/conda/lib/python3.8/runpy.py\", line 194, in _run_module_as_main\n",
      "    return _run_code(code, main_globals, None,\n",
      "  File \"/opt/conda/lib/python3.8/runpy.py\", line 87, in _run_code\n",
      "    exec(code, run_globals)\n",
      "  File \"/opt/conda/lib/python3.8/site-packages/ipykernel_launcher.py\", line 16, in <module>\n",
      "    app.launch_new_instance()\n",
      "  File \"/opt/conda/lib/python3.8/site-packages/traitlets/config/application.py\", line 846, in launch_instance\n",
      "    app.start()\n",
      "  File \"/opt/conda/lib/python3.8/site-packages/ipykernel/kernelapp.py\", line 677, in start\n",
      "    self.io_loop.start()\n",
      "  File \"/opt/conda/lib/python3.8/site-packages/tornado/platform/asyncio.py\", line 199, in start\n",
      "    self.asyncio_loop.run_forever()\n",
      "  File \"/opt/conda/lib/python3.8/asyncio/base_events.py\", line 570, in run_forever\n",
      "    self._run_once()\n",
      "  File \"/opt/conda/lib/python3.8/asyncio/base_events.py\", line 1859, in _run_once\n",
      "    handle._run()\n",
      "  File \"/opt/conda/lib/python3.8/asyncio/events.py\", line 81, in _run\n",
      "    self._context.run(self._callback, *self._args)\n",
      "  File \"/opt/conda/lib/python3.8/site-packages/ipykernel/kernelbase.py\", line 463, in dispatch_queue\n",
      "    self.log.exception(\"Error in message handler\")\n",
      "Message: 'Error in message handler'\n",
      "Arguments: ()\n"
     ]
    }
   ],
   "source": [
    "model = Net(num_features=504, num_classes=1)\n",
    "num_epochs=100\n",
    "display_epochs=2\n",
    "optimizer = optim.Adam(model.parameters(), lr=0.20)\n",
    "loss = torch.nn.BCELoss(reduction= 'mean')\n",
    "obj_vals= []  \n",
    "for epoch in range(num_epochs):   \n",
    "    model_output = model.forward(inputs).reshape(-1)\n",
    "    pred = (model_output>0.5).float()\n",
    "    diff_tensor =  pred - targets \n",
    "    diff_tensor = torch.abs(diff_tensor)\n",
    "    accuracy = 1-torch.sum(diff_tensor)/pred.size(0)\n",
    "    obj_val = loss(model_output, targets)\n",
    "    optimizer.zero_grad() \n",
    "    obj_val.backward() \n",
    "    optimizer.step() \n",
    "    obj_vals.append(obj_val.item())\n",
    "    if (epoch+1) % display_epochs == 0:\n",
    "        print ('Epoch [{}/{}]\\tTrain Loss :{:.4f}\\t accuracy :{:.4f}%'.format(epoch+1, num_epochs, obj_val.item(), accuracy*100))\n",
    "print(\"\\nTraining Completed\")"
   ]
  },
  {
   "cell_type": "code",
   "execution_count": 37,
   "id": "ac8c8527",
   "metadata": {},
   "outputs": [
    {
     "name": "stdout",
     "output_type": "stream",
     "text": [
      "Extraing data for gamma\n",
      "Extraing data for eplus\n",
      "list element is 100000\n",
      "list element is 3\n",
      "list element is 96\n",
      "Number of gamma events = 100000\n",
      "Number of eplus events = 100000\n"
     ]
    }
   ],
   "source": [
    "concat = partial(np.concatenate, axis=0)\n",
    "def load_calodata(fpaths):\n",
    "    '''\n",
    "    Returns:\n",
    "    --------\n",
    "        data: a list of 3 numpy arrays, representing the energy deposition in each layer\n",
    "            for a group of showers contained in the file 'fpath'\n",
    "    '''\n",
    "    for fpath in fpaths:\n",
    "        with h5py.File(fpath, 'r') as h5:\n",
    "            try:\n",
    "                data = [concat((data[i], h5['layer_{}'.format(i)][:])) for i in xrange(3)]\n",
    "            except NameError:\n",
    "                data = [h5['layer_{}'.format(i)][:] for i in range(3)]\n",
    "    return data\n",
    "import glob\n",
    "print('Extraing data for ' + CLASS_ONE)\n",
    "# c1 = load_calodata(glob.glob(('../data/classification/{}_extra.hdf5').format(CLASS_ONE)))\n",
    "c1 = load_calodata(glob.glob(('/fast_scratch_1/QVAE/data/calo_scaled/{}.hdf5').format(CLASS_ONE)))\n",
    "print('Extraing data for ' + CLASS_TWO) \n",
    "    \n",
    " # c2 = load_calodata(glob.glob(('../data/classification/{}_extra.hdf5').format(CLASS_TWO)))\n",
    "c2 = load_calodata(glob.glob(('/fast_scratch_1/QVAE/data/calo_scaled/{}.hdf5').format(CLASS_TWO)))\n",
    "data = map(concat, zip(c1, c2))\n",
    "c_copy = c2\n",
    "for i in range(3):\n",
    "    print(\"list element is {0}\".format(len(c_copy[i])))\n",
    "    c_copy = c_copy[i]\n",
    "\n",
    "labels = np.array([1] * c1[0].shape[0] + [0] * c2[0].shape[0])\n",
    "print('Number of {} events = {}'.format(CLASS_ONE, c1[0].shape[0]))\n",
    "print('Number of {} events = {}'.format(CLASS_TWO, c2[0].shape[0]))"
   ]
  },
  {
   "cell_type": "code",
   "execution_count": null,
   "id": "a126a6f0",
   "metadata": {},
   "outputs": [],
   "source": [
    "    "
   ]
  },
  {
   "cell_type": "code",
   "execution_count": 31,
   "id": "241fe6b2",
   "metadata": {},
   "outputs": [],
   "source": [
    "def build_simple_dnn(x):\n",
    "\n",
    "    h = Dense(512)(x)\n",
    "    h = Dropout(0.2)(LeakyReLU()(h))\n",
    "    h = BatchNormalization()(h)\n",
    "\n",
    "    h = Dense(1024)(h)\n",
    "    h = Dropout(0.5)(LeakyReLU()(h))\n",
    "    h = BatchNormalization()(h)\n",
    "\n",
    "    h = Dense(2048)(h)\n",
    "    h = Dropout(0.5)(LeakyReLU()(h))\n",
    "    h = BatchNormalization()(h)\n",
    "    \n",
    "    h = Dense(1024)(h)\n",
    "    h = Dropout(0.5)(LeakyReLU()(h))\n",
    "    h = BatchNormalization()(h)\n",
    "\n",
    "    h = Dense(128)(h)\n",
    "    h = Dropout(0.5)(LeakyReLU()(h))\n",
    "\n",
    "    h = Dense(1)(h)\n",
    "    y = Activation('sigmoid')(h)\n",
    "    \n",
    "\n",
    "    return y"
   ]
  },
  {
   "cell_type": "code",
   "execution_count": 33,
   "id": "f0f7601c",
   "metadata": {},
   "outputs": [],
   "source": [
    "# c_copy = data_train\n",
    "# for i in range(10):\n",
    "#     print(\"list element is {0}\".format(len(c_copy[i])))\n",
    "#     c_copy = c_copy[i]\n",
    "\n",
    "# print(len(raveled_train[12212]))"
   ]
  },
  {
   "cell_type": "code",
   "execution_count": 38,
   "id": "17ec0ca3",
   "metadata": {},
   "outputs": [
    {
     "name": "stdout",
     "output_type": "stream",
     "text": [
      "lenght of labels is 200000\n",
      "check: len(ix): 200000 should be same as label length\n",
      "nb_train is 140000\n"
     ]
    }
   ],
   "source": [
    "np.random.seed(0)\n",
    "ix = np.array(range(len(labels)))\n",
    "np.random.shuffle(ix)\n",
    "print(\"lenght of labels is {0}\".format(len(labels)))\n",
    "# number of examples to train on\n",
    "nb_train = int(0.7 * len(ix))\n",
    "print(\"check: len(ix): {0} should be same as label length\".format(len(ix)))\n",
    "print(\"nb_train is {0}\".format(nb_train))\n",
    "# train test split\n",
    "ix_train = ix[:nb_train]\n",
    "ix_test = ix[nb_train:]\n",
    "temp_data = data\n",
    "# print(\"temp data has length {0}\".format(len(data)))\n",
    "data_train = [np.expand_dims(d[ix_train], -1) / 1000. for d in data]\n",
    "labels_train = labels[ix_train]\n",
    "\n",
    "data_test = [np.expand_dims(d[ix_test], -1) / 1000. for d in data]\n",
    "labels_test = labels[ix_test]\n",
    "raveled_train = np.concatenate([d.reshape(d.shape[0], -1) for d in data_train], axis=-1)\n",
    "#raveled_test = np.concatenate([d.reshape(d.shape[0], -1) for d in data_test], axis=-1)\n"
   ]
  },
  {
   "cell_type": "code",
   "execution_count": 41,
   "id": "c651aa04",
   "metadata": {
    "collapsed": true,
    "jupyter": {
     "outputs_hidden": true
    }
   },
   "outputs": [
    {
     "data": {
      "text/plain": [
       "array([0.00000000e+00, 0.00000000e+00, 0.00000000e+00, 0.00000000e+00,\n",
       "       0.00000000e+00, 0.00000000e+00, 0.00000000e+00, 0.00000000e+00,\n",
       "       0.00000000e+00, 0.00000000e+00, 0.00000000e+00, 0.00000000e+00,\n",
       "       0.00000000e+00, 5.61773439e-04, 0.00000000e+00, 0.00000000e+00,\n",
       "       2.80619865e-04, 0.00000000e+00, 5.79188634e-04, 9.07821531e-04,\n",
       "       1.71390785e-04, 8.30030924e-04, 0.00000000e+00, 9.93952746e-04,\n",
       "       0.00000000e+00, 3.51070043e-04, 3.14667188e-03, 5.48833434e-04,\n",
       "       2.52487668e-04, 2.52544127e-03, 5.74802368e-04, 7.04072118e-04,\n",
       "       4.39949484e-04, 1.63612926e-03, 1.84211574e-03, 2.57255855e-04,\n",
       "       3.83355065e-04, 4.17382132e-03, 8.58926646e-04, 4.24796669e-04,\n",
       "       0.00000000e+00, 1.38631584e-03, 7.00177967e-04, 1.54930432e-03,\n",
       "       6.36034423e-04, 1.04223261e-03, 3.50925203e-04, 0.00000000e+00,\n",
       "       0.00000000e+00, 2.72405986e-04, 1.55306377e-05, 0.00000000e+00,\n",
       "       0.00000000e+00, 2.59150967e-04, 7.29482081e-04, 7.73837362e-04,\n",
       "       1.81084102e-03, 0.00000000e+00, 2.76531843e-03, 2.17210507e-03,\n",
       "       2.58962802e-04, 1.40397883e-03, 1.32870641e-03, 1.52248432e-04,\n",
       "       1.21325209e-03, 0.00000000e+00, 0.00000000e+00, 1.27058836e-05,\n",
       "       1.05457333e-03, 0.00000000e+00, 8.23842411e-05, 0.00000000e+00,\n",
       "       0.00000000e+00, 9.29215308e-04, 8.86259452e-04, 1.68895514e-05,\n",
       "       0.00000000e+00, 0.00000000e+00, 0.00000000e+00, 4.80641968e-04,\n",
       "       0.00000000e+00, 0.00000000e+00, 0.00000000e+00, 0.00000000e+00,\n",
       "       0.00000000e+00, 0.00000000e+00, 1.15872878e-05, 0.00000000e+00,\n",
       "       0.00000000e+00, 1.75958242e-05, 0.00000000e+00, 0.00000000e+00,\n",
       "       0.00000000e+00, 0.00000000e+00, 0.00000000e+00, 0.00000000e+00,\n",
       "       7.38733111e-04, 4.59686561e-04, 2.17414540e-03, 0.00000000e+00,\n",
       "       9.50217118e-05, 0.00000000e+00, 0.00000000e+00, 6.45557731e-04,\n",
       "       0.00000000e+00, 0.00000000e+00, 0.00000000e+00, 0.00000000e+00,\n",
       "       0.00000000e+00, 0.00000000e+00, 0.00000000e+00, 2.37211675e-04,\n",
       "       5.32602367e-04, 1.09955526e-03, 0.00000000e+00, 0.00000000e+00,\n",
       "       1.65744911e-03, 0.00000000e+00, 7.90084819e-05, 0.00000000e+00,\n",
       "       5.50280175e-04, 1.19889197e-04, 9.51033921e-04, 8.20273250e-04,\n",
       "       3.64665833e-03, 2.22193652e-03, 1.61555414e-03, 1.69742850e-03,\n",
       "       1.20624528e-03, 2.04837358e-03, 2.17931180e-03, 1.28346800e-03,\n",
       "       1.63923751e-03, 3.39737096e-03, 1.95809735e-03, 3.69795054e-03,\n",
       "       1.90956474e-03, 2.31593367e-03, 1.80229305e-03, 1.93705370e-03,\n",
       "       1.99655879e-03, 2.31105908e-03, 2.11951388e-03, 2.43192598e-03,\n",
       "       2.66543284e-03, 2.44582145e-03, 2.17398531e-03, 1.90273635e-03,\n",
       "       2.14637327e-03, 2.22071115e-03, 1.72571895e-03, 2.08490389e-03,\n",
       "       2.08393387e-03, 1.32200776e-03, 1.41563226e-03, 1.97322578e-03,\n",
       "       1.37187834e-03, 2.00615460e-03, 2.71010025e-03, 1.42640584e-03,\n",
       "       2.86965400e-03, 2.47772358e-03, 4.03472802e-04, 9.05287746e-04,\n",
       "       1.90298090e-04, 1.87456949e-03, 7.28065596e-04, 1.49273849e-03,\n",
       "       1.28093041e-03, 1.43675175e-03, 0.00000000e+00, 1.00200513e-03,\n",
       "       0.00000000e+00, 2.67841837e-04, 2.73145874e-03, 1.28924738e-03,\n",
       "       4.38158833e-04, 0.00000000e+00, 0.00000000e+00, 0.00000000e+00,\n",
       "       0.00000000e+00, 4.40872225e-04, 0.00000000e+00, 0.00000000e+00,\n",
       "       0.00000000e+00, 0.00000000e+00, 2.12312255e-04, 0.00000000e+00,\n",
       "       0.00000000e+00, 6.09702508e-04, 0.00000000e+00, 1.12760553e-04,\n",
       "       0.00000000e+00, 0.00000000e+00, 0.00000000e+00, 0.00000000e+00,\n",
       "       0.00000000e+00, 0.00000000e+00, 0.00000000e+00, 0.00000000e+00,\n",
       "       0.00000000e+00, 0.00000000e+00, 0.00000000e+00, 0.00000000e+00,\n",
       "       0.00000000e+00, 0.00000000e+00, 0.00000000e+00, 0.00000000e+00,\n",
       "       0.00000000e+00, 8.21144821e-04, 1.17681424e-03, 0.00000000e+00,\n",
       "       0.00000000e+00, 0.00000000e+00, 2.16123658e-04, 0.00000000e+00,\n",
       "       1.41057768e-03, 1.26681709e-03, 5.95087509e-04, 1.87723845e-04,\n",
       "       1.90720261e-03, 1.66133575e-03, 0.00000000e+00, 6.77875766e-05,\n",
       "       0.00000000e+00, 0.00000000e+00, 0.00000000e+00, 0.00000000e+00,\n",
       "       2.95612210e-05, 9.97910146e-04, 5.23084304e-04, 8.07648340e-04,\n",
       "       0.00000000e+00, 1.85474430e-03, 1.28885371e-03, 0.00000000e+00,\n",
       "       4.75280391e-04, 6.77398810e-04, 5.30967398e-04, 6.28944040e-04,\n",
       "       1.21324912e-03, 6.58630477e-04, 8.99524010e-04, 8.89191103e-04,\n",
       "       2.15828094e-03, 2.25598310e-03, 8.17057425e-04, 2.01867518e-04,\n",
       "       2.50763140e-04, 6.49693519e-04, 1.04115909e-03, 4.84158525e-04,\n",
       "       0.00000000e+00, 0.00000000e+00, 7.88778253e-04, 1.09410985e-03,\n",
       "       0.00000000e+00, 1.24947031e-04, 0.00000000e+00, 0.00000000e+00,\n",
       "       0.00000000e+00, 4.13317903e-04, 0.00000000e+00, 3.19751340e-04,\n",
       "       2.47571608e-03, 1.63824907e-04, 8.19413686e-05, 0.00000000e+00,\n",
       "       0.00000000e+00, 0.00000000e+00, 0.00000000e+00, 0.00000000e+00,\n",
       "       0.00000000e+00, 0.00000000e+00, 0.00000000e+00, 0.00000000e+00,\n",
       "       0.00000000e+00, 0.00000000e+00, 0.00000000e+00, 0.00000000e+00,\n",
       "       1.30194353e-05, 0.00000000e+00, 0.00000000e+00, 0.00000000e+00,\n",
       "       0.00000000e+00, 0.00000000e+00, 0.00000000e+00, 0.00000000e+00,\n",
       "       0.00000000e+00, 3.61474118e-04, 1.62137934e-04, 5.36581052e-04,\n",
       "       4.43385094e-04, 1.37094867e-03, 1.38432801e-03, 1.94130874e-03,\n",
       "       3.67844060e-04, 2.67812648e-05, 0.00000000e+00, 0.00000000e+00,\n",
       "       0.00000000e+00, 5.06925015e-04, 9.33228483e-04, 1.57917763e-03,\n",
       "       1.42283068e-03, 3.01284220e-03, 3.26855824e-03, 2.87235358e-03,\n",
       "       3.70307289e-04, 1.88040553e-04, 0.00000000e+00, 0.00000000e+00,\n",
       "       4.35142847e-04, 9.29526181e-04, 8.18127432e-04, 7.29545981e-04,\n",
       "       1.06494456e-03, 2.82275057e-03, 2.55581227e-03, 3.02291493e-03,\n",
       "       2.30483278e-03, 1.82181562e-04, 3.68317209e-04, 0.00000000e+00,\n",
       "       3.24015247e-04, 7.04713385e-04, 2.36780971e-03, 2.93502666e-03,\n",
       "       3.01599385e-03, 2.16042215e-03, 1.76386522e-03, 1.61536552e-03,\n",
       "       1.52878238e-03, 7.34458923e-04, 9.58671865e-04, 1.00374173e-04,\n",
       "       1.93369813e-04, 7.63371490e-04, 2.68671607e-03, 2.04410272e-03,\n",
       "       2.87634113e-03, 3.19445073e-03, 2.75545964e-03, 2.41078732e-03,\n",
       "       3.86382009e-03, 2.22613788e-03, 2.26694173e-03, 9.36159366e-04,\n",
       "       2.57272056e-03, 2.76111120e-03, 2.53766501e-03, 2.57270424e-03,\n",
       "       3.15692115e-03, 2.83394120e-03, 2.73722251e-03, 3.41095534e-03,\n",
       "       3.14746106e-03, 2.27303587e-03, 2.54779098e-03, 1.30991130e-05,\n",
       "       0.00000000e+00, 1.44981283e-03, 2.21990124e-03, 3.31423585e-03,\n",
       "       3.00677446e-03, 3.00463968e-03, 3.22793843e-03, 2.65900061e-03,\n",
       "       1.65007910e-03, 2.23408422e-03, 1.72558933e-03, 2.58101028e-03,\n",
       "       1.45882966e-03, 1.60314107e-03, 2.28110647e-03, 2.68586267e-03,\n",
       "       2.67882194e-03, 2.86862518e-03, 2.59350386e-03, 3.13183085e-03,\n",
       "       2.39092251e-03, 2.31701815e-03, 2.03009527e-03, 3.97484569e-03,\n",
       "       2.23214887e-03, 9.41838993e-04, 1.34768170e-03, 1.53913919e-03,\n",
       "       2.83812477e-03, 2.14763941e-03, 2.68146286e-03, 3.17927418e-03,\n",
       "       3.16487925e-03, 1.35275870e-03, 2.29094677e-03, 6.54320331e-04,\n",
       "       2.58275838e-04, 1.69231186e-03, 2.71236904e-03, 1.41949086e-03,\n",
       "       9.78958317e-04, 3.08985364e-03, 2.44108468e-03, 2.13805214e-03,\n",
       "       2.45997737e-03, 3.94657791e-03, 4.89767539e-03, 1.45720218e-04,\n",
       "       6.38034997e-04, 1.39955489e-03, 0.00000000e+00, 4.94349606e-04,\n",
       "       1.63316566e-03, 2.84105398e-03, 9.02479250e-04, 6.46840800e-04,\n",
       "       6.45001541e-04, 6.87346255e-04, 3.85352454e-04, 0.00000000e+00,\n",
       "       0.00000000e+00, 1.07483824e-03, 6.51159636e-04, 5.50545592e-03,\n",
       "       4.22433108e-04, 6.20455456e-04, 6.56802844e-04, 1.70374798e-03,\n",
       "       4.77112372e-04, 1.79864475e-03, 1.58158303e-04, 0.00000000e+00,\n",
       "       0.00000000e+00, 0.00000000e+00, 0.00000000e+00, 0.00000000e+00,\n",
       "       0.00000000e+00, 0.00000000e+00, 0.00000000e+00, 8.96675324e-04,\n",
       "       0.00000000e+00, 0.00000000e+00, 0.00000000e+00, 0.00000000e+00,\n",
       "       0.00000000e+00, 2.48434265e-04, 0.00000000e+00, 0.00000000e+00,\n",
       "       0.00000000e+00, 0.00000000e+00, 0.00000000e+00, 1.68451991e-04,\n",
       "       4.64522933e-04, 1.18169720e-04, 0.00000000e+00, 0.00000000e+00,\n",
       "       0.00000000e+00, 3.99607179e-05, 8.02023733e-04, 1.53144775e-03,\n",
       "       1.57779747e-04, 0.00000000e+00, 4.00079566e-03, 7.03470327e-04,\n",
       "       5.33188365e-04, 8.48837320e-04, 0.00000000e+00, 0.00000000e+00,\n",
       "       3.01124176e-04, 7.07648454e-04, 1.12433962e-03, 7.91695248e-04,\n",
       "       1.68013432e-03, 0.00000000e+00, 0.00000000e+00, 3.34846050e-04,\n",
       "       9.59820367e-04, 2.36109780e-03, 0.00000000e+00, 0.00000000e+00,\n",
       "       1.94583302e-04, 2.14707532e-03, 4.45811011e-04, 3.27780520e-04,\n",
       "       8.22314958e-04, 0.00000000e+00, 7.53239424e-04, 1.49562527e-04,\n",
       "       0.00000000e+00, 6.14843642e-04, 1.21891165e-03, 0.00000000e+00,\n",
       "       0.00000000e+00, 3.95272986e-04, 4.47510927e-04, 0.00000000e+00,\n",
       "       0.00000000e+00, 0.00000000e+00, 0.00000000e+00, 0.00000000e+00,\n",
       "       4.39718611e-04, 0.00000000e+00, 0.00000000e+00, 0.00000000e+00])"
      ]
     },
     "execution_count": 41,
     "metadata": {},
     "output_type": "execute_result"
    }
   ],
   "source": [
    "raveled_train[100001]"
   ]
  },
  {
   "cell_type": "code",
   "execution_count": 42,
   "id": "3e5e100a",
   "metadata": {
    "collapsed": true,
    "jupyter": {
     "outputs_hidden": true
    }
   },
   "outputs": [
    {
     "data": {
      "text/plain": [
       "tensor([0.0000e+00, 0.0000e+00, 0.0000e+00, 0.0000e+00, 0.0000e+00, 0.0000e+00,\n",
       "        0.0000e+00, 0.0000e+00, 0.0000e+00, 0.0000e+00, 0.0000e+00, 0.0000e+00,\n",
       "        0.0000e+00, 5.6177e-04, 0.0000e+00, 0.0000e+00, 2.8062e-04, 0.0000e+00,\n",
       "        5.7919e-04, 9.0782e-04, 1.7139e-04, 8.3003e-04, 0.0000e+00, 9.9395e-04,\n",
       "        0.0000e+00, 3.5107e-04, 3.1467e-03, 5.4883e-04, 2.5249e-04, 2.5254e-03,\n",
       "        5.7480e-04, 7.0407e-04, 4.3995e-04, 1.6361e-03, 1.8421e-03, 2.5726e-04,\n",
       "        3.8336e-04, 4.1738e-03, 8.5893e-04, 4.2480e-04, 0.0000e+00, 1.3863e-03,\n",
       "        7.0018e-04, 1.5493e-03, 6.3603e-04, 1.0422e-03, 3.5093e-04, 0.0000e+00,\n",
       "        0.0000e+00, 2.7241e-04, 1.5531e-05, 0.0000e+00, 0.0000e+00, 2.5915e-04,\n",
       "        7.2948e-04, 7.7384e-04, 1.8108e-03, 0.0000e+00, 2.7653e-03, 2.1721e-03,\n",
       "        2.5896e-04, 1.4040e-03, 1.3287e-03, 1.5225e-04, 1.2133e-03, 0.0000e+00,\n",
       "        0.0000e+00, 1.2706e-05, 1.0546e-03, 0.0000e+00, 8.2384e-05, 0.0000e+00,\n",
       "        0.0000e+00, 9.2922e-04, 8.8626e-04, 1.6890e-05, 0.0000e+00, 0.0000e+00,\n",
       "        0.0000e+00, 4.8064e-04, 0.0000e+00, 0.0000e+00, 0.0000e+00, 0.0000e+00,\n",
       "        0.0000e+00, 0.0000e+00, 1.1587e-05, 0.0000e+00, 0.0000e+00, 1.7596e-05,\n",
       "        0.0000e+00, 0.0000e+00, 0.0000e+00, 0.0000e+00, 0.0000e+00, 0.0000e+00,\n",
       "        7.3873e-04, 4.5969e-04, 2.1741e-03, 0.0000e+00, 9.5022e-05, 0.0000e+00,\n",
       "        0.0000e+00, 6.4556e-04, 0.0000e+00, 0.0000e+00, 0.0000e+00, 0.0000e+00,\n",
       "        0.0000e+00, 0.0000e+00, 0.0000e+00, 2.3721e-04, 5.3260e-04, 1.0996e-03,\n",
       "        0.0000e+00, 0.0000e+00, 1.6574e-03, 0.0000e+00, 7.9008e-05, 0.0000e+00,\n",
       "        5.5028e-04, 1.1989e-04, 9.5103e-04, 8.2027e-04, 3.6467e-03, 2.2219e-03,\n",
       "        1.6156e-03, 1.6974e-03, 1.2062e-03, 2.0484e-03, 2.1793e-03, 1.2835e-03,\n",
       "        1.6392e-03, 3.3974e-03, 1.9581e-03, 3.6980e-03, 1.9096e-03, 2.3159e-03,\n",
       "        1.8023e-03, 1.9371e-03, 1.9966e-03, 2.3111e-03, 2.1195e-03, 2.4319e-03,\n",
       "        2.6654e-03, 2.4458e-03, 2.1740e-03, 1.9027e-03, 2.1464e-03, 2.2207e-03,\n",
       "        1.7257e-03, 2.0849e-03, 2.0839e-03, 1.3220e-03, 1.4156e-03, 1.9732e-03,\n",
       "        1.3719e-03, 2.0062e-03, 2.7101e-03, 1.4264e-03, 2.8697e-03, 2.4777e-03,\n",
       "        4.0347e-04, 9.0529e-04, 1.9030e-04, 1.8746e-03, 7.2807e-04, 1.4927e-03,\n",
       "        1.2809e-03, 1.4368e-03, 0.0000e+00, 1.0020e-03, 0.0000e+00, 2.6784e-04,\n",
       "        2.7315e-03, 1.2892e-03, 4.3816e-04, 0.0000e+00, 0.0000e+00, 0.0000e+00,\n",
       "        0.0000e+00, 4.4087e-04, 0.0000e+00, 0.0000e+00, 0.0000e+00, 0.0000e+00,\n",
       "        2.1231e-04, 0.0000e+00, 0.0000e+00, 6.0970e-04, 0.0000e+00, 1.1276e-04,\n",
       "        0.0000e+00, 0.0000e+00, 0.0000e+00, 0.0000e+00, 0.0000e+00, 0.0000e+00,\n",
       "        0.0000e+00, 0.0000e+00, 0.0000e+00, 0.0000e+00, 0.0000e+00, 0.0000e+00,\n",
       "        0.0000e+00, 0.0000e+00, 0.0000e+00, 0.0000e+00, 0.0000e+00, 8.2114e-04,\n",
       "        1.1768e-03, 0.0000e+00, 0.0000e+00, 0.0000e+00, 2.1612e-04, 0.0000e+00,\n",
       "        1.4106e-03, 1.2668e-03, 5.9509e-04, 1.8772e-04, 1.9072e-03, 1.6613e-03,\n",
       "        0.0000e+00, 6.7788e-05, 0.0000e+00, 0.0000e+00, 0.0000e+00, 0.0000e+00,\n",
       "        2.9561e-05, 9.9791e-04, 5.2308e-04, 8.0765e-04, 0.0000e+00, 1.8547e-03,\n",
       "        1.2889e-03, 0.0000e+00, 4.7528e-04, 6.7740e-04, 5.3097e-04, 6.2894e-04,\n",
       "        1.2132e-03, 6.5863e-04, 8.9952e-04, 8.8919e-04, 2.1583e-03, 2.2560e-03,\n",
       "        8.1706e-04, 2.0187e-04, 2.5076e-04, 6.4969e-04, 1.0412e-03, 4.8416e-04,\n",
       "        0.0000e+00, 0.0000e+00, 7.8878e-04, 1.0941e-03, 0.0000e+00, 1.2495e-04,\n",
       "        0.0000e+00, 0.0000e+00, 0.0000e+00, 4.1332e-04, 0.0000e+00, 3.1975e-04,\n",
       "        2.4757e-03, 1.6382e-04, 8.1941e-05, 0.0000e+00, 0.0000e+00, 0.0000e+00,\n",
       "        0.0000e+00, 0.0000e+00, 0.0000e+00, 0.0000e+00, 0.0000e+00, 0.0000e+00,\n",
       "        0.0000e+00, 0.0000e+00, 0.0000e+00, 0.0000e+00, 1.3019e-05, 0.0000e+00,\n",
       "        0.0000e+00, 0.0000e+00, 0.0000e+00, 0.0000e+00, 0.0000e+00, 0.0000e+00,\n",
       "        0.0000e+00, 3.6147e-04, 1.6214e-04, 5.3658e-04, 4.4339e-04, 1.3709e-03,\n",
       "        1.3843e-03, 1.9413e-03, 3.6784e-04, 2.6781e-05, 0.0000e+00, 0.0000e+00,\n",
       "        0.0000e+00, 5.0693e-04, 9.3323e-04, 1.5792e-03, 1.4228e-03, 3.0128e-03,\n",
       "        3.2686e-03, 2.8724e-03, 3.7031e-04, 1.8804e-04, 0.0000e+00, 0.0000e+00,\n",
       "        4.3514e-04, 9.2953e-04, 8.1813e-04, 7.2955e-04, 1.0649e-03, 2.8228e-03,\n",
       "        2.5558e-03, 3.0229e-03, 2.3048e-03, 1.8218e-04, 3.6832e-04, 0.0000e+00,\n",
       "        3.2402e-04, 7.0471e-04, 2.3678e-03, 2.9350e-03, 3.0160e-03, 2.1604e-03,\n",
       "        1.7639e-03, 1.6154e-03, 1.5288e-03, 7.3446e-04, 9.5867e-04, 1.0037e-04,\n",
       "        1.9337e-04, 7.6337e-04, 2.6867e-03, 2.0441e-03, 2.8763e-03, 3.1945e-03,\n",
       "        2.7555e-03, 2.4108e-03, 3.8638e-03, 2.2261e-03, 2.2669e-03, 9.3616e-04,\n",
       "        2.5727e-03, 2.7611e-03, 2.5377e-03, 2.5727e-03, 3.1569e-03, 2.8339e-03,\n",
       "        2.7372e-03, 3.4110e-03, 3.1475e-03, 2.2730e-03, 2.5478e-03, 1.3099e-05,\n",
       "        0.0000e+00, 1.4498e-03, 2.2199e-03, 3.3142e-03, 3.0068e-03, 3.0046e-03,\n",
       "        3.2279e-03, 2.6590e-03, 1.6501e-03, 2.2341e-03, 1.7256e-03, 2.5810e-03,\n",
       "        1.4588e-03, 1.6031e-03, 2.2811e-03, 2.6859e-03, 2.6788e-03, 2.8686e-03,\n",
       "        2.5935e-03, 3.1318e-03, 2.3909e-03, 2.3170e-03, 2.0301e-03, 3.9748e-03,\n",
       "        2.2321e-03, 9.4184e-04, 1.3477e-03, 1.5391e-03, 2.8381e-03, 2.1476e-03,\n",
       "        2.6815e-03, 3.1793e-03, 3.1649e-03, 1.3528e-03, 2.2909e-03, 6.5432e-04,\n",
       "        2.5828e-04, 1.6923e-03, 2.7124e-03, 1.4195e-03, 9.7896e-04, 3.0899e-03,\n",
       "        2.4411e-03, 2.1381e-03, 2.4600e-03, 3.9466e-03, 4.8977e-03, 1.4572e-04,\n",
       "        6.3803e-04, 1.3996e-03, 0.0000e+00, 4.9435e-04, 1.6332e-03, 2.8411e-03,\n",
       "        9.0248e-04, 6.4684e-04, 6.4500e-04, 6.8735e-04, 3.8535e-04, 0.0000e+00,\n",
       "        0.0000e+00, 1.0748e-03, 6.5116e-04, 5.5055e-03, 4.2243e-04, 6.2046e-04,\n",
       "        6.5680e-04, 1.7037e-03, 4.7711e-04, 1.7986e-03, 1.5816e-04, 0.0000e+00,\n",
       "        0.0000e+00, 0.0000e+00, 0.0000e+00, 0.0000e+00, 0.0000e+00, 0.0000e+00,\n",
       "        0.0000e+00, 8.9668e-04, 0.0000e+00, 0.0000e+00, 0.0000e+00, 0.0000e+00,\n",
       "        0.0000e+00, 2.4843e-04, 0.0000e+00, 0.0000e+00, 0.0000e+00, 0.0000e+00,\n",
       "        0.0000e+00, 1.6845e-04, 4.6452e-04, 1.1817e-04, 0.0000e+00, 0.0000e+00,\n",
       "        0.0000e+00, 3.9961e-05, 8.0202e-04, 1.5314e-03, 1.5778e-04, 0.0000e+00,\n",
       "        4.0008e-03, 7.0347e-04, 5.3319e-04, 8.4884e-04, 0.0000e+00, 0.0000e+00,\n",
       "        3.0112e-04, 7.0765e-04, 1.1243e-03, 7.9170e-04, 1.6801e-03, 0.0000e+00,\n",
       "        0.0000e+00, 3.3485e-04, 9.5982e-04, 2.3611e-03, 0.0000e+00, 0.0000e+00,\n",
       "        1.9458e-04, 2.1471e-03, 4.4581e-04, 3.2778e-04, 8.2231e-04, 0.0000e+00,\n",
       "        7.5324e-04, 1.4956e-04, 0.0000e+00, 6.1484e-04, 1.2189e-03, 0.0000e+00,\n",
       "        0.0000e+00, 3.9527e-04, 4.4751e-04, 0.0000e+00, 0.0000e+00, 0.0000e+00,\n",
       "        0.0000e+00, 0.0000e+00, 4.3972e-04, 0.0000e+00, 0.0000e+00, 0.0000e+00],\n",
       "       dtype=torch.float64)"
      ]
     },
     "execution_count": 42,
     "metadata": {},
     "output_type": "execute_result"
    }
   ],
   "source": [
    "inputs[100001]/1000."
   ]
  },
  {
   "cell_type": "code",
   "execution_count": 62,
   "id": "41ae8c75",
   "metadata": {},
   "outputs": [
    {
     "data": {
      "text/plain": [
       "[<matplotlib.lines.Line2D at 0x7fd0578c3910>]"
      ]
     },
     "execution_count": 62,
     "metadata": {},
     "output_type": "execute_result"
    },
    {
     "data": {
      "image/png": "[encoded data removed]",
      "text/plain": [
       "<Figure size 432x288 with 1 Axes>"
      ]
     },
     "metadata": {
      "needs_background": "light"
     },
     "output_type": "display_data"
    }
   ],
   "source": [
    "num = 11\n",
    "plt.plot(inputs[num].detach().numpy(), raveled_train[num])"
   ]
  },
  {
   "cell_type": "code",
   "execution_count": 72,
   "id": "8561aa00",
   "metadata": {},
   "outputs": [
    {
     "data": {
      "text/plain": [
       "1"
      ]
     },
     "execution_count": 72,
     "metadata": {},
     "output_type": "execute_result"
    }
   ],
   "source": [
    "labels_train[100001-2]"
   ]
  },
  {
   "cell_type": "code",
   "execution_count": 73,
   "id": "0c72e791",
   "metadata": {},
   "outputs": [
    {
     "data": {
      "text/plain": [
       "tensor(1.)"
      ]
     },
     "execution_count": 73,
     "metadata": {},
     "output_type": "execute_result"
    }
   ],
   "source": [
    "targets[100001-2]"
   ]
  },
  {
   "cell_type": "code",
   "execution_count": 15,
   "id": "aeccc071",
   "metadata": {},
   "outputs": [
    {
     "name": "stdout",
     "output_type": "stream",
     "text": [
      "d.shape is 3\n",
      "d.shape is 12\n",
      "d.shape is 12\n"
     ]
    }
   ],
   "source": [
    "i = 0\n",
    "for d in data_train:\n",
    "    print(\"d.shape is {0}\".format(d.shape[1]))\n",
    "    i = i + 1\n",
    "    if i==20:\n",
    "        break\n"
   ]
  },
  {
   "cell_type": "code",
   "execution_count": null,
   "id": "7eb9f837",
   "metadata": {},
   "outputs": [],
   "source": []
  },
  {
   "cell_type": "code",
   "execution_count": 6,
   "id": "70e1cb7e",
   "metadata": {},
   "outputs": [
    {
     "name": "stdout",
     "output_type": "stream",
     "text": [
      "[ 54458 118646  57401 ... 173685  43567 199340]\n"
     ]
    }
   ],
   "source": [
    "print(ix)"
   ]
  },
  {
   "cell_type": "code",
   "execution_count": 15,
   "id": "bf87307f",
   "metadata": {},
   "outputs": [
    {
     "name": "stdout",
     "output_type": "stream",
     "text": [
      "data_train has length 96\n"
     ]
    }
   ],
   "source": [
    "print(\"data_train has length {0}\".format(len(data_train[0][0][0])))"
   ]
  },
  {
   "cell_type": "code",
   "execution_count": 19,
   "id": "30bdefbb",
   "metadata": {},
   "outputs": [
    {
     "name": "stdout",
     "output_type": "stream",
     "text": [
      "list element is 140000\n",
      "list element is 3\n",
      "list element is 96\n",
      "list element is 1\n"
     ]
    }
   ],
   "source": [
    "c_copy = data_train\n",
    "for i in range(4):\n",
    "    print(\"list element is {0}\".format(len(c_copy[i])))\n",
    "    c_copy = c_copy[i]"
   ]
  },
  {
   "cell_type": "code",
   "execution_count": 39,
   "id": "7e32b758",
   "metadata": {},
   "outputs": [],
   "source": [
    "inputs = torch.from_numpy(raveled_train).to(torch.float32)\n",
    "targets = torch.from_numpy(labels_train).to(torch.float32)"
   ]
  },
  {
   "cell_type": "code",
   "execution_count": 40,
   "id": "feaa3c8e",
   "metadata": {},
   "outputs": [
    {
     "data": {
      "text/plain": [
       "torch.Size([140000])"
      ]
     },
     "execution_count": 40,
     "metadata": {},
     "output_type": "execute_result"
    }
   ],
   "source": [
    "model_output = model.forward(inputs).reshape(-1)\n",
    "model_output.size()"
   ]
  },
  {
   "cell_type": "code",
   "execution_count": 98,
   "id": "3bbf534a",
   "metadata": {},
   "outputs": [
    {
     "name": "stdout",
     "output_type": "stream",
     "text": [
      "Epoch [2/75]\tTrain Loss :31.2116\t accuracy :50.0000%\n",
      "Epoch [4/75]\tTrain Loss :25.0727\t accuracy :55.4075%\n",
      "Epoch [6/75]\tTrain Loss :13.0005\t accuracy :59.3695%\n",
      "Epoch [8/75]\tTrain Loss :6.4115\t accuracy :59.4630%\n",
      "Epoch [10/75]\tTrain Loss :3.2084\t accuracy :57.2675%\n",
      "Epoch [12/75]\tTrain Loss :3.6782\t accuracy :54.5845%\n",
      "Epoch [14/75]\tTrain Loss :3.2399\t accuracy :52.2855%\n",
      "Epoch [16/75]\tTrain Loss :5.6234\t accuracy :59.0955%\n",
      "Epoch [18/75]\tTrain Loss :2.1522\t accuracy :63.3360%\n",
      "Epoch [20/75]\tTrain Loss :0.9740\t accuracy :62.2620%\n",
      "Epoch [22/75]\tTrain Loss :1.0306\t accuracy :52.7370%\n",
      "Epoch [24/75]\tTrain Loss :1.1042\t accuracy :56.9375%\n",
      "Epoch [26/75]\tTrain Loss :0.8915\t accuracy :54.5170%\n",
      "Epoch [28/75]\tTrain Loss :0.7955\t accuracy :55.5310%\n",
      "Epoch [30/75]\tTrain Loss :0.8233\t accuracy :51.3665%\n",
      "Epoch [32/75]\tTrain Loss :0.7359\t accuracy :61.9930%\n",
      "Epoch [34/75]\tTrain Loss :0.7162\t accuracy :63.4495%\n",
      "Epoch [36/75]\tTrain Loss :0.6846\t accuracy :62.6970%\n",
      "Epoch [38/75]\tTrain Loss :0.6725\t accuracy :62.4625%\n",
      "Epoch [40/75]\tTrain Loss :0.6537\t accuracy :65.6050%\n",
      "Epoch [42/75]\tTrain Loss :0.6577\t accuracy :64.5550%\n",
      "Epoch [44/75]\tTrain Loss :0.6297\t accuracy :67.2685%\n",
      "Epoch [46/75]\tTrain Loss :0.6355\t accuracy :66.4870%\n",
      "Epoch [48/75]\tTrain Loss :0.6130\t accuracy :67.6165%\n",
      "Epoch [50/75]\tTrain Loss :0.6194\t accuracy :67.1115%\n",
      "Epoch [52/75]\tTrain Loss :0.6106\t accuracy :68.1740%\n",
      "Epoch [54/75]\tTrain Loss :0.6069\t accuracy :68.5990%\n",
      "Epoch [56/75]\tTrain Loss :0.5986\t accuracy :69.4070%\n",
      "Epoch [58/75]\tTrain Loss :0.5891\t accuracy :69.5110%\n",
      "Epoch [60/75]\tTrain Loss :0.5962\t accuracy :69.8325%\n",
      "Epoch [62/75]\tTrain Loss :0.5805\t accuracy :70.8625%\n",
      "Epoch [64/75]\tTrain Loss :0.5718\t accuracy :71.2715%\n",
      "Epoch [66/75]\tTrain Loss :0.5737\t accuracy :71.4885%\n",
      "Epoch [68/75]\tTrain Loss :0.5578\t accuracy :71.8210%\n",
      "Epoch [70/75]\tTrain Loss :0.5589\t accuracy :72.2155%\n",
      "Epoch [72/75]\tTrain Loss :0.5614\t accuracy :72.4435%\n",
      "Epoch [74/75]\tTrain Loss :0.5496\t accuracy :72.5605%\n",
      "\n",
      "Training Completed\n"
     ]
    }
   ],
   "source": [
    "model = Net(num_features=504, num_classes=1)\n",
    "num_epochs=75\n",
    "display_epochs=2\n",
    "optimizer = optim.Adam(model.parameters(), lr=0.075)\n",
    "loss = torch.nn.BCELoss(reduction= 'mean')\n",
    "obj_vals= []  \n",
    "accuracies = []\n",
    "for epoch in range(num_epochs):   \n",
    "    model_output = model.forward(inputs).reshape(-1)\n",
    "    pred = (model_output>0.5).float()\n",
    "    #print(\"model_out is {0}\\n and pred is {1}\\n and target is {2}\\n\\n\".format(model_output, pred, targets))\n",
    "    diff_tensor =  pred - targets \n",
    "    diff_tensor = torch.abs(diff_tensor)\n",
    "    accuracy = 1-torch.sum(diff_tensor)/pred.size(0)\n",
    "    accuracies.append(accuracy)\n",
    "    obj_val = loss(model_output, targets)\n",
    "    optimizer.zero_grad() \n",
    "    obj_val.backward() \n",
    "    optimizer.step() \n",
    "    obj_vals.append(obj_val.item())\n",
    "    if (epoch+1) % display_epochs == 0:\n",
    "        print ('Epoch [{}/{}]\\tTrain Loss :{:.4f}\\t accuracy :{:.4f}%'.format(epoch+1, num_epochs, obj_val.item(), accuracy*100))\n",
    "print(\"\\nTraining Completed\")"
   ]
  },
  {
   "cell_type": "code",
   "execution_count": 119,
   "id": "82d3a60b",
   "metadata": {},
   "outputs": [
    {
     "name": "stdout",
     "output_type": "stream",
     "text": [
      "tensor([1., 0., 1.,  ..., 1., 0., 1.])\n"
     ]
    }
   ],
   "source": [
    "torch.set_printoptions(profile=\"default\")\n",
    "print(targets)\n"
   ]
  },
  {
   "cell_type": "code",
   "execution_count": 99,
   "id": "1cedf68b",
   "metadata": {},
   "outputs": [
    {
     "data": {
      "text/plain": [
       "[<matplotlib.lines.Line2D at 0x7fa6b131cf40>]"
      ]
     },
     "execution_count": 99,
     "metadata": {},
     "output_type": "execute_result"
    },
    {
     "data": {
      "image/png": "[encoded data removed]",
      "text/plain": [
       "<Figure size 432x288 with 1 Axes>"
      ]
     },
     "metadata": {
      "needs_background": "light"
     },
     "output_type": "display_data"
    }
   ],
   "source": [
    "plt.plot(range(num_epochs), obj_vals)"
   ]
  },
  {
   "cell_type": "code",
   "execution_count": 100,
   "id": "70f3354f",
   "metadata": {},
   "outputs": [
    {
     "data": {
      "text/plain": [
       "Text(0, 0.5, 'Training Accuracies')"
      ]
     },
     "execution_count": 100,
     "metadata": {},
     "output_type": "execute_result"
    },
    {
     "data": {
      "image/png": "[encoded data removed]",
      "text/plain": [
       "<Figure size 432x288 with 1 Axes>"
      ]
     },
     "metadata": {
      "needs_background": "light"
     },
     "output_type": "display_data"
    }
   ],
   "source": [
    "plt.plot(range(num_epochs), accuracies, '-')\n",
    "plt.xlabel('Epochs')\n",
    "plt.ylabel('Training Accuracies')"
   ]
  },
  {
   "cell_type": "code",
   "execution_count": null,
   "id": "d903c168",
   "metadata": {},
   "outputs": [],
   "source": []
  },
  {
   "cell_type": "code",
   "execution_count": null,
   "id": "8f247461",
   "metadata": {},
   "outputs": [],
   "source": []
  },
  {
   "cell_type": "code",
   "execution_count": 86,
   "id": "6fec3729",
   "metadata": {},
   "outputs": [
    {
     "data": {
      "text/plain": [
       "[<matplotlib.lines.Line2D at 0x7fa6c5bd4580>]"
      ]
     },
     "execution_count": 86,
     "metadata": {},
     "output_type": "execute_result"
    },
    {
     "data": {
      "image/png": "[encoded data removed]",
      "text/plain": [
       "<Figure size 432x288 with 1 Axes>"
      ]
     },
     "metadata": {
      "needs_background": "light"
     },
     "output_type": "display_data"
    }
   ],
   "source": [
    "plt.plot(range(num_epochs), obj_vals)"
   ]
  },
  {
   "cell_type": "code",
   "execution_count": 87,
   "id": "1cb72e5c",
   "metadata": {},
   "outputs": [
    {
     "data": {
      "text/plain": [
       "Text(0, 0.5, 'Training Accuracies')"
      ]
     },
     "execution_count": 87,
     "metadata": {},
     "output_type": "execute_result"
    },
    {
     "data": {
      "image/png": "[encoded data removed]",
      "text/plain": [
       "<Figure size 432x288 with 1 Axes>"
      ]
     },
     "metadata": {
      "needs_background": "light"
     },
     "output_type": "display_data"
    }
   ],
   "source": [
    "plt.plot(range(num_epochs), accuracies, '-')\n",
    "plt.xlabel('Epochs')\n",
    "plt.ylabel('Training Accuracies')"
   ]
  },
  {
   "cell_type": "code",
   "execution_count": null,
   "id": "d8a00681",
   "metadata": {},
   "outputs": [],
   "source": [
    "\"\"\"\n",
    "Remainder of notebook has stuff from the caloClassifierV1 which is apparently useless ...\n",
    "\"\"\"\n",
    "# class Net(nn.Module):\n",
    "#     def __init__(self, num_features,  num_classes):\n",
    "#         super(Net, self).__init__() \n",
    "#         self.fc1= nn.Linear(num_features, 512)\n",
    "#         self.nfc1 = nn.BatchNorm1d(512)\n",
    "        \n",
    "#         self.fc2= nn.Linear(512, 1024)\n",
    "#         self.nfc2 = nn.BatchNorm1d(1024)\n",
    "        \n",
    "#         self.fc3= nn.Linear(1024, 2048)\n",
    "#         self.nfc3 = nn.BatchNorm1d(2048)\n",
    "        \n",
    "#         self.fc4= nn.Linear(2048, 1024)\n",
    "#         self.nfc4 = nn.BatchNorm1d(1024)\n",
    "        \n",
    "#         self.fc5= nn.Linear(1024, 128)\n",
    "#         self.nfc5 = nn.BatchNorm1d(128)\n",
    "        \n",
    "#         self.fc6= nn.Linear(128, num_classes)\n",
    "    \n",
    "# #     def forward(self, x):\n",
    "# #         h1 = self.nfc1(func.dropout(func.leaky_relu(self.fc1(x)),p=0.02))\n",
    "# #         h2 = self.nfc2(func.dropout(func.leaky_relu(self.fc2(h1)),p=0.05))\n",
    "# #         h3 = self.nfc3(func.dropout(func.leaky_relu(self.fc3(h2)),p=0.05))\n",
    "# #         h4 = self.nfc4(func.dropout(func.leaky_relu(self.fc4(h3)),p=0.05))\n",
    "# #         h5 = func.dropout(func.leaky_relu(self.fc5(h4)),p=0.005)\n",
    "# #         y = torch.sigmoid(self.fc6(h5))\n",
    "#     def forward(self, x):\n",
    "#         h1 = self.nfc1(func.dropout(func.leaky_relu(self.fc1(x)),p=0.2))\n",
    "#         h2 = self.nfc2(func.dropout(func.leaky_relu(self.fc2(h1)),p=0.5))\n",
    "#         h3 = self.nfc3(func.dropout(func.leaky_relu(self.fc3(h2)),p=0.5))\n",
    "#         h4 = self.nfc4(func.dropout(func.leaky_relu(self.fc4(h3)),p=0.5))\n",
    "#         h5 = func.dropout(func.leaky_relu(self.fc5(h4)),p=0.5)\n",
    "#         y = torch.sigmoid(self.fc6(h5))\n",
    "#         return y\n",
    "\n",
    "\"\"\"\n",
    "middle of net\n",
    "\"\"\"\n",
    "class Net(nn.Module):\n",
    "    def __init__(self, num_features,  num_classes):\n",
    "        super(Net, self).__init__() \n",
    "        self.fc1= nn.Linear(num_features, 512)\n",
    "        self.nfc1 = nn.BatchNorm1d(512)\n",
    "        self.drop1 = nn.Dropout(p=0.2)\n",
    "        \n",
    "        self.fc2= nn.Linear(512, 1024)\n",
    "        self.nfc2 = nn.BatchNorm1d(1024)\n",
    "        self.drop2 = nn.Dropout(p=0.5)\n",
    "        \n",
    "        self.fc3= nn.Linear(1024, 2048)\n",
    "        self.nfc3 = nn.BatchNorm1d(2048)\n",
    "        self.drop3 = nn.Dropout(p=0.5)\n",
    "        \n",
    "        self.fc4= nn.Linear(2048, 1024)\n",
    "        self.nfc4 = nn.BatchNorm1d(1024)\n",
    "        self.drop4 = nn.Dropout(p=0.5)\n",
    "        \n",
    "        self.fc5= nn.Linear(1024, 128)\n",
    "        self.nfc5 = nn.BatchNorm1d(128)\n",
    "        self.drop5 = nn.Dropout(p=0.5)\n",
    "        \n",
    "        self.fc6= nn.Linear(128, num_classes)\n",
    "    \n",
    "#     def forward(self, x):\n",
    "#         h1 = self.nfc1(func.dropout(func.leaky_relu(self.fc1(x)),p=0.02))\n",
    "#         h2 = self.nfc2(func.dropout(func.leaky_relu(self.fc2(h1)),p=0.05))\n",
    "#         h3 = self.nfc3(func.dropout(func.leaky_relu(self.fc3(h2)),p=0.05))\n",
    "#         h4 = self.nfc4(func.dropout(func.leaky_relu(self.fc4(h3)),p=0.05))\n",
    "#         h5 = func.dropout(func.leaky_relu(self.fc5(h4)),p=0.005)\n",
    "#         y = torch.sigmoid(self.fc6(h5))\n",
    "    def forward(self, x):\n",
    "        h1 = self.nfc1(self.drop1(func.leaky_relu(self.fc1(x))))\n",
    "        h2 = self.nfc2(self.drop2(func.leaky_relu(self.fc2(h1))))\n",
    "        h3 = self.nfc3(self.drop3(func.leaky_relu(self.fc3(h2))))\n",
    "        h4 = self.nfc4(self.drop4(func.leaky_relu(self.fc4(h3))))\n",
    "        h5 = self.drop5(func.leaky_relu(self.fc5(h4)))\n",
    "        y = torch.sigmoid(self.fc6(h5))\n",
    "        return y"
   ]
  }
 ],
 "metadata": {
  "kernelspec": {
   "display_name": "Python 3 (ipykernel)",
   "language": "python",
   "name": "python3"
  },
  "language_info": {
   "codemirror_mode": {
    "name": "ipython",
    "version": 3
   },
   "file_extension": ".py",
   "mimetype": "text/x-python",
   "name": "python",
   "nbconvert_exporter": "python",
   "pygments_lexer": "ipython3",
   "version": "3.8.12"
  }
 },
 "nbformat": 4,
 "nbformat_minor": 5
}
