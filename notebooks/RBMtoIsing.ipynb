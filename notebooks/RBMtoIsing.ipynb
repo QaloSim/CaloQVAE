{
 "cells": [
  {
   "cell_type": "code",
   "execution_count": 1,
   "id": "a995ab0a",
   "metadata": {},
   "outputs": [
    {
     "name": "stdout",
     "output_type": "stream",
     "text": [
      "/home/akajal/DiVAE\n"
     ]
    }
   ],
   "source": [
    "%cd .."
   ]
  },
  {
   "cell_type": "code",
   "execution_count": 2,
   "id": "9ce0b860",
   "metadata": {},
   "outputs": [
    {
     "name": "stderr",
     "output_type": "stream",
     "text": [
      "\u001b[1m[10:04:20.449]\u001b[0m \u001b[1;95mINFO \u001b[1;0m  \u001b[1mDiVAE                                             \u001b[0mWillkommen!\n",
      "\u001b[1m[10:04:20.451]\u001b[0m \u001b[1;95mINFO \u001b[1;0m  \u001b[1mDiVAE                                             \u001b[0mLoading configuration.\n",
      "2022-02-20 10:04:22,415 dwave.cloud \u001b[1;95mINFO \u001b[1;0m MainThread Log level for 'dwave.cloud' namespace set to 0\n",
      "\u001b[1m[10:04:22.415]\u001b[0m \u001b[1;95mINFO \u001b[1;0m  \u001b[1mdwave.cloud                                       \u001b[0mLog level for 'dwave.cloud' namespace set to 0\n"
     ]
    }
   ],
   "source": [
    "# Python imports\n",
    "import os\n",
    "import sys\n",
    "\n",
    "# Add the path to the parent directory to augment search for module\n",
    "sys.path.append(os.getcwd())\n",
    "# Add the path to the parent directory to augment search for module\n",
    "par_dir = os.path.abspath(os.path.join(os.getcwd(), os.pardir))\n",
    "if par_dir not in sys.path:\n",
    "    sys.path.append(par_dir)\n",
    "    \n",
    "# ML imports\n",
    "import torch\n",
    "import matplotlib.pyplot as plt\n",
    "import numpy as np\n",
    "\n",
    "# DiVAE imports\n",
    "from models.rbm.chimeraRBM import ChimeraRBM\n",
    "from models.rbm.rbm import RBM\n",
    "from models.samplers.pcd import PCD\n",
    "\n",
    "from utils import *\n",
    "\n",
    "# DWave imports\n",
    "from dwave.system import DWaveSampler, LeapHybridSampler\n",
    "import neal"
   ]
  },
  {
   "cell_type": "code",
   "execution_count": 3,
   "id": "7faf52a3",
   "metadata": {},
   "outputs": [],
   "source": [
    "_NUM_NODES = 16\n",
    "crbm = ChimeraRBM(n_visible=_NUM_NODES, n_hidden=_NUM_NODES)\n",
    "crbm_sampler = PCD(batch_size=1024, RBM=crbm, n_gibbs_sampling_steps=100)"
   ]
  },
  {
   "cell_type": "code",
   "execution_count": 4,
   "id": "97eaff52",
   "metadata": {},
   "outputs": [],
   "source": [
    "crbm_vis, crbm_hid = crbm_sampler.block_gibbs_sampling()"
   ]
  },
  {
   "cell_type": "code",
   "execution_count": 5,
   "id": "66386795",
   "metadata": {},
   "outputs": [],
   "source": [
    "crbm = crbm_sampler.get_rbm()\n",
    "crbm_weights, crbm_vbias, crbm_hbias = crbm.weights, crbm.visible_bias, crbm.hidden_bias\n",
    "    \n",
    "ising_weights = crbm_weights/4.\n",
    "ising_vbias = crbm_vbias/2. + torch.sum(crbm_weights, dim=0)/4.\n",
    "ising_hbias = crbm_hbias/2. + torch.sum(crbm_weights, dim=1)/4."
   ]
  },
  {
   "cell_type": "code",
   "execution_count": 8,
   "id": "b91d80b5",
   "metadata": {},
   "outputs": [],
   "source": [
    "crbm_energies = sample_energies(crbm, crbm_vis, crbm_hid).detach()"
   ]
  },
  {
   "cell_type": "code",
   "execution_count": null,
   "id": "fb5b6d83",
   "metadata": {},
   "outputs": [],
   "source": [
    "plot_sample_energies(crbm_energies)"
   ]
  },
  {
   "cell_type": "code",
   "execution_count": null,
   "id": "ac47c860",
   "metadata": {},
   "outputs": [],
   "source": []
  }
 ],
 "metadata": {
  "kernelspec": {
   "display_name": "Python 3 (ipykernel)",
   "language": "python",
   "name": "python3"
  },
  "language_info": {
   "codemirror_mode": {
    "name": "ipython",
    "version": 3
   },
   "file_extension": ".py",
   "mimetype": "text/x-python",
   "name": "python",
   "nbconvert_exporter": "python",
   "pygments_lexer": "ipython3",
   "version": "3.8.12"
  }
 },
 "nbformat": 4,
 "nbformat_minor": 5
}
