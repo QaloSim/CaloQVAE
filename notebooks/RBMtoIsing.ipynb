{
 "cells": [
  {
   "cell_type": "code",
   "execution_count": null,
   "id": "551fd6ef",
   "metadata": {},
   "outputs": [],
   "source": [
    "%cd .."
   ]
  },
  {
   "cell_type": "code",
   "execution_count": null,
   "id": "8742a99a",
   "metadata": {},
   "outputs": [],
   "source": [
    "# Python imports\n",
    "import os\n",
    "import sys\n",
    "\n",
    "# Add the path to the parent directory to augment search for module\n",
    "sys.path.append(os.getcwd())\n",
    "# Add the path to the parent directory to augment search for module\n",
    "par_dir = os.path.abspath(os.path.join(os.getcwd(), os.pardir))\n",
    "if par_dir not in sys.path:\n",
    "    sys.path.append(par_dir)\n",
    "    \n",
    "# ML imports\n",
    "import torch\n",
    "import matplotlib.pyplot as plt\n",
    "import numpy as np\n",
    "\n",
    "# DiVAE imports\n",
    "from models.rbm.chimeraRBM import ChimeraRBM\n",
    "from models.rbm.rbm import RBM\n",
    "from models.samplers.pcd import PCD\n",
    "\n",
    "from nbutils import *\n",
    "\n",
    "# DWave imports\n",
    "from dwave.system import DWaveSampler, LeapHybridSampler\n",
    "import neal"
   ]
  },
  {
   "cell_type": "code",
   "execution_count": null,
   "id": "3e06ba56",
   "metadata": {},
   "outputs": [],
   "source": [
    "_NUM_NODES = 2\n",
    "crbm = ChimeraRBM(n_visible=_NUM_NODES, n_hidden=_NUM_NODES)\n",
    "crbm_sampler = PCD(batch_size=1024, RBM=crbm, n_gibbs_sampling_steps=100)"
   ]
  },
  {
   "cell_type": "code",
   "execution_count": null,
   "id": "6da8a88a",
   "metadata": {},
   "outputs": [],
   "source": [
    "crbm_vis, crbm_hid = crbm_sampler.block_gibbs_sampling()"
   ]
  },
  {
   "cell_type": "code",
   "execution_count": null,
   "id": "e09ac23d",
   "metadata": {},
   "outputs": [],
   "source": [
    "crbm = crbm_sampler.get_rbm()\n",
    "crbm_weights, crbm_vbias, crbm_hbias = crbm.weights, crbm.visible_bias, crbm.hidden_bias"
   ]
  },
  {
   "cell_type": "code",
   "execution_count": null,
   "id": "bad13885",
   "metadata": {},
   "outputs": [],
   "source": [
    "crbm_energies = sample_energies(crbm, crbm_vis, crbm_hid).detach().cpu().numpy()"
   ]
  },
  {
   "cell_type": "code",
   "execution_count": null,
   "id": "6b0104c3",
   "metadata": {},
   "outputs": [],
   "source": [
    "plot_sample_energies(crbm_energies)"
   ]
  },
  {
   "cell_type": "code",
   "execution_count": null,
   "id": "8eefe3e2",
   "metadata": {},
   "outputs": [],
   "source": [
    "ising_weights = crbm_weights/4.\n",
    "ising_vbias = crbm_vbias/2. + torch.sum(crbm_weights, dim=0)/4.\n",
    "ising_hbias = crbm_hbias/2. + torch.sum(crbm_weights, dim=1)/4."
   ]
  },
  {
   "cell_type": "code",
   "execution_count": null,
   "id": "71b7b1a1",
   "metadata": {},
   "outputs": [],
   "source": [
    "zero = torch.tensor(0., dtype=torch.float)\n",
    "minus_one = torch.tensor(-1., dtype=torch.float)\n",
    "\n",
    "ising_vis = torch.where(crbm_vis == zero, minus_one, crbm_vis)\n",
    "ising_hid = torch.where(crbm_hid == zero, minus_one, crbm_hid)"
   ]
  },
  {
   "cell_type": "code",
   "execution_count": null,
   "id": "11f96c35",
   "metadata": {},
   "outputs": [],
   "source": [
    "ising_energies = ising_energies_exp(ising_weights, ising_vbias, ising_hbias, ising_vis, ising_hid).detach().cpu().numpy()"
   ]
  },
  {
   "cell_type": "code",
   "execution_count": null,
   "id": "4c475eb5",
   "metadata": {},
   "outputs": [],
   "source": [
    "plot_sample_energies(ising_energies)"
   ]
  },
  {
   "cell_type": "code",
   "execution_count": null,
   "id": "67fe7794",
   "metadata": {},
   "outputs": [],
   "source": []
  }
 ],
 "metadata": {
  "kernelspec": {
   "display_name": "Python 3 (ipykernel)",
   "language": "python",
   "name": "python3"
  },
  "language_info": {
   "codemirror_mode": {
    "name": "ipython",
    "version": 3
   },
   "file_extension": ".py",
   "mimetype": "text/x-python",
   "name": "python",
   "nbconvert_exporter": "python",
   "pygments_lexer": "ipython3",
   "version": "3.8.12"
  }
 },
 "nbformat": 4,
 "nbformat_minor": 5
}
