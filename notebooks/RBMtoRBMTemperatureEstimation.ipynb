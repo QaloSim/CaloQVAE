{
 "cells": [
  {
   "cell_type": "code",
   "execution_count": 1,
   "id": "d8630931",
   "metadata": {},
   "outputs": [
    {
     "name": "stdout",
     "output_type": "stream",
     "text": [
      "/home/akajal/DiVAE\n"
     ]
    }
   ],
   "source": [
    "%cd .."
   ]
  },
  {
   "cell_type": "code",
   "execution_count": 2,
   "id": "63784a38",
   "metadata": {},
   "outputs": [
    {
     "name": "stderr",
     "output_type": "stream",
     "text": [
      "\u001b[1m[02:16:22.145]\u001b[0m \u001b[1;95mINFO \u001b[1;0m  \u001b[1mDiVAE                                             \u001b[0mWillkommen!\n",
      "\u001b[1m[02:16:22.147]\u001b[0m \u001b[1;95mINFO \u001b[1;0m  \u001b[1mDiVAE                                             \u001b[0mLoading configuration.\n",
      "2022-04-07 02:16:22,946 dwave.cloud \u001b[1;95mINFO \u001b[1;0m MainThread Log level for 'dwave.cloud' namespace set to 0\n",
      "\u001b[1m[02:16:22.946]\u001b[0m \u001b[1;95mINFO \u001b[1;0m  \u001b[1mdwave.cloud                                       \u001b[0mLog level for 'dwave.cloud' namespace set to 0\n"
     ]
    }
   ],
   "source": [
    "# Python imports\n",
    "import os\n",
    "import sys\n",
    "\n",
    "# Add the path to the parent directory to augment search for module\n",
    "sys.path.append(os.getcwd())\n",
    "# Add the path to the parent directory to augment search for module\n",
    "par_dir = os.path.abspath(os.path.join(os.getcwd(), os.pardir))\n",
    "if par_dir not in sys.path:\n",
    "    sys.path.append(par_dir)\n",
    "    \n",
    "# ML imports\n",
    "import torch\n",
    "import matplotlib.pyplot as plt\n",
    "import numpy as np\n",
    "from hydra import initialize, initialize_config_module, initialize_config_dir, compose\n",
    "from omegaconf import OmegaConf\n",
    "\n",
    "# DiVAE imports\n",
    "from models.rbm.chimeraRBM import ChimeraRBM\n",
    "from models.rbm.qimeraRBM import QimeraRBM\n",
    "from models.rbm.rbm import RBM\n",
    "from models.samplers.pcd import PCD\n",
    "from models.autoencoders.gumboltCaloCRBM import GumBoltCaloCRBM\n",
    "\n",
    "from nbutils import *\n",
    "\n",
    "# DWave imports\n",
    "from dwave.system import DWaveSampler, LeapHybridSampler\n",
    "import neal"
   ]
  },
  {
   "cell_type": "code",
   "execution_count": 3,
   "id": "fe7b513f",
   "metadata": {},
   "outputs": [],
   "source": [
    "ZERO = torch.tensor(0., dtype=torch.float)\n",
    "MINUS_ONE = torch.tensor(-1., dtype=torch.float)"
   ]
  },
  {
   "cell_type": "code",
   "execution_count": 4,
   "id": "9d9e5e35",
   "metadata": {},
   "outputs": [],
   "source": [
    "def init_model(cfg):\n",
    "    model = GumBoltCaloCRBM(flat_input_size=[504],\n",
    "                            train_ds_mean=0.,\n",
    "                            activation_fct=torch.nn.ReLU(),\n",
    "                            cfg=cfg)\n",
    "    return model"
   ]
  },
  {
   "cell_type": "code",
   "execution_count": 5,
   "id": "75d38b81",
   "metadata": {},
   "outputs": [
    {
     "name": "stderr",
     "output_type": "stream",
     "text": [
      "/opt/conda/lib/python3.8/site-packages/hydra/_internal/defaults_list.py:251: UserWarning: In 'config': Defaults list is missing `_self_`. See https://hydra.cc/docs/upgrades/1.0_to_1.1/default_composition_order for more information\n",
      "  warnings.warn(msg, UserWarning)\n"
     ]
    }
   ],
   "source": [
    "with initialize(config_path=\"../configs\"):\n",
    "    cfg = compose(config_name=\"config\")"
   ]
  },
  {
   "cell_type": "code",
   "execution_count": 6,
   "id": "019a2cd7",
   "metadata": {},
   "outputs": [
    {
     "name": "stderr",
     "output_type": "stream",
     "text": [
      "2022-04-07 02:16:23,394 dwave.cloud.client.base \u001b[1;95mINFO \u001b[1;0m MainThread Using region metadata: [Region(code='na-west-1', name='North America', endpoint='https://na-west-1.cloud.dwavesys.com/sapi/v2/'), Region(code='eu-central-1', name='Europe', endpoint='https://eu-central-1.cloud.dwavesys.com/sapi/v2/')]\n",
      "\u001b[1m[02:16:23.394]\u001b[0m \u001b[1;95mINFO \u001b[1;0m  \u001b[1mdwave.cloud.client.base                           \u001b[0mUsing region metadata: [Region(code='na-west-1', name='North America', endpoint='https://na-west-1.cloud.dwavesys.com/sapi/v2/'), Region(code='eu-central-1', name='Europe', endpoint='https://eu-central-1.cloud.dwavesys.com/sapi/v2/')]\n",
      "2022-04-07 02:16:23,461 dwave.cloud.client.base \u001b[1;95mINFO \u001b[1;0m MainThread Requested a solver that best matches feature filters={}\n",
      "\u001b[1m[02:16:23.461]\u001b[0m \u001b[1;95mINFO \u001b[1;0m  \u001b[1mdwave.cloud.client.base                           \u001b[0mRequested a solver that best matches feature filters={}\n",
      "2022-04-07 02:16:23,463 dwave.cloud.client.base \u001b[1;95mINFO \u001b[1;0m MainThread Fetching solvers according to filters={'topology__type': 'chimera', 'chip_id': 'DW_2000Q_6'}, order_by='avg_load'\n",
      "\u001b[1m[02:16:23.463]\u001b[0m \u001b[1;95mINFO \u001b[1;0m  \u001b[1mdwave.cloud.client.base                           \u001b[0mFetching solvers according to filters={'topology__type': 'chimera', 'chip_id': 'DW_2000Q_6'}, order_by='avg_load'\n",
      "2022-04-07 02:16:23,465 dwave.cloud.client.base \u001b[1;95mINFO \u001b[1;0m MainThread Fetching definitions of all available solvers\n",
      "\u001b[1m[02:16:23.465]\u001b[0m \u001b[1;95mINFO \u001b[1;0m  \u001b[1mdwave.cloud.client.base                           \u001b[0mFetching definitions of all available solvers\n",
      "2022-04-07 02:16:24,150 dwave.cloud.client.base \u001b[1;95mINFO \u001b[1;0m MainThread Received solver data for 5 solver(s).\n",
      "\u001b[1m[02:16:24.150]\u001b[0m \u001b[1;95mINFO \u001b[1;0m  \u001b[1mdwave.cloud.client.base                           \u001b[0mReceived solver data for 5 solver(s).\n",
      "2022-04-07 02:16:24,166 dwave.cloud.client.base \u001b[1;95mINFO \u001b[1;0m MainThread Adding solver StructuredSolver(id='DW_2000Q_6')\n",
      "\u001b[1m[02:16:24.166]\u001b[0m \u001b[1;95mINFO \u001b[1;0m  \u001b[1mdwave.cloud.client.base                           \u001b[0mAdding solver StructuredSolver(id='DW_2000Q_6')\n",
      "2022-04-07 02:16:24,215 dwave.cloud.client.base \u001b[1;95mINFO \u001b[1;0m MainThread Adding solver StructuredSolver(id='Advantage_system4.1')\n",
      "\u001b[1m[02:16:24.215]\u001b[0m \u001b[1;95mINFO \u001b[1;0m  \u001b[1mdwave.cloud.client.base                           \u001b[0mAdding solver StructuredSolver(id='Advantage_system4.1')\n",
      "2022-04-07 02:16:24,217 dwave.cloud.client.base \u001b[1;95mINFO \u001b[1;0m MainThread Filtered solvers=[StructuredSolver(id='DW_2000Q_6')]\n",
      "\u001b[1m[02:16:24.217]\u001b[0m \u001b[1;95mINFO \u001b[1;0m  \u001b[1mdwave.cloud.client.base                           \u001b[0mFiltered solvers=[StructuredSolver(id='DW_2000Q_6')]\n",
      "2022-04-07 02:16:24,260 dwave.cloud.client.base \u001b[1;95mINFO \u001b[1;0m MainThread Using region metadata: [Region(code='na-west-1', name='North America', endpoint='https://na-west-1.cloud.dwavesys.com/sapi/v2/'), Region(code='eu-central-1', name='Europe', endpoint='https://eu-central-1.cloud.dwavesys.com/sapi/v2/')]\n",
      "\u001b[1m[02:16:24.260]\u001b[0m \u001b[1;95mINFO \u001b[1;0m  \u001b[1mdwave.cloud.client.base                           \u001b[0mUsing region metadata: [Region(code='na-west-1', name='North America', endpoint='https://na-west-1.cloud.dwavesys.com/sapi/v2/'), Region(code='eu-central-1', name='Europe', endpoint='https://eu-central-1.cloud.dwavesys.com/sapi/v2/')]\n",
      "2022-04-07 02:16:24,318 dwave.cloud.client.base \u001b[1;95mINFO \u001b[1;0m MainThread Requested a solver that best matches feature filters={}\n",
      "\u001b[1m[02:16:24.318]\u001b[0m \u001b[1;95mINFO \u001b[1;0m  \u001b[1mdwave.cloud.client.base                           \u001b[0mRequested a solver that best matches feature filters={}\n",
      "2022-04-07 02:16:24,320 dwave.cloud.client.base \u001b[1;95mINFO \u001b[1;0m MainThread Fetching solvers according to filters={'topology__type': 'chimera', 'chip_id': 'DW_2000Q_6'}, order_by='avg_load'\n",
      "\u001b[1m[02:16:24.320]\u001b[0m \u001b[1;95mINFO \u001b[1;0m  \u001b[1mdwave.cloud.client.base                           \u001b[0mFetching solvers according to filters={'topology__type': 'chimera', 'chip_id': 'DW_2000Q_6'}, order_by='avg_load'\n",
      "2022-04-07 02:16:24,322 dwave.cloud.client.base \u001b[1;95mINFO \u001b[1;0m MainThread Fetching definitions of all available solvers\n",
      "\u001b[1m[02:16:24.322]\u001b[0m \u001b[1;95mINFO \u001b[1;0m  \u001b[1mdwave.cloud.client.base                           \u001b[0mFetching definitions of all available solvers\n",
      "2022-04-07 02:16:24,911 dwave.cloud.client.base \u001b[1;95mINFO \u001b[1;0m MainThread Received solver data for 5 solver(s).\n",
      "\u001b[1m[02:16:24.911]\u001b[0m \u001b[1;95mINFO \u001b[1;0m  \u001b[1mdwave.cloud.client.base                           \u001b[0mReceived solver data for 5 solver(s).\n",
      "2022-04-07 02:16:24,918 dwave.cloud.client.base \u001b[1;95mINFO \u001b[1;0m MainThread Adding solver StructuredSolver(id='DW_2000Q_6')\n",
      "\u001b[1m[02:16:24.918]\u001b[0m \u001b[1;95mINFO \u001b[1;0m  \u001b[1mdwave.cloud.client.base                           \u001b[0mAdding solver StructuredSolver(id='DW_2000Q_6')\n",
      "2022-04-07 02:16:24,967 dwave.cloud.client.base \u001b[1;95mINFO \u001b[1;0m MainThread Adding solver StructuredSolver(id='Advantage_system4.1')\n",
      "\u001b[1m[02:16:24.967]\u001b[0m \u001b[1;95mINFO \u001b[1;0m  \u001b[1mdwave.cloud.client.base                           \u001b[0mAdding solver StructuredSolver(id='Advantage_system4.1')\n",
      "2022-04-07 02:16:24,968 dwave.cloud.client.base \u001b[1;95mINFO \u001b[1;0m MainThread Filtered solvers=[StructuredSolver(id='DW_2000Q_6')]\n",
      "\u001b[1m[02:16:24.968]\u001b[0m \u001b[1;95mINFO \u001b[1;0m  \u001b[1mdwave.cloud.client.base                           \u001b[0mFiltered solvers=[StructuredSolver(id='DW_2000Q_6')]\n"
     ]
    },
    {
     "name": "stdout",
     "output_type": "stream",
     "text": [
      "Initializing NetworkV3\n"
     ]
    }
   ],
   "source": [
    "model = init_model(cfg)\n",
    "model.create_networks()"
   ]
  },
  {
   "cell_type": "code",
   "execution_count": 7,
   "id": "8290d239",
   "metadata": {},
   "outputs": [
    {
     "name": "stdout",
     "output_type": "stream",
     "text": [
      "Loading weights for module =  _activation_fct\n",
      "Loading weights for module =  _bce_loss\n",
      "Loading weights for module =  _energy_activation_fct\n",
      "Loading weights for module =  _hit_activation_fct\n",
      "Loading weights for module =  _output_loss\n",
      "Loading weights for module =  _hit_loss\n",
      "Loading weights for module =  _hit_smoothing_dist_mod\n",
      "Loading weights for module =  encoder\n",
      "Loading weights for module =  prior\n",
      "Loading weights for module =  decoder\n",
      "Loading weights for module =  sampler\n"
     ]
    }
   ],
   "source": [
    "run_path = '/home/akajal/DiVAE/outputs/2022-03-11/15-21-04/wandb/run-20220311_152104-2junzvyl/files/GumBoltCaloCRBM_calo_default_latest.pth'\n",
    "load_state(model, run_path, 'cuda:{0}'.format(cfg.gpu_list[0]))"
   ]
  },
  {
   "cell_type": "code",
   "execution_count": null,
   "id": "e60761dd",
   "metadata": {},
   "outputs": [],
   "source": [
    "def beta_classical(num_iterations=10, lr=0.001, beta_init=10., crbm_sampler=None, aux_crbm_sampler=None):\n",
    "    assert crbm_sampler is not None\n",
    "    assert aux_crbm_sampler is not None\n",
    "    \n",
    "    beta = beta_init\n",
    "    betas = [beta]\n",
    "    \n",
    "    # Fixed RBM parameters\n",
    "    crbm = crbm_sampler.rbm\n",
    "    crbm_weights, crbm_vbias, crbm_hbias = crbm.weights, crbm.visible_bias, crbm.hidden_bias\n",
    "    crbm_edgelist = crbm.pruned_edge_list\n",
    "    \n",
    "    # Fixed Ising parameters\n",
    "    ising_weights = crbm_weights/4.\n",
    "    ising_vbias = crbm_vbias/2. + torch.sum(crbm_weights, dim=1)/4.\n",
    "    ising_hbias = crbm_hbias/2. + torch.sum(crbm_weights, dim=0)/4.\n",
    "    \n",
    "    # Sample from the fixed RBM\n",
    "    crbm_vis, crbm_hid = crbm_sampler.block_gibbs_sampling()\n",
    "        \n",
    "    # Transform fixed RBM samples into Ising samples\n",
    "    crbm_vis = torch.where(crbm_vis == ZERO, MINUS_ONE, crbm_vis)\n",
    "    crbm_hid = torch.where(crbm_hid == ZERO, MINUS_ONE, crbm_hid)\n",
    "        \n",
    "    # Energy expectation value\n",
    "    crbm_energy_exp = ising_energies_exp(ising_weights, ising_vbias, ising_hbias, crbm_vis, crbm_hid)\n",
    "    crbm_energy_exp = torch.mean(crbm_energy_exp, axis=0)\n",
    "    \n",
    "    print(\"crbm_energy_exp : {0}\".format(crbm_energy_exp))\n",
    "    \n",
    "    # Auxiliary scaled RBM\n",
    "    aux_crbm = aux_crbm_sampler.rbm\n",
    "    \n",
    "    for i in range(num_iterations):\n",
    "        \n",
    "        # Calculate the rescaled parameters of the auxiliary RBM\n",
    "        aux_crbm.weights = beta*crbm.weights\n",
    "        aux_crbm.visible_bias = beta*crbm.visible_bias\n",
    "        aux_crbm.hidden_bias = beta*crbm.hidden_bias\n",
    "        aux_crbm_sampler.rbm = aux_crbm\n",
    "        \n",
    "        aux_crbm_vis, aux_crbm_hid = aux_crbm_sampler.block_gibbs_sampling()\n",
    "        \n",
    "        aux_crbm_vis = torch.where(aux_crbm_vis == ZERO, MINUS_ONE, aux_crbm_vis)\n",
    "        aux_crbm_hid = torch.where(aux_crbm_hid == ZERO, MINUS_ONE, aux_crbm_hid)\n",
    "        \n",
    "        aux_crbm_energy_exp = ising_energies_exp(ising_weights, ising_vbias, ising_hbias, aux_crbm_vis, aux_crbm_hid)\n",
    "        aux_crbm_energy_exp = torch.mean(aux_crbm_energy_exp, axis=0)\n",
    "        \n",
    "        print(\"aux_crbm_energy_exp : {0}, beta : {1}\".format(aux_crbm_energy_exp, beta))\n",
    "        beta = beta + lr*(-float(aux_crbm_energy_exp)+float(crbm_energy_exp))\n",
    "        betas.append(beta)\n",
    "        \n",
    "    return betas"
   ]
  },
  {
   "cell_type": "code",
   "execution_count": null,
   "id": "eb6eeabc",
   "metadata": {},
   "outputs": [],
   "source": [
    "aux_crbm = QimeraRBM(n_visible=model.prior._n_visible, n_hidden=model.prior._n_hidden)\n",
    "aux_crbm_sampler = PCD(batch_size=1024, RBM=aux_crbm, n_gibbs_sampling_steps=100)\n",
    "crbm_sampler = PCD(batch_size=1024, RBM=model.prior, n_gibbs_sampling_steps=100)"
   ]
  },
  {
   "cell_type": "code",
   "execution_count": null,
   "id": "0decc230",
   "metadata": {},
   "outputs": [],
   "source": [
    "betas = beta_classical(num_iterations=30, lr=0.005, beta_init=5., crbm_sampler=crbm_sampler, aux_crbm_sampler=aux_crbm_sampler)"
   ]
  },
  {
   "cell_type": "code",
   "execution_count": null,
   "id": "f3035469",
   "metadata": {},
   "outputs": [],
   "source": [
    "plot_betas(betas)"
   ]
  },
  {
   "cell_type": "code",
   "execution_count": null,
   "id": "ebf110fe",
   "metadata": {},
   "outputs": [],
   "source": [
    "def beta_qpu(num_iterations=10, lr=0.01, beta_init=10., n_reads=100, crbm_sampler=None, qpu_sampler=None):\n",
    "    assert crbm_sampler is not None\n",
    "    assert qpu_sampler is not None\n",
    "    \n",
    "    beta = beta_init\n",
    "    betas = [beta]\n",
    "    \n",
    "    # Fixed RBM parameters\n",
    "    crbm = crbm_sampler.rbm\n",
    "    crbm_weights, crbm_vbias, crbm_hbias = crbm.weights, crbm.visible_bias, crbm.hidden_bias\n",
    "    crbm_edgelist = crbm.pruned_edge_list\n",
    "    \n",
    "    # Fixed Ising parameters\n",
    "    ising_weights = crbm_weights/4.\n",
    "    ising_vbias = crbm_vbias/2. + torch.sum(crbm_weights, dim=1)/4.\n",
    "    ising_hbias = crbm_hbias/2. + torch.sum(crbm_weights, dim=0)/4.\n",
    "    \n",
    "    # Sample from the fixed RBM\n",
    "    crbm_vis, crbm_hid = crbm_sampler.block_gibbs_sampling()\n",
    "        \n",
    "    # Transform fixed RBM samples into Ising samples\n",
    "    crbm_vis = torch.where(crbm_vis == ZERO, MINUS_ONE, crbm_vis)\n",
    "    crbm_hid = torch.where(crbm_hid == ZERO, MINUS_ONE, crbm_hid)\n",
    "        \n",
    "    # Energy expectation value\n",
    "    crbm_energy_exp = ising_energies_exp(ising_weights, ising_vbias, ising_hbias, crbm_vis, crbm_hid)\n",
    "    crbm_energy_exp = torch.mean(crbm_energy_exp, axis=0)\n",
    "    print(\"crbm_energy_exp : {0}\".format(crbm_energy_exp))\n",
    "    \n",
    "    # QPU control variables\n",
    "    n_vis = len(crbm.visible_qubit_idxs)\n",
    "    qubit_idxs = crbm.visible_qubit_idxs+crbm.hidden_qubit_idxs\n",
    "    \n",
    "    visible_idx_map = {visible_qubit_idx:i for i, visible_qubit_idx in enumerate(crbm.visible_qubit_idxs)}\n",
    "    hidden_idx_map = {hidden_qubit_idx:i for i, hidden_qubit_idx in enumerate(crbm.hidden_qubit_idxs)}\n",
    "    \n",
    "    for i in range(num_iterations):\n",
    "        dwave_weights, dwave_vbias, dwave_hbias = -ising_weights/beta, -ising_vbias/beta, -ising_hbias/beta\n",
    "        \n",
    "        # Clamp the Ising parameters to the QPU control parameter range \n",
    "        dwave_weights = torch.clamp(dwave_weights, min=-1.5, max=0.5)\n",
    "        dwave_vbias = torch.clamp(dwave_vbias, min=-1.5, max=1.5)\n",
    "        dwave_hbias = torch.clamp(dwave_hbias, min=-1.5, max=1.5)\n",
    "        \n",
    "        dwave_weights_np = dwave_weights.detach().cpu().numpy()\n",
    "        biases = torch.cat((dwave_vbias, dwave_hbias)).detach().cpu().numpy()\n",
    "        \n",
    "        print(\"Iteration = {0}, beta = {1} : J range = ({2}, {3}), h range = ({4}, {5})\".format(i, beta, np.min(dwave_weights_np),\n",
    "                                                                                                np.max(dwave_weights_np), np.min(biases),\n",
    "                                                                                                np.max(biases)))\n",
    "        \n",
    "        h = {qubit_idx:bias for qubit_idx, bias in zip(qubit_idxs, biases)}\n",
    "        J = {}\n",
    "        for edge in crbm_edgelist:\n",
    "            if edge[0] in crbm.visible_qubit_idxs:\n",
    "                J[edge] = dwave_weights_np[visible_idx_map[edge[0]]][hidden_idx_map[edge[1]]]\n",
    "            else:\n",
    "                J[edge] = dwave_weights_np[visible_idx_map[edge[1]]][hidden_idx_map[edge[0]]]\n",
    "        \n",
    "        response = qpu_sampler.sample_ising(h, J, num_reads=n_reads, auto_scale=False)\n",
    "        dwave_samples, dwave_energies = batch_dwave_samples(response)\n",
    "        dwave_samples = torch.tensor(dwave_samples, dtype=torch.float)\n",
    "        dwave_vis, dwave_hid = dwave_samples[:, :n_vis], dwave_samples[:, n_vis:]\n",
    "        \n",
    "        dwave_energy_exp = ising_energies_exp(ising_weights, ising_vbias, ising_hbias, dwave_vis, dwave_hid)\n",
    "        dwave_energy_exp = torch.mean(dwave_energy_exp, axis=0)\n",
    "        \n",
    "        print(\"dwave_energy_exp : {0}, beta : {1}\".format(dwave_energy_exp, beta))\n",
    "        beta = beta - lr*(-float(dwave_energy_exp)+float(crbm_energy_exp))\n",
    "        betas.append(beta)\n",
    "        \n",
    "    return betas"
   ]
  },
  {
   "cell_type": "code",
   "execution_count": null,
   "id": "1e0a8cd3",
   "metadata": {},
   "outputs": [],
   "source": [
    "qpu_sampler = DWaveSampler(solver={\"topology__type\":\"chimera\", \"chip_id\":\"DW_2000Q_6\"})\n",
    "crbm_sampler = PCD(batch_size=1024, RBM=model.prior, n_gibbs_sampling_steps=100)\n",
    "\n",
    "beta_qpu(num_iterations=20, lr=0.0001, beta_init=2., crbm_sampler=crbm_sampler, qpu_sampler=qpu_sampler)"
   ]
  },
  {
   "cell_type": "code",
   "execution_count": null,
   "id": "7ebf5c65",
   "metadata": {},
   "outputs": [],
   "source": [
    "def beta_qpu_reverse(num_iterations=10, lr=0.01, beta_init=10., n_reads=100, crbm_sampler=None, qpu_sampler=None, aux_crbm_sampler=None):\n",
    "    assert crbm_sampler is not None\n",
    "    assert qpu_sampler is not None\n",
    "    assert aux_crbm_sampler is not None\n",
    "    \n",
    "    beta = beta_init\n",
    "    betas = [beta]\n",
    "    \n",
    "    # Fixed RBM parameters\n",
    "    crbm = crbm_sampler.rbm\n",
    "    crbm_weights, crbm_vbias, crbm_hbias = crbm.weights, crbm.visible_bias, crbm.hidden_bias\n",
    "    crbm_edgelist = crbm.pruned_edge_list\n",
    "    \n",
    "    # Fixed Ising parameters\n",
    "    ising_weights = crbm_weights/4.\n",
    "    ising_vbias = crbm_vbias/2. + torch.sum(crbm_weights, dim=1)/4.\n",
    "    ising_hbias = crbm_hbias/2. + torch.sum(crbm_weights, dim=0)/4.\n",
    "    \n",
    "    # Setup QPU control variables\n",
    "    n_vis = len(crbm.visible_qubit_idxs)\n",
    "    qubit_idxs = crbm.visible_qubit_idxs+crbm.hidden_qubit_idxs\n",
    "    \n",
    "    visible_idx_map = {visible_qubit_idx:i for i, visible_qubit_idx in enumerate(crbm.visible_qubit_idxs)}\n",
    "    hidden_idx_map = {hidden_qubit_idx:i for i, hidden_qubit_idx in enumerate(crbm.hidden_qubit_idxs)}\n",
    "    \n",
    "    dwave_weights, dwave_vbias, dwave_hbias = -ising_weights, -ising_vbias, -ising_hbias\n",
    "    \n",
    "    # Clamp the Ising parameters to the QPU control parameter range \n",
    "    dwave_weights = torch.clamp(dwave_weights, min=-2., max=1.)\n",
    "    dwave_vbias = torch.clamp(dwave_vbias, min=-2., max=2.)\n",
    "    dwave_hbias = torch.clamp(dwave_hbias, min=-2., max=2.)\n",
    "        \n",
    "    dwave_weights_np = dwave_weights.detach().cpu().numpy()\n",
    "    biases = torch.cat((dwave_vbias, dwave_hbias)).detach().cpu().numpy()\n",
    "    \n",
    "    print(\"J range = ({0}, {1}), h range = ({2}, {3})\".format(np.min(dwave_weights_np),\n",
    "                                                              np.max(dwave_weights_np),\n",
    "                                                              np.min(biases),\n",
    "                                                              np.max(biases)))\n",
    "    \n",
    "    h = {qubit_idx:bias for qubit_idx, bias in zip(qubit_idxs, biases)}\n",
    "    J = {}\n",
    "    for edge in crbm_edgelist:\n",
    "        if edge[0] in crbm.visible_qubit_idxs:\n",
    "            J[edge] = dwave_weights_np[visible_idx_map[edge[0]]][hidden_idx_map[edge[1]]]\n",
    "        else:\n",
    "            J[edge] = dwave_weights_np[visible_idx_map[edge[1]]][hidden_idx_map[edge[0]]]\n",
    "                \n",
    "    response = qpu_sampler.sample_ising(h, J, num_reads=n_reads, auto_scale=False)\n",
    "    dwave_samples, dwave_energies = batch_dwave_samples(response)\n",
    "    dwave_samples = torch.tensor(dwave_samples, dtype=torch.float)\n",
    "    dwave_vis, dwave_hid = dwave_samples[:, :n_vis], dwave_samples[:, n_vis:]\n",
    "        \n",
    "    dwave_energy_exp = ising_energies_exp(ising_weights, ising_vbias, ising_hbias, dwave_vis, dwave_hid)\n",
    "    dwave_energy_exp = torch.mean(dwave_energy_exp, axis=0)\n",
    "    \n",
    "    print(\"dwave_energy_exp : {0}\".format(dwave_energy_exp))\n",
    "    \n",
    "    # Auxiliary scaled RBM\n",
    "    aux_crbm = aux_crbm_sampler.rbm\n",
    "    \n",
    "    for i in range(num_iterations):\n",
    "        \n",
    "        # Calculate the rescaled parameters of the auxiliary RBM\n",
    "        aux_crbm.weights = beta*crbm.weights\n",
    "        aux_crbm.visible_bias = beta*crbm.visible_bias\n",
    "        aux_crbm.hidden_bias = beta*crbm.hidden_bias\n",
    "        aux_crbm_sampler.rbm = aux_crbm\n",
    "        \n",
    "        aux_crbm_vis, aux_crbm_hid = aux_crbm_sampler.block_gibbs_sampling()\n",
    "        \n",
    "        aux_crbm_vis = torch.where(aux_crbm_vis == ZERO, MINUS_ONE, aux_crbm_vis)\n",
    "        aux_crbm_hid = torch.where(aux_crbm_hid == ZERO, MINUS_ONE, aux_crbm_hid)\n",
    "        \n",
    "        aux_crbm_energy_exp = ising_energies_exp(ising_weights, ising_vbias, ising_hbias, aux_crbm_vis, aux_crbm_hid)\n",
    "        aux_crbm_energy_exp = torch.mean(aux_crbm_energy_exp, axis=0)\n",
    "        \n",
    "        print(\"aux_crbm_energy_exp : {0}, beta : {1}\".format(aux_crbm_energy_exp, beta))\n",
    "        beta = beta + lr*(-float(aux_crbm_energy_exp)+float(dwave_energy_exp))\n",
    "        betas.append(beta)\n",
    "        \n",
    "    return betas"
   ]
  },
  {
   "cell_type": "code",
   "execution_count": null,
   "id": "da8976ef",
   "metadata": {},
   "outputs": [],
   "source": [
    "crbm_sampler = PCD(batch_size=1024, RBM=model.prior, n_gibbs_sampling_steps=100)\n",
    "qpu_sampler = DWaveSampler(solver={\"topology__type\":\"chimera\", \"chip_id\":\"DW_2000Q_6\"})\n",
    "\n",
    "aux_crbm = QimeraRBM(n_visible=model.prior._n_visible, n_hidden=model.prior._n_hidden)\n",
    "aux_crbm_sampler = PCD(batch_size=1024, RBM=aux_crbm, n_gibbs_sampling_steps=100)"
   ]
  },
  {
   "cell_type": "code",
   "execution_count": null,
   "id": "c4cf5d8f",
   "metadata": {},
   "outputs": [],
   "source": [
    "betas = beta_qpu_reverse(num_iterations=10,\n",
    "                         lr=0.001,\n",
    "                         beta_init=10.,\n",
    "                         n_reads=100,\n",
    "                         crbm_sampler=crbm_sampler,\n",
    "                         qpu_sampler=qpu_sampler,\n",
    "                         aux_crbm_sampler=aux_crbm_sampler)"
   ]
  },
  {
   "cell_type": "code",
   "execution_count": 8,
   "id": "a1cfec8a",
   "metadata": {},
   "outputs": [],
   "source": [
    "def beta_fixed_qpu(num_iterations=10, lr=0.01, beta_init=10., n_reads=100, qpu_sampler=None, aux_crbm_sampler=None):\n",
    "    assert qpu_sampler is not None\n",
    "    assert aux_crbm_sampler is not None\n",
    "    \n",
    "    beta = beta_init\n",
    "    betas = [beta]\n",
    "    \n",
    "    # Auxiliary scaled RBM\n",
    "    aux_crbm = aux_crbm_sampler.rbm\n",
    "    aux_crbm_edgelist = aux_crbm.pruned_edge_list\n",
    "    \n",
    "    # Setup QPU control variables\n",
    "    n_vis = len(aux_crbm.visible_qubit_idxs)\n",
    "    n_hid = len(aux_crbm.visible_qubit_idxs)\n",
    "    qubit_idxs = aux_crbm.visible_qubit_idxs+aux_crbm.hidden_qubit_idxs\n",
    "    \n",
    "    visible_idx_map = {visible_qubit_idx:i for i, visible_qubit_idx in enumerate(aux_crbm.visible_qubit_idxs)}\n",
    "    hidden_idx_map = {hidden_qubit_idx:i for i, hidden_qubit_idx in enumerate(aux_crbm.hidden_qubit_idxs)}\n",
    "        \n",
    "    ising_weights = torch.nn.Parameter(-2*torch.rand(n_vis, n_hid) + 1.5, requires_grad=False)\n",
    "    #ising_weights = torch.nn.Parameter(-2*torch.rand(n_vis, n_hid) + 0.5, requires_grad=False)\n",
    "    ising_vbias = torch.nn.Parameter(torch.zeros(n_vis), requires_grad=False)\n",
    "    ising_hbias = torch.nn.Parameter(torch.zeros(n_hid), requires_grad=False)\n",
    "    \n",
    "    dwave_weights_np = -ising_weights.detach().cpu().numpy()\n",
    "    print(\"J range = ({0}, {1})\".format(np.min(dwave_weights_np),\n",
    "                                        np.max(dwave_weights_np)))\n",
    "    \n",
    "    h = {qubit_idx:0. for qubit_idx in qubit_idxs}\n",
    "    J = {}\n",
    "    for edge in aux_crbm_edgelist:\n",
    "        if edge[0] in aux_crbm.visible_qubit_idxs:\n",
    "            J[edge] = dwave_weights_np[visible_idx_map[edge[0]]][hidden_idx_map[edge[1]]]\n",
    "        else:\n",
    "            J[edge] = dwave_weights_np[visible_idx_map[edge[1]]][hidden_idx_map[edge[0]]]\n",
    "                \n",
    "    response = qpu_sampler.sample_ising(h, J, num_reads=n_reads, auto_scale=False)\n",
    "    dwave_samples, dwave_energies = batch_dwave_samples(response)\n",
    "    dwave_samples = torch.tensor(dwave_samples, dtype=torch.float)\n",
    "    dwave_vis, dwave_hid = dwave_samples[:, :n_vis], dwave_samples[:, n_vis:]\n",
    "        \n",
    "    dwave_energy_exp = ising_energies_exp(ising_weights, ising_vbias, ising_hbias, dwave_vis, dwave_hid)\n",
    "    dwave_energy_exp = torch.mean(dwave_energy_exp, axis=0)\n",
    "    print(\"dwave_energy_exp : {0}\".format(dwave_energy_exp))\n",
    "    \n",
    "    aux_crbm._visible_bias = ising_vbias\n",
    "    aux_crbm._hidden_bias = ising_hbias\n",
    "    \n",
    "    aux_crbm_weights = 4.*ising_weights\n",
    "    \n",
    "    for i in range(num_iterations):\n",
    "        # Calculate the rescaled parameters of the auxiliary RBM\n",
    "        aux_crbm.weights = (aux_crbm_weights*aux_crbm.weights_mask)/beta\n",
    "        aux_crbm_sampler.rbm = aux_crbm\n",
    "        \n",
    "        aux_crbm_vis, aux_crbm_hid = aux_crbm_sampler.block_gibbs_sampling()\n",
    "        \n",
    "        aux_crbm_vis = torch.where(aux_crbm_vis == ZERO, MINUS_ONE, aux_crbm_vis)\n",
    "        aux_crbm_hid = torch.where(aux_crbm_hid == ZERO, MINUS_ONE, aux_crbm_hid)\n",
    "        \n",
    "        aux_crbm_energy_exp = ising_energies_exp(ising_weights, ising_vbias, ising_hbias, aux_crbm_vis, aux_crbm_hid)\n",
    "        aux_crbm_energy_exp = torch.mean(aux_crbm_energy_exp, axis=0)\n",
    "        \n",
    "        print(\"aux_crbm_energy_exp : {0}, beta : {1}\".format(aux_crbm_energy_exp, beta))\n",
    "        beta = beta - lr*(-float(aux_crbm_energy_exp)+float(dwave_energy_exp))\n",
    "        betas.append(beta)\n",
    "        \n",
    "    return betas"
   ]
  },
  {
   "cell_type": "code",
   "execution_count": 9,
   "id": "2e492365",
   "metadata": {},
   "outputs": [
    {
     "name": "stderr",
     "output_type": "stream",
     "text": [
      "2022-04-07 02:16:53,848 dwave.cloud.client.base \u001b[1;95mINFO \u001b[1;0m MainThread Using region metadata: [Region(code='na-west-1', name='North America', endpoint='https://na-west-1.cloud.dwavesys.com/sapi/v2/'), Region(code='eu-central-1', name='Europe', endpoint='https://eu-central-1.cloud.dwavesys.com/sapi/v2/')]\n",
      "\u001b[1m[02:16:53.848]\u001b[0m \u001b[1;95mINFO \u001b[1;0m  \u001b[1mdwave.cloud.client.base                           \u001b[0mUsing region metadata: [Region(code='na-west-1', name='North America', endpoint='https://na-west-1.cloud.dwavesys.com/sapi/v2/'), Region(code='eu-central-1', name='Europe', endpoint='https://eu-central-1.cloud.dwavesys.com/sapi/v2/')]\n",
      "2022-04-07 02:16:53,964 dwave.cloud.client.base \u001b[1;95mINFO \u001b[1;0m MainThread Requested a solver that best matches feature filters={}\n",
      "\u001b[1m[02:16:53.964]\u001b[0m \u001b[1;95mINFO \u001b[1;0m  \u001b[1mdwave.cloud.client.base                           \u001b[0mRequested a solver that best matches feature filters={}\n",
      "2022-04-07 02:16:53,968 dwave.cloud.client.base \u001b[1;95mINFO \u001b[1;0m MainThread Fetching solvers according to filters={'topology__type': 'chimera', 'chip_id': 'DW_2000Q_6'}, order_by='avg_load'\n",
      "\u001b[1m[02:16:53.968]\u001b[0m \u001b[1;95mINFO \u001b[1;0m  \u001b[1mdwave.cloud.client.base                           \u001b[0mFetching solvers according to filters={'topology__type': 'chimera', 'chip_id': 'DW_2000Q_6'}, order_by='avg_load'\n",
      "2022-04-07 02:16:53,970 dwave.cloud.client.base \u001b[1;95mINFO \u001b[1;0m MainThread Fetching definitions of all available solvers\n",
      "\u001b[1m[02:16:53.970]\u001b[0m \u001b[1;95mINFO \u001b[1;0m  \u001b[1mdwave.cloud.client.base                           \u001b[0mFetching definitions of all available solvers\n",
      "2022-04-07 02:16:54,463 dwave.cloud.client.base \u001b[1;95mINFO \u001b[1;0m MainThread Received solver data for 5 solver(s).\n",
      "\u001b[1m[02:16:54.463]\u001b[0m \u001b[1;95mINFO \u001b[1;0m  \u001b[1mdwave.cloud.client.base                           \u001b[0mReceived solver data for 5 solver(s).\n",
      "2022-04-07 02:16:54,486 dwave.cloud.client.base \u001b[1;95mINFO \u001b[1;0m MainThread Adding solver StructuredSolver(id='DW_2000Q_6')\n",
      "\u001b[1m[02:16:54.486]\u001b[0m \u001b[1;95mINFO \u001b[1;0m  \u001b[1mdwave.cloud.client.base                           \u001b[0mAdding solver StructuredSolver(id='DW_2000Q_6')\n",
      "2022-04-07 02:16:54,558 dwave.cloud.client.base \u001b[1;95mINFO \u001b[1;0m MainThread Adding solver StructuredSolver(id='Advantage_system4.1')\n",
      "\u001b[1m[02:16:54.558]\u001b[0m \u001b[1;95mINFO \u001b[1;0m  \u001b[1mdwave.cloud.client.base                           \u001b[0mAdding solver StructuredSolver(id='Advantage_system4.1')\n",
      "2022-04-07 02:16:54,561 dwave.cloud.client.base \u001b[1;95mINFO \u001b[1;0m MainThread Filtered solvers=[StructuredSolver(id='DW_2000Q_6')]\n",
      "\u001b[1m[02:16:54.561]\u001b[0m \u001b[1;95mINFO \u001b[1;0m  \u001b[1mdwave.cloud.client.base                           \u001b[0mFiltered solvers=[StructuredSolver(id='DW_2000Q_6')]\n",
      "2022-04-07 02:16:54,578 dwave.cloud.client.base \u001b[1;95mINFO \u001b[1;0m MainThread Using region metadata: [Region(code='na-west-1', name='North America', endpoint='https://na-west-1.cloud.dwavesys.com/sapi/v2/'), Region(code='eu-central-1', name='Europe', endpoint='https://eu-central-1.cloud.dwavesys.com/sapi/v2/')]\n",
      "\u001b[1m[02:16:54.578]\u001b[0m \u001b[1;95mINFO \u001b[1;0m  \u001b[1mdwave.cloud.client.base                           \u001b[0mUsing region metadata: [Region(code='na-west-1', name='North America', endpoint='https://na-west-1.cloud.dwavesys.com/sapi/v2/'), Region(code='eu-central-1', name='Europe', endpoint='https://eu-central-1.cloud.dwavesys.com/sapi/v2/')]\n",
      "2022-04-07 02:16:54,707 dwave.cloud.client.base \u001b[1;95mINFO \u001b[1;0m MainThread Requested a solver that best matches feature filters={}\n",
      "\u001b[1m[02:16:54.707]\u001b[0m \u001b[1;95mINFO \u001b[1;0m  \u001b[1mdwave.cloud.client.base                           \u001b[0mRequested a solver that best matches feature filters={}\n",
      "2022-04-07 02:16:54,710 dwave.cloud.client.base \u001b[1;95mINFO \u001b[1;0m MainThread Fetching solvers according to filters={'topology__type': 'chimera', 'chip_id': 'DW_2000Q_6'}, order_by='avg_load'\n",
      "\u001b[1m[02:16:54.710]\u001b[0m \u001b[1;95mINFO \u001b[1;0m  \u001b[1mdwave.cloud.client.base                           \u001b[0mFetching solvers according to filters={'topology__type': 'chimera', 'chip_id': 'DW_2000Q_6'}, order_by='avg_load'\n",
      "2022-04-07 02:16:54,713 dwave.cloud.client.base \u001b[1;95mINFO \u001b[1;0m MainThread Fetching definitions of all available solvers\n",
      "\u001b[1m[02:16:54.713]\u001b[0m \u001b[1;95mINFO \u001b[1;0m  \u001b[1mdwave.cloud.client.base                           \u001b[0mFetching definitions of all available solvers\n",
      "2022-04-07 02:16:55,404 dwave.cloud.client.base \u001b[1;95mINFO \u001b[1;0m MainThread Received solver data for 5 solver(s).\n",
      "\u001b[1m[02:16:55.404]\u001b[0m \u001b[1;95mINFO \u001b[1;0m  \u001b[1mdwave.cloud.client.base                           \u001b[0mReceived solver data for 5 solver(s).\n",
      "2022-04-07 02:16:55,411 dwave.cloud.client.base \u001b[1;95mINFO \u001b[1;0m MainThread Adding solver StructuredSolver(id='DW_2000Q_6')\n",
      "\u001b[1m[02:16:55.411]\u001b[0m \u001b[1;95mINFO \u001b[1;0m  \u001b[1mdwave.cloud.client.base                           \u001b[0mAdding solver StructuredSolver(id='DW_2000Q_6')\n",
      "2022-04-07 02:16:55,462 dwave.cloud.client.base \u001b[1;95mINFO \u001b[1;0m MainThread Adding solver StructuredSolver(id='Advantage_system4.1')\n",
      "\u001b[1m[02:16:55.462]\u001b[0m \u001b[1;95mINFO \u001b[1;0m  \u001b[1mdwave.cloud.client.base                           \u001b[0mAdding solver StructuredSolver(id='Advantage_system4.1')\n",
      "2022-04-07 02:16:55,464 dwave.cloud.client.base \u001b[1;95mINFO \u001b[1;0m MainThread Filtered solvers=[StructuredSolver(id='DW_2000Q_6')]\n",
      "\u001b[1m[02:16:55.464]\u001b[0m \u001b[1;95mINFO \u001b[1;0m  \u001b[1mdwave.cloud.client.base                           \u001b[0mFiltered solvers=[StructuredSolver(id='DW_2000Q_6')]\n"
     ]
    }
   ],
   "source": [
    "qpu_sampler = DWaveSampler(solver={\"topology__type\":\"chimera\", \"chip_id\":\"DW_2000Q_6\"})\n",
    "\n",
    "aux_crbm = QimeraRBM(n_visible=model.prior._n_visible, n_hidden=model.prior._n_hidden)\n",
    "aux_crbm_sampler = PCD(batch_size=1024, RBM=aux_crbm, n_gibbs_sampling_steps=100)"
   ]
  },
  {
   "cell_type": "code",
   "execution_count": null,
   "id": "95f00881",
   "metadata": {},
   "outputs": [],
   "source": [
    "betas = beta_fixed_qpu(num_iterations=2,\n",
    "                       lr=0.1,\n",
    "                       beta_init=10.,\n",
    "                       n_reads=100,\n",
    "                       qpu_sampler=qpu_sampler,\n",
    "                       aux_crbm_sampler=aux_crbm_sampler)"
   ]
  },
  {
   "cell_type": "code",
   "execution_count": null,
   "id": "4c089ad8",
   "metadata": {},
   "outputs": [],
   "source": [
    "betas = beta_fixed_qpu(num_iterations=3,\n",
    "                       lr=0.01,\n",
    "                       beta_init=0.5,\n",
    "                       n_reads=100,\n",
    "                       qpu_sampler=qpu_sampler,\n",
    "                       aux_crbm_sampler=aux_crbm_sampler)"
   ]
  },
  {
   "cell_type": "code",
   "execution_count": 13,
   "id": "ae44de0b",
   "metadata": {},
   "outputs": [
    {
     "name": "stdout",
     "output_type": "stream",
     "text": [
      "J range = (-1.499996542930603, 0.49999916553497314)\n",
      "dwave_energy_exp : 205068.15625\n",
      "aux_crbm_energy_exp : 118805.546875, beta : 8.0\n",
      "aux_crbm_energy_exp : 146097.546875, beta : 7.13737390625\n",
      "aux_crbm_energy_exp : 169542.984375, beta : 6.547667812499999\n",
      "aux_crbm_energy_exp : 184615.296875, beta : 6.1924160937499995\n",
      "aux_crbm_energy_exp : 194013.46875, beta : 5.987887499999999\n",
      "aux_crbm_energy_exp : 199156.90625, beta : 5.8773406249999995\n",
      "aux_crbm_energy_exp : 202632.890625, beta : 5.818228124999999\n",
      "aux_crbm_energy_exp : 204107.265625, beta : 5.79387546875\n",
      "aux_crbm_energy_exp : 203786.21875, beta : 5.784266562499999\n",
      "aux_crbm_energy_exp : 204794.265625, beta : 5.771447187499999\n"
     ]
    }
   ],
   "source": [
    "betas = beta_fixed_qpu(num_iterations=10,\n",
    "                       lr=0.00001,\n",
    "                       beta_init=8.,\n",
    "                       n_reads=100,\n",
    "                       qpu_sampler=qpu_sampler,\n",
    "                       aux_crbm_sampler=aux_crbm_sampler)"
   ]
  },
  {
   "cell_type": "code",
   "execution_count": 15,
   "id": "d3f6cc48",
   "metadata": {},
   "outputs": [
    {
     "name": "stdout",
     "output_type": "stream",
     "text": [
      "J range = (-1.4999985694885254, 0.49999547004699707)\n",
      "dwave_energy_exp : 336495.4375\n",
      "aux_crbm_energy_exp : 119536.796875, beta : 8.0\n",
      "aux_crbm_energy_exp : 13871.400390625, beta : -13.6958640625\n",
      "aux_crbm_energy_exp : 1700.158447265625, beta : -45.9582677734375\n",
      "aux_crbm_energy_exp : 565.9027709960938, beta : -79.43779567871093\n",
      "aux_crbm_energy_exp : 279.5589294433594, beta : -113.03074915161132\n",
      "aux_crbm_energy_exp : 165.8439483642578, beta : -146.652337008667\n",
      "aux_crbm_energy_exp : 106.46853637695312, beta : -180.28529636383058\n",
      "aux_crbm_energy_exp : 48.814884185791016, beta : -213.92419326019288\n",
      "aux_crbm_energy_exp : 38.789981842041016, beta : -247.5688555217743\n",
      "aux_crbm_energy_exp : 16.75454330444336, beta : -281.2145202735901\n"
     ]
    }
   ],
   "source": [
    "betas = beta_fixed_qpu(num_iterations=10,\n",
    "                       lr=0.0001,\n",
    "                       beta_init=8.,\n",
    "                       n_reads=100,\n",
    "                       qpu_sampler=qpu_sampler,\n",
    "                       aux_crbm_sampler=aux_crbm_sampler)"
   ]
  },
  {
   "cell_type": "code",
   "execution_count": null,
   "id": "d3243291",
   "metadata": {},
   "outputs": [],
   "source": [
    "plot_betas(betas)"
   ]
  },
  {
   "cell_type": "code",
   "execution_count": null,
   "id": "a1cbadb5",
   "metadata": {},
   "outputs": [],
   "source": []
  }
 ],
 "metadata": {
  "kernelspec": {
   "display_name": "Python 3 (ipykernel)",
   "language": "python",
   "name": "python3"
  },
  "language_info": {
   "codemirror_mode": {
    "name": "ipython",
    "version": 3
   },
   "file_extension": ".py",
   "mimetype": "text/x-python",
   "name": "python",
   "nbconvert_exporter": "python",
   "pygments_lexer": "ipython3",
   "version": "3.8.12"
  }
 },
 "nbformat": 4,
 "nbformat_minor": 5
}
