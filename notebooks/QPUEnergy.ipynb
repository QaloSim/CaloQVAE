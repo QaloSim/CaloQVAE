{
 "cells": [
  {
   "cell_type": "markdown",
   "id": "3fbdd6ea",
   "metadata": {},
   "source": [
    "Notebook to figure out the energy function that is used to sample from the D-Wave QPU"
   ]
  },
  {
   "cell_type": "code",
   "execution_count": 1,
   "id": "22db2332",
   "metadata": {},
   "outputs": [
    {
     "name": "stdout",
     "output_type": "stream",
     "text": [
      "/home/akajal/DiVAE\n"
     ]
    }
   ],
   "source": [
    "%cd .."
   ]
  },
  {
   "cell_type": "code",
   "execution_count": 2,
   "id": "7d259426",
   "metadata": {},
   "outputs": [
    {
     "name": "stderr",
     "output_type": "stream",
     "text": [
      "\u001b[1m[18:28:46.186]\u001b[0m \u001b[1;95mINFO \u001b[1;0m  \u001b[1mDiVAE                                             \u001b[0mWillkommen!\n",
      "\u001b[1m[18:28:46.187]\u001b[0m \u001b[1;95mINFO \u001b[1;0m  \u001b[1mDiVAE                                             \u001b[0mLoading configuration.\n",
      "2022-02-26 18:28:48,430 dwave.cloud \u001b[1;95mINFO \u001b[1;0m MainThread Log level for 'dwave.cloud' namespace set to 0\n",
      "\u001b[1m[18:28:48.430]\u001b[0m \u001b[1;95mINFO \u001b[1;0m  \u001b[1mdwave.cloud                                       \u001b[0mLog level for 'dwave.cloud' namespace set to 0\n"
     ]
    }
   ],
   "source": [
    "# Python imports\n",
    "import os\n",
    "import sys\n",
    "\n",
    "# Add the path to the parent directory to augment search for module\n",
    "sys.path.append(os.getcwd())\n",
    "# Add the path to the parent directory to augment search for module\n",
    "par_dir = os.path.abspath(os.path.join(os.getcwd(), os.pardir))\n",
    "if par_dir not in sys.path:\n",
    "    sys.path.append(par_dir)\n",
    "    \n",
    "# ML imports\n",
    "import torch\n",
    "import matplotlib.pyplot as plt\n",
    "import numpy as np\n",
    "\n",
    "# DiVAE imports\n",
    "from models.rbm.chimeraRBM import ChimeraRBM\n",
    "from models.rbm.rbm import RBM\n",
    "from models.samplers.pcd import PCD\n",
    "\n",
    "from utils import *\n",
    "\n",
    "# DWave imports\n",
    "from dwave.system import DWaveSampler, LeapHybridSampler\n",
    "import neal"
   ]
  },
  {
   "cell_type": "code",
   "execution_count": 16,
   "id": "2dfc6505",
   "metadata": {},
   "outputs": [],
   "source": [
    "_NUM_NODES = 4\n",
    "crbm = ChimeraRBM(n_visible=_NUM_NODES, n_hidden=_NUM_NODES)\n",
    "crbm_sampler = PCD(batch_size=1024, RBM=crbm, n_gibbs_sampling_steps=100)"
   ]
  },
  {
   "cell_type": "code",
   "execution_count": 17,
   "id": "9d38d8f0",
   "metadata": {},
   "outputs": [
    {
     "name": "stderr",
     "output_type": "stream",
     "text": [
      "2022-02-26 18:41:47,618 dwave.cloud.client.base \u001b[1;95mINFO \u001b[1;0m MainThread Fetching definitions of all available solvers\n",
      "\u001b[1m[18:41:47.618]\u001b[0m \u001b[1;95mINFO \u001b[1;0m  \u001b[1mdwave.cloud.client.base                           \u001b[0mFetching definitions of all available solvers\n",
      "2022-02-26 18:41:48,147 dwave.cloud.client.base \u001b[1;95mINFO \u001b[1;0m MainThread Adding solver StructuredSolver(id='DW_2000Q_6')\n",
      "\u001b[1m[18:41:48.147]\u001b[0m \u001b[1;95mINFO \u001b[1;0m  \u001b[1mdwave.cloud.client.base                           \u001b[0mAdding solver StructuredSolver(id='DW_2000Q_6')\n",
      "2022-02-26 18:41:48,249 dwave.cloud.client.base \u001b[1;95mINFO \u001b[1;0m MainThread Adding solver StructuredSolver(id='Advantage_system4.1')\n",
      "\u001b[1m[18:41:48.249]\u001b[0m \u001b[1;95mINFO \u001b[1;0m  \u001b[1mdwave.cloud.client.base                           \u001b[0mAdding solver StructuredSolver(id='Advantage_system4.1')\n"
     ]
    }
   ],
   "source": [
    "qpu_sampler = DWaveSampler(solver={\"topology__type\":\"chimera\"})"
   ]
  },
  {
   "cell_type": "code",
   "execution_count": 18,
   "id": "a96537f6",
   "metadata": {},
   "outputs": [],
   "source": [
    "qubit_idxs = crbm.visible_qubit_idxs+crbm.hidden_qubit_idxs"
   ]
  },
  {
   "cell_type": "code",
   "execution_count": 19,
   "id": "76aab1de",
   "metadata": {},
   "outputs": [
    {
     "data": {
      "text/plain": [
       "8"
      ]
     },
     "execution_count": 19,
     "metadata": {},
     "output_type": "execute_result"
    }
   ],
   "source": [
    "len(qubit_idxs)"
   ]
  },
  {
   "cell_type": "code",
   "execution_count": 20,
   "id": "b0389a54",
   "metadata": {},
   "outputs": [],
   "source": [
    "h = {qubit_idx:1. for qubit_idx in qubit_idxs}\n",
    "J = {}"
   ]
  },
  {
   "cell_type": "code",
   "execution_count": 21,
   "id": "e799b45a",
   "metadata": {},
   "outputs": [],
   "source": [
    "response = qpu_sampler.sample_ising(h, J, num_reads=100, auto_scale=False)"
   ]
  },
  {
   "cell_type": "code",
   "execution_count": 23,
   "id": "0e85c913",
   "metadata": {},
   "outputs": [
    {
     "name": "stdout",
     "output_type": "stream",
     "text": [
      "[[-1 -1 -1 -1 -1 -1 -1 -1]\n",
      " [-1 -1 -1 -1 -1 -1 -1 -1]\n",
      " [-1 -1 -1 -1 -1 -1 -1 -1]\n",
      " [-1 -1 -1 -1 -1 -1 -1 -1]\n",
      " [-1 -1 -1 -1 -1 -1 -1 -1]\n",
      " [-1 -1 -1 -1 -1 -1 -1 -1]\n",
      " [-1 -1 -1 -1 -1 -1 -1 -1]\n",
      " [-1 -1 -1 -1 -1 -1 -1 -1]\n",
      " [-1 -1 -1 -1 -1 -1 -1 -1]\n",
      " [-1 -1 -1 -1 -1 -1 -1 -1]]\n",
      "[-8. -8. -8. -8. -8. -8. -8. -8. -8. -8. -8. -8. -8. -8. -8. -8. -8. -8.\n",
      " -8. -8. -8. -8. -8. -8. -8. -8. -8. -8. -8. -8. -8. -8. -8. -8. -8. -8.\n",
      " -8. -8. -8. -8. -8. -8. -8. -8. -8. -8. -8. -8. -8. -8. -8. -8. -8. -8.\n",
      " -8. -8. -8. -8. -8. -8. -8. -8. -8. -8. -8. -8. -8. -8. -8. -8. -8. -8.\n",
      " -8. -8. -8. -8. -8. -8. -8. -8. -8. -8. -8. -8. -8. -8. -8. -8. -8. -8.\n",
      " -8. -8. -8. -8. -8. -8. -8. -8. -8. -8.]\n"
     ]
    }
   ],
   "source": [
    "samples, energies = batch_dwave_samples(response)\n",
    "print(samples[:10])\n",
    "print(energies)"
   ]
  },
  {
   "cell_type": "code",
   "execution_count": 13,
   "id": "ea2d3445",
   "metadata": {},
   "outputs": [
    {
     "name": "stdout",
     "output_type": "stream",
     "text": [
      "[[1 1 1 ... 1 1 1]\n",
      " [1 1 1 ... 1 1 1]\n",
      " [1 1 1 ... 1 1 1]\n",
      " ...\n",
      " [1 1 1 ... 1 1 1]\n",
      " [1 1 1 ... 1 1 1]\n",
      " [1 1 1 ... 1 1 1]]\n",
      "[-32. -32. -32. -32. -32. -32. -32. -32. -32. -32. -32. -32. -32. -32.\n",
      " -32. -32. -32. -32. -32. -32. -32. -32. -32. -32. -32. -32. -32. -32.\n",
      " -32. -32. -32. -32. -32. -32. -32. -32. -32. -32. -32. -32. -32. -32.\n",
      " -32. -32. -32. -32. -32. -32. -32. -32. -32. -32. -32. -32. -32. -32.\n",
      " -32. -32. -32. -32. -32. -32. -32. -32. -32. -32. -32. -32. -32. -32.\n",
      " -32. -32. -32. -32. -32. -32. -32. -32. -32. -32. -32. -32. -32. -32.\n",
      " -32. -32. -32. -32. -32. -32. -32. -32. -32. -32. -32. -32. -32. -32.\n",
      " -32. -32.]\n"
     ]
    }
   ],
   "source": [
    "h = {qubit_idx:-1. for qubit_idx in qubit_idxs}\n",
    "J = {}\n",
    "\n",
    "response = qpu_sampler.sample_ising(h, J, num_reads=100, auto_scale=False)\n",
    "samples, energies = batch_dwave_samples(response)\n",
    "print(samples)\n",
    "print(energies)"
   ]
  }
 ],
 "metadata": {
  "kernelspec": {
   "display_name": "Python 3 (ipykernel)",
   "language": "python",
   "name": "python3"
  },
  "language_info": {
   "codemirror_mode": {
    "name": "ipython",
    "version": 3
   },
   "file_extension": ".py",
   "mimetype": "text/x-python",
   "name": "python",
   "nbconvert_exporter": "python",
   "pygments_lexer": "ipython3",
   "version": "3.8.12"
  }
 },
 "nbformat": 4,
 "nbformat_minor": 5
}
