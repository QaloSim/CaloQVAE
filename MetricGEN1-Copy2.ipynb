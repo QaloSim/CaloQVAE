{
 "cells": [
  {
   "cell_type": "code",
   "execution_count": 1,
   "id": "f9eb3271-2792-451c-9521-31913d888159",
   "metadata": {
    "editable": true,
    "slideshow": {
     "slide_type": ""
    },
    "tags": []
   },
   "outputs": [
    {
     "name": "stdout",
     "output_type": "stream",
     "text": [
      "env: CUDA_DEVICE_ORDER=PCI_BUS_ID\n",
      "env: DWAVE_API_TOKEN=4Fq8-98e991a786ff04f4f4b6ab5466629411358ce418\n",
      "Fri Apr  4 03:02:33 2025       \n",
      "+-----------------------------------------------------------------------------------------+\n",
      "| NVIDIA-SMI 560.35.03              Driver Version: 560.35.03      CUDA Version: 12.6     |\n",
      "|-----------------------------------------+------------------------+----------------------+\n",
      "| GPU  Name                 Persistence-M | Bus-Id          Disp.A | Volatile Uncorr. ECC |\n",
      "| Fan  Temp   Perf          Pwr:Usage/Cap |           Memory-Usage | GPU-Util  Compute M. |\n",
      "|                                         |                        |               MIG M. |\n",
      "|=========================================+========================+======================|\n",
      "|   0  NVIDIA RTX A6000               Off |   00000000:1B:00.0 Off |                  Off |\n",
      "| 30%   60C    P2            124W /  300W |   37268MiB /  49140MiB |    100%      Default |\n",
      "|                                         |                        |                  N/A |\n",
      "+-----------------------------------------+------------------------+----------------------+\n",
      "|   1  NVIDIA RTX A6000               Off |   00000000:1C:00.0 Off |                  Off |\n",
      "| 30%   58C    P2            131W /  300W |   47320MiB /  49140MiB |     36%      Default |\n",
      "|                                         |                        |                  N/A |\n",
      "+-----------------------------------------+------------------------+----------------------+\n",
      "|   2  NVIDIA RTX A6000               Off |   00000000:4F:00.0 Off |                  Off |\n",
      "| 30%   32C    P8             20W /  300W |   28172MiB /  49140MiB |      0%      Default |\n",
      "|                                         |                        |                  N/A |\n",
      "+-----------------------------------------+------------------------+----------------------+\n",
      "|   3  NVIDIA RTX A6000               Off |   00000000:50:00.0 Off |                  Off |\n",
      "| 30%   32C    P8             23W /  300W |       4MiB /  49140MiB |      0%      Default |\n",
      "|                                         |                        |                  N/A |\n",
      "+-----------------------------------------+------------------------+----------------------+\n",
      "|   4  NVIDIA RTX A6000               Off |   00000000:9C:00.0 Off |                  Off |\n",
      "| 30%   28C    P8             26W /  300W |       5MiB /  49140MiB |      0%      Default |\n",
      "|                                         |                        |                  N/A |\n",
      "+-----------------------------------------+------------------------+----------------------+\n",
      "|   5  NVIDIA RTX A6000               Off |   00000000:9D:00.0 Off |                  Off |\n",
      "| 30%   24C    P8             26W /  300W |       5MiB /  49140MiB |      0%      Default |\n",
      "|                                         |                        |                  N/A |\n",
      "+-----------------------------------------+------------------------+----------------------+\n",
      "                                                                                         \n",
      "+-----------------------------------------------------------------------------------------+\n",
      "| Processes:                                                                              |\n",
      "|  GPU   GI   CI        PID   Type   Process name                              GPU Memory |\n",
      "|        ID   ID                                                               Usage      |\n",
      "|=========================================================================================|\n",
      "|    0   N/A  N/A   2652107      C   /usr/bin/python                              9252MiB |\n",
      "|    0   N/A  N/A   2950460      C   python                                      28000MiB |\n",
      "|    1   N/A  N/A   2955450      C   python                                      47310MiB |\n",
      "|    2   N/A  N/A   3218887      C   python                                      28162MiB |\n",
      "+-----------------------------------------------------------------------------------------+\n"
     ]
    }
   ],
   "source": [
    "%env CUDA_DEVICE_ORDER=PCI_BUS_ID\n",
    "# %env CUDA_VISIBLE_DEVICES=5\n",
    "%env DWAVE_API_TOKEN=4Fq8-98e991a786ff04f4f4b6ab5466629411358ce418\n",
    "%config InlineBackend.figure_format = 'retina'\n",
    "!nvidia-smi"
   ]
  },
  {
   "cell_type": "code",
   "execution_count": 2,
   "id": "1e488924-e8a9-4b32-945f-a1ef23807788",
   "metadata": {},
   "outputs": [
    {
     "name": "stderr",
     "output_type": "stream",
     "text": [
      "\u001b[1m[03:02:38.397]\u001b[0m \u001b[1;95mINFO \u001b[1;0m  \u001b[1mCaloQVAE                                          \u001b[0mWillkommen!\n",
      "\u001b[1m[03:02:38.399]\u001b[0m \u001b[1;95mINFO \u001b[1;0m  \u001b[1mCaloQVAE                                          \u001b[0mLoading configuration.\n",
      "\u001b[1m[03:02:39.933]\u001b[0m \u001b[1;95mINFO \u001b[1;0m  \u001b[1mnumexpr.utils                                     \u001b[0mNote: detected 96 virtual cores but NumExpr set to maximum of 64, check \"NUMEXPR_MAX_THREADS\" environment variable.\n",
      "\u001b[1m[03:02:39.935]\u001b[0m \u001b[1;95mINFO \u001b[1;0m  \u001b[1mnumexpr.utils                                     \u001b[0mNote: NumExpr detected 96 cores but \"NUMEXPR_MAX_THREADS\" not set, so enforcing safe limit of 8.\n",
      "\u001b[1m[03:02:39.936]\u001b[0m \u001b[1;95mINFO \u001b[1;0m  \u001b[1mnumexpr.utils                                     \u001b[0mNumExpr defaulting to 8 threads.\n",
      "2025-04-04 03:02:40,660 dwave.cloud \u001b[1;95mINFO \u001b[1;0m MainThread Log level for 'dwave.cloud' namespace set to 0\n",
      "\u001b[1m[03:02:40.660]\u001b[0m \u001b[1;95mINFO \u001b[1;0m  \u001b[1mdwave.cloud                                       \u001b[0mLog level for 'dwave.cloud' namespace set to 0\n"
     ]
    }
   ],
   "source": [
    "import hydra\n",
    "from hydra.utils import instantiate\n",
    "from hydra import initialize, compose\n",
    "\n",
    "import sys\n",
    "import os\n",
    "import getpass\n",
    "\n",
    "os.chdir('/home/' + getpass.getuser() + '/CaloQVAE/')\n",
    "sys.path.insert(1, '/home/' + getpass.getuser() + '/CaloQVAE/')\n",
    "\n",
    "#external libraries\n",
    "import os\n",
    "import pickle\n",
    "import datetime\n",
    "import sys\n",
    "import yaml\n",
    "import json\n",
    "\n",
    "import torch.optim as optim\n",
    "import torch\n",
    "from torch import nn\n",
    "from torch.nn.functional import binary_cross_entropy_with_logits\n",
    "torch.manual_seed(32)\n",
    "import numpy as np\n",
    "np.random.seed(32)\n",
    "import matplotlib.pyplot as plt\n",
    "import hydra\n",
    "from hydra.utils import instantiate\n",
    "\n",
    "from omegaconf import OmegaConf\n",
    "\n",
    "# PyTorch imports\n",
    "from torch import device, load, save\n",
    "from torch.nn import DataParallel\n",
    "from torch.cuda import is_available\n",
    "\n",
    "# Add the path to the parent directory to augment search for module\n",
    "sys.path.append(os.getcwd())\n",
    "    \n",
    "# Weights and Biases\n",
    "import wandb\n",
    "\n",
    "#self defined imports\n",
    "from CaloQVAE import logging\n",
    "logger = logging.getLogger(__name__)\n",
    "\n",
    "from data.dataManager import DataManager\n",
    "from utils.plotting.plotProvider import PlotProvider\n",
    "from engine.engine import Engine\n",
    "from models.modelCreator import ModelCreator\n",
    "\n",
    "from utils.plotting.HighLevelFeatures import HighLevelFeatures as HLF\n",
    "HLF_1_photons = HLF('photon', filename='/fast_scratch_1/caloqvae/data/atlas/binning_dataset_1_photons.xml', wandb=False)\n",
    "HLF_1_pions = HLF('pion', filename='/fast_scratch_1/caloqvae/data/atlas/binning_dataset_1_pions.xml', wandb=False)\n",
    "HLF_1_electron = HLF('electron', filename='/fast_scratch_1/caloqvae/data/atlas_dataset2and3/binning_dataset_2.xml', wandb=False)"
   ]
  },
  {
   "cell_type": "code",
   "execution_count": 3,
   "id": "d2cc651e-7be4-4d2f-b946-9ed6f1e83237",
   "metadata": {},
   "outputs": [
    {
     "name": "stderr",
     "output_type": "stream",
     "text": [
      "/usr/local/lib/python3.10/dist-packages/hydra/_internal/defaults_list.py:251: UserWarning: In 'config.yaml': Defaults list is missing `_self_`. See https://hydra.cc/docs/1.2/upgrades/1.0_to_1.1/default_composition_order for more information\n",
      "  warnings.warn(msg, UserWarning)\n",
      "\u001b[1m[03:02:43.490]\u001b[0m \u001b[1;95mINFO \u001b[1;0m  \u001b[1mdata.dataManager                                  \u001b[0mLoading Data\n",
      "\u001b[1m[03:03:05.900]\u001b[0m \u001b[1;95mINFO \u001b[1;0m  \u001b[1mdata.dataManager                                  \u001b[0m<torch.utils.data.dataloader.DataLoader object at 0x7fc941f69b70>: 80000 events, 625 batches\n",
      "\u001b[1m[03:03:05.903]\u001b[0m \u001b[1;95mINFO \u001b[1;0m  \u001b[1mdata.dataManager                                  \u001b[0m<torch.utils.data.dataloader.DataLoader object at 0x7fca0079fee0>: 10000 events, 10 batches\n",
      "\u001b[1m[03:03:05.904]\u001b[0m \u001b[1;95mINFO \u001b[1;0m  \u001b[1mdata.dataManager                                  \u001b[0m<torch.utils.data.dataloader.DataLoader object at 0x7fc9ff0c5390>: 10000 events, 10 batches\n",
      "\u001b[1m[03:03:08.241]\u001b[0m \u001b[1;95mINFO \u001b[1;0m  \u001b[1mmodels.modelCreator                               \u001b[0mInitialising Model Type AtlasConditionalQVAE3DHD\n",
      "2025-04-04 03:03:08,253 dwave.cloud.client.base \u001b[1;95mINFO \u001b[1;0m MainThread Fetching definitions of all available solvers\n",
      "\u001b[1m[03:03:08.253]\u001b[0m \u001b[1;95mINFO \u001b[1;0m  \u001b[1mdwave.cloud.client.base                           \u001b[0mFetching definitions of all available solvers\n",
      "2025-04-04 03:03:09,771 dwave.cloud.client.base \u001b[1;95mINFO \u001b[1;0m MainThread Received solver data for 8 solver(s).\n",
      "\u001b[1m[03:03:09.771]\u001b[0m \u001b[1;95mINFO \u001b[1;0m  \u001b[1mdwave.cloud.client.base                           \u001b[0mReceived solver data for 8 solver(s).\n",
      "2025-04-04 03:03:09,801 dwave.cloud.client.base \u001b[1;95mINFO \u001b[1;0m MainThread Adding solver StructuredSolver(id='Advantage_system4.1')\n",
      "\u001b[1m[03:03:09.801]\u001b[0m \u001b[1;95mINFO \u001b[1;0m  \u001b[1mdwave.cloud.client.base                           \u001b[0mAdding solver StructuredSolver(id='Advantage_system4.1')\n",
      "2025-04-04 03:03:09,837 dwave.cloud.client.base \u001b[1;95mINFO \u001b[1;0m MainThread Adding solver StructuredSolver(id='Advantage_system6.4')\n",
      "\u001b[1m[03:03:09.837]\u001b[0m \u001b[1;95mINFO \u001b[1;0m  \u001b[1mdwave.cloud.client.base                           \u001b[0mAdding solver StructuredSolver(id='Advantage_system6.4')\n",
      "2025-04-04 03:03:09,855 dwave.cloud.client.base \u001b[1;95mINFO \u001b[1;0m MainThread Adding solver StructuredSolver(id='Advantage2_prototype2.6')\n",
      "\u001b[1m[03:03:09.855]\u001b[0m \u001b[1;95mINFO \u001b[1;0m  \u001b[1mdwave.cloud.client.base                           \u001b[0mAdding solver StructuredSolver(id='Advantage2_prototype2.6')\n",
      "2025-04-04 03:03:09,884 dwave.cloud.client.base \u001b[1;95mINFO \u001b[1;0m MainThread Adding solver StructuredSolver(id='Advantage_system7.1')\n",
      "\u001b[1m[03:03:09.884]\u001b[0m \u001b[1;95mINFO \u001b[1;0m  \u001b[1mdwave.cloud.client.base                           \u001b[0mAdding solver StructuredSolver(id='Advantage_system7.1')\n",
      "2025-04-04 03:03:09,951 dwave.cloud.client.base \u001b[1;95mINFO \u001b[1;0m MainThread Fetching definitions of all available solvers\n",
      "\u001b[1m[03:03:09.951]\u001b[0m \u001b[1;95mINFO \u001b[1;0m  \u001b[1mdwave.cloud.client.base                           \u001b[0mFetching definitions of all available solvers\n",
      "2025-04-04 03:03:11,383 dwave.cloud.client.base \u001b[1;95mINFO \u001b[1;0m MainThread Received solver data for 8 solver(s).\n",
      "\u001b[1m[03:03:11.383]\u001b[0m \u001b[1;95mINFO \u001b[1;0m  \u001b[1mdwave.cloud.client.base                           \u001b[0mReceived solver data for 8 solver(s).\n",
      "2025-04-04 03:03:11,415 dwave.cloud.client.base \u001b[1;95mINFO \u001b[1;0m MainThread Adding solver StructuredSolver(id='Advantage_system4.1')\n",
      "\u001b[1m[03:03:11.415]\u001b[0m \u001b[1;95mINFO \u001b[1;0m  \u001b[1mdwave.cloud.client.base                           \u001b[0mAdding solver StructuredSolver(id='Advantage_system4.1')\n",
      "2025-04-04 03:03:11,452 dwave.cloud.client.base \u001b[1;95mINFO \u001b[1;0m MainThread Adding solver StructuredSolver(id='Advantage_system6.4')\n",
      "\u001b[1m[03:03:11.452]\u001b[0m \u001b[1;95mINFO \u001b[1;0m  \u001b[1mdwave.cloud.client.base                           \u001b[0mAdding solver StructuredSolver(id='Advantage_system6.4')\n",
      "2025-04-04 03:03:11,468 dwave.cloud.client.base \u001b[1;95mINFO \u001b[1;0m MainThread Adding solver StructuredSolver(id='Advantage2_prototype2.6')\n",
      "\u001b[1m[03:03:11.468]\u001b[0m \u001b[1;95mINFO \u001b[1;0m  \u001b[1mdwave.cloud.client.base                           \u001b[0mAdding solver StructuredSolver(id='Advantage2_prototype2.6')\n",
      "2025-04-04 03:03:11,498 dwave.cloud.client.base \u001b[1;95mINFO \u001b[1;0m MainThread Adding solver StructuredSolver(id='Advantage_system7.1')\n",
      "\u001b[1m[03:03:11.498]\u001b[0m \u001b[1;95mINFO \u001b[1;0m  \u001b[1mdwave.cloud.client.base                           \u001b[0mAdding solver StructuredSolver(id='Advantage_system7.1')\n",
      "\u001b[1m[03:03:11.724]\u001b[0m \u001b[1;95mINFO \u001b[1;0m  \u001b[1mmodels.autoencoders.AtlasConditionalQVAE3DHD      \u001b[0mGumBoltAtlasCRBMCNN::decoder SmallPBHDMIRRORv1\n"
     ]
    },
    {
     "name": "stdout",
     "output_type": "stream",
     "text": [
      "Initializing NetworkV3\n",
      "Layer Inputs:  [1208, 3368, 3368, 3368]\n",
      "Layer Outputs:  [2160, 2160, 2160, 6480]\n",
      "Raw Layer Indices:  [0, 2160, 2160, 2160, 6480]\n",
      "Initializing NetworkV3\n",
      "Initializing NetworkV3\n",
      "Initializing NetworkV3\n",
      "Initializing NetworkV3\n"
     ]
    }
   ],
   "source": [
    "hydra.core.global_hydra.GlobalHydra.instance().clear()\n",
    "initialize(version_base=None, config_path=\"configs\")\n",
    "# config=compose(config_name=\"config.yaml\")\n",
    "config=compose(config_name=\"config.yaml\")\n",
    "config.model.n_layers_per_subdec = 15\n",
    "wandb.init(project=\"caloqvae\", entity=\"qvae\", config=config, mode='disabled')\n",
    "modelCreator = ModelCreator(cfg=config)\n",
    "dataMgr = DataManager(cfg=config)\n",
    "#initialise data loaders\n",
    "dataMgr.init_dataLoaders()\n",
    "#run pre processing: get/set input dimensions and mean of train dataset\n",
    "dataMgr.pre_processing()\n",
    "\n",
    "if config.model.activation_fct.lower()==\"relu\":\n",
    "    modelCreator.default_activation_fct=torch.nn.ReLU()\n",
    "elif config.model.activation_fct.lower()==\"tanh\":\n",
    "    modelCreator.default_activation_fct=torch.nn.Tanh()\n",
    "else:\n",
    "    logger.warning(\"Setting identity as default activation fct\")\n",
    "    modelCreator.default_activation_fct=torch.nn.Identity()\n",
    "\n",
    "#instantiate the chosen model\n",
    "#loads from file \n",
    "model=modelCreator.init_model(dataMgr=dataMgr)\n",
    "\n",
    "#create the NN infrastructure\n",
    "model.create_networks()"
   ]
  },
  {
   "cell_type": "code",
   "execution_count": 4,
   "id": "fa48232f-fbb0-4fbc-aa36-6d2dd59c90e1",
   "metadata": {},
   "outputs": [
    {
     "name": "stderr",
     "output_type": "stream",
     "text": [
      "\u001b[1m[03:03:12.431]\u001b[0m \u001b[1;95mINFO \u001b[1;0m  \u001b[1mwandb                                             \u001b[0mWatching\n",
      "/home/luian1/.local/lib/python3.10/site-packages/coffea/util.py:154: FutureWarning: In coffea version v0.8.0 (target date: 31 Dec 2022), this will be an error.\n",
      "(Set coffea.deprecations_as_errors = True to get a stack trace now.)\n",
      "ImportError: coffea.hist is deprecated\n",
      "  warnings.warn(message, FutureWarning)\n",
      "\u001b[1m[03:03:13.098]\u001b[0m \u001b[1;95mINFO \u001b[1;0m  \u001b[1mengine.engineAtlas                                \u001b[0mSetting up engine Atlas.\n",
      "\u001b[1m[03:03:13.099]\u001b[0m \u001b[1;95mINFO \u001b[1;0m  \u001b[1mengine.engineCaloV3                               \u001b[0mSetting up engine Calo.\n",
      "\u001b[1m[03:03:13.099]\u001b[0m \u001b[1;95mINFO \u001b[1;0m  \u001b[1mengine.engine                                     \u001b[0mSetting up default engine.\n"
     ]
    }
   ],
   "source": [
    "# dev = torch.device(\"cuda:0\")\n",
    "dev = \"cuda:{0}\".format(config.gpu_list[0])\n",
    "wandb.watch(model)\n",
    "engine=instantiate(config.engine, config)\n",
    "engine._config=config\n",
    "#add dataMgr instance to engine namespace\n",
    "engine.data_mgr=dataMgr\n",
    "#add device instance to engine namespace\n",
    "engine.device=dev    \n",
    "#instantiate and register optimisation algorithm\n",
    "engine.optimiser = torch.optim.Adam(model.parameters(),\n",
    "                                    lr=config.engine.learning_rate)\n",
    "#add the model instance to the engine namespace\n",
    "engine.model = model\n",
    "# add the modelCreator instance to engine namespace\n",
    "engine.model_creator = modelCreator\n",
    "engine.model = engine.model.to(dev)"
   ]
  },
  {
   "cell_type": "code",
   "execution_count": 5,
   "id": "6e8ec5c9-c503-481c-b951-59a5bb0fed0a",
   "metadata": {},
   "outputs": [
    {
     "name": "stderr",
     "output_type": "stream",
     "text": [
      "\u001b[1m[03:03:33.166]\u001b[0m \u001b[1;95mINFO \u001b[1;0m  \u001b[1mdata.dataManager                                  \u001b[0m<torch.utils.data.dataloader.DataLoader object at 0x7fc89c32b790>: 80000 events, 625 batches\n",
      "\u001b[1m[03:03:33.167]\u001b[0m \u001b[1;95mINFO \u001b[1;0m  \u001b[1mdata.dataManager                                  \u001b[0m<torch.utils.data.dataloader.DataLoader object at 0x7fc89c32b730>: 10000 events, 10 batches\n",
      "\u001b[1m[03:03:33.168]\u001b[0m \u001b[1;95mINFO \u001b[1;0m  \u001b[1mdata.dataManager                                  \u001b[0m<torch.utils.data.dataloader.DataLoader object at 0x7fc89c32b8e0>: 10000 events, 10 batches\n"
     ]
    }
   ],
   "source": [
    "train_loader,test_loader,val_loader = engine.data_mgr.create_dataLoader()"
   ]
  },
  {
   "cell_type": "code",
   "execution_count": 6,
   "id": "27758225-2979-4ea5-a062-c7d002a05c03",
   "metadata": {},
   "outputs": [],
   "source": [
    "def load_state(model, run_path, device):\n",
    "        model_loc = run_path\n",
    "        \n",
    "        # Open a file in read-binary mode\n",
    "        with open(model_loc, 'rb') as f:\n",
    "            # Interpret the file using torch.load()\n",
    "            checkpoint=torch.load(f, map_location=device)\n",
    "            \n",
    "            local_module_keys=list(model._modules.keys())\n",
    "            print(local_module_keys)\n",
    "            for module in checkpoint.keys():\n",
    "                if module in local_module_keys:\n",
    "                    print(\"Loading weights for module = \", module)\n",
    "                    getattr(model, module).load_state_dict(checkpoint[module])\n",
    "\n",
    "import sys\n",
    "sys.path.append('/path/to/project')\n",
    "\n",
    "import utils.plotting.HighLevelFeatures as HLF\n",
    "import h5py\n",
    "from ipynb.fs.full.utils.plotting.HEPMetrics import get_fpd_kpd_metrics"
   ]
  },
  {
   "cell_type": "code",
   "execution_count": 7,
   "id": "b71072b8-1ccb-4c79-aaad-c7dcb89029f7",
   "metadata": {},
   "outputs": [],
   "source": [
    "def search_HEPMetric(path_head, model_name, start_epoch, end_epoch, epoch_int):\n",
    "    en_list = []\n",
    "    fpd_recon, fpd_sample = [], []\n",
    "    kpd_recon, kpd_sample = [], []\n",
    "    hlf, ref_hlf = None, None\n",
    "    for en in range(start_epoch, end_epoch, epoch_int):\n",
    "        run_path = path_head + str(en) + \".pth\"\n",
    "        modelname = model_name\n",
    "        datascaled = 'reduced'\n",
    "        open_path = path_head.replace(path_head.split('/')[-1], '') + \"config.yaml\"\n",
    "        with open(open_path, 'r') as file:\n",
    "            model_config = yaml.safe_load(file)\n",
    "            R = json.loads(model_config[\"_content\"][\"value\"]['engine'].replace(\"'\", \"\\\"\"))['r_param']\n",
    "            reducedata = True if model_config[\"_content\"][\"value\"][\"reducedata\"] == 'True' else False\n",
    "            scaled=False\n",
    "            \n",
    "        arch = config['model']['model_type']\n",
    "        part = config['data']['particle_type']\n",
    "        modelCreator.load_state(run_path, dev)\n",
    "        engine.model.eval();\n",
    "\n",
    "        # get the samples\n",
    "        xtarget_samples = []\n",
    "        xrecon_samples = []\n",
    "        xgen_samples = []\n",
    "        xgen_samples_qpu = []\n",
    "        n_samples4_qpu = 200\n",
    "        \n",
    "        # xrecon_samples_2 = []\n",
    "        \n",
    "        # labelstarget_samples = []\n",
    "        # labelsrecon_samples = []\n",
    "        entarget_samples = []\n",
    "        with torch.no_grad():\n",
    "            for xx in train_loader:\n",
    "            # for xx in train_loader:\n",
    "                in_data, true_energy, in_data_flat = engine._preprocess(xx[0],xx[1])\n",
    "                ###############################################\n",
    "                # true_energy = true_energy[:n_samples4_qpu,:]\n",
    "                # in_data = in_data[:n_samples4_qpu,:]\n",
    "                ##############################################\n",
    "                # print(in_data.shape)\n",
    "                if reducedata:\n",
    "                    in_data = engine._reduce(in_data, true_energy, R=R)\n",
    "                fwd_output = engine.model((in_data, true_energy), False)\n",
    "                if reducedata:\n",
    "                    in_data = engine._reduceinv(in_data, true_energy, R=R)\n",
    "                    recon_data = engine._reduceinv(fwd_output.output_activations, true_energy, R=R)\n",
    "                    engine._model.sampler._batch_size = true_energy.shape[0]\n",
    "                    if True:\n",
    "                        sample_energies, sample_data = engine._model.generate_samples_cond(num_samples=true_energy.shape[0], true_energy=true_energy, measure_time=True)\n",
    "                        # sample_energies_qpu, sample_data_qpu = engine.model.generate_samples_qpu_cond(true_energy=true_energy, num_samples=1, thrsh=30, beta=1/beta0)\n",
    "                    else:\n",
    "                        sample_energies, sample_data = engine._model.generate_samples(num_samples=true_energy.shape[0], true_energy=true_energy, measure_time=True)\n",
    "                        # sample_energies_qpu, sample_data_qpu = engine._model.generate_samples_qpu(num_samples=true_energy.shape[0], true_energy=true_energy, measure_time=True, beta=1/beta0)\n",
    "                    engine._model.sampler._batch_size = engine._config.engine.rbm_batch_size\n",
    "                    sample_data = engine._reduceinv(sample_data, sample_energies, R=R)\n",
    "                    # sample_data_qpu = engine._reduceinv(sample_data_qpu, sample_energies_qpu, R=R)\n",
    "                elif scaled:\n",
    "                    in_data = torch.tensor(engine._data_mgr.inv_transform(in_data.detach().cpu().numpy()))\n",
    "                    recon_data = torch.tensor(engine._data_mgr.inv_transform(fwd_output.output_activations.detach().cpu().numpy()))\n",
    "                    # recon_data_2 = torch.tensor(engine._data_mgr.inv_transform(fwd_just_act.detach().cpu().numpy()))\n",
    "                    # recon_data_2 = torch.tensor(engine._data_mgr.inv_transform(fwd_energy_shift.detach().cpu().numpy()))\n",
    "                    engine._model.sampler._batch_size = true_energy.shape[0]\n",
    "                    \n",
    "                    if True:\n",
    "                        sample_energies, sample_data = engine._model.generate_samples_cond(num_samples=true_energy.shape[0], true_energy=true_energy, measure_time=True)\n",
    "                        # sample_energies_qpu, sample_data_qpu = engine.model.generate_samples_qpu_cond(true_energy=true_energy[:100,:], num_samples=1, thrsh=30, beta=1/beta0)\n",
    "                    else:\n",
    "                        sample_energies, sample_data = engine._model.generate_samples(num_samples=true_energy.shape[0], true_energy=true_energy, measure_time=True)\n",
    "                        # sample_energies_qpu, sample_data_qpu = engine._model.generate_samples_qpu(num_samples=true_energy.shape[0], true_energy=true_energy, measure_time=True, beta=1/beta0)\n",
    "                    engine._model.sampler._batch_size = engine._config.engine.rbm_batch_size\n",
    "                    sample_data = torch.tensor(engine._data_mgr.inv_transform(sample_data.detach().cpu().numpy()))\n",
    "                    # sample_data_qpu = torch.tensor(engine._data_mgr.inv_transform(sample_data_qpu.detach().cpu().numpy()))\n",
    "                else:\n",
    "                    in_data = in_data.detach().cpu()*1000\n",
    "                    recon_data = fwd_output.output_activations.detach().cpu()*1000\n",
    "                    engine._model.sampler._batch_size = true_energy.shape[0]\n",
    "                    sample_energies, sample_data = engine._model.generate_samples(num_samples=true_energy.shape[0], true_energy=true_energy)\n",
    "                    engine._model.sampler._batch_size = engine._config.engine.rbm_batch_size\n",
    "                    # sample_energies, sample_data = engine._model.generate_samples(num_samples=2048)\n",
    "                    sample_data = sample_data.detach().cpu()*1000\n",
    "        \n",
    "        \n",
    "                xtarget_samples.append(in_data.detach().cpu())\n",
    "                xrecon_samples.append( recon_data.detach().cpu())\n",
    "                xgen_samples.append( sample_data.detach().cpu())\n",
    "                # xgen_samples_qpu.append( sample_data_qpu.detach().cpu())\n",
    "                entarget_samples.append(true_energy.detach().cpu())\n",
    "        \n",
    "                # xrecon_samples_2.append( recon_data_2.detach().cpu())\n",
    "            for xx in val_loader:\n",
    "            # for xx in train_loader:\n",
    "                in_data, true_energy, in_data_flat = engine._preprocess(xx[0],xx[1])\n",
    "                ###############################################\n",
    "                # true_energy = true_energy[:n_samples4_qpu,:]\n",
    "                # in_data = in_data[:n_samples4_qpu,:]\n",
    "                ##############################################\n",
    "                # print(in_data.shape)\n",
    "                if reducedata:\n",
    "                    in_data = engine._reduce(in_data, true_energy, R=R)\n",
    "                fwd_output = engine.model((in_data, true_energy), False)\n",
    "                if reducedata:\n",
    "                    in_data = engine._reduceinv(in_data, true_energy, R=R)\n",
    "                    recon_data = engine._reduceinv(fwd_output.output_activations, true_energy, R=R)\n",
    "                    engine._model.sampler._batch_size = true_energy.shape[0]\n",
    "                    if True:\n",
    "                        sample_energies, sample_data = engine._model.generate_samples_cond(num_samples=true_energy.shape[0], true_energy=true_energy, measure_time=True)\n",
    "                        # sample_energies_qpu, sample_data_qpu = engine.model.generate_samples_qpu_cond(true_energy=true_energy, num_samples=1, thrsh=30, beta=1/beta0)\n",
    "                    else:\n",
    "                        sample_energies, sample_data = engine._model.generate_samples(num_samples=true_energy.shape[0], true_energy=true_energy, measure_time=True)\n",
    "                        # sample_energies_qpu, sample_data_qpu = engine._model.generate_samples_qpu(num_samples=true_energy.shape[0], true_energy=true_energy, measure_time=True, beta=1/beta0)\n",
    "                    engine._model.sampler._batch_size = engine._config.engine.rbm_batch_size\n",
    "                    sample_data = engine._reduceinv(sample_data, sample_energies, R=R)\n",
    "                    # sample_data_qpu = engine._reduceinv(sample_data_qpu, sample_energies_qpu, R=R)\n",
    "                elif scaled:\n",
    "                    in_data = torch.tensor(engine._data_mgr.inv_transform(in_data.detach().cpu().numpy()))\n",
    "                    recon_data = torch.tensor(engine._data_mgr.inv_transform(fwd_output.output_activations.detach().cpu().numpy()))\n",
    "                    # recon_data_2 = torch.tensor(engine._data_mgr.inv_transform(fwd_just_act.detach().cpu().numpy()))\n",
    "                    # recon_data_2 = torch.tensor(engine._data_mgr.inv_transform(fwd_energy_shift.detach().cpu().numpy()))\n",
    "                    engine._model.sampler._batch_size = true_energy.shape[0]\n",
    "                    \n",
    "                    if True:\n",
    "                        sample_energies, sample_data = engine._model.generate_samples_cond(num_samples=true_energy.shape[0], true_energy=true_energy, measure_time=True)\n",
    "                        # sample_energies_qpu, sample_data_qpu = engine.model.generate_samples_qpu_cond(true_energy=true_energy[:100,:], num_samples=1, thrsh=30, beta=1/beta0)\n",
    "                    else:\n",
    "                        sample_energies, sample_data = engine._model.generate_samples(num_samples=true_energy.shape[0], true_energy=true_energy, measure_time=True)\n",
    "                        # sample_energies_qpu, sample_data_qpu = engine._model.generate_samples_qpu(num_samples=true_energy.shape[0], true_energy=true_energy, measure_time=True, beta=1/beta0)\n",
    "                    engine._model.sampler._batch_size = engine._config.engine.rbm_batch_size\n",
    "                    sample_data = torch.tensor(engine._data_mgr.inv_transform(sample_data.detach().cpu().numpy()))\n",
    "                    # sample_data_qpu = torch.tensor(engine._data_mgr.inv_transform(sample_data_qpu.detach().cpu().numpy()))\n",
    "                else:\n",
    "                    in_data = in_data.detach().cpu()*1000\n",
    "                    recon_data = fwd_output.output_activations.detach().cpu()*1000\n",
    "                    engine._model.sampler._batch_size = true_energy.shape[0]\n",
    "                    sample_energies, sample_data = engine._model.generate_samples(num_samples=true_energy.shape[0], true_energy=true_energy)\n",
    "                    engine._model.sampler._batch_size = engine._config.engine.rbm_batch_size\n",
    "                    # sample_energies, sample_data = engine._model.generate_samples(num_samples=2048)\n",
    "                    sample_data = sample_data.detach().cpu()*1000\n",
    "        \n",
    "        \n",
    "                xtarget_samples.append(in_data.detach().cpu())\n",
    "                xrecon_samples.append( recon_data.detach().cpu())\n",
    "                xgen_samples.append( sample_data.detach().cpu())\n",
    "                # xgen_samples_qpu.append( sample_data_qpu.detach().cpu())\n",
    "                entarget_samples.append(true_energy.detach().cpu())\n",
    "        \n",
    "                # xrecon_samples_2.append( recon_data_2.detach().cpu())\n",
    "            for xx in test_loader:\n",
    "            # for xx in train_loader:\n",
    "                in_data, true_energy, in_data_flat = engine._preprocess(xx[0],xx[1])\n",
    "                ###############################################\n",
    "                # true_energy = true_energy[:n_samples4_qpu,:]\n",
    "                # in_data = in_data[:n_samples4_qpu,:]\n",
    "                ##############################################\n",
    "                # print(in_data.shape)\n",
    "                if reducedata:\n",
    "                    in_data = engine._reduce(in_data, true_energy, R=R)\n",
    "                fwd_output = engine.model((in_data, true_energy), False)\n",
    "                if reducedata:\n",
    "                    in_data = engine._reduceinv(in_data, true_energy, R=R)\n",
    "                    recon_data = engine._reduceinv(fwd_output.output_activations, true_energy, R=R)\n",
    "                    engine._model.sampler._batch_size = true_energy.shape[0]\n",
    "                    if True:\n",
    "                        sample_energies, sample_data = engine._model.generate_samples_cond(num_samples=true_energy.shape[0], true_energy=true_energy, measure_time=True)\n",
    "                        # sample_energies_qpu, sample_data_qpu = engine.model.generate_samples_qpu_cond(true_energy=true_energy, num_samples=1, thrsh=30, beta=1/beta0)\n",
    "                    else:\n",
    "                        sample_energies, sample_data = engine._model.generate_samples(num_samples=true_energy.shape[0], true_energy=true_energy, measure_time=True)\n",
    "                        # sample_energies_qpu, sample_data_qpu = engine._model.generate_samples_qpu(num_samples=true_energy.shape[0], true_energy=true_energy, measure_time=True, beta=1/beta0)\n",
    "                    engine._model.sampler._batch_size = engine._config.engine.rbm_batch_size\n",
    "                    sample_data = engine._reduceinv(sample_data, sample_energies, R=R)\n",
    "                    # sample_data_qpu = engine._reduceinv(sample_data_qpu, sample_energies_qpu, R=R)\n",
    "                elif scaled:\n",
    "                    in_data = torch.tensor(engine._data_mgr.inv_transform(in_data.detach().cpu().numpy()))\n",
    "                    recon_data = torch.tensor(engine._data_mgr.inv_transform(fwd_output.output_activations.detach().cpu().numpy()))\n",
    "                    # recon_data_2 = torch.tensor(engine._data_mgr.inv_transform(fwd_just_act.detach().cpu().numpy()))\n",
    "                    # recon_data_2 = torch.tensor(engine._data_mgr.inv_transform(fwd_energy_shift.detach().cpu().numpy()))\n",
    "                    engine._model.sampler._batch_size = true_energy.shape[0]\n",
    "                    \n",
    "                    if True:\n",
    "                        sample_energies, sample_data = engine._model.generate_samples_cond(num_samples=true_energy.shape[0], true_energy=true_energy, measure_time=True)\n",
    "                        # sample_energies_qpu, sample_data_qpu = engine.model.generate_samples_qpu_cond(true_energy=true_energy[:100,:], num_samples=1, thrsh=30, beta=1/beta0)\n",
    "                    else:\n",
    "                        sample_energies, sample_data = engine._model.generate_samples(num_samples=true_energy.shape[0], true_energy=true_energy, measure_time=True)\n",
    "                        # sample_energies_qpu, sample_data_qpu = engine._model.generate_samples_qpu(num_samples=true_energy.shape[0], true_energy=true_energy, measure_time=True, beta=1/beta0)\n",
    "                    engine._model.sampler._batch_size = engine._config.engine.rbm_batch_size\n",
    "                    sample_data = torch.tensor(engine._data_mgr.inv_transform(sample_data.detach().cpu().numpy()))\n",
    "                    # sample_data_qpu = torch.tensor(engine._data_mgr.inv_transform(sample_data_qpu.detach().cpu().numpy()))\n",
    "                else:\n",
    "                    in_data = in_data.detach().cpu()*1000\n",
    "                    recon_data = fwd_output.output_activations.detach().cpu()*1000\n",
    "                    engine._model.sampler._batch_size = true_energy.shape[0]\n",
    "                    sample_energies, sample_data = engine._model.generate_samples(num_samples=true_energy.shape[0], true_energy=true_energy)\n",
    "                    engine._model.sampler._batch_size = engine._config.engine.rbm_batch_size\n",
    "                    # sample_energies, sample_data = engine._model.generate_samples(num_samples=2048)\n",
    "                    sample_data = sample_data.detach().cpu()*1000\n",
    "        \n",
    "        \n",
    "                xtarget_samples.append(in_data.detach().cpu())\n",
    "                xrecon_samples.append( recon_data.detach().cpu())\n",
    "                xgen_samples.append( sample_data.detach().cpu())\n",
    "                # xgen_samples_qpu.append( sample_data_qpu.detach().cpu())\n",
    "                entarget_samples.append(true_energy.detach().cpu())\n",
    "        \n",
    "                # xrecon_samples_2.append( recon_data_2.detach().cpu())\n",
    "            \n",
    "            \n",
    "        xtarget_samples = torch.cat(xtarget_samples, dim=0)\n",
    "        xrecon_samples = torch.cat(xrecon_samples, dim=0)\n",
    "        xgen_samples = torch.cat(xgen_samples, dim=0)\n",
    "        # xgen_samples_qpu = torch.cat(xgen_samples_qpu, dim=0)\n",
    "        entarget_samples = torch.cat(entarget_samples, dim=0)\n",
    "        \n",
    "        # xrecon_samples_2 = torch.cat(xrecon_samples_2, dim=0)\n",
    "        if en == start_epoch:\n",
    "            print(\"First epoch\")\n",
    "            hlf = HLF.HighLevelFeatures('electron', filename='/fast_scratch_1/caloqvae/data/atlas_dataset2and3/binning_dataset_2.xml', wandb=False)\n",
    "            ref_hlf = HLF.HighLevelFeatures('electron', filename='/fast_scratch_1/caloqvae/data/atlas_dataset2and3/binning_dataset_2.xml', wandb=False)\n",
    "            hlf.Einc = entarget_samples\n",
    "\n",
    "        recon_HEPMetrics = get_fpd_kpd_metrics(np.array(xtarget_samples), np.array(xrecon_samples), False, hlf, ref_hlf)\n",
    "        sample_HEPMetrics = get_fpd_kpd_metrics(np.array(xtarget_samples), np.array(xgen_samples), False, hlf, ref_hlf)\n",
    "\n",
    "        en_list.append(en)\n",
    "        fpd_recon.append(recon_HEPMetrics[0])\n",
    "        kpd_recon.append(recon_HEPMetrics[2])\n",
    "        fpd_sample.append(sample_HEPMetrics[0])\n",
    "        kpd_sample.append(sample_HEPMetrics[2])\n",
    "        print(\"Finished generating HEP Metrics for epoch \" + str(en) + \" ...\")\n",
    "    return en_list, fpd_recon, kpd_recon, fpd_sample, kpd_sample"
   ]
  },
  {
   "cell_type": "code",
   "execution_count": 8,
   "id": "e8e51624-3556-44e7-9644-7a32461e8acf",
   "metadata": {
    "editable": true,
    "slideshow": {
     "slide_type": ""
    },
    "tags": []
   },
   "outputs": [
    {
     "name": "stderr",
     "output_type": "stream",
     "text": [
      "\u001b[1m[03:03:33.687]\u001b[0m \u001b[1;95mINFO \u001b[1;0m  \u001b[1mmodels.modelCreator                               \u001b[0mLoading state\n",
      "\u001b[1m[03:03:34.069]\u001b[0m \u001b[1;95mINFO \u001b[1;0m  \u001b[1mmodels.modelCreator                               \u001b[0mLoading weights from file : /fast_scratch_1/caloqvae/luian1/wandb/run-20250326_172648-1jifk4nt/files/AtlasConditionalQVAE3DHD_atlas_default_10.pth\n"
     ]
    },
    {
     "name": "stdout",
     "output_type": "stream",
     "text": [
      "Loading weights for module =  _activation_fct\n",
      "Loading weights for module =  _bce_loss\n",
      "Loading weights for module =  _energy_activation_fct\n",
      "Loading weights for module =  _hit_activation_fct\n",
      "Loading weights for module =  _output_loss\n",
      "Loading weights for module =  _hit_loss\n",
      "Loading weights for module =  _hit_smoothing_dist_mod\n",
      "Loading weights for module =  _inference_energy_activation_fct\n",
      "Loading weights for module =  encoder\n",
      "Loading weights for module =  prior\n",
      "Loading weights for module =  decoder\n",
      "First epoch\n",
      "TESTING HELLO\n",
      "Data contains NaNs or Infs. Handling them...\n",
      "FPD (x10^3): 281.7190 ± 0.9886\n",
      "KPD (x10^3): 0.8925 ± 0.1293\n",
      "TESTING HELLO\n",
      "Data contains NaNs or Infs. Handling them...\n"
     ]
    },
    {
     "name": "stderr",
     "output_type": "stream",
     "text": [
      "\u001b[1m[03:18:42.003]\u001b[0m \u001b[1;95mINFO \u001b[1;0m  \u001b[1mmodels.modelCreator                               \u001b[0mLoading state\n"
     ]
    },
    {
     "name": "stdout",
     "output_type": "stream",
     "text": [
      "FPD (x10^3): 480.9677 ± 1.3099\n",
      "KPD (x10^3): 1.2446 ± 0.2023\n",
      "Finished generating HEP Metrics for epoch 10 ...\n"
     ]
    },
    {
     "name": "stderr",
     "output_type": "stream",
     "text": [
      "\u001b[1m[03:18:42.449]\u001b[0m \u001b[1;95mINFO \u001b[1;0m  \u001b[1mmodels.modelCreator                               \u001b[0mLoading weights from file : /fast_scratch_1/caloqvae/luian1/wandb/run-20250326_172648-1jifk4nt/files/AtlasConditionalQVAE3DHD_atlas_default_20.pth\n"
     ]
    },
    {
     "name": "stdout",
     "output_type": "stream",
     "text": [
      "Loading weights for module =  _activation_fct\n",
      "Loading weights for module =  _bce_loss\n",
      "Loading weights for module =  _energy_activation_fct\n",
      "Loading weights for module =  _hit_activation_fct\n",
      "Loading weights for module =  _output_loss\n",
      "Loading weights for module =  _hit_loss\n",
      "Loading weights for module =  _hit_smoothing_dist_mod\n",
      "Loading weights for module =  _inference_energy_activation_fct\n",
      "Loading weights for module =  encoder\n",
      "Loading weights for module =  prior\n",
      "Loading weights for module =  decoder\n",
      "TESTING HELLO\n",
      "Data contains NaNs or Infs. Handling them...\n",
      "FPD (x10^3): 276.1011 ± 3.0006\n",
      "KPD (x10^3): 1.7953 ± 0.3256\n",
      "TESTING HELLO\n",
      "Data contains NaNs or Infs. Handling them...\n"
     ]
    },
    {
     "name": "stderr",
     "output_type": "stream",
     "text": [
      "\u001b[1m[03:33:55.353]\u001b[0m \u001b[1;95mINFO \u001b[1;0m  \u001b[1mmodels.modelCreator                               \u001b[0mLoading state\n"
     ]
    },
    {
     "name": "stdout",
     "output_type": "stream",
     "text": [
      "FPD (x10^3): 371.8109 ± 2.5001\n",
      "KPD (x10^3): 1.0139 ± 0.1792\n",
      "Finished generating HEP Metrics for epoch 20 ...\n"
     ]
    },
    {
     "name": "stderr",
     "output_type": "stream",
     "text": [
      "\u001b[1m[03:33:56.052]\u001b[0m \u001b[1;95mINFO \u001b[1;0m  \u001b[1mmodels.modelCreator                               \u001b[0mLoading weights from file : /fast_scratch_1/caloqvae/luian1/wandb/run-20250326_172648-1jifk4nt/files/AtlasConditionalQVAE3DHD_atlas_default_30.pth\n"
     ]
    },
    {
     "name": "stdout",
     "output_type": "stream",
     "text": [
      "Loading weights for module =  _activation_fct\n",
      "Loading weights for module =  _bce_loss\n",
      "Loading weights for module =  _energy_activation_fct\n",
      "Loading weights for module =  _hit_activation_fct\n",
      "Loading weights for module =  _output_loss\n",
      "Loading weights for module =  _hit_loss\n",
      "Loading weights for module =  _hit_smoothing_dist_mod\n",
      "Loading weights for module =  _inference_energy_activation_fct\n",
      "Loading weights for module =  encoder\n",
      "Loading weights for module =  prior\n",
      "Loading weights for module =  decoder\n",
      "TESTING HELLO\n",
      "Data contains NaNs or Infs. Handling them...\n",
      "FPD (x10^3): 236.2391 ± 1.1413\n",
      "KPD (x10^3): 1.0430 ± 0.3626\n",
      "TESTING HELLO\n",
      "Data contains NaNs or Infs. Handling them...\n"
     ]
    },
    {
     "name": "stderr",
     "output_type": "stream",
     "text": [
      "\u001b[1m[03:49:30.803]\u001b[0m \u001b[1;95mINFO \u001b[1;0m  \u001b[1mmodels.modelCreator                               \u001b[0mLoading state\n"
     ]
    },
    {
     "name": "stdout",
     "output_type": "stream",
     "text": [
      "FPD (x10^3): 376.5017 ± 1.7648\n",
      "KPD (x10^3): 1.2325 ± 0.2424\n",
      "Finished generating HEP Metrics for epoch 30 ...\n"
     ]
    },
    {
     "name": "stderr",
     "output_type": "stream",
     "text": [
      "\u001b[1m[03:49:31.220]\u001b[0m \u001b[1;95mINFO \u001b[1;0m  \u001b[1mmodels.modelCreator                               \u001b[0mLoading weights from file : /fast_scratch_1/caloqvae/luian1/wandb/run-20250326_172648-1jifk4nt/files/AtlasConditionalQVAE3DHD_atlas_default_40.pth\n"
     ]
    },
    {
     "name": "stdout",
     "output_type": "stream",
     "text": [
      "Loading weights for module =  _activation_fct\n",
      "Loading weights for module =  _bce_loss\n",
      "Loading weights for module =  _energy_activation_fct\n",
      "Loading weights for module =  _hit_activation_fct\n",
      "Loading weights for module =  _output_loss\n",
      "Loading weights for module =  _hit_loss\n",
      "Loading weights for module =  _hit_smoothing_dist_mod\n",
      "Loading weights for module =  _inference_energy_activation_fct\n",
      "Loading weights for module =  encoder\n",
      "Loading weights for module =  prior\n",
      "Loading weights for module =  decoder\n",
      "TESTING HELLO\n",
      "Data contains NaNs or Infs. Handling them...\n",
      "FPD (x10^3): 221.0745 ± 1.0064\n",
      "KPD (x10^3): 0.9093 ± 0.1652\n",
      "TESTING HELLO\n",
      "Data contains NaNs or Infs. Handling them...\n"
     ]
    },
    {
     "name": "stderr",
     "output_type": "stream",
     "text": [
      "\u001b[1m[04:04:44.355]\u001b[0m \u001b[1;95mINFO \u001b[1;0m  \u001b[1mmodels.modelCreator                               \u001b[0mLoading state\n"
     ]
    },
    {
     "name": "stdout",
     "output_type": "stream",
     "text": [
      "FPD (x10^3): 347.9505 ± 1.9038\n",
      "KPD (x10^3): 0.8620 ± 0.0979\n",
      "Finished generating HEP Metrics for epoch 40 ...\n"
     ]
    },
    {
     "name": "stderr",
     "output_type": "stream",
     "text": [
      "\u001b[1m[04:04:44.862]\u001b[0m \u001b[1;95mINFO \u001b[1;0m  \u001b[1mmodels.modelCreator                               \u001b[0mLoading weights from file : /fast_scratch_1/caloqvae/luian1/wandb/run-20250326_172648-1jifk4nt/files/AtlasConditionalQVAE3DHD_atlas_default_50.pth\n"
     ]
    },
    {
     "name": "stdout",
     "output_type": "stream",
     "text": [
      "Loading weights for module =  _activation_fct\n",
      "Loading weights for module =  _bce_loss\n",
      "Loading weights for module =  _energy_activation_fct\n",
      "Loading weights for module =  _hit_activation_fct\n",
      "Loading weights for module =  _output_loss\n",
      "Loading weights for module =  _hit_loss\n",
      "Loading weights for module =  _hit_smoothing_dist_mod\n",
      "Loading weights for module =  _inference_energy_activation_fct\n",
      "Loading weights for module =  encoder\n",
      "Loading weights for module =  prior\n",
      "Loading weights for module =  decoder\n",
      "TESTING HELLO\n",
      "Data contains NaNs or Infs. Handling them...\n",
      "FPD (x10^3): 186.4442 ± 0.8584\n",
      "KPD (x10^3): 0.4692 ± 0.1613\n",
      "TESTING HELLO\n",
      "Data contains NaNs or Infs. Handling them...\n"
     ]
    },
    {
     "name": "stderr",
     "output_type": "stream",
     "text": [
      "\u001b[1m[04:20:04.674]\u001b[0m \u001b[1;95mINFO \u001b[1;0m  \u001b[1mmodels.modelCreator                               \u001b[0mLoading state\n"
     ]
    },
    {
     "name": "stdout",
     "output_type": "stream",
     "text": [
      "FPD (x10^3): 345.9666 ± 2.1094\n",
      "KPD (x10^3): 0.5747 ± 0.0485\n",
      "Finished generating HEP Metrics for epoch 50 ...\n"
     ]
    },
    {
     "name": "stderr",
     "output_type": "stream",
     "text": [
      "\u001b[1m[04:20:05.039]\u001b[0m \u001b[1;95mINFO \u001b[1;0m  \u001b[1mmodels.modelCreator                               \u001b[0mLoading weights from file : /fast_scratch_1/caloqvae/luian1/wandb/run-20250326_172648-1jifk4nt/files/AtlasConditionalQVAE3DHD_atlas_default_60.pth\n"
     ]
    },
    {
     "name": "stdout",
     "output_type": "stream",
     "text": [
      "Loading weights for module =  _activation_fct\n",
      "Loading weights for module =  _bce_loss\n",
      "Loading weights for module =  _energy_activation_fct\n",
      "Loading weights for module =  _hit_activation_fct\n",
      "Loading weights for module =  _output_loss\n",
      "Loading weights for module =  _hit_loss\n",
      "Loading weights for module =  _hit_smoothing_dist_mod\n",
      "Loading weights for module =  _inference_energy_activation_fct\n",
      "Loading weights for module =  encoder\n",
      "Loading weights for module =  prior\n",
      "Loading weights for module =  decoder\n",
      "TESTING HELLO\n",
      "Data contains NaNs or Infs. Handling them...\n",
      "FPD (x10^3): 203.0007 ± 2.1686\n",
      "KPD (x10^3): 0.9736 ± 0.1041\n",
      "TESTING HELLO\n",
      "Data contains NaNs or Infs. Handling them...\n"
     ]
    },
    {
     "name": "stderr",
     "output_type": "stream",
     "text": [
      "\u001b[1m[04:36:01.767]\u001b[0m \u001b[1;95mINFO \u001b[1;0m  \u001b[1mmodels.modelCreator                               \u001b[0mLoading state\n"
     ]
    },
    {
     "name": "stdout",
     "output_type": "stream",
     "text": [
      "FPD (x10^3): 447.1062 ± 3.1354\n",
      "KPD (x10^3): 1.3796 ± 0.1824\n",
      "Finished generating HEP Metrics for epoch 60 ...\n"
     ]
    },
    {
     "name": "stderr",
     "output_type": "stream",
     "text": [
      "\u001b[1m[04:36:02.224]\u001b[0m \u001b[1;95mINFO \u001b[1;0m  \u001b[1mmodels.modelCreator                               \u001b[0mLoading weights from file : /fast_scratch_1/caloqvae/luian1/wandb/run-20250326_172648-1jifk4nt/files/AtlasConditionalQVAE3DHD_atlas_default_70.pth\n"
     ]
    },
    {
     "name": "stdout",
     "output_type": "stream",
     "text": [
      "Loading weights for module =  _activation_fct\n",
      "Loading weights for module =  _bce_loss\n",
      "Loading weights for module =  _energy_activation_fct\n",
      "Loading weights for module =  _hit_activation_fct\n",
      "Loading weights for module =  _output_loss\n",
      "Loading weights for module =  _hit_loss\n",
      "Loading weights for module =  _hit_smoothing_dist_mod\n",
      "Loading weights for module =  _inference_energy_activation_fct\n",
      "Loading weights for module =  encoder\n",
      "Loading weights for module =  prior\n",
      "Loading weights for module =  decoder\n",
      "TESTING HELLO\n",
      "Data contains NaNs or Infs. Handling them...\n",
      "FPD (x10^3): 212.4961 ± 2.5826\n",
      "KPD (x10^3): 1.6467 ± 0.4304\n",
      "TESTING HELLO\n",
      "Data contains NaNs or Infs. Handling them...\n"
     ]
    },
    {
     "name": "stderr",
     "output_type": "stream",
     "text": [
      "\u001b[1m[04:51:30.636]\u001b[0m \u001b[1;95mINFO \u001b[1;0m  \u001b[1mmodels.modelCreator                               \u001b[0mLoading state\n"
     ]
    },
    {
     "name": "stdout",
     "output_type": "stream",
     "text": [
      "FPD (x10^3): 408.5055 ± 2.2809\n",
      "KPD (x10^3): 1.4674 ± 0.4328\n",
      "Finished generating HEP Metrics for epoch 70 ...\n"
     ]
    },
    {
     "name": "stderr",
     "output_type": "stream",
     "text": [
      "\u001b[1m[04:51:30.967]\u001b[0m \u001b[1;95mINFO \u001b[1;0m  \u001b[1mmodels.modelCreator                               \u001b[0mLoading weights from file : /fast_scratch_1/caloqvae/luian1/wandb/run-20250326_172648-1jifk4nt/files/AtlasConditionalQVAE3DHD_atlas_default_80.pth\n"
     ]
    },
    {
     "name": "stdout",
     "output_type": "stream",
     "text": [
      "Loading weights for module =  _activation_fct\n",
      "Loading weights for module =  _bce_loss\n",
      "Loading weights for module =  _energy_activation_fct\n",
      "Loading weights for module =  _hit_activation_fct\n",
      "Loading weights for module =  _output_loss\n",
      "Loading weights for module =  _hit_loss\n",
      "Loading weights for module =  _hit_smoothing_dist_mod\n",
      "Loading weights for module =  _inference_energy_activation_fct\n",
      "Loading weights for module =  encoder\n",
      "Loading weights for module =  prior\n",
      "Loading weights for module =  decoder\n",
      "TESTING HELLO\n",
      "Data contains NaNs or Infs. Handling them...\n",
      "FPD (x10^3): 163.9223 ± 1.2297\n",
      "KPD (x10^3): 0.5485 ± 0.1941\n",
      "TESTING HELLO\n",
      "Data contains NaNs or Infs. Handling them...\n"
     ]
    },
    {
     "name": "stderr",
     "output_type": "stream",
     "text": [
      "\u001b[1m[05:07:19.968]\u001b[0m \u001b[1;95mINFO \u001b[1;0m  \u001b[1mmodels.modelCreator                               \u001b[0mLoading state\n"
     ]
    },
    {
     "name": "stdout",
     "output_type": "stream",
     "text": [
      "FPD (x10^3): 380.3159 ± 2.0602\n",
      "KPD (x10^3): 0.7810 ± 0.0842\n",
      "Finished generating HEP Metrics for epoch 80 ...\n"
     ]
    },
    {
     "name": "stderr",
     "output_type": "stream",
     "text": [
      "\u001b[1m[05:07:20.288]\u001b[0m \u001b[1;95mINFO \u001b[1;0m  \u001b[1mmodels.modelCreator                               \u001b[0mLoading weights from file : /fast_scratch_1/caloqvae/luian1/wandb/run-20250326_172648-1jifk4nt/files/AtlasConditionalQVAE3DHD_atlas_default_90.pth\n"
     ]
    },
    {
     "name": "stdout",
     "output_type": "stream",
     "text": [
      "Loading weights for module =  _activation_fct\n",
      "Loading weights for module =  _bce_loss\n",
      "Loading weights for module =  _energy_activation_fct\n",
      "Loading weights for module =  _hit_activation_fct\n",
      "Loading weights for module =  _output_loss\n",
      "Loading weights for module =  _hit_loss\n",
      "Loading weights for module =  _hit_smoothing_dist_mod\n",
      "Loading weights for module =  _inference_energy_activation_fct\n",
      "Loading weights for module =  encoder\n",
      "Loading weights for module =  prior\n",
      "Loading weights for module =  decoder\n",
      "TESTING HELLO\n",
      "Data contains NaNs or Infs. Handling them...\n",
      "FPD (x10^3): 143.8948 ± 1.7074\n",
      "KPD (x10^3): 0.6028 ± 0.2088\n",
      "TESTING HELLO\n",
      "Data contains NaNs or Infs. Handling them...\n"
     ]
    },
    {
     "name": "stderr",
     "output_type": "stream",
     "text": [
      "\u001b[1m[05:23:13.531]\u001b[0m \u001b[1;95mINFO \u001b[1;0m  \u001b[1mmodels.modelCreator                               \u001b[0mLoading state\n"
     ]
    },
    {
     "name": "stdout",
     "output_type": "stream",
     "text": [
      "FPD (x10^3): 325.7682 ± 1.7317\n",
      "KPD (x10^3): 0.3853 ± 0.0963\n",
      "Finished generating HEP Metrics for epoch 90 ...\n"
     ]
    },
    {
     "name": "stderr",
     "output_type": "stream",
     "text": [
      "\u001b[1m[05:23:14.156]\u001b[0m \u001b[1;95mINFO \u001b[1;0m  \u001b[1mmodels.modelCreator                               \u001b[0mLoading weights from file : /fast_scratch_1/caloqvae/luian1/wandb/run-20250326_172648-1jifk4nt/files/AtlasConditionalQVAE3DHD_atlas_default_100.pth\n"
     ]
    },
    {
     "name": "stdout",
     "output_type": "stream",
     "text": [
      "Loading weights for module =  _activation_fct\n",
      "Loading weights for module =  _bce_loss\n",
      "Loading weights for module =  _energy_activation_fct\n",
      "Loading weights for module =  _hit_activation_fct\n",
      "Loading weights for module =  _output_loss\n",
      "Loading weights for module =  _hit_loss\n",
      "Loading weights for module =  _hit_smoothing_dist_mod\n",
      "Loading weights for module =  _inference_energy_activation_fct\n",
      "Loading weights for module =  encoder\n",
      "Loading weights for module =  prior\n",
      "Loading weights for module =  decoder\n",
      "TESTING HELLO\n",
      "Data contains NaNs or Infs. Handling them...\n",
      "FPD (x10^3): 156.7035 ± 2.2803\n",
      "KPD (x10^3): 0.7563 ± 0.1997\n",
      "TESTING HELLO\n",
      "Data contains NaNs or Infs. Handling them...\n"
     ]
    },
    {
     "name": "stderr",
     "output_type": "stream",
     "text": [
      "\u001b[1m[05:38:58.217]\u001b[0m \u001b[1;95mINFO \u001b[1;0m  \u001b[1mmodels.modelCreator                               \u001b[0mLoading state\n"
     ]
    },
    {
     "name": "stdout",
     "output_type": "stream",
     "text": [
      "FPD (x10^3): 370.9498 ± 2.5427\n",
      "KPD (x10^3): 0.6920 ± 0.1563\n",
      "Finished generating HEP Metrics for epoch 100 ...\n"
     ]
    },
    {
     "name": "stderr",
     "output_type": "stream",
     "text": [
      "\u001b[1m[05:38:58.772]\u001b[0m \u001b[1;95mINFO \u001b[1;0m  \u001b[1mmodels.modelCreator                               \u001b[0mLoading weights from file : /fast_scratch_1/caloqvae/luian1/wandb/run-20250326_172648-1jifk4nt/files/AtlasConditionalQVAE3DHD_atlas_default_110.pth\n"
     ]
    },
    {
     "name": "stdout",
     "output_type": "stream",
     "text": [
      "Loading weights for module =  _activation_fct\n",
      "Loading weights for module =  _bce_loss\n",
      "Loading weights for module =  _energy_activation_fct\n",
      "Loading weights for module =  _hit_activation_fct\n",
      "Loading weights for module =  _output_loss\n",
      "Loading weights for module =  _hit_loss\n",
      "Loading weights for module =  _hit_smoothing_dist_mod\n",
      "Loading weights for module =  _inference_energy_activation_fct\n",
      "Loading weights for module =  encoder\n",
      "Loading weights for module =  prior\n",
      "Loading weights for module =  decoder\n",
      "TESTING HELLO\n",
      "Data contains NaNs or Infs. Handling them...\n",
      "FPD (x10^3): 149.1676 ± 1.9097\n",
      "KPD (x10^3): 0.8839 ± 0.3418\n",
      "TESTING HELLO\n",
      "Data contains NaNs or Infs. Handling them...\n"
     ]
    },
    {
     "name": "stderr",
     "output_type": "stream",
     "text": [
      "\u001b[1m[05:54:42.094]\u001b[0m \u001b[1;95mINFO \u001b[1;0m  \u001b[1mmodels.modelCreator                               \u001b[0mLoading state\n"
     ]
    },
    {
     "name": "stdout",
     "output_type": "stream",
     "text": [
      "FPD (x10^3): 388.8937 ± 2.8222\n",
      "KPD (x10^3): 1.0034 ± 0.2388\n",
      "Finished generating HEP Metrics for epoch 110 ...\n"
     ]
    },
    {
     "name": "stderr",
     "output_type": "stream",
     "text": [
      "\u001b[1m[05:54:42.531]\u001b[0m \u001b[1;95mINFO \u001b[1;0m  \u001b[1mmodels.modelCreator                               \u001b[0mLoading weights from file : /fast_scratch_1/caloqvae/luian1/wandb/run-20250326_172648-1jifk4nt/files/AtlasConditionalQVAE3DHD_atlas_default_120.pth\n"
     ]
    },
    {
     "name": "stdout",
     "output_type": "stream",
     "text": [
      "Loading weights for module =  _activation_fct\n",
      "Loading weights for module =  _bce_loss\n",
      "Loading weights for module =  _energy_activation_fct\n",
      "Loading weights for module =  _hit_activation_fct\n",
      "Loading weights for module =  _output_loss\n",
      "Loading weights for module =  _hit_loss\n",
      "Loading weights for module =  _hit_smoothing_dist_mod\n",
      "Loading weights for module =  _inference_energy_activation_fct\n",
      "Loading weights for module =  encoder\n",
      "Loading weights for module =  prior\n",
      "Loading weights for module =  decoder\n",
      "TESTING HELLO\n",
      "Data contains NaNs or Infs. Handling them...\n",
      "FPD (x10^3): 97.0663 ± 1.4957\n",
      "KPD (x10^3): 0.4193 ± 0.1218\n",
      "TESTING HELLO\n",
      "Data contains NaNs or Infs. Handling them...\n"
     ]
    },
    {
     "name": "stderr",
     "output_type": "stream",
     "text": [
      "\u001b[1m[06:10:42.914]\u001b[0m \u001b[1;95mINFO \u001b[1;0m  \u001b[1mmodels.modelCreator                               \u001b[0mLoading state\n"
     ]
    },
    {
     "name": "stdout",
     "output_type": "stream",
     "text": [
      "FPD (x10^3): 288.1158 ± 1.6173\n",
      "KPD (x10^3): 0.4393 ± 0.0761\n",
      "Finished generating HEP Metrics for epoch 120 ...\n"
     ]
    },
    {
     "name": "stderr",
     "output_type": "stream",
     "text": [
      "\u001b[1m[06:10:43.663]\u001b[0m \u001b[1;95mINFO \u001b[1;0m  \u001b[1mmodels.modelCreator                               \u001b[0mLoading weights from file : /fast_scratch_1/caloqvae/luian1/wandb/run-20250326_172648-1jifk4nt/files/AtlasConditionalQVAE3DHD_atlas_default_130.pth\n"
     ]
    },
    {
     "name": "stdout",
     "output_type": "stream",
     "text": [
      "Loading weights for module =  _activation_fct\n",
      "Loading weights for module =  _bce_loss\n",
      "Loading weights for module =  _energy_activation_fct\n",
      "Loading weights for module =  _hit_activation_fct\n",
      "Loading weights for module =  _output_loss\n",
      "Loading weights for module =  _hit_loss\n",
      "Loading weights for module =  _hit_smoothing_dist_mod\n",
      "Loading weights for module =  _inference_energy_activation_fct\n",
      "Loading weights for module =  encoder\n",
      "Loading weights for module =  prior\n",
      "Loading weights for module =  decoder\n",
      "TESTING HELLO\n",
      "Data contains NaNs or Infs. Handling them...\n",
      "FPD (x10^3): 96.1007 ± 0.8357\n",
      "KPD (x10^3): 0.2051 ± 0.0500\n",
      "TESTING HELLO\n",
      "Data contains NaNs or Infs. Handling them...\n"
     ]
    },
    {
     "name": "stderr",
     "output_type": "stream",
     "text": [
      "\u001b[1m[06:26:33.102]\u001b[0m \u001b[1;95mINFO \u001b[1;0m  \u001b[1mmodels.modelCreator                               \u001b[0mLoading state\n"
     ]
    },
    {
     "name": "stdout",
     "output_type": "stream",
     "text": [
      "FPD (x10^3): 322.4109 ± 1.6066\n",
      "KPD (x10^3): 0.5984 ± 0.1189\n",
      "Finished generating HEP Metrics for epoch 130 ...\n"
     ]
    },
    {
     "name": "stderr",
     "output_type": "stream",
     "text": [
      "\u001b[1m[06:26:34.009]\u001b[0m \u001b[1;95mINFO \u001b[1;0m  \u001b[1mmodels.modelCreator                               \u001b[0mLoading weights from file : /fast_scratch_1/caloqvae/luian1/wandb/run-20250326_172648-1jifk4nt/files/AtlasConditionalQVAE3DHD_atlas_default_140.pth\n"
     ]
    },
    {
     "name": "stdout",
     "output_type": "stream",
     "text": [
      "Loading weights for module =  _activation_fct\n",
      "Loading weights for module =  _bce_loss\n",
      "Loading weights for module =  _energy_activation_fct\n",
      "Loading weights for module =  _hit_activation_fct\n",
      "Loading weights for module =  _output_loss\n",
      "Loading weights for module =  _hit_loss\n",
      "Loading weights for module =  _hit_smoothing_dist_mod\n",
      "Loading weights for module =  _inference_energy_activation_fct\n",
      "Loading weights for module =  encoder\n",
      "Loading weights for module =  prior\n",
      "Loading weights for module =  decoder\n",
      "TESTING HELLO\n",
      "Data contains NaNs or Infs. Handling them...\n",
      "FPD (x10^3): 109.3599 ± 1.5862\n",
      "KPD (x10^3): 0.8647 ± 0.3186\n",
      "TESTING HELLO\n",
      "Data contains NaNs or Infs. Handling them...\n"
     ]
    },
    {
     "name": "stderr",
     "output_type": "stream",
     "text": [
      "\u001b[1m[06:42:05.134]\u001b[0m \u001b[1;95mINFO \u001b[1;0m  \u001b[1mmodels.modelCreator                               \u001b[0mLoading state\n"
     ]
    },
    {
     "name": "stdout",
     "output_type": "stream",
     "text": [
      "FPD (x10^3): 327.5361 ± 2.0596\n",
      "KPD (x10^3): 0.8815 ± 0.1815\n",
      "Finished generating HEP Metrics for epoch 140 ...\n"
     ]
    },
    {
     "name": "stderr",
     "output_type": "stream",
     "text": [
      "\u001b[1m[06:42:05.572]\u001b[0m \u001b[1;95mINFO \u001b[1;0m  \u001b[1mmodels.modelCreator                               \u001b[0mLoading weights from file : /fast_scratch_1/caloqvae/luian1/wandb/run-20250326_172648-1jifk4nt/files/AtlasConditionalQVAE3DHD_atlas_default_150.pth\n"
     ]
    },
    {
     "name": "stdout",
     "output_type": "stream",
     "text": [
      "Loading weights for module =  _activation_fct\n",
      "Loading weights for module =  _bce_loss\n",
      "Loading weights for module =  _energy_activation_fct\n",
      "Loading weights for module =  _hit_activation_fct\n",
      "Loading weights for module =  _output_loss\n",
      "Loading weights for module =  _hit_loss\n",
      "Loading weights for module =  _hit_smoothing_dist_mod\n",
      "Loading weights for module =  _inference_energy_activation_fct\n",
      "Loading weights for module =  encoder\n",
      "Loading weights for module =  prior\n",
      "Loading weights for module =  decoder\n",
      "TESTING HELLO\n",
      "Data contains NaNs or Infs. Handling them...\n",
      "FPD (x10^3): 107.7773 ± 1.8316\n",
      "KPD (x10^3): 0.3581 ± 0.2553\n",
      "TESTING HELLO\n",
      "Data contains NaNs or Infs. Handling them...\n"
     ]
    },
    {
     "name": "stderr",
     "output_type": "stream",
     "text": [
      "\u001b[1m[06:58:00.597]\u001b[0m \u001b[1;95mINFO \u001b[1;0m  \u001b[1mmodels.modelCreator                               \u001b[0mLoading state\n"
     ]
    },
    {
     "name": "stdout",
     "output_type": "stream",
     "text": [
      "FPD (x10^3): 259.4261 ± 1.8746\n",
      "KPD (x10^3): 0.2395 ± 0.0733\n",
      "Finished generating HEP Metrics for epoch 150 ...\n"
     ]
    },
    {
     "name": "stderr",
     "output_type": "stream",
     "text": [
      "\u001b[1m[06:58:01.062]\u001b[0m \u001b[1;95mINFO \u001b[1;0m  \u001b[1mmodels.modelCreator                               \u001b[0mLoading weights from file : /fast_scratch_1/caloqvae/luian1/wandb/run-20250326_172648-1jifk4nt/files/AtlasConditionalQVAE3DHD_atlas_default_160.pth\n"
     ]
    },
    {
     "name": "stdout",
     "output_type": "stream",
     "text": [
      "Loading weights for module =  _activation_fct\n",
      "Loading weights for module =  _bce_loss\n",
      "Loading weights for module =  _energy_activation_fct\n",
      "Loading weights for module =  _hit_activation_fct\n",
      "Loading weights for module =  _output_loss\n",
      "Loading weights for module =  _hit_loss\n",
      "Loading weights for module =  _hit_smoothing_dist_mod\n",
      "Loading weights for module =  _inference_energy_activation_fct\n",
      "Loading weights for module =  encoder\n",
      "Loading weights for module =  prior\n",
      "Loading weights for module =  decoder\n",
      "TESTING HELLO\n",
      "Data contains NaNs or Infs. Handling them...\n",
      "FPD (x10^3): 79.8844 ± 1.6735\n",
      "KPD (x10^3): 0.5343 ± 0.2400\n",
      "TESTING HELLO\n",
      "Data contains NaNs or Infs. Handling them...\n"
     ]
    },
    {
     "name": "stderr",
     "output_type": "stream",
     "text": [
      "\u001b[1m[07:14:00.521]\u001b[0m \u001b[1;95mINFO \u001b[1;0m  \u001b[1mmodels.modelCreator                               \u001b[0mLoading state\n"
     ]
    },
    {
     "name": "stdout",
     "output_type": "stream",
     "text": [
      "FPD (x10^3): 287.6938 ± 2.1975\n",
      "KPD (x10^3): 0.6621 ± 0.1071\n",
      "Finished generating HEP Metrics for epoch 160 ...\n"
     ]
    },
    {
     "name": "stderr",
     "output_type": "stream",
     "text": [
      "\u001b[1m[07:14:01.145]\u001b[0m \u001b[1;95mINFO \u001b[1;0m  \u001b[1mmodels.modelCreator                               \u001b[0mLoading weights from file : /fast_scratch_1/caloqvae/luian1/wandb/run-20250326_172648-1jifk4nt/files/AtlasConditionalQVAE3DHD_atlas_default_170.pth\n"
     ]
    },
    {
     "name": "stdout",
     "output_type": "stream",
     "text": [
      "Loading weights for module =  _activation_fct\n",
      "Loading weights for module =  _bce_loss\n",
      "Loading weights for module =  _energy_activation_fct\n",
      "Loading weights for module =  _hit_activation_fct\n",
      "Loading weights for module =  _output_loss\n",
      "Loading weights for module =  _hit_loss\n",
      "Loading weights for module =  _hit_smoothing_dist_mod\n",
      "Loading weights for module =  _inference_energy_activation_fct\n",
      "Loading weights for module =  encoder\n",
      "Loading weights for module =  prior\n",
      "Loading weights for module =  decoder\n",
      "TESTING HELLO\n",
      "Data contains NaNs or Infs. Handling them...\n",
      "FPD (x10^3): 114.2616 ± 2.3559\n",
      "KPD (x10^3): 0.7419 ± 0.2714\n",
      "TESTING HELLO\n",
      "Data contains NaNs or Infs. Handling them...\n"
     ]
    },
    {
     "name": "stderr",
     "output_type": "stream",
     "text": [
      "\u001b[1m[07:29:45.072]\u001b[0m \u001b[1;95mINFO \u001b[1;0m  \u001b[1mmodels.modelCreator                               \u001b[0mLoading state\n"
     ]
    },
    {
     "name": "stdout",
     "output_type": "stream",
     "text": [
      "FPD (x10^3): 256.4995 ± 2.4515\n",
      "KPD (x10^3): 0.5167 ± 0.0949\n",
      "Finished generating HEP Metrics for epoch 170 ...\n"
     ]
    },
    {
     "name": "stderr",
     "output_type": "stream",
     "text": [
      "\u001b[1m[07:29:45.719]\u001b[0m \u001b[1;95mINFO \u001b[1;0m  \u001b[1mmodels.modelCreator                               \u001b[0mLoading weights from file : /fast_scratch_1/caloqvae/luian1/wandb/run-20250326_172648-1jifk4nt/files/AtlasConditionalQVAE3DHD_atlas_default_180.pth\n"
     ]
    },
    {
     "name": "stdout",
     "output_type": "stream",
     "text": [
      "Loading weights for module =  _activation_fct\n",
      "Loading weights for module =  _bce_loss\n",
      "Loading weights for module =  _energy_activation_fct\n",
      "Loading weights for module =  _hit_activation_fct\n",
      "Loading weights for module =  _output_loss\n",
      "Loading weights for module =  _hit_loss\n",
      "Loading weights for module =  _hit_smoothing_dist_mod\n",
      "Loading weights for module =  _inference_energy_activation_fct\n",
      "Loading weights for module =  encoder\n",
      "Loading weights for module =  prior\n",
      "Loading weights for module =  decoder\n",
      "TESTING HELLO\n",
      "Data contains NaNs or Infs. Handling them...\n",
      "FPD (x10^3): 79.6326 ± 1.1106\n",
      "KPD (x10^3): 0.2246 ± 0.1065\n",
      "TESTING HELLO\n",
      "Data contains NaNs or Infs. Handling them...\n"
     ]
    },
    {
     "name": "stderr",
     "output_type": "stream",
     "text": [
      "\u001b[1m[07:45:56.159]\u001b[0m \u001b[1;95mINFO \u001b[1;0m  \u001b[1mmodels.modelCreator                               \u001b[0mLoading state\n"
     ]
    },
    {
     "name": "stdout",
     "output_type": "stream",
     "text": [
      "FPD (x10^3): 249.9820 ± 2.2889\n",
      "KPD (x10^3): 0.4181 ± 0.0791\n",
      "Finished generating HEP Metrics for epoch 180 ...\n"
     ]
    },
    {
     "name": "stderr",
     "output_type": "stream",
     "text": [
      "\u001b[1m[07:45:56.606]\u001b[0m \u001b[1;95mINFO \u001b[1;0m  \u001b[1mmodels.modelCreator                               \u001b[0mLoading weights from file : /fast_scratch_1/caloqvae/luian1/wandb/run-20250326_172648-1jifk4nt/files/AtlasConditionalQVAE3DHD_atlas_default_190.pth\n"
     ]
    },
    {
     "name": "stdout",
     "output_type": "stream",
     "text": [
      "Loading weights for module =  _activation_fct\n",
      "Loading weights for module =  _bce_loss\n",
      "Loading weights for module =  _energy_activation_fct\n",
      "Loading weights for module =  _hit_activation_fct\n",
      "Loading weights for module =  _output_loss\n",
      "Loading weights for module =  _hit_loss\n",
      "Loading weights for module =  _hit_smoothing_dist_mod\n",
      "Loading weights for module =  _inference_energy_activation_fct\n",
      "Loading weights for module =  encoder\n",
      "Loading weights for module =  prior\n",
      "Loading weights for module =  decoder\n",
      "TESTING HELLO\n",
      "Data contains NaNs or Infs. Handling them...\n",
      "FPD (x10^3): 75.0136 ± 0.7919\n",
      "KPD (x10^3): 0.4275 ± 0.1114\n",
      "TESTING HELLO\n",
      "Data contains NaNs or Infs. Handling them...\n"
     ]
    },
    {
     "name": "stderr",
     "output_type": "stream",
     "text": [
      "\u001b[1m[08:01:46.600]\u001b[0m \u001b[1;95mINFO \u001b[1;0m  \u001b[1mmodels.modelCreator                               \u001b[0mLoading state\n"
     ]
    },
    {
     "name": "stdout",
     "output_type": "stream",
     "text": [
      "FPD (x10^3): 227.3236 ± 1.7460\n",
      "KPD (x10^3): 0.4804 ± 0.0382\n",
      "Finished generating HEP Metrics for epoch 190 ...\n"
     ]
    },
    {
     "name": "stderr",
     "output_type": "stream",
     "text": [
      "\u001b[1m[08:01:47.133]\u001b[0m \u001b[1;95mINFO \u001b[1;0m  \u001b[1mmodels.modelCreator                               \u001b[0mLoading weights from file : /fast_scratch_1/caloqvae/luian1/wandb/run-20250326_172648-1jifk4nt/files/AtlasConditionalQVAE3DHD_atlas_default_200.pth\n"
     ]
    },
    {
     "name": "stdout",
     "output_type": "stream",
     "text": [
      "Loading weights for module =  _activation_fct\n",
      "Loading weights for module =  _bce_loss\n",
      "Loading weights for module =  _energy_activation_fct\n",
      "Loading weights for module =  _hit_activation_fct\n",
      "Loading weights for module =  _output_loss\n",
      "Loading weights for module =  _hit_loss\n",
      "Loading weights for module =  _hit_smoothing_dist_mod\n",
      "Loading weights for module =  _inference_energy_activation_fct\n",
      "Loading weights for module =  encoder\n",
      "Loading weights for module =  prior\n",
      "Loading weights for module =  decoder\n",
      "TESTING HELLO\n",
      "Data contains NaNs or Infs. Handling them...\n",
      "FPD (x10^3): 102.6922 ± 1.6439\n",
      "KPD (x10^3): 0.7902 ± 0.4950\n",
      "TESTING HELLO\n",
      "Data contains NaNs or Infs. Handling them...\n",
      "FPD (x10^3): 263.0711 ± 1.6972\n",
      "KPD (x10^3): 0.7912 ± 0.3434\n",
      "Finished generating HEP Metrics for epoch 200 ...\n"
     ]
    }
   ],
   "source": [
    "path_head = \"/fast_scratch_1/caloqvae/luian1/wandb/run-20250326_172648-1jifk4nt/files/AtlasConditionalQVAE3DHD_atlas_default_\"\n",
    "model_name = 'good-haze-675'\n",
    "HEPMetric_output = search_HEPMetric(path_head, model_name, 10, 201, 10)"
   ]
  },
  {
   "cell_type": "code",
   "execution_count": 9,
   "id": "3bd098c3-92d2-4060-b069-2ff5794661b2",
   "metadata": {},
   "outputs": [
    {
     "name": "stdout",
     "output_type": "stream",
     "text": [
      "[0.28171901775261654, 0.27610111297952855, 0.23623908580388636, 0.2210744808510937, 0.18644421826289684, 0.2030007466602672, 0.21249611874140645, 0.16392233757991367, 0.14389478161185731, 0.15670347982957408, 0.14916755955246316, 0.09706627397032931, 0.09610074953743804, 0.10935985550777683, 0.1077773271212027, 0.07988435220504599, 0.1142615911016994, 0.07963256980948644, 0.0750136093510446, 0.10269223549619816] [0.000892549225344208, 0.0017953303946163235, 0.0010429697587919229, 0.0009093175006329446, 0.0004692477270269446, 0.0009735575941149932, 0.0016466744829819469, 0.0005484693821053988, 0.0006027670358537129, 0.0007562910841800718, 0.0008838656391592092, 0.0004192771768365411, 0.00020511683985757756, 0.0008646527921194469, 0.0003581094360560755, 0.0005342887399362173, 0.0007419315984997787, 0.0002245765988551085, 0.00042751229226900556, 0.0007902208080936557] [0.48096773085005806, 0.3718108700088141, 0.37650166790362044, 0.3479505446097048, 0.34596658390872476, 0.44710617801293384, 0.40850546523956555, 0.38031587221874746, 0.3257682143716862, 0.3709498476200523, 0.38889367929932067, 0.288115832475645, 0.32241090259853145, 0.327536084851494, 0.2594261109209164, 0.2876938331315209, 0.2564994782260478, 0.2499819887674952, 0.22732364238315678, 0.2630711326749494] [0.00124464236567845, 0.0010139166251146303, 0.0012324611911749273, 0.0008619664358660017, 0.0005746508741659717, 0.0013796107676395941, 0.0014673544850958287, 0.0007810221316344457, 0.00038526855870690824, 0.0006919908154248144, 0.001003406636027382, 0.00043925249934551047, 0.0005983531507078865, 0.0008815426290198491, 0.00023949975044801342, 0.000662055804498074, 0.0005166656823947235, 0.000418112578051133, 0.00048036208621060617, 0.0007911744915098939]\n"
     ]
    },
    {
     "data": {
      "image/png": "[encoded data removed]",
      "text/plain": [
       "<Figure size 1200x600 with 2 Axes>"
      ]
     },
     "metadata": {
      "image/png": {
       "height": 588,
       "width": 1190
      }
     },
     "output_type": "display_data"
    }
   ],
   "source": [
    "import matplotlib.pyplot as plt\n",
    "\n",
    "en_list, fpd_recon, kpd_recon, fpd_sample, kpd_sample = HEPMetric_output[0], HEPMetric_output[1], HEPMetric_output[2], HEPMetric_output[3], HEPMetric_output[4]\n",
    "fig, (ax1, ax2) = plt.subplots(1, 2, figsize=(12, 6))\n",
    "\n",
    "print(fpd_recon, kpd_recon, fpd_sample, kpd_sample)\n",
    "\n",
    "# Plot fpd_recon and fpd_sample on ax1\n",
    "ax1.scatter(en_list, fpd_recon, color='blue', label='FPD Recon')\n",
    "ax1.scatter(en_list, fpd_sample, color='green', label='FPD Sample')\n",
    "ax1.set_xlabel('Epoch Number')\n",
    "ax1.set_ylabel('FPD Values')\n",
    "ax1.set_title('FPD Recon vs FPD Sample')\n",
    "ax1.legend()\n",
    "\n",
    "# Plot kpd_recon and kpd_sample on ax2\n",
    "ax2.scatter(en_list, kpd_recon, color='blue', label='KPD Recon')\n",
    "ax2.scatter(en_list, kpd_sample, color='green', label='KPD Sample')\n",
    "ax2.set_xlabel('Epoch Number')\n",
    "ax2.set_ylabel('KPD Values')\n",
    "ax2.set_title('KPD Recon vs KPD Sample')\n",
    "ax2.legend()\n",
    "\n",
    "plt.tight_layout()\n",
    "plt.show()"
   ]
  }
 ],
 "metadata": {
  "kernelspec": {
   "display_name": "Python 3 (ipykernel)",
   "language": "python",
   "name": "python3"
  },
  "language_info": {
   "codemirror_mode": {
    "name": "ipython",
    "version": 3
   },
   "file_extension": ".py",
   "mimetype": "text/x-python",
   "name": "python",
   "nbconvert_exporter": "python",
   "pygments_lexer": "ipython3",
   "version": "3.10.12"
  }
 },
 "nbformat": 4,
 "nbformat_minor": 5
}
