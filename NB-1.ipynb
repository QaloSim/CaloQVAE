{
 "cells": [
  {
   "cell_type": "code",
   "execution_count": 1,
   "id": "c20a2cf6",
   "metadata": {},
   "outputs": [],
   "source": [
    "# source source.me before launching jupyter\n",
    "# export DWAVE_API_TOKEN=DEV-7dfad1c79ca4cac893a1541f6d04fbb3c2dced5c"
   ]
  },
  {
   "cell_type": "code",
   "execution_count": 1,
   "id": "8ac70836",
   "metadata": {},
   "outputs": [
    {
     "name": "stdout",
     "output_type": "stream",
     "text": [
      "env: CUDA_DEVICE_ORDER=PCI_BUS_ID\n",
      "env: CUDA_VISIBLE_DEVICES=0\n",
      "Wed Jun 14 06:11:27 2023       \n",
      "+-----------------------------------------------------------------------------+\n",
      "| NVIDIA-SMI 520.61.05    Driver Version: 520.61.05    CUDA Version: 11.8     |\n",
      "|-------------------------------+----------------------+----------------------+\n",
      "| GPU  Name        Persistence-M| Bus-Id        Disp.A | Volatile Uncorr. ECC |\n",
      "| Fan  Temp  Perf  Pwr:Usage/Cap|         Memory-Usage | GPU-Util  Compute M. |\n",
      "|                               |                      |               MIG M. |\n",
      "|===============================+======================+======================|\n",
      "|   0  NVIDIA GeForce ...  Off  | 00000000:1A:00.0 Off |                  N/A |\n",
      "| 31%   41C    P2    52W / 250W |   1265MiB / 11264MiB |      0%      Default |\n",
      "|                               |                      |                  N/A |\n",
      "+-------------------------------+----------------------+----------------------+\n",
      "|   1  NVIDIA GeForce ...  Off  | 00000000:1B:00.0 Off |                  N/A |\n",
      "| 30%   34C    P8    16W / 250W |   1953MiB / 11264MiB |      0%      Default |\n",
      "|                               |                      |                  N/A |\n",
      "+-------------------------------+----------------------+----------------------+\n",
      "|   2  NVIDIA GeForce ...  Off  | 00000000:3D:00.0 Off |                  N/A |\n",
      "| 45%   72C    P2   204W / 250W |   2703MiB / 11264MiB |     98%      Default |\n",
      "|                               |                      |                  N/A |\n",
      "+-------------------------------+----------------------+----------------------+\n",
      "|   3  NVIDIA GeForce ...  Off  | 00000000:3E:00.0 Off |                  N/A |\n",
      "| 51%   83C    P2   183W / 250W |   3531MiB / 11264MiB |     98%      Default |\n",
      "|                               |                      |                  N/A |\n",
      "+-------------------------------+----------------------+----------------------+\n",
      "|   4  NVIDIA GeForce ...  Off  | 00000000:88:00.0 Off |                  N/A |\n",
      "| 31%   30C    P8     5W / 250W |      3MiB / 11264MiB |      0%      Default |\n",
      "|                               |                      |                  N/A |\n",
      "+-------------------------------+----------------------+----------------------+\n",
      "|   5  NVIDIA GeForce ...  Off  | 00000000:89:00.0 Off |                  N/A |\n",
      "| 30%   32C    P8    21W / 250W |      3MiB / 11264MiB |      0%      Default |\n",
      "|                               |                      |                  N/A |\n",
      "+-------------------------------+----------------------+----------------------+\n",
      "|   6  NVIDIA GeForce ...  Off  | 00000000:B1:00.0 Off |                  N/A |\n",
      "| 30%   32C    P8     4W / 250W |   1833MiB / 11264MiB |      0%      Default |\n",
      "|                               |                      |                  N/A |\n",
      "+-------------------------------+----------------------+----------------------+\n",
      "|   7  NVIDIA GeForce ...  Off  | 00000000:B2:00.0 Off |                  N/A |\n",
      "| 22%   33C    P8    23W / 250W |   1353MiB / 11264MiB |      0%      Default |\n",
      "|                               |                      |                  N/A |\n",
      "+-------------------------------+----------------------+----------------------+\n",
      "                                                                               \n",
      "+-----------------------------------------------------------------------------+\n",
      "| Processes:                                                                  |\n",
      "|  GPU   GI   CI        PID   Type   Process name                  GPU Memory |\n",
      "|        ID   ID                                                   Usage      |\n",
      "|=============================================================================|\n",
      "|    0   N/A  N/A     54942      C   /usr/bin/python                  1262MiB |\n",
      "|    1   N/A  N/A     38847      C   /usr/bin/python                  1950MiB |\n",
      "|    2   N/A  N/A      4143      C   python                           2700MiB |\n",
      "|    3   N/A  N/A      5856      C   python                           1878MiB |\n",
      "|    3   N/A  N/A     38847      C   /usr/bin/python                  1650MiB |\n",
      "|    6   N/A  N/A     31466      C   /usr/bin/python                  1830MiB |\n",
      "|    7   N/A  N/A     38847      C   /usr/bin/python                  1350MiB |\n",
      "+-----------------------------------------------------------------------------+\n"
     ]
    }
   ],
   "source": [
    "%env CUDA_DEVICE_ORDER=PCI_BUS_ID\n",
    "%env CUDA_VISIBLE_DEVICES=0\n",
    "!nvidia-smi"
   ]
  },
  {
   "cell_type": "code",
   "execution_count": 2,
   "id": "c013af31",
   "metadata": {},
   "outputs": [],
   "source": [
    "import hydra\n",
    "from hydra.utils import instantiate\n",
    "from hydra import initialize, compose"
   ]
  },
  {
   "cell_type": "code",
   "execution_count": 3,
   "id": "9a22c4a4",
   "metadata": {},
   "outputs": [],
   "source": [
    "import sys\n",
    "import os\n",
    "import getpass\n",
    "\n",
    "os.chdir(\"/home/jtoledo/CaloQVAE/\")\n",
    "sys.path.insert(1, '/home/' + getpass.getuser() + '/CaloQVAE/')"
   ]
  },
  {
   "cell_type": "code",
   "execution_count": 4,
   "id": "075b6f6a",
   "metadata": {},
   "outputs": [
    {
     "name": "stderr",
     "output_type": "stream",
     "text": [
      "\u001b[1m[06:11:37.713]\u001b[0m \u001b[1;95mINFO \u001b[1;0m  \u001b[1mCaloQVAE                                          \u001b[0mWillkommen!\n",
      "\u001b[1m[06:11:37.716]\u001b[0m \u001b[1;95mINFO \u001b[1;0m  \u001b[1mCaloQVAE                                          \u001b[0mLoading configuration.\n"
     ]
    }
   ],
   "source": [
    "#external libraries\n",
    "import os\n",
    "import pickle\n",
    "import datetime\n",
    "import sys\n",
    "\n",
    "import torch\n",
    "torch.manual_seed(32)\n",
    "import numpy as np\n",
    "np.random.seed(32)\n",
    "import matplotlib.pyplot as plt\n",
    "import hydra\n",
    "from hydra.utils import instantiate\n",
    "\n",
    "from omegaconf import OmegaConf\n",
    "\n",
    "# PyTorch imports\n",
    "from torch import device, load, save\n",
    "from torch.nn import DataParallel\n",
    "from torch.cuda import is_available\n",
    "\n",
    "# Add the path to the parent directory to augment search for module\n",
    "sys.path.append(os.getcwd())\n",
    "    \n",
    "# Weights and Biases\n",
    "import wandb\n",
    "\n",
    "#self defined imports\n",
    "from CaloQVAE import logging"
   ]
  },
  {
   "cell_type": "code",
   "execution_count": 5,
   "id": "b053675f",
   "metadata": {},
   "outputs": [
    {
     "name": "stderr",
     "output_type": "stream",
     "text": [
      "2023-06-14 06:11:42,056 dwave.cloud \u001b[1;95mINFO \u001b[1;0m MainThread Log level for 'dwave.cloud' namespace set to 0\n",
      "\u001b[1m[06:11:42.056]\u001b[0m \u001b[1;95mINFO \u001b[1;0m  \u001b[1mdwave.cloud                                       \u001b[0mLog level for 'dwave.cloud' namespace set to 0\n",
      "<frozen importlib._bootstrap>:219: RuntimeWarning: scipy._lib.messagestream.MessageStream size changed, may indicate binary incompatibility. Expected 56 from C header, got 64 from PyObject\n"
     ]
    }
   ],
   "source": [
    "logger = logging.getLogger(__name__)\n",
    "\n",
    "from data.dataManager import DataManager\n",
    "from utils.plotting.plotProvider import PlotProvider\n",
    "from engine.engine import Engine\n",
    "from models.modelCreator import ModelCreator"
   ]
  },
  {
   "cell_type": "code",
   "execution_count": 6,
   "id": "db63c15b",
   "metadata": {},
   "outputs": [
    {
     "data": {
      "text/plain": [
       "hydra.initialize()"
      ]
     },
     "execution_count": 6,
     "metadata": {},
     "output_type": "execute_result"
    }
   ],
   "source": [
    "# GlobalHydra.instance().clear()\n",
    "initialize(version_base=None, config_path=\"configs\")"
   ]
  },
  {
   "cell_type": "code",
   "execution_count": 7,
   "id": "62b42add",
   "metadata": {},
   "outputs": [
    {
     "name": "stderr",
     "output_type": "stream",
     "text": [
      "/usr/local/lib/python3.8/dist-packages/hydra/_internal/defaults_list.py:251: UserWarning: In 'config.yaml': Defaults list is missing `_self_`. See https://hydra.cc/docs/1.2/upgrades/1.0_to_1.1/default_composition_order for more information\n",
      "  warnings.warn(msg, UserWarning)\n"
     ]
    }
   ],
   "source": [
    "# config=compose(config_name=\"config.yaml\")\n",
    "config=compose(config_name=\"config.yaml\")"
   ]
  },
  {
   "cell_type": "code",
   "execution_count": 8,
   "id": "521fc9ce",
   "metadata": {},
   "outputs": [
    {
     "name": "stderr",
     "output_type": "stream",
     "text": [
      "\u001b[1m[06:11:44.158]\u001b[0m \u001b[1;91mERROR\u001b[1;0m  \u001b[1mwandb.jupyter                                     \u001b[0mFailed to detect the name of this notebook, you can set it manually with the WANDB_NOTEBOOK_NAME environment variable to enable code saving.\n"
     ]
    },
    {
     "data": {
      "text/plain": []
     },
     "execution_count": 8,
     "metadata": {},
     "output_type": "execute_result"
    }
   ],
   "source": [
    "wandb.init(project=\"caloqvae\", entity=\"qvae\", config=config, mode='disabled')"
   ]
  },
  {
   "cell_type": "code",
   "execution_count": 9,
   "id": "60c89cbb",
   "metadata": {},
   "outputs": [],
   "source": [
    "modelCreator = ModelCreator(cfg=config)"
   ]
  },
  {
   "cell_type": "code",
   "execution_count": 10,
   "id": "692982d0",
   "metadata": {},
   "outputs": [],
   "source": [
    "dataMgr = DataManager(cfg=config)"
   ]
  },
  {
   "cell_type": "code",
   "execution_count": 11,
   "id": "c2ad9532",
   "metadata": {},
   "outputs": [
    {
     "name": "stderr",
     "output_type": "stream",
     "text": [
      "\u001b[1m[06:11:47.901]\u001b[0m \u001b[1;95mINFO \u001b[1;0m  \u001b[1mdata.dataManager                                  \u001b[0mLoading Data\n",
      "\u001b[1m[06:11:48.754]\u001b[0m \u001b[1;95mINFO \u001b[1;0m  \u001b[1mdata.dataManager                                  \u001b[0m<torch.utils.data.dataloader.DataLoader object at 0x7f9c2e7acd90>: 94387 events, 738 batches\n",
      "\u001b[1m[06:11:48.755]\u001b[0m \u001b[1;95mINFO \u001b[1;0m  \u001b[1mdata.dataManager                                  \u001b[0m<torch.utils.data.dataloader.DataLoader object at 0x7f9c2e783d00>: 11798 events, 12 batches\n",
      "\u001b[1m[06:11:48.757]\u001b[0m \u001b[1;95mINFO \u001b[1;0m  \u001b[1mdata.dataManager                                  \u001b[0m<torch.utils.data.dataloader.DataLoader object at 0x7f9c2e77a280>: 11799 events, 12 batches\n"
     ]
    }
   ],
   "source": [
    "#initialise data loaders\n",
    "dataMgr.init_dataLoaders()\n",
    "#run pre processing: get/set input dimensions and mean of train dataset\n",
    "dataMgr.pre_processing()"
   ]
  },
  {
   "cell_type": "code",
   "execution_count": 12,
   "id": "b47b1bf1",
   "metadata": {},
   "outputs": [],
   "source": [
    "if config.model.activation_fct.lower()==\"relu\":\n",
    "    modelCreator.default_activation_fct=torch.nn.ReLU()\n",
    "elif config.model.activation_fct.lower()==\"tanh\":\n",
    "    modelCreator.default_activation_fct=torch.nn.Tanh()\n",
    "else:\n",
    "    logger.warning(\"Setting identity as default activation fct\")\n",
    "    modelCreator.default_activation_fct=torch.nn.Identity()"
   ]
  },
  {
   "cell_type": "code",
   "execution_count": 13,
   "id": "2dfc4568",
   "metadata": {},
   "outputs": [
    {
     "name": "stderr",
     "output_type": "stream",
     "text": [
      "\u001b[1m[06:11:52.518]\u001b[0m \u001b[1;95mINFO \u001b[1;0m  \u001b[1mmodels.modelCreator                               \u001b[0mInitialising Model Type GumBoltAtlasCRBMCNN\n",
      "2023-06-14 06:11:52,522 dwave.cloud.client.base \u001b[1;95mINFO \u001b[1;0m MainThread Using region metadata: [Region(code='na-west-1', name='North America', endpoint='https://na-west-1.cloud.dwavesys.com/sapi/v2/'), Region(code='eu-central-1', name='Europe', endpoint='https://eu-central-1.cloud.dwavesys.com/sapi/v2/')]\n",
      "\u001b[1m[06:11:52.522]\u001b[0m \u001b[1;95mINFO \u001b[1;0m  \u001b[1mdwave.cloud.client.base                           \u001b[0mUsing region metadata: [Region(code='na-west-1', name='North America', endpoint='https://na-west-1.cloud.dwavesys.com/sapi/v2/'), Region(code='eu-central-1', name='Europe', endpoint='https://eu-central-1.cloud.dwavesys.com/sapi/v2/')]\n",
      "2023-06-14 06:11:52,618 dwave.cloud.client.base \u001b[1;95mINFO \u001b[1;0m MainThread Fetching definitions of all available solvers\n",
      "\u001b[1m[06:11:52.618]\u001b[0m \u001b[1;95mINFO \u001b[1;0m  \u001b[1mdwave.cloud.client.base                           \u001b[0mFetching definitions of all available solvers\n",
      "2023-06-14 06:11:56,115 dwave.cloud.client.base \u001b[1;95mINFO \u001b[1;0m MainThread Received solver data for 6 solver(s).\n",
      "\u001b[1m[06:11:56.115]\u001b[0m \u001b[1;95mINFO \u001b[1;0m  \u001b[1mdwave.cloud.client.base                           \u001b[0mReceived solver data for 6 solver(s).\n",
      "2023-06-14 06:11:56,245 dwave.cloud.client.base \u001b[1;95mINFO \u001b[1;0m MainThread Adding solver StructuredSolver(id='Advantage_system4.1')\n",
      "\u001b[1m[06:11:56.245]\u001b[0m \u001b[1;95mINFO \u001b[1;0m  \u001b[1mdwave.cloud.client.base                           \u001b[0mAdding solver StructuredSolver(id='Advantage_system4.1')\n",
      "2023-06-14 06:11:56,284 dwave.cloud.client.base \u001b[1;95mINFO \u001b[1;0m MainThread Adding solver StructuredSolver(id='Advantage2_prototype1.1')\n",
      "\u001b[1m[06:11:56.284]\u001b[0m \u001b[1;95mINFO \u001b[1;0m  \u001b[1mdwave.cloud.client.base                           \u001b[0mAdding solver StructuredSolver(id='Advantage2_prototype1.1')\n",
      "2023-06-14 06:11:56,416 dwave.cloud.client.base \u001b[1;95mINFO \u001b[1;0m MainThread Adding solver StructuredSolver(id='Advantage_system6.2')\n",
      "\u001b[1m[06:11:56.416]\u001b[0m \u001b[1;95mINFO \u001b[1;0m  \u001b[1mdwave.cloud.client.base                           \u001b[0mAdding solver StructuredSolver(id='Advantage_system6.2')\n"
     ]
    }
   ],
   "source": [
    "#instantiate the chosen model\n",
    "#loads from file \n",
    "model=modelCreator.init_model(dataMgr=dataMgr)\n"
   ]
  },
  {
   "cell_type": "code",
   "execution_count": 14,
   "id": "c55bb44a",
   "metadata": {},
   "outputs": [
    {
     "name": "stderr",
     "output_type": "stream",
     "text": [
      "2023-06-14 06:11:56,659 dwave.cloud.client.base \u001b[1;95mINFO \u001b[1;0m MainThread Using region metadata: [Region(code='na-west-1', name='North America', endpoint='https://na-west-1.cloud.dwavesys.com/sapi/v2/'), Region(code='eu-central-1', name='Europe', endpoint='https://eu-central-1.cloud.dwavesys.com/sapi/v2/')]\n",
      "\u001b[1m[06:11:56.659]\u001b[0m \u001b[1;95mINFO \u001b[1;0m  \u001b[1mdwave.cloud.client.base                           \u001b[0mUsing region metadata: [Region(code='na-west-1', name='North America', endpoint='https://na-west-1.cloud.dwavesys.com/sapi/v2/'), Region(code='eu-central-1', name='Europe', endpoint='https://eu-central-1.cloud.dwavesys.com/sapi/v2/')]\n",
      "2023-06-14 06:11:56,752 dwave.cloud.client.base \u001b[1;95mINFO \u001b[1;0m MainThread Fetching definitions of all available solvers\n",
      "\u001b[1m[06:11:56.752]\u001b[0m \u001b[1;95mINFO \u001b[1;0m  \u001b[1mdwave.cloud.client.base                           \u001b[0mFetching definitions of all available solvers\n",
      "2023-06-14 06:12:00,631 dwave.cloud.client.base \u001b[1;95mINFO \u001b[1;0m MainThread Received solver data for 6 solver(s).\n",
      "\u001b[1m[06:12:00.631]\u001b[0m \u001b[1;95mINFO \u001b[1;0m  \u001b[1mdwave.cloud.client.base                           \u001b[0mReceived solver data for 6 solver(s).\n",
      "2023-06-14 06:12:00,722 dwave.cloud.client.base \u001b[1;95mINFO \u001b[1;0m MainThread Adding solver StructuredSolver(id='Advantage_system4.1')\n",
      "\u001b[1m[06:12:00.722]\u001b[0m \u001b[1;95mINFO \u001b[1;0m  \u001b[1mdwave.cloud.client.base                           \u001b[0mAdding solver StructuredSolver(id='Advantage_system4.1')\n",
      "2023-06-14 06:12:00,750 dwave.cloud.client.base \u001b[1;95mINFO \u001b[1;0m MainThread Adding solver StructuredSolver(id='Advantage2_prototype1.1')\n",
      "\u001b[1m[06:12:00.750]\u001b[0m \u001b[1;95mINFO \u001b[1;0m  \u001b[1mdwave.cloud.client.base                           \u001b[0mAdding solver StructuredSolver(id='Advantage2_prototype1.1')\n",
      "2023-06-14 06:12:00,869 dwave.cloud.client.base \u001b[1;95mINFO \u001b[1;0m MainThread Adding solver StructuredSolver(id='Advantage_system6.2')\n",
      "\u001b[1m[06:12:00.869]\u001b[0m \u001b[1;95mINFO \u001b[1;0m  \u001b[1mdwave.cloud.client.base                           \u001b[0mAdding solver StructuredSolver(id='Advantage_system6.2')\n"
     ]
    },
    {
     "name": "stdout",
     "output_type": "stream",
     "text": [
      "Initializing NetworkV3\n"
     ]
    }
   ],
   "source": [
    "#create the NN infrastructure\n",
    "model.create_networks()"
   ]
  },
  {
   "cell_type": "code",
   "execution_count": 15,
   "id": "c1c34730",
   "metadata": {},
   "outputs": [
    {
     "name": "stderr",
     "output_type": "stream",
     "text": [
      "\u001b[1m[06:12:02.653]\u001b[0m \u001b[1;95mINFO \u001b[1;0m  \u001b[1mmodels.autoencoders.autoencoderbase               \u001b[0m_dataset_mean: torch.Size([1, 368])\n"
     ]
    }
   ],
   "source": [
    "#Not printing much useful info at the moment to avoid clutter. TODO optimise\n",
    "model.print_model_info()"
   ]
  },
  {
   "cell_type": "code",
   "execution_count": 16,
   "id": "7c54c061",
   "metadata": {},
   "outputs": [
    {
     "name": "stdout",
     "output_type": "stream",
     "text": [
      "encoder._networks.0.0.weight True\n",
      "encoder._networks.0.0.bias True\n",
      "encoder._networks.0.2.weight True\n",
      "encoder._networks.0.2.bias True\n",
      "encoder._networks.0.3.weight True\n",
      "encoder._networks.0.3.bias True\n",
      "encoder._networks.0.4.weight True\n",
      "encoder._networks.0.5.weight True\n",
      "encoder._networks.0.5.bias True\n",
      "encoder._networks.0.6.weight True\n",
      "encoder._networks.0.8.weight True\n",
      "encoder._networks.0.8.bias True\n",
      "encoder._networks.0.9.weight True\n",
      "encoder._networks.0.11.weight True\n",
      "encoder._networks.0.11.bias True\n",
      "encoder._networks.0.12.weight True\n",
      "encoder._networks.0.13.weight True\n",
      "encoder._networks.0.13.bias True\n",
      "encoder._networks.0.14.weight True\n",
      "encoder._networks.0.16.weight True\n",
      "encoder._networks.0.16.bias True\n",
      "prior._weights True\n",
      "prior._visible_bias True\n",
      "prior._hidden_bias True\n",
      "prior._weights_mask False\n",
      "decoder._layers.1.weight True\n",
      "decoder._layers.1.bias True\n",
      "decoder._layers.2.weight True\n",
      "decoder._layers.2.bias True\n",
      "decoder._layers.3.weight True\n",
      "decoder._layers.4.weight True\n",
      "decoder._layers.4.bias True\n",
      "decoder._layers.5.weight True\n",
      "decoder._layers.6.weight True\n",
      "decoder._layers.6.bias True\n",
      "decoder._layers.7.weight True\n",
      "decoder._layers.7.bias True\n",
      "decoder._layers.8.weight True\n",
      "decoder._layers2.0.weight True\n",
      "decoder._layers2.0.bias True\n",
      "decoder._layers2.1.weight True\n",
      "decoder._layers2.2.weight True\n",
      "decoder._layers2.2.bias True\n",
      "decoder._layers2.3.weight True\n",
      "decoder._layers2.4.weight True\n",
      "decoder._layers2.4.bias True\n",
      "decoder._layers2.7.weight True\n",
      "decoder._layers2.7.bias True\n",
      "decoder._layers3.0.weight True\n",
      "decoder._layers3.0.bias True\n",
      "decoder._layers3.1.weight True\n",
      "decoder._layers3.2.weight True\n",
      "decoder._layers3.2.bias True\n",
      "decoder._layers3.3.weight True\n",
      "decoder._layers3.4.weight True\n",
      "decoder._layers3.4.bias True\n",
      "decoder._layers3.7.weight True\n",
      "decoder._layers3.7.bias True\n"
     ]
    }
   ],
   "source": [
    "for name, param in model.named_parameters():\n",
    "        print(name, param.requires_grad)"
   ]
  },
  {
   "cell_type": "code",
   "execution_count": 17,
   "id": "2878e0fd",
   "metadata": {},
   "outputs": [],
   "source": [
    "# Load the model on the GPU if applicable\n",
    "# dev = None\n",
    "# if (config.device == 'gpu') and config.gpu_list:\n",
    "#     logger.info('Requesting GPUs. GPU list :' + str(config.gpu_list))\n",
    "#     devids = [\"cuda:{0}\".format(x) for x in list(config.gpu_list)]\n",
    "#     logger.info(\"Main GPU : \" + devids[0])\n",
    "\n",
    "#     if is_available():\n",
    "#         print(devids[0])\n",
    "#         dev = device(devids[0])\n",
    "#         if len(devids) > 1:\n",
    "#             logger.info(f\"Using DataParallel on {devids}\")\n",
    "#             model = DataParallel(model, device_ids=list(config.gpu_list))\n",
    "#         logger.info(\"CUDA available\")\n",
    "#     else:\n",
    "#         dev = device('cpu')\n",
    "#         logger.info(\"CUDA unavailable\")\n",
    "# else:\n",
    "#     logger.info('Requested CPU or unable to use GPU. Setting CPU as device.')\n",
    "#     dev = device('cpu')\n",
    "dev = torch.device(\"cuda:0\")"
   ]
  },
  {
   "cell_type": "code",
   "execution_count": 18,
   "id": "2fd70ec8",
   "metadata": {},
   "outputs": [
    {
     "name": "stderr",
     "output_type": "stream",
     "text": [
      "\u001b[1m[06:12:02.680]\u001b[0m \u001b[1;95mINFO \u001b[1;0m  \u001b[1mwandb                                             \u001b[0mWatching\n"
     ]
    },
    {
     "data": {
      "text/plain": [
       "[]"
      ]
     },
     "execution_count": 18,
     "metadata": {},
     "output_type": "execute_result"
    }
   ],
   "source": [
    "# Send the model to the selected device\n",
    "# model.to(dev)\n",
    "# Log metrics with wandb\n",
    "wandb.watch(model)"
   ]
  },
  {
   "cell_type": "code",
   "execution_count": 19,
   "id": "c7111233",
   "metadata": {},
   "outputs": [
    {
     "name": "stderr",
     "output_type": "stream",
     "text": [
      "/usr/local/lib/python3.8/dist-packages/coffea/util.py:154: FutureWarning: In coffea version v0.8.0 (target date: 31 Dec 2022), this will be an error.\n",
      "(Set coffea.deprecations_as_errors = True to get a stack trace now.)\n",
      "ImportError: coffea.hist is deprecated\n",
      "  warnings.warn(message, FutureWarning)\n",
      "\u001b[1m[06:12:05.687]\u001b[0m \u001b[1;95mINFO \u001b[1;0m  \u001b[1mengine.engineCaloV3                               \u001b[0mSetting up engine Calo.\n",
      "\u001b[1m[06:12:05.688]\u001b[0m \u001b[1;95mINFO \u001b[1;0m  \u001b[1mengine.engine                                     \u001b[0mSetting up default engine.\n"
     ]
    }
   ],
   "source": [
    "# For some reason, need to use postional parameter cfg instead of named parameter\n",
    "# with updated Hydra - used to work with named param but now is cfg=None \n",
    "engine=instantiate(config.engine, config)"
   ]
  },
  {
   "cell_type": "code",
   "execution_count": 20,
   "id": "56cdce99",
   "metadata": {},
   "outputs": [],
   "source": [
    "# config"
   ]
  },
  {
   "cell_type": "code",
   "execution_count": 21,
   "id": "142d2970",
   "metadata": {},
   "outputs": [],
   "source": [
    "#TODO for some reason hydra double instantiates the engine in a\n",
    "#newer version if cfg=config is passed as an argument. This is a workaround.\n",
    "#Find out why that is...\n",
    "engine._config=config\n",
    "#add dataMgr instance to engine namespace\n",
    "engine.data_mgr=dataMgr\n",
    "#add device instance to engine namespace\n",
    "engine.device=dev    \n",
    "#instantiate and register optimisation algorithm\n",
    "engine.optimiser = torch.optim.Adam(model.parameters(),\n",
    "                                    lr=config.engine.learning_rate)\n",
    "#add the model instance to the engine namespace\n",
    "engine.model = model\n",
    "# add the modelCreator instance to engine namespace\n",
    "engine.model_creator = modelCreator"
   ]
  },
  {
   "cell_type": "code",
   "execution_count": 24,
   "id": "7278aa9f",
   "metadata": {},
   "outputs": [],
   "source": [
    "###################"
   ]
  },
  {
   "cell_type": "markdown",
   "id": "e1c17b7b",
   "metadata": {},
   "source": [
    "model"
   ]
  },
  {
   "cell_type": "code",
   "execution_count": 24,
   "id": "df2e7851",
   "metadata": {},
   "outputs": [],
   "source": [
    "# model.forward"
   ]
  },
  {
   "cell_type": "code",
   "execution_count": 21,
   "id": "658df8af",
   "metadata": {},
   "outputs": [],
   "source": [
    "# model.encoder\n",
    "outputDec = model.decoder(torch.rand(128,2001))"
   ]
  },
  {
   "cell_type": "code",
   "execution_count": 26,
   "id": "03388877",
   "metadata": {},
   "outputs": [
    {
     "data": {
      "text/plain": [
       "2"
      ]
     },
     "execution_count": 26,
     "metadata": {},
     "output_type": "execute_result"
    }
   ],
   "source": [
    "len(outputDec)"
   ]
  },
  {
   "cell_type": "code",
   "execution_count": 31,
   "id": "9c05b5b2",
   "metadata": {},
   "outputs": [
    {
     "data": {
      "text/plain": [
       "torch.Size([128, 368])"
      ]
     },
     "execution_count": 31,
     "metadata": {},
     "output_type": "execute_result"
    }
   ],
   "source": [
    "outputDec[1].shape"
   ]
  },
  {
   "cell_type": "code",
   "execution_count": 22,
   "id": "bfc28ba2",
   "metadata": {},
   "outputs": [
    {
     "data": {
      "text/plain": [
       "EncoderCNN(\n",
       "  (_layers): ModuleList()\n",
       "  (activation_fct): ReLU()\n",
       "  (_networks): ModuleList(\n",
       "    (0): Sequential(\n",
       "      (0): Linear(in_features=369, out_features=576, bias=True)\n",
       "      (1): Unflatten(dim=1, unflattened_size=(1, 24, 24))\n",
       "      (2): Conv2d(1, 64, kernel_size=(3, 3), stride=(1, 1))\n",
       "      (3): BatchNorm2d(64, eps=1e-05, momentum=0.1, affine=True, track_running_stats=True)\n",
       "      (4): PReLU(num_parameters=64)\n",
       "      (5): Conv2d(64, 128, kernel_size=(3, 3), stride=(1, 1))\n",
       "      (6): PReLU(num_parameters=128)\n",
       "      (7): MaxPool2d(kernel_size=2, stride=2, padding=0, dilation=1, ceil_mode=False)\n",
       "      (8): Conv2d(128, 256, kernel_size=(3, 3), stride=(1, 1))\n",
       "      (9): PReLU(num_parameters=256)\n",
       "      (10): LeakyReLU(negative_slope=0.02)\n",
       "      (11): Conv2d(256, 512, kernel_size=(2, 2), stride=(1, 1))\n",
       "      (12): PReLU(num_parameters=512)\n",
       "      (13): Conv2d(512, 1024, kernel_size=(2, 2), stride=(1, 1))\n",
       "      (14): PReLU(num_parameters=1024)\n",
       "      (15): MaxPool2d(kernel_size=2, stride=2, padding=0, dilation=1, ceil_mode=False)\n",
       "      (16): Conv2d(1024, 1000, kernel_size=(2, 2), stride=(1, 1))\n",
       "      (17): PReLU(num_parameters=1000)\n",
       "      (18): MaxPool2d(kernel_size=2, stride=2, padding=0, dilation=1, ceil_mode=False)\n",
       "      (19): Flatten(start_dim=1, end_dim=-1)\n",
       "    )\n",
       "  )\n",
       "  (smoothing_dist_mod): GumbelMod(\n",
       "    (activation_fct): Sigmoid()\n",
       "  )\n",
       ")"
      ]
     },
     "execution_count": 22,
     "metadata": {},
     "output_type": "execute_result"
    }
   ],
   "source": [
    "model.encoder"
   ]
  },
  {
   "cell_type": "code",
   "execution_count": 33,
   "id": "6612ce0d",
   "metadata": {},
   "outputs": [
    {
     "name": "stderr",
     "output_type": "stream",
     "text": [
      "\u001b[1m[06:20:50.861]\u001b[0m \u001b[1;95mINFO \u001b[1;0m  \u001b[1mdata.dataManager                                  \u001b[0m<torch.utils.data.dataloader.DataLoader object at 0x7f9c2fd7a5e0>: 94387 events, 738 batches\n",
      "\u001b[1m[06:20:50.862]\u001b[0m \u001b[1;95mINFO \u001b[1;0m  \u001b[1mdata.dataManager                                  \u001b[0m<torch.utils.data.dataloader.DataLoader object at 0x7f99f91a6430>: 11798 events, 12 batches\n",
      "\u001b[1m[06:20:50.862]\u001b[0m \u001b[1;95mINFO \u001b[1;0m  \u001b[1mdata.dataManager                                  \u001b[0m<torch.utils.data.dataloader.DataLoader object at 0x7f9af0434b20>: 11799 events, 12 batches\n"
     ]
    }
   ],
   "source": [
    "train_loader,test_loader,val_loader = engine.data_mgr.create_dataLoader()"
   ]
  },
  {
   "cell_type": "code",
   "execution_count": 34,
   "id": "ddd09714",
   "metadata": {},
   "outputs": [],
   "source": [
    "xx = next(iter(train_loader))"
   ]
  },
  {
   "cell_type": "code",
   "execution_count": 35,
   "id": "530a7e68",
   "metadata": {},
   "outputs": [],
   "source": [
    "in_data, true_energy, in_data_flat = engine._preprocess(xx[0],xx[1]) # input , label\n",
    "\n",
    "# batch_loss_dict = engine._model.loss(in_data, fwd_output)                \n"
   ]
  },
  {
   "cell_type": "code",
   "execution_count": 25,
   "id": "eda32f97",
   "metadata": {},
   "outputs": [],
   "source": [
    "engine.model = engine.model.to(dev)"
   ]
  },
  {
   "cell_type": "code",
   "execution_count": 26,
   "id": "fc87a05c",
   "metadata": {},
   "outputs": [],
   "source": [
    "# in_data_flat\n",
    "fwd_output = engine._model((in_data, true_energy), True)\n"
   ]
  },
  {
   "cell_type": "code",
   "execution_count": 78,
   "id": "4768347c",
   "metadata": {},
   "outputs": [],
   "source": [
    "# fwd_output"
   ]
  },
  {
   "cell_type": "code",
   "execution_count": 28,
   "id": "106bcde8",
   "metadata": {},
   "outputs": [],
   "source": [
    "batch_loss_dict = engine._model.loss(in_data, fwd_output)"
   ]
  },
  {
   "cell_type": "code",
   "execution_count": 29,
   "id": "a976f026",
   "metadata": {},
   "outputs": [
    {
     "data": {
      "text/plain": [
       "{'ae_loss': tensor(6925.5205, device='cuda:0', grad_fn=<MeanBackward1>),\n",
       " 'kl_loss': tensor(-633.4103, device='cuda:0', grad_fn=<AddBackward0>),\n",
       " 'hit_loss': tensor(255.6500, device='cuda:0', grad_fn=<MeanBackward1>),\n",
       " 'entropy': tensor(-665.5344, device='cuda:0', grad_fn=<MeanBackward1>),\n",
       " 'pos_energy': tensor(-154.3983, device='cuda:0', grad_fn=<MeanBackward1>),\n",
       " 'neg_energy': tensor(186.5225, device='cuda:0', grad_fn=<NegBackward0>)}"
      ]
     },
     "execution_count": 29,
     "metadata": {},
     "output_type": "execute_result"
    }
   ],
   "source": [
    "batch_loss_dict"
   ]
  },
  {
   "cell_type": "code",
   "execution_count": 37,
   "id": "86bf9fec",
   "metadata": {},
   "outputs": [
    {
     "data": {
      "text/plain": [
       "tensor(5., device='cuda:0')"
      ]
     },
     "execution_count": 37,
     "metadata": {},
     "output_type": "execute_result"
    }
   ],
   "source": [
    "# print(fwd_output)\n",
    "fwd_output.beta"
   ]
  },
  {
   "cell_type": "code",
   "execution_count": 30,
   "id": "875a5d8c",
   "metadata": {},
   "outputs": [],
   "source": [
    "out=engine._model._output_container.clear()"
   ]
  },
  {
   "cell_type": "code",
   "execution_count": 36,
   "id": "f1c2b268",
   "metadata": {},
   "outputs": [],
   "source": [
    "x = (in_data, true_energy)"
   ]
  },
  {
   "cell_type": "code",
   "execution_count": 39,
   "id": "8be50b04",
   "metadata": {},
   "outputs": [
    {
     "data": {
      "text/plain": [
       "tensor([[[  4096.,   4096.,   4096.],\n",
       "         [131072., 131072., 131072.],\n",
       "         [   512.,    512.,    512.],\n",
       "         ...,\n",
       "         [ 32768.,  32768.,  32768.],\n",
       "         [131072., 131072., 131072.],\n",
       "         [   512.,    512.,    512.]]], device='cuda:0')"
      ]
     },
     "execution_count": 39,
     "metadata": {},
     "output_type": "execute_result"
    }
   ],
   "source": [
    "x[1].repeat(1,3,3)"
   ]
  },
  {
   "cell_type": "code",
   "execution_count": 32,
   "id": "8442f790",
   "metadata": {},
   "outputs": [],
   "source": [
    "#Step 1: Feed data through encoder\n",
    "in_data = torch.cat([x[0], x[1]], dim=1)\n",
    "en = engine.model.encoder(in_data, True)\n",
    "out.beta, out.post_logits, out.post_samples = engine.model.encoder(in_data, True)\n",
    "post_samples = torch.cat(out.post_samples, 1)\n",
    "post_samples = torch.cat([post_samples, x[1]], dim=1)\n",
    "\n",
    "output_hits, output_activations = engine.model.decoder(post_samples)\n",
    "\n",
    "# out.output_hits = output_hits\n",
    "# beta = torch.tensor(self._config.model.output_smoothing_fct, dtype=torch.float, device=output_hits.device, requires_grad=False)\n",
    "# out.output_activations = self._energy_activation_fct(output_activations) * self._hit_smoothing_dist_mod(output_hits, beta, is_training)\n",
    "# return out"
   ]
  },
  {
   "cell_type": "code",
   "execution_count": 34,
   "id": "f8d8a9cc",
   "metadata": {},
   "outputs": [
    {
     "data": {
      "text/plain": [
       "torch.Size([128, 368])"
      ]
     },
     "execution_count": 34,
     "metadata": {},
     "output_type": "execute_result"
    }
   ],
   "source": [
    "output_hits.shape"
   ]
  },
  {
   "cell_type": "code",
   "execution_count": 50,
   "id": "1a6ce7ad",
   "metadata": {},
   "outputs": [
    {
     "data": {
      "text/plain": [
       "3"
      ]
     },
     "execution_count": 50,
     "metadata": {},
     "output_type": "execute_result"
    }
   ],
   "source": [
    "len(en)"
   ]
  },
  {
   "cell_type": "code",
   "execution_count": 44,
   "id": "0eaf8109",
   "metadata": {},
   "outputs": [
    {
     "data": {
      "text/plain": [
       "tensor(5., device='cuda:0')"
      ]
     },
     "execution_count": 44,
     "metadata": {},
     "output_type": "execute_result"
    }
   ],
   "source": [
    "en[0]"
   ]
  },
  {
   "cell_type": "code",
   "execution_count": 45,
   "id": "583c5d6f",
   "metadata": {},
   "outputs": [
    {
     "data": {
      "text/plain": [
       "torch.Size([128, 1000])"
      ]
     },
     "execution_count": 45,
     "metadata": {},
     "output_type": "execute_result"
    }
   ],
   "source": [
    "en[1][0].shape"
   ]
  },
  {
   "cell_type": "code",
   "execution_count": 51,
   "id": "bbf5a972",
   "metadata": {},
   "outputs": [
    {
     "data": {
      "text/plain": [
       "torch.Size([128, 1000])"
      ]
     },
     "execution_count": 51,
     "metadata": {},
     "output_type": "execute_result"
    }
   ],
   "source": [
    "en[2][0].shape"
   ]
  },
  {
   "cell_type": "code",
   "execution_count": 33,
   "id": "268f96cd",
   "metadata": {},
   "outputs": [
    {
     "data": {
      "image/png": "[encoded data removed]",
      "text/plain": [
       "<Figure size 640x480 with 1 Axes>"
      ]
     },
     "metadata": {},
     "output_type": "display_data"
    }
   ],
   "source": [
    "# len(out.post_samples)\n",
    "plt.plot(np.transpose( post_samples.detach().cpu().numpy())[:,1] )\n",
    "plt.show()\n"
   ]
  },
  {
   "cell_type": "code",
   "execution_count": 36,
   "id": "21c15d9f",
   "metadata": {},
   "outputs": [
    {
     "data": {
      "image/png": "[encoded data removed]",
      "text/plain": [
       "<Figure size 640x480 with 1 Axes>"
      ]
     },
     "metadata": {},
     "output_type": "display_data"
    }
   ],
   "source": [
    "plt.plot(np.transpose( output_hits.detach().cpu().numpy())[:,1] )\n",
    "plt.show()"
   ]
  },
  {
   "cell_type": "code",
   "execution_count": 82,
   "id": "c8004c6d",
   "metadata": {},
   "outputs": [
    {
     "data": {
      "text/plain": [
       "2"
      ]
     },
     "execution_count": 82,
     "metadata": {},
     "output_type": "execute_result"
    }
   ],
   "source": [
    "model.encoder.n_latent_hierarchy_lvls"
   ]
  },
  {
   "cell_type": "code",
   "execution_count": 168,
   "id": "867d3771",
   "metadata": {},
   "outputs": [
    {
     "data": {
      "text/plain": [
       "368"
      ]
     },
     "execution_count": 168,
     "metadata": {},
     "output_type": "execute_result"
    }
   ],
   "source": [
    "engine.model._flat_input_size\n",
    "# engine.model.n_latent_hierarchy_lvls\n",
    "# engine.model.n_latent_nodes\n",
    "# engine._config"
   ]
  },
  {
   "cell_type": "code",
   "execution_count": 21,
   "id": "e590a017",
   "metadata": {},
   "outputs": [],
   "source": [
    "from models.networks.hierarchicalEncoderV2 import HierarchicalEncoderV2"
   ]
  },
  {
   "cell_type": "code",
   "execution_count": 54,
   "id": "f71dc1f2",
   "metadata": {},
   "outputs": [],
   "source": [
    "heV2 = HierarchicalEncoderV2(\n",
    "            input_dimension=engine.model._flat_input_size+1,\n",
    "            n_latent_hierarchy_lvls=engine.model.n_latent_hierarchy_lvls,\n",
    "            n_latent_nodes=engine.model.n_latent_nodes,\n",
    "            skip_latent_layer=False,\n",
    "            smoother=\"Gumbel\",\n",
    "            cfg=engine._config)\n",
    "heV2 = heV2.to(dev)"
   ]
  },
  {
   "cell_type": "code",
   "execution_count": 58,
   "id": "7640f315",
   "metadata": {},
   "outputs": [
    {
     "data": {
      "text/plain": [
       "HierarchicalEncoderV2(\n",
       "  (_layers): ModuleList()\n",
       "  (activation_fct): ReLU()\n",
       "  (_networks): ModuleList(\n",
       "    (0): Sequential(\n",
       "      (0): Linear(in_features=369, out_features=500, bias=True)\n",
       "      (1): ReLU()\n",
       "      (2): Linear(in_features=500, out_features=450, bias=True)\n",
       "      (3): ReLU()\n",
       "      (4): Linear(in_features=450, out_features=400, bias=True)\n",
       "      (5): ReLU()\n",
       "      (6): Linear(in_features=400, out_features=350, bias=True)\n",
       "      (7): ReLU()\n",
       "      (8): Linear(in_features=350, out_features=300, bias=True)\n",
       "      (9): ReLU()\n",
       "      (10): Linear(in_features=300, out_features=1000, bias=True)\n",
       "      (11): Identity()\n",
       "    )\n",
       "    (1): Sequential(\n",
       "      (0): Linear(in_features=1369, out_features=500, bias=True)\n",
       "      (1): ReLU()\n",
       "      (2): Linear(in_features=500, out_features=450, bias=True)\n",
       "      (3): ReLU()\n",
       "      (4): Linear(in_features=450, out_features=400, bias=True)\n",
       "      (5): ReLU()\n",
       "      (6): Linear(in_features=400, out_features=350, bias=True)\n",
       "      (7): ReLU()\n",
       "      (8): Linear(in_features=350, out_features=300, bias=True)\n",
       "      (9): ReLU()\n",
       "      (10): Linear(in_features=300, out_features=1000, bias=True)\n",
       "      (11): Identity()\n",
       "    )\n",
       "  )\n",
       "  (smoothing_dist_mod): GumbelMod(\n",
       "    (activation_fct): Sigmoid()\n",
       "  )\n",
       ")"
      ]
     },
     "execution_count": 58,
     "metadata": {},
     "output_type": "execute_result"
    }
   ],
   "source": [
    "heV2"
   ]
  },
  {
   "cell_type": "code",
   "execution_count": 22,
   "id": "77856af7",
   "metadata": {},
   "outputs": [],
   "source": [
    "from models.networks.EncoderCNN import EncoderCNN"
   ]
  },
  {
   "cell_type": "code",
   "execution_count": 23,
   "id": "1822cabd",
   "metadata": {},
   "outputs": [],
   "source": [
    "enCNN = EncoderCNN(\n",
    "            input_dimension=engine.model._flat_input_size+1,\n",
    "            n_latent_hierarchy_lvls=1, #engine.model.n_latent_hierarchy_lvls\n",
    "            n_latent_nodes=engine.model.n_latent_nodes,\n",
    "            skip_latent_layer=False,\n",
    "            smoother=\"Gumbel\",\n",
    "            cfg=engine._config)\n",
    "enCNN = enCNN.to(dev)"
   ]
  },
  {
   "cell_type": "code",
   "execution_count": 24,
   "id": "3b7f5c16",
   "metadata": {},
   "outputs": [
    {
     "data": {
      "text/plain": [
       "EncoderCNN(\n",
       "  (_layers): ModuleList()\n",
       "  (activation_fct): ReLU()\n",
       "  (_networks): ModuleList(\n",
       "    (0): Sequential(\n",
       "      (0): Linear(in_features=369, out_features=576, bias=True)\n",
       "      (1): Unflatten(dim=1, unflattened_size=(1, 24, 24))\n",
       "      (2): Conv2d(1, 64, kernel_size=(3, 3), stride=(1, 1))\n",
       "      (3): BatchNorm2d(64, eps=1e-05, momentum=0.1, affine=True, track_running_stats=True)\n",
       "      (4): PReLU(num_parameters=64)\n",
       "      (5): Conv2d(64, 128, kernel_size=(3, 3), stride=(1, 1))\n",
       "      (6): PReLU(num_parameters=128)\n",
       "      (7): MaxPool2d(kernel_size=2, stride=2, padding=0, dilation=1, ceil_mode=False)\n",
       "      (8): Conv2d(128, 256, kernel_size=(3, 3), stride=(1, 1))\n",
       "      (9): PReLU(num_parameters=256)\n",
       "      (10): LeakyReLU(negative_slope=0.02)\n",
       "      (11): Conv2d(256, 512, kernel_size=(2, 2), stride=(1, 1))\n",
       "      (12): PReLU(num_parameters=512)\n",
       "      (13): Conv2d(512, 1024, kernel_size=(2, 2), stride=(1, 1))\n",
       "      (14): PReLU(num_parameters=1024)\n",
       "      (15): MaxPool2d(kernel_size=2, stride=2, padding=0, dilation=1, ceil_mode=False)\n",
       "      (16): Conv2d(1024, 1000, kernel_size=(2, 2), stride=(1, 1))\n",
       "      (17): PReLU(num_parameters=1000)\n",
       "      (18): MaxPool2d(kernel_size=2, stride=2, padding=0, dilation=1, ceil_mode=False)\n",
       "      (19): Flatten(start_dim=1, end_dim=-1)\n",
       "    )\n",
       "  )\n",
       "  (smoothing_dist_mod): GumbelMod(\n",
       "    (activation_fct): Sigmoid()\n",
       "  )\n",
       ")"
      ]
     },
     "execution_count": 24,
     "metadata": {},
     "output_type": "execute_result"
    }
   ],
   "source": [
    "# result = enCNN(in_data)\n",
    "enCNN"
   ]
  },
  {
   "cell_type": "code",
   "execution_count": 108,
   "id": "8c330155",
   "metadata": {},
   "outputs": [],
   "source": [
    "from models.autoencoders.gumboltAtlasCRBMCNN import GumBoltAtlasCRBMCNN"
   ]
  },
  {
   "cell_type": "code",
   "execution_count": 27,
   "id": "e170a95a",
   "metadata": {},
   "outputs": [],
   "source": [
    "# GumBoltAtlasCRBMCNN()"
   ]
  },
  {
   "cell_type": "code",
   "execution_count": 25,
   "id": "2a1f8de9",
   "metadata": {},
   "outputs": [
    {
     "data": {
      "text/plain": [
       "DecoderCNN(\n",
       "  (_layers): Sequential(\n",
       "    (0): Unflatten(dim=1, unflattened_size=(1001, 1, 1))\n",
       "    (1): ConvTranspose2d(1001, 512, kernel_size=(4, 4), stride=(1, 1))\n",
       "    (2): BatchNorm2d(512, eps=1e-05, momentum=0.1, affine=True, track_running_stats=True)\n",
       "    (3): PReLU(num_parameters=512)\n",
       "    (4): ConvTranspose2d(512, 256, kernel_size=(4, 4), stride=(2, 2))\n",
       "    (5): PReLU(num_parameters=256)\n",
       "    (6): ConvTranspose2d(256, 128, kernel_size=(3, 3), stride=(2, 2))\n",
       "    (7): BatchNorm2d(128, eps=1e-05, momentum=0.1, affine=True, track_running_stats=True)\n",
       "    (8): PReLU(num_parameters=128)\n",
       "  )\n",
       "  (_activation_fct): ReLU()\n",
       "  (_layers2): Sequential(\n",
       "    (0): ConvTranspose2d(128, 32, kernel_size=(2, 2), stride=(1, 1))\n",
       "    (1): PReLU(num_parameters=32)\n",
       "    (2): ConvTranspose2d(32, 16, kernel_size=(2, 2), stride=(1, 1))\n",
       "    (3): PReLU(num_parameters=16)\n",
       "    (4): ConvTranspose2d(16, 1, kernel_size=(2, 2), stride=(1, 1))\n",
       "    (5): Dropout(p=0.5, inplace=False)\n",
       "    (6): Flatten(start_dim=1, end_dim=-1)\n",
       "    (7): Linear(in_features=576, out_features=368, bias=True)\n",
       "  )\n",
       "  (_layers3): Sequential(\n",
       "    (0): ConvTranspose2d(128, 32, kernel_size=(2, 2), stride=(1, 1))\n",
       "    (1): PReLU(num_parameters=32)\n",
       "    (2): ConvTranspose2d(32, 16, kernel_size=(2, 2), stride=(1, 1))\n",
       "    (3): PReLU(num_parameters=16)\n",
       "    (4): ConvTranspose2d(16, 1, kernel_size=(2, 2), stride=(1, 1))\n",
       "    (5): Dropout(p=0.2, inplace=False)\n",
       "    (6): Flatten(start_dim=1, end_dim=-1)\n",
       "    (7): Linear(in_features=576, out_features=368, bias=True)\n",
       "  )\n",
       "  (_output_activation_fct): Identity()\n",
       ")"
      ]
     },
     "execution_count": 25,
     "metadata": {},
     "output_type": "execute_result"
    }
   ],
   "source": [
    "model.decoder"
   ]
  },
  {
   "cell_type": "code",
   "execution_count": 68,
   "id": "52f84548",
   "metadata": {},
   "outputs": [],
   "source": [
    "z = model.decoder._layers(torch.rand(128,1001))"
   ]
  },
  {
   "cell_type": "code",
   "execution_count": 67,
   "id": "2b4c18c4",
   "metadata": {},
   "outputs": [],
   "source": [
    "# z"
   ]
  },
  {
   "cell_type": "code",
   "execution_count": 70,
   "id": "a64aee7e",
   "metadata": {},
   "outputs": [
    {
     "data": {
      "text/plain": [
       "torch.Size([128, 129, 21, 21])"
      ]
     },
     "execution_count": 70,
     "metadata": {},
     "output_type": "execute_result"
    }
   ],
   "source": [
    "enn = x[1]\n",
    "torch.unsqueeze(enn, 2).shape\n",
    "# enn.repeat(128,1,3,3).shape\n",
    "# enn.unsqueeze(2).unsqueeze(3).repeat(1,1,3,3)\n",
    "torch.cat((z, enn.cpu().unsqueeze(2).unsqueeze(3).repeat(1,1,21,21)), 1).shape"
   ]
  },
  {
   "cell_type": "code",
   "execution_count": null,
   "id": "64a04860",
   "metadata": {},
   "outputs": [],
   "source": [
    "###DEcoder"
   ]
  },
  {
   "cell_type": "code",
   "execution_count": 25,
   "id": "c127e824",
   "metadata": {},
   "outputs": [],
   "source": [
    "import torch.nn as nn"
   ]
  },
  {
   "cell_type": "code",
   "execution_count": 57,
   "id": "b118a2ad",
   "metadata": {},
   "outputs": [],
   "source": [
    "_layers = nn.Sequential(\n",
    "                   nn.Unflatten(1, (1001, 1,1)),\n",
    "    \n",
    "                   nn.ConvTranspose2d(1001, 512, 4, 1, 0),\n",
    "                   nn.BatchNorm2d(512),\n",
    "                   nn.PReLU(512),\n",
    "\n",
    "                   nn.ConvTranspose2d(512, 256, 4, 2, 0),\n",
    "                   nn.PReLU(256),\n",
    "\n",
    "                   nn.ConvTranspose2d(256, 128, 3, 2, 0),\n",
    "                   nn.BatchNorm2d(128),\n",
    "                   nn.PReLU(128),\n",
    "\n",
    "                                   )"
   ]
  },
  {
   "cell_type": "code",
   "execution_count": 58,
   "id": "e3efbb2d",
   "metadata": {},
   "outputs": [
    {
     "data": {
      "text/plain": [
       "torch.Size([128, 128, 21, 21])"
      ]
     },
     "execution_count": 58,
     "metadata": {},
     "output_type": "execute_result"
    }
   ],
   "source": [
    "_layers(torch.rand(128,1001)).shape"
   ]
  },
  {
   "cell_type": "code",
   "execution_count": 59,
   "id": "b46815c4",
   "metadata": {},
   "outputs": [],
   "source": [
    "_layers2 = nn.Sequential(\n",
    "                   nn.ConvTranspose2d(128, 32, 2, 1, 0),\n",
    "                   nn.PReLU(32),\n",
    "\n",
    "                   nn.ConvTranspose2d(32, 16, 2, 1, 0),\n",
    "                   nn.PReLU(16),\n",
    "\n",
    "                   nn.ConvTranspose2d(16, 1, 2, 1, 0),\n",
    "                   nn.Dropout(0.4),                  \n",
    "    \n",
    "                   nn.Flatten(),\n",
    "                   nn.Linear(576,368),\n",
    "                                   )"
   ]
  },
  {
   "cell_type": "code",
   "execution_count": 60,
   "id": "6b06e346",
   "metadata": {},
   "outputs": [
    {
     "data": {
      "text/plain": [
       "torch.Size([128, 368])"
      ]
     },
     "execution_count": 60,
     "metadata": {},
     "output_type": "execute_result"
    }
   ],
   "source": [
    "_layers2(torch.rand(128,128,21,21)).shape"
   ]
  },
  {
   "cell_type": "code",
   "execution_count": 61,
   "id": "2fbbe74d",
   "metadata": {},
   "outputs": [
    {
     "data": {
      "text/plain": [
       "tensor([[147.5487, 142.3052, 136.9781,  ..., 154.2853, 145.3901, 144.4370],\n",
       "        [148.4435, 144.5593, 142.4695,  ..., 153.2279, 145.1935, 145.7170],\n",
       "        [150.9962, 147.4809, 143.3409,  ..., 156.9807, 151.1649, 148.0030],\n",
       "        ...,\n",
       "        [143.6592, 143.9144, 139.3793,  ..., 150.2607, 140.4507, 146.7038],\n",
       "        [144.8691, 139.4242, 138.5883,  ..., 148.5443, 142.7310, 141.6716],\n",
       "        [155.4580, 152.4474, 147.5072,  ..., 160.5548, 153.9460, 155.4306]])"
      ]
     },
     "execution_count": 61,
     "metadata": {},
     "output_type": "execute_result"
    }
   ],
   "source": [
    "nn.functional.linear(torch.rand(128,576), torch.rand(368,576))"
   ]
  },
  {
   "cell_type": "code",
   "execution_count": null,
   "id": "7473cd13",
   "metadata": {},
   "outputs": [],
   "source": []
  }
 ],
 "metadata": {
  "kernelspec": {
   "display_name": "Python 3 (ipykernel)",
   "language": "python",
   "name": "python3"
  },
  "language_info": {
   "codemirror_mode": {
    "name": "ipython",
    "version": 3
   },
   "file_extension": ".py",
   "mimetype": "text/x-python",
   "name": "python",
   "nbconvert_exporter": "python",
   "pygments_lexer": "ipython3",
   "version": "3.8.10"
  }
 },
 "nbformat": 4,
 "nbformat_minor": 5
}
