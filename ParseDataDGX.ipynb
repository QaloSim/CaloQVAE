{
 "cells": [
  {
   "cell_type": "code",
   "execution_count": 1,
   "id": "3d0842d8-c861-4696-a0cd-adde2f4cba55",
   "metadata": {},
   "outputs": [],
   "source": [
    "# tar -xvzf /path/to/yourfile.tgz -C /path/where/to/extract/\n",
    "# tar -xvzf /home/jtoledo/ATLAS-dataset/15012/photon_samples.tgz -C ./photon_samples/\n",
    "using CSV, DataFrames, Plots, Statistics, HDF5, Random"
   ]
  },
  {
   "cell_type": "code",
   "execution_count": 2,
   "id": "7fb7dcc0-e388-4a98-ab25-53d2ce5453c3",
   "metadata": {},
   "outputs": [
    {
     "data": {
      "text/plain": [
       "loadCSVs (generic function with 1 method)"
      ]
     },
     "execution_count": 2,
     "metadata": {},
     "output_type": "execute_result"
    }
   ],
   "source": [
    "function loadCSVs(; keyword = \"photons_samples_highStat\")\n",
    "    files = readdir(\"/raid/javier/Datasets/CaloVAE/data/$(keyword)/\", join=true)\n",
    "    ar = Array(CSV.read(files[1], DataFrame))\n",
    "    en_in_file = parse(Float64, split(split(files[1], \"_eta_\")[1], \"_E\")[2])\n",
    "    enInit = [en_in_file for i in 1:size(ar,1)]\n",
    "    for file in files[2:end]\n",
    "        @info file\n",
    "        tmp = Array(CSV.read(file, DataFrame))\n",
    "        if file == \"/raid/javier/Datasets/CaloVAE/data/$(keyword)/pid22_E8192_eta_20_25_voxalisation.csv\" # Missing values in last event\n",
    "            tmp = tmp[1:end-1,:]\n",
    "        end\n",
    "        ar = vcat(ar, tmp)\n",
    "        en_in_file = parse(Float64, split(split(file, \"_eta_\")[1], \"_E\")[2])\n",
    "        enInit = vcat(enInit, [en_in_file for i in 1:size(tmp,1)])\n",
    "    end\n",
    "    ar[typeof.(ar) .!= Float64] = parse.(Float64, ar[typeof.(ar) .!= Float64])\n",
    "    ar = Array{Float64}(ar')\n",
    "    return ar, enInit\n",
    "end"
   ]
  },
  {
   "cell_type": "code",
   "execution_count": 45,
   "id": "f3b3dcc1-92a6-4218-935b-96ab3341fe24",
   "metadata": {},
   "outputs": [
    {
     "data": {
      "text/plain": [
       "filterByEnergy (generic function with 2 methods)"
      ]
     },
     "execution_count": 45,
     "metadata": {},
     "output_type": "execute_result"
    }
   ],
   "source": [
    "function filterByEnergy(events, energy_inc, energy=256)\n",
    "    idx = findall(x->x == energy, energy_inc)\n",
    "    if isempty(idx)\n",
    "        @warn \"try an energy power of 2.\"\n",
    "        return [0], [0]\n",
    "    else\n",
    "        return events[:,idx], energy_inc[idx]\n",
    "    end\n",
    "end"
   ]
  },
  {
   "cell_type": "code",
   "execution_count": 80,
   "id": "8744ad34-c3d4-4509-abc3-7e44be9a51dd",
   "metadata": {},
   "outputs": [
    {
     "data": {
      "text/plain": [
       "savePerEnergy (generic function with 3 methods)"
      ]
     },
     "execution_count": 80,
     "metadata": {},
     "output_type": "execute_result"
    }
   ],
   "source": [
    "function savePerEnergy(events0, energy_inc0, energy=256, keyword=\"photons_highStat\")\n",
    "    events, energy_inc = filterByEnergy(events0, energy_inc0, energy)\n",
    "    energy_in_Vox = sum(events, dims=1)\n",
    "    logEnergy256 = Int(log2(energy/256))\n",
    "    h5open(\"/raid/javier/Datasets/CaloVAE/data/atlas/$(keyword)_En_$(logEnergy256).hdf5\", \"w\") do file\n",
    "        write(file, \"voxels\", events)\n",
    "        write(file, \"energy_from_voxels\", energy_in_Vox)\n",
    "        write(file, \"energy\", Array(energy_inc'))\n",
    "    end\n",
    "end"
   ]
  },
  {
   "cell_type": "code",
   "execution_count": 71,
   "id": "bf222719-2cda-4842-a7d2-35a06359ebc1",
   "metadata": {},
   "outputs": [
    {
     "data": {
      "text/plain": [
       "1×79999 Matrix{Float64}:\n",
       " 164.651  264.054  197.668  247.764  …  204.601  343.276  321.355  72.8016"
      ]
     },
     "execution_count": 71,
     "metadata": {},
     "output_type": "execute_result"
    }
   ],
   "source": [
    "# for energy in sort(unique(energy_inc0))\n",
    "#     @info energy\n",
    "# end\n",
    "events, energy_inc = filterByEnergy(events0, energy_inc0, 256)\n",
    "energy_in_Vox = sum(events, dims=1)"
   ]
  },
  {
   "cell_type": "code",
   "execution_count": 81,
   "id": "245afcf7-56cf-4fd4-b65f-0ea92243023f",
   "metadata": {},
   "outputs": [
    {
     "data": {
      "text/plain": [
       "datasetPerEnergyFromCSV (generic function with 3 methods)"
      ]
     },
     "execution_count": 81,
     "metadata": {},
     "output_type": "execute_result"
    }
   ],
   "source": [
    "function datasetPerEnergyFromCSV(keyword=\"photons_samples_highStat\")\n",
    "    events0, energy_inc0 = loadCSVs(; keyword)\n",
    "    for energy in sort(unique(energy_inc0))\n",
    "        @info energy, keyword\n",
    "        savePerEnergy(events0, energy_inc0, energy, keyword)\n",
    "    end\n",
    "end"
   ]
  },
  {
   "cell_type": "code",
   "execution_count": 84,
   "id": "5df7d70d-a3ea-4e4b-853f-5b5b69d9e86d",
   "metadata": {},
   "outputs": [
    {
     "name": "stderr",
     "output_type": "stream",
     "text": [
      "\u001b[36m\u001b[1m[ \u001b[22m\u001b[39m\u001b[36m\u001b[1mInfo: \u001b[22m\u001b[39m/raid/javier/Datasets/CaloVAE/data/pions_samples_highStat/pid211_E1048576_eta_20_25_voxalisation.csv\n",
      "\u001b[36m\u001b[1m[ \u001b[22m\u001b[39m\u001b[36m\u001b[1mInfo: \u001b[22m\u001b[39m/raid/javier/Datasets/CaloVAE/data/pions_samples_highStat/pid211_E131072_eta_20_25_voxalisation.csv\n",
      "\u001b[36m\u001b[1m[ \u001b[22m\u001b[39m\u001b[36m\u001b[1mInfo: \u001b[22m\u001b[39m/raid/javier/Datasets/CaloVAE/data/pions_samples_highStat/pid211_E16384_eta_20_25_voxalisation.csv\n",
      "\u001b[36m\u001b[1m[ \u001b[22m\u001b[39m\u001b[36m\u001b[1mInfo: \u001b[22m\u001b[39m/raid/javier/Datasets/CaloVAE/data/pions_samples_highStat/pid211_E2048_eta_20_25_voxalisation.csv\n",
      "\u001b[36m\u001b[1m[ \u001b[22m\u001b[39m\u001b[36m\u001b[1mInfo: \u001b[22m\u001b[39m/raid/javier/Datasets/CaloVAE/data/pions_samples_highStat/pid211_E2097152_eta_20_25_voxalisation.csv\n",
      "\u001b[36m\u001b[1m[ \u001b[22m\u001b[39m\u001b[36m\u001b[1mInfo: \u001b[22m\u001b[39m/raid/javier/Datasets/CaloVAE/data/pions_samples_highStat/pid211_E256_eta_20_25_voxalisation.csv\n",
      "\u001b[36m\u001b[1m[ \u001b[22m\u001b[39m\u001b[36m\u001b[1mInfo: \u001b[22m\u001b[39m/raid/javier/Datasets/CaloVAE/data/pions_samples_highStat/pid211_E262144_eta_20_25_voxalisation.csv\n",
      "\u001b[36m\u001b[1m[ \u001b[22m\u001b[39m\u001b[36m\u001b[1mInfo: \u001b[22m\u001b[39m/raid/javier/Datasets/CaloVAE/data/pions_samples_highStat/pid211_E32768_eta_20_25_voxalisation.csv\n",
      "\u001b[36m\u001b[1m[ \u001b[22m\u001b[39m\u001b[36m\u001b[1mInfo: \u001b[22m\u001b[39m/raid/javier/Datasets/CaloVAE/data/pions_samples_highStat/pid211_E4096_eta_20_25_voxalisation.csv\n",
      "\u001b[36m\u001b[1m[ \u001b[22m\u001b[39m\u001b[36m\u001b[1mInfo: \u001b[22m\u001b[39m/raid/javier/Datasets/CaloVAE/data/pions_samples_highStat/pid211_E4194304_eta_20_25_voxalisation.csv\n",
      "\u001b[36m\u001b[1m[ \u001b[22m\u001b[39m\u001b[36m\u001b[1mInfo: \u001b[22m\u001b[39m/raid/javier/Datasets/CaloVAE/data/pions_samples_highStat/pid211_E512_eta_20_25_voxalisation.csv\n",
      "\u001b[36m\u001b[1m[ \u001b[22m\u001b[39m\u001b[36m\u001b[1mInfo: \u001b[22m\u001b[39m/raid/javier/Datasets/CaloVAE/data/pions_samples_highStat/pid211_E524288_eta_20_25_voxalisation.csv\n",
      "\u001b[36m\u001b[1m[ \u001b[22m\u001b[39m\u001b[36m\u001b[1mInfo: \u001b[22m\u001b[39m/raid/javier/Datasets/CaloVAE/data/pions_samples_highStat/pid211_E65536_eta_20_25_voxalisation.csv\n",
      "\u001b[36m\u001b[1m[ \u001b[22m\u001b[39m\u001b[36m\u001b[1mInfo: \u001b[22m\u001b[39m/raid/javier/Datasets/CaloVAE/data/pions_samples_highStat/pid211_E8192_eta_20_25_voxalisation.csv\n",
      "\u001b[36m\u001b[1m[ \u001b[22m\u001b[39m\u001b[36m\u001b[1mInfo: \u001b[22m\u001b[39m(256.0, \"pions_samples_highStat\")\n",
      "\u001b[36m\u001b[1m[ \u001b[22m\u001b[39m\u001b[36m\u001b[1mInfo: \u001b[22m\u001b[39m(512.0, \"pions_samples_highStat\")\n",
      "\u001b[36m\u001b[1m[ \u001b[22m\u001b[39m\u001b[36m\u001b[1mInfo: \u001b[22m\u001b[39m(1024.0, \"pions_samples_highStat\")\n",
      "\u001b[36m\u001b[1m[ \u001b[22m\u001b[39m\u001b[36m\u001b[1mInfo: \u001b[22m\u001b[39m(2048.0, \"pions_samples_highStat\")\n",
      "\u001b[36m\u001b[1m[ \u001b[22m\u001b[39m\u001b[36m\u001b[1mInfo: \u001b[22m\u001b[39m(4096.0, \"pions_samples_highStat\")\n",
      "\u001b[36m\u001b[1m[ \u001b[22m\u001b[39m\u001b[36m\u001b[1mInfo: \u001b[22m\u001b[39m(8192.0, \"pions_samples_highStat\")\n",
      "\u001b[36m\u001b[1m[ \u001b[22m\u001b[39m\u001b[36m\u001b[1mInfo: \u001b[22m\u001b[39m(16384.0, \"pions_samples_highStat\")\n",
      "\u001b[36m\u001b[1m[ \u001b[22m\u001b[39m\u001b[36m\u001b[1mInfo: \u001b[22m\u001b[39m(32768.0, \"pions_samples_highStat\")\n",
      "\u001b[36m\u001b[1m[ \u001b[22m\u001b[39m\u001b[36m\u001b[1mInfo: \u001b[22m\u001b[39m(65536.0, \"pions_samples_highStat\")\n",
      "\u001b[36m\u001b[1m[ \u001b[22m\u001b[39m\u001b[36m\u001b[1mInfo: \u001b[22m\u001b[39m(131072.0, \"pions_samples_highStat\")\n",
      "\u001b[36m\u001b[1m[ \u001b[22m\u001b[39m\u001b[36m\u001b[1mInfo: \u001b[22m\u001b[39m(262144.0, \"pions_samples_highStat\")\n",
      "\u001b[36m\u001b[1m[ \u001b[22m\u001b[39m\u001b[36m\u001b[1mInfo: \u001b[22m\u001b[39m(524288.0, \"pions_samples_highStat\")\n",
      "\u001b[36m\u001b[1m[ \u001b[22m\u001b[39m\u001b[36m\u001b[1mInfo: \u001b[22m\u001b[39m(1.048576e6, \"pions_samples_highStat\")\n",
      "\u001b[36m\u001b[1m[ \u001b[22m\u001b[39m\u001b[36m\u001b[1mInfo: \u001b[22m\u001b[39m(2.097152e6, \"pions_samples_highStat\")\n",
      "\u001b[36m\u001b[1m[ \u001b[22m\u001b[39m\u001b[36m\u001b[1mInfo: \u001b[22m\u001b[39m(4.194304e6, \"pions_samples_highStat\")\n"
     ]
    }
   ],
   "source": [
    "# datasetPerEnergyFromCSV(\"photons_samples_highStat\")\n",
    "datasetPerEnergyFromCSV(\"pions_samples_highStat\")"
   ]
  },
  {
   "cell_type": "code",
   "execution_count": null,
   "id": "a8e949e8-3cf4-465f-b0aa-90f642157c70",
   "metadata": {},
   "outputs": [],
   "source": [
    "# function createH5(; keyword = \"photon_samples\", enScale = 1.0, group1 = \"voxels\", group2 = \"energy\", group3=\"energy_from_voxels\")\n",
    "# #     files = readdir(pwd() * \"/15012/$(keyword)/\", join=true)\n",
    "#     files = readdir(\"/fast_scratch/QVAE/data/atlas/$(keyword)/\", join=true)\n",
    "#     ar = Array(CSV.read(files[1], DataFrame))\n",
    "#     en_in_file = parse(Float64, split(split(files[1], \"_eta_\")[1], \"_E\")[2])\n",
    "#     enInit = [en_in_file for i in 1:size(ar,1)]\n",
    "#     for file in files[2:end]\n",
    "#         @info file\n",
    "#         tmp = Array(CSV.read(file, DataFrame))\n",
    "# #         if file == pwd() * \"/15012/$(keyword)/pid22_E8192_eta_20_25_voxalisation.csv\" # Missing values in last event\n",
    "#         if file == \"/fast_scratch/QVAE/data/atlas/$(keyword)/pid22_E8192_eta_20_25_voxalisation.csv\" # Missing values in last event\n",
    "#             tmp = tmp[1:end-1,:]\n",
    "#         end\n",
    "#         ar = vcat(ar, tmp)\n",
    "#         en_in_file = parse(Float64, split(split(file, \"_eta_\")[1], \"_E\")[2])\n",
    "#         enInit = vcat(enInit, [en_in_file for i in 1:size(tmp,1)])\n",
    "#     end\n",
    "#     ar[typeof.(ar) .!= Float64] = parse.(Float64, ar[typeof.(ar) .!= Float64])\n",
    "#     ar = Array{Float64}(ar')\n",
    "# #     idx = randperm(size(ar,2))\n",
    "# #     ar = ar[:,idx]\n",
    "#     en = sum(ar, dims=1) #./ enScale\n",
    "# #     isdir(pwd() * \"/HDF5-files/\") || mkpath(pwd() * \"/HDF5-files/\")\n",
    "#     h5open(\"/fast_scratch/QVAE/data/atlas/$(keyword).hdf5\", \"w\") do file\n",
    "#         write(file, group1, ar)  # alternatively, say \"@write file A\"\n",
    "#         write(file, group2, reshape(enInit, 1,:))\n",
    "#         write(file, group3, en)\n",
    "#     end\n",
    "# end"
   ]
  },
  {
   "cell_type": "code",
   "execution_count": null,
   "id": "e43613e7-a78d-4286-a3ab-f0ba1a9fc9b6",
   "metadata": {},
   "outputs": [],
   "source": [
    "####################### Zenodo https://zenodo.org/record/6368338"
   ]
  },
  {
   "cell_type": "code",
   "execution_count": 4,
   "id": "1db365ea-2056-4a5b-8d46-4a0e7bade2c6",
   "metadata": {},
   "outputs": [
    {
     "data": {
      "text/plain": [
       "readHDF5Files (generic function with 3 methods)"
      ]
     },
     "execution_count": 4,
     "metadata": {},
     "output_type": "execute_result"
    }
   ],
   "source": [
    "function readHDF5Files(PATH=\"/raid/javier/Datasets/CaloVAE/data/atlas/\", FILENAME=\"dataset_1_photons_1.hdf5\")\n",
    "    path = PATH * FILENAME\n",
    "    data = h5open(path);\n",
    "    dataset = Dict()\n",
    "    for key in keys(data)\n",
    "        dataset[key] = h5read(path, key);\n",
    "    end\n",
    "    return dataset\n",
    "end"
   ]
  },
  {
   "cell_type": "code",
   "execution_count": 3,
   "id": "fa6e37c0-f31d-42e4-9622-2ea2856184b2",
   "metadata": {},
   "outputs": [
    {
     "data": {
      "text/plain": [
       "reparseData (generic function with 2 methods)"
      ]
     },
     "execution_count": 3,
     "metadata": {},
     "output_type": "execute_result"
    }
   ],
   "source": [
    "function reparseData(FILENAME, FILENAMETO, PATH=\"/fast_scratch/QVAE/data/atlas/\")\n",
    "    dataset = readHDF5Files(PATH, FILENAME)\n",
    "    totEn = sum(dataset[\"showers\"], dims=1)\n",
    "    h5open(PATH * FILENAMETO, \"w\") do file\n",
    "        write(file, \"voxels\", dataset[\"showers\"])\n",
    "        write(file, \"energy\", dataset[\"incident_energies\"])\n",
    "        write(file, \"energy_from_voxels\", totEn)\n",
    "    end\n",
    "end"
   ]
  },
  {
   "cell_type": "code",
   "execution_count": 10,
   "id": "6eddefbb-c992-4c47-8a96-629557c4e532",
   "metadata": {},
   "outputs": [
    {
     "data": {
      "text/plain": [
       "\"photons1.hdf5\""
      ]
     },
     "execution_count": 10,
     "metadata": {},
     "output_type": "execute_result"
    }
   ],
   "source": [
    "# reparseData(\"dataset_1_photons_1.hdf5\", \"photons1.hdf5\")"
   ]
  },
  {
   "cell_type": "code",
   "execution_count": 41,
   "id": "46efe4c5-2320-4237-a813-549948e8cc47",
   "metadata": {},
   "outputs": [],
   "source": [
    "PATH = \"/raid/javier/Datasets/CaloVAE/data/atlas/\"\n",
    "FILENAME = \"photons1.hdf5\"\n",
    "dataset = readHDF5Files(PATH, FILENAME);"
   ]
  },
  {
   "cell_type": "code",
   "execution_count": null,
   "id": "1e27e563-ae23-4d34-8b72-aa221ffc56f8",
   "metadata": {},
   "outputs": [],
   "source": [
    "#Split per Energy"
   ]
  },
  {
   "cell_type": "code",
   "execution_count": 42,
   "id": "365a37c3-21c9-4208-af0b-ae7f5c794344",
   "metadata": {},
   "outputs": [
    {
     "data": {
      "text/plain": [
       "datasetPerEnergy (generic function with 3 methods)"
      ]
     },
     "execution_count": 42,
     "metadata": {},
     "output_type": "execute_result"
    }
   ],
   "source": [
    "function datasetPerEnergy(PATH=\"/raid/javier/Datasets/CaloVAE/data/atlas/\", FILENAME=\"photons1.hdf5\")\n",
    "    dataset = readHDF5Files(PATH, FILENAME)\n",
    "    for energy in sort(unique(dataset[\"energy\"]))\n",
    "        idxForEnergy = findall(x->x == energy, dataset[\"energy\"][1,:])\n",
    "        ar = dataset[\"voxels\"][:,idxForEnergy]\n",
    "        en = dataset[\"energy\"][:,idxForEnergy]\n",
    "        enVox = dataset[\"energy_from_voxels\"][:,idxForEnergy]\n",
    "        logEnergy256 = Int(log2(energy/256))\n",
    "        FILENAMETO = split(FILENAME, \".\")[1] * \"_En_$(logEnergy256).hdf5\"\n",
    "        h5open(PATH * FILENAMETO, \"w\") do file\n",
    "            write(file, \"voxels\", ar)\n",
    "            write(file, \"energy\", en)\n",
    "            write(file, \"energy_from_voxels\", enVox)\n",
    "        end\n",
    "        @info size(idxForEnergy,1), FILENAMETO\n",
    "    end\n",
    "end"
   ]
  },
  {
   "cell_type": "code",
   "execution_count": 43,
   "id": "b7dab750-17b4-48ee-a5ae-45515277b0b6",
   "metadata": {},
   "outputs": [
    {
     "name": "stderr",
     "output_type": "stream",
     "text": [
      "\u001b[36m\u001b[1m[ \u001b[22m\u001b[39m\u001b[36m\u001b[1mInfo: \u001b[22m\u001b[39m(10000, \"pions1_En_0.hdf5\")\n",
      "\u001b[36m\u001b[1m[ \u001b[22m\u001b[39m\u001b[36m\u001b[1mInfo: \u001b[22m\u001b[39m(10000, \"pions1_En_1.hdf5\")\n",
      "\u001b[36m\u001b[1m[ \u001b[22m\u001b[39m\u001b[36m\u001b[1mInfo: \u001b[22m\u001b[39m(10000, \"pions1_En_2.hdf5\")\n",
      "\u001b[36m\u001b[1m[ \u001b[22m\u001b[39m\u001b[36m\u001b[1mInfo: \u001b[22m\u001b[39m(10000, \"pions1_En_3.hdf5\")\n",
      "\u001b[36m\u001b[1m[ \u001b[22m\u001b[39m\u001b[36m\u001b[1mInfo: \u001b[22m\u001b[39m(10000, \"pions1_En_4.hdf5\")\n",
      "\u001b[36m\u001b[1m[ \u001b[22m\u001b[39m\u001b[36m\u001b[1mInfo: \u001b[22m\u001b[39m(10000, \"pions1_En_5.hdf5\")\n",
      "\u001b[36m\u001b[1m[ \u001b[22m\u001b[39m\u001b[36m\u001b[1mInfo: \u001b[22m\u001b[39m(10000, \"pions1_En_6.hdf5\")\n",
      "\u001b[36m\u001b[1m[ \u001b[22m\u001b[39m\u001b[36m\u001b[1mInfo: \u001b[22m\u001b[39m(10000, \"pions1_En_7.hdf5\")\n",
      "\u001b[36m\u001b[1m[ \u001b[22m\u001b[39m\u001b[36m\u001b[1mInfo: \u001b[22m\u001b[39m(10000, \"pions1_En_8.hdf5\")\n",
      "\u001b[36m\u001b[1m[ \u001b[22m\u001b[39m\u001b[36m\u001b[1mInfo: \u001b[22m\u001b[39m(10000, \"pions1_En_9.hdf5\")\n",
      "\u001b[36m\u001b[1m[ \u001b[22m\u001b[39m\u001b[36m\u001b[1mInfo: \u001b[22m\u001b[39m(10000, \"pions1_En_10.hdf5\")\n",
      "\u001b[36m\u001b[1m[ \u001b[22m\u001b[39m\u001b[36m\u001b[1mInfo: \u001b[22m\u001b[39m(5000, \"pions1_En_11.hdf5\")\n",
      "\u001b[36m\u001b[1m[ \u001b[22m\u001b[39m\u001b[36m\u001b[1mInfo: \u001b[22m\u001b[39m(3000, \"pions1_En_12.hdf5\")\n",
      "\u001b[36m\u001b[1m[ \u001b[22m\u001b[39m\u001b[36m\u001b[1mInfo: \u001b[22m\u001b[39m(2000, \"pions1_En_13.hdf5\")\n",
      "\u001b[36m\u001b[1m[ \u001b[22m\u001b[39m\u001b[36m\u001b[1mInfo: \u001b[22m\u001b[39m(230, \"pions1_En_14.hdf5\")\n"
     ]
    }
   ],
   "source": [
    "PATH = \"/raid/javier/Datasets/CaloVAE/data/atlas/\"\n",
    "FILENAME = \"pions1.hdf5\"\n",
    "datasetPerEnergy(PATH, FILENAME)"
   ]
  },
  {
   "cell_type": "code",
   "execution_count": null,
   "id": "f03d1a9b-7182-450c-8488-ffb0790be44f",
   "metadata": {},
   "outputs": [],
   "source": []
  }
 ],
 "metadata": {
  "kernelspec": {
   "display_name": "Julia 1.9.0",
   "language": "julia",
   "name": "julia-1.9"
  },
  "language_info": {
   "file_extension": ".jl",
   "mimetype": "application/julia",
   "name": "julia",
   "version": "1.9.0"
  }
 },
 "nbformat": 4,
 "nbformat_minor": 5
}
