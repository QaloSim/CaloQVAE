{
 "cells": [
  {
   "cell_type": "code",
   "execution_count": 1,
   "id": "3d0842d8-c861-4696-a0cd-adde2f4cba55",
   "metadata": {},
   "outputs": [],
   "source": [
    "# tar -xvzf /path/to/yourfile.tgz -C /path/where/to/extract/\n",
    "# tar -xvzf /home/jtoledo/ATLAS-dataset/15012/photon_samples.tgz -C ./photon_samples/\n",
    "using CSV, DataFrames, Plots, Statistics, HDF5, Random"
   ]
  },
  {
   "cell_type": "code",
   "execution_count": null,
   "id": "e43613e7-a78d-4286-a3ab-f0ba1a9fc9b6",
   "metadata": {},
   "outputs": [],
   "source": [
    "####################### Zenodo https://zenodo.org/record/6368338"
   ]
  },
  {
   "cell_type": "code",
   "execution_count": 4,
   "id": "1db365ea-2056-4a5b-8d46-4a0e7bade2c6",
   "metadata": {},
   "outputs": [
    {
     "data": {
      "text/plain": [
       "readHDF5Files (generic function with 3 methods)"
      ]
     },
     "execution_count": 4,
     "metadata": {},
     "output_type": "execute_result"
    }
   ],
   "source": [
    "function readHDF5Files(PATH=\"/raid/javier/Datasets/CaloVAE/data/atlas/\", FILENAME=\"dataset_1_photons_1.hdf5\")\n",
    "    path = PATH * FILENAME\n",
    "    data = h5open(path);\n",
    "    dataset = Dict()\n",
    "    for key in keys(data)\n",
    "        dataset[key] = h5read(path, key);\n",
    "    end\n",
    "    return dataset\n",
    "end"
   ]
  },
  {
   "cell_type": "code",
   "execution_count": 3,
   "id": "fa6e37c0-f31d-42e4-9622-2ea2856184b2",
   "metadata": {},
   "outputs": [
    {
     "data": {
      "text/plain": [
       "reparseData (generic function with 2 methods)"
      ]
     },
     "execution_count": 3,
     "metadata": {},
     "output_type": "execute_result"
    }
   ],
   "source": [
    "function reparseData(FILENAME, FILENAMETO, PATH=\"/fast_scratch/QVAE/data/atlas/\")\n",
    "    dataset = readHDF5Files(PATH, FILENAME)\n",
    "    totEn = sum(dataset[\"showers\"], dims=1)\n",
    "    h5open(PATH * FILENAMETO, \"w\") do file\n",
    "        write(file, \"voxels\", dataset[\"showers\"])\n",
    "        write(file, \"energy\", dataset[\"incident_energies\"])\n",
    "        write(file, \"energy_from_voxels\", totEn)\n",
    "    end\n",
    "end"
   ]
  },
  {
   "cell_type": "code",
   "execution_count": 10,
   "id": "6eddefbb-c992-4c47-8a96-629557c4e532",
   "metadata": {},
   "outputs": [
    {
     "data": {
      "text/plain": [
       "\"photons1.hdf5\""
      ]
     },
     "execution_count": 10,
     "metadata": {},
     "output_type": "execute_result"
    }
   ],
   "source": [
    "# reparseData(\"dataset_1_photons_1.hdf5\", \"photons1.hdf5\")"
   ]
  },
  {
   "cell_type": "code",
   "execution_count": 41,
   "id": "46efe4c5-2320-4237-a813-549948e8cc47",
   "metadata": {},
   "outputs": [],
   "source": [
    "PATH = \"/raid/javier/Datasets/CaloVAE/data/atlas/\"\n",
    "FILENAME = \"photons1.hdf5\"\n",
    "dataset = readHDF5Files(PATH, FILENAME);"
   ]
  },
  {
   "cell_type": "code",
   "execution_count": null,
   "id": "1e27e563-ae23-4d34-8b72-aa221ffc56f8",
   "metadata": {},
   "outputs": [],
   "source": [
    "#Split per Energy"
   ]
  },
  {
   "cell_type": "code",
   "execution_count": 42,
   "id": "365a37c3-21c9-4208-af0b-ae7f5c794344",
   "metadata": {},
   "outputs": [
    {
     "data": {
      "text/plain": [
       "datasetPerEnergy (generic function with 3 methods)"
      ]
     },
     "execution_count": 42,
     "metadata": {},
     "output_type": "execute_result"
    }
   ],
   "source": [
    "function datasetPerEnergy(PATH=\"/raid/javier/Datasets/CaloVAE/data/atlas/\", FILENAME=\"photons1.hdf5\")\n",
    "    dataset = readHDF5Files(PATH, FILENAME)\n",
    "    for energy in sort(unique(dataset[\"energy\"]))\n",
    "        idxForEnergy = findall(x->x == energy, dataset[\"energy\"][1,:])\n",
    "        ar = dataset[\"voxels\"][:,idxForEnergy]\n",
    "        en = dataset[\"energy\"][:,idxForEnergy]\n",
    "        enVox = dataset[\"energy_from_voxels\"][:,idxForEnergy]\n",
    "        logEnergy256 = Int(log2(energy/256))\n",
    "        FILENAMETO = split(FILENAME, \".\")[1] * \"_En_$(logEnergy256).hdf5\"\n",
    "        h5open(PATH * FILENAMETO, \"w\") do file\n",
    "            write(file, \"voxels\", ar)\n",
    "            write(file, \"energy\", en)\n",
    "            write(file, \"energy_from_voxels\", enVox)\n",
    "        end\n",
    "        @info size(idxForEnergy,1), FILENAMETO\n",
    "    end\n",
    "end"
   ]
  },
  {
   "cell_type": "code",
   "execution_count": 43,
   "id": "b7dab750-17b4-48ee-a5ae-45515277b0b6",
   "metadata": {},
   "outputs": [
    {
     "name": "stderr",
     "output_type": "stream",
     "text": [
      "\u001b[36m\u001b[1m[ \u001b[22m\u001b[39m\u001b[36m\u001b[1mInfo: \u001b[22m\u001b[39m(10000, \"pions1_En_0.hdf5\")\n",
      "\u001b[36m\u001b[1m[ \u001b[22m\u001b[39m\u001b[36m\u001b[1mInfo: \u001b[22m\u001b[39m(10000, \"pions1_En_1.hdf5\")\n",
      "\u001b[36m\u001b[1m[ \u001b[22m\u001b[39m\u001b[36m\u001b[1mInfo: \u001b[22m\u001b[39m(10000, \"pions1_En_2.hdf5\")\n",
      "\u001b[36m\u001b[1m[ \u001b[22m\u001b[39m\u001b[36m\u001b[1mInfo: \u001b[22m\u001b[39m(10000, \"pions1_En_3.hdf5\")\n",
      "\u001b[36m\u001b[1m[ \u001b[22m\u001b[39m\u001b[36m\u001b[1mInfo: \u001b[22m\u001b[39m(10000, \"pions1_En_4.hdf5\")\n",
      "\u001b[36m\u001b[1m[ \u001b[22m\u001b[39m\u001b[36m\u001b[1mInfo: \u001b[22m\u001b[39m(10000, \"pions1_En_5.hdf5\")\n",
      "\u001b[36m\u001b[1m[ \u001b[22m\u001b[39m\u001b[36m\u001b[1mInfo: \u001b[22m\u001b[39m(10000, \"pions1_En_6.hdf5\")\n",
      "\u001b[36m\u001b[1m[ \u001b[22m\u001b[39m\u001b[36m\u001b[1mInfo: \u001b[22m\u001b[39m(10000, \"pions1_En_7.hdf5\")\n",
      "\u001b[36m\u001b[1m[ \u001b[22m\u001b[39m\u001b[36m\u001b[1mInfo: \u001b[22m\u001b[39m(10000, \"pions1_En_8.hdf5\")\n",
      "\u001b[36m\u001b[1m[ \u001b[22m\u001b[39m\u001b[36m\u001b[1mInfo: \u001b[22m\u001b[39m(10000, \"pions1_En_9.hdf5\")\n",
      "\u001b[36m\u001b[1m[ \u001b[22m\u001b[39m\u001b[36m\u001b[1mInfo: \u001b[22m\u001b[39m(10000, \"pions1_En_10.hdf5\")\n",
      "\u001b[36m\u001b[1m[ \u001b[22m\u001b[39m\u001b[36m\u001b[1mInfo: \u001b[22m\u001b[39m(5000, \"pions1_En_11.hdf5\")\n",
      "\u001b[36m\u001b[1m[ \u001b[22m\u001b[39m\u001b[36m\u001b[1mInfo: \u001b[22m\u001b[39m(3000, \"pions1_En_12.hdf5\")\n",
      "\u001b[36m\u001b[1m[ \u001b[22m\u001b[39m\u001b[36m\u001b[1mInfo: \u001b[22m\u001b[39m(2000, \"pions1_En_13.hdf5\")\n",
      "\u001b[36m\u001b[1m[ \u001b[22m\u001b[39m\u001b[36m\u001b[1mInfo: \u001b[22m\u001b[39m(230, \"pions1_En_14.hdf5\")\n"
     ]
    }
   ],
   "source": [
    "PATH = \"/raid/javier/Datasets/CaloVAE/data/atlas/\"\n",
    "FILENAME = \"pions1.hdf5\"\n",
    "datasetPerEnergy(PATH, FILENAME)"
   ]
  },
  {
   "cell_type": "code",
   "execution_count": null,
   "id": "f03d1a9b-7182-450c-8488-ffb0790be44f",
   "metadata": {},
   "outputs": [],
   "source": []
  }
 ],
 "metadata": {
  "kernelspec": {
   "display_name": "Julia 1.9.2",
   "language": "julia",
   "name": "julia-1.9"
  },
  "language_info": {
   "file_extension": ".jl",
   "mimetype": "application/julia",
   "name": "julia",
   "version": "1.9.2"
  }
 },
 "nbformat": 4,
 "nbformat_minor": 5
}
