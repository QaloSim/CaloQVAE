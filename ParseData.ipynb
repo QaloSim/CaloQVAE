{
 "cells": [
  {
   "cell_type": "code",
   "execution_count": 1,
   "id": "87d18fb7",
   "metadata": {},
   "outputs": [],
   "source": [
    "# tar -xvzf /path/to/yourfile.tgz -C /path/where/to/extract/\n",
    "# tar -xvzf /home/jtoledo/ATLAS-dataset/15012/photon_samples.tgz -C ./photon_samples/\n",
    "using CSV, DataFrames, Plots, Statistics, HDF5, Random"
   ]
  },
  {
   "cell_type": "code",
   "execution_count": null,
   "id": "1cee8599",
   "metadata": {},
   "outputs": [],
   "source": [
    "####################### Zenodo https://zenodo.org/record/6368338"
   ]
  },
  {
   "cell_type": "code",
   "execution_count": 4,
   "id": "56d47cb6",
   "metadata": {},
   "outputs": [
    {
     "data": {
      "text/plain": [
       "readHDF5Files (generic function with 3 methods)"
      ]
     },
     "execution_count": 4,
     "metadata": {},
     "output_type": "execute_result"
    }
   ],
   "source": [
    "function readHDF5Files(PATH=\"/raid/javier/Datasets/CaloVAE/data/atlas/\", FILENAME=\"dataset_1_photons_1.hdf5\")\n",
    "    path = PATH * FILENAME\n",
    "    data = h5open(path);\n",
    "    dataset = Dict()\n",
    "    for key in keys(data)\n",
    "        dataset[key] = h5read(path, key);\n",
    "    end\n",
    "    return dataset\n",
    "end"
   ]
  },
  {
   "cell_type": "code",
   "execution_count": 3,
   "id": "beca67a0",
   "metadata": {},
   "outputs": [
    {
     "data": {
      "text/plain": [
       "reparseData (generic function with 2 methods)"
      ]
     },
     "execution_count": 3,
     "metadata": {},
     "output_type": "execute_result"
    }
   ],
   "source": [
    "function reparseData(FILENAME, FILENAMETO, PATH=\"/fast_scratch/QVAE/data/atlas/\")\n",
    "    dataset = readHDF5Files(PATH, FILENAME)\n",
    "    totEn = sum(dataset[\"showers\"], dims=1)\n",
    "    h5open(PATH * FILENAMETO, \"w\") do file\n",
    "        write(file, \"voxels\", dataset[\"showers\"])\n",
    "        write(file, \"energy\", dataset[\"incident_energies\"])\n",
    "        write(file, \"energy_from_voxels\", totEn)\n",
    "    end\n",
    "end"
   ]
  },
  {
   "cell_type": "code",
   "execution_count": 10,
   "id": "8f42e415",
   "metadata": {},
   "outputs": [
    {
     "data": {
      "text/plain": [
       "\"photons1.hdf5\""
      ]
     },
     "execution_count": 10,
     "metadata": {},
     "output_type": "execute_result"
    }
   ],
   "source": [
    "# reparseData(\"dataset_1_photons_1.hdf5\", \"photons1.hdf5\")"
   ]
  },
  {
   "cell_type": "code",
   "execution_count": 41,
   "id": "76acfa68",
   "metadata": {},
   "outputs": [],
   "source": [
    "PATH = \"/raid/javier/Datasets/CaloVAE/data/atlas/\"\n",
    "FILENAME = \"photons1.hdf5\"\n",
    "dataset = readHDF5Files(PATH, FILENAME);"
   ]
  },
  {
   "cell_type": "code",
   "execution_count": null,
   "id": "6c75987e",
   "metadata": {},
   "outputs": [],
   "source": [
    "#Split per Energy"
   ]
  },
  {
   "cell_type": "code",
   "execution_count": 42,
   "id": "fd20de03",
   "metadata": {},
   "outputs": [
    {
     "data": {
      "text/plain": [
       "datasetPerEnergy (generic function with 3 methods)"
      ]
     },
     "execution_count": 42,
     "metadata": {},
     "output_type": "execute_result"
    }
   ],
   "source": [
    "function datasetPerEnergy(PATH=\"/raid/javier/Datasets/CaloVAE/data/atlas/\", FILENAME=\"photons1.hdf5\")\n",
    "    dataset = readHDF5Files(PATH, FILENAME)\n",
    "    for energy in sort(unique(dataset[\"energy\"]))\n",
    "        idxForEnergy = findall(x->x == energy, dataset[\"energy\"][1,:])\n",
    "        ar = dataset[\"voxels\"][:,idxForEnergy]\n",
    "        en = dataset[\"energy\"][:,idxForEnergy]\n",
    "        enVox = dataset[\"energy_from_voxels\"][:,idxForEnergy]\n",
    "        logEnergy256 = Int(log2(energy/256))\n",
    "        FILENAMETO = split(FILENAME, \".\")[1] * \"_En_$(logEnergy256).hdf5\"\n",
    "        h5open(PATH * FILENAMETO, \"w\") do file\n",
    "            write(file, \"voxels\", ar)\n",
    "            write(file, \"energy\", en)\n",
    "            write(file, \"energy_from_voxels\", enVox)\n",
    "        end\n",
    "        @info size(idxForEnergy,1), FILENAMETO\n",
    "    end\n",
    "end"
   ]
  },
  {
   "cell_type": "code",
   "execution_count": 43,
   "id": "cb0d2f5d",
   "metadata": {},
   "outputs": [
    {
     "name": "stderr",
     "output_type": "stream",
     "text": [
      "\u001b[36m\u001b[1m[ \u001b[22m\u001b[39m\u001b[36m\u001b[1mInfo: \u001b[22m\u001b[39m(10000, \"pions1_En_0.hdf5\")\n",
      "\u001b[36m\u001b[1m[ \u001b[22m\u001b[39m\u001b[36m\u001b[1mInfo: \u001b[22m\u001b[39m(10000, \"pions1_En_1.hdf5\")\n",
      "\u001b[36m\u001b[1m[ \u001b[22m\u001b[39m\u001b[36m\u001b[1mInfo: \u001b[22m\u001b[39m(10000, \"pions1_En_2.hdf5\")\n",
      "\u001b[36m\u001b[1m[ \u001b[22m\u001b[39m\u001b[36m\u001b[1mInfo: \u001b[22m\u001b[39m(10000, \"pions1_En_3.hdf5\")\n",
      "\u001b[36m\u001b[1m[ \u001b[22m\u001b[39m\u001b[36m\u001b[1mInfo: \u001b[22m\u001b[39m(10000, \"pions1_En_4.hdf5\")\n",
      "\u001b[36m\u001b[1m[ \u001b[22m\u001b[39m\u001b[36m\u001b[1mInfo: \u001b[22m\u001b[39m(10000, \"pions1_En_5.hdf5\")\n",
      "\u001b[36m\u001b[1m[ \u001b[22m\u001b[39m\u001b[36m\u001b[1mInfo: \u001b[22m\u001b[39m(10000, \"pions1_En_6.hdf5\")\n",
      "\u001b[36m\u001b[1m[ \u001b[22m\u001b[39m\u001b[36m\u001b[1mInfo: \u001b[22m\u001b[39m(10000, \"pions1_En_7.hdf5\")\n",
      "\u001b[36m\u001b[1m[ \u001b[22m\u001b[39m\u001b[36m\u001b[1mInfo: \u001b[22m\u001b[39m(10000, \"pions1_En_8.hdf5\")\n",
      "\u001b[36m\u001b[1m[ \u001b[22m\u001b[39m\u001b[36m\u001b[1mInfo: \u001b[22m\u001b[39m(10000, \"pions1_En_9.hdf5\")\n",
      "\u001b[36m\u001b[1m[ \u001b[22m\u001b[39m\u001b[36m\u001b[1mInfo: \u001b[22m\u001b[39m(10000, \"pions1_En_10.hdf5\")\n",
      "\u001b[36m\u001b[1m[ \u001b[22m\u001b[39m\u001b[36m\u001b[1mInfo: \u001b[22m\u001b[39m(5000, \"pions1_En_11.hdf5\")\n",
      "\u001b[36m\u001b[1m[ \u001b[22m\u001b[39m\u001b[36m\u001b[1mInfo: \u001b[22m\u001b[39m(3000, \"pions1_En_12.hdf5\")\n",
      "\u001b[36m\u001b[1m[ \u001b[22m\u001b[39m\u001b[36m\u001b[1mInfo: \u001b[22m\u001b[39m(2000, \"pions1_En_13.hdf5\")\n",
      "\u001b[36m\u001b[1m[ \u001b[22m\u001b[39m\u001b[36m\u001b[1mInfo: \u001b[22m\u001b[39m(230, \"pions1_En_14.hdf5\")\n"
     ]
    }
   ],
   "source": [
    "PATH = \"/raid/javier/Datasets/CaloVAE/data/atlas/\"\n",
    "FILENAME = \"pions1.hdf5\"\n",
    "datasetPerEnergy(PATH, FILENAME)"
   ]
  },
  {
   "cell_type": "code",
   "execution_count": null,
   "id": "ff7b2da3",
   "metadata": {},
   "outputs": [],
   "source": []
  }
 ],
 "metadata": {
  "kernelspec": {
   "display_name": "Python 3 (ipykernel)",
   "language": "python",
   "name": "python3"
  },
  "language_info": {
   "codemirror_mode": {
    "name": "ipython",
    "version": 3
   },
   "file_extension": ".py",
   "mimetype": "text/x-python",
   "name": "python",
   "nbconvert_exporter": "python",
   "pygments_lexer": "ipython3",
   "version": "3.8.10"
  }
 },
 "nbformat": 4,
 "nbformat_minor": 5
}
